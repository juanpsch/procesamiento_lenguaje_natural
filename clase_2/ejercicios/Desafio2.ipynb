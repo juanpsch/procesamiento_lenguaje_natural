{
 "cells": [
  {
   "cell_type": "markdown",
   "metadata": {
    "id": "NV8wZ0MTKjv_"
   },
   "source": [
    "<img src=\"https://github.com/hernancontigiani/ceia_memorias_especializacion/raw/master/Figures/logoFIUBA.jpg\" width=\"500\" align=\"center\">\n",
    "\n",
    "\n",
    "# Procesamiento de lenguaje natural\n",
    "## Bot de consulta abierta y respuestas predeterminadas con DNN + Spacy"
   ]
  },
  {
   "cell_type": "markdown",
   "metadata": {
    "id": "Z_9z3H-yKrcK"
   },
   "source": [
    "#### DESAFÍO 2\n",
    "Se intenta crear un bot que responda a reclamos de clientes de un delivery de comidas\n"
   ]
  },
  {
   "cell_type": "markdown",
   "metadata": {
    "id": "oCVZakCzAjGN"
   },
   "source": [
    "### 1 - Instalar dependencias\n",
    "Para poder utilizar Spacy en castellano es necesario agregar la librería \"spacy-stanza\" para lematizar palabras en español."
   ]
  },
  {
   "cell_type": "code",
   "execution_count": 1,
   "metadata": {
    "executionInfo": {
     "elapsed": 497,
     "status": "ok",
     "timestamp": 1656417927489,
     "user": {
      "displayName": "Hernán Contigiani",
      "userId": "01142101934719343059"
     },
     "user_tz": 180
    },
    "id": "kzao7XO9NJAq"
   },
   "outputs": [],
   "source": [
    "import json\n",
    "import string\n",
    "import random \n",
    "import numpy as np\n",
    "\n",
    "import matplotlib.pyplot as plt\n",
    "import seaborn as sns\n",
    "\n",
    "import torch\n",
    "import torch.nn.functional as F\n",
    "import torch.nn as nn\n",
    "from torch.utils.data import Dataset, DataLoader\n",
    "\n",
    "import torchsummary"
   ]
  },
  {
   "cell_type": "code",
   "execution_count": 3,
   "metadata": {
    "colab": {
     "base_uri": "https://localhost:8080/",
     "height": 463,
     "referenced_widgets": [
      "2e1491f09b1d4d83aa23f9e048f12549",
      "318284ecca2048b3ac6f4fdb62d62d66",
      "65463115440c45d48e3367298a1c3173",
      "17d1a7147abd43c98f9519a914028b3a",
      "752b24a570d14bc198ab4fc44d35d39e",
      "ff2691c1fb714279bd03a28fda9252a6",
      "c20de27ec6b4450dbb1a7df4f208a89c",
      "71bd5ed6192b4c99969afc81d3873292",
      "acea3df585d042c1a8ee0416cda3e283",
      "45efd8b1dc4e476e91c6c1b2d95a685e",
      "52862d780e66465db8dea872b33e912d",
      "28646eec34a843de818b6693e9c6d341",
      "5fef8dc909834f8ea1cb2dc92dad353c",
      "a70c05f499214f229bc2216041af3bc6",
      "d3f53a10da4e479e9cf8569a2cb922ae",
      "2085f017f7bd4edea914d77864d8e857",
      "02e0f9329403449abcec9511e0adf222",
      "17aa0034e7e9403c8e0e23d10242a82e",
      "4291c806ae8348508bd38933f56230af",
      "1935d7a1124e4da0b4fe833eea463e1c",
      "8b9903ed978a4db2899f61f747011173",
      "9f8ac2f26e9648dd9a7befff9b6b1e10"
     ]
    },
    "executionInfo": {
     "elapsed": 103870,
     "status": "ok",
     "timestamp": 1656417327563,
     "user": {
      "displayName": "Hernán Contigiani",
      "userId": "01142101934719343059"
     },
     "user_tz": 180
    },
    "id": "Z_ExOb8uvjqK",
    "outputId": "95283057-c650-4a3a-d3bc-903569295326"
   },
   "outputs": [
    {
     "data": {
      "application/vnd.jupyter.widget-view+json": {
       "model_id": "0c60ca9c9b4d4493a0179d4114c410c7",
       "version_major": 2,
       "version_minor": 0
      },
      "text/plain": [
       "Downloading https://raw.githubusercontent.com/stanfordnlp/stanza-resources/main/resources_1.2.2.json:   0%|   …"
      ]
     },
     "metadata": {},
     "output_type": "display_data"
    },
    {
     "name": "stderr",
     "output_type": "stream",
     "text": [
      "2023-07-28 11:24:44 INFO: Downloading default packages for language: es (Spanish)...\n",
      "2023-07-28 11:24:50 INFO: File exists: D:\\Users\\juanp_schamun\\stanza_resources\\es\\default.zip.\n",
      "2023-07-28 11:24:57 INFO: Finished downloading models and saved to D:\\Users\\juanp_schamun\\stanza_resources.\n",
      "2023-07-28 11:25:00 INFO: Loading these models for language: es (Spanish):\n",
      "=======================\n",
      "| Processor | Package |\n",
      "-----------------------\n",
      "| tokenize  | ancora  |\n",
      "| mwt       | ancora  |\n",
      "| pos       | ancora  |\n",
      "| lemma     | ancora  |\n",
      "| depparse  | ancora  |\n",
      "| ner       | conll02 |\n",
      "=======================\n",
      "\n",
      "2023-07-28 11:25:00 INFO: Use device: cpu\n",
      "2023-07-28 11:25:00 INFO: Loading: tokenize\n",
      "2023-07-28 11:25:10 INFO: Loading: mwt\n",
      "2023-07-28 11:25:11 INFO: Loading: pos\n",
      "2023-07-28 11:25:12 INFO: Loading: lemma\n",
      "2023-07-28 11:25:12 INFO: Loading: depparse\n",
      "2023-07-28 11:25:12 INFO: Loading: ner\n",
      "2023-07-28 11:25:14 INFO: Done loading processors!\n"
     ]
    }
   ],
   "source": [
    "import stanza\n",
    "import spacy_stanza\n",
    "\n",
    "# Vamos a usar SpaCy-Stanza. Stanza es una librería de NLP de Stanford\n",
    "# SpaCy armó un wrapper para los pipelines y modelos de Stanza\n",
    "# https://stanfordnlp.github.io/stanza/\n",
    "\n",
    "# Descargar el diccionario en español y armar el pipeline de NLP con spacy\n",
    "stanza.download(\"es\")\n",
    "nlp = spacy_stanza.load_pipeline(\"es\")"
   ]
  },
  {
   "cell_type": "markdown",
   "metadata": {
    "id": "_wF10RjVMBdV"
   },
   "source": [
    "### 2 - Herramientas de preprocesamiento de datos\n",
    "Entre las tareas de procesamiento de texto en español se implementa:\n",
    "- Quitar acentos y caracteres especiales\n",
    "- Quitar números\n",
    "- Quitar símbolos de puntuación"
   ]
  },
  {
   "cell_type": "code",
   "execution_count": 4,
   "metadata": {
    "executionInfo": {
     "elapsed": 18,
     "status": "ok",
     "timestamp": 1656417327565,
     "user": {
      "displayName": "Hernán Contigiani",
      "userId": "01142101934719343059"
     },
     "user_tz": 180
    },
    "id": "ZxoD2hEExmuX"
   },
   "outputs": [],
   "source": [
    "import re\n",
    "import unicodedata\n",
    "\n",
    "# El preprocesamento en castellano requiere más trabajo\n",
    "\n",
    "# Referencia de regex:\n",
    "# https://docs.python.org/3/library/re.html\n",
    "\n",
    "def preprocess_clean_text(text):    \n",
    "    # sacar tildes de las palabras\n",
    "    text = unicodedata.normalize('NFKD', text).encode('ascii', 'ignore').decode('utf-8', 'ignore')\n",
    "    # quitar caracteres especiales\n",
    "    pattern = r'[^a-zA-z0-9.,!?/:;\\\"\\'\\s]' \n",
    "    text = re.sub(pattern, '', text)\n",
    "    pattern = r'[^a-zA-z.,!?/:;\\\"\\'\\s]' \n",
    "    # quitar números\n",
    "    text = re.sub(pattern, '', text)\n",
    "    # quitar caracteres de puntiación\n",
    "    text = ''.join([c for c in text if c not in string.punctuation])\n",
    "    return text"
   ]
  },
  {
   "cell_type": "markdown",
   "metadata": {
    "id": "ilRbn0KfMm2r"
   },
   "source": [
    "### 3 - Diccionario de entrada"
   ]
  },
  {
   "cell_type": "code",
   "execution_count": 43,
   "metadata": {
    "executionInfo": {
     "elapsed": 10,
     "status": "ok",
     "timestamp": 1656417328132,
     "user": {
      "displayName": "Hernán Contigiani",
      "userId": "01142101934719343059"
     },
     "user_tz": 180
    },
    "id": "NgIGpjymNEH7"
   },
   "outputs": [],
   "source": [
    "# Dataset en formato JSON que representa las posibles preguntas (patterns)\n",
    "# y las posibles respuestas por categoría (tag)\n",
    "dataset = {\"intents\": [\n",
    "             {\"tag\": \"bienvenida\",\n",
    "              \"patterns\": [\"Hola\", \"¿Cómo estás?\", \"¿Qué tal?\", \"Buenas\"],\n",
    "              \"responses\": [\"Hola!\", \"Buenas\", \"¿Como te va?\"],\n",
    "             },\n",
    "             {\"tag\": \"ayuda\",\n",
    "              \"patterns\": [\"Necesito ayuda?\", \"Tengo un problema\", \"¿Me haces un favor?\", \"¿Podrian ayudarme?\"],\n",
    "              \"responses\": [\"Decime en que puedo ayudarte\", \"¿Cual es tu inconveniente?\", \"Si, decime...\"]\n",
    "             },\n",
    "            {\"tag\": \"Envio_demorado\",\n",
    "              \"patterns\": [\"No me llego mi pedido\", \"Estoy esperando un envio\", \"Mi pedido esta demorado\", \"¿Cuando llega lo que pedi?\"],\n",
    "              \"responses\": [\"Para revizar necesito el numero de envio\", \"Pasame el numero de envio, por favor\"]\n",
    "             },\n",
    "            {\"tag\": \"Producto_con_problemas\",\n",
    "              \"patterns\": [\"Mi pedido llego en mal estado\", \"La comida esta fria\", \"Me faltan cosas en el paquete\", \"Faltan cosas en el envio\"],\n",
    "              \"responses\": [\"Decime por favor el detalle de lo que te llego\", \"¿Que contiene el envio que recibiste?\"]\n",
    "             },\n",
    "            {\"tag\": \"Mal_trato\",\n",
    "              \"patterns\": [\"Me trataron mal\", \"El chico me contesto mal\", \"Me insultaron\"],\n",
    "              \"responses\": [\"¿Me podrias describir la situacion?\", \"¿Como fue?\", \"¿Que te dijeron?\"]\n",
    "             },\n",
    "            {\"tag\": \"mal_cobro\",\n",
    "              \"patterns\": [\"Creo que me cobraron de mas\", \"No me dieron mi vuelto\", \"Me tienen que devolver dinero\"],\n",
    "              \"responses\": [\"¿Que medio de pago utilizaste?\", \"¿Decime el numero de factura por favor?\"]\n",
    "             },            \n",
    "            {\"tag\": \"agradecimientos\",\n",
    "              \"patterns\": [ \"Muchas gracias\", \"Gracias\"],\n",
    "              \"responses\": [\"Por nada!, cualquier otra consulta podes escribirme\", \"No, gracias a vos!\"]\n",
    "             },\n",
    "             {\"tag\": \"despedida\",\n",
    "              \"patterns\": [ \"Chau\", \"Hasta luego!\"],\n",
    "              \"responses\": [\"Hasta luego!\", \"Hablamos luego!\", \"Gracias por contactarnos\"]\n",
    "             }\n",
    "]}"
   ]
  },
  {
   "cell_type": "markdown",
   "metadata": {
    "id": "19PEDmIDfLRu"
   },
   "source": [
    "### 4 - Preprocesamiento y armado del dataset"
   ]
  },
  {
   "cell_type": "code",
   "execution_count": 44,
   "metadata": {
    "executionInfo": {
     "elapsed": 2963,
     "status": "ok",
     "timestamp": 1656417331087,
     "user": {
      "displayName": "Hernán Contigiani",
      "userId": "01142101934719343059"
     },
     "user_tz": 180
    },
    "id": "b3HP8abHNRk3"
   },
   "outputs": [],
   "source": [
    "# Datos que necesitaremos, las palabras o vocabilario\n",
    "words = []\n",
    "classes = []\n",
    "doc_X = []\n",
    "doc_y = []\n",
    "\n",
    "# Por cada intención (intents) debemos tomar los patrones que la caracterízan\n",
    "# a esa intención y transformarla a tokens para lamacenar en doc_X\n",
    "\n",
    "# El tag de cada intención se almacena como doc_Y (la clase a predecir)\n",
    "\n",
    "for intent in dataset[\"intents\"]:\n",
    "    for pattern in intent[\"patterns\"]:\n",
    "        # trasformar el patron a tokens\n",
    "        tokens = nlp(preprocess_clean_text(pattern.lower()))\n",
    "        # lematizar los tokens\n",
    "        for token in tokens:            \n",
    "            words.append(token.lemma_)\n",
    "        \n",
    "        doc_X.append(pattern)\n",
    "        doc_y.append(intent[\"tag\"])\n",
    "    \n",
    "    # Agregar el tag a las clases\n",
    "    if intent[\"tag\"] not in classes:\n",
    "        classes.append(intent[\"tag\"])\n",
    "\n",
    "# Elminar duplicados con \"set\" y ordenar el vocubulario y las clases por orden alfabético\n",
    "words = sorted(set(words))\n",
    "classes = sorted(set(classes))"
   ]
  },
  {
   "cell_type": "code",
   "execution_count": 45,
   "metadata": {
    "colab": {
     "base_uri": "https://localhost:8080/"
    },
    "executionInfo": {
     "elapsed": 21,
     "status": "ok",
     "timestamp": 1656417331088,
     "user": {
      "displayName": "Hernán Contigiani",
      "userId": "01142101934719343059"
     },
     "user_tz": 180
    },
    "id": "Acy-gcugNbMH",
    "outputId": "bee6f2cd-cf56-475a-e81a-9045c2ac13b6"
   },
   "outputs": [
    {
     "name": "stdout",
     "output_type": "stream",
     "text": [
      "words: ['ayuda', 'ayudarmar', 'buen', 'chau', 'chico', 'cobrar', 'comida', 'como', 'contear', 'cosa', 'creer', 'cuando', 'dar', 'de', 'demorado', 'devolver', 'dinero', 'el', 'en', 'envio', 'esperar', 'estado', 'estar', 'este', 'faltar', 'favor', 'fria', 'gracias', 'hacer', 'hasta', 'holar', 'insultar', 'llegar', 'luego', 'mal', 'mas', 'mi', 'mucho', 'necesitar', 'no', 'paquete', 'pedido', 'pedir', 'poder', 'problema', 'que', 'tal', 'tener', 'tratar', 'uno', 'volver', 'yo', 'él']\n",
      "classes: ['Envio_demorado', 'Mal_trato', 'Producto_con_problemas', 'agradecimientos', 'ayuda', 'bienvenida', 'despedida', 'mal_cobro']\n",
      "doc_X: ['Hola', '¿Cómo estás?', '¿Qué tal?', 'Buenas', 'Necesito ayuda?', 'Tengo un problema', '¿Me haces un favor?', '¿Podrian ayudarme?', 'No me llego mi pedido', 'Estoy esperando un envio', 'Mi pedido esta demorado', '¿Cuando llega lo que pedi?', 'Mi pedido llego en mal estado', 'La comida esta fria', 'Me faltan cosas en el paquete', 'Faltan cosas en el envio', 'Me trataron mal', 'El chico me contesto mal', 'Me insultaron', 'Creo que me cobraron de mas', 'No me dieron mi vuelto', 'Me tienen que devolver dinero', 'Muchas gracias', 'Gracias', 'Chau', 'Hasta luego!']\n",
      "doc_y: ['bienvenida', 'bienvenida', 'bienvenida', 'bienvenida', 'ayuda', 'ayuda', 'ayuda', 'ayuda', 'Envio_demorado', 'Envio_demorado', 'Envio_demorado', 'Envio_demorado', 'Producto_con_problemas', 'Producto_con_problemas', 'Producto_con_problemas', 'Producto_con_problemas', 'Mal_trato', 'Mal_trato', 'Mal_trato', 'mal_cobro', 'mal_cobro', 'mal_cobro', 'agradecimientos', 'agradecimientos', 'despedida', 'despedida']\n"
     ]
    }
   ],
   "source": [
    "print(\"words:\", words)\n",
    "print(\"classes:\", classes)\n",
    "print(\"doc_X:\", doc_X)\n",
    "print(\"doc_y:\", doc_y)"
   ]
  },
  {
   "cell_type": "code",
   "execution_count": 46,
   "metadata": {
    "colab": {
     "base_uri": "https://localhost:8080/"
    },
    "executionInfo": {
     "elapsed": 17,
     "status": "ok",
     "timestamp": 1656417331089,
     "user": {
      "displayName": "Hernán Contigiani",
      "userId": "01142101934719343059"
     },
     "user_tz": 180
    },
    "id": "YI0L2U7IQcvy",
    "outputId": "198caa1a-fa6a-48fb-ebe6-97c7c1b51b06"
   },
   "outputs": [
    {
     "name": "stdout",
     "output_type": "stream",
     "text": [
      "Vocabulario: 53\n"
     ]
    }
   ],
   "source": [
    "# Tamaño del vocabulario\n",
    "print(\"Vocabulario:\", len(words))"
   ]
  },
  {
   "cell_type": "code",
   "execution_count": 47,
   "metadata": {
    "colab": {
     "base_uri": "https://localhost:8080/"
    },
    "executionInfo": {
     "elapsed": 14,
     "status": "ok",
     "timestamp": 1656417331090,
     "user": {
      "displayName": "Hernán Contigiani",
      "userId": "01142101934719343059"
     },
     "user_tz": 180
    },
    "id": "hqBeGKRk_q4r",
    "outputId": "80d36ae1-35a3-4a17-91c9-81a31baa079b"
   },
   "outputs": [
    {
     "name": "stdout",
     "output_type": "stream",
     "text": [
      "Tags: 8\n"
     ]
    }
   ],
   "source": [
    "# Cantidad de tags\n",
    "print(\"Tags:\", len(classes))"
   ]
  },
  {
   "cell_type": "code",
   "execution_count": 48,
   "metadata": {},
   "outputs": [
    {
     "data": {
      "text/plain": [
       "['Envio_demorado',\n",
       " 'Mal_trato',\n",
       " 'Producto_con_problemas',\n",
       " 'agradecimientos',\n",
       " 'ayuda',\n",
       " 'bienvenida',\n",
       " 'despedida',\n",
       " 'mal_cobro']"
      ]
     },
     "execution_count": 48,
     "metadata": {},
     "output_type": "execute_result"
    }
   ],
   "source": [
    "classes"
   ]
  },
  {
   "cell_type": "code",
   "execution_count": 49,
   "metadata": {
    "colab": {
     "base_uri": "https://localhost:8080/"
    },
    "executionInfo": {
     "elapsed": 3097,
     "status": "ok",
     "timestamp": 1656417334176,
     "user": {
      "displayName": "Hernán Contigiani",
      "userId": "01142101934719343059"
     },
     "user_tz": 180
    },
    "id": "vpbJ0guPN2Uq",
    "outputId": "5865dc76-beb9-41dc-b8bd-e8c2a8af4563"
   },
   "outputs": [
    {
     "name": "stdout",
     "output_type": "stream",
     "text": [
      "X: [0, 0, 0, 0, 0, 0, 0, 0, 0, 0, 0, 0, 0, 0, 0, 0, 0, 0, 0, 0, 0, 0, 0, 0, 0, 0, 0, 0, 0, 0, 1, 0, 0, 0, 0, 0, 0, 0, 0, 0, 0, 0, 0, 0, 0, 0, 0, 0, 0, 0, 0, 0, 0] y: [0, 0, 0, 0, 0, 1, 0, 0]\n",
      "X: [0, 0, 0, 0, 0, 0, 0, 1, 0, 0, 0, 0, 0, 0, 0, 0, 0, 0, 0, 0, 0, 0, 0, 1, 0, 0, 0, 0, 0, 0, 0, 0, 0, 0, 0, 0, 0, 0, 0, 0, 0, 0, 0, 0, 0, 0, 0, 0, 0, 0, 0, 0, 0] y: [0, 0, 0, 0, 0, 1, 0, 0]\n",
      "X: [0, 0, 0, 0, 0, 0, 0, 0, 0, 0, 0, 0, 0, 0, 0, 0, 0, 0, 0, 0, 0, 0, 0, 0, 0, 0, 0, 0, 0, 0, 0, 0, 0, 0, 0, 0, 0, 0, 0, 0, 0, 0, 0, 0, 0, 1, 1, 0, 0, 0, 0, 0, 0] y: [0, 0, 0, 0, 0, 1, 0, 0]\n",
      "X: [0, 0, 1, 0, 0, 0, 0, 0, 0, 0, 0, 0, 0, 0, 0, 0, 0, 0, 0, 0, 0, 0, 0, 0, 0, 0, 0, 0, 0, 0, 0, 0, 0, 0, 0, 0, 0, 0, 0, 0, 0, 0, 0, 0, 0, 0, 0, 0, 0, 0, 0, 0, 0] y: [0, 0, 0, 0, 0, 1, 0, 0]\n",
      "X: [1, 0, 0, 0, 0, 0, 0, 0, 0, 0, 0, 0, 0, 0, 0, 0, 0, 0, 0, 0, 0, 0, 0, 0, 0, 0, 0, 0, 0, 0, 0, 0, 0, 0, 0, 0, 0, 0, 1, 0, 0, 0, 0, 0, 0, 0, 0, 0, 0, 0, 0, 0, 0] y: [0, 0, 0, 0, 1, 0, 0, 0]\n",
      "X: [0, 0, 0, 0, 0, 0, 0, 0, 0, 0, 0, 0, 0, 0, 0, 0, 0, 0, 0, 0, 0, 0, 0, 0, 0, 0, 0, 0, 0, 0, 0, 0, 0, 0, 0, 0, 0, 0, 0, 0, 0, 0, 0, 0, 1, 0, 0, 1, 0, 1, 0, 0, 0] y: [0, 0, 0, 0, 1, 0, 0, 0]\n",
      "X: [0, 0, 0, 0, 0, 0, 0, 0, 0, 0, 0, 0, 0, 0, 0, 0, 0, 0, 0, 0, 0, 0, 0, 0, 0, 1, 0, 0, 1, 0, 0, 0, 0, 0, 0, 0, 0, 0, 0, 0, 0, 0, 0, 0, 0, 0, 0, 0, 0, 1, 0, 1, 0] y: [0, 0, 0, 0, 1, 0, 0, 0]\n",
      "X: [0, 1, 0, 0, 0, 0, 0, 0, 0, 0, 0, 0, 0, 0, 0, 0, 0, 0, 0, 0, 0, 0, 0, 0, 0, 0, 0, 0, 0, 0, 0, 0, 0, 0, 0, 0, 0, 0, 0, 0, 0, 0, 0, 1, 0, 0, 0, 0, 0, 0, 0, 0, 0] y: [0, 0, 0, 0, 1, 0, 0, 0]\n",
      "X: [0, 0, 0, 0, 0, 0, 0, 0, 0, 0, 0, 0, 0, 0, 0, 0, 0, 0, 0, 0, 0, 0, 0, 0, 0, 0, 0, 0, 0, 0, 0, 0, 1, 0, 0, 0, 1, 0, 0, 1, 0, 1, 0, 0, 0, 0, 0, 0, 0, 0, 0, 1, 0] y: [1, 0, 0, 0, 0, 0, 0, 0]\n",
      "X: [0, 0, 0, 0, 0, 0, 0, 0, 0, 0, 0, 0, 0, 0, 0, 0, 0, 0, 0, 1, 1, 0, 1, 0, 0, 0, 0, 0, 0, 0, 0, 0, 0, 0, 0, 0, 0, 0, 0, 0, 0, 0, 0, 0, 0, 0, 0, 0, 0, 1, 0, 0, 0] y: [1, 0, 0, 0, 0, 0, 0, 0]\n",
      "X: [0, 0, 0, 0, 0, 0, 0, 0, 0, 0, 0, 0, 0, 0, 1, 0, 0, 0, 0, 0, 0, 0, 0, 1, 0, 0, 0, 0, 0, 0, 0, 0, 0, 0, 0, 0, 1, 0, 0, 0, 0, 1, 0, 0, 0, 0, 0, 0, 0, 0, 0, 0, 0] y: [1, 0, 0, 0, 0, 0, 0, 0]\n",
      "X: [0, 0, 0, 0, 0, 0, 0, 0, 0, 0, 0, 1, 0, 0, 0, 0, 0, 0, 0, 0, 0, 0, 0, 0, 0, 0, 0, 0, 0, 0, 0, 0, 1, 0, 0, 0, 0, 0, 0, 0, 0, 0, 1, 0, 0, 1, 0, 0, 0, 0, 0, 0, 1] y: [1, 0, 0, 0, 0, 0, 0, 0]\n",
      "X: [0, 0, 0, 0, 0, 0, 0, 0, 0, 0, 0, 0, 0, 0, 0, 0, 0, 0, 1, 0, 0, 1, 0, 0, 0, 0, 0, 0, 0, 0, 0, 0, 1, 0, 1, 0, 1, 0, 0, 0, 0, 1, 0, 0, 0, 0, 0, 0, 0, 0, 0, 0, 0] y: [0, 0, 1, 0, 0, 0, 0, 0]\n",
      "X: [0, 0, 0, 0, 0, 0, 1, 0, 0, 0, 0, 0, 0, 0, 0, 0, 0, 1, 0, 0, 0, 0, 0, 1, 0, 0, 1, 0, 0, 0, 0, 0, 0, 0, 0, 0, 0, 0, 0, 0, 0, 0, 0, 0, 0, 0, 0, 0, 0, 0, 0, 0, 0] y: [0, 0, 1, 0, 0, 0, 0, 0]\n",
      "X: [0, 0, 0, 0, 0, 0, 0, 0, 0, 1, 0, 0, 0, 0, 0, 0, 0, 1, 1, 0, 0, 0, 0, 0, 1, 0, 0, 0, 0, 0, 0, 0, 0, 0, 0, 0, 0, 0, 0, 0, 1, 0, 0, 0, 0, 0, 0, 0, 0, 0, 0, 1, 0] y: [0, 0, 1, 0, 0, 0, 0, 0]\n",
      "X: [0, 0, 0, 0, 0, 0, 0, 0, 0, 1, 0, 0, 0, 0, 0, 0, 0, 1, 1, 1, 0, 0, 0, 0, 1, 0, 0, 0, 0, 0, 0, 0, 0, 0, 0, 0, 0, 0, 0, 0, 0, 0, 0, 0, 0, 0, 0, 0, 0, 0, 0, 0, 0] y: [0, 0, 1, 0, 0, 0, 0, 0]\n",
      "X: [0, 0, 0, 0, 0, 0, 0, 0, 0, 0, 0, 0, 0, 0, 0, 0, 0, 0, 0, 0, 0, 0, 0, 0, 0, 0, 0, 0, 0, 0, 0, 0, 0, 0, 1, 0, 0, 0, 0, 0, 0, 0, 0, 0, 0, 0, 0, 0, 1, 0, 0, 1, 0] y: [0, 1, 0, 0, 0, 0, 0, 0]\n",
      "X: [0, 0, 0, 0, 1, 0, 0, 0, 1, 0, 0, 0, 0, 0, 0, 0, 0, 1, 0, 0, 0, 0, 0, 0, 0, 0, 0, 0, 0, 0, 0, 0, 0, 0, 1, 0, 0, 0, 0, 0, 0, 0, 0, 0, 0, 0, 0, 0, 0, 0, 0, 1, 0] y: [0, 1, 0, 0, 0, 0, 0, 0]\n",
      "X: [0, 0, 0, 0, 0, 0, 0, 0, 0, 0, 0, 0, 0, 0, 0, 0, 0, 0, 0, 0, 0, 0, 0, 0, 0, 0, 0, 0, 0, 0, 0, 1, 0, 0, 0, 0, 0, 0, 0, 0, 0, 0, 0, 0, 0, 0, 0, 0, 0, 0, 0, 1, 0] y: [0, 1, 0, 0, 0, 0, 0, 0]\n",
      "X: [0, 0, 0, 0, 0, 1, 0, 0, 0, 0, 1, 0, 0, 1, 0, 0, 0, 0, 0, 0, 0, 0, 0, 0, 0, 0, 0, 0, 0, 0, 0, 0, 0, 0, 0, 1, 0, 0, 0, 0, 0, 0, 0, 0, 0, 1, 0, 0, 0, 0, 0, 1, 0] y: [0, 0, 0, 0, 0, 0, 0, 1]\n",
      "X: [0, 0, 0, 0, 0, 0, 0, 0, 0, 0, 0, 0, 1, 0, 0, 0, 0, 0, 0, 0, 0, 0, 0, 0, 0, 0, 0, 0, 0, 0, 0, 0, 0, 0, 0, 0, 1, 0, 0, 1, 0, 0, 0, 0, 0, 0, 0, 0, 0, 0, 1, 1, 0] y: [0, 0, 0, 0, 0, 0, 0, 1]\n",
      "X: [0, 0, 0, 0, 0, 0, 0, 0, 0, 0, 0, 0, 0, 0, 0, 1, 1, 0, 0, 0, 0, 0, 0, 0, 0, 0, 0, 0, 0, 0, 0, 0, 0, 0, 0, 0, 0, 0, 0, 0, 0, 0, 0, 0, 0, 1, 0, 1, 0, 0, 0, 1, 0] y: [0, 0, 0, 0, 0, 0, 0, 1]\n",
      "X: [0, 0, 0, 0, 0, 0, 0, 0, 0, 0, 0, 0, 0, 0, 0, 0, 0, 0, 0, 0, 0, 0, 0, 0, 0, 0, 0, 1, 0, 0, 0, 0, 0, 0, 0, 0, 0, 1, 0, 0, 0, 0, 0, 0, 0, 0, 0, 0, 0, 0, 0, 0, 0] y: [0, 0, 0, 1, 0, 0, 0, 0]\n",
      "X: [0, 0, 0, 0, 0, 0, 0, 0, 0, 0, 0, 0, 0, 0, 0, 0, 0, 0, 0, 0, 0, 0, 0, 0, 0, 0, 0, 1, 0, 0, 0, 0, 0, 0, 0, 0, 0, 0, 0, 0, 0, 0, 0, 0, 0, 0, 0, 0, 0, 0, 0, 0, 0] y: [0, 0, 0, 1, 0, 0, 0, 0]\n",
      "X: [0, 0, 0, 1, 0, 0, 0, 0, 0, 0, 0, 0, 0, 0, 0, 0, 0, 0, 0, 0, 0, 0, 0, 0, 0, 0, 0, 0, 0, 0, 0, 0, 0, 0, 0, 0, 0, 0, 0, 0, 0, 0, 0, 0, 0, 0, 0, 0, 0, 0, 0, 0, 0] y: [0, 0, 0, 0, 0, 0, 1, 0]\n",
      "X: [0, 0, 0, 0, 0, 0, 0, 0, 0, 0, 0, 0, 0, 0, 0, 0, 0, 0, 0, 0, 0, 0, 0, 0, 0, 0, 0, 0, 0, 1, 0, 0, 0, 1, 0, 0, 0, 0, 0, 0, 0, 0, 0, 0, 0, 0, 0, 0, 0, 0, 0, 0, 0] y: [0, 0, 0, 0, 0, 0, 1, 0]\n"
     ]
    }
   ],
   "source": [
    "# Transformar doc_X en bag of words por oneHotEncoding\n",
    "# Transformar doc_Y en un vector de clases multicategórico con oneHotEncoding\n",
    "\n",
    "training = []\n",
    "out_empty = [0] * len(classes)\n",
    "\n",
    "for idx, doc in enumerate(doc_X):\n",
    "    # Transformar la pregunta (input) en tokens y lematizar\n",
    "    text = []\n",
    "    tokens = nlp(preprocess_clean_text(doc.lower()))\n",
    "    for token in tokens:\n",
    "        text.append(token.lemma_)\n",
    "\n",
    "    # Transformar los tokens en \"Bag of words\" (arrays de 1 y 0)\n",
    "    bow = []\n",
    "    for word in words:\n",
    "        bow.append(1) if word in text else bow.append(0)\n",
    "    \n",
    "    # Crear el array de salida (class output) correspondiente\n",
    "    output_row = list(out_empty)\n",
    "    output_row[classes.index(doc_y[idx])] = 1\n",
    "\n",
    "    print(\"X:\", bow, \"y:\", output_row)\n",
    "    training.append([bow, output_row])\n",
    "\n",
    "# Mezclar los datos\n",
    "random.shuffle(training)\n",
    "training = np.array(training, dtype=object)\n",
    "# Dividir en datos de entrada y salida\n",
    "train_X = np.array(list(training[:, 0]))\n",
    "train_y = np.array(list(training[:, 1]))"
   ]
  },
  {
   "cell_type": "code",
   "execution_count": 50,
   "metadata": {
    "colab": {
     "base_uri": "https://localhost:8080/"
    },
    "executionInfo": {
     "elapsed": 25,
     "status": "ok",
     "timestamp": 1656417334177,
     "user": {
      "displayName": "Hernán Contigiani",
      "userId": "01142101934719343059"
     },
     "user_tz": 180
    },
    "id": "GQaGSWBtauBn",
    "outputId": "cb51b63a-4b96-4cf7-ef57-b8440084913b"
   },
   "outputs": [
    {
     "name": "stdout",
     "output_type": "stream",
     "text": [
      "Input dim 53\n",
      "Output dim 8\n"
     ]
    }
   ],
   "source": [
    "class Data(Dataset):\n",
    "    def __init__(self, x, y):\n",
    "        # Convertir los arrays de numpy a tensores. \n",
    "        # pytorch espera en general entradas 32bits\n",
    "        self.x = torch.from_numpy(x.astype(np.float32))\n",
    "        # las loss function esperan la salida float\n",
    "        self.y = torch.from_numpy(y.astype(np.float32))\n",
    "\n",
    "        self.len = self.y.shape[0]\n",
    "\n",
    "    def __getitem__(self,index):\n",
    "        return self.x[index], self.y[index]\n",
    "\n",
    "    def __len__(self):\n",
    "        return self.len\n",
    "\n",
    "data_set = Data(train_X, train_y)\n",
    "\n",
    "input_dim = data_set.x.shape[1]\n",
    "print(\"Input dim\", input_dim)\n",
    "\n",
    "output_dim = data_set.y.shape[1]\n",
    "print(\"Output dim\", output_dim)"
   ]
  },
  {
   "cell_type": "code",
   "execution_count": 51,
   "metadata": {
    "executionInfo": {
     "elapsed": 426,
     "status": "ok",
     "timestamp": 1656417892198,
     "user": {
      "displayName": "Hernán Contigiani",
      "userId": "01142101934719343059"
     },
     "user_tz": 180
    },
    "id": "cGw7uV47LuJx"
   },
   "outputs": [],
   "source": [
    "from torch.utils.data import DataLoader\n",
    "\n",
    "train_loader = DataLoader(data_set, batch_size=32, shuffle=False)"
   ]
  },
  {
   "cell_type": "markdown",
   "metadata": {
    "id": "a_Hr8QaDfRf3"
   },
   "source": [
    "### 5 - Entrenamiento del modelo"
   ]
  },
  {
   "cell_type": "code",
   "execution_count": 52,
   "metadata": {
    "colab": {
     "base_uri": "https://localhost:8080/"
    },
    "executionInfo": {
     "elapsed": 500,
     "status": "ok",
     "timestamp": 1656417894757,
     "user": {
      "displayName": "Hernán Contigiani",
      "userId": "01142101934719343059"
     },
     "user_tz": 180
    },
    "id": "7FNoKNeSbVmY",
    "outputId": "40139e9e-1f2d-47f9-f4aa-905dc1e055a8"
   },
   "outputs": [
    {
     "name": "stdout",
     "output_type": "stream",
     "text": [
      "----------------------------------------------------------------\n",
      "        Layer (type)               Output Shape         Param #\n",
      "================================================================\n",
      "            Linear-1               [-1, 1, 128]           6,912\n",
      "              ReLU-2               [-1, 1, 128]               0\n",
      "           Dropout-3               [-1, 1, 128]               0\n",
      "            Linear-4                [-1, 1, 64]           8,256\n",
      "              ReLU-5                [-1, 1, 64]               0\n",
      "           Dropout-6                [-1, 1, 64]               0\n",
      "            Linear-7                 [-1, 1, 8]             520\n",
      "           Softmax-8                 [-1, 1, 8]               0\n",
      "================================================================\n",
      "Total params: 15,688\n",
      "Trainable params: 15,688\n",
      "Non-trainable params: 0\n",
      "----------------------------------------------------------------\n",
      "Input size (MB): 0.00\n",
      "Forward/backward pass size (MB): 0.00\n",
      "Params size (MB): 0.06\n",
      "Estimated Total Size (MB): 0.06\n",
      "----------------------------------------------------------------\n"
     ]
    }
   ],
   "source": [
    "class Model1(nn.Module):\n",
    "    def __init__(self, input_dim, output_dim):\n",
    "        super().__init__()\n",
    "        self.fc1 = nn.Linear(in_features=input_dim, out_features=128) # fully connected layer\n",
    "        self.fc2 = nn.Linear(in_features=128, out_features=64) # fully connected layer\n",
    "        self.fc3 = nn.Linear(in_features=64, out_features=output_dim) # fully connected layer\n",
    "        \n",
    "        self.relu = nn.ReLU()\n",
    "        self.softmax = nn.Softmax(dim=1) # normalize in dim 1\n",
    "        self.dropout = nn.Dropout(0.5)\n",
    "\n",
    "    def forward(self, x):\n",
    "        out = self.relu(self.fc1(x))\n",
    "        out = self.dropout(out)\n",
    "        out = self.relu(self.fc2(out))\n",
    "        out = self.dropout(out)\n",
    "        out = self.softmax(self.fc3(out))\n",
    "        return out\n",
    "\n",
    "# Crear el modelo basado en la arquitectura definida\n",
    "model1 = Model1(input_dim=input_dim, output_dim=output_dim)\n",
    "# Crear el optimizador la una función de error\n",
    "model1_optimizer = torch.optim.Adam(model1.parameters(), lr=0.001)\n",
    "model1_criterion = torch.nn.CrossEntropyLoss()  # Para clasificación multi categórica\n",
    "\n",
    "torchsummary.summary(model1, input_size=(1, input_dim))"
   ]
  },
  {
   "cell_type": "code",
   "execution_count": 53,
   "metadata": {
    "executionInfo": {
     "elapsed": 6,
     "status": "ok",
     "timestamp": 1656417873035,
     "user": {
      "displayName": "Hernán Contigiani",
      "userId": "01142101934719343059"
     },
     "user_tz": 180
    },
    "id": "-Ap_Ts8Ga39y"
   },
   "outputs": [],
   "source": [
    "from torch_helpers import categorical_acc\n",
    "\n",
    "def train(model, train_loader, optimizer, criterion, epochs=100):\n",
    "    # Defino listas para realizar graficas de los resultados\n",
    "    train_loss = []\n",
    "    train_accuracy = []\n",
    "\n",
    "    ## Defino mi loop de entrenamiento\n",
    "\n",
    "    for epoch in range(epochs):\n",
    "\n",
    "        epoch_train_loss = 0.0\n",
    "        epoch_train_accuracy = 0.0\n",
    "\n",
    "        for train_data, train_target in train_loader:\n",
    "\n",
    "            # Seteo los gradientes en cero ya que, por defecto, PyTorch\n",
    "            # los va acumulando\n",
    "            optimizer.zero_grad()\n",
    "\n",
    "            output = model(train_data)\n",
    "\n",
    "            # Computo el error de la salida comparando contra las etiquetas\n",
    "            loss = criterion(output, train_target)\n",
    "\n",
    "            # Almaceno el error del batch para luego tener el error promedio de la epoca\n",
    "            epoch_train_loss += loss.item()\n",
    "\n",
    "            # Computo el nuevo set de gradientes a lo largo de toda la red\n",
    "            loss.backward()\n",
    "\n",
    "            # Realizo el paso de optimizacion actualizando los parametros de toda la red\n",
    "            optimizer.step()\n",
    "            \n",
    "            # Calculo el accuracy del batch\n",
    "            accuracy = categorical_acc(output, train_target)\n",
    "            # Almaceno el accuracy del batch para luego tener el accuracy promedio de la epoca\n",
    "            epoch_train_accuracy += accuracy.item()\n",
    "\n",
    "        # Calculo la media de error y accuracy para la epoca de entrenamiento.\n",
    "        # La longitud de train_loader es igual a la cantidad de batches dentro de una epoca.\n",
    "        epoch_train_loss = epoch_train_loss / len(train_loader)\n",
    "        train_loss.append(epoch_train_loss)\n",
    "        epoch_train_accuracy = epoch_train_accuracy / len(train_loader)        \n",
    "        train_accuracy.append(epoch_train_accuracy)\n",
    "\n",
    "        print(f\"Epoch: {epoch+1}/{epochs} - Train loss {epoch_train_loss:.3f} - Train accuracy {epoch_train_accuracy:.3f}\")\n",
    "\n",
    "    history = {\n",
    "        \"loss\": train_loss,\n",
    "        \"accuracy\": train_accuracy,\n",
    "    }\n",
    "    \n",
    "    return history"
   ]
  },
  {
   "cell_type": "code",
   "execution_count": 54,
   "metadata": {
    "colab": {
     "base_uri": "https://localhost:8080/"
    },
    "executionInfo": {
     "elapsed": 961,
     "status": "ok",
     "timestamp": 1656417901433,
     "user": {
      "displayName": "Hernán Contigiani",
      "userId": "01142101934719343059"
     },
     "user_tz": 180
    },
    "id": "r6hi4EcdOghm",
    "outputId": "03a56f27-fa93-4990-fabe-2113da72cdf5"
   },
   "outputs": [
    {
     "name": "stdout",
     "output_type": "stream",
     "text": [
      "Epoch: 1/200 - Train loss 2.076 - Train accuracy 0.192\n",
      "Epoch: 2/200 - Train loss 2.079 - Train accuracy 0.115\n",
      "Epoch: 3/200 - Train loss 2.074 - Train accuracy 0.154\n",
      "Epoch: 4/200 - Train loss 2.075 - Train accuracy 0.115\n",
      "Epoch: 5/200 - Train loss 2.077 - Train accuracy 0.192\n",
      "Epoch: 6/200 - Train loss 2.078 - Train accuracy 0.154\n",
      "Epoch: 7/200 - Train loss 2.072 - Train accuracy 0.231\n",
      "Epoch: 8/200 - Train loss 2.078 - Train accuracy 0.269\n",
      "Epoch: 9/200 - Train loss 2.076 - Train accuracy 0.154\n",
      "Epoch: 10/200 - Train loss 2.074 - Train accuracy 0.192\n",
      "Epoch: 11/200 - Train loss 2.070 - Train accuracy 0.192\n",
      "Epoch: 12/200 - Train loss 2.073 - Train accuracy 0.154\n",
      "Epoch: 13/200 - Train loss 2.075 - Train accuracy 0.154\n",
      "Epoch: 14/200 - Train loss 2.073 - Train accuracy 0.269\n",
      "Epoch: 15/200 - Train loss 2.072 - Train accuracy 0.154\n",
      "Epoch: 16/200 - Train loss 2.070 - Train accuracy 0.192\n",
      "Epoch: 17/200 - Train loss 2.070 - Train accuracy 0.192\n",
      "Epoch: 18/200 - Train loss 2.070 - Train accuracy 0.192\n",
      "Epoch: 19/200 - Train loss 2.064 - Train accuracy 0.231\n",
      "Epoch: 20/200 - Train loss 2.069 - Train accuracy 0.154\n",
      "Epoch: 21/200 - Train loss 2.067 - Train accuracy 0.231\n",
      "Epoch: 22/200 - Train loss 2.065 - Train accuracy 0.269\n",
      "Epoch: 23/200 - Train loss 2.068 - Train accuracy 0.192\n",
      "Epoch: 24/200 - Train loss 2.061 - Train accuracy 0.154\n",
      "Epoch: 25/200 - Train loss 2.059 - Train accuracy 0.192\n",
      "Epoch: 26/200 - Train loss 2.063 - Train accuracy 0.192\n",
      "Epoch: 27/200 - Train loss 2.063 - Train accuracy 0.231\n",
      "Epoch: 28/200 - Train loss 2.061 - Train accuracy 0.308\n",
      "Epoch: 29/200 - Train loss 2.063 - Train accuracy 0.231\n",
      "Epoch: 30/200 - Train loss 2.054 - Train accuracy 0.231\n",
      "Epoch: 31/200 - Train loss 2.058 - Train accuracy 0.154\n",
      "Epoch: 32/200 - Train loss 2.057 - Train accuracy 0.308\n",
      "Epoch: 33/200 - Train loss 2.051 - Train accuracy 0.269\n",
      "Epoch: 34/200 - Train loss 2.055 - Train accuracy 0.192\n",
      "Epoch: 35/200 - Train loss 2.046 - Train accuracy 0.269\n",
      "Epoch: 36/200 - Train loss 2.052 - Train accuracy 0.269\n",
      "Epoch: 37/200 - Train loss 2.048 - Train accuracy 0.231\n",
      "Epoch: 38/200 - Train loss 2.042 - Train accuracy 0.231\n",
      "Epoch: 39/200 - Train loss 2.042 - Train accuracy 0.269\n",
      "Epoch: 40/200 - Train loss 2.042 - Train accuracy 0.269\n",
      "Epoch: 41/200 - Train loss 2.047 - Train accuracy 0.231\n",
      "Epoch: 42/200 - Train loss 2.033 - Train accuracy 0.308\n",
      "Epoch: 43/200 - Train loss 2.027 - Train accuracy 0.269\n",
      "Epoch: 44/200 - Train loss 2.042 - Train accuracy 0.269\n",
      "Epoch: 45/200 - Train loss 2.024 - Train accuracy 0.308\n",
      "Epoch: 46/200 - Train loss 2.015 - Train accuracy 0.192\n",
      "Epoch: 47/200 - Train loss 2.027 - Train accuracy 0.308\n",
      "Epoch: 48/200 - Train loss 2.029 - Train accuracy 0.154\n",
      "Epoch: 49/200 - Train loss 2.011 - Train accuracy 0.308\n",
      "Epoch: 50/200 - Train loss 2.008 - Train accuracy 0.308\n",
      "Epoch: 51/200 - Train loss 1.989 - Train accuracy 0.308\n",
      "Epoch: 52/200 - Train loss 2.010 - Train accuracy 0.346\n",
      "Epoch: 53/200 - Train loss 2.003 - Train accuracy 0.269\n",
      "Epoch: 54/200 - Train loss 1.989 - Train accuracy 0.346\n",
      "Epoch: 55/200 - Train loss 2.005 - Train accuracy 0.231\n",
      "Epoch: 56/200 - Train loss 1.965 - Train accuracy 0.308\n",
      "Epoch: 57/200 - Train loss 1.966 - Train accuracy 0.346\n",
      "Epoch: 58/200 - Train loss 1.984 - Train accuracy 0.308\n",
      "Epoch: 59/200 - Train loss 1.953 - Train accuracy 0.269\n",
      "Epoch: 60/200 - Train loss 1.982 - Train accuracy 0.308\n",
      "Epoch: 61/200 - Train loss 1.983 - Train accuracy 0.269\n",
      "Epoch: 62/200 - Train loss 1.945 - Train accuracy 0.423\n",
      "Epoch: 63/200 - Train loss 1.934 - Train accuracy 0.385\n",
      "Epoch: 64/200 - Train loss 1.937 - Train accuracy 0.385\n",
      "Epoch: 65/200 - Train loss 1.937 - Train accuracy 0.308\n",
      "Epoch: 66/200 - Train loss 1.923 - Train accuracy 0.308\n",
      "Epoch: 67/200 - Train loss 1.924 - Train accuracy 0.538\n",
      "Epoch: 68/200 - Train loss 1.917 - Train accuracy 0.269\n",
      "Epoch: 69/200 - Train loss 1.905 - Train accuracy 0.423\n",
      "Epoch: 70/200 - Train loss 1.900 - Train accuracy 0.346\n",
      "Epoch: 71/200 - Train loss 1.894 - Train accuracy 0.538\n",
      "Epoch: 72/200 - Train loss 1.910 - Train accuracy 0.385\n",
      "Epoch: 73/200 - Train loss 1.900 - Train accuracy 0.423\n",
      "Epoch: 74/200 - Train loss 1.895 - Train accuracy 0.538\n",
      "Epoch: 75/200 - Train loss 1.901 - Train accuracy 0.500\n",
      "Epoch: 76/200 - Train loss 1.871 - Train accuracy 0.500\n",
      "Epoch: 77/200 - Train loss 1.888 - Train accuracy 0.462\n",
      "Epoch: 78/200 - Train loss 1.861 - Train accuracy 0.538\n",
      "Epoch: 79/200 - Train loss 1.843 - Train accuracy 0.615\n",
      "Epoch: 80/200 - Train loss 1.847 - Train accuracy 0.577\n",
      "Epoch: 81/200 - Train loss 1.816 - Train accuracy 0.692\n",
      "Epoch: 82/200 - Train loss 1.817 - Train accuracy 0.692\n",
      "Epoch: 83/200 - Train loss 1.835 - Train accuracy 0.654\n",
      "Epoch: 84/200 - Train loss 1.804 - Train accuracy 0.615\n",
      "Epoch: 85/200 - Train loss 1.830 - Train accuracy 0.577\n",
      "Epoch: 86/200 - Train loss 1.798 - Train accuracy 0.577\n",
      "Epoch: 87/200 - Train loss 1.793 - Train accuracy 0.615\n",
      "Epoch: 88/200 - Train loss 1.807 - Train accuracy 0.692\n",
      "Epoch: 89/200 - Train loss 1.809 - Train accuracy 0.692\n",
      "Epoch: 90/200 - Train loss 1.741 - Train accuracy 0.769\n",
      "Epoch: 91/200 - Train loss 1.777 - Train accuracy 0.654\n",
      "Epoch: 92/200 - Train loss 1.747 - Train accuracy 0.692\n",
      "Epoch: 93/200 - Train loss 1.774 - Train accuracy 0.731\n",
      "Epoch: 94/200 - Train loss 1.743 - Train accuracy 0.731\n",
      "Epoch: 95/200 - Train loss 1.723 - Train accuracy 0.692\n",
      "Epoch: 96/200 - Train loss 1.705 - Train accuracy 0.731\n",
      "Epoch: 97/200 - Train loss 1.767 - Train accuracy 0.615\n",
      "Epoch: 98/200 - Train loss 1.694 - Train accuracy 0.808\n",
      "Epoch: 99/200 - Train loss 1.706 - Train accuracy 0.731\n",
      "Epoch: 100/200 - Train loss 1.676 - Train accuracy 0.769\n",
      "Epoch: 101/200 - Train loss 1.704 - Train accuracy 0.692\n",
      "Epoch: 102/200 - Train loss 1.705 - Train accuracy 0.692\n",
      "Epoch: 103/200 - Train loss 1.645 - Train accuracy 0.846\n",
      "Epoch: 104/200 - Train loss 1.670 - Train accuracy 0.808\n",
      "Epoch: 105/200 - Train loss 1.640 - Train accuracy 0.808\n",
      "Epoch: 106/200 - Train loss 1.680 - Train accuracy 0.769\n",
      "Epoch: 107/200 - Train loss 1.642 - Train accuracy 0.808\n",
      "Epoch: 108/200 - Train loss 1.628 - Train accuracy 0.808\n",
      "Epoch: 109/200 - Train loss 1.586 - Train accuracy 0.846\n",
      "Epoch: 110/200 - Train loss 1.631 - Train accuracy 0.808\n",
      "Epoch: 111/200 - Train loss 1.630 - Train accuracy 0.731\n",
      "Epoch: 112/200 - Train loss 1.588 - Train accuracy 0.846\n",
      "Epoch: 113/200 - Train loss 1.594 - Train accuracy 0.808\n",
      "Epoch: 114/200 - Train loss 1.589 - Train accuracy 0.808\n",
      "Epoch: 115/200 - Train loss 1.532 - Train accuracy 0.808\n",
      "Epoch: 116/200 - Train loss 1.577 - Train accuracy 0.808\n",
      "Epoch: 117/200 - Train loss 1.559 - Train accuracy 0.846\n",
      "Epoch: 118/200 - Train loss 1.595 - Train accuracy 0.769\n",
      "Epoch: 119/200 - Train loss 1.577 - Train accuracy 0.808\n",
      "Epoch: 120/200 - Train loss 1.543 - Train accuracy 0.846\n",
      "Epoch: 121/200 - Train loss 1.565 - Train accuracy 0.846\n",
      "Epoch: 122/200 - Train loss 1.558 - Train accuracy 0.846\n",
      "Epoch: 123/200 - Train loss 1.566 - Train accuracy 0.846\n",
      "Epoch: 124/200 - Train loss 1.540 - Train accuracy 0.846\n",
      "Epoch: 125/200 - Train loss 1.546 - Train accuracy 0.846\n",
      "Epoch: 126/200 - Train loss 1.556 - Train accuracy 0.808\n",
      "Epoch: 127/200 - Train loss 1.506 - Train accuracy 0.846\n",
      "Epoch: 128/200 - Train loss 1.514 - Train accuracy 0.846\n",
      "Epoch: 129/200 - Train loss 1.512 - Train accuracy 0.846\n",
      "Epoch: 130/200 - Train loss 1.520 - Train accuracy 0.846\n",
      "Epoch: 131/200 - Train loss 1.510 - Train accuracy 0.846\n",
      "Epoch: 132/200 - Train loss 1.473 - Train accuracy 0.846\n",
      "Epoch: 133/200 - Train loss 1.477 - Train accuracy 0.846\n",
      "Epoch: 134/200 - Train loss 1.480 - Train accuracy 0.846\n",
      "Epoch: 135/200 - Train loss 1.478 - Train accuracy 0.846\n",
      "Epoch: 136/200 - Train loss 1.483 - Train accuracy 0.846\n",
      "Epoch: 137/200 - Train loss 1.495 - Train accuracy 0.846\n",
      "Epoch: 138/200 - Train loss 1.509 - Train accuracy 0.808\n",
      "Epoch: 139/200 - Train loss 1.493 - Train accuracy 0.846\n",
      "Epoch: 140/200 - Train loss 1.524 - Train accuracy 0.808\n",
      "Epoch: 141/200 - Train loss 1.461 - Train accuracy 0.846\n",
      "Epoch: 142/200 - Train loss 1.480 - Train accuracy 0.846\n",
      "Epoch: 143/200 - Train loss 1.489 - Train accuracy 0.846\n",
      "Epoch: 144/200 - Train loss 1.479 - Train accuracy 0.846\n",
      "Epoch: 145/200 - Train loss 1.465 - Train accuracy 0.846\n",
      "Epoch: 146/200 - Train loss 1.451 - Train accuracy 0.846\n",
      "Epoch: 147/200 - Train loss 1.464 - Train accuracy 0.846\n",
      "Epoch: 148/200 - Train loss 1.451 - Train accuracy 0.846\n",
      "Epoch: 149/200 - Train loss 1.492 - Train accuracy 0.846\n",
      "Epoch: 150/200 - Train loss 1.473 - Train accuracy 0.846\n",
      "Epoch: 151/200 - Train loss 1.484 - Train accuracy 0.846\n",
      "Epoch: 152/200 - Train loss 1.488 - Train accuracy 0.846\n",
      "Epoch: 153/200 - Train loss 1.435 - Train accuracy 0.846\n",
      "Epoch: 154/200 - Train loss 1.487 - Train accuracy 0.846\n",
      "Epoch: 155/200 - Train loss 1.501 - Train accuracy 0.846\n",
      "Epoch: 156/200 - Train loss 1.459 - Train accuracy 0.846\n",
      "Epoch: 157/200 - Train loss 1.463 - Train accuracy 0.846\n",
      "Epoch: 158/200 - Train loss 1.473 - Train accuracy 0.846\n",
      "Epoch: 159/200 - Train loss 1.432 - Train accuracy 0.885\n",
      "Epoch: 160/200 - Train loss 1.437 - Train accuracy 0.846\n",
      "Epoch: 161/200 - Train loss 1.446 - Train accuracy 0.885\n",
      "Epoch: 162/200 - Train loss 1.443 - Train accuracy 0.846\n",
      "Epoch: 163/200 - Train loss 1.435 - Train accuracy 0.885\n",
      "Epoch: 164/200 - Train loss 1.437 - Train accuracy 0.885\n",
      "Epoch: 165/200 - Train loss 1.411 - Train accuracy 0.885\n",
      "Epoch: 166/200 - Train loss 1.437 - Train accuracy 0.846\n",
      "Epoch: 167/200 - Train loss 1.469 - Train accuracy 0.846\n",
      "Epoch: 168/200 - Train loss 1.421 - Train accuracy 0.846\n",
      "Epoch: 169/200 - Train loss 1.416 - Train accuracy 0.846\n",
      "Epoch: 170/200 - Train loss 1.472 - Train accuracy 0.846\n",
      "Epoch: 171/200 - Train loss 1.448 - Train accuracy 0.846\n",
      "Epoch: 172/200 - Train loss 1.444 - Train accuracy 0.885\n",
      "Epoch: 173/200 - Train loss 1.413 - Train accuracy 0.923\n",
      "Epoch: 174/200 - Train loss 1.431 - Train accuracy 0.846\n",
      "Epoch: 175/200 - Train loss 1.421 - Train accuracy 0.885\n",
      "Epoch: 176/200 - Train loss 1.461 - Train accuracy 0.808\n",
      "Epoch: 177/200 - Train loss 1.436 - Train accuracy 0.923\n",
      "Epoch: 178/200 - Train loss 1.412 - Train accuracy 0.846\n",
      "Epoch: 179/200 - Train loss 1.404 - Train accuracy 0.885\n",
      "Epoch: 180/200 - Train loss 1.421 - Train accuracy 0.923\n",
      "Epoch: 181/200 - Train loss 1.432 - Train accuracy 0.885\n",
      "Epoch: 182/200 - Train loss 1.416 - Train accuracy 0.885\n",
      "Epoch: 183/200 - Train loss 1.416 - Train accuracy 0.923\n",
      "Epoch: 184/200 - Train loss 1.433 - Train accuracy 0.846\n",
      "Epoch: 185/200 - Train loss 1.431 - Train accuracy 0.885\n",
      "Epoch: 186/200 - Train loss 1.439 - Train accuracy 0.923\n",
      "Epoch: 187/200 - Train loss 1.418 - Train accuracy 0.885\n",
      "Epoch: 188/200 - Train loss 1.435 - Train accuracy 0.923\n",
      "Epoch: 189/200 - Train loss 1.420 - Train accuracy 0.923\n",
      "Epoch: 190/200 - Train loss 1.450 - Train accuracy 0.885\n",
      "Epoch: 191/200 - Train loss 1.440 - Train accuracy 0.885\n",
      "Epoch: 192/200 - Train loss 1.444 - Train accuracy 0.923\n",
      "Epoch: 193/200 - Train loss 1.413 - Train accuracy 0.846\n",
      "Epoch: 194/200 - Train loss 1.385 - Train accuracy 0.923\n",
      "Epoch: 195/200 - Train loss 1.402 - Train accuracy 0.923\n",
      "Epoch: 196/200 - Train loss 1.428 - Train accuracy 0.885\n",
      "Epoch: 197/200 - Train loss 1.415 - Train accuracy 0.923\n",
      "Epoch: 198/200 - Train loss 1.410 - Train accuracy 0.923\n",
      "Epoch: 199/200 - Train loss 1.400 - Train accuracy 0.885\n",
      "Epoch: 200/200 - Train loss 1.419 - Train accuracy 0.923\n"
     ]
    }
   ],
   "source": [
    "history1 = train(model1,\n",
    "                train_loader,\n",
    "                model1_optimizer,\n",
    "                model1_criterion,\n",
    "                epochs=200\n",
    "                )"
   ]
  },
  {
   "cell_type": "code",
   "execution_count": 55,
   "metadata": {
    "colab": {
     "base_uri": "https://localhost:8080/",
     "height": 265
    },
    "executionInfo": {
     "elapsed": 1034,
     "status": "ok",
     "timestamp": 1656417942693,
     "user": {
      "displayName": "Hernán Contigiani",
      "userId": "01142101934719343059"
     },
     "user_tz": 180
    },
    "id": "Pb1GZDjGRP6Q",
    "outputId": "c04d5435-c5e6-48ac-9f13-9de67e493a7c"
   },
   "outputs": [
    {
     "data": {
      "image/png": "[encoded data removed]",
      "text/plain": [
       "<Figure size 640x480 with 1 Axes>"
      ]
     },
     "metadata": {},
     "output_type": "display_data"
    }
   ],
   "source": [
    "epoch_count = range(1, len(history1['accuracy']) + 1)\n",
    "sns.lineplot(x=epoch_count,  y=history1['accuracy'], label='train')\n",
    "plt.show()"
   ]
  },
  {
   "cell_type": "markdown",
   "metadata": {
    "id": "TnD1WvhBfVYR"
   },
   "source": [
    "### 6 - Testing y validación"
   ]
  },
  {
   "cell_type": "code",
   "execution_count": 56,
   "metadata": {
    "executionInfo": {
     "elapsed": 4,
     "status": "ok",
     "timestamp": 1656418138142,
     "user": {
      "displayName": "Hernán Contigiani",
      "userId": "01142101934719343059"
     },
     "user_tz": 180
    },
    "id": "kqBdSGt8Orkm"
   },
   "outputs": [],
   "source": [
    "def text_to_tokens(text): \n",
    "    lemma_tokens = []\n",
    "    tokens = nlp(preprocess_clean_text(text.lower()))\n",
    "    for token in tokens:\n",
    "        lemma_tokens.append(token.lemma_)\n",
    "    #print(lemma_tokens)\n",
    "    return lemma_tokens\n",
    "\n",
    "def bag_of_words(text, vocab): \n",
    "    tokens = text_to_tokens(text)\n",
    "    bow = [0] * len(vocab)\n",
    "    for w in tokens: \n",
    "        for idx, word in enumerate(vocab):\n",
    "            if word == w: \n",
    "                bow[idx] = 1\n",
    "    #print(bow)\n",
    "    return np.array(bow)\n",
    "\n",
    "def pred_class(text, vocab, labels): \n",
    "    bow = bag_of_words(text, vocab)\n",
    "    words_recognized = sum(bow)\n",
    "\n",
    "    return_list = []\n",
    "    if words_recognized > 0:\n",
    "        x = torch.from_numpy(np.array([bow]).astype(np.float32))\n",
    "        result = model1(x)[0].detach().numpy()\n",
    "        thresh = 0.2\n",
    "        y_pred = [[idx, res] for idx, res in enumerate(result) if res > thresh]\n",
    "        y_pred.sort(key=lambda x: x[1], reverse=True)\n",
    "\n",
    "        for r in y_pred:\n",
    "            return_list.append(labels[r[0]])\n",
    "            #print(labels[r[0]], r[1])\n",
    "\n",
    "    return return_list\n",
    "\n",
    "def get_response(intents_list, intents_json):\n",
    "    tag = intents_list[0]\n",
    "    list_of_intents = intents_json[\"intents\"]\n",
    "    for i in list_of_intents: \n",
    "        if i[\"tag\"] == tag:\n",
    "            result = \"BOT: \" + random.choice(i[\"responses\"])\n",
    "            break\n",
    "    return result"
   ]
  },
  {
   "cell_type": "code",
   "execution_count": 57,
   "metadata": {
    "colab": {
     "base_uri": "https://localhost:8080/"
    },
    "executionInfo": {
     "elapsed": 562,
     "status": "ok",
     "timestamp": 1656418140912,
     "user": {
      "displayName": "Hernán Contigiani",
      "userId": "01142101934719343059"
     },
     "user_tz": 180
    },
    "id": "CivDeypZNF2o",
    "outputId": "3885edbb-f1aa-44ca-e716-e9ac777f43d2"
   },
   "outputs": [
    {
     "name": "stdout",
     "output_type": "stream",
     "text": [
      "BOT: Buenas\n"
     ]
    }
   ],
   "source": [
    "message = \"Hola buenos dias\"\n",
    "intents = pred_class(message, words, classes)\n",
    "if len(intents) > 0:\n",
    "    result = get_response(intents, dataset)\n",
    "    print(result)"
   ]
  },
  {
   "cell_type": "code",
   "execution_count": 58,
   "metadata": {
    "id": "Xp1vXQwdOvl7"
   },
   "outputs": [
    {
     "name": "stdout",
     "output_type": "stream",
     "text": [
      "BOT: Decime por favor el detalle de lo que te llego\n",
      "BOT: Decime por favor el detalle de lo que te llego\n",
      "BOT: Buenas\n",
      "BOT: Hasta luego!\n",
      "Perdón, no comprendo la pregunta.\n"
     ]
    }
   ],
   "source": [
    "abc = True\n",
    "while abc == True:\n",
    "    message = input(\"\")\n",
    "    intents = pred_class(message, words, classes)\n",
    "    if len(intents) > 0:\n",
    "        result = get_response(intents, dataset)\n",
    "        print(result)\n",
    "    else:\n",
    "        print(\"Perdón, no comprendo la pregunta.\")\n",
    "    if len(message) == 0:\n",
    "        abc = False\n",
    "    "
   ]
  },
  {
   "cell_type": "markdown",
   "metadata": {
    "id": "ayatkwp4fYQx"
   },
   "source": [
    "### 7 - Conclusiones\n",
    "El bot tal cual está definido es capaz de responder a bastantes bien siempre y cuando las preguntas contengan las palabras que tenemos incoproradas\n",
    "En algunos casos se ve que se enfrenta a ambigüedades y responde sobre otro tag al esperado."
   ]
  }
 ],
 "metadata": {
  "colab": {
   "collapsed_sections": [],
   "name": "2b - bot_dnn_spacy_esp.ipynb",
   "provenance": []
  },
  "kernelspec": {
   "display_name": "Python 3 (ipykernel)",
   "language": "python",
   "name": "python3"
  },
  "language_info": {
   "codemirror_mode": {
    "name": "ipython",
    "version": 3
   },
   "file_extension": ".py",
   "mimetype": "text/x-python",
   "name": "python",
   "nbconvert_exporter": "python",
   "pygments_lexer": "ipython3",
   "version": "3.11.2"
  },
  "widgets": {
   "application/vnd.jupyter.widget-state+json": {
    "02e0f9329403449abcec9511e0adf222": {
     "model_module": "@jupyter-widgets/base",
     "model_module_version": "1.2.0",
     "model_name": "LayoutModel",
     "state": {
      "_model_module": "@jupyter-widgets/base",
      "_model_module_version": "1.2.0",
      "_model_name": "LayoutModel",
      "_view_count": null,
      "_view_module": "@jupyter-widgets/base",
      "_view_module_version": "1.2.0",
      "_view_name": "LayoutView",
      "align_content": null,
      "align_items": null,
      "align_self": null,
      "border": null,
      "bottom": null,
      "display": null,
      "flex": null,
      "flex_flow": null,
      "grid_area": null,
      "grid_auto_columns": null,
      "grid_auto_flow": null,
      "grid_auto_rows": null,
      "grid_column": null,
      "grid_gap": null,
      "grid_row": null,
      "grid_template_areas": null,
      "grid_template_columns": null,
      "grid_template_rows": null,
      "height": null,
      "justify_content": null,
      "justify_items": null,
      "left": null,
      "margin": null,
      "max_height": null,
      "max_width": null,
      "min_height": null,
      "min_width": null,
      "object_fit": null,
      "object_position": null,
      "order": null,
      "overflow": null,
      "overflow_x": null,
      "overflow_y": null,
      "padding": null,
      "right": null,
      "top": null,
      "visibility": null,
      "width": null
     }
    },
    "17aa0034e7e9403c8e0e23d10242a82e": {
     "model_module": "@jupyter-widgets/controls",
     "model_module_version": "1.5.0",
     "model_name": "DescriptionStyleModel",
     "state": {
      "_model_module": "@jupyter-widgets/controls",
      "_model_module_version": "1.5.0",
      "_model_name": "DescriptionStyleModel",
      "_view_count": null,
      "_view_module": "@jupyter-widgets/base",
      "_view_module_version": "1.2.0",
      "_view_name": "StyleView",
      "description_width": ""
     }
    },
    "17d1a7147abd43c98f9519a914028b3a": {
     "model_module": "@jupyter-widgets/controls",
     "model_module_version": "1.5.0",
     "model_name": "HTMLModel",
     "state": {
      "_dom_classes": [],
      "_model_module": "@jupyter-widgets/controls",
      "_model_module_version": "1.5.0",
      "_model_name": "HTMLModel",
      "_view_count": null,
      "_view_module": "@jupyter-widgets/controls",
      "_view_module_version": "1.5.0",
      "_view_name": "HTMLView",
      "description": "",
      "description_tooltip": null,
      "layout": "IPY_MODEL_45efd8b1dc4e476e91c6c1b2d95a685e",
      "placeholder": "​",
      "style": "IPY_MODEL_52862d780e66465db8dea872b33e912d",
      "value": " 140k/? [00:00&lt;00:00, 3.10MB/s]"
     }
    },
    "1935d7a1124e4da0b4fe833eea463e1c": {
     "model_module": "@jupyter-widgets/controls",
     "model_module_version": "1.5.0",
     "model_name": "ProgressStyleModel",
     "state": {
      "_model_module": "@jupyter-widgets/controls",
      "_model_module_version": "1.5.0",
      "_model_name": "ProgressStyleModel",
      "_view_count": null,
      "_view_module": "@jupyter-widgets/base",
      "_view_module_version": "1.2.0",
      "_view_name": "StyleView",
      "bar_color": null,
      "description_width": ""
     }
    },
    "2085f017f7bd4edea914d77864d8e857": {
     "model_module": "@jupyter-widgets/base",
     "model_module_version": "1.2.0",
     "model_name": "LayoutModel",
     "state": {
      "_model_module": "@jupyter-widgets/base",
      "_model_module_version": "1.2.0",
      "_model_name": "LayoutModel",
      "_view_count": null,
      "_view_module": "@jupyter-widgets/base",
      "_view_module_version": "1.2.0",
      "_view_name": "LayoutView",
      "align_content": null,
      "align_items": null,
      "align_self": null,
      "border": null,
      "bottom": null,
      "display": null,
      "flex": null,
      "flex_flow": null,
      "grid_area": null,
      "grid_auto_columns": null,
      "grid_auto_flow": null,
      "grid_auto_rows": null,
      "grid_column": null,
      "grid_gap": null,
      "grid_row": null,
      "grid_template_areas": null,
      "grid_template_columns": null,
      "grid_template_rows": null,
      "height": null,
      "justify_content": null,
      "justify_items": null,
      "left": null,
      "margin": null,
      "max_height": null,
      "max_width": null,
      "min_height": null,
      "min_width": null,
      "object_fit": null,
      "object_position": null,
      "order": null,
      "overflow": null,
      "overflow_x": null,
      "overflow_y": null,
      "padding": null,
      "right": null,
      "top": null,
      "visibility": null,
      "width": null
     }
    },
    "28646eec34a843de818b6693e9c6d341": {
     "model_module": "@jupyter-widgets/controls",
     "model_module_version": "1.5.0",
     "model_name": "HBoxModel",
     "state": {
      "_dom_classes": [],
      "_model_module": "@jupyter-widgets/controls",
      "_model_module_version": "1.5.0",
      "_model_name": "HBoxModel",
      "_view_count": null,
      "_view_module": "@jupyter-widgets/controls",
      "_view_module_version": "1.5.0",
      "_view_name": "HBoxView",
      "box_style": "",
      "children": [
       "IPY_MODEL_5fef8dc909834f8ea1cb2dc92dad353c",
       "IPY_MODEL_a70c05f499214f229bc2216041af3bc6",
       "IPY_MODEL_d3f53a10da4e479e9cf8569a2cb922ae"
      ],
      "layout": "IPY_MODEL_2085f017f7bd4edea914d77864d8e857"
     }
    },
    "2e1491f09b1d4d83aa23f9e048f12549": {
     "model_module": "@jupyter-widgets/controls",
     "model_module_version": "1.5.0",
     "model_name": "HBoxModel",
     "state": {
      "_dom_classes": [],
      "_model_module": "@jupyter-widgets/controls",
      "_model_module_version": "1.5.0",
      "_model_name": "HBoxModel",
      "_view_count": null,
      "_view_module": "@jupyter-widgets/controls",
      "_view_module_version": "1.5.0",
      "_view_name": "HBoxView",
      "box_style": "",
      "children": [
       "IPY_MODEL_318284ecca2048b3ac6f4fdb62d62d66",
       "IPY_MODEL_65463115440c45d48e3367298a1c3173",
       "IPY_MODEL_17d1a7147abd43c98f9519a914028b3a"
      ],
      "layout": "IPY_MODEL_752b24a570d14bc198ab4fc44d35d39e"
     }
    },
    "318284ecca2048b3ac6f4fdb62d62d66": {
     "model_module": "@jupyter-widgets/controls",
     "model_module_version": "1.5.0",
     "model_name": "HTMLModel",
     "state": {
      "_dom_classes": [],
      "_model_module": "@jupyter-widgets/controls",
      "_model_module_version": "1.5.0",
      "_model_name": "HTMLModel",
      "_view_count": null,
      "_view_module": "@jupyter-widgets/controls",
      "_view_module_version": "1.5.0",
      "_view_name": "HTMLView",
      "description": "",
      "description_tooltip": null,
      "layout": "IPY_MODEL_ff2691c1fb714279bd03a28fda9252a6",
      "placeholder": "​",
      "style": "IPY_MODEL_c20de27ec6b4450dbb1a7df4f208a89c",
      "value": "Downloading https://raw.githubusercontent.com/stanfordnlp/stanza-resources/main/resources_1.2.2.json: "
     }
    },
    "4291c806ae8348508bd38933f56230af": {
     "model_module": "@jupyter-widgets/base",
     "model_module_version": "1.2.0",
     "model_name": "LayoutModel",
     "state": {
      "_model_module": "@jupyter-widgets/base",
      "_model_module_version": "1.2.0",
      "_model_name": "LayoutModel",
      "_view_count": null,
      "_view_module": "@jupyter-widgets/base",
      "_view_module_version": "1.2.0",
      "_view_name": "LayoutView",
      "align_content": null,
      "align_items": null,
      "align_self": null,
      "border": null,
      "bottom": null,
      "display": null,
      "flex": null,
      "flex_flow": null,
      "grid_area": null,
      "grid_auto_columns": null,
      "grid_auto_flow": null,
      "grid_auto_rows": null,
      "grid_column": null,
      "grid_gap": null,
      "grid_row": null,
      "grid_template_areas": null,
      "grid_template_columns": null,
      "grid_template_rows": null,
      "height": null,
      "justify_content": null,
      "justify_items": null,
      "left": null,
      "margin": null,
      "max_height": null,
      "max_width": null,
      "min_height": null,
      "min_width": null,
      "object_fit": null,
      "object_position": null,
      "order": null,
      "overflow": null,
      "overflow_x": null,
      "overflow_y": null,
      "padding": null,
      "right": null,
      "top": null,
      "visibility": null,
      "width": null
     }
    },
    "45efd8b1dc4e476e91c6c1b2d95a685e": {
     "model_module": "@jupyter-widgets/base",
     "model_module_version": "1.2.0",
     "model_name": "LayoutModel",
     "state": {
      "_model_module": "@jupyter-widgets/base",
      "_model_module_version": "1.2.0",
      "_model_name": "LayoutModel",
      "_view_count": null,
      "_view_module": "@jupyter-widgets/base",
      "_view_module_version": "1.2.0",
      "_view_name": "LayoutView",
      "align_content": null,
      "align_items": null,
      "align_self": null,
      "border": null,
      "bottom": null,
      "display": null,
      "flex": null,
      "flex_flow": null,
      "grid_area": null,
      "grid_auto_columns": null,
      "grid_auto_flow": null,
      "grid_auto_rows": null,
      "grid_column": null,
      "grid_gap": null,
      "grid_row": null,
      "grid_template_areas": null,
      "grid_template_columns": null,
      "grid_template_rows": null,
      "height": null,
      "justify_content": null,
      "justify_items": null,
      "left": null,
      "margin": null,
      "max_height": null,
      "max_width": null,
      "min_height": null,
      "min_width": null,
      "object_fit": null,
      "object_position": null,
      "order": null,
      "overflow": null,
      "overflow_x": null,
      "overflow_y": null,
      "padding": null,
      "right": null,
      "top": null,
      "visibility": null,
      "width": null
     }
    },
    "52862d780e66465db8dea872b33e912d": {
     "model_module": "@jupyter-widgets/controls",
     "model_module_version": "1.5.0",
     "model_name": "DescriptionStyleModel",
     "state": {
      "_model_module": "@jupyter-widgets/controls",
      "_model_module_version": "1.5.0",
      "_model_name": "DescriptionStyleModel",
      "_view_count": null,
      "_view_module": "@jupyter-widgets/base",
      "_view_module_version": "1.2.0",
      "_view_name": "StyleView",
      "description_width": ""
     }
    },
    "5fef8dc909834f8ea1cb2dc92dad353c": {
     "model_module": "@jupyter-widgets/controls",
     "model_module_version": "1.5.0",
     "model_name": "HTMLModel",
     "state": {
      "_dom_classes": [],
      "_model_module": "@jupyter-widgets/controls",
      "_model_module_version": "1.5.0",
      "_model_name": "HTMLModel",
      "_view_count": null,
      "_view_module": "@jupyter-widgets/controls",
      "_view_module_version": "1.5.0",
      "_view_name": "HTMLView",
      "description": "",
      "description_tooltip": null,
      "layout": "IPY_MODEL_02e0f9329403449abcec9511e0adf222",
      "placeholder": "​",
      "style": "IPY_MODEL_17aa0034e7e9403c8e0e23d10242a82e",
      "value": "Downloading http://nlp.stanford.edu/software/stanza/1.2.2/es/default.zip: 100%"
     }
    },
    "65463115440c45d48e3367298a1c3173": {
     "model_module": "@jupyter-widgets/controls",
     "model_module_version": "1.5.0",
     "model_name": "FloatProgressModel",
     "state": {
      "_dom_classes": [],
      "_model_module": "@jupyter-widgets/controls",
      "_model_module_version": "1.5.0",
      "_model_name": "FloatProgressModel",
      "_view_count": null,
      "_view_module": "@jupyter-widgets/controls",
      "_view_module_version": "1.5.0",
      "_view_name": "ProgressView",
      "bar_style": "success",
      "description": "",
      "description_tooltip": null,
      "layout": "IPY_MODEL_71bd5ed6192b4c99969afc81d3873292",
      "max": 24144,
      "min": 0,
      "orientation": "horizontal",
      "style": "IPY_MODEL_acea3df585d042c1a8ee0416cda3e283",
      "value": 24144
     }
    },
    "71bd5ed6192b4c99969afc81d3873292": {
     "model_module": "@jupyter-widgets/base",
     "model_module_version": "1.2.0",
     "model_name": "LayoutModel",
     "state": {
      "_model_module": "@jupyter-widgets/base",
      "_model_module_version": "1.2.0",
      "_model_name": "LayoutModel",
      "_view_count": null,
      "_view_module": "@jupyter-widgets/base",
      "_view_module_version": "1.2.0",
      "_view_name": "LayoutView",
      "align_content": null,
      "align_items": null,
      "align_self": null,
      "border": null,
      "bottom": null,
      "display": null,
      "flex": null,
      "flex_flow": null,
      "grid_area": null,
      "grid_auto_columns": null,
      "grid_auto_flow": null,
      "grid_auto_rows": null,
      "grid_column": null,
      "grid_gap": null,
      "grid_row": null,
      "grid_template_areas": null,
      "grid_template_columns": null,
      "grid_template_rows": null,
      "height": null,
      "justify_content": null,
      "justify_items": null,
      "left": null,
      "margin": null,
      "max_height": null,
      "max_width": null,
      "min_height": null,
      "min_width": null,
      "object_fit": null,
      "object_position": null,
      "order": null,
      "overflow": null,
      "overflow_x": null,
      "overflow_y": null,
      "padding": null,
      "right": null,
      "top": null,
      "visibility": null,
      "width": null
     }
    },
    "752b24a570d14bc198ab4fc44d35d39e": {
     "model_module": "@jupyter-widgets/base",
     "model_module_version": "1.2.0",
     "model_name": "LayoutModel",
     "state": {
      "_model_module": "@jupyter-widgets/base",
      "_model_module_version": "1.2.0",
      "_model_name": "LayoutModel",
      "_view_count": null,
      "_view_module": "@jupyter-widgets/base",
      "_view_module_version": "1.2.0",
      "_view_name": "LayoutView",
      "align_content": null,
      "align_items": null,
      "align_self": null,
      "border": null,
      "bottom": null,
      "display": null,
      "flex": null,
      "flex_flow": null,
      "grid_area": null,
      "grid_auto_columns": null,
      "grid_auto_flow": null,
      "grid_auto_rows": null,
      "grid_column": null,
      "grid_gap": null,
      "grid_row": null,
      "grid_template_areas": null,
      "grid_template_columns": null,
      "grid_template_rows": null,
      "height": null,
      "justify_content": null,
      "justify_items": null,
      "left": null,
      "margin": null,
      "max_height": null,
      "max_width": null,
      "min_height": null,
      "min_width": null,
      "object_fit": null,
      "object_position": null,
      "order": null,
      "overflow": null,
      "overflow_x": null,
      "overflow_y": null,
      "padding": null,
      "right": null,
      "top": null,
      "visibility": null,
      "width": null
     }
    },
    "8b9903ed978a4db2899f61f747011173": {
     "model_module": "@jupyter-widgets/base",
     "model_module_version": "1.2.0",
     "model_name": "LayoutModel",
     "state": {
      "_model_module": "@jupyter-widgets/base",
      "_model_module_version": "1.2.0",
      "_model_name": "LayoutModel",
      "_view_count": null,
      "_view_module": "@jupyter-widgets/base",
      "_view_module_version": "1.2.0",
      "_view_name": "LayoutView",
      "align_content": null,
      "align_items": null,
      "align_self": null,
      "border": null,
      "bottom": null,
      "display": null,
      "flex": null,
      "flex_flow": null,
      "grid_area": null,
      "grid_auto_columns": null,
      "grid_auto_flow": null,
      "grid_auto_rows": null,
      "grid_column": null,
      "grid_gap": null,
      "grid_row": null,
      "grid_template_areas": null,
      "grid_template_columns": null,
      "grid_template_rows": null,
      "height": null,
      "justify_content": null,
      "justify_items": null,
      "left": null,
      "margin": null,
      "max_height": null,
      "max_width": null,
      "min_height": null,
      "min_width": null,
      "object_fit": null,
      "object_position": null,
      "order": null,
      "overflow": null,
      "overflow_x": null,
      "overflow_y": null,
      "padding": null,
      "right": null,
      "top": null,
      "visibility": null,
      "width": null
     }
    },
    "9f8ac2f26e9648dd9a7befff9b6b1e10": {
     "model_module": "@jupyter-widgets/controls",
     "model_module_version": "1.5.0",
     "model_name": "DescriptionStyleModel",
     "state": {
      "_model_module": "@jupyter-widgets/controls",
      "_model_module_version": "1.5.0",
      "_model_name": "DescriptionStyleModel",
      "_view_count": null,
      "_view_module": "@jupyter-widgets/base",
      "_view_module_version": "1.2.0",
      "_view_name": "StyleView",
      "description_width": ""
     }
    },
    "a70c05f499214f229bc2216041af3bc6": {
     "model_module": "@jupyter-widgets/controls",
     "model_module_version": "1.5.0",
     "model_name": "FloatProgressModel",
     "state": {
      "_dom_classes": [],
      "_model_module": "@jupyter-widgets/controls",
      "_model_module_version": "1.5.0",
      "_model_name": "FloatProgressModel",
      "_view_count": null,
      "_view_module": "@jupyter-widgets/controls",
      "_view_module_version": "1.5.0",
      "_view_name": "ProgressView",
      "bar_style": "success",
      "description": "",
      "description_tooltip": null,
      "layout": "IPY_MODEL_4291c806ae8348508bd38933f56230af",
      "max": 565553347,
      "min": 0,
      "orientation": "horizontal",
      "style": "IPY_MODEL_1935d7a1124e4da0b4fe833eea463e1c",
      "value": 565553347
     }
    },
    "acea3df585d042c1a8ee0416cda3e283": {
     "model_module": "@jupyter-widgets/controls",
     "model_module_version": "1.5.0",
     "model_name": "ProgressStyleModel",
     "state": {
      "_model_module": "@jupyter-widgets/controls",
      "_model_module_version": "1.5.0",
      "_model_name": "ProgressStyleModel",
      "_view_count": null,
      "_view_module": "@jupyter-widgets/base",
      "_view_module_version": "1.2.0",
      "_view_name": "StyleView",
      "bar_color": null,
      "description_width": ""
     }
    },
    "c20de27ec6b4450dbb1a7df4f208a89c": {
     "model_module": "@jupyter-widgets/controls",
     "model_module_version": "1.5.0",
     "model_name": "DescriptionStyleModel",
     "state": {
      "_model_module": "@jupyter-widgets/controls",
      "_model_module_version": "1.5.0",
      "_model_name": "DescriptionStyleModel",
      "_view_count": null,
      "_view_module": "@jupyter-widgets/base",
      "_view_module_version": "1.2.0",
      "_view_name": "StyleView",
      "description_width": ""
     }
    },
    "d3f53a10da4e479e9cf8569a2cb922ae": {
     "model_module": "@jupyter-widgets/controls",
     "model_module_version": "1.5.0",
     "model_name": "HTMLModel",
     "state": {
      "_dom_classes": [],
      "_model_module": "@jupyter-widgets/controls",
      "_model_module_version": "1.5.0",
      "_model_name": "HTMLModel",
      "_view_count": null,
      "_view_module": "@jupyter-widgets/controls",
      "_view_module_version": "1.5.0",
      "_view_name": "HTMLView",
      "description": "",
      "description_tooltip": null,
      "layout": "IPY_MODEL_8b9903ed978a4db2899f61f747011173",
      "placeholder": "​",
      "style": "IPY_MODEL_9f8ac2f26e9648dd9a7befff9b6b1e10",
      "value": " 566M/566M [01:44&lt;00:00, 5.27MB/s]"
     }
    },
    "ff2691c1fb714279bd03a28fda9252a6": {
     "model_module": "@jupyter-widgets/base",
     "model_module_version": "1.2.0",
     "model_name": "LayoutModel",
     "state": {
      "_model_module": "@jupyter-widgets/base",
      "_model_module_version": "1.2.0",
      "_model_name": "LayoutModel",
      "_view_count": null,
      "_view_module": "@jupyter-widgets/base",
      "_view_module_version": "1.2.0",
      "_view_name": "LayoutView",
      "align_content": null,
      "align_items": null,
      "align_self": null,
      "border": null,
      "bottom": null,
      "display": null,
      "flex": null,
      "flex_flow": null,
      "grid_area": null,
      "grid_auto_columns": null,
      "grid_auto_flow": null,
      "grid_auto_rows": null,
      "grid_column": null,
      "grid_gap": null,
      "grid_row": null,
      "grid_template_areas": null,
      "grid_template_columns": null,
      "grid_template_rows": null,
      "height": null,
      "justify_content": null,
      "justify_items": null,
      "left": null,
      "margin": null,
      "max_height": null,
      "max_width": null,
      "min_height": null,
      "min_width": null,
      "object_fit": null,
      "object_position": null,
      "order": null,
      "overflow": null,
      "overflow_x": null,
      "overflow_y": null,
      "padding": null,
      "right": null,
      "top": null,
      "visibility": null,
      "width": null
     }
    }
   }
  }
 },
 "nbformat": 4,
 "nbformat_minor": 4
}
