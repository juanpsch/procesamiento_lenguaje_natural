{
 "cells": [
  {
   "cell_type": "markdown",
   "metadata": {
    "id": "pfa39F4lsLf3"
   },
   "source": [
    "<img src=\"https://github.com/hernancontigiani/ceia_memorias_especializacion/raw/master/Figures/logoFIUBA.jpg\" width=\"500\" align=\"center\">\n",
    "\n",
    "\n",
    "# Procesamiento de lenguaje natural\n",
    "## LSTM encoder-decoder"
   ]
  },
  {
   "cell_type": "markdown",
   "metadata": {
    "id": "ZqO0PRcFsPTe"
   },
   "source": [
    "### 1 - Datos\n",
    "El objecto es utilizar una serie de sucuencias númericas (datos sintéticos) para poner a prueba el uso de las redes LSTM. Este ejemplo se inspiró en otro artículo, lo tienen como referencia en el siguiente link:\\\n",
    "[LINK](https://stackabuse.com/solving-sequence-problems-with-lstm-in-keras-part-2/)"
   ]
  },
  {
   "cell_type": "code",
   "execution_count": 2,
   "metadata": {
    "id": "cq3YXak9sGHd"
   },
   "outputs": [],
   "source": [
    "import re\n",
    "\n",
    "import numpy as np\n",
    "import pandas as pd\n",
    "\n",
    "import tensorflow as tf\n",
    "from keras.preprocessing.text import one_hot\n",
    "from tensorflow.keras.utils import pad_sequences\n",
    "from keras.models import Sequential\n",
    "from keras.layers import Activation, Dropout, Dense\n",
    "from keras.layers import Flatten, LSTM, SimpleRNN\n",
    "from keras.models import Model\n",
    "from keras.layers import Embedding\n",
    "from sklearn.model_selection import train_test_split\n",
    "from keras.preprocessing.text import Tokenizer\n",
    "from keras.layers import Input"
   ]
  },
  {
   "cell_type": "code",
   "execution_count": 3,
   "metadata": {
    "id": "-9aNLZBDtA5J"
   },
   "outputs": [
    {
     "name": "stdout",
     "output_type": "stream",
     "text": [
      "datos X (len=60): [5, 10, 15, 20, 25, 30, 35, 40, 45, 50, 55, 60, 65, 70, 75, 80, 85, 90, 95, 100, 105, 110, 115, 120, 125, 130, 135, 140, 145, 150, 155, 160, 165, 170, 175, 180, 185, 190, 195, 200, 205, 210, 215, 220, 225, 230, 235, 240, 245, 250, 255, 260, 265, 270, 275, 280, 285, 290, 295, 300]\n",
      "datos y (len=60): [20, 25, 30, 35, 40, 45, 50, 55, 60, 65, 70, 75, 80, 85, 90, 95, 100, 105, 110, 115, 120, 125, 130, 135, 140, 145, 150, 155, 160, 165, 170, 175, 180, 185, 190, 195, 200, 205, 210, 215, 220, 225, 230, 235, 240, 245, 250, 255, 260, 265, 270, 275, 280, 285, 290, 295, 300, 305, 310, 315]\n"
     ]
    }
   ],
   "source": [
    "# Generar datos sintéticos\n",
    "X = list()\n",
    "y = list()\n",
    "\n",
    "# En ambos casos \"X\" e \"y\" son vectores de números de 5 en 5\n",
    "X = [x for x in range(5, 301, 5)]\n",
    "y = [x+15 for x in X]\n",
    "\n",
    "print(f\"datos X (len={len(X)}):\", X)\n",
    "print(f\"datos y (len={len(y)}):\", y)"
   ]
  },
  {
   "cell_type": "code",
   "execution_count": 4,
   "metadata": {
    "id": "5ACkrI0GtEAM"
   },
   "outputs": [
    {
     "name": "stdout",
     "output_type": "stream",
     "text": [
      "datos X[0:2]: [[[ 5]\n",
      "  [10]\n",
      "  [15]]\n",
      "\n",
      " [[20]\n",
      "  [25]\n",
      "  [30]]]\n",
      "datos y[0:2]: [[[20]\n",
      "  [25]\n",
      "  [30]]\n",
      "\n",
      " [[35]\n",
      "  [40]\n",
      "  [45]]]\n"
     ]
    }
   ],
   "source": [
    "# Se desea agrupar los datos de a 3 elementos\n",
    "X = np.array(X).reshape(len(X)//3, 3, 1)\n",
    "y = np.array(y).reshape(len(y)//3, 3, 1)\n",
    "print(\"datos X[0:2]:\", X[0:2])\n",
    "print(\"datos y[0:2]:\", y[0:2])"
   ]
  },
  {
   "cell_type": "code",
   "execution_count": 5,
   "metadata": {
    "id": "ajykLcJ8tFfN"
   },
   "outputs": [
    {
     "name": "stdout",
     "output_type": "stream",
     "text": [
      "X shape: (20, 3, 1)\n",
      "y shape: (20, 3, 1)\n"
     ]
    }
   ],
   "source": [
    "# Verificamos que la secuencia entrada es igual a la secuencia de salida\n",
    "# en cuanto a dimensiones\n",
    "# Tendremos:\n",
    "#  --> veinte grupos de datos (rows) (20)\n",
    "#  --> cada grupo compuesto por tres elementos (3)\n",
    "#  --> cada elemento representado en una sola dimensión (1)\n",
    "print(\"X shape:\", X.shape)\n",
    "print(\"y shape:\", y.shape)"
   ]
  },
  {
   "cell_type": "markdown",
   "metadata": {
    "id": "LZz9Zsvy5ilc"
   },
   "source": [
    "### 2 - Preprocesamiento"
   ]
  },
  {
   "cell_type": "code",
   "execution_count": 7,
   "metadata": {
    "id": "nCTu6NElI1ge"
   },
   "outputs": [
    {
     "data": {
      "text/plain": [
       "array([  0,   5,  10,  15,  20,  25,  30,  35,  40,  45,  50,  55,  60,\n",
       "        65,  70,  75,  80,  85,  90,  95, 100, 105, 110, 115, 120, 125,\n",
       "       130, 135, 140, 145, 150, 155, 160, 165, 170, 175, 180, 185, 190,\n",
       "       195, 200, 205, 210, 215, 220, 225, 230, 235, 240, 245, 250, 255,\n",
       "       260, 265, 270, 275, 280, 285, 290, 295, 300, 305, 310, 315])"
      ]
     },
     "execution_count": 7,
     "metadata": {},
     "output_type": "execute_result"
    }
   ],
   "source": [
    "from sklearn import preprocessing\n",
    "# Armar el \"corpus\" de números\n",
    "data = np.append(X, y)\n",
    "\n",
    "# Identificar el vocabulario del corpus (todos los números únicos)\n",
    "labels = list(np.unique(data))\n",
    "\n",
    "# Al vocabulario (labels) agregarle el token de inicio de secuencia\n",
    "# Se utiliza el número \"0\" para el <sos>, aprovechando que el \"0\"\n",
    "# no se encuentra en el vocabulario\n",
    "# En este ejemplo todavía no vamos a usar un token especial de <eos>\n",
    "# ya que siempre queremos inferir una secuencia de tamaño fijo \n",
    "# a la salida del decoder\n",
    "labels = [0] + labels # <sos> + vocabulario\n",
    "\n",
    "# LabelEncoder transforma el dato al token correspondiente\n",
    "# Ahora cada número cumple el rol de un término de un corpus\n",
    "# y tendrá su índice asociado después de pasar por una tokenización\n",
    "label_encoder = preprocessing.LabelEncoder()\n",
    "label_encoder.fit(labels)\n",
    "label_encoder.classes_"
   ]
  },
  {
   "cell_type": "code",
   "execution_count": 9,
   "metadata": {
    "id": "J86H4qb6NEQp"
   },
   "outputs": [],
   "source": [
    "from keras.utils import to_categorical\n",
    "\n",
    "# Preparar datos para consumir por la layers LSTM\n",
    "# Por cada dato de X e Y se genera su contraparte oneHotEncoding\n",
    "# X1 equivale a X, es la secuencia de entrada\n",
    "# X2 es una secuencia equivalente a y pero sin el último elemento y \n",
    "# teniendo al token <sos> como primer elemento. Es la secuencia de \"estado anterior\"\n",
    "# target equivale a Y como OneHotEncoding, la predicción completa con el último elemento\n",
    "# a la salida del decoder\n",
    "\n",
    "def get_dataset(X, Y, label_encoder):\n",
    "\n",
    "    cardinality = len(label_encoder.classes_)\n",
    "    print(\"Number of features/cardinality:\", cardinality)\n",
    "\n",
    "    X1, X2, target = list(), list(), list()\n",
    "    for x, y in zip(X, Y):\n",
    "        input = list(label_encoder.transform(x.reshape(-1)))\n",
    "        output = list(label_encoder.transform(y.reshape(-1)))\n",
    "        # Crear la entrada del \"último estado\" de salida\n",
    "        # que es la salida sin el último elemento, que es el que el modelo\n",
    "        # debe predecir\n",
    "        output_in = [0] + output[:-1]\n",
    "\n",
    "        # transformar\n",
    "        input_encoded = to_categorical(input, num_classes=cardinality)\n",
    "        output_encoded = to_categorical(output, num_classes=cardinality)\n",
    "        output_in_encoded = to_categorical(output_in, num_classes=cardinality)\n",
    "        \n",
    "        # almacenar\n",
    "        X1.append(input_encoded)\n",
    "        X2.append(output_in_encoded)\n",
    "        target.append(output_encoded)\n",
    "    return np.array(X1), np.array(X2), np.array(target)"
   ]
  },
  {
   "cell_type": "code",
   "execution_count": 10,
   "metadata": {
    "id": "pO2sS3ntkeEf"
   },
   "outputs": [
    {
     "name": "stdout",
     "output_type": "stream",
     "text": [
      "Number of features/cardinality: 64\n"
     ]
    }
   ],
   "source": [
    "X1, X2, target = get_dataset(X, y, label_encoder)"
   ]
  },
  {
   "cell_type": "markdown",
   "metadata": {
    "id": "Qu4pTKAm8UWQ"
   },
   "source": [
    "El oneHotEncoding tiene una diemsión de -> vocabulario + tokens_especiales:\n",
    "- 63 números únicos (vocab)\n",
    "- 1 token especial ( \\<sos> como id=0)"
   ]
  },
  {
   "cell_type": "code",
   "execution_count": 11,
   "metadata": {
    "id": "XXEI1Rfkgngt"
   },
   "outputs": [
    {
     "name": "stdout",
     "output_type": "stream",
     "text": [
      "X1 shape: (20, 3, 64)\n",
      "X2 shape: (20, 3, 64)\n",
      "target shape: (20, 3, 64)\n",
      "Number of input_features 64\n",
      "Number of output_features 64\n"
     ]
    }
   ],
   "source": [
    "# El vector de salida tiene 3 dimensiones:\n",
    "# primera dimensión es la cantidad de \"rows\" del dataset\n",
    "# segunda dimensión es el tamaño de la sequencia de entrada/salida\n",
    "# tercera dimensión es la dimensionalidad del vector oneHotEncoding (cardinalidad)\n",
    "\n",
    "print(\"X1 shape:\", X1.shape)\n",
    "print(\"X2 shape:\", X2.shape)\n",
    "print(\"target shape:\", target.shape)\n",
    "\n",
    "in_features = X1.shape[-1]\n",
    "output_features = target.shape[-1]\n",
    "print(\"Number of input_features\", in_features)\n",
    "print(\"Number of output_features\", output_features)"
   ]
  },
  {
   "cell_type": "markdown",
   "metadata": {
    "id": "3vKbhjtIwPgM"
   },
   "source": [
    "### 3 - Entrenar el modelo"
   ]
  },
  {
   "cell_type": "code",
   "execution_count": 12,
   "metadata": {
    "id": "t_urD1qO2kOx"
   },
   "outputs": [],
   "source": [
    "# El código a continuación se puede utilizar para cualquier encoder-decoder\n",
    "# que se desee construir con LSTM en el futuro\n",
    "# y es posible cambiar la layer LSTM por otra (GRU, CNN, Attention, etc)\n",
    "# Fuente:\n",
    "# https://blog.keras.io/a-ten-minute-introduction-to-sequence-to-sequence-learning-in-keras.html\n",
    "# https://machinelearningmastery.com/develop-encoder-decoder-model-sequence-sequence-prediction-keras/\n",
    "\n",
    "from keras.models import Model\n",
    "from keras.layers import Input, LSTM, Dense\n",
    "\n",
    "# returns train, inference_encoder and inference_decoder models\n",
    "def define_models(n_input, n_output, n_units):\n",
    "    '''\n",
    "    Args:\n",
    "        n_input: The cardinality of the input sequence, e.g. number of features, words, or characters for each time step.\n",
    "        n_output: The cardinality of the output sequence, e.g. number of features, words, or characters for each time step.\n",
    "        n_units: Size of recurrent layers to use in the encoder and decoder models, e.g. 128 or 256.\n",
    "    output:\n",
    "        train: Model that can be trained given source, target, and shifted target sequences.\n",
    "        inference_encoder: Encoder model used when making a prediction for a new source sequence.\n",
    "        inference_decoder Decoder model use when making a prediction for a new source sequence.\n",
    "    '''\n",
    "    # define training encoder\n",
    "    encoder_inputs = Input(shape=(None, n_input))\n",
    "    encoder = LSTM(n_units, return_state=True)\n",
    "    encoder_outputs, state_h, state_c = encoder(encoder_inputs)\n",
    "    encoder_states = [state_h, state_c]\n",
    "\n",
    "    # define training decoder\n",
    "    decoder_inputs = Input(shape=(None, n_output))\n",
    "    decoder_lstm = LSTM(n_units, return_sequences=True, return_state=True)\n",
    "    decoder_outputs, _, _ = decoder_lstm(decoder_inputs, initial_state=encoder_states)\n",
    "    decoder_dense = Dense(n_output, activation='softmax')\n",
    "    decoder_outputs = decoder_dense(decoder_outputs)\n",
    "    model = Model([encoder_inputs, decoder_inputs], decoder_outputs)\n",
    "\n",
    "    # define inference encoder\n",
    "    encoder_model = Model(encoder_inputs, encoder_states)\n",
    "\n",
    "    # define inference decoder\n",
    "    decoder_state_input_h = Input(shape=(n_units,))\n",
    "    decoder_state_input_c = Input(shape=(n_units,))\n",
    "    decoder_states_inputs = [decoder_state_input_h, decoder_state_input_c]\n",
    "    decoder_outputs, state_h, state_c = decoder_lstm(decoder_inputs, initial_state=decoder_states_inputs)\n",
    "    decoder_states = [state_h, state_c]\n",
    "    decoder_outputs = decoder_dense(decoder_outputs)\n",
    "    decoder_model = Model([decoder_inputs] + decoder_states_inputs, [decoder_outputs] + decoder_states)\n",
    "    # return all models\n",
    "    return model, encoder_model, decoder_model"
   ]
  },
  {
   "cell_type": "code",
   "execution_count": 13,
   "metadata": {
    "id": "uHtV5z_wGOwj"
   },
   "outputs": [
    {
     "name": "stdout",
     "output_type": "stream",
     "text": [
      "Model: \"model\"\n",
      "__________________________________________________________________________________________________\n",
      " Layer (type)                Output Shape                 Param #   Connected to                  \n",
      "==================================================================================================\n",
      " input_1 (InputLayer)        [(None, None, 64)]           0         []                            \n",
      "                                                                                                  \n",
      " input_2 (InputLayer)        [(None, None, 64)]           0         []                            \n",
      "                                                                                                  \n",
      " lstm (LSTM)                 [(None, 128),                98816     ['input_1[0][0]']             \n",
      "                              (None, 128),                                                        \n",
      "                              (None, 128)]                                                        \n",
      "                                                                                                  \n",
      " lstm_1 (LSTM)               [(None, None, 128),          98816     ['input_2[0][0]',             \n",
      "                              (None, 128),                           'lstm[0][1]',                \n",
      "                              (None, 128)]                           'lstm[0][2]']                \n",
      "                                                                                                  \n",
      " dense (Dense)               (None, None, 64)             8256      ['lstm_1[0][0]']              \n",
      "                                                                                                  \n",
      "==================================================================================================\n",
      "Total params: 205888 (804.25 KB)\n",
      "Trainable params: 205888 (804.25 KB)\n",
      "Non-trainable params: 0 (0.00 Byte)\n",
      "__________________________________________________________________________________________________\n"
     ]
    }
   ],
   "source": [
    "model, encoder_model, decoder_model = define_models(in_features, output_features, n_units=128)\n",
    "\n",
    "model.compile(loss='categorical_crossentropy', optimizer=\"Adam\")\n",
    "model.summary()"
   ]
  },
  {
   "cell_type": "markdown",
   "metadata": {
    "id": "v8PlXsXeuGCT"
   },
   "source": [
    "Conclusiones hasta ahora sobre el modelo:\n",
    "- Nunca se especificó en la layer de entrada cuantos elementos recibirá el sistema, es por eso que el modelo se creó para aceptar una cantidad dinámica de batch y size de elementos de 64 dimensiones --> None, None, 64\n",
    "- El primer None corresponde al batch dinámico\n",
    "- El segundo None corresponde al la cantidad de elementos dinámico\n",
    "\n",
    "¿Cómo sabe cuantos elementos deberá esperar el sistema?\n",
    "- En este caso siempre entregaremos 3 elementos al encoder y esperaremos 3 elementos del decoder.\n",
    "- En un siguiente notebook de seq2seq utilizaremos tokens especiales para ello."
   ]
  },
  {
   "cell_type": "code",
   "execution_count": 14,
   "metadata": {
    "id": "2ljAyiBbG10U"
   },
   "outputs": [
    {
     "name": "stdout",
     "output_type": "stream",
     "text": [
      "You must install pydot (`pip install pydot`) and install graphviz (see instructions at https://graphviz.gitlab.io/download/) for plot_model to work.\n"
     ]
    }
   ],
   "source": [
    "# Modelo completo (encoder+decoder) para poder entrenar\n",
    "from keras.utils import plot_model\n",
    "plot_model(model, to_file='model_plot.png', show_shapes=True, show_layer_names=True)"
   ]
  },
  {
   "cell_type": "code",
   "execution_count": 15,
   "metadata": {
    "id": "s1Wc1pnhIKJ6"
   },
   "outputs": [
    {
     "name": "stdout",
     "output_type": "stream",
     "text": [
      "You must install pydot (`pip install pydot`) and install graphviz (see instructions at https://graphviz.gitlab.io/download/) for plot_model to work.\n"
     ]
    }
   ],
   "source": [
    "# Modelo sólo encoder\n",
    "from keras.utils import plot_model\n",
    "plot_model(encoder_model, to_file='encoder_plot.png', show_shapes=True, show_layer_names=True)"
   ]
  },
  {
   "cell_type": "code",
   "execution_count": 16,
   "metadata": {
    "id": "L_xanat4INez"
   },
   "outputs": [
    {
     "name": "stdout",
     "output_type": "stream",
     "text": [
      "You must install pydot (`pip install pydot`) and install graphviz (see instructions at https://graphviz.gitlab.io/download/) for plot_model to work.\n"
     ]
    }
   ],
   "source": [
    "# Modelo sólo decoder (para realizar inferencia)\n",
    "from keras.utils import plot_model\n",
    "plot_model(decoder_model, to_file='decoder_plot.png', show_shapes=True, show_layer_names=True)"
   ]
  },
  {
   "cell_type": "code",
   "execution_count": 17,
   "metadata": {
    "id": "VnlIx1Vezjwc"
   },
   "outputs": [
    {
     "name": "stdout",
     "output_type": "stream",
     "text": [
      "Epoch 1/150\n",
      "4/4 [==============================] - 5s 352ms/step - loss: 4.1670 - val_loss: 4.1588\n",
      "Epoch 2/150\n",
      "4/4 [==============================] - 0s 17ms/step - loss: 4.1419 - val_loss: 4.1661\n",
      "Epoch 3/150\n",
      "4/4 [==============================] - 0s 16ms/step - loss: 4.1218 - val_loss: 4.1733\n",
      "Epoch 4/150\n",
      "4/4 [==============================] - 0s 17ms/step - loss: 4.1023 - val_loss: 4.1808\n",
      "Epoch 5/150\n",
      "4/4 [==============================] - 0s 15ms/step - loss: 4.0820 - val_loss: 4.1890\n",
      "Epoch 6/150\n",
      "4/4 [==============================] - 0s 16ms/step - loss: 4.0614 - val_loss: 4.1981\n",
      "Epoch 7/150\n",
      "4/4 [==============================] - 0s 16ms/step - loss: 4.0401 - val_loss: 4.2079\n",
      "Epoch 8/150\n",
      "4/4 [==============================] - 0s 15ms/step - loss: 4.0161 - val_loss: 4.2184\n",
      "Epoch 9/150\n",
      "4/4 [==============================] - 0s 16ms/step - loss: 3.9896 - val_loss: 4.2306\n",
      "Epoch 10/150\n",
      "4/4 [==============================] - 0s 15ms/step - loss: 3.9612 - val_loss: 4.2441\n",
      "Epoch 11/150\n",
      "4/4 [==============================] - 0s 16ms/step - loss: 3.9278 - val_loss: 4.2612\n",
      "Epoch 12/150\n",
      "4/4 [==============================] - 0s 18ms/step - loss: 3.8912 - val_loss: 4.2831\n",
      "Epoch 13/150\n",
      "4/4 [==============================] - 0s 16ms/step - loss: 3.8456 - val_loss: 4.3109\n",
      "Epoch 14/150\n",
      "4/4 [==============================] - 0s 14ms/step - loss: 3.7907 - val_loss: 4.3469\n",
      "Epoch 15/150\n",
      "4/4 [==============================] - 0s 15ms/step - loss: 3.7212 - val_loss: 4.3962\n",
      "Epoch 16/150\n",
      "4/4 [==============================] - 0s 14ms/step - loss: 3.6302 - val_loss: 4.4655\n",
      "Epoch 17/150\n",
      "4/4 [==============================] - 0s 14ms/step - loss: 3.5145 - val_loss: 4.5679\n",
      "Epoch 18/150\n",
      "4/4 [==============================] - 0s 16ms/step - loss: 3.3699 - val_loss: 4.7341\n",
      "Epoch 19/150\n",
      "4/4 [==============================] - 0s 16ms/step - loss: 3.1573 - val_loss: 4.9961\n",
      "Epoch 20/150\n",
      "4/4 [==============================] - 0s 14ms/step - loss: 2.9373 - val_loss: 5.3967\n",
      "Epoch 21/150\n",
      "4/4 [==============================] - 0s 14ms/step - loss: 2.6979 - val_loss: 5.8464\n",
      "Epoch 22/150\n",
      "4/4 [==============================] - 0s 28ms/step - loss: 2.4503 - val_loss: 6.2120\n",
      "Epoch 23/150\n",
      "4/4 [==============================] - 0s 16ms/step - loss: 2.1950 - val_loss: 6.4925\n",
      "Epoch 24/150\n",
      "4/4 [==============================] - 0s 14ms/step - loss: 1.9154 - val_loss: 6.7858\n",
      "Epoch 25/150\n",
      "4/4 [==============================] - 0s 16ms/step - loss: 1.6771 - val_loss: 7.1294\n",
      "Epoch 26/150\n",
      "4/4 [==============================] - 0s 15ms/step - loss: 1.4631 - val_loss: 7.5009\n",
      "Epoch 27/150\n",
      "4/4 [==============================] - 0s 14ms/step - loss: 1.2576 - val_loss: 7.8352\n",
      "Epoch 28/150\n",
      "4/4 [==============================] - 0s 14ms/step - loss: 1.0893 - val_loss: 8.0734\n",
      "Epoch 29/150\n",
      "4/4 [==============================] - 0s 14ms/step - loss: 0.9469 - val_loss: 8.2421\n",
      "Epoch 30/150\n",
      "4/4 [==============================] - 0s 14ms/step - loss: 0.8263 - val_loss: 8.4065\n",
      "Epoch 31/150\n",
      "4/4 [==============================] - 0s 14ms/step - loss: 0.7281 - val_loss: 8.6279\n",
      "Epoch 32/150\n",
      "4/4 [==============================] - 0s 14ms/step - loss: 0.6427 - val_loss: 8.8182\n",
      "Epoch 33/150\n",
      "4/4 [==============================] - 0s 14ms/step - loss: 0.5741 - val_loss: 8.9573\n",
      "Epoch 34/150\n",
      "4/4 [==============================] - 0s 13ms/step - loss: 0.5153 - val_loss: 9.0821\n",
      "Epoch 35/150\n",
      "4/4 [==============================] - 0s 15ms/step - loss: 0.4633 - val_loss: 9.1219\n",
      "Epoch 36/150\n",
      "4/4 [==============================] - 0s 14ms/step - loss: 0.4205 - val_loss: 9.1343\n",
      "Epoch 37/150\n",
      "4/4 [==============================] - 0s 14ms/step - loss: 0.3843 - val_loss: 9.1436\n",
      "Epoch 38/150\n",
      "4/4 [==============================] - 0s 17ms/step - loss: 0.3510 - val_loss: 9.1716\n",
      "Epoch 39/150\n",
      "4/4 [==============================] - 0s 14ms/step - loss: 0.3235 - val_loss: 9.2044\n",
      "Epoch 40/150\n",
      "4/4 [==============================] - 0s 14ms/step - loss: 0.2982 - val_loss: 9.2496\n",
      "Epoch 41/150\n",
      "4/4 [==============================] - 0s 13ms/step - loss: 0.2759 - val_loss: 9.2643\n",
      "Epoch 42/150\n",
      "4/4 [==============================] - 0s 13ms/step - loss: 0.2560 - val_loss: 9.2712\n",
      "Epoch 43/150\n",
      "4/4 [==============================] - 0s 13ms/step - loss: 0.2390 - val_loss: 9.2896\n",
      "Epoch 44/150\n",
      "4/4 [==============================] - 0s 14ms/step - loss: 0.2245 - val_loss: 9.3248\n",
      "Epoch 45/150\n",
      "4/4 [==============================] - 0s 14ms/step - loss: 0.2107 - val_loss: 9.3737\n",
      "Epoch 46/150\n",
      "4/4 [==============================] - 0s 14ms/step - loss: 0.1983 - val_loss: 9.4043\n",
      "Epoch 47/150\n",
      "4/4 [==============================] - 0s 14ms/step - loss: 0.1867 - val_loss: 9.4117\n",
      "Epoch 48/150\n",
      "4/4 [==============================] - 0s 14ms/step - loss: 0.1757 - val_loss: 9.4222\n",
      "Epoch 49/150\n",
      "4/4 [==============================] - 0s 27ms/step - loss: 0.1662 - val_loss: 9.4115\n",
      "Epoch 50/150\n",
      "4/4 [==============================] - 0s 16ms/step - loss: 0.1570 - val_loss: 9.3882\n",
      "Epoch 51/150\n",
      "4/4 [==============================] - 0s 14ms/step - loss: 0.1491 - val_loss: 9.3719\n",
      "Epoch 52/150\n",
      "4/4 [==============================] - 0s 14ms/step - loss: 0.1409 - val_loss: 9.3856\n",
      "Epoch 53/150\n",
      "4/4 [==============================] - 0s 14ms/step - loss: 0.1341 - val_loss: 9.4100\n",
      "Epoch 54/150\n",
      "4/4 [==============================] - 0s 13ms/step - loss: 0.1276 - val_loss: 9.4329\n",
      "Epoch 55/150\n",
      "4/4 [==============================] - 0s 13ms/step - loss: 0.1219 - val_loss: 9.4294\n",
      "Epoch 56/150\n",
      "4/4 [==============================] - 0s 14ms/step - loss: 0.1174 - val_loss: 9.4368\n",
      "Epoch 57/150\n",
      "4/4 [==============================] - 0s 14ms/step - loss: 0.1112 - val_loss: 9.4409\n",
      "Epoch 58/150\n",
      "4/4 [==============================] - 0s 14ms/step - loss: 0.1064 - val_loss: 9.4606\n",
      "Epoch 59/150\n",
      "4/4 [==============================] - 0s 14ms/step - loss: 0.1020 - val_loss: 9.4828\n",
      "Epoch 60/150\n",
      "4/4 [==============================] - 0s 14ms/step - loss: 0.0972 - val_loss: 9.4958\n",
      "Epoch 61/150\n",
      "4/4 [==============================] - 0s 14ms/step - loss: 0.0926 - val_loss: 9.5079\n",
      "Epoch 62/150\n",
      "4/4 [==============================] - 0s 13ms/step - loss: 0.0888 - val_loss: 9.5245\n",
      "Epoch 63/150\n",
      "4/4 [==============================] - 0s 14ms/step - loss: 0.0850 - val_loss: 9.5353\n",
      "Epoch 64/150\n",
      "4/4 [==============================] - 0s 14ms/step - loss: 0.0817 - val_loss: 9.5440\n",
      "Epoch 65/150\n",
      "4/4 [==============================] - 0s 14ms/step - loss: 0.0786 - val_loss: 9.5626\n",
      "Epoch 66/150\n",
      "4/4 [==============================] - 0s 14ms/step - loss: 0.0752 - val_loss: 9.5778\n",
      "Epoch 67/150\n",
      "4/4 [==============================] - 0s 14ms/step - loss: 0.0724 - val_loss: 9.5850\n",
      "Epoch 68/150\n",
      "4/4 [==============================] - 0s 14ms/step - loss: 0.0697 - val_loss: 9.5812\n",
      "Epoch 69/150\n",
      "4/4 [==============================] - 0s 13ms/step - loss: 0.0671 - val_loss: 9.5812\n",
      "Epoch 70/150\n",
      "4/4 [==============================] - 0s 14ms/step - loss: 0.0648 - val_loss: 9.5887\n",
      "Epoch 71/150\n",
      "4/4 [==============================] - 0s 14ms/step - loss: 0.0625 - val_loss: 9.5942\n",
      "Epoch 72/150\n",
      "4/4 [==============================] - 0s 14ms/step - loss: 0.0604 - val_loss: 9.5995\n",
      "Epoch 73/150\n",
      "4/4 [==============================] - 0s 13ms/step - loss: 0.0584 - val_loss: 9.6116\n",
      "Epoch 74/150\n",
      "4/4 [==============================] - 0s 14ms/step - loss: 0.0565 - val_loss: 9.6261\n",
      "Epoch 75/150\n",
      "4/4 [==============================] - 0s 14ms/step - loss: 0.0547 - val_loss: 9.6479\n",
      "Epoch 76/150\n",
      "4/4 [==============================] - 0s 15ms/step - loss: 0.0530 - val_loss: 9.6637\n",
      "Epoch 77/150\n",
      "4/4 [==============================] - 0s 32ms/step - loss: 0.0514 - val_loss: 9.6698\n",
      "Epoch 78/150\n",
      "4/4 [==============================] - 0s 16ms/step - loss: 0.0498 - val_loss: 9.6767\n",
      "Epoch 79/150\n",
      "4/4 [==============================] - 0s 14ms/step - loss: 0.0483 - val_loss: 9.6819\n",
      "Epoch 80/150\n",
      "4/4 [==============================] - 0s 13ms/step - loss: 0.0469 - val_loss: 9.6911\n",
      "Epoch 81/150\n",
      "4/4 [==============================] - 0s 14ms/step - loss: 0.0456 - val_loss: 9.6974\n",
      "Epoch 82/150\n",
      "4/4 [==============================] - 0s 13ms/step - loss: 0.0443 - val_loss: 9.6997\n",
      "Epoch 83/150\n",
      "4/4 [==============================] - 0s 14ms/step - loss: 0.0430 - val_loss: 9.6961\n",
      "Epoch 84/150\n",
      "4/4 [==============================] - 0s 14ms/step - loss: 0.0419 - val_loss: 9.6947\n",
      "Epoch 85/150\n",
      "4/4 [==============================] - 0s 15ms/step - loss: 0.0408 - val_loss: 9.6966\n",
      "Epoch 86/150\n",
      "4/4 [==============================] - 0s 15ms/step - loss: 0.0397 - val_loss: 9.7056\n",
      "Epoch 87/150\n",
      "4/4 [==============================] - 0s 14ms/step - loss: 0.0387 - val_loss: 9.7131\n",
      "Epoch 88/150\n",
      "4/4 [==============================] - 0s 14ms/step - loss: 0.0377 - val_loss: 9.7221\n",
      "Epoch 89/150\n",
      "4/4 [==============================] - 0s 14ms/step - loss: 0.0366 - val_loss: 9.7265\n",
      "Epoch 90/150\n",
      "4/4 [==============================] - 0s 14ms/step - loss: 0.0358 - val_loss: 9.7326\n",
      "Epoch 91/150\n",
      "4/4 [==============================] - 0s 15ms/step - loss: 0.0348 - val_loss: 9.7391\n",
      "Epoch 92/150\n",
      "4/4 [==============================] - 0s 14ms/step - loss: 0.0341 - val_loss: 9.7461\n",
      "Epoch 93/150\n",
      "4/4 [==============================] - 0s 14ms/step - loss: 0.0333 - val_loss: 9.7528\n",
      "Epoch 94/150\n",
      "4/4 [==============================] - 0s 13ms/step - loss: 0.0325 - val_loss: 9.7601\n",
      "Epoch 95/150\n",
      "4/4 [==============================] - 0s 14ms/step - loss: 0.0318 - val_loss: 9.7675\n",
      "Epoch 96/150\n",
      "4/4 [==============================] - 0s 14ms/step - loss: 0.0310 - val_loss: 9.7746\n",
      "Epoch 97/150\n",
      "4/4 [==============================] - 0s 14ms/step - loss: 0.0303 - val_loss: 9.7833\n",
      "Epoch 98/150\n",
      "4/4 [==============================] - 0s 14ms/step - loss: 0.0296 - val_loss: 9.7927\n",
      "Epoch 99/150\n",
      "4/4 [==============================] - 0s 14ms/step - loss: 0.0290 - val_loss: 9.8002\n",
      "Epoch 100/150\n",
      "4/4 [==============================] - 0s 14ms/step - loss: 0.0284 - val_loss: 9.8047\n",
      "Epoch 101/150\n",
      "4/4 [==============================] - 0s 14ms/step - loss: 0.0278 - val_loss: 9.8079\n",
      "Epoch 102/150\n",
      "4/4 [==============================] - 0s 14ms/step - loss: 0.0272 - val_loss: 9.8126\n",
      "Epoch 103/150\n",
      "4/4 [==============================] - 0s 13ms/step - loss: 0.0266 - val_loss: 9.8186\n",
      "Epoch 104/150\n",
      "4/4 [==============================] - 0s 13ms/step - loss: 0.0260 - val_loss: 9.8237\n",
      "Epoch 105/150\n",
      "4/4 [==============================] - 0s 14ms/step - loss: 0.0255 - val_loss: 9.8287\n",
      "Epoch 106/150\n",
      "4/4 [==============================] - 0s 29ms/step - loss: 0.0250 - val_loss: 9.8358\n",
      "Epoch 107/150\n",
      "4/4 [==============================] - 0s 15ms/step - loss: 0.0244 - val_loss: 9.8441\n",
      "Epoch 108/150\n",
      "4/4 [==============================] - 0s 13ms/step - loss: 0.0239 - val_loss: 9.8520\n",
      "Epoch 109/150\n",
      "4/4 [==============================] - 0s 13ms/step - loss: 0.0234 - val_loss: 9.8593\n",
      "Epoch 110/150\n",
      "4/4 [==============================] - 0s 14ms/step - loss: 0.0229 - val_loss: 9.8662\n",
      "Epoch 111/150\n",
      "4/4 [==============================] - 0s 14ms/step - loss: 0.0224 - val_loss: 9.8693\n",
      "Epoch 112/150\n",
      "4/4 [==============================] - 0s 14ms/step - loss: 0.0219 - val_loss: 9.8732\n",
      "Epoch 113/150\n",
      "4/4 [==============================] - 0s 14ms/step - loss: 0.0215 - val_loss: 9.8743\n",
      "Epoch 114/150\n",
      "4/4 [==============================] - 0s 14ms/step - loss: 0.0211 - val_loss: 9.8757\n",
      "Epoch 115/150\n",
      "4/4 [==============================] - 0s 13ms/step - loss: 0.0206 - val_loss: 9.8764\n",
      "Epoch 116/150\n",
      "4/4 [==============================] - 0s 14ms/step - loss: 0.0202 - val_loss: 9.8754\n",
      "Epoch 117/150\n",
      "4/4 [==============================] - 0s 14ms/step - loss: 0.0198 - val_loss: 9.8733\n",
      "Epoch 118/150\n",
      "4/4 [==============================] - 0s 13ms/step - loss: 0.0195 - val_loss: 9.8718\n",
      "Epoch 119/150\n",
      "4/4 [==============================] - 0s 13ms/step - loss: 0.0191 - val_loss: 9.8720\n",
      "Epoch 120/150\n",
      "4/4 [==============================] - 0s 14ms/step - loss: 0.0188 - val_loss: 9.8731\n",
      "Epoch 121/150\n",
      "4/4 [==============================] - 0s 13ms/step - loss: 0.0185 - val_loss: 9.8749\n",
      "Epoch 122/150\n",
      "4/4 [==============================] - 0s 13ms/step - loss: 0.0181 - val_loss: 9.8788\n",
      "Epoch 123/150\n",
      "4/4 [==============================] - 0s 14ms/step - loss: 0.0179 - val_loss: 9.8844\n",
      "Epoch 124/150\n",
      "4/4 [==============================] - 0s 13ms/step - loss: 0.0175 - val_loss: 9.8908\n",
      "Epoch 125/150\n",
      "4/4 [==============================] - 0s 14ms/step - loss: 0.0172 - val_loss: 9.8968\n",
      "Epoch 126/150\n",
      "4/4 [==============================] - 0s 14ms/step - loss: 0.0169 - val_loss: 9.9013\n",
      "Epoch 127/150\n",
      "4/4 [==============================] - 0s 17ms/step - loss: 0.0166 - val_loss: 9.9042\n",
      "Epoch 128/150\n",
      "4/4 [==============================] - 0s 13ms/step - loss: 0.0164 - val_loss: 9.9090\n",
      "Epoch 129/150\n",
      "4/4 [==============================] - 0s 13ms/step - loss: 0.0161 - val_loss: 9.9133\n",
      "Epoch 130/150\n",
      "4/4 [==============================] - 0s 13ms/step - loss: 0.0159 - val_loss: 9.9167\n",
      "Epoch 131/150\n",
      "4/4 [==============================] - 0s 28ms/step - loss: 0.0156 - val_loss: 9.9198\n",
      "Epoch 132/150\n",
      "4/4 [==============================] - 0s 17ms/step - loss: 0.0153 - val_loss: 9.9220\n",
      "Epoch 133/150\n",
      "4/4 [==============================] - 0s 13ms/step - loss: 0.0151 - val_loss: 9.9229\n",
      "Epoch 134/150\n",
      "4/4 [==============================] - 0s 14ms/step - loss: 0.0149 - val_loss: 9.9232\n",
      "Epoch 135/150\n",
      "4/4 [==============================] - 0s 14ms/step - loss: 0.0146 - val_loss: 9.9239\n",
      "Epoch 136/150\n",
      "4/4 [==============================] - 0s 14ms/step - loss: 0.0144 - val_loss: 9.9266\n",
      "Epoch 137/150\n",
      "4/4 [==============================] - 0s 13ms/step - loss: 0.0142 - val_loss: 9.9309\n",
      "Epoch 138/150\n",
      "4/4 [==============================] - 0s 13ms/step - loss: 0.0140 - val_loss: 9.9352\n",
      "Epoch 139/150\n",
      "4/4 [==============================] - 0s 13ms/step - loss: 0.0138 - val_loss: 9.9377\n",
      "Epoch 140/150\n",
      "4/4 [==============================] - 0s 13ms/step - loss: 0.0135 - val_loss: 9.9399\n",
      "Epoch 141/150\n",
      "4/4 [==============================] - 0s 14ms/step - loss: 0.0133 - val_loss: 9.9409\n",
      "Epoch 142/150\n",
      "4/4 [==============================] - 0s 14ms/step - loss: 0.0131 - val_loss: 9.9399\n",
      "Epoch 143/150\n",
      "4/4 [==============================] - 0s 14ms/step - loss: 0.0129 - val_loss: 9.9410\n",
      "Epoch 144/150\n",
      "4/4 [==============================] - 0s 15ms/step - loss: 0.0127 - val_loss: 9.9414\n",
      "Epoch 145/150\n",
      "4/4 [==============================] - 0s 14ms/step - loss: 0.0126 - val_loss: 9.9425\n",
      "Epoch 146/150\n",
      "4/4 [==============================] - 0s 14ms/step - loss: 0.0124 - val_loss: 9.9437\n",
      "Epoch 147/150\n",
      "4/4 [==============================] - 0s 14ms/step - loss: 0.0122 - val_loss: 9.9431\n",
      "Epoch 148/150\n",
      "4/4 [==============================] - 0s 14ms/step - loss: 0.0120 - val_loss: 9.9443\n",
      "Epoch 149/150\n",
      "4/4 [==============================] - 0s 14ms/step - loss: 0.0118 - val_loss: 9.9471\n",
      "Epoch 150/150\n",
      "4/4 [==============================] - 0s 14ms/step - loss: 0.0117 - val_loss: 9.9505\n"
     ]
    }
   ],
   "source": [
    "hist = model.fit([X1, X2], target, epochs=150, validation_split=0.2, batch_size=5)"
   ]
  },
  {
   "cell_type": "code",
   "execution_count": 18,
   "metadata": {
    "id": "OVz1uug_zu2J"
   },
   "outputs": [
    {
     "data": {
      "image/png": "[encoded data removed]",
      "text/plain": [
       "<Figure size 640x480 with 1 Axes>"
      ]
     },
     "metadata": {},
     "output_type": "display_data"
    }
   ],
   "source": [
    "import matplotlib.pyplot as plt\n",
    "import seaborn as sns\n",
    "\n",
    "# Entrenamiento\n",
    "epoch_count = range(1, len(hist.history['loss']) + 1)\n",
    "sns.lineplot(x=epoch_count,  y=hist.history['loss'], label='train')\n",
    "sns.lineplot(x=epoch_count,  y=hist.history['val_loss'], label='valid')\n",
    "plt.show()"
   ]
  },
  {
   "cell_type": "markdown",
   "metadata": {},
   "source": [
    "La performance medida en términos de la loss empeora conforme se avanza con el entrenamiento\n",
    "Esto es esperable porque en el conjunto de validación se testea sobre token que nunca se usaron en el entrenamiento.\n",
    "Este análisis no tiene mucho valor para este ejemplo didáctico que se enfoca solamente en cómo construir las arquitecturas de encoder y decoder para modelos de secuencia a secuencia."
   ]
  },
  {
   "cell_type": "code",
   "execution_count": 19,
   "metadata": {
    "id": "71XeCtfYmOFx"
   },
   "outputs": [],
   "source": [
    "# con esta función pasamos del índice del token al término original\n",
    "def one_hot_decode(encoded_seq, label_encoder):\n",
    "    idx = [np.argmax(vector) for vector in encoded_seq]\n",
    "    return label_encoder.inverse_transform(idx)"
   ]
  },
  {
   "cell_type": "code",
   "execution_count": 20,
   "metadata": {
    "id": "lR1gKJN2m2Fw"
   },
   "outputs": [
    {
     "name": "stdout",
     "output_type": "stream",
     "text": [
      "y_test: [35, 40, 45]\n",
      "Number of features/cardinality: 64\n",
      "X1_test shape: (1, 3, 64)\n",
      "X2_test shape: (1, 3, 64)\n",
      "target_test shape: (1, 3, 64)\n"
     ]
    }
   ],
   "source": [
    "# Ensayo\n",
    "x_test = [20, 25, 30]\n",
    "y_test = [x+15 for x in x_test]\n",
    "\n",
    "print(\"y_test:\", y_test)\n",
    "\n",
    "# Transformar los datos a oneHotEncoding\n",
    "X1_test, X2_test, target_test = get_dataset(np.array([x_test]), np.array([y_test]), label_encoder)\n",
    "\n",
    "print(\"X1_test shape:\", X1_test.shape)\n",
    "print(\"X2_test shape:\", X2_test.shape)\n",
    "print(\"target_test shape:\", target_test.shape)"
   ]
  },
  {
   "cell_type": "code",
   "execution_count": 21,
   "metadata": {
    "id": "kluBZJGMm3LF"
   },
   "outputs": [
    {
     "data": {
      "text/plain": [
       "array([35, 40, 45])"
      ]
     },
     "execution_count": 21,
     "metadata": {},
     "output_type": "execute_result"
    }
   ],
   "source": [
    "# Cuando quiera por ejemplo recuperar target_test a y_test utilizo:\n",
    "one_hot_decode(target_test[0], label_encoder)"
   ]
  },
  {
   "cell_type": "code",
   "execution_count": 22,
   "metadata": {
    "id": "C4_UQshIzw7o"
   },
   "outputs": [
    {
     "name": "stdout",
     "output_type": "stream",
     "text": [
      "1/1 [==============================] - 0s 475ms/step\n",
      "target_seq shape: (1, 1, 64)\n",
      "Qué recibe como elemento anterior: [0]\n",
      "1/1 [==============================] - 1s 522ms/step\n",
      "Qué saca como elemento nuevo o prediccion: [35]\n",
      "Qué recibe como elemento anterior: [35]\n",
      "1/1 [==============================] - 0s 25ms/step\n",
      "Qué saca como elemento nuevo o prediccion: [40]\n",
      "Qué recibe como elemento anterior: [40]\n",
      "1/1 [==============================] - 0s 22ms/step\n",
      "Qué saca como elemento nuevo o prediccion: [45]\n",
      "y_test: [35, 40, 45]\n",
      "y_hat: [35 40 45]\n"
     ]
    }
   ],
   "source": [
    "cardinality = len(label_encoder.classes_)\n",
    "\n",
    "# encode\n",
    "# Se transforma la sequencia de entrada a los estados \"h\" y \"c\" de la LSTM\n",
    "# para enviar la primera vez al decoder\n",
    "state = encoder_model.predict(X1_test)\n",
    "# start of sequence input --> la primera secuencia de salida-entrada (output_in)\n",
    "# comienza con el ID cero (el ID seleccionado para <sos>)\n",
    "output_in = to_categorical(0, num_classes=cardinality)\n",
    "target_seq = np.array(output_in).reshape(1, 1, cardinality)\n",
    "print(\"target_seq shape:\", target_seq.shape)\n",
    "\n",
    "# Vector de predicción\n",
    "output = list()\n",
    "\n",
    "# Aquí empieza la parte auto-regresiva de la inferencia\n",
    "for t in range(3):\n",
    "    # Predicción del próximo elemento\n",
    "    print(\"Qué recibe como elemento anterior:\", one_hot_decode(target_seq[0], label_encoder))\n",
    "    y_hat, h, c = decoder_model.predict([target_seq] + state)\n",
    "    \n",
    "    # Almacenar la predicción\n",
    "    output.append(y_hat[0])\n",
    "    print(\"Qué saca como elemento nuevo o prediccion:\", one_hot_decode(y_hat[0], label_encoder))\n",
    "    # Actualizar los estados dada la última prediccion\n",
    "    state = [h, c]\n",
    "    \n",
    "    # Actualizar secuencia de entrada con la salida (re-alimentacion)\n",
    "    target_seq = y_hat\n",
    "\n",
    "print(\"y_test:\", y_test)\n",
    "print(\"y_hat:\", one_hot_decode(output, label_encoder))"
   ]
  },
  {
   "cell_type": "code",
   "execution_count": 23,
   "metadata": {
    "id": "M7MD_XS2oKUj"
   },
   "outputs": [
    {
     "name": "stdout",
     "output_type": "stream",
     "text": [
      "1/1 [==============================] - 1s 1s/step - loss: 0.0119\n"
     ]
    },
    {
     "data": {
      "text/plain": [
       "0.011852435767650604"
      ]
     },
     "execution_count": 23,
     "metadata": {},
     "output_type": "execute_result"
    }
   ],
   "source": [
    "# Podría si quisiera usar el \"evaluate\" de Keras pero ahí si necesitaré\n",
    "# de X2:\n",
    "model.evaluate([X1_test, X2_test], [target_test])"
   ]
  },
  {
   "cell_type": "markdown",
   "metadata": {
    "id": "pkOjSJweqdF8"
   },
   "source": [
    "### 4 - Conclusión\n",
    "A primera vista parece muy compleja la estructura del encoder-decoder, pero funciona igual en cualquier disciplina de deeplearning:\n",
    "- En visión para transferencia de estilo, generación de imagenes, etc.\n",
    "- En NLP desde LSTM hasta Attention y transformers\n",
    "\n",
    "Hay que pensar el encoder como el generador del \"espacio latente\". Luego el decoder necesita el espacio latente que representa a la setencia de entrada, la realimentación de los valores de salida del decoder y los estados internos de la LSTM para pasar a la siguiente inferencia hasta concluir la secuencia de salida."
   ]
  }
 ],
 "metadata": {
  "colab": {
   "collapsed_sections": [],
   "provenance": []
  },
  "kernelspec": {
   "display_name": "Python 3 (ipykernel)",
   "language": "python",
   "name": "python3"
  },
  "language_info": {
   "codemirror_mode": {
    "name": "ipython",
    "version": 3
   },
   "file_extension": ".py",
   "mimetype": "text/x-python",
   "name": "python",
   "nbconvert_exporter": "python",
   "pygments_lexer": "ipython3",
   "version": "3.11.2"
  }
 },
 "nbformat": 4,
 "nbformat_minor": 4
}
