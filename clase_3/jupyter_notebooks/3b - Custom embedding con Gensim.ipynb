{
 "cells": [
  {
   "cell_type": "markdown",
   "metadata": {
    "id": "sZd5yLnnHOK0"
   },
   "source": [
    "<img src=\"https://github.com/hernancontigiani/ceia_memorias_especializacion/raw/master/Figures/logoFIUBA.jpg\" width=\"500\" align=\"center\">\n",
    "\n",
    "\n",
    "# Procesamiento de lenguaje natural\n",
    "## Custom embedddings con Gensim\n",
    "\n"
   ]
  },
  {
   "cell_type": "markdown",
   "metadata": {
    "id": "vA7nqkumo9z9"
   },
   "source": [
    "### Objetivo\n",
    "El objetivo es utilizar documentos / corpus para crear embeddings de palabras basado en ese contexto. Se utilizará canciones de bandas para generar los embeddings, es decir, que los vectores tendrán la forma en función de como esa banda haya utilizado las palabras en sus canciones."
   ]
  },
  {
   "cell_type": "code",
   "execution_count": 2,
   "metadata": {
    "id": "lFToQs5FK5uZ"
   },
   "outputs": [],
   "source": [
    "import pandas as pd\n",
    "import matplotlib.pyplot as plt\n",
    "import seaborn as sns\n",
    "\n",
    "import multiprocessing\n",
    "from gensim.models import Word2Vec"
   ]
  },
  {
   "cell_type": "markdown",
   "metadata": {
    "id": "g07zJxG7H9vG"
   },
   "source": [
    "### Datos\n",
    "Utilizaremos como dataset canciones de bandas de habla inglesa."
   ]
  },
  {
   "cell_type": "code",
   "execution_count": 4,
   "metadata": {
    "id": "l7z4CSBfpR3X"
   },
   "outputs": [
    {
     "name": "stdout",
     "output_type": "stream",
     "text": [
      "El dataset ya se encuentra descargado\n"
     ]
    }
   ],
   "source": [
    "# Descargar la carpeta de dataset\n",
    "import os\n",
    "import platform\n",
    "if os.access('./songs_dataset', os.F_OK) is False:\n",
    "    if os.access('songs_dataset.zip', os.F_OK) is False:\n",
    "        if platform.system() == 'Windows':\n",
    "            !curl https://raw.githubusercontent.com/FIUBA-Posgrado-Inteligencia-Artificial/procesamiento_lenguaje_natural/main/datasets/songs_dataset.zip -o songs_dataset.zip\n",
    "        else:\n",
    "            !wget songs_dataset.zip https://github.com/FIUBA-Posgrado-Inteligencia-Artificial/procesamiento_lenguaje_natural/raw/main/datasets/songs_dataset.zip\n",
    "    !unzip -q songs_dataset.zip   \n",
    "else:\n",
    "    print(\"El dataset ya se encuentra descargado\")"
   ]
  },
  {
   "cell_type": "code",
   "execution_count": 5,
   "metadata": {
    "id": "mysGrIw9ljC2"
   },
   "outputs": [
    {
     "data": {
      "text/plain": [
       "['adele.txt',\n",
       " 'al-green.txt',\n",
       " 'alicia-keys.txt',\n",
       " 'amy-winehouse.txt',\n",
       " 'beatles.txt',\n",
       " 'bieber.txt',\n",
       " 'bjork.txt',\n",
       " 'blink-182.txt',\n",
       " 'bob-dylan.txt',\n",
       " 'bob-marley.txt',\n",
       " 'britney-spears.txt',\n",
       " 'bruce-springsteen.txt',\n",
       " 'bruno-mars.txt',\n",
       " 'cake.txt',\n",
       " 'dickinson.txt',\n",
       " 'disney.txt',\n",
       " 'dj-khaled.txt',\n",
       " 'dolly-parton.txt',\n",
       " 'dr-seuss.txt',\n",
       " 'drake.txt',\n",
       " 'eminem.txt',\n",
       " 'janisjoplin.txt',\n",
       " 'jimi-hendrix.txt',\n",
       " 'johnny-cash.txt',\n",
       " 'joni-mitchell.txt',\n",
       " 'kanye-west.txt',\n",
       " 'kanye.txt',\n",
       " 'Kanye_West.txt',\n",
       " 'lady-gaga.txt',\n",
       " 'leonard-cohen.txt',\n",
       " 'lil-wayne.txt',\n",
       " 'Lil_Wayne.txt',\n",
       " 'lin-manuel-miranda.txt',\n",
       " 'lorde.txt',\n",
       " 'ludacris.txt',\n",
       " 'michael-jackson.txt',\n",
       " 'missy-elliott.txt',\n",
       " 'nickelback.txt',\n",
       " 'nicki-minaj.txt',\n",
       " 'nirvana.txt',\n",
       " 'notorious-big.txt',\n",
       " 'notorious_big.txt',\n",
       " 'nursery_rhymes.txt',\n",
       " 'patti-smith.txt',\n",
       " 'paul-simon.txt',\n",
       " 'prince.txt',\n",
       " 'r-kelly.txt',\n",
       " 'radiohead.txt',\n",
       " 'rihanna.txt']"
      ]
     },
     "execution_count": 5,
     "metadata": {},
     "output_type": "execute_result"
    }
   ],
   "source": [
    "# Posibles bandas\n",
    "os.listdir(\"./songs_dataset/\")"
   ]
  },
  {
   "cell_type": "code",
   "execution_count": 6,
   "metadata": {
    "id": "ticoqYD1Z3I7"
   },
   "outputs": [
    {
     "name": "stderr",
     "output_type": "stream",
     "text": [
      "D:\\Users\\juanp_schamun\\AppData\\Local\\Temp\\ipykernel_17800\\3849064916.py:2: ParserWarning: Falling back to the 'python' engine because the 'c' engine does not support regex separators (separators > 1 char and different from '\\s+' are interpreted as regex); you can avoid this warning by specifying engine='python'.\n",
      "  df = pd.read_csv('songs_dataset/beatles.txt', sep='/n', header=None)\n"
     ]
    },
    {
     "data": {
      "text/html": [
       "<div>\n",
       "<style scoped>\n",
       "    .dataframe tbody tr th:only-of-type {\n",
       "        vertical-align: middle;\n",
       "    }\n",
       "\n",
       "    .dataframe tbody tr th {\n",
       "        vertical-align: top;\n",
       "    }\n",
       "\n",
       "    .dataframe thead th {\n",
       "        text-align: right;\n",
       "    }\n",
       "</style>\n",
       "<table border=\"1\" class=\"dataframe\">\n",
       "  <thead>\n",
       "    <tr style=\"text-align: right;\">\n",
       "      <th></th>\n",
       "      <th>0</th>\n",
       "    </tr>\n",
       "  </thead>\n",
       "  <tbody>\n",
       "    <tr>\n",
       "      <th>0</th>\n",
       "      <td>Yesterday, all my troubles seemed so far away</td>\n",
       "    </tr>\n",
       "    <tr>\n",
       "      <th>1</th>\n",
       "      <td>Now it looks as though they're here to stay</td>\n",
       "    </tr>\n",
       "    <tr>\n",
       "      <th>2</th>\n",
       "      <td>Oh, I believe in yesterday Suddenly, I'm not h...</td>\n",
       "    </tr>\n",
       "    <tr>\n",
       "      <th>3</th>\n",
       "      <td>There's a shadow hanging over me.</td>\n",
       "    </tr>\n",
       "    <tr>\n",
       "      <th>4</th>\n",
       "      <td>Oh, yesterday came suddenly Why she had to go ...</td>\n",
       "    </tr>\n",
       "  </tbody>\n",
       "</table>\n",
       "</div>"
      ],
      "text/plain": [
       "                                                   0\n",
       "0      Yesterday, all my troubles seemed so far away\n",
       "1        Now it looks as though they're here to stay\n",
       "2  Oh, I believe in yesterday Suddenly, I'm not h...\n",
       "3                  There's a shadow hanging over me.\n",
       "4  Oh, yesterday came suddenly Why she had to go ..."
      ]
     },
     "execution_count": 6,
     "metadata": {},
     "output_type": "execute_result"
    }
   ],
   "source": [
    "# Armar el dataset utilizando salto de línea para separar las oraciones/docs\n",
    "df = pd.read_csv('songs_dataset/beatles.txt', sep='/n', header=None)\n",
    "df.head()"
   ]
  },
  {
   "cell_type": "code",
   "execution_count": 7,
   "metadata": {
    "id": "LEpKubK9XzXN"
   },
   "outputs": [
    {
     "name": "stdout",
     "output_type": "stream",
     "text": [
      "Cantidad de documentos: 1846\n"
     ]
    }
   ],
   "source": [
    "print(\"Cantidad de documentos:\", df.shape[0])"
   ]
  },
  {
   "cell_type": "markdown",
   "metadata": {
    "id": "ab94qaFlrA1G"
   },
   "source": [
    "### 1 - Preprocesamiento"
   ]
  },
  {
   "cell_type": "code",
   "execution_count": 11,
   "metadata": {
    "id": "rIsmMWmjrDHd"
   },
   "outputs": [],
   "source": [
    "from keras.preprocessing.text import text_to_word_sequence\n",
    "\n",
    "sentence_tokens = []\n",
    "# Recorrer todas las filas y transformar las oraciones\n",
    "# en una secuencia de palabras (esto podría realizarse con NLTK o spaCy también)\n",
    "for _, row in df[:None].iterrows():\n",
    "    sentence_tokens.append(text_to_word_sequence(row[0]))"
   ]
  },
  {
   "cell_type": "code",
   "execution_count": 24,
   "metadata": {
    "id": "CHepi_DGrbhq"
   },
   "outputs": [
    {
     "data": {
      "text/plain": [
       "[['yesterday', 'all', 'my', 'troubles', 'seemed', 'so', 'far', 'away'],\n",
       " ['now', 'it', 'looks', 'as', 'though', \"they're\", 'here', 'to', 'stay']]"
      ]
     },
     "execution_count": 24,
     "metadata": {},
     "output_type": "execute_result"
    }
   ],
   "source": [
    "# Demos un vistazo\n",
    "sentence_tokens[:2]"
   ]
  },
  {
   "cell_type": "markdown",
   "metadata": {
    "id": "BaXV6nlHr5Aa"
   },
   "source": [
    "### 2 - Crear los vectores (word2vec)"
   ]
  },
  {
   "cell_type": "code",
   "execution_count": 25,
   "metadata": {
    "id": "OSb0v7h8r7hK"
   },
   "outputs": [],
   "source": [
    "from gensim.models.callbacks import CallbackAny2Vec\n",
    "# Durante el entrenamiento gensim por defecto no informa el \"loss\" en cada época\n",
    "# Sobrecargamos el callback para poder tener esta información\n",
    "class callback(CallbackAny2Vec):\n",
    "    \"\"\"\n",
    "    Callback to print loss after each epoch\n",
    "    \"\"\"\n",
    "    def __init__(self):\n",
    "        self.epoch = 0\n",
    "\n",
    "    def on_epoch_end(self, model):\n",
    "        loss = model.get_latest_training_loss()\n",
    "        if self.epoch == 0:\n",
    "            print('Loss after epoch {}: {}'.format(self.epoch, loss))\n",
    "        else:\n",
    "            print('Loss after epoch {}: {}'.format(self.epoch, loss- self.loss_previous_step))\n",
    "        self.epoch += 1\n",
    "        self.loss_previous_step = loss"
   ]
  },
  {
   "cell_type": "code",
   "execution_count": 26,
   "metadata": {
    "id": "i0wnDdv9sJ47"
   },
   "outputs": [],
   "source": [
    "# Crearmos el modelo generador de vectores\n",
    "# En este caso utilizaremos la estructura modelo Skipgram\n",
    "w2v_model = Word2Vec(min_count=5,    # frecuencia mínima de palabra para incluirla en el vocabulario\n",
    "                     window=2,       # cant de palabras antes y desp de la predicha\n",
    "                     vector_size=300,       # dimensionalidad de los vectores \n",
    "                     negative=20,    # cantidad de negative samples... 0 es no se usa\n",
    "                     workers=1,      # si tienen más cores pueden cambiar este valor\n",
    "                     sg=1)           # modelo 0:CBOW  1:skipgram"
   ]
  },
  {
   "cell_type": "code",
   "execution_count": 27,
   "metadata": {
    "id": "5lTt8wErsf17"
   },
   "outputs": [],
   "source": [
    "# Obtener el vocabulario con los tokens\n",
    "w2v_model.build_vocab(sentence_tokens)"
   ]
  },
  {
   "cell_type": "code",
   "execution_count": 28,
   "metadata": {
    "id": "TNc9qt4os5AT"
   },
   "outputs": [
    {
     "name": "stdout",
     "output_type": "stream",
     "text": [
      "Cantidad de docs en el corpus: 1846\n"
     ]
    }
   ],
   "source": [
    "# Cantidad de filas/docs encontradas en el corpus\n",
    "print(\"Cantidad de docs en el corpus:\", w2v_model.corpus_count)"
   ]
  },
  {
   "cell_type": "code",
   "execution_count": 29,
   "metadata": {
    "id": "idw9cHF3tSMl"
   },
   "outputs": [
    {
     "name": "stdout",
     "output_type": "stream",
     "text": [
      "Cantidad de words distintas en el corpus: 445\n"
     ]
    }
   ],
   "source": [
    "# Cantidad de words encontradas en el corpus\n",
    "print(\"Cantidad de words distintas en el corpus:\", len(w2v_model.wv.index_to_key))"
   ]
  },
  {
   "cell_type": "markdown",
   "metadata": {
    "id": "fC9mZ8DPk-UC"
   },
   "source": [
    "### 3 - Entrenar el modelo generador"
   ]
  },
  {
   "cell_type": "code",
   "execution_count": 30,
   "metadata": {
    "id": "QSp-x0PAsq56"
   },
   "outputs": [
    {
     "name": "stdout",
     "output_type": "stream",
     "text": [
      "Loss after epoch 0: 113208.15625\n",
      "Loss after epoch 1: 65953.953125\n",
      "Loss after epoch 2: 65934.265625\n",
      "Loss after epoch 3: 65711.96875\n",
      "Loss after epoch 4: 63872.5\n",
      "Loss after epoch 5: 64142.46875\n",
      "Loss after epoch 6: 64058.8125\n",
      "Loss after epoch 7: 64755.4375\n",
      "Loss after epoch 8: 62585.5625\n",
      "Loss after epoch 9: 60415.25\n",
      "Loss after epoch 10: 59823.625\n",
      "Loss after epoch 11: 58930.1875\n",
      "Loss after epoch 12: 57726.4375\n",
      "Loss after epoch 13: 56493.125\n",
      "Loss after epoch 14: 55842.5625\n",
      "Loss after epoch 15: 55862.5\n",
      "Loss after epoch 16: 51695.8125\n",
      "Loss after epoch 17: 49815.5\n",
      "Loss after epoch 18: 49568.125\n",
      "Loss after epoch 19: 48959.75\n"
     ]
    },
    {
     "data": {
      "text/plain": [
       "(156986, 287740)"
      ]
     },
     "execution_count": 30,
     "metadata": {},
     "output_type": "execute_result"
    }
   ],
   "source": [
    "# Entrenamos el modelo generador de vectores\n",
    "# Utilizamos nuestro callback\n",
    "w2v_model.train(sentence_tokens,\n",
    "                 total_examples=w2v_model.corpus_count,\n",
    "                 epochs=20,\n",
    "                 compute_loss = True,\n",
    "                 callbacks=[callback()]\n",
    "                 )"
   ]
  },
  {
   "cell_type": "markdown",
   "metadata": {
    "id": "ddT9NVuNlCAe"
   },
   "source": [
    "### 4 - Ensayar"
   ]
  },
  {
   "cell_type": "code",
   "execution_count": 31,
   "metadata": {
    "id": "6cHN9xGLuPEm"
   },
   "outputs": [
    {
     "data": {
      "text/plain": [
       "[('pretty', 0.9087147116661072),\n",
       " ('sleep', 0.8649678230285645),\n",
       " ('help', 0.8594305515289307),\n",
       " ('try', 0.8456019759178162),\n",
       " ('cry', 0.8387227654457092),\n",
       " ('little', 0.8273633718490601),\n",
       " ('not', 0.8181102871894836),\n",
       " ('seems', 0.8175203204154968),\n",
       " ('twist', 0.8154979348182678),\n",
       " ('peace', 0.812263011932373)]"
      ]
     },
     "execution_count": 31,
     "metadata": {},
     "output_type": "execute_result"
    }
   ],
   "source": [
    "# Palabras que MÁS se relacionan con...:\n",
    "w2v_model.wv.most_similar(positive=[\"darling\"], topn=10)"
   ]
  },
  {
   "cell_type": "code",
   "execution_count": 32,
   "metadata": {
    "id": "47HiU5gdkdMq"
   },
   "outputs": [
    {
     "data": {
      "text/plain": [
       "[('shake', -0.21786975860595703),\n",
       " ('our', -0.24495810270309448),\n",
       " ('come', -0.2613270878791809),\n",
       " ('on', -0.26722386479377747),\n",
       " ('bang', -0.27329546213150024),\n",
       " ('five', -0.2741836607456207),\n",
       " ('six', -0.2774038314819336),\n",
       " ('baby', -0.2776353061199188),\n",
       " ('work', -0.2790372967720032),\n",
       " ('four', -0.2792743146419525)]"
      ]
     },
     "execution_count": 32,
     "metadata": {},
     "output_type": "execute_result"
    }
   ],
   "source": [
    "# Palabras que MENOS se relacionan con...:\n",
    "w2v_model.wv.most_similar(negative=[\"love\"], topn=10)"
   ]
  },
  {
   "cell_type": "code",
   "execution_count": 33,
   "metadata": {
    "id": "DT4Rvno2mD65"
   },
   "outputs": [
    {
     "data": {
      "text/plain": [
       "[('five', 0.9786694049835205),\n",
       " ('three', 0.9761051535606384),\n",
       " ('six', 0.966891348361969),\n",
       " ('two', 0.9565720558166504),\n",
       " ('seven', 0.954232931137085),\n",
       " ('sixty', 0.9003373980522156),\n",
       " ('one', 0.816501259803772),\n",
       " ('us', 0.7762899398803711),\n",
       " ('crying', 0.772737979888916),\n",
       " ('strawberry', 0.7672452330589294)]"
      ]
     },
     "execution_count": 33,
     "metadata": {},
     "output_type": "execute_result"
    }
   ],
   "source": [
    "# Palabras que MÁS se relacionan con...:\n",
    "w2v_model.wv.most_similar(positive=[\"four\"], topn=10)"
   ]
  },
  {
   "cell_type": "code",
   "execution_count": 34,
   "metadata": {
    "id": "XPLDPgzBmQXt"
   },
   "outputs": [
    {
     "data": {
      "text/plain": [
       "[(\"can't\", 0.9409592747688293),\n",
       " ('buy', 0.9399508237838745),\n",
       " ('much', 0.8996850848197937),\n",
       " ('hide', 0.8465201258659363),\n",
       " ('just', 0.8415144085884094)]"
      ]
     },
     "execution_count": 34,
     "metadata": {},
     "output_type": "execute_result"
    }
   ],
   "source": [
    "# Palabras que MÁS se relacionan con...:\n",
    "w2v_model.wv.most_similar(positive=[\"money\"], topn=5)"
   ]
  },
  {
   "cell_type": "code",
   "execution_count": 35,
   "metadata": {
    "id": "L_UvHPMMklOr"
   },
   "outputs": [
    {
     "ename": "KeyError",
     "evalue": "\"Key 'diedaa' not present in vocabulary\"",
     "output_type": "error",
     "traceback": [
      "\u001b[1;31m---------------------------------------------------------------------------\u001b[0m",
      "\u001b[1;31mKeyError\u001b[0m                                  Traceback (most recent call last)",
      "Cell \u001b[1;32mIn[35], line 2\u001b[0m\n\u001b[0;32m      1\u001b[0m \u001b[39m# Ensayar con una palabra que no está en el vocabulario:\u001b[39;00m\n\u001b[1;32m----> 2\u001b[0m w2v_model\u001b[39m.\u001b[39;49mwv\u001b[39m.\u001b[39;49mmost_similar(negative\u001b[39m=\u001b[39;49m[\u001b[39m\"\u001b[39;49m\u001b[39mdiedaa\u001b[39;49m\u001b[39m\"\u001b[39;49m])\n",
      "File \u001b[1;32md:\\Users\\juanp_schamun\\Documents\\GitRepositories\\CEIA\\NLP\\procesamiento_lenguaje_natural\\.venv\\Lib\\site-packages\\gensim\\models\\keyedvectors.py:841\u001b[0m, in \u001b[0;36mKeyedVectors.most_similar\u001b[1;34m(self, positive, negative, topn, clip_start, clip_end, restrict_vocab, indexer)\u001b[0m\n\u001b[0;32m    838\u001b[0m         weight[idx] \u001b[39m=\u001b[39m item[\u001b[39m1\u001b[39m]\n\u001b[0;32m    840\u001b[0m \u001b[39m# compute the weighted average of all keys\u001b[39;00m\n\u001b[1;32m--> 841\u001b[0m mean \u001b[39m=\u001b[39m \u001b[39mself\u001b[39;49m\u001b[39m.\u001b[39;49mget_mean_vector(keys, weight, pre_normalize\u001b[39m=\u001b[39;49m\u001b[39mTrue\u001b[39;49;00m, post_normalize\u001b[39m=\u001b[39;49m\u001b[39mTrue\u001b[39;49;00m, ignore_missing\u001b[39m=\u001b[39;49m\u001b[39mFalse\u001b[39;49;00m)\n\u001b[0;32m    842\u001b[0m all_keys \u001b[39m=\u001b[39m [\n\u001b[0;32m    843\u001b[0m     \u001b[39mself\u001b[39m\u001b[39m.\u001b[39mget_index(key) \u001b[39mfor\u001b[39;00m key \u001b[39min\u001b[39;00m keys \u001b[39mif\u001b[39;00m \u001b[39misinstance\u001b[39m(key, _KEY_TYPES) \u001b[39mand\u001b[39;00m \u001b[39mself\u001b[39m\u001b[39m.\u001b[39mhas_index_for(key)\n\u001b[0;32m    844\u001b[0m ]\n\u001b[0;32m    846\u001b[0m \u001b[39mif\u001b[39;00m indexer \u001b[39mis\u001b[39;00m \u001b[39mnot\u001b[39;00m \u001b[39mNone\u001b[39;00m \u001b[39mand\u001b[39;00m \u001b[39misinstance\u001b[39m(topn, \u001b[39mint\u001b[39m):\n",
      "File \u001b[1;32md:\\Users\\juanp_schamun\\Documents\\GitRepositories\\CEIA\\NLP\\procesamiento_lenguaje_natural\\.venv\\Lib\\site-packages\\gensim\\models\\keyedvectors.py:518\u001b[0m, in \u001b[0;36mKeyedVectors.get_mean_vector\u001b[1;34m(self, keys, weights, pre_normalize, post_normalize, ignore_missing)\u001b[0m\n\u001b[0;32m    516\u001b[0m         total_weight \u001b[39m+\u001b[39m\u001b[39m=\u001b[39m \u001b[39mabs\u001b[39m(weights[idx])\n\u001b[0;32m    517\u001b[0m     \u001b[39melif\u001b[39;00m \u001b[39mnot\u001b[39;00m ignore_missing:\n\u001b[1;32m--> 518\u001b[0m         \u001b[39mraise\u001b[39;00m \u001b[39mKeyError\u001b[39;00m(\u001b[39mf\u001b[39m\u001b[39m\"\u001b[39m\u001b[39mKey \u001b[39m\u001b[39m'\u001b[39m\u001b[39m{\u001b[39;00mkey\u001b[39m}\u001b[39;00m\u001b[39m'\u001b[39m\u001b[39m not present in vocabulary\u001b[39m\u001b[39m\"\u001b[39m)\n\u001b[0;32m    520\u001b[0m \u001b[39mif\u001b[39;00m total_weight \u001b[39m>\u001b[39m \u001b[39m0\u001b[39m:\n\u001b[0;32m    521\u001b[0m     mean \u001b[39m=\u001b[39m mean \u001b[39m/\u001b[39m total_weight\n",
      "\u001b[1;31mKeyError\u001b[0m: \"Key 'diedaa' not present in vocabulary\""
     ]
    }
   ],
   "source": [
    "# Ensayar con una palabra que no está en el vocabulario:\n",
    "w2v_model.wv.most_similar(negative=[\"diedaa\"])"
   ]
  },
  {
   "cell_type": "markdown",
   "metadata": {
    "id": "_g8UVWe6lFmh"
   },
   "source": [
    "### 5 - Visualizar agrupación de vectores"
   ]
  },
  {
   "cell_type": "code",
   "execution_count": 36,
   "metadata": {
    "id": "pDxEVXAivjr9"
   },
   "outputs": [],
   "source": [
    "from sklearn.decomposition import IncrementalPCA    \n",
    "from sklearn.manifold import TSNE                   \n",
    "import numpy as np                                  \n",
    "\n",
    "def reduce_dimensions(model):\n",
    "    num_dimensions = 2  \n",
    "\n",
    "    vectors = np.asarray(model.wv.vectors)\n",
    "    labels = np.asarray(model.wv.index_to_key)  \n",
    "\n",
    "    tsne = TSNE(n_components=num_dimensions, random_state=0)\n",
    "    vectors = tsne.fit_transform(vectors)\n",
    "\n",
    "    x_vals = [v[0] for v in vectors]\n",
    "    y_vals = [v[1] for v in vectors]\n",
    "    return x_vals, y_vals, labels"
   ]
  },
  {
   "cell_type": "code",
   "execution_count": 40,
   "metadata": {
    "id": "NCCXtDpcugmd"
   },
   "outputs": [
    {
     "data": {
      "application/vnd.plotly.v1+json": {
       "config": {
        "plotlyServerURL": "https://plot.ly"
       },
       "data": [
        {
         "hovertemplate": "x=%{x}<br>y=%{y}<br>text=%{text}<extra></extra>",
         "legendgroup": "",
         "marker": {
          "color": "#636efa",
          "symbol": "circle"
         },
         "mode": "markers+text",
         "name": "",
         "orientation": "v",
         "showlegend": false,
         "text": [
          "you",
          "i",
          "the",
          "to",
          "and",
          "love",
          "a",
          "me",
          "in",
          "all",
          "nah",
          "my",
          "it",
          "know",
          "that",
          "be",
          "on",
          "of",
          "she",
          "is",
          "say",
          "now",
          "oh",
          "your",
          "yeah",
          "get",
          "don't",
          "back",
          "with",
          "let",
          "her",
          "can",
          "it's",
          "do",
          "when",
          "come",
          "i'm",
          "will",
          "he",
          "but",
          "for",
          "so",
          "there",
          "need",
          "like",
          "together",
          "no",
          "i'll",
          "see",
          "we",
          "was",
          "never",
          "down",
          "if",
          "way",
          "want",
          "hey",
          "out",
          "one",
          "got",
          "can't",
          "girl",
          "well",
          "good",
          "go",
          "sun",
          "his",
          "hello",
          "home",
          "they",
          "day",
          "are",
          "ah",
          "right",
          "from",
          "little",
          "at",
          "man",
          "help",
          "here",
          "have",
          "gonna",
          "not",
          "world",
          "what",
          "going",
          "how",
          "please",
          "still",
          "too",
          "just",
          "you're",
          "time",
          "as",
          "make",
          "long",
          "yes",
          "yellow",
          "life",
          "once",
          "sky",
          "been",
          "think",
          "tell",
          "why",
          "only",
          "where",
          "people",
          "she's",
          "eyes",
          "jude",
          "take",
          "submarine",
          "up",
          "hold",
          "goodbye",
          "give",
          "nowhere",
          "sing",
          "look",
          "friends",
          "always",
          "hand",
          "boy",
          "we're",
          "am",
          "away",
          "darling",
          "goo",
          "nothing",
          "should",
          "lonely",
          "could",
          "feel",
          "some",
          "night",
          "comes",
          "had",
          "would",
          "better",
          "head",
          "them",
          "four",
          "buy",
          "more",
          "i've",
          "la",
          "mind",
          "two",
          "this",
          "everything",
          "carry",
          "by",
          "our",
          "sunshine",
          "weight",
          "change",
          "us",
          "lucy",
          "birthday",
          "an",
          "true",
          "you'll",
          "every",
          "pretty",
          "three",
          "diamonds",
          "before",
          "believe",
          "these",
          "i'd",
          "words",
          "mm",
          "work",
          "dear",
          "leave",
          "were",
          "mine",
          "there's",
          "nobody",
          "told",
          "money",
          "bom",
          "said",
          "forever",
          "round",
          "children",
          "'cause",
          "something",
          "about",
          "waiting",
          "standing",
          "who",
          "didn't",
          "try",
          "loves",
          "then",
          "hide",
          "saw",
          "prudence"
         ],
         "type": "scatter",
         "x": [
          -16.003633,
          -19.524416,
          5.86444,
          1.8177078,
          -0.62211823,
          -15.548293,
          -0.894126,
          -10.855363,
          5.945488,
          18.658615,
          23.485716,
          -3.4964046,
          13.7722645,
          -18.192736,
          -12.678847,
          9.123003,
          14.963118,
          1.9643342,
          -1.9817033,
          8.836173,
          -20.489391,
          18.4971,
          -19.11937,
          -9.640635,
          -1.8157407,
          7.7343335,
          -18.096504,
          8.174906,
          6.349375,
          8.552652,
          7.867523,
          -10.694553,
          -12.304449,
          -17.89528,
          -17.281693,
          15.294161,
          -13.093482,
          -12.848534,
          -7.4320226,
          -8.6241865,
          -11.110415,
          -15.706563,
          12.144372,
          -14.423152,
          -8.8082,
          18.58025,
          -18.590105,
          -13.6538725,
          -10.549889,
          5.0676274,
          11.691859,
          -17.293394,
          7.770432,
          -13.539785,
          10.113589,
          -10.506225,
          22.559628,
          14.447545,
          -6.848882,
          -6.6884546,
          -18.835804,
          -3.9318798,
          3.4797199,
          17.316448,
          14.4949465,
          15.623458,
          3.4989204,
          -21.73336,
          8.071822,
          6.696608,
          17.847982,
          -5.350931,
          19.412544,
          19.373766,
          -4.8819604,
          -4.6570044,
          18.224512,
          7.0298824,
          -5.714812,
          15.642919,
          -5.5688314,
          -13.244131,
          -15.047819,
          -13.521134,
          -17.855648,
          -11.840386,
          -13.169554,
          -8.501604,
          -13.452114,
          -14.011039,
          -8.227399,
          -14.756945,
          -12.882417,
          -3.5351589,
          4.6955776,
          -12.768023,
          -20.975315,
          3.3076808,
          10.899928,
          10.412598,
          7.4512177,
          0.38440543,
          -16.473194,
          -13.939263,
          -19.975014,
          -9.407284,
          9.591912,
          13.460962,
          -7.767785,
          5.1587114,
          22.50751,
          6.403211,
          3.305903,
          12.100802,
          -10.838569,
          -21.510035,
          -6.4990315,
          7.0267963,
          -17.039488,
          18.388508,
          -5.1116195,
          10.014359,
          -9.864162,
          -15.012326,
          12.734311,
          -20.995546,
          -7.5582366,
          -18.544199,
          24.236874,
          -14.975423,
          -15.792896,
          13.305876,
          -16.318295,
          -12.880078,
          -5.1109095,
          -0.26307145,
          15.61947,
          0.2798193,
          -11.51004,
          4.497852,
          4.4204483,
          1.7331196,
          18.275957,
          -18.780624,
          -4.705243,
          -5.7374187,
          1.0168997,
          10.157528,
          17.361551,
          -8.925858,
          -7.2682834,
          -13.691249,
          -2.022599,
          10.60254,
          17.647718,
          -13.45352,
          -13.714377,
          -1.9715078,
          6.92946,
          -11.679854,
          8.325242,
          9.526939,
          -14.592754,
          -2.9384267,
          -17.94799,
          17.715755,
          6.773982,
          -11.880329,
          -15.916105,
          1.2173743,
          -4.5407352,
          7.22395,
          0.26146138,
          14.449056,
          11.660558,
          -4.1917205,
          -1.9460065,
          -2.6248662,
          -13.893833,
          -2.965258,
          -16.010958,
          -19.086815,
          21.493883,
          -5.133545,
          -9.606297,
          9.349812,
          15.24679,
          -12.2640295,
          -2.4896252,
          -5.793923,
          -8.626467,
          8.259252,
          6.3352547,
          -13.33441,
          -2.6200576,
          -1.883319,
          10.374066,
          -7.7093325,
          -7.1496844,
          11.870262
         ],
         "xaxis": "x",
         "y": [
          -15.991503,
          -8.868912,
          14.481197,
          -11.702961,
          2.1397915,
          -17.804245,
          16.169384,
          -17.00069,
          17.340378,
          -0.42652097,
          -6.3688493,
          20.591106,
          -6.228048,
          -6.6052,
          8.572098,
          -11.118028,
          -0.983097,
          16.163197,
          -11.628684,
          14.817677,
          -7.0066423,
          -0.6211149,
          -12.241194,
          -21.924694,
          -13.04269,
          -20.768723,
          -5.824768,
          -20.683197,
          19.549852,
          -12.4446335,
          -3.626567,
          -11.161479,
          -2.7877028,
          -13.117018,
          -14.7897005,
          -1.1347258,
          1.2531412,
          -18.53914,
          -5.7168794,
          -9.254933,
          10.4183855,
          -12.528368,
          -20.653006,
          -18.52741,
          -16.45208,
          -1.4142302,
          -10.747221,
          -10.332664,
          -13.962887,
          23.37295,
          -20.589598,
          -10.524154,
          -12.280501,
          -12.108439,
          -18.461468,
          -21.105856,
          -6.508477,
          -3.2917566,
          13.379536,
          -13.486209,
          -19.895868,
          12.156746,
          -8.381772,
          -12.180835,
          -12.699085,
          11.866455,
          15.447935,
          -6.5397525,
          -19.859198,
          -0.3159316,
          -12.09679,
          3.9245362,
          14.912745,
          -1.1914808,
          18.23827,
          17.717754,
          15.311889,
          7.3106956,
          18.536423,
          11.839111,
          5.3102775,
          14.034709,
          -1.9228495,
          15.856592,
          -9.513393,
          3.0010178,
          -6.069365,
          -17.694242,
          -18.609573,
          7.9649634,
          -13.180141,
          13.734951,
          9.379902,
          4.484726,
          -12.974545,
          10.885099,
          -2.3866713,
          23.194176,
          12.33351,
          -20.88267,
          19.444632,
          8.115531,
          -9.4947605,
          -16.467587,
          -6.4364243,
          9.607261,
          -20.557026,
          17.836819,
          5.54906,
          16.422796,
          -6.4826484,
          -11.435258,
          23.197397,
          4.027017,
          -22.071447,
          -6.5810857,
          -12.113561,
          8.651629,
          0.83784926,
          15.257162,
          18.528854,
          -9.283345,
          -21.84104,
          13.640151,
          1.5474192,
          -1.8515328,
          -7.447658,
          7.025175,
          4.437907,
          -15.580741,
          -6.1684484,
          18.376108,
          -7.8896675,
          -8.627552,
          7.1316147,
          9.420901,
          11.863308,
          -6.2241254,
          -10.861108,
          -13.339948,
          15.443104,
          -1.9182425,
          22.88737,
          -19.868605,
          -12.970922,
          -10.45415,
          -16.55132,
          13.0660925,
          22.681828,
          10.308734,
          -11.072565,
          12.974047,
          15.257378,
          -17.728832,
          -12.126611,
          12.347406,
          15.247741,
          9.951315,
          19.21249,
          -4.501128,
          -7.456065,
          -9.496924,
          -8.035614,
          8.60476,
          6.5394893,
          22.754108,
          19.438034,
          8.038291,
          -13.146955,
          10.8868,
          -5.2610216,
          -8.629489,
          -18.327507,
          -3.4154944,
          -1.3561893,
          -16.682384,
          4.4896774,
          -4.4883466,
          -13.504089,
          -2.0965466,
          -14.027442,
          -20.03367,
          9.039278,
          3.0703735,
          0.16098253,
          10.269577,
          -12.476273,
          0.7241103,
          1.9861443,
          -8.212423,
          11.09401,
          -1.9436597,
          8.095955,
          -15.924071,
          15.261076,
          -12.454802,
          -5.498524,
          -12.907437,
          -1.197271,
          -1.5617273
         ],
         "yaxis": "y"
        }
       ],
       "layout": {
        "legend": {
         "tracegroupgap": 0
        },
        "margin": {
         "t": 60
        },
        "template": {
         "data": {
          "bar": [
           {
            "error_x": {
             "color": "#2a3f5f"
            },
            "error_y": {
             "color": "#2a3f5f"
            },
            "marker": {
             "line": {
              "color": "#E5ECF6",
              "width": 0.5
             },
             "pattern": {
              "fillmode": "overlay",
              "size": 10,
              "solidity": 0.2
             }
            },
            "type": "bar"
           }
          ],
          "barpolar": [
           {
            "marker": {
             "line": {
              "color": "#E5ECF6",
              "width": 0.5
             },
             "pattern": {
              "fillmode": "overlay",
              "size": 10,
              "solidity": 0.2
             }
            },
            "type": "barpolar"
           }
          ],
          "carpet": [
           {
            "aaxis": {
             "endlinecolor": "#2a3f5f",
             "gridcolor": "white",
             "linecolor": "white",
             "minorgridcolor": "white",
             "startlinecolor": "#2a3f5f"
            },
            "baxis": {
             "endlinecolor": "#2a3f5f",
             "gridcolor": "white",
             "linecolor": "white",
             "minorgridcolor": "white",
             "startlinecolor": "#2a3f5f"
            },
            "type": "carpet"
           }
          ],
          "choropleth": [
           {
            "colorbar": {
             "outlinewidth": 0,
             "ticks": ""
            },
            "type": "choropleth"
           }
          ],
          "contour": [
           {
            "colorbar": {
             "outlinewidth": 0,
             "ticks": ""
            },
            "colorscale": [
             [
              0,
              "#0d0887"
             ],
             [
              0.1111111111111111,
              "#46039f"
             ],
             [
              0.2222222222222222,
              "#7201a8"
             ],
             [
              0.3333333333333333,
              "#9c179e"
             ],
             [
              0.4444444444444444,
              "#bd3786"
             ],
             [
              0.5555555555555556,
              "#d8576b"
             ],
             [
              0.6666666666666666,
              "#ed7953"
             ],
             [
              0.7777777777777778,
              "#fb9f3a"
             ],
             [
              0.8888888888888888,
              "#fdca26"
             ],
             [
              1,
              "#f0f921"
             ]
            ],
            "type": "contour"
           }
          ],
          "contourcarpet": [
           {
            "colorbar": {
             "outlinewidth": 0,
             "ticks": ""
            },
            "type": "contourcarpet"
           }
          ],
          "heatmap": [
           {
            "colorbar": {
             "outlinewidth": 0,
             "ticks": ""
            },
            "colorscale": [
             [
              0,
              "#0d0887"
             ],
             [
              0.1111111111111111,
              "#46039f"
             ],
             [
              0.2222222222222222,
              "#7201a8"
             ],
             [
              0.3333333333333333,
              "#9c179e"
             ],
             [
              0.4444444444444444,
              "#bd3786"
             ],
             [
              0.5555555555555556,
              "#d8576b"
             ],
             [
              0.6666666666666666,
              "#ed7953"
             ],
             [
              0.7777777777777778,
              "#fb9f3a"
             ],
             [
              0.8888888888888888,
              "#fdca26"
             ],
             [
              1,
              "#f0f921"
             ]
            ],
            "type": "heatmap"
           }
          ],
          "heatmapgl": [
           {
            "colorbar": {
             "outlinewidth": 0,
             "ticks": ""
            },
            "colorscale": [
             [
              0,
              "#0d0887"
             ],
             [
              0.1111111111111111,
              "#46039f"
             ],
             [
              0.2222222222222222,
              "#7201a8"
             ],
             [
              0.3333333333333333,
              "#9c179e"
             ],
             [
              0.4444444444444444,
              "#bd3786"
             ],
             [
              0.5555555555555556,
              "#d8576b"
             ],
             [
              0.6666666666666666,
              "#ed7953"
             ],
             [
              0.7777777777777778,
              "#fb9f3a"
             ],
             [
              0.8888888888888888,
              "#fdca26"
             ],
             [
              1,
              "#f0f921"
             ]
            ],
            "type": "heatmapgl"
           }
          ],
          "histogram": [
           {
            "marker": {
             "pattern": {
              "fillmode": "overlay",
              "size": 10,
              "solidity": 0.2
             }
            },
            "type": "histogram"
           }
          ],
          "histogram2d": [
           {
            "colorbar": {
             "outlinewidth": 0,
             "ticks": ""
            },
            "colorscale": [
             [
              0,
              "#0d0887"
             ],
             [
              0.1111111111111111,
              "#46039f"
             ],
             [
              0.2222222222222222,
              "#7201a8"
             ],
             [
              0.3333333333333333,
              "#9c179e"
             ],
             [
              0.4444444444444444,
              "#bd3786"
             ],
             [
              0.5555555555555556,
              "#d8576b"
             ],
             [
              0.6666666666666666,
              "#ed7953"
             ],
             [
              0.7777777777777778,
              "#fb9f3a"
             ],
             [
              0.8888888888888888,
              "#fdca26"
             ],
             [
              1,
              "#f0f921"
             ]
            ],
            "type": "histogram2d"
           }
          ],
          "histogram2dcontour": [
           {
            "colorbar": {
             "outlinewidth": 0,
             "ticks": ""
            },
            "colorscale": [
             [
              0,
              "#0d0887"
             ],
             [
              0.1111111111111111,
              "#46039f"
             ],
             [
              0.2222222222222222,
              "#7201a8"
             ],
             [
              0.3333333333333333,
              "#9c179e"
             ],
             [
              0.4444444444444444,
              "#bd3786"
             ],
             [
              0.5555555555555556,
              "#d8576b"
             ],
             [
              0.6666666666666666,
              "#ed7953"
             ],
             [
              0.7777777777777778,
              "#fb9f3a"
             ],
             [
              0.8888888888888888,
              "#fdca26"
             ],
             [
              1,
              "#f0f921"
             ]
            ],
            "type": "histogram2dcontour"
           }
          ],
          "mesh3d": [
           {
            "colorbar": {
             "outlinewidth": 0,
             "ticks": ""
            },
            "type": "mesh3d"
           }
          ],
          "parcoords": [
           {
            "line": {
             "colorbar": {
              "outlinewidth": 0,
              "ticks": ""
             }
            },
            "type": "parcoords"
           }
          ],
          "pie": [
           {
            "automargin": true,
            "type": "pie"
           }
          ],
          "scatter": [
           {
            "fillpattern": {
             "fillmode": "overlay",
             "size": 10,
             "solidity": 0.2
            },
            "type": "scatter"
           }
          ],
          "scatter3d": [
           {
            "line": {
             "colorbar": {
              "outlinewidth": 0,
              "ticks": ""
             }
            },
            "marker": {
             "colorbar": {
              "outlinewidth": 0,
              "ticks": ""
             }
            },
            "type": "scatter3d"
           }
          ],
          "scattercarpet": [
           {
            "marker": {
             "colorbar": {
              "outlinewidth": 0,
              "ticks": ""
             }
            },
            "type": "scattercarpet"
           }
          ],
          "scattergeo": [
           {
            "marker": {
             "colorbar": {
              "outlinewidth": 0,
              "ticks": ""
             }
            },
            "type": "scattergeo"
           }
          ],
          "scattergl": [
           {
            "marker": {
             "colorbar": {
              "outlinewidth": 0,
              "ticks": ""
             }
            },
            "type": "scattergl"
           }
          ],
          "scattermapbox": [
           {
            "marker": {
             "colorbar": {
              "outlinewidth": 0,
              "ticks": ""
             }
            },
            "type": "scattermapbox"
           }
          ],
          "scatterpolar": [
           {
            "marker": {
             "colorbar": {
              "outlinewidth": 0,
              "ticks": ""
             }
            },
            "type": "scatterpolar"
           }
          ],
          "scatterpolargl": [
           {
            "marker": {
             "colorbar": {
              "outlinewidth": 0,
              "ticks": ""
             }
            },
            "type": "scatterpolargl"
           }
          ],
          "scatterternary": [
           {
            "marker": {
             "colorbar": {
              "outlinewidth": 0,
              "ticks": ""
             }
            },
            "type": "scatterternary"
           }
          ],
          "surface": [
           {
            "colorbar": {
             "outlinewidth": 0,
             "ticks": ""
            },
            "colorscale": [
             [
              0,
              "#0d0887"
             ],
             [
              0.1111111111111111,
              "#46039f"
             ],
             [
              0.2222222222222222,
              "#7201a8"
             ],
             [
              0.3333333333333333,
              "#9c179e"
             ],
             [
              0.4444444444444444,
              "#bd3786"
             ],
             [
              0.5555555555555556,
              "#d8576b"
             ],
             [
              0.6666666666666666,
              "#ed7953"
             ],
             [
              0.7777777777777778,
              "#fb9f3a"
             ],
             [
              0.8888888888888888,
              "#fdca26"
             ],
             [
              1,
              "#f0f921"
             ]
            ],
            "type": "surface"
           }
          ],
          "table": [
           {
            "cells": {
             "fill": {
              "color": "#EBF0F8"
             },
             "line": {
              "color": "white"
             }
            },
            "header": {
             "fill": {
              "color": "#C8D4E3"
             },
             "line": {
              "color": "white"
             }
            },
            "type": "table"
           }
          ]
         },
         "layout": {
          "annotationdefaults": {
           "arrowcolor": "#2a3f5f",
           "arrowhead": 0,
           "arrowwidth": 1
          },
          "autotypenumbers": "strict",
          "coloraxis": {
           "colorbar": {
            "outlinewidth": 0,
            "ticks": ""
           }
          },
          "colorscale": {
           "diverging": [
            [
             0,
             "#8e0152"
            ],
            [
             0.1,
             "#c51b7d"
            ],
            [
             0.2,
             "#de77ae"
            ],
            [
             0.3,
             "#f1b6da"
            ],
            [
             0.4,
             "#fde0ef"
            ],
            [
             0.5,
             "#f7f7f7"
            ],
            [
             0.6,
             "#e6f5d0"
            ],
            [
             0.7,
             "#b8e186"
            ],
            [
             0.8,
             "#7fbc41"
            ],
            [
             0.9,
             "#4d9221"
            ],
            [
             1,
             "#276419"
            ]
           ],
           "sequential": [
            [
             0,
             "#0d0887"
            ],
            [
             0.1111111111111111,
             "#46039f"
            ],
            [
             0.2222222222222222,
             "#7201a8"
            ],
            [
             0.3333333333333333,
             "#9c179e"
            ],
            [
             0.4444444444444444,
             "#bd3786"
            ],
            [
             0.5555555555555556,
             "#d8576b"
            ],
            [
             0.6666666666666666,
             "#ed7953"
            ],
            [
             0.7777777777777778,
             "#fb9f3a"
            ],
            [
             0.8888888888888888,
             "#fdca26"
            ],
            [
             1,
             "#f0f921"
            ]
           ],
           "sequentialminus": [
            [
             0,
             "#0d0887"
            ],
            [
             0.1111111111111111,
             "#46039f"
            ],
            [
             0.2222222222222222,
             "#7201a8"
            ],
            [
             0.3333333333333333,
             "#9c179e"
            ],
            [
             0.4444444444444444,
             "#bd3786"
            ],
            [
             0.5555555555555556,
             "#d8576b"
            ],
            [
             0.6666666666666666,
             "#ed7953"
            ],
            [
             0.7777777777777778,
             "#fb9f3a"
            ],
            [
             0.8888888888888888,
             "#fdca26"
            ],
            [
             1,
             "#f0f921"
            ]
           ]
          },
          "colorway": [
           "#636efa",
           "#EF553B",
           "#00cc96",
           "#ab63fa",
           "#FFA15A",
           "#19d3f3",
           "#FF6692",
           "#B6E880",
           "#FF97FF",
           "#FECB52"
          ],
          "font": {
           "color": "#2a3f5f"
          },
          "geo": {
           "bgcolor": "white",
           "lakecolor": "white",
           "landcolor": "#E5ECF6",
           "showlakes": true,
           "showland": true,
           "subunitcolor": "white"
          },
          "hoverlabel": {
           "align": "left"
          },
          "hovermode": "closest",
          "mapbox": {
           "style": "light"
          },
          "paper_bgcolor": "white",
          "plot_bgcolor": "#E5ECF6",
          "polar": {
           "angularaxis": {
            "gridcolor": "white",
            "linecolor": "white",
            "ticks": ""
           },
           "bgcolor": "#E5ECF6",
           "radialaxis": {
            "gridcolor": "white",
            "linecolor": "white",
            "ticks": ""
           }
          },
          "scene": {
           "xaxis": {
            "backgroundcolor": "#E5ECF6",
            "gridcolor": "white",
            "gridwidth": 2,
            "linecolor": "white",
            "showbackground": true,
            "ticks": "",
            "zerolinecolor": "white"
           },
           "yaxis": {
            "backgroundcolor": "#E5ECF6",
            "gridcolor": "white",
            "gridwidth": 2,
            "linecolor": "white",
            "showbackground": true,
            "ticks": "",
            "zerolinecolor": "white"
           },
           "zaxis": {
            "backgroundcolor": "#E5ECF6",
            "gridcolor": "white",
            "gridwidth": 2,
            "linecolor": "white",
            "showbackground": true,
            "ticks": "",
            "zerolinecolor": "white"
           }
          },
          "shapedefaults": {
           "line": {
            "color": "#2a3f5f"
           }
          },
          "ternary": {
           "aaxis": {
            "gridcolor": "white",
            "linecolor": "white",
            "ticks": ""
           },
           "baxis": {
            "gridcolor": "white",
            "linecolor": "white",
            "ticks": ""
           },
           "bgcolor": "#E5ECF6",
           "caxis": {
            "gridcolor": "white",
            "linecolor": "white",
            "ticks": ""
           }
          },
          "title": {
           "x": 0.05
          },
          "xaxis": {
           "automargin": true,
           "gridcolor": "white",
           "linecolor": "white",
           "ticks": "",
           "title": {
            "standoff": 15
           },
           "zerolinecolor": "white",
           "zerolinewidth": 2
          },
          "yaxis": {
           "automargin": true,
           "gridcolor": "white",
           "linecolor": "white",
           "ticks": "",
           "title": {
            "standoff": 15
           },
           "zerolinecolor": "white",
           "zerolinewidth": 2
          }
         }
        },
        "xaxis": {
         "anchor": "y",
         "domain": [
          0,
          1
         ],
         "title": {
          "text": "x"
         }
        },
        "yaxis": {
         "anchor": "x",
         "domain": [
          0,
          1
         ],
         "title": {
          "text": "y"
         }
        }
       }
      }
     },
     "metadata": {},
     "output_type": "display_data"
    }
   ],
   "source": [
    "# Graficar los embedddings en 2D\n",
    "import plotly.graph_objects as go\n",
    "import plotly.express as px\n",
    "\n",
    "x_vals, y_vals, labels = reduce_dimensions(w2v_model)\n",
    "\n",
    "MAX_WORDS=200\n",
    "fig = px.scatter(x=x_vals[:MAX_WORDS], y=y_vals[:MAX_WORDS], text=labels[:MAX_WORDS])\n",
    "fig.show()\n",
    "#fig.show(renderer=\"colab\") # esto para plotly en colab"
   ]
  },
  {
   "cell_type": "markdown",
   "metadata": {
    "id": "yMM_SHSaZ9N-"
   },
   "source": [
    "### Alumno"
   ]
  },
  {
   "cell_type": "markdown",
   "metadata": {
    "id": "WivQZ3ZCZ9N_"
   },
   "source": [
    "- Crear sus propios vectores con Gensim basado en lo visto en clase con otro dataset.\n",
    "- Probar términos de interés y explicar similitudes en el espacio de embeddings (sacar conclusiones entre palabras similitudes y diferencias).\n",
    "- Graficarlos.\n",
    "- Obtener conclusiones."
   ]
  }
 ],
 "metadata": {
  "colab": {
   "collapsed_sections": [],
   "provenance": []
  },
  "kernelspec": {
   "display_name": "Python 3 (ipykernel)",
   "language": "python",
   "name": "python3"
  },
  "language_info": {
   "codemirror_mode": {
    "name": "ipython",
    "version": 3
   },
   "file_extension": ".py",
   "mimetype": "text/x-python",
   "name": "python",
   "nbconvert_exporter": "python",
   "pygments_lexer": "ipython3",
   "version": "3.11.2"
  }
 },
 "nbformat": 4,
 "nbformat_minor": 4
}
