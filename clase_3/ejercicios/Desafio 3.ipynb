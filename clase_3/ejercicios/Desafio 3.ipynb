{
 "cells": [
  {
   "cell_type": "markdown",
   "metadata": {
    "id": "sZd5yLnnHOK0"
   },
   "source": [
    "<img src=\"https://github.com/hernancontigiani/ceia_memorias_especializacion/raw/master/Figures/logoFIUBA.jpg\" width=\"500\" align=\"center\">\n",
    "\n",
    "\n",
    "# Procesamiento de lenguaje natural\n",
    "## Custom embedddings con Gensim\n",
    "\n"
   ]
  },
  {
   "cell_type": "markdown",
   "metadata": {
    "id": "vA7nqkumo9z9"
   },
   "source": [
    "### Desafio 3\n",
    "El objetivo es utilizar documentos / corpus para crear embeddings de palabras basado en ese contexto"
   ]
  },
  {
   "cell_type": "code",
   "execution_count": 1,
   "metadata": {
    "id": "lFToQs5FK5uZ"
   },
   "outputs": [],
   "source": [
    "import pandas as pd\n",
    "import matplotlib.pyplot as plt\n",
    "import seaborn as sns\n",
    "\n",
    "import multiprocessing\n",
    "from gensim.models import Word2Vec"
   ]
  },
  {
   "cell_type": "markdown",
   "metadata": {
    "id": "g07zJxG7H9vG"
   },
   "source": [
    "### Datos\n",
    "Utilizo El Libro \"Probabilidad y Estadistica para Ingenieria y Ciencias - Jay Devore - Septima Edicion\" de Jay Devore"
   ]
  },
  {
   "cell_type": "code",
   "execution_count": 112,
   "metadata": {},
   "outputs": [],
   "source": [
    "# Si no está instalada, hace falta instalar este modulo para leer PDFs\n",
    "# pip install PyPDF2"
   ]
  },
  {
   "cell_type": "code",
   "execution_count": 2,
   "metadata": {},
   "outputs": [
    {
     "data": {
      "text/plain": [
       "2560907"
      ]
     },
     "execution_count": 2,
     "metadata": {},
     "output_type": "execute_result"
    }
   ],
   "source": [
    "# importing all the required modules\n",
    "import PyPDF2\n",
    "\n",
    "# creating a pdf reader object\n",
    "reader1 = PyPDF2.PdfReader('Probabilidad y Estadistica para Ingenieria y Ciencias - Jay Devore - Septima Edicion.pdf')\n",
    "\n",
    "\n",
    "texto = \"\"\n",
    "for p in reader1.pages:\n",
    "    texto+=p.extract_text()\n",
    "\n",
    "\n",
    "len(texto)"
   ]
  },
  {
   "cell_type": "code",
   "execution_count": 3,
   "metadata": {},
   "outputs": [],
   "source": [
    "import re\n",
    "import unicodedata\n",
    "import string\n",
    "\n",
    "# El preprocesamento en castellano requiere más trabajo\n",
    "\n",
    "# Referencia de regex:\n",
    "# https://docs.python.org/3/library/re.html\n",
    "\n",
    "def preprocess_clean_text(text):    \n",
    "    # sacar tildes de las palabras\n",
    "    text = unicodedata.normalize('NFKD', text).encode('ascii', 'ignore').decode('utf-8', 'ignore')\n",
    "    # quitar caracteres especiales\n",
    "    pattern = r'[^a-zA-z0-9.,!?/:;\\\"\\'\\s]' \n",
    "    text = re.sub(pattern, '', text)\n",
    "    pattern = r'[^a-zA-z.,!?/:;\\\"\\'\\s]' \n",
    "    # quitar números\n",
    "    text = re.sub(pattern, '', text)\n",
    "    # quitar caracteres de puntiación\n",
    "    text = ''.join([c for c in text if c not in string.punctuation])\n",
    "    return text"
   ]
  },
  {
   "cell_type": "code",
   "execution_count": 4,
   "metadata": {},
   "outputs": [],
   "source": [
    "texto2 = preprocess_clean_text(texto).split('\\n')"
   ]
  },
  {
   "cell_type": "code",
   "execution_count": 5,
   "metadata": {
    "id": "ticoqYD1Z3I7"
   },
   "outputs": [
    {
     "data": {
      "text/html": [
       "<div>\n",
       "<style scoped>\n",
       "    .dataframe tbody tr th:only-of-type {\n",
       "        vertical-align: middle;\n",
       "    }\n",
       "\n",
       "    .dataframe tbody tr th {\n",
       "        vertical-align: top;\n",
       "    }\n",
       "\n",
       "    .dataframe thead th {\n",
       "        text-align: right;\n",
       "    }\n",
       "</style>\n",
       "<table border=\"1\" class=\"dataframe\">\n",
       "  <thead>\n",
       "    <tr style=\"text-align: right;\">\n",
       "      <th></th>\n",
       "      <th>doc</th>\n",
       "    </tr>\n",
       "  </thead>\n",
       "  <tbody>\n",
       "    <tr>\n",
       "      <th>60</th>\n",
       "      <td>Introduccion</td>\n",
       "    </tr>\n",
       "    <tr>\n",
       "      <th>61</th>\n",
       "      <td>Variables aleatorias conjuntamente distribuidas</td>\n",
       "    </tr>\n",
       "    <tr>\n",
       "      <th>62</th>\n",
       "      <td>Valores esperados covarianza y correlacion  E...</td>\n",
       "    </tr>\n",
       "    <tr>\n",
       "      <th>63</th>\n",
       "      <td>Ejercicios suplementarios Bibliografia</td>\n",
       "    </tr>\n",
       "    <tr>\n",
       "      <th>64</th>\n",
       "      <td>Introduccion</td>\n",
       "    </tr>\n",
       "    <tr>\n",
       "      <th>65</th>\n",
       "      <td>Propiedades basicas de los intervalos de conf...</td>\n",
       "    </tr>\n",
       "    <tr>\n",
       "      <th>66</th>\n",
       "      <td>Intervalos de confianza de muestra grande par...</td>\n",
       "    </tr>\n",
       "    <tr>\n",
       "      <th>67</th>\n",
       "      <td>y proporcion de poblacion Introduccion</td>\n",
       "    </tr>\n",
       "    <tr>\n",
       "      <th>68</th>\n",
       "      <td>Algunos conceptos generales de estimacion pun...</td>\n",
       "    </tr>\n",
       "    <tr>\n",
       "      <th>69</th>\n",
       "      <td>Metodos de estimacion puntual</td>\n",
       "    </tr>\n",
       "    <tr>\n",
       "      <th>70</th>\n",
       "      <td>Ejercicios suplementarios Bibliografia Distrib...</td>\n",
       "    </tr>\n",
       "    <tr>\n",
       "      <th>71</th>\n",
       "      <td>y muestras aleatorias</td>\n",
       "    </tr>\n",
       "    <tr>\n",
       "      <th>72</th>\n",
       "      <td>Estimacion puntual</td>\n",
       "    </tr>\n",
       "    <tr>\n",
       "      <th>73</th>\n",
       "      <td>Intervalos estadisticos basados en una sola mu...</td>\n",
       "    </tr>\n",
       "    <tr>\n",
       "      <th>74</th>\n",
       "      <td>Intervalos de confianza para la varianza y de...</td>\n",
       "    </tr>\n",
       "    <tr>\n",
       "      <th>75</th>\n",
       "      <td>de una poblacion normal Ejercicios suplementar...</td>\n",
       "    </tr>\n",
       "    <tr>\n",
       "      <th>76</th>\n",
       "      <td>Introduccion</td>\n",
       "    </tr>\n",
       "    <tr>\n",
       "      <th>77</th>\n",
       "      <td>Hipotesis y procedimientos de prueba  Pruebas...</td>\n",
       "    </tr>\n",
       "    <tr>\n",
       "      <th>78</th>\n",
       "      <td>Algunos comentarios sobre la seleccion de una...</td>\n",
       "    </tr>\n",
       "    <tr>\n",
       "      <th>79</th>\n",
       "      <td>Ejercicios suplementarios Bibliografia</td>\n",
       "    </tr>\n",
       "    <tr>\n",
       "      <th>80</th>\n",
       "      <td>Introduccion</td>\n",
       "    </tr>\n",
       "    <tr>\n",
       "      <th>81</th>\n",
       "      <td>ANOVA unifactorial</td>\n",
       "    </tr>\n",
       "    <tr>\n",
       "      <th>82</th>\n",
       "      <td>Comparaciones multiples en ANOVA  Mas sobre A...</td>\n",
       "    </tr>\n",
       "    <tr>\n",
       "      <th>83</th>\n",
       "      <td>Ejercicios suplementarios Bibliografia Introdu...</td>\n",
       "    </tr>\n",
       "    <tr>\n",
       "      <th>84</th>\n",
       "      <td>Pruebas ze intervalos de confianza para una d...</td>\n",
       "    </tr>\n",
       "    <tr>\n",
       "      <th>85</th>\n",
       "      <td>dos medias de poblacion</td>\n",
       "    </tr>\n",
       "    <tr>\n",
       "      <th>86</th>\n",
       "      <td>Prueba tcon dos muestras e intervalo de confi...</td>\n",
       "    </tr>\n",
       "    <tr>\n",
       "      <th>87</th>\n",
       "      <td>Inferencias sobre una diferencia entre propor...</td>\n",
       "    </tr>\n",
       "    <tr>\n",
       "      <th>88</th>\n",
       "      <td>de poblacion</td>\n",
       "    </tr>\n",
       "    <tr>\n",
       "      <th>89</th>\n",
       "      <td>Inferencias sobre dos varianzas de poblacion</td>\n",
       "    </tr>\n",
       "    <tr>\n",
       "      <th>90</th>\n",
       "      <td>Ejercicios suplementarios</td>\n",
       "    </tr>\n",
       "    <tr>\n",
       "      <th>91</th>\n",
       "      <td>Bibliografia Pruebas de hipotesis basadas en u...</td>\n",
       "    </tr>\n",
       "    <tr>\n",
       "      <th>92</th>\n",
       "      <td>Inferencias basadas en dos muestras</td>\n",
       "    </tr>\n",
       "    <tr>\n",
       "      <th>93</th>\n",
       "      <td>Analisis de la varianzaPrelspixviqxd     AM  ...</td>\n",
       "    </tr>\n",
       "    <tr>\n",
       "      <th>94</th>\n",
       "      <td>ANOVA bifactorial con KijH</td>\n",
       "    </tr>\n",
       "    <tr>\n",
       "      <th>95</th>\n",
       "      <td>ANOVA bifactorial con KijH</td>\n",
       "    </tr>\n",
       "    <tr>\n",
       "      <th>96</th>\n",
       "      <td>ANOVA con tres factores</td>\n",
       "    </tr>\n",
       "    <tr>\n",
       "      <th>97</th>\n",
       "      <td>Experimentos pfactoriales</td>\n",
       "    </tr>\n",
       "    <tr>\n",
       "      <th>98</th>\n",
       "      <td>Ejercicios suplementarios Bibliografia x Conte...</td>\n",
       "    </tr>\n",
       "    <tr>\n",
       "      <th>99</th>\n",
       "      <td>Regresion lineal simple y correlacion</td>\n",
       "    </tr>\n",
       "  </tbody>\n",
       "</table>\n",
       "</div>"
      ],
      "text/plain": [
       "                                                  doc\n",
       "60                                      Introduccion \n",
       "61   Variables aleatorias conjuntamente distribuidas \n",
       "62   Valores esperados covarianza y correlacion  E...\n",
       "63            Ejercicios suplementarios Bibliografia \n",
       "64                                      Introduccion \n",
       "65   Propiedades basicas de los intervalos de conf...\n",
       "66   Intervalos de confianza de muestra grande par...\n",
       "67            y proporcion de poblacion Introduccion \n",
       "68   Algunos conceptos generales de estimacion pun...\n",
       "69                     Metodos de estimacion puntual \n",
       "70  Ejercicios suplementarios Bibliografia Distrib...\n",
       "71                              y muestras aleatorias\n",
       "72                                 Estimacion puntual\n",
       "73  Intervalos estadisticos basados en una sola mu...\n",
       "74   Intervalos de confianza para la varianza y de...\n",
       "75  de una poblacion normal Ejercicios suplementar...\n",
       "76                                      Introduccion \n",
       "77   Hipotesis y procedimientos de prueba  Pruebas...\n",
       "78   Algunos comentarios sobre la seleccion de una...\n",
       "79            Ejercicios suplementarios Bibliografia \n",
       "80                                      Introduccion \n",
       "81                                ANOVA unifactorial \n",
       "82   Comparaciones multiples en ANOVA  Mas sobre A...\n",
       "83  Ejercicios suplementarios Bibliografia Introdu...\n",
       "84   Pruebas ze intervalos de confianza para una d...\n",
       "85                           dos medias de poblacion \n",
       "86   Prueba tcon dos muestras e intervalo de confi...\n",
       "87   Inferencias sobre una diferencia entre propor...\n",
       "88                                      de poblacion \n",
       "89      Inferencias sobre dos varianzas de poblacion \n",
       "90                         Ejercicios suplementarios \n",
       "91  Bibliografia Pruebas de hipotesis basadas en u...\n",
       "92                Inferencias basadas en dos muestras\n",
       "93   Analisis de la varianzaPrelspixviqxd     AM  ...\n",
       "94                        ANOVA bifactorial con KijH \n",
       "95                        ANOVA bifactorial con KijH \n",
       "96                           ANOVA con tres factores \n",
       "97                         Experimentos pfactoriales \n",
       "98  Ejercicios suplementarios Bibliografia x Conte...\n",
       "99              Regresion lineal simple y correlacion"
      ]
     },
     "execution_count": 5,
     "metadata": {},
     "output_type": "execute_result"
    }
   ],
   "source": [
    "# Armar el dataset utilizando salto de línea para separar las oraciones/docs\n",
    "df = pd.DataFrame(texto2, columns=['doc'])\n",
    "df = df[df['doc']!=' ']\n",
    "df[60:100]"
   ]
  },
  {
   "cell_type": "code",
   "execution_count": 6,
   "metadata": {
    "id": "LEpKubK9XzXN"
   },
   "outputs": [
    {
     "name": "stdout",
     "output_type": "stream",
     "text": [
      "Cantidad de documentos: 31424\n"
     ]
    }
   ],
   "source": [
    "print(\"Cantidad de documentos:\", df.shape[0])"
   ]
  },
  {
   "cell_type": "markdown",
   "metadata": {
    "id": "ab94qaFlrA1G"
   },
   "source": [
    "### 1 - Preprocesamiento"
   ]
  },
  {
   "cell_type": "code",
   "execution_count": 7,
   "metadata": {
    "id": "rIsmMWmjrDHd"
   },
   "outputs": [],
   "source": [
    "from keras.preprocessing.text import text_to_word_sequence\n",
    "\n",
    "sentence_tokens = []\n",
    "# Recorrer todas las filas y transformar las oraciones\n",
    "# en una secuencia de palabras (esto podría realizarse con NLTK o spaCy también)\n",
    "for _, row in df[:None].iterrows():\n",
    "    sentence_tokens.append(text_to_word_sequence(row[0]))    "
   ]
  },
  {
   "cell_type": "code",
   "execution_count": 8,
   "metadata": {
    "id": "CHepi_DGrbhq"
   },
   "outputs": [
    {
     "data": {
      "text/plain": [
       "[['devorepdf', 'anderixxviiiqxd', 'am', 'page', 'ivseptima', 'edicion'],\n",
       " ['probabilidad', 'y', 'estadistica']]"
      ]
     },
     "execution_count": 8,
     "metadata": {},
     "output_type": "execute_result"
    }
   ],
   "source": [
    "# Demos un vistazo\n",
    "sentence_tokens[:2]"
   ]
  },
  {
   "cell_type": "markdown",
   "metadata": {
    "id": "BaXV6nlHr5Aa"
   },
   "source": [
    "### 2 - Crear los vectores (word2vec)"
   ]
  },
  {
   "cell_type": "code",
   "execution_count": 9,
   "metadata": {
    "id": "OSb0v7h8r7hK"
   },
   "outputs": [],
   "source": [
    "from gensim.models.callbacks import CallbackAny2Vec\n",
    "# Durante el entrenamiento gensim por defecto no informa el \"loss\" en cada época\n",
    "# Sobrecargamos el callback para poder tener esta información\n",
    "class callback(CallbackAny2Vec):\n",
    "    \"\"\"\n",
    "    Callback to print loss after each epoch\n",
    "    \"\"\"\n",
    "    def __init__(self):\n",
    "        self.epoch = 0\n",
    "\n",
    "    def on_epoch_end(self, model):\n",
    "        loss = model.get_latest_training_loss()\n",
    "        if self.epoch == 0:\n",
    "            print('Loss after epoch {}: {}'.format(self.epoch, loss))\n",
    "        else:\n",
    "            print('Loss after epoch {}: {}'.format(self.epoch, loss- self.loss_previous_step))\n",
    "        self.epoch += 1\n",
    "        self.loss_previous_step = loss"
   ]
  },
  {
   "cell_type": "code",
   "execution_count": 10,
   "metadata": {
    "id": "i0wnDdv9sJ47"
   },
   "outputs": [],
   "source": [
    "# Crearmos el modelo generador de vectores\n",
    "# En este caso utilizaremos la estructura modelo Skipgram\n",
    "w2v_model = Word2Vec(min_count=5,    # frecuencia mínima de palabra para incluirla en el vocabulario\n",
    "                     window=2,       # cant de palabras antes y desp de la predicha\n",
    "                     vector_size=300,       # dimensionalidad de los vectores \n",
    "                     negative=20,    # cantidad de negative samples... 0 es no se usa\n",
    "                     workers=1,      # si tienen más cores pueden cambiar este valor\n",
    "                     sg=1)           # modelo 0:CBOW  1:skipgram"
   ]
  },
  {
   "cell_type": "code",
   "execution_count": 11,
   "metadata": {
    "id": "5lTt8wErsf17"
   },
   "outputs": [],
   "source": [
    "# Obtener el vocabulario con los tokens\n",
    "w2v_model.build_vocab(sentence_tokens)"
   ]
  },
  {
   "cell_type": "code",
   "execution_count": 12,
   "metadata": {
    "id": "TNc9qt4os5AT"
   },
   "outputs": [
    {
     "name": "stdout",
     "output_type": "stream",
     "text": [
      "Cantidad de docs en el corpus: 31424\n"
     ]
    }
   ],
   "source": [
    "# Cantidad de filas/docs encontradas en el corpus\n",
    "print(\"Cantidad de docs en el corpus:\", w2v_model.corpus_count)"
   ]
  },
  {
   "cell_type": "code",
   "execution_count": 13,
   "metadata": {
    "id": "idw9cHF3tSMl"
   },
   "outputs": [
    {
     "name": "stdout",
     "output_type": "stream",
     "text": [
      "Cantidad de words distintas en el corpus: 4690\n"
     ]
    }
   ],
   "source": [
    "# Cantidad de words encontradas en el corpus\n",
    "print(\"Cantidad de words distintas en el corpus:\", len(w2v_model.wv.index_to_key))"
   ]
  },
  {
   "cell_type": "markdown",
   "metadata": {
    "id": "fC9mZ8DPk-UC"
   },
   "source": [
    "### 3 - Entrenar el modelo generador"
   ]
  },
  {
   "cell_type": "code",
   "execution_count": 14,
   "metadata": {
    "id": "QSp-x0PAsq56"
   },
   "outputs": [
    {
     "name": "stdout",
     "output_type": "stream",
     "text": [
      "Loss after epoch 0: 2082966.125\n",
      "Loss after epoch 1: 1434431.625\n",
      "Loss after epoch 2: 1339833.25\n",
      "Loss after epoch 3: 1272517.5\n",
      "Loss after epoch 4: 1247892.0\n",
      "Loss after epoch 5: 1219403.5\n",
      "Loss after epoch 6: 1157575.0\n",
      "Loss after epoch 7: 1142637.0\n",
      "Loss after epoch 8: 1127761.0\n",
      "Loss after epoch 9: 1114158.0\n",
      "Loss after epoch 10: 1109160.0\n",
      "Loss after epoch 11: 1099924.0\n",
      "Loss after epoch 12: 1087860.0\n",
      "Loss after epoch 13: 1041541.0\n",
      "Loss after epoch 14: 1020328.0\n",
      "Loss after epoch 15: 1014472.0\n",
      "Loss after epoch 16: 1011534.0\n",
      "Loss after epoch 17: 1008986.0\n",
      "Loss after epoch 18: 1009436.0\n",
      "Loss after epoch 19: 1008438.0\n"
     ]
    },
    {
     "data": {
      "text/plain": [
       "(4021839, 6546420)"
      ]
     },
     "execution_count": 14,
     "metadata": {},
     "output_type": "execute_result"
    }
   ],
   "source": [
    "# Entrenamos el modelo generador de vectores\n",
    "# Utilizamos nuestro callback\n",
    "w2v_model.train(sentence_tokens,\n",
    "                 total_examples=w2v_model.corpus_count,\n",
    "                 epochs=20,\n",
    "                 compute_loss = True,\n",
    "                 callbacks=[callback()]\n",
    "                 )"
   ]
  },
  {
   "cell_type": "markdown",
   "metadata": {
    "id": "ddT9NVuNlCAe"
   },
   "source": [
    "### 4 - Ensayar"
   ]
  },
  {
   "cell_type": "code",
   "execution_count": 15,
   "metadata": {
    "id": "6cHN9xGLuPEm"
   },
   "outputs": [
    {
     "data": {
      "text/plain": [
       "[('bilidad', 0.660105288028717),\n",
       " ('probabilidadde', 0.630105197429657),\n",
       " ('deprobabilidad', 0.6283737421035767),\n",
       " ('proba', 0.6048436760902405),\n",
       " ('dad', 0.6005218625068665),\n",
       " ('pareto', 0.5954572558403015),\n",
       " ('probabili', 0.5848279595375061),\n",
       " ('distribucionacumulativa', 0.5771308541297913),\n",
       " ('laprobabilidad', 0.5708844661712646),\n",
       " ('probabi', 0.56487637758255)]"
      ]
     },
     "execution_count": 15,
     "metadata": {},
     "output_type": "execute_result"
    }
   ],
   "source": [
    "# Palabras que MÁS se relacionan con...:\n",
    "w2v_model.wv.most_similar(positive=[\"probabilidad\"], topn=10)"
   ]
  },
  {
   "cell_type": "code",
   "execution_count": 16,
   "metadata": {
    "id": "47HiU5gdkdMq"
   },
   "outputs": [
    {
     "data": {
      "text/plain": [
       "[('estan', 0.05568511039018631),\n",
       " ('hnzh', 0.04433494433760643),\n",
       " ('hhhhhs', 0.03665276616811752),\n",
       " ('ihhj', 0.03233702853322029),\n",
       " ('u', 0.028221577405929565),\n",
       " ('ejercicios', 0.013404791243374348),\n",
       " ('hhab', 0.013244781643152237),\n",
       " ('expuestos', 0.004860153421759605),\n",
       " ('ihhji', 0.004822547547519207),\n",
       " ('larga', 0.001856897841207683)]"
      ]
     },
     "execution_count": 16,
     "metadata": {},
     "output_type": "execute_result"
    }
   ],
   "source": [
    "# Palabras que MENOS se relacionan con...:\n",
    "w2v_model.wv.most_similar(negative=[\"error\"], topn=10)"
   ]
  },
  {
   "cell_type": "code",
   "execution_count": 17,
   "metadata": {
    "id": "DT4Rvno2mD65"
   },
   "outputs": [
    {
     "data": {
      "text/plain": [
       "[('nor', 0.6441153287887573),\n",
       " ('lognormal', 0.6213048696517944),\n",
       " ('pareto', 0.6021997928619385),\n",
       " ('distribucionde', 0.5906733274459839),\n",
       " ('beta', 0.5815991759300232),\n",
       " ('cauchy', 0.5774745345115662),\n",
       " ('gama', 0.5768176317214966),\n",
       " ('ztiene', 0.5752827525138855),\n",
       " ('geometrica', 0.5717847943305969),\n",
       " ('rayleigh', 0.570389449596405)]"
      ]
     },
     "execution_count": 17,
     "metadata": {},
     "output_type": "execute_result"
    }
   ],
   "source": [
    "# Palabras que MÁS se relacionan con...:\n",
    "w2v_model.wv.most_similar(positive=[\"normal\"], topn=10)"
   ]
  },
  {
   "cell_type": "code",
   "execution_count": 18,
   "metadata": {
    "id": "XPLDPgzBmQXt"
   },
   "outputs": [
    {
     "data": {
      "text/plain": [
       "[('ideas', 0.7595826983451843),\n",
       " ('metodologia', 0.7492762804031372),\n",
       " ('tabulares', 0.739080548286438),\n",
       " ('pictoricos', 0.7321810126304626),\n",
       " ('disciplina', 0.7254404425621033)]"
      ]
     },
     "execution_count": 18,
     "metadata": {},
     "output_type": "execute_result"
    }
   ],
   "source": [
    "# Palabras que MÁS se relacionan con...:\n",
    "w2v_model.wv.most_similar(positive=[\"inferencia\"], topn=5)"
   ]
  },
  {
   "cell_type": "code",
   "execution_count": 19,
   "metadata": {},
   "outputs": [
    {
     "data": {
      "text/plain": [
       "[('mador', 0.5441498756408691),\n",
       " ('desviacionestandar', 0.5249478816986084),\n",
       " ('desviacion', 0.5238469839096069),\n",
       " ('moda', 0.5186294913291931),\n",
       " ('arianza', 0.5177518129348755)]"
      ]
     },
     "execution_count": 19,
     "metadata": {},
     "output_type": "execute_result"
    }
   ],
   "source": [
    "# Palabras que MÁS se relacionan con...:\n",
    "w2v_model.wv.most_similar(positive=[\"varianza\"], topn=5)"
   ]
  },
  {
   "cell_type": "markdown",
   "metadata": {
    "id": "_g8UVWe6lFmh"
   },
   "source": [
    "### 5 - Visualizar agrupación de vectores"
   ]
  },
  {
   "cell_type": "code",
   "execution_count": 20,
   "metadata": {
    "id": "pDxEVXAivjr9"
   },
   "outputs": [],
   "source": [
    "from sklearn.decomposition import IncrementalPCA    \n",
    "from sklearn.manifold import TSNE                   \n",
    "import numpy as np                                  \n",
    "\n",
    "def reduce_dimensions(model):\n",
    "    num_dimensions = 2  \n",
    "\n",
    "    vectors = np.asarray(model.wv.vectors)\n",
    "    labels = np.asarray(model.wv.index_to_key)  \n",
    "\n",
    "    tsne = TSNE(n_components=num_dimensions, random_state=0)\n",
    "    vectors = tsne.fit_transform(vectors)\n",
    "\n",
    "    x_vals = [v[0] for v in vectors]\n",
    "    y_vals = [v[1] for v in vectors]\n",
    "    return x_vals, y_vals, labels"
   ]
  },
  {
   "cell_type": "code",
   "execution_count": 21,
   "metadata": {
    "id": "NCCXtDpcugmd"
   },
   "outputs": [
    {
     "data": {
      "application/vnd.plotly.v1+json": {
       "config": {
        "plotlyServerURL": "https://plot.ly"
       },
       "data": [
        {
         "hovertemplate": "x=%{x}<br>y=%{y}<br>text=%{text}<extra></extra>",
         "legendgroup": "",
         "marker": {
          "color": "#636efa",
          "symbol": "circle"
         },
         "mode": "markers+text",
         "name": "",
         "orientation": "v",
         "showlegend": false,
         "text": [
          "de",
          "la",
          "h",
          "el",
          "que",
          "y",
          "en",
          "una",
          "es",
          "se",
          "a",
          "un",
          "los",
          "para",
          "con",
          "las",
          "del",
          "por",
          "x",
          "hh",
          "probabilidad",
          "valor",
          "si",
          "no",
          "distribucion",
          "como",
          "muestra",
          "al",
          "mas",
          "dos",
          "cuando",
          "prueba",
          "datos",
          "valores",
          "o",
          "cada",
          "son",
          "ejemplo",
          "esta",
          "lo",
          "p",
          "funcion",
          "b",
          "ser",
          "numero",
          "am",
          "entre",
          "intervalo",
          "page",
          "cual",
          "nivel",
          "modelo",
          "n",
          "sea",
          "estandar",
          "confianza",
          "entonces",
          "sobre",
          "normal",
          "este",
          "puede",
          "xh",
          "grafica",
          "media",
          "of",
          "regresion",
          "poblacion",
          "c",
          "capitulo",
          "variable",
          "figura",
          "hipotesis",
          "promedio",
          "tiempo",
          "tabla",
          "tipo",
          "tiene",
          "solo",
          "articulo",
          "tres",
          "aleatoria",
          "tanto",
          "hhh",
          "su",
          "f",
          "modo",
          "menos",
          "uno",
          "muestral",
          "ha",
          "e",
          "grande",
          "desviacion",
          "control",
          "i",
          "lineal",
          "asi",
          "cualquier",
          "suponga",
          "observaciones",
          "verdadera",
          "variables",
          "j",
          "densidad",
          "caso",
          "da",
          "error",
          "cpqxd",
          "diferentes",
          "t",
          "nh",
          "experimento",
          "particular",
          "distribuciones",
          "estimacion",
          "esto",
          "informacion",
          "hes",
          "hy",
          "siguientes",
          "ph",
          "tamano",
          "forma",
          "estadistico",
          "and",
          "todos",
          "sin",
          "resistencia",
          "varianza",
          "estos",
          "resultados",
          "muestras",
          "total",
          "hx",
          "z",
          "cuatro",
          "medio",
          "relacion",
          "s",
          "linea",
          "obtener",
          "cuadrados",
          "siguiente",
          "azar",
          "estimador",
          "decir",
          "resultado",
          "r",
          "tambien",
          "factor",
          "seccion",
          "donde",
          "pero",
          "d",
          "analisis",
          "area",
          "hay",
          "puntos",
          "parametro",
          "diferencia",
          "estan",
          "the",
          "curva",
          "cola",
          "intervalos",
          "esperado",
          "calcule",
          "proporcion",
          "aleatorias",
          "superior",
          "cantidad",
          "in",
          "region",
          "ejercicio",
          "independientes",
          "parametros",
          "rechazada",
          "estas",
          "masa",
          "fx",
          "bajo",
          "k",
          "ih",
          "luego",
          "limite",
          "efectos",
          "suma",
          "durante",
          "conjunto",
          "libertad",
          "lugar",
          "mucho",
          "frecuencia",
          "grados",
          "todas",
          "significacion",
          "pruebas",
          "simple",
          "aproximadamente",
          "factores"
         ],
         "type": "scatter",
         "x": [
          0.6614529,
          -29.290329,
          18.349327,
          5.286102,
          -7.010054,
          -10.807119,
          1.5456243,
          -33.87832,
          -32.450256,
          -10.376016,
          -8.269841,
          -18.300135,
          -0.40780535,
          -6.710411,
          -9.467387,
          -17.12789,
          2.5193396,
          -20.306208,
          17.007732,
          15.57336,
          -31.904104,
          -19.491648,
          -12.913455,
          -21.617765,
          -37.792557,
          -9.020794,
          -0.49317253,
          5.9642625,
          -32.567413,
          4.614771,
          7.8470173,
          -10.495796,
          5.462058,
          -22.796057,
          -9.70366,
          1.9032202,
          -21.794441,
          -23.889864,
          -43.91687,
          -32.752014,
          24.511486,
          -33.221302,
          30.078459,
          -9.585443,
          -14.438916,
          37.49313,
          -10.46373,
          -16.43874,
          37.484737,
          -30.045935,
          -12.869713,
          -21.120136,
          20.585032,
          -15.487778,
          -20.452763,
          -15.782751,
          -11.231115,
          -5.410404,
          -39.545654,
          -16.294064,
          -20.25051,
          18.851067,
          -40.353176,
          -36.640717,
          54.44851,
          -20.127718,
          -34.327293,
          32.02228,
          39.066402,
          -40.78476,
          -35.117344,
          10.752431,
          26.75282,
          13.037898,
          2.5822053,
          12.556495,
          -42.020466,
          -15.610673,
          44.672245,
          5.1123123,
          -38.74732,
          -12.904183,
          15.919559,
          8.837335,
          -8.416978,
          -26.596046,
          -31.527767,
          -0.5460062,
          -35.663357,
          19.097614,
          32.276978,
          -25.951672,
          -38.41785,
          21.526953,
          8.781042,
          -22.96194,
          -18.175922,
          -1.5095724,
          -35.691387,
          -23.562626,
          31.968206,
          -25.891954,
          51.031696,
          -33.769157,
          -14.721068,
          -5.1174417,
          9.10243,
          37.30342,
          -4.99831,
          10.029212,
          21.18906,
          3.678177,
          13.891316,
          -23.707176,
          -23.888668,
          -13.594474,
          11.839243,
          11.845468,
          14.793746,
          17.673141,
          11.518012,
          -34.077553,
          -32.53389,
          -7.273894,
          53.503628,
          -1.752507,
          1.6584245,
          26.051476,
          -23.169767,
          -2.9543972,
          -7.7070494,
          -9.247056,
          27.252617,
          20.290308,
          22.141092,
          4.652181,
          23.361237,
          -28.068584,
          -9.092111,
          -33.54252,
          -6.2896886,
          -3.1652017,
          -0.7392604,
          6.5923066,
          -22.965523,
          -16.23558,
          -10.044277,
          -0.9298423,
          -5.261081,
          5.646838,
          3.934298,
          17.281185,
          -14.226189,
          32.072918,
          6.950453,
          -3.7750225,
          -26.164402,
          -26.15535,
          -36.62964,
          -12.6002865,
          -27.869028,
          53.684788,
          -3.1674488,
          -5.9995008,
          -17.620548,
          18.748951,
          -21.449072,
          -26.352654,
          -25.262175,
          -5.457782,
          23.096725,
          54.000168,
          -1.4088702,
          3.555295,
          -24.316364,
          -29.135456,
          8.655184,
          -16.053446,
          -33.06671,
          15.364603,
          -5.27822,
          -14.570923,
          24.65509,
          -5.6520877,
          -15.379602,
          -27.49708,
          21.20216,
          15.654721,
          -3.300595,
          16.013973,
          -11.799719,
          -29.208757,
          23.49793,
          16.37978,
          -16.51523,
          -12.838456,
          -20.29762,
          -22.524399,
          -40.54606,
          -4.4997907
         ],
         "xaxis": "x",
         "y": [
          5.4828515,
          -6.901794,
          -28.599693,
          -3.587199,
          1.3746482,
          0.29180208,
          -19.431646,
          -19.46886,
          -0.43737563,
          -7.183315,
          0.12417905,
          -16.59432,
          20.228386,
          -11.836057,
          -25.546022,
          28.372961,
          -2.7727003,
          4.239887,
          -18.95847,
          -32.08847,
          -4.5025287,
          -5.5012913,
          -9.5737705,
          7.7093935,
          -6.235423,
          -3.746758,
          8.715119,
          5.2525525,
          2.0803394,
          35.360664,
          10.159441,
          -32.350067,
          -25.015764,
          16.821012,
          4.7829223,
          39.757446,
          25.009295,
          -7.1658387,
          12.302107,
          16.394535,
          -29.41656,
          -8.399877,
          -24.264069,
          -14.521503,
          7.320034,
          -15.726776,
          41.444473,
          -35.635384,
          -15.768022,
          -5.535917,
          -31.787512,
          -24.774954,
          -17.263605,
          6.1602287,
          22.62692,
          -33.437634,
          -4.749439,
          -19.58917,
          -10.789227,
          -15.515637,
          -19.620438,
          -21.706337,
          -18.209152,
          10.54436,
          4.8944106,
          -26.383215,
          11.031609,
          -23.6694,
          -14.048557,
          -2.2548983,
          -17.472992,
          -34.720467,
          12.890986,
          16.522377,
          -34.852287,
          3.8466609,
          -9.34884,
          3.9339302,
          1.48507,
          32.810463,
          -2.1249976,
          -0.41198158,
          -32.287895,
          -0.93355256,
          -41.313877,
          -11.200629,
          13.983355,
          32.12357,
          9.495179,
          -9.849841,
          -24.798372,
          -0.87128067,
          11.233136,
          33.921627,
          -27.23877,
          -26.32948,
          0.7595491,
          -6.1191897,
          24.189674,
          20.208088,
          12.458131,
          27.40273,
          8.487711,
          -6.136812,
          -13.071417,
          -27.422335,
          -26.682735,
          -13.260167,
          34.51807,
          -41.333744,
          -16.798916,
          -12.846766,
          3.6902702,
          29.920767,
          -33.27439,
          -12.535484,
          -11.596875,
          -26.73513,
          -20.564518,
          32.389202,
          -30.563772,
          8.101241,
          -15.66532,
          -31.410913,
          4.05918,
          19.3693,
          -11.909051,
          15.518332,
          -13.255834,
          21.394585,
          23.971733,
          34.56477,
          7.8592615,
          -23.231354,
          -33.108273,
          33.385464,
          13.344505,
          -19.603704,
          -29.177185,
          -24.868666,
          -21.367554,
          -32.796764,
          -29.675724,
          33.230904,
          -14.526575,
          0.41759837,
          -10.875385,
          -38.21991,
          -3.1837053,
          -7.9975376,
          -23.175346,
          -24.72788,
          1.2212073,
          -23.562738,
          -17.494507,
          -40.49054,
          -17.643335,
          16.0836,
          -7.0014462,
          -24.098991,
          26.200619,
          5.250032,
          -41.38451,
          -37.045753,
          -37.237617,
          -12.470176,
          -32.383457,
          9.311494,
          27.517988,
          -38.7178,
          12.0484495,
          3.0926633,
          -35.06868,
          -24.489626,
          26.867247,
          18.813791,
          -31.761055,
          27.524607,
          -6.4323783,
          -19.056442,
          -41.53893,
          9.103423,
          -33.29198,
          -6.3159204,
          -37.357403,
          -36.328217,
          -38.702847,
          3.3282988,
          -6.1080136,
          -39.355713,
          -6.102694,
          8.428389,
          -3.5831974,
          -40.2937,
          28.903854,
          -30.391598,
          37.577732,
          -25.227587,
          -10.064099,
          28.131617
         ],
         "yaxis": "y"
        }
       ],
       "layout": {
        "legend": {
         "tracegroupgap": 0
        },
        "margin": {
         "t": 60
        },
        "template": {
         "data": {
          "bar": [
           {
            "error_x": {
             "color": "#2a3f5f"
            },
            "error_y": {
             "color": "#2a3f5f"
            },
            "marker": {
             "line": {
              "color": "#E5ECF6",
              "width": 0.5
             },
             "pattern": {
              "fillmode": "overlay",
              "size": 10,
              "solidity": 0.2
             }
            },
            "type": "bar"
           }
          ],
          "barpolar": [
           {
            "marker": {
             "line": {
              "color": "#E5ECF6",
              "width": 0.5
             },
             "pattern": {
              "fillmode": "overlay",
              "size": 10,
              "solidity": 0.2
             }
            },
            "type": "barpolar"
           }
          ],
          "carpet": [
           {
            "aaxis": {
             "endlinecolor": "#2a3f5f",
             "gridcolor": "white",
             "linecolor": "white",
             "minorgridcolor": "white",
             "startlinecolor": "#2a3f5f"
            },
            "baxis": {
             "endlinecolor": "#2a3f5f",
             "gridcolor": "white",
             "linecolor": "white",
             "minorgridcolor": "white",
             "startlinecolor": "#2a3f5f"
            },
            "type": "carpet"
           }
          ],
          "choropleth": [
           {
            "colorbar": {
             "outlinewidth": 0,
             "ticks": ""
            },
            "type": "choropleth"
           }
          ],
          "contour": [
           {
            "colorbar": {
             "outlinewidth": 0,
             "ticks": ""
            },
            "colorscale": [
             [
              0,
              "#0d0887"
             ],
             [
              0.1111111111111111,
              "#46039f"
             ],
             [
              0.2222222222222222,
              "#7201a8"
             ],
             [
              0.3333333333333333,
              "#9c179e"
             ],
             [
              0.4444444444444444,
              "#bd3786"
             ],
             [
              0.5555555555555556,
              "#d8576b"
             ],
             [
              0.6666666666666666,
              "#ed7953"
             ],
             [
              0.7777777777777778,
              "#fb9f3a"
             ],
             [
              0.8888888888888888,
              "#fdca26"
             ],
             [
              1,
              "#f0f921"
             ]
            ],
            "type": "contour"
           }
          ],
          "contourcarpet": [
           {
            "colorbar": {
             "outlinewidth": 0,
             "ticks": ""
            },
            "type": "contourcarpet"
           }
          ],
          "heatmap": [
           {
            "colorbar": {
             "outlinewidth": 0,
             "ticks": ""
            },
            "colorscale": [
             [
              0,
              "#0d0887"
             ],
             [
              0.1111111111111111,
              "#46039f"
             ],
             [
              0.2222222222222222,
              "#7201a8"
             ],
             [
              0.3333333333333333,
              "#9c179e"
             ],
             [
              0.4444444444444444,
              "#bd3786"
             ],
             [
              0.5555555555555556,
              "#d8576b"
             ],
             [
              0.6666666666666666,
              "#ed7953"
             ],
             [
              0.7777777777777778,
              "#fb9f3a"
             ],
             [
              0.8888888888888888,
              "#fdca26"
             ],
             [
              1,
              "#f0f921"
             ]
            ],
            "type": "heatmap"
           }
          ],
          "heatmapgl": [
           {
            "colorbar": {
             "outlinewidth": 0,
             "ticks": ""
            },
            "colorscale": [
             [
              0,
              "#0d0887"
             ],
             [
              0.1111111111111111,
              "#46039f"
             ],
             [
              0.2222222222222222,
              "#7201a8"
             ],
             [
              0.3333333333333333,
              "#9c179e"
             ],
             [
              0.4444444444444444,
              "#bd3786"
             ],
             [
              0.5555555555555556,
              "#d8576b"
             ],
             [
              0.6666666666666666,
              "#ed7953"
             ],
             [
              0.7777777777777778,
              "#fb9f3a"
             ],
             [
              0.8888888888888888,
              "#fdca26"
             ],
             [
              1,
              "#f0f921"
             ]
            ],
            "type": "heatmapgl"
           }
          ],
          "histogram": [
           {
            "marker": {
             "pattern": {
              "fillmode": "overlay",
              "size": 10,
              "solidity": 0.2
             }
            },
            "type": "histogram"
           }
          ],
          "histogram2d": [
           {
            "colorbar": {
             "outlinewidth": 0,
             "ticks": ""
            },
            "colorscale": [
             [
              0,
              "#0d0887"
             ],
             [
              0.1111111111111111,
              "#46039f"
             ],
             [
              0.2222222222222222,
              "#7201a8"
             ],
             [
              0.3333333333333333,
              "#9c179e"
             ],
             [
              0.4444444444444444,
              "#bd3786"
             ],
             [
              0.5555555555555556,
              "#d8576b"
             ],
             [
              0.6666666666666666,
              "#ed7953"
             ],
             [
              0.7777777777777778,
              "#fb9f3a"
             ],
             [
              0.8888888888888888,
              "#fdca26"
             ],
             [
              1,
              "#f0f921"
             ]
            ],
            "type": "histogram2d"
           }
          ],
          "histogram2dcontour": [
           {
            "colorbar": {
             "outlinewidth": 0,
             "ticks": ""
            },
            "colorscale": [
             [
              0,
              "#0d0887"
             ],
             [
              0.1111111111111111,
              "#46039f"
             ],
             [
              0.2222222222222222,
              "#7201a8"
             ],
             [
              0.3333333333333333,
              "#9c179e"
             ],
             [
              0.4444444444444444,
              "#bd3786"
             ],
             [
              0.5555555555555556,
              "#d8576b"
             ],
             [
              0.6666666666666666,
              "#ed7953"
             ],
             [
              0.7777777777777778,
              "#fb9f3a"
             ],
             [
              0.8888888888888888,
              "#fdca26"
             ],
             [
              1,
              "#f0f921"
             ]
            ],
            "type": "histogram2dcontour"
           }
          ],
          "mesh3d": [
           {
            "colorbar": {
             "outlinewidth": 0,
             "ticks": ""
            },
            "type": "mesh3d"
           }
          ],
          "parcoords": [
           {
            "line": {
             "colorbar": {
              "outlinewidth": 0,
              "ticks": ""
             }
            },
            "type": "parcoords"
           }
          ],
          "pie": [
           {
            "automargin": true,
            "type": "pie"
           }
          ],
          "scatter": [
           {
            "fillpattern": {
             "fillmode": "overlay",
             "size": 10,
             "solidity": 0.2
            },
            "type": "scatter"
           }
          ],
          "scatter3d": [
           {
            "line": {
             "colorbar": {
              "outlinewidth": 0,
              "ticks": ""
             }
            },
            "marker": {
             "colorbar": {
              "outlinewidth": 0,
              "ticks": ""
             }
            },
            "type": "scatter3d"
           }
          ],
          "scattercarpet": [
           {
            "marker": {
             "colorbar": {
              "outlinewidth": 0,
              "ticks": ""
             }
            },
            "type": "scattercarpet"
           }
          ],
          "scattergeo": [
           {
            "marker": {
             "colorbar": {
              "outlinewidth": 0,
              "ticks": ""
             }
            },
            "type": "scattergeo"
           }
          ],
          "scattergl": [
           {
            "marker": {
             "colorbar": {
              "outlinewidth": 0,
              "ticks": ""
             }
            },
            "type": "scattergl"
           }
          ],
          "scattermapbox": [
           {
            "marker": {
             "colorbar": {
              "outlinewidth": 0,
              "ticks": ""
             }
            },
            "type": "scattermapbox"
           }
          ],
          "scatterpolar": [
           {
            "marker": {
             "colorbar": {
              "outlinewidth": 0,
              "ticks": ""
             }
            },
            "type": "scatterpolar"
           }
          ],
          "scatterpolargl": [
           {
            "marker": {
             "colorbar": {
              "outlinewidth": 0,
              "ticks": ""
             }
            },
            "type": "scatterpolargl"
           }
          ],
          "scatterternary": [
           {
            "marker": {
             "colorbar": {
              "outlinewidth": 0,
              "ticks": ""
             }
            },
            "type": "scatterternary"
           }
          ],
          "surface": [
           {
            "colorbar": {
             "outlinewidth": 0,
             "ticks": ""
            },
            "colorscale": [
             [
              0,
              "#0d0887"
             ],
             [
              0.1111111111111111,
              "#46039f"
             ],
             [
              0.2222222222222222,
              "#7201a8"
             ],
             [
              0.3333333333333333,
              "#9c179e"
             ],
             [
              0.4444444444444444,
              "#bd3786"
             ],
             [
              0.5555555555555556,
              "#d8576b"
             ],
             [
              0.6666666666666666,
              "#ed7953"
             ],
             [
              0.7777777777777778,
              "#fb9f3a"
             ],
             [
              0.8888888888888888,
              "#fdca26"
             ],
             [
              1,
              "#f0f921"
             ]
            ],
            "type": "surface"
           }
          ],
          "table": [
           {
            "cells": {
             "fill": {
              "color": "#EBF0F8"
             },
             "line": {
              "color": "white"
             }
            },
            "header": {
             "fill": {
              "color": "#C8D4E3"
             },
             "line": {
              "color": "white"
             }
            },
            "type": "table"
           }
          ]
         },
         "layout": {
          "annotationdefaults": {
           "arrowcolor": "#2a3f5f",
           "arrowhead": 0,
           "arrowwidth": 1
          },
          "autotypenumbers": "strict",
          "coloraxis": {
           "colorbar": {
            "outlinewidth": 0,
            "ticks": ""
           }
          },
          "colorscale": {
           "diverging": [
            [
             0,
             "#8e0152"
            ],
            [
             0.1,
             "#c51b7d"
            ],
            [
             0.2,
             "#de77ae"
            ],
            [
             0.3,
             "#f1b6da"
            ],
            [
             0.4,
             "#fde0ef"
            ],
            [
             0.5,
             "#f7f7f7"
            ],
            [
             0.6,
             "#e6f5d0"
            ],
            [
             0.7,
             "#b8e186"
            ],
            [
             0.8,
             "#7fbc41"
            ],
            [
             0.9,
             "#4d9221"
            ],
            [
             1,
             "#276419"
            ]
           ],
           "sequential": [
            [
             0,
             "#0d0887"
            ],
            [
             0.1111111111111111,
             "#46039f"
            ],
            [
             0.2222222222222222,
             "#7201a8"
            ],
            [
             0.3333333333333333,
             "#9c179e"
            ],
            [
             0.4444444444444444,
             "#bd3786"
            ],
            [
             0.5555555555555556,
             "#d8576b"
            ],
            [
             0.6666666666666666,
             "#ed7953"
            ],
            [
             0.7777777777777778,
             "#fb9f3a"
            ],
            [
             0.8888888888888888,
             "#fdca26"
            ],
            [
             1,
             "#f0f921"
            ]
           ],
           "sequentialminus": [
            [
             0,
             "#0d0887"
            ],
            [
             0.1111111111111111,
             "#46039f"
            ],
            [
             0.2222222222222222,
             "#7201a8"
            ],
            [
             0.3333333333333333,
             "#9c179e"
            ],
            [
             0.4444444444444444,
             "#bd3786"
            ],
            [
             0.5555555555555556,
             "#d8576b"
            ],
            [
             0.6666666666666666,
             "#ed7953"
            ],
            [
             0.7777777777777778,
             "#fb9f3a"
            ],
            [
             0.8888888888888888,
             "#fdca26"
            ],
            [
             1,
             "#f0f921"
            ]
           ]
          },
          "colorway": [
           "#636efa",
           "#EF553B",
           "#00cc96",
           "#ab63fa",
           "#FFA15A",
           "#19d3f3",
           "#FF6692",
           "#B6E880",
           "#FF97FF",
           "#FECB52"
          ],
          "font": {
           "color": "#2a3f5f"
          },
          "geo": {
           "bgcolor": "white",
           "lakecolor": "white",
           "landcolor": "#E5ECF6",
           "showlakes": true,
           "showland": true,
           "subunitcolor": "white"
          },
          "hoverlabel": {
           "align": "left"
          },
          "hovermode": "closest",
          "mapbox": {
           "style": "light"
          },
          "paper_bgcolor": "white",
          "plot_bgcolor": "#E5ECF6",
          "polar": {
           "angularaxis": {
            "gridcolor": "white",
            "linecolor": "white",
            "ticks": ""
           },
           "bgcolor": "#E5ECF6",
           "radialaxis": {
            "gridcolor": "white",
            "linecolor": "white",
            "ticks": ""
           }
          },
          "scene": {
           "xaxis": {
            "backgroundcolor": "#E5ECF6",
            "gridcolor": "white",
            "gridwidth": 2,
            "linecolor": "white",
            "showbackground": true,
            "ticks": "",
            "zerolinecolor": "white"
           },
           "yaxis": {
            "backgroundcolor": "#E5ECF6",
            "gridcolor": "white",
            "gridwidth": 2,
            "linecolor": "white",
            "showbackground": true,
            "ticks": "",
            "zerolinecolor": "white"
           },
           "zaxis": {
            "backgroundcolor": "#E5ECF6",
            "gridcolor": "white",
            "gridwidth": 2,
            "linecolor": "white",
            "showbackground": true,
            "ticks": "",
            "zerolinecolor": "white"
           }
          },
          "shapedefaults": {
           "line": {
            "color": "#2a3f5f"
           }
          },
          "ternary": {
           "aaxis": {
            "gridcolor": "white",
            "linecolor": "white",
            "ticks": ""
           },
           "baxis": {
            "gridcolor": "white",
            "linecolor": "white",
            "ticks": ""
           },
           "bgcolor": "#E5ECF6",
           "caxis": {
            "gridcolor": "white",
            "linecolor": "white",
            "ticks": ""
           }
          },
          "title": {
           "x": 0.05
          },
          "xaxis": {
           "automargin": true,
           "gridcolor": "white",
           "linecolor": "white",
           "ticks": "",
           "title": {
            "standoff": 15
           },
           "zerolinecolor": "white",
           "zerolinewidth": 2
          },
          "yaxis": {
           "automargin": true,
           "gridcolor": "white",
           "linecolor": "white",
           "ticks": "",
           "title": {
            "standoff": 15
           },
           "zerolinecolor": "white",
           "zerolinewidth": 2
          }
         }
        },
        "xaxis": {
         "anchor": "y",
         "domain": [
          0,
          1
         ],
         "title": {
          "text": "x"
         }
        },
        "yaxis": {
         "anchor": "x",
         "domain": [
          0,
          1
         ],
         "title": {
          "text": "y"
         }
        }
       }
      }
     },
     "metadata": {},
     "output_type": "display_data"
    }
   ],
   "source": [
    "# Graficar los embedddings en 2D\n",
    "import plotly.graph_objects as go\n",
    "import plotly.express as px\n",
    "\n",
    "x_vals, y_vals, labels = reduce_dimensions(w2v_model)\n",
    "\n",
    "MAX_WORDS=200\n",
    "fig = px.scatter(x=x_vals[:MAX_WORDS], y=y_vals[:MAX_WORDS], text=labels[:MAX_WORDS])\n",
    "fig.show()\n",
    "#fig.show(renderer=\"colab\") # esto para plotly en colab\n"
   ]
  },
  {
   "cell_type": "markdown",
   "metadata": {},
   "source": [
    "<img src=\"plot.png\" width=\"2000\" align=\"center\">"
   ]
  },
  {
   "cell_type": "markdown",
   "metadata": {
    "id": "yMM_SHSaZ9N-"
   },
   "source": [
    "### Conclusiones"
   ]
  },
  {
   "cell_type": "markdown",
   "metadata": {
    "id": "WivQZ3ZCZ9N_"
   },
   "source": [
    "- El modelo agrupa bastante bien las palabras por su significado en este contexto:\n",
    "- - Palabras como modelo, regresión, intervalo, confianza aparecen cerca semánticamente, y tiene sentido\n",
    "- - Hay un tema mejorable con el preprocesamiento, se ve que hay palabras que al leerlas del pdf vienen cortadas, y eso dificulta un poco."
   ]
  }
 ],
 "metadata": {
  "colab": {
   "collapsed_sections": [],
   "provenance": []
  },
  "kernelspec": {
   "display_name": "Python 3 (ipykernel)",
   "language": "python",
   "name": "python3"
  },
  "language_info": {
   "codemirror_mode": {
    "name": "ipython",
    "version": 3
   },
   "file_extension": ".py",
   "mimetype": "text/x-python",
   "name": "python",
   "nbconvert_exporter": "python",
   "pygments_lexer": "ipython3",
   "version": "3.11.2"
  }
 },
 "nbformat": 4,
 "nbformat_minor": 4
}
