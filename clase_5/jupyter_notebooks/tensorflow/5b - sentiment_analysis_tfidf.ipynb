{
 "cells": [
  {
   "cell_type": "markdown",
   "metadata": {
    "id": "kBLpTr7plguX"
   },
   "source": [
    "<img src=\"https://github.com/hernancontigiani/ceia_memorias_especializacion/raw/master/Figures/logoFIUBA.jpg\" width=\"500\" align=\"center\">\n",
    "\n",
    "\n",
    "# Procesamiento de lenguaje natural\n",
    "## Sentiment analysis con Bag of Words"
   ]
  },
  {
   "cell_type": "markdown",
   "metadata": {
    "id": "9W6nuajhlqZD"
   },
   "source": [
    "### Objetivo\n",
    "El objetivo es utilizar las críticas de películas para que el sistema determine si la evaluación es positiva o negativa (sentiment analysis como clasificador binario de texto)"
   ]
  },
  {
   "cell_type": "code",
   "execution_count": 1,
   "metadata": {
    "id": "hCpOVzJdl8_p"
   },
   "outputs": [],
   "source": [
    "import numpy as np\n",
    "import random\n",
    "import io\n",
    "import pickle\n",
    "import pandas as pd\n",
    "\n",
    "import matplotlib.pyplot as plt\n",
    "import seaborn as sns"
   ]
  },
  {
   "cell_type": "code",
   "execution_count": 2,
   "metadata": {
    "id": "oDbSydDfza5u"
   },
   "outputs": [],
   "source": [
    "from sklearn.metrics import roc_curve\n",
    "from sklearn.metrics import auc\n",
    "\n",
    "def curva_roc(model, X_test, y_test):\n",
    "    y_hat_prob = model.predict(X_test).ravel()\n",
    "\n",
    "    # Calcular la exactitud (accuracy)\n",
    "    scores = model.evaluate(X_test, y_test)\n",
    "    print(\"Accuracy:\", scores[1])\n",
    "\n",
    "    fpr, tpr, thresholds = roc_curve(y_test, y_hat_prob)\n",
    "    auc_keras = auc(fpr, tpr)\n",
    "    print('auc_keras', auc_keras)\n",
    "\n",
    "    plt.figure(1)\n",
    "    plt.plot([0, 1], [0, 1], 'k--')\n",
    "    plt.plot(fpr, tpr, label='Keras (area = {:.3f})'.format(auc_keras))\n",
    "    plt.xlabel('False positive rate')\n",
    "    plt.ylabel('True positive rate')\n",
    "    plt.title('Curva ROC test')\n",
    "    plt.legend(loc='best')\n",
    "    plt.show()"
   ]
  },
  {
   "cell_type": "markdown",
   "metadata": {
    "id": "8UPeRkrAmbF3"
   },
   "source": [
    "### Datos\n",
    "Utilizaremos como dataset críticas de películas de IMDB puntuadas deforma positiva o negativa.\\\n",
    "Referencia del dataset: [LINK](https://www.kaggle.com/lakshmi25npathi/imdb-dataset-of-50k-movie-reviews)"
   ]
  },
  {
   "cell_type": "code",
   "execution_count": 3,
   "metadata": {
    "id": "C7jLvTU3lSyL"
   },
   "outputs": [
    {
     "name": "stdout",
     "output_type": "stream",
     "text": [
      "El dataset ya se encuentra descargado\n"
     ]
    }
   ],
   "source": [
    "# Descargar la carpeta de dataset\n",
    "import os\n",
    "import gdown\n",
    "if os.access('imdb_dataset.csv', os.F_OK) is False:\n",
    "    url = 'https://drive.google.com/uc?id=1fXW-u9NVbH1yhwU1AHzPVtgGyV1c8N3g'\n",
    "    output = 'imdb_dataset.csv'\n",
    "    gdown.download(url, output, quiet=False)\n",
    "else:\n",
    "    print(\"El dataset ya se encuentra descargado\")"
   ]
  },
  {
   "cell_type": "code",
   "execution_count": 4,
   "metadata": {
    "id": "o-SV1P3dnD1J"
   },
   "outputs": [
    {
     "data": {
      "text/html": [
       "<div>\n",
       "<style scoped>\n",
       "    .dataframe tbody tr th:only-of-type {\n",
       "        vertical-align: middle;\n",
       "    }\n",
       "\n",
       "    .dataframe tbody tr th {\n",
       "        vertical-align: top;\n",
       "    }\n",
       "\n",
       "    .dataframe thead th {\n",
       "        text-align: right;\n",
       "    }\n",
       "</style>\n",
       "<table border=\"1\" class=\"dataframe\">\n",
       "  <thead>\n",
       "    <tr style=\"text-align: right;\">\n",
       "      <th></th>\n",
       "      <th>review</th>\n",
       "      <th>sentiment</th>\n",
       "    </tr>\n",
       "  </thead>\n",
       "  <tbody>\n",
       "    <tr>\n",
       "      <th>0</th>\n",
       "      <td>One of the other reviewers has mentioned that ...</td>\n",
       "      <td>positive</td>\n",
       "    </tr>\n",
       "    <tr>\n",
       "      <th>1</th>\n",
       "      <td>A wonderful little production. &lt;br /&gt;&lt;br /&gt;The...</td>\n",
       "      <td>positive</td>\n",
       "    </tr>\n",
       "    <tr>\n",
       "      <th>2</th>\n",
       "      <td>I thought this was a wonderful way to spend ti...</td>\n",
       "      <td>positive</td>\n",
       "    </tr>\n",
       "    <tr>\n",
       "      <th>3</th>\n",
       "      <td>Basically there's a family where a little boy ...</td>\n",
       "      <td>negative</td>\n",
       "    </tr>\n",
       "    <tr>\n",
       "      <th>4</th>\n",
       "      <td>Petter Mattei's \"Love in the Time of Money\" is...</td>\n",
       "      <td>positive</td>\n",
       "    </tr>\n",
       "  </tbody>\n",
       "</table>\n",
       "</div>"
      ],
      "text/plain": [
       "                                              review sentiment\n",
       "0  One of the other reviewers has mentioned that ...  positive\n",
       "1  A wonderful little production. <br /><br />The...  positive\n",
       "2  I thought this was a wonderful way to spend ti...  positive\n",
       "3  Basically there's a family where a little boy ...  negative\n",
       "4  Petter Mattei's \"Love in the Time of Money\" is...  positive"
      ]
     },
     "execution_count": 4,
     "metadata": {},
     "output_type": "execute_result"
    }
   ],
   "source": [
    "# Armar el dataset\n",
    "df = pd.read_csv('imdb_dataset.csv')\n",
    "df.head()"
   ]
  },
  {
   "cell_type": "markdown",
   "metadata": {
    "id": "q-OwSePKm-FK"
   },
   "source": [
    "### 1 - Limpieza de datos\n",
    "- En los datos se observo que en la columna \"review\" hay código HTML de salto de línea.\n",
    "- Tranformar la columna snetiment a 0 y 1\n",
    "\n"
   ]
  },
  {
   "cell_type": "code",
   "execution_count": 5,
   "metadata": {
    "id": "-hc7-AmYnPC3"
   },
   "outputs": [
    {
     "data": {
      "text/html": [
       "<div>\n",
       "<style scoped>\n",
       "    .dataframe tbody tr th:only-of-type {\n",
       "        vertical-align: middle;\n",
       "    }\n",
       "\n",
       "    .dataframe tbody tr th {\n",
       "        vertical-align: top;\n",
       "    }\n",
       "\n",
       "    .dataframe thead th {\n",
       "        text-align: right;\n",
       "    }\n",
       "</style>\n",
       "<table border=\"1\" class=\"dataframe\">\n",
       "  <thead>\n",
       "    <tr style=\"text-align: right;\">\n",
       "      <th></th>\n",
       "      <th>review</th>\n",
       "      <th>sentiment</th>\n",
       "    </tr>\n",
       "  </thead>\n",
       "  <tbody>\n",
       "    <tr>\n",
       "      <th>0</th>\n",
       "      <td>One of the other reviewers has mentioned that ...</td>\n",
       "      <td>1</td>\n",
       "    </tr>\n",
       "    <tr>\n",
       "      <th>1</th>\n",
       "      <td>A wonderful little production. The filming tec...</td>\n",
       "      <td>1</td>\n",
       "    </tr>\n",
       "    <tr>\n",
       "      <th>2</th>\n",
       "      <td>I thought this was a wonderful way to spend ti...</td>\n",
       "      <td>1</td>\n",
       "    </tr>\n",
       "    <tr>\n",
       "      <th>3</th>\n",
       "      <td>Basically there's a family where a little boy ...</td>\n",
       "      <td>0</td>\n",
       "    </tr>\n",
       "    <tr>\n",
       "      <th>4</th>\n",
       "      <td>Petter Mattei's \"Love in the Time of Money\" is...</td>\n",
       "      <td>1</td>\n",
       "    </tr>\n",
       "  </tbody>\n",
       "</table>\n",
       "</div>"
      ],
      "text/plain": [
       "                                              review  sentiment\n",
       "0  One of the other reviewers has mentioned that ...          1\n",
       "1  A wonderful little production. The filming tec...          1\n",
       "2  I thought this was a wonderful way to spend ti...          1\n",
       "3  Basically there's a family where a little boy ...          0\n",
       "4  Petter Mattei's \"Love in the Time of Money\" is...          1"
      ]
     },
     "execution_count": 5,
     "metadata": {},
     "output_type": "execute_result"
    }
   ],
   "source": [
    "# En los datos se observó código HTML de salto de línea <br />\n",
    "import re\n",
    "df_reviews = df.copy() \n",
    "df_reviews['review'] = df['review'].apply(lambda x: re.sub(\"<br />\", \"\", x))\n",
    "df_reviews['sentiment'] = df['sentiment'].apply(lambda x: 1 if x == 'positive' else 0).values\n",
    "df_reviews.head()"
   ]
  },
  {
   "cell_type": "code",
   "execution_count": 6,
   "metadata": {
    "id": "sZtvASVOn3ty"
   },
   "outputs": [
    {
     "data": {
      "text/plain": [
       "sentiment\n",
       "1    25000\n",
       "0    25000\n",
       "Name: count, dtype: int64"
      ]
     },
     "execution_count": 6,
     "metadata": {},
     "output_type": "execute_result"
    }
   ],
   "source": [
    "# Observar como está distribuido el dataset respecto a la columna Rating\n",
    "# es decir, observar que tan balanceado se encuentra respecto a cada clase\n",
    "df_reviews['sentiment'].value_counts()"
   ]
  },
  {
   "cell_type": "code",
   "execution_count": 7,
   "metadata": {
    "id": "v7QJ2poZn9b-"
   },
   "outputs": [
    {
     "data": {
      "image/png": "[encoded data removed]",
      "text/plain": [
       "<Figure size 640x480 with 1 Axes>"
      ]
     },
     "metadata": {},
     "output_type": "display_data"
    }
   ],
   "source": [
    "# Observar como está distribuido el dataset\n",
    "sns.countplot(x='sentiment', data=df_reviews)\n",
    "plt.show()"
   ]
  },
  {
   "cell_type": "markdown",
   "metadata": {
    "id": "juVSYR89x_2v"
   },
   "source": [
    "Se puede observar que el dataset está perfectamente balanceado"
   ]
  },
  {
   "cell_type": "code",
   "execution_count": 8,
   "metadata": {
    "id": "gVJ_RVi4o1h3"
   },
   "outputs": [
    {
     "data": {
      "text/plain": [
       "(50000,)"
      ]
     },
     "execution_count": 8,
     "metadata": {},
     "output_type": "execute_result"
    }
   ],
   "source": [
    "# Tomar la columna de las review y almacenarlo todo en un vector numpy de reviews\n",
    "text_sequences = df_reviews['review'].values\n",
    "text_sequences.shape"
   ]
  },
  {
   "cell_type": "code",
   "execution_count": 9,
   "metadata": {
    "id": "4nT5Un_co65Q"
   },
   "outputs": [
    {
     "data": {
      "text/plain": [
       "50000"
      ]
     },
     "execution_count": 9,
     "metadata": {},
     "output_type": "execute_result"
    }
   ],
   "source": [
    "# Cuantas reviews (rows) hay para evaluar?\n",
    "len(text_sequences)"
   ]
  },
  {
   "cell_type": "code",
   "execution_count": 10,
   "metadata": {
    "id": "2F8hqqw05WSJ"
   },
   "outputs": [],
   "source": [
    "# - Por defecto TfidfVectorizer elimina los signos de puntuacion y transforma\n",
    "# todas las palabras a lowercase\n",
    "# - max_features --> limita la máxima dimensión del oneHotEncoding (max vocab_size)\n",
    "# - stop_words --> quitamos aquellas palabras que para el idioma no se consideran\n",
    "# relevantes (como los artículos, pronombres, preposiciones, adverbios, etc)\n",
    "# - Referencia:\n",
    "# https://scikit-learn.org/stable/modules/generated/sklearn.feature_extraction.text.TfidfVectorizer.html\n",
    "from sklearn.feature_extraction.text import TfidfVectorizer\n",
    "vectorizer = TfidfVectorizer(max_features=2000, stop_words='english')\n",
    "X = vectorizer.fit_transform(text_sequences).toarray()"
   ]
  },
  {
   "cell_type": "code",
   "execution_count": 11,
   "metadata": {
    "id": "Zp5bvozW5p3o"
   },
   "outputs": [
    {
     "data": {
      "text/plain": [
       "(50000, 2000)"
      ]
     },
     "execution_count": 11,
     "metadata": {},
     "output_type": "execute_result"
    }
   ],
   "source": [
    "# Los datos de entrada (X) son un vector de oneHotEncoding del tamaño\n",
    "# del vocabulario y de la cantidad de filas\n",
    "X.shape"
   ]
  },
  {
   "cell_type": "code",
   "execution_count": 12,
   "metadata": {
    "id": "HP5uN9tqpHu_"
   },
   "outputs": [],
   "source": [
    "# Un vector de 2000 columnas es demasiado grande para entrenar un modelo clásico\n",
    "# de deep learning (DNN)\n",
    "# Se utiliza PCA para reducir la dimensionalidad\n",
    "from sklearn.decomposition import PCA\n",
    "X_pca = PCA(n_components=50).fit_transform(X)"
   ]
  },
  {
   "cell_type": "code",
   "execution_count": 13,
   "metadata": {
    "id": "xGsHjJMD639r"
   },
   "outputs": [
    {
     "data": {
      "text/plain": [
       "(50000, 50)"
      ]
     },
     "execution_count": 13,
     "metadata": {},
     "output_type": "execute_result"
    }
   ],
   "source": [
    "X_pca.shape"
   ]
  },
  {
   "cell_type": "code",
   "execution_count": 14,
   "metadata": {
    "id": "llVM-tzQo9_F"
   },
   "outputs": [
    {
     "name": "stdout",
     "output_type": "stream",
     "text": [
      "(50000,)\n"
     ]
    }
   ],
   "source": [
    "# Tomar la columna rating y alcemacenarla en una variable \"y\"\n",
    "# Su shape debe ser equivalente la cantidad de rows del corpus\n",
    "y = df_reviews['sentiment'].values\n",
    "print(y.shape)"
   ]
  },
  {
   "cell_type": "code",
   "execution_count": 15,
   "metadata": {
    "id": "Rmz9A6n4uK4V"
   },
   "outputs": [],
   "source": [
    "# Dividir los datos en train y test\n",
    "from sklearn.model_selection import train_test_split\n",
    "X_train, X_test, y_train, y_test = train_test_split(X_pca, y, test_size=0.2, random_state=42)"
   ]
  },
  {
   "cell_type": "code",
   "execution_count": 16,
   "metadata": {
    "id": "EcDPlhEouQ9E"
   },
   "outputs": [
    {
     "name": "stdout",
     "output_type": "stream",
     "text": [
      "in_shape 50 , out_shape 1\n"
     ]
    }
   ],
   "source": [
    "# Determinar la dimensiones de entrada y salida\n",
    "in_shape = X_train.shape[1] # max input sentence len\n",
    "out_shape = 1 # binary classification\n",
    "print(\"in_shape\", in_shape, \", out_shape\", out_shape)"
   ]
  },
  {
   "cell_type": "markdown",
   "metadata": {
    "id": "NpbQHExL6OTu"
   },
   "source": [
    "### 2 - Entrenar el modelo con DNN con TFIDF"
   ]
  },
  {
   "cell_type": "code",
   "execution_count": 17,
   "metadata": {
    "id": "NUkuWBsM6cx3"
   },
   "outputs": [
    {
     "name": "stdout",
     "output_type": "stream",
     "text": [
      "Model: \"sequential\"\n",
      "_________________________________________________________________\n",
      " Layer (type)                Output Shape              Param #   \n",
      "=================================================================\n",
      " dense (Dense)               (None, 128)               6528      \n",
      "                                                                 \n",
      " dropout (Dropout)           (None, 128)               0         \n",
      "                                                                 \n",
      " dense_1 (Dense)             (None, 64)                8256      \n",
      "                                                                 \n",
      " dropout_1 (Dropout)         (None, 64)                0         \n",
      "                                                                 \n",
      " dense_2 (Dense)             (None, 32)                2080      \n",
      "                                                                 \n",
      " dropout_2 (Dropout)         (None, 32)                0         \n",
      "                                                                 \n",
      " dense_3 (Dense)             (None, 1)                 33        \n",
      "                                                                 \n",
      "=================================================================\n",
      "Total params: 16897 (66.00 KB)\n",
      "Trainable params: 16897 (66.00 KB)\n",
      "Non-trainable params: 0 (0.00 Byte)\n",
      "_________________________________________________________________\n"
     ]
    }
   ],
   "source": [
    "from keras.models import Sequential\n",
    "from keras.layers import Dense, Dropout\n",
    "\n",
    "# Armar un modelo de clasificacion binaria con DNN\n",
    "model = Sequential()\n",
    "model.add(Dense(units=128, activation='relu', input_shape=(in_shape,)))\n",
    "model.add(Dropout(rate=0.3))\n",
    "model.add(Dense(units=64, activation='relu'))\n",
    "model.add(Dropout(rate=0.5))\n",
    "model.add(Dense(units=32, activation='relu'))\n",
    "model.add(Dropout(rate=0.5))\n",
    "model.add(Dense(units=out_shape, activation='sigmoid'))\n",
    "\n",
    "model.compile(optimizer=\"Adam\",\n",
    "              loss='binary_crossentropy',\n",
    "              metrics=['accuracy'])\n",
    "\n",
    "model.summary()"
   ]
  },
  {
   "cell_type": "code",
   "execution_count": 18,
   "metadata": {
    "id": "IiHo33J8opab"
   },
   "outputs": [
    {
     "name": "stdout",
     "output_type": "stream",
     "text": [
      "You must install pydot (`pip install pydot`) and install graphviz (see instructions at https://graphviz.gitlab.io/download/) for plot_model to work.\n"
     ]
    }
   ],
   "source": [
    "from keras.utils import plot_model\n",
    "plot_model(model, to_file='model_plot.png', show_shapes=True, show_layer_names=True)"
   ]
  },
  {
   "cell_type": "code",
   "execution_count": 19,
   "metadata": {
    "id": "_oTSAIjeo73-"
   },
   "outputs": [
    {
     "name": "stdout",
     "output_type": "stream",
     "text": [
      "Epoch 1/20\n",
      "1000/1000 [==============================] - 4s 2ms/step - loss: 0.4367 - accuracy: 0.8029 - val_loss: 0.3556 - val_accuracy: 0.8424\n",
      "Epoch 2/20\n",
      "1000/1000 [==============================] - 2s 2ms/step - loss: 0.3772 - accuracy: 0.8394 - val_loss: 0.3543 - val_accuracy: 0.8468\n",
      "Epoch 3/20\n",
      "1000/1000 [==============================] - 2s 2ms/step - loss: 0.3696 - accuracy: 0.8432 - val_loss: 0.3483 - val_accuracy: 0.8490\n",
      "Epoch 4/20\n",
      "1000/1000 [==============================] - 2s 2ms/step - loss: 0.3642 - accuracy: 0.8470 - val_loss: 0.3472 - val_accuracy: 0.8470\n",
      "Epoch 5/20\n",
      "1000/1000 [==============================] - 2s 2ms/step - loss: 0.3558 - accuracy: 0.8485 - val_loss: 0.3437 - val_accuracy: 0.8512\n",
      "Epoch 6/20\n",
      "1000/1000 [==============================] - 2s 2ms/step - loss: 0.3550 - accuracy: 0.8492 - val_loss: 0.3520 - val_accuracy: 0.8440\n",
      "Epoch 7/20\n",
      "1000/1000 [==============================] - 2s 2ms/step - loss: 0.3505 - accuracy: 0.8517 - val_loss: 0.3421 - val_accuracy: 0.8510\n",
      "Epoch 8/20\n",
      "1000/1000 [==============================] - 2s 2ms/step - loss: 0.3464 - accuracy: 0.8553 - val_loss: 0.3453 - val_accuracy: 0.8509\n",
      "Epoch 9/20\n",
      "1000/1000 [==============================] - 2s 2ms/step - loss: 0.3456 - accuracy: 0.8536 - val_loss: 0.3428 - val_accuracy: 0.8520\n",
      "Epoch 10/20\n",
      "1000/1000 [==============================] - 2s 2ms/step - loss: 0.3451 - accuracy: 0.8548 - val_loss: 0.3490 - val_accuracy: 0.8495\n",
      "Epoch 11/20\n",
      "1000/1000 [==============================] - 2s 2ms/step - loss: 0.3419 - accuracy: 0.8555 - val_loss: 0.3464 - val_accuracy: 0.8472\n",
      "Epoch 12/20\n",
      "1000/1000 [==============================] - 2s 2ms/step - loss: 0.3384 - accuracy: 0.8539 - val_loss: 0.3466 - val_accuracy: 0.8499\n",
      "Epoch 13/20\n",
      "1000/1000 [==============================] - 2s 2ms/step - loss: 0.3375 - accuracy: 0.8566 - val_loss: 0.3481 - val_accuracy: 0.8476\n",
      "Epoch 14/20\n",
      "1000/1000 [==============================] - 2s 2ms/step - loss: 0.3359 - accuracy: 0.8578 - val_loss: 0.3470 - val_accuracy: 0.8491\n",
      "Epoch 15/20\n",
      "1000/1000 [==============================] - 2s 2ms/step - loss: 0.3354 - accuracy: 0.8580 - val_loss: 0.3497 - val_accuracy: 0.8476\n",
      "Epoch 16/20\n",
      "1000/1000 [==============================] - 2s 2ms/step - loss: 0.3307 - accuracy: 0.8592 - val_loss: 0.3510 - val_accuracy: 0.8472\n",
      "Epoch 17/20\n",
      "1000/1000 [==============================] - 2s 2ms/step - loss: 0.3303 - accuracy: 0.8600 - val_loss: 0.3545 - val_accuracy: 0.8455\n",
      "Epoch 18/20\n",
      "1000/1000 [==============================] - 2s 2ms/step - loss: 0.3270 - accuracy: 0.8608 - val_loss: 0.3528 - val_accuracy: 0.8494\n",
      "Epoch 19/20\n",
      "1000/1000 [==============================] - 2s 2ms/step - loss: 0.3263 - accuracy: 0.8614 - val_loss: 0.3529 - val_accuracy: 0.8484\n",
      "Epoch 20/20\n",
      "1000/1000 [==============================] - 2s 2ms/step - loss: 0.3221 - accuracy: 0.8648 - val_loss: 0.3516 - val_accuracy: 0.8491\n"
     ]
    }
   ],
   "source": [
    "hist = model.fit(X_train, y_train, epochs=20, validation_split=0.2)"
   ]
  },
  {
   "cell_type": "code",
   "execution_count": 20,
   "metadata": {
    "id": "Y-cjIatVpPqW"
   },
   "outputs": [
    {
     "data": {
      "image/png": "[encoded data removed]",
      "text/plain": [
       "<Figure size 640x480 with 1 Axes>"
      ]
     },
     "metadata": {},
     "output_type": "display_data"
    }
   ],
   "source": [
    "import matplotlib.pyplot as plt\n",
    "import seaborn as sns\n",
    "epoch_count = range(1, len(hist.history['accuracy']) + 1)\n",
    "sns.lineplot(x=epoch_count,  y=hist.history['accuracy'], label='train')\n",
    "sns.lineplot(x=epoch_count,  y=hist.history['val_accuracy'], label='valid')\n",
    "plt.show()"
   ]
  },
  {
   "cell_type": "code",
   "execution_count": 21,
   "metadata": {
    "id": "jx1tLx23pbRi"
   },
   "outputs": [
    {
     "name": "stdout",
     "output_type": "stream",
     "text": [
      "313/313 [==============================] - 1s 1ms/step - loss: 0.3448 - accuracy: 0.8504\n"
     ]
    },
    {
     "data": {
      "text/plain": [
       "[0.3447619676589966, 0.8503999710083008]"
      ]
     },
     "execution_count": 21,
     "metadata": {},
     "output_type": "execute_result"
    }
   ],
   "source": [
    "model.evaluate(X_test, y_test)"
   ]
  },
  {
   "cell_type": "code",
   "execution_count": 22,
   "metadata": {
    "id": "Yr78NmybzPMP"
   },
   "outputs": [
    {
     "name": "stdout",
     "output_type": "stream",
     "text": [
      "313/313 [==============================] - 0s 1ms/step\n",
      "313/313 [==============================] - 0s 1ms/step - loss: 0.3448 - accuracy: 0.8504\n",
      "Accuracy: 0.8503999710083008\n",
      "auc_keras 0.9274049833191853\n"
     ]
    },
    {
     "data": {
      "image/png": "[encoded data removed]",
      "text/plain": [
       "<Figure size 640x480 with 1 Axes>"
      ]
     },
     "metadata": {},
     "output_type": "display_data"
    }
   ],
   "source": [
    "# Como este modelo es binario podemos calcular la curva ROC\n",
    "curva_roc(model, X_test, y_test)"
   ]
  },
  {
   "cell_type": "markdown",
   "metadata": {
    "id": "fGDesEf7sNrP"
   },
   "source": [
    "### 3 - Conclusión\n",
    "El modelo con \"TFIDF\" resultó ser muy fácil de armar, barato de entrenar (liviano) y obtuvo una muy buena performance.\\"
   ]
  }
 ],
 "metadata": {
  "colab": {
   "provenance": []
  },
  "kernelspec": {
   "display_name": "Python 3 (ipykernel)",
   "language": "python",
   "name": "python3"
  },
  "language_info": {
   "codemirror_mode": {
    "name": "ipython",
    "version": 3
   },
   "file_extension": ".py",
   "mimetype": "text/x-python",
   "name": "python",
   "nbconvert_exporter": "python",
   "pygments_lexer": "ipython3",
   "version": "3.11.2"
  },
  "vscode": {
   "interpreter": {
    "hash": "916dbcbb3f70747c44a77c7bcd40155683ae19c65e1c03b4aa3499c5328201f1"
   }
  }
 },
 "nbformat": 4,
 "nbformat_minor": 4
}
