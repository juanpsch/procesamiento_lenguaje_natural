{
  "nbformat": 4,
  "nbformat_minor": 0,
  "metadata": {
    "colab": {
      "name": "Copia de c6.sentimientos.ipynb",
      "provenance": [],
      "collapsed_sections": [],
      "toc_visible": true
    },
    "kernelspec": {
      "name": "python3",
      "display_name": "Python 3"
    },
    "accelerator": "GPU",
    "widgets": {
      "application/vnd.jupyter.widget-state+json": {
        "995b9a113f6b40ac8cf3233fb132c949": {
          "model_module": "@jupyter-widgets/controls",
          "model_name": "HBoxModel",
          "state": {
            "_view_name": "HBoxView",
            "_dom_classes": [],
            "_model_name": "HBoxModel",
            "_view_module": "@jupyter-widgets/controls",
            "_model_module_version": "1.5.0",
            "_view_count": null,
            "_view_module_version": "1.5.0",
            "box_style": "",
            "layout": "IPY_MODEL_0e99e5a51a4348419610aadde5c13c2c",
            "_model_module": "@jupyter-widgets/controls",
            "children": [
              "IPY_MODEL_fbbb4c7c247f4c078de91ab9f1ce3ca9",
              "IPY_MODEL_eb332e7b1f974290bb2b0ea4971309d3"
            ]
          }
        },
        "0e99e5a51a4348419610aadde5c13c2c": {
          "model_module": "@jupyter-widgets/base",
          "model_name": "LayoutModel",
          "state": {
            "_view_name": "LayoutView",
            "grid_template_rows": null,
            "right": null,
            "justify_content": null,
            "_view_module": "@jupyter-widgets/base",
            "overflow": null,
            "_model_module_version": "1.2.0",
            "_view_count": null,
            "flex_flow": null,
            "width": null,
            "min_width": null,
            "border": null,
            "align_items": null,
            "bottom": null,
            "_model_module": "@jupyter-widgets/base",
            "top": null,
            "grid_column": null,
            "overflow_y": null,
            "overflow_x": null,
            "grid_auto_flow": null,
            "grid_area": null,
            "grid_template_columns": null,
            "flex": null,
            "_model_name": "LayoutModel",
            "justify_items": null,
            "grid_row": null,
            "max_height": null,
            "align_content": null,
            "visibility": null,
            "align_self": null,
            "height": null,
            "min_height": null,
            "padding": null,
            "grid_auto_rows": null,
            "grid_gap": null,
            "max_width": null,
            "order": null,
            "_view_module_version": "1.2.0",
            "grid_template_areas": null,
            "object_position": null,
            "object_fit": null,
            "grid_auto_columns": null,
            "margin": null,
            "display": null,
            "left": null
          }
        },
        "fbbb4c7c247f4c078de91ab9f1ce3ca9": {
          "model_module": "@jupyter-widgets/controls",
          "model_name": "FloatProgressModel",
          "state": {
            "_view_name": "ProgressView",
            "style": "IPY_MODEL_2dfcacb9192d450da79ba1ea769279b5",
            "_dom_classes": [],
            "description": "Downloading: 100%",
            "_model_name": "FloatProgressModel",
            "bar_style": "success",
            "max": 433,
            "_view_module": "@jupyter-widgets/controls",
            "_model_module_version": "1.5.0",
            "value": 433,
            "_view_count": null,
            "_view_module_version": "1.5.0",
            "orientation": "horizontal",
            "min": 0,
            "description_tooltip": null,
            "_model_module": "@jupyter-widgets/controls",
            "layout": "IPY_MODEL_bb48887f18ee49b0945c6fccb2dfb5a0"
          }
        },
        "eb332e7b1f974290bb2b0ea4971309d3": {
          "model_module": "@jupyter-widgets/controls",
          "model_name": "HTMLModel",
          "state": {
            "_view_name": "HTMLView",
            "style": "IPY_MODEL_618719fb036b4656b386bcc0ab66c87a",
            "_dom_classes": [],
            "description": "",
            "_model_name": "HTMLModel",
            "placeholder": "​",
            "_view_module": "@jupyter-widgets/controls",
            "_model_module_version": "1.5.0",
            "value": " 433/433 [00:37&lt;00:00, 11.5B/s]",
            "_view_count": null,
            "_view_module_version": "1.5.0",
            "description_tooltip": null,
            "_model_module": "@jupyter-widgets/controls",
            "layout": "IPY_MODEL_717ac62e4c2548bb83a21e96d24e3ce3"
          }
        },
        "2dfcacb9192d450da79ba1ea769279b5": {
          "model_module": "@jupyter-widgets/controls",
          "model_name": "ProgressStyleModel",
          "state": {
            "_view_name": "StyleView",
            "_model_name": "ProgressStyleModel",
            "description_width": "initial",
            "_view_module": "@jupyter-widgets/base",
            "_model_module_version": "1.5.0",
            "_view_count": null,
            "_view_module_version": "1.2.0",
            "bar_color": null,
            "_model_module": "@jupyter-widgets/controls"
          }
        },
        "bb48887f18ee49b0945c6fccb2dfb5a0": {
          "model_module": "@jupyter-widgets/base",
          "model_name": "LayoutModel",
          "state": {
            "_view_name": "LayoutView",
            "grid_template_rows": null,
            "right": null,
            "justify_content": null,
            "_view_module": "@jupyter-widgets/base",
            "overflow": null,
            "_model_module_version": "1.2.0",
            "_view_count": null,
            "flex_flow": null,
            "width": null,
            "min_width": null,
            "border": null,
            "align_items": null,
            "bottom": null,
            "_model_module": "@jupyter-widgets/base",
            "top": null,
            "grid_column": null,
            "overflow_y": null,
            "overflow_x": null,
            "grid_auto_flow": null,
            "grid_area": null,
            "grid_template_columns": null,
            "flex": null,
            "_model_name": "LayoutModel",
            "justify_items": null,
            "grid_row": null,
            "max_height": null,
            "align_content": null,
            "visibility": null,
            "align_self": null,
            "height": null,
            "min_height": null,
            "padding": null,
            "grid_auto_rows": null,
            "grid_gap": null,
            "max_width": null,
            "order": null,
            "_view_module_version": "1.2.0",
            "grid_template_areas": null,
            "object_position": null,
            "object_fit": null,
            "grid_auto_columns": null,
            "margin": null,
            "display": null,
            "left": null
          }
        },
        "618719fb036b4656b386bcc0ab66c87a": {
          "model_module": "@jupyter-widgets/controls",
          "model_name": "DescriptionStyleModel",
          "state": {
            "_view_name": "StyleView",
            "_model_name": "DescriptionStyleModel",
            "description_width": "",
            "_view_module": "@jupyter-widgets/base",
            "_model_module_version": "1.5.0",
            "_view_count": null,
            "_view_module_version": "1.2.0",
            "_model_module": "@jupyter-widgets/controls"
          }
        },
        "717ac62e4c2548bb83a21e96d24e3ce3": {
          "model_module": "@jupyter-widgets/base",
          "model_name": "LayoutModel",
          "state": {
            "_view_name": "LayoutView",
            "grid_template_rows": null,
            "right": null,
            "justify_content": null,
            "_view_module": "@jupyter-widgets/base",
            "overflow": null,
            "_model_module_version": "1.2.0",
            "_view_count": null,
            "flex_flow": null,
            "width": null,
            "min_width": null,
            "border": null,
            "align_items": null,
            "bottom": null,
            "_model_module": "@jupyter-widgets/base",
            "top": null,
            "grid_column": null,
            "overflow_y": null,
            "overflow_x": null,
            "grid_auto_flow": null,
            "grid_area": null,
            "grid_template_columns": null,
            "flex": null,
            "_model_name": "LayoutModel",
            "justify_items": null,
            "grid_row": null,
            "max_height": null,
            "align_content": null,
            "visibility": null,
            "align_self": null,
            "height": null,
            "min_height": null,
            "padding": null,
            "grid_auto_rows": null,
            "grid_gap": null,
            "max_width": null,
            "order": null,
            "_view_module_version": "1.2.0",
            "grid_template_areas": null,
            "object_position": null,
            "object_fit": null,
            "grid_auto_columns": null,
            "margin": null,
            "display": null,
            "left": null
          }
        },
        "110f1225b6c14908985298c0c5b95925": {
          "model_module": "@jupyter-widgets/controls",
          "model_name": "HBoxModel",
          "state": {
            "_view_name": "HBoxView",
            "_dom_classes": [],
            "_model_name": "HBoxModel",
            "_view_module": "@jupyter-widgets/controls",
            "_model_module_version": "1.5.0",
            "_view_count": null,
            "_view_module_version": "1.5.0",
            "box_style": "",
            "layout": "IPY_MODEL_7a3ff25bab554a0bb274944bb9acdf4f",
            "_model_module": "@jupyter-widgets/controls",
            "children": [
              "IPY_MODEL_1542e5acb9d94f59b509558267b51906",
              "IPY_MODEL_e11d5fe8fee44443b3f39d7886e50b3c"
            ]
          }
        },
        "7a3ff25bab554a0bb274944bb9acdf4f": {
          "model_module": "@jupyter-widgets/base",
          "model_name": "LayoutModel",
          "state": {
            "_view_name": "LayoutView",
            "grid_template_rows": null,
            "right": null,
            "justify_content": null,
            "_view_module": "@jupyter-widgets/base",
            "overflow": null,
            "_model_module_version": "1.2.0",
            "_view_count": null,
            "flex_flow": null,
            "width": null,
            "min_width": null,
            "border": null,
            "align_items": null,
            "bottom": null,
            "_model_module": "@jupyter-widgets/base",
            "top": null,
            "grid_column": null,
            "overflow_y": null,
            "overflow_x": null,
            "grid_auto_flow": null,
            "grid_area": null,
            "grid_template_columns": null,
            "flex": null,
            "_model_name": "LayoutModel",
            "justify_items": null,
            "grid_row": null,
            "max_height": null,
            "align_content": null,
            "visibility": null,
            "align_self": null,
            "height": null,
            "min_height": null,
            "padding": null,
            "grid_auto_rows": null,
            "grid_gap": null,
            "max_width": null,
            "order": null,
            "_view_module_version": "1.2.0",
            "grid_template_areas": null,
            "object_position": null,
            "object_fit": null,
            "grid_auto_columns": null,
            "margin": null,
            "display": null,
            "left": null
          }
        },
        "1542e5acb9d94f59b509558267b51906": {
          "model_module": "@jupyter-widgets/controls",
          "model_name": "FloatProgressModel",
          "state": {
            "_view_name": "ProgressView",
            "style": "IPY_MODEL_c9e5017441c846268632d48b70c6456c",
            "_dom_classes": [],
            "description": "Downloading: 100%",
            "_model_name": "FloatProgressModel",
            "bar_style": "success",
            "max": 536063208,
            "_view_module": "@jupyter-widgets/controls",
            "_model_module_version": "1.5.0",
            "value": 536063208,
            "_view_count": null,
            "_view_module_version": "1.5.0",
            "orientation": "horizontal",
            "min": 0,
            "description_tooltip": null,
            "_model_module": "@jupyter-widgets/controls",
            "layout": "IPY_MODEL_58d0f23c22be45c7b17010b773010c46"
          }
        },
        "e11d5fe8fee44443b3f39d7886e50b3c": {
          "model_module": "@jupyter-widgets/controls",
          "model_name": "HTMLModel",
          "state": {
            "_view_name": "HTMLView",
            "style": "IPY_MODEL_3db1cff74b5b46f6b6ce5da5d93798b5",
            "_dom_classes": [],
            "description": "",
            "_model_name": "HTMLModel",
            "placeholder": "​",
            "_view_module": "@jupyter-widgets/controls",
            "_model_module_version": "1.5.0",
            "value": " 536M/536M [00:31&lt;00:00, 17.0MB/s]",
            "_view_count": null,
            "_view_module_version": "1.5.0",
            "description_tooltip": null,
            "_model_module": "@jupyter-widgets/controls",
            "layout": "IPY_MODEL_4e100771679d47cda0fd835d4a170700"
          }
        },
        "c9e5017441c846268632d48b70c6456c": {
          "model_module": "@jupyter-widgets/controls",
          "model_name": "ProgressStyleModel",
          "state": {
            "_view_name": "StyleView",
            "_model_name": "ProgressStyleModel",
            "description_width": "initial",
            "_view_module": "@jupyter-widgets/base",
            "_model_module_version": "1.5.0",
            "_view_count": null,
            "_view_module_version": "1.2.0",
            "bar_color": null,
            "_model_module": "@jupyter-widgets/controls"
          }
        },
        "58d0f23c22be45c7b17010b773010c46": {
          "model_module": "@jupyter-widgets/base",
          "model_name": "LayoutModel",
          "state": {
            "_view_name": "LayoutView",
            "grid_template_rows": null,
            "right": null,
            "justify_content": null,
            "_view_module": "@jupyter-widgets/base",
            "overflow": null,
            "_model_module_version": "1.2.0",
            "_view_count": null,
            "flex_flow": null,
            "width": null,
            "min_width": null,
            "border": null,
            "align_items": null,
            "bottom": null,
            "_model_module": "@jupyter-widgets/base",
            "top": null,
            "grid_column": null,
            "overflow_y": null,
            "overflow_x": null,
            "grid_auto_flow": null,
            "grid_area": null,
            "grid_template_columns": null,
            "flex": null,
            "_model_name": "LayoutModel",
            "justify_items": null,
            "grid_row": null,
            "max_height": null,
            "align_content": null,
            "visibility": null,
            "align_self": null,
            "height": null,
            "min_height": null,
            "padding": null,
            "grid_auto_rows": null,
            "grid_gap": null,
            "max_width": null,
            "order": null,
            "_view_module_version": "1.2.0",
            "grid_template_areas": null,
            "object_position": null,
            "object_fit": null,
            "grid_auto_columns": null,
            "margin": null,
            "display": null,
            "left": null
          }
        },
        "3db1cff74b5b46f6b6ce5da5d93798b5": {
          "model_module": "@jupyter-widgets/controls",
          "model_name": "DescriptionStyleModel",
          "state": {
            "_view_name": "StyleView",
            "_model_name": "DescriptionStyleModel",
            "description_width": "",
            "_view_module": "@jupyter-widgets/base",
            "_model_module_version": "1.5.0",
            "_view_count": null,
            "_view_module_version": "1.2.0",
            "_model_module": "@jupyter-widgets/controls"
          }
        },
        "4e100771679d47cda0fd835d4a170700": {
          "model_module": "@jupyter-widgets/base",
          "model_name": "LayoutModel",
          "state": {
            "_view_name": "LayoutView",
            "grid_template_rows": null,
            "right": null,
            "justify_content": null,
            "_view_module": "@jupyter-widgets/base",
            "overflow": null,
            "_model_module_version": "1.2.0",
            "_view_count": null,
            "flex_flow": null,
            "width": null,
            "min_width": null,
            "border": null,
            "align_items": null,
            "bottom": null,
            "_model_module": "@jupyter-widgets/base",
            "top": null,
            "grid_column": null,
            "overflow_y": null,
            "overflow_x": null,
            "grid_auto_flow": null,
            "grid_area": null,
            "grid_template_columns": null,
            "flex": null,
            "_model_name": "LayoutModel",
            "justify_items": null,
            "grid_row": null,
            "max_height": null,
            "align_content": null,
            "visibility": null,
            "align_self": null,
            "height": null,
            "min_height": null,
            "padding": null,
            "grid_auto_rows": null,
            "grid_gap": null,
            "max_width": null,
            "order": null,
            "_view_module_version": "1.2.0",
            "grid_template_areas": null,
            "object_position": null,
            "object_fit": null,
            "grid_auto_columns": null,
            "margin": null,
            "display": null,
            "left": null
          }
        },
        "26a59f2a08eb442eb3865d8dc5f5de5f": {
          "model_module": "@jupyter-widgets/controls",
          "model_name": "HBoxModel",
          "state": {
            "_view_name": "HBoxView",
            "_dom_classes": [],
            "_model_name": "HBoxModel",
            "_view_module": "@jupyter-widgets/controls",
            "_model_module_version": "1.5.0",
            "_view_count": null,
            "_view_module_version": "1.5.0",
            "box_style": "",
            "layout": "IPY_MODEL_0cf5b6c36ecc4c898233d27d250c7014",
            "_model_module": "@jupyter-widgets/controls",
            "children": [
              "IPY_MODEL_64b82af7da7840b9b2ef369ae974120b",
              "IPY_MODEL_8f05592cd0ef404b9e24a80531c83524"
            ]
          }
        },
        "0cf5b6c36ecc4c898233d27d250c7014": {
          "model_module": "@jupyter-widgets/base",
          "model_name": "LayoutModel",
          "state": {
            "_view_name": "LayoutView",
            "grid_template_rows": null,
            "right": null,
            "justify_content": null,
            "_view_module": "@jupyter-widgets/base",
            "overflow": null,
            "_model_module_version": "1.2.0",
            "_view_count": null,
            "flex_flow": null,
            "width": null,
            "min_width": null,
            "border": null,
            "align_items": null,
            "bottom": null,
            "_model_module": "@jupyter-widgets/base",
            "top": null,
            "grid_column": null,
            "overflow_y": null,
            "overflow_x": null,
            "grid_auto_flow": null,
            "grid_area": null,
            "grid_template_columns": null,
            "flex": null,
            "_model_name": "LayoutModel",
            "justify_items": null,
            "grid_row": null,
            "max_height": null,
            "align_content": null,
            "visibility": null,
            "align_self": null,
            "height": null,
            "min_height": null,
            "padding": null,
            "grid_auto_rows": null,
            "grid_gap": null,
            "max_width": null,
            "order": null,
            "_view_module_version": "1.2.0",
            "grid_template_areas": null,
            "object_position": null,
            "object_fit": null,
            "grid_auto_columns": null,
            "margin": null,
            "display": null,
            "left": null
          }
        },
        "64b82af7da7840b9b2ef369ae974120b": {
          "model_module": "@jupyter-widgets/controls",
          "model_name": "FloatProgressModel",
          "state": {
            "_view_name": "ProgressView",
            "style": "IPY_MODEL_279c4db8935649ac94dcc39c9f36bd13",
            "_dom_classes": [],
            "description": "Downloading: 100%",
            "_model_name": "FloatProgressModel",
            "bar_style": "success",
            "max": 231508,
            "_view_module": "@jupyter-widgets/controls",
            "_model_module_version": "1.5.0",
            "value": 231508,
            "_view_count": null,
            "_view_module_version": "1.5.0",
            "orientation": "horizontal",
            "min": 0,
            "description_tooltip": null,
            "_model_module": "@jupyter-widgets/controls",
            "layout": "IPY_MODEL_934f308896154c91bb465987199e4087"
          }
        },
        "8f05592cd0ef404b9e24a80531c83524": {
          "model_module": "@jupyter-widgets/controls",
          "model_name": "HTMLModel",
          "state": {
            "_view_name": "HTMLView",
            "style": "IPY_MODEL_73a2a3a6b47545f18c0192c4449bf666",
            "_dom_classes": [],
            "description": "",
            "_model_name": "HTMLModel",
            "placeholder": "​",
            "_view_module": "@jupyter-widgets/controls",
            "_model_module_version": "1.5.0",
            "value": " 232k/232k [01:14&lt;00:00, 3.10kB/s]",
            "_view_count": null,
            "_view_module_version": "1.5.0",
            "description_tooltip": null,
            "_model_module": "@jupyter-widgets/controls",
            "layout": "IPY_MODEL_c4546fe8206c4111bbd1c72c44714490"
          }
        },
        "279c4db8935649ac94dcc39c9f36bd13": {
          "model_module": "@jupyter-widgets/controls",
          "model_name": "ProgressStyleModel",
          "state": {
            "_view_name": "StyleView",
            "_model_name": "ProgressStyleModel",
            "description_width": "initial",
            "_view_module": "@jupyter-widgets/base",
            "_model_module_version": "1.5.0",
            "_view_count": null,
            "_view_module_version": "1.2.0",
            "bar_color": null,
            "_model_module": "@jupyter-widgets/controls"
          }
        },
        "934f308896154c91bb465987199e4087": {
          "model_module": "@jupyter-widgets/base",
          "model_name": "LayoutModel",
          "state": {
            "_view_name": "LayoutView",
            "grid_template_rows": null,
            "right": null,
            "justify_content": null,
            "_view_module": "@jupyter-widgets/base",
            "overflow": null,
            "_model_module_version": "1.2.0",
            "_view_count": null,
            "flex_flow": null,
            "width": null,
            "min_width": null,
            "border": null,
            "align_items": null,
            "bottom": null,
            "_model_module": "@jupyter-widgets/base",
            "top": null,
            "grid_column": null,
            "overflow_y": null,
            "overflow_x": null,
            "grid_auto_flow": null,
            "grid_area": null,
            "grid_template_columns": null,
            "flex": null,
            "_model_name": "LayoutModel",
            "justify_items": null,
            "grid_row": null,
            "max_height": null,
            "align_content": null,
            "visibility": null,
            "align_self": null,
            "height": null,
            "min_height": null,
            "padding": null,
            "grid_auto_rows": null,
            "grid_gap": null,
            "max_width": null,
            "order": null,
            "_view_module_version": "1.2.0",
            "grid_template_areas": null,
            "object_position": null,
            "object_fit": null,
            "grid_auto_columns": null,
            "margin": null,
            "display": null,
            "left": null
          }
        },
        "73a2a3a6b47545f18c0192c4449bf666": {
          "model_module": "@jupyter-widgets/controls",
          "model_name": "DescriptionStyleModel",
          "state": {
            "_view_name": "StyleView",
            "_model_name": "DescriptionStyleModel",
            "description_width": "",
            "_view_module": "@jupyter-widgets/base",
            "_model_module_version": "1.5.0",
            "_view_count": null,
            "_view_module_version": "1.2.0",
            "_model_module": "@jupyter-widgets/controls"
          }
        },
        "c4546fe8206c4111bbd1c72c44714490": {
          "model_module": "@jupyter-widgets/base",
          "model_name": "LayoutModel",
          "state": {
            "_view_name": "LayoutView",
            "grid_template_rows": null,
            "right": null,
            "justify_content": null,
            "_view_module": "@jupyter-widgets/base",
            "overflow": null,
            "_model_module_version": "1.2.0",
            "_view_count": null,
            "flex_flow": null,
            "width": null,
            "min_width": null,
            "border": null,
            "align_items": null,
            "bottom": null,
            "_model_module": "@jupyter-widgets/base",
            "top": null,
            "grid_column": null,
            "overflow_y": null,
            "overflow_x": null,
            "grid_auto_flow": null,
            "grid_area": null,
            "grid_template_columns": null,
            "flex": null,
            "_model_name": "LayoutModel",
            "justify_items": null,
            "grid_row": null,
            "max_height": null,
            "align_content": null,
            "visibility": null,
            "align_self": null,
            "height": null,
            "min_height": null,
            "padding": null,
            "grid_auto_rows": null,
            "grid_gap": null,
            "max_width": null,
            "order": null,
            "_view_module_version": "1.2.0",
            "grid_template_areas": null,
            "object_position": null,
            "object_fit": null,
            "grid_auto_columns": null,
            "margin": null,
            "display": null,
            "left": null
          }
        }
      }
    }
  },
  "cells": [
    {
      "cell_type": "markdown",
      "metadata": {
        "id": "55BPRqn4uHG5"
      },
      "source": [
        "# Universidad de Buenos Aires\r\n",
        "# NLP - Examen\r\n",
        "Sentiment analysis from movies comments"
      ]
    },
    {
      "cell_type": "code",
      "metadata": {
        "id": "rcPiEBdt8NqM"
      },
      "source": [
        "from numpy import array\r\n",
        "from keras.utils import to_categorical\r\n",
        "from keras.preprocessing.sequence import pad_sequences\r\n",
        "from keras.models import Sequential\r\n",
        "from keras.layers import Dense\r\n",
        "from keras.layers import LSTM\r\n",
        "from keras.layers import Embedding"
      ],
      "execution_count": null,
      "outputs": []
    },
    {
      "cell_type": "code",
      "metadata": {
        "id": "-ANZikXa8SK1"
      },
      "source": [
        "from tensorflow import keras\r\n",
        "from tensorflow.keras import layers\r\n",
        "\r\n",
        "import numpy as np\r\n",
        "import random\r\n",
        "import io\r\n",
        "import pickle\r\n",
        "import pandas as pd\r\n",
        "\r\n",
        "import matplotlib.pyplot as plt\r\n",
        "import seaborn as sns"
      ],
      "execution_count": null,
      "outputs": []
    },
    {
      "cell_type": "code",
      "metadata": {
        "colab": {
          "base_uri": "https://localhost:8080/"
        },
        "id": "d4D_Ylxr8W6Q",
        "outputId": "56050c5a-c41b-46bb-ccad-6fd96350c130"
      },
      "source": [
        "from google.colab import drive\r\n",
        "drive.mount('/content/drive')\r\n",
        "\r\n",
        "import os\r\n",
        "os.chdir('/content/drive/My Drive/UBA IA 2020/9-NLP/colab')"
      ],
      "execution_count": null,
      "outputs": [
        {
          "output_type": "stream",
          "text": [
            "Mounted at /content/drive\n"
          ],
          "name": "stdout"
        }
      ]
    },
    {
      "cell_type": "code",
      "metadata": {
        "id": "KPlBX0wV8gv9"
      },
      "source": [
        "data=pd.read_csv('data/IMDB Dataset.csv')"
      ],
      "execution_count": null,
      "outputs": []
    },
    {
      "cell_type": "code",
      "metadata": {
        "colab": {
          "base_uri": "https://localhost:8080/",
          "height": 198
        },
        "id": "Ahwdm_Nt8uFm",
        "outputId": "0f63e91f-3c83-4037-c027-608fa46fedbe"
      },
      "source": [
        "data.head()"
      ],
      "execution_count": null,
      "outputs": [
        {
          "output_type": "execute_result",
          "data": {
            "text/html": [
              "<div>\n",
              "<style scoped>\n",
              "    .dataframe tbody tr th:only-of-type {\n",
              "        vertical-align: middle;\n",
              "    }\n",
              "\n",
              "    .dataframe tbody tr th {\n",
              "        vertical-align: top;\n",
              "    }\n",
              "\n",
              "    .dataframe thead th {\n",
              "        text-align: right;\n",
              "    }\n",
              "</style>\n",
              "<table border=\"1\" class=\"dataframe\">\n",
              "  <thead>\n",
              "    <tr style=\"text-align: right;\">\n",
              "      <th></th>\n",
              "      <th>review</th>\n",
              "      <th>sentiment</th>\n",
              "    </tr>\n",
              "  </thead>\n",
              "  <tbody>\n",
              "    <tr>\n",
              "      <th>0</th>\n",
              "      <td>One of the other reviewers has mentioned that ...</td>\n",
              "      <td>positive</td>\n",
              "    </tr>\n",
              "    <tr>\n",
              "      <th>1</th>\n",
              "      <td>A wonderful little production. &lt;br /&gt;&lt;br /&gt;The...</td>\n",
              "      <td>positive</td>\n",
              "    </tr>\n",
              "    <tr>\n",
              "      <th>2</th>\n",
              "      <td>I thought this was a wonderful way to spend ti...</td>\n",
              "      <td>positive</td>\n",
              "    </tr>\n",
              "    <tr>\n",
              "      <th>3</th>\n",
              "      <td>Basically there's a family where a little boy ...</td>\n",
              "      <td>negative</td>\n",
              "    </tr>\n",
              "    <tr>\n",
              "      <th>4</th>\n",
              "      <td>Petter Mattei's \"Love in the Time of Money\" is...</td>\n",
              "      <td>positive</td>\n",
              "    </tr>\n",
              "  </tbody>\n",
              "</table>\n",
              "</div>"
            ],
            "text/plain": [
              "                                              review sentiment\n",
              "0  One of the other reviewers has mentioned that ...  positive\n",
              "1  A wonderful little production. <br /><br />The...  positive\n",
              "2  I thought this was a wonderful way to spend ti...  positive\n",
              "3  Basically there's a family where a little boy ...  negative\n",
              "4  Petter Mattei's \"Love in the Time of Money\" is...  positive"
            ]
          },
          "metadata": {
            "tags": []
          },
          "execution_count": 5
        }
      ]
    },
    {
      "cell_type": "code",
      "metadata": {
        "id": "_ZS0iDrY_ngn"
      },
      "source": [
        "# create vocabulary\r\n",
        "# https://www.kdnuggets.com/2019/11/create-vocabulary-nlp-tasks-python.html\r\n",
        "# https://stackabuse.com/python-for-nlp-creating-bag-of-words-model-from-scratch/"
      ],
      "execution_count": null,
      "outputs": []
    },
    {
      "cell_type": "code",
      "metadata": {
        "id": "cjQ7q6N7CL_J"
      },
      "source": [
        "def plot_train_metrics(history):\r\n",
        "    epoch_count = range(1, len(history.history['accuracy']) + 1)\r\n",
        "    sns.lineplot(x=epoch_count,  y=history.history['accuracy'], label='train')\r\n",
        "    sns.lineplot(x=epoch_count,  y=history.history['val_accuracy'], label='valid')\r\n",
        "    plt.show()"
      ],
      "execution_count": null,
      "outputs": []
    },
    {
      "cell_type": "code",
      "metadata": {
        "id": "HjXHeKNhF_fo"
      },
      "source": [
        "from sklearn.metrics import roc_curve\r\n",
        "from sklearn.metrics import auc\r\n",
        "\r\n",
        "def evaluar_modelo(model, X_test, y_test):\r\n",
        "    y_hat_prob = model.predict(X_test).ravel()\r\n",
        "    #y_hat = [1 if x >= 0.5 else 0 for x in y_hat_prob]\r\n",
        "    mask_positive = y_hat_prob >= 0.5\r\n",
        "    mask_negative = y_hat_prob < 0.5\r\n",
        "    y_hat = y_hat_prob\r\n",
        "    y_hat[mask_positive] = 1\r\n",
        "    y_hat[mask_negative] = 0\r\n",
        "    y_hat = y_hat.astype(int)\r\n",
        "\r\n",
        "    # Calcular la exactitud (accuracy)\r\n",
        "    scores = model.evaluate(X_test, y_test)\r\n",
        "    print(\"Accuracy:\", scores[1])\r\n",
        "\r\n",
        "    fpr, tpr, thresholds = roc_curve(y_test, y_hat_prob)\r\n",
        "    auc_keras = auc(fpr, tpr)\r\n",
        "    print('auc_keras', auc_keras)\r\n",
        "\r\n",
        "    plt.figure(1)\r\n",
        "    plt.plot([0, 1], [0, 1], 'k--')\r\n",
        "    plt.plot(fpr, tpr, label='Keras (area = {:.3f})'.format(auc_keras))\r\n",
        "    plt.xlabel('False positive rate')\r\n",
        "    plt.ylabel('True positive rate')\r\n",
        "    plt.title('Curva ROC test')\r\n",
        "    plt.legend(loc='best')\r\n",
        "    plt.show()"
      ],
      "execution_count": null,
      "outputs": []
    },
    {
      "cell_type": "code",
      "metadata": {
        "id": "RoRbADeaKu6E"
      },
      "source": [
        "import logging\r\n",
        "\r\n",
        "import os\r\n",
        "from pathlib import Path\r\n",
        "from io import StringIO\r\n",
        "import pickle\r\n",
        "\r\n",
        "from pathlib import Path\r\n",
        "from io import StringIO\r\n",
        "import pickle\r\n",
        "\r\n",
        "import numpy as np\r\n",
        "\r\n",
        "\r\n",
        "#logging.basicConfig(level=logging.DEBUG)\r\n",
        "\r\n",
        "\r\n",
        "class WordsEmbeddings(object):\r\n",
        "\r\n",
        "    logger = logging.getLogger(__name__)\r\n",
        "\r\n",
        "    def __init__(self):\r\n",
        "        # load the embeddings\r\n",
        "        words_embedding_pkl = Path(self.PKL_PATH)\r\n",
        "        if not words_embedding_pkl.is_file():\r\n",
        "            words_embedding_txt = Path(self.WORD_TO_VEC_MODEL_TXT_PATH)\r\n",
        "            assert words_embedding_txt.is_file(), 'Words embedding not available'\r\n",
        "            embeddings = self.convert_model_to_pickle()\r\n",
        "        else:\r\n",
        "            embeddings = self.load_model_from_pickle()\r\n",
        "        self.embeddings = embeddings\r\n",
        "        # build the vocabulary hashmap\r\n",
        "        index = np.arange(self.embeddings.shape[0])\r\n",
        "        # Dicctionarios para traducir de embedding a IDX de la palabra\r\n",
        "        self.word2idx = dict(zip(self.embeddings['word'], index))\r\n",
        "        self.idx2word = dict(zip(index, self.embeddings['word']))\r\n",
        "\r\n",
        "    def get_words_embeddings(self, words):\r\n",
        "        words_idxs = self.words2idxs(words)\r\n",
        "        return self.embeddings[words_idxs]['embedding']\r\n",
        "\r\n",
        "    def words2idxs(self, words):\r\n",
        "        return np.array([self.word2idx.get(word, -1) for word in words])\r\n",
        "\r\n",
        "    def idxs2words(self, idxs):\r\n",
        "        return np.array([self.idx2word.get(idx, '-1') for idx in idxs])\r\n",
        "\r\n",
        "    def load_model_from_pickle(self):\r\n",
        "        self.logger.debug(\r\n",
        "            'loading words embeddings from pickle {}'.format(\r\n",
        "                self.PKL_PATH\r\n",
        "            )\r\n",
        "        )\r\n",
        "        max_bytes = 2**28 - 1 # 256MB\r\n",
        "        bytes_in = bytearray(0)\r\n",
        "        input_size = os.path.getsize(self.PKL_PATH)\r\n",
        "        with open(self.PKL_PATH, 'rb') as f_in:\r\n",
        "            for _ in range(0, input_size, max_bytes):\r\n",
        "                bytes_in += f_in.read(max_bytes)\r\n",
        "        embeddings = pickle.loads(bytes_in)\r\n",
        "        self.logger.debug('words embeddings loaded')\r\n",
        "        return embeddings\r\n",
        "\r\n",
        "    def convert_model_to_pickle(self):\r\n",
        "        # create a numpy strctured array:\r\n",
        "        # word     embedding\r\n",
        "        # U50      np.float32[]\r\n",
        "        # word_1   a, b, c\r\n",
        "        # word_2   d, e, f\r\n",
        "        # ...\r\n",
        "        # word_n   g, h, i\r\n",
        "        self.logger.debug(\r\n",
        "            'converting and loading words embeddings from text file {}'.format(\r\n",
        "                self.WORD_TO_VEC_MODEL_TXT_PATH\r\n",
        "            )\r\n",
        "        )\r\n",
        "        structure = [('word', np.dtype('U' + str(self.WORD_MAX_SIZE))),\r\n",
        "                     ('embedding', np.float32, (self.N_FEATURES,))]\r\n",
        "        structure = np.dtype(structure)\r\n",
        "        # load numpy array from disk using a generator\r\n",
        "        with open(self.WORD_TO_VEC_MODEL_TXT_PATH, encoding=\"utf8\") as words_embeddings_txt:\r\n",
        "            embeddings_gen = (\r\n",
        "                (line.split()[0], line.split()[1:]) for line in words_embeddings_txt\r\n",
        "                if len(line.split()[1:]) == self.N_FEATURES\r\n",
        "            )\r\n",
        "            embeddings = np.fromiter(embeddings_gen, structure)\r\n",
        "        # add a null embedding\r\n",
        "        null_embedding = np.array(\r\n",
        "            [('null_embedding', np.zeros((self.N_FEATURES,), dtype=np.float32))],\r\n",
        "            dtype=structure\r\n",
        "        )\r\n",
        "        embeddings = np.concatenate([embeddings, null_embedding])\r\n",
        "        # dump numpy array to disk using pickle\r\n",
        "        max_bytes = 2**28 - 1 # # 256MB\r\n",
        "        bytes_out = pickle.dumps(embeddings, protocol=pickle.HIGHEST_PROTOCOL)\r\n",
        "        with open(self.PKL_PATH, 'wb') as f_out:\r\n",
        "            print(\"Saving PKL\", bytes_out)\r\n",
        "            # for idx in range(0, len(bytes_out), max_bytes):\r\n",
        "            #     f_out.write(bytes_out[idx:idx+max_bytes])\r\n",
        "        self.logger.debug('words embeddings loaded')\r\n",
        "        return embeddings\r\n",
        "\r\n",
        "\r\n",
        "class GloveEmbeddings(WordsEmbeddings):\r\n",
        "\r\n",
        "    WORD_TO_VEC_MODEL_TXT_PATH = 'glove.twitter.27B.50d.txt'\r\n",
        "    PKL_PATH = 'gloveembedding.pkl'\r\n",
        "    N_FEATURES = 50\r\n",
        "    WORD_MAX_SIZE = 60\r\n",
        "\r\n",
        "\r\n",
        "class FasttextEmbeddings(WordsEmbeddings):\r\n",
        "\r\n",
        "    WORD_TO_VEC_MODEL_TXT_PATH = 'cc.en.300.vec'\r\n",
        "    PKL_PATH = 'fasttext.pkl'\r\n",
        "    N_FEATURES = 300\r\n",
        "    WORD_MAX_SIZE = 60"
      ],
      "execution_count": null,
      "outputs": []
    },
    {
      "cell_type": "markdown",
      "metadata": {
        "id": "BCO209z59D7C"
      },
      "source": [
        "## Limpieza de datos"
      ]
    },
    {
      "cell_type": "code",
      "metadata": {
        "colab": {
          "base_uri": "https://localhost:8080/"
        },
        "id": "KaRGx3pW9fyx",
        "outputId": "e3ed45d6-2a8d-4097-f506-59e0919aa901"
      },
      "source": [
        "# EN los datos se observó código de HTML de salto de línea <br />\r\n",
        "import re    \r\n",
        "sentences = data['review'].apply(lambda x: re.sub(\"<br />\", \"\", x))\r\n",
        "sentences.head()"
      ],
      "execution_count": null,
      "outputs": [
        {
          "output_type": "execute_result",
          "data": {
            "text/plain": [
              "0    One of the other reviewers has mentioned that ...\n",
              "1    A wonderful little production. The filming tec...\n",
              "2    I thought this was a wonderful way to spend ti...\n",
              "3    Basically there's a family where a little boy ...\n",
              "4    Petter Mattei's \"Love in the Time of Money\" is...\n",
              "Name: review, dtype: object"
            ]
          },
          "metadata": {
            "tags": []
          },
          "execution_count": 9
        }
      ]
    },
    {
      "cell_type": "code",
      "metadata": {
        "colab": {
          "base_uri": "https://localhost:8080/"
        },
        "id": "c26zJ7qUAV4F",
        "outputId": "dd053160-8474-46f9-b10d-c5bf6884453a"
      },
      "source": [
        "y = data['sentiment'].apply(lambda x: 1 if x == 'positive' else 0).values\r\n",
        "y.shape"
      ],
      "execution_count": null,
      "outputs": [
        {
          "output_type": "execute_result",
          "data": {
            "text/plain": [
              "(50000,)"
            ]
          },
          "metadata": {
            "tags": []
          },
          "execution_count": 10
        }
      ]
    },
    {
      "cell_type": "markdown",
      "metadata": {
        "id": "23NW2A1l6TKd"
      },
      "source": [
        "## 1 - Bag of words with scikit-learn"
      ]
    },
    {
      "cell_type": "code",
      "metadata": {
        "id": "hL-XMPv66auw"
      },
      "source": [
        "# Por defecto CountVectorizer elimina los signos de puntuacion y transforma\r\n",
        "# todas las palabras a lowercase\r\n",
        "# max_features --> limitacion la máxima dimensión del oneHotEncoding\r\n",
        "# stop_words --> quitamos aquellas palabras que para el idioma se consideran\r\n",
        "# relevantes (como los árticulos, pronombres, preposiciones, adverbios, etc)\r\n",
        "# https://scikit-learn.org/stable/modules/generated/sklearn.feature_extraction.text.CountVectorizer.html\r\n",
        "from sklearn.feature_extraction.text import CountVectorizer\r\n",
        "vectorizer = CountVectorizer(max_features=2000, stop_words='english')\r\n",
        "X = vectorizer.fit_transform(sentences)"
      ],
      "execution_count": null,
      "outputs": []
    },
    {
      "cell_type": "code",
      "metadata": {
        "colab": {
          "base_uri": "https://localhost:8080/"
        },
        "id": "mFP5AtQ560tM",
        "outputId": "88fb22f9-17ea-498d-89e3-bfd26a6faa2c"
      },
      "source": [
        "X = X.toarray()\r\n",
        "X.shape"
      ],
      "execution_count": null,
      "outputs": [
        {
          "output_type": "execute_result",
          "data": {
            "text/plain": [
              "(50000, 2000)"
            ]
          },
          "metadata": {
            "tags": []
          },
          "execution_count": 14
        }
      ]
    },
    {
      "cell_type": "markdown",
      "metadata": {
        "id": "xQasfQqf_ilK"
      },
      "source": [
        "#### PCA"
      ]
    },
    {
      "cell_type": "code",
      "metadata": {
        "id": "gReLIwke_kVe"
      },
      "source": [
        "from sklearn.decomposition import PCA\r\n",
        "X_pca = PCA(n_components=50).fit_transform(X)"
      ],
      "execution_count": null,
      "outputs": []
    },
    {
      "cell_type": "markdown",
      "metadata": {
        "id": "ki_Q4J0PAs1l"
      },
      "source": [
        "#### Preparar los datos"
      ]
    },
    {
      "cell_type": "code",
      "metadata": {
        "id": "2F5QZXftBEmT"
      },
      "source": [
        "from sklearn.model_selection import train_test_split\r\n",
        "X_train, X_test, y_train, y_test = train_test_split(X_pca, y, test_size=0.2, random_state=42)"
      ],
      "execution_count": null,
      "outputs": []
    },
    {
      "cell_type": "markdown",
      "metadata": {
        "id": "I2Uxe0YGARIq"
      },
      "source": [
        "#### Entrenar el modelo (clasico DNN)"
      ]
    },
    {
      "cell_type": "code",
      "metadata": {
        "colab": {
          "base_uri": "https://localhost:8080/"
        },
        "id": "ZvXYTMCKBiYo",
        "outputId": "294c2c87-d2dd-4005-c366-cf1876e54707"
      },
      "source": [
        "in_shape = X_train.shape[1]\r\n",
        "in_shape"
      ],
      "execution_count": null,
      "outputs": [
        {
          "output_type": "execute_result",
          "data": {
            "text/plain": [
              "50"
            ]
          },
          "metadata": {
            "tags": []
          },
          "execution_count": 17
        }
      ]
    },
    {
      "cell_type": "code",
      "metadata": {
        "id": "cOP3JNqFBmLC"
      },
      "source": [
        "out_shape = 1"
      ],
      "execution_count": null,
      "outputs": []
    },
    {
      "cell_type": "code",
      "metadata": {
        "colab": {
          "base_uri": "https://localhost:8080/"
        },
        "id": "xr-7odZgAUmv",
        "outputId": "c292968e-1cfb-421a-f898-7ab8c24554a9"
      },
      "source": [
        "from keras.layers import Dense, Dropout\r\n",
        "model1 = Sequential()\r\n",
        "\r\n",
        "dropout_rate = 0.5\r\n",
        "\r\n",
        "model1.add(Dense(units=128, activation='relu', input_shape=(in_shape,)))\r\n",
        "model1.add(Dropout(rate=0.3))\r\n",
        "model1.add(Dense(units=64, activation='relu'))\r\n",
        "model1.add(Dropout(rate=dropout_rate))\r\n",
        "model1.add(Dense(units=32, activation='relu'))\r\n",
        "model1.add(Dropout(rate=dropout_rate))\r\n",
        "model1.add(Dense(units=out_shape, activation='sigmoid'))\r\n",
        "\r\n",
        "model1.compile(optimizer=\"Adam\",\r\n",
        "              loss='binary_crossentropy',\r\n",
        "              metrics=['accuracy'])\r\n",
        "\r\n",
        "model1.summary()"
      ],
      "execution_count": null,
      "outputs": [
        {
          "output_type": "stream",
          "text": [
            "Model: \"sequential\"\n",
            "_________________________________________________________________\n",
            "Layer (type)                 Output Shape              Param #   \n",
            "=================================================================\n",
            "dense (Dense)                (None, 128)               6528      \n",
            "_________________________________________________________________\n",
            "dropout (Dropout)            (None, 128)               0         \n",
            "_________________________________________________________________\n",
            "dense_1 (Dense)              (None, 64)                8256      \n",
            "_________________________________________________________________\n",
            "dropout_1 (Dropout)          (None, 64)                0         \n",
            "_________________________________________________________________\n",
            "dense_2 (Dense)              (None, 32)                2080      \n",
            "_________________________________________________________________\n",
            "dropout_2 (Dropout)          (None, 32)                0         \n",
            "_________________________________________________________________\n",
            "dense_3 (Dense)              (None, 1)                 33        \n",
            "=================================================================\n",
            "Total params: 16,897\n",
            "Trainable params: 16,897\n",
            "Non-trainable params: 0\n",
            "_________________________________________________________________\n"
          ],
          "name": "stdout"
        }
      ]
    },
    {
      "cell_type": "code",
      "metadata": {
        "colab": {
          "base_uri": "https://localhost:8080/"
        },
        "id": "hBlHQdY5B-jA",
        "outputId": "ce012706-38d5-42ff-e566-fa00c8ae0fde"
      },
      "source": [
        "history1 = model1.fit(X_train, y_train, validation_split=0.2 , epochs=20, batch_size=200)"
      ],
      "execution_count": null,
      "outputs": [
        {
          "output_type": "stream",
          "text": [
            "Epoch 1/20\n",
            "160/160 [==============================] - 1s 4ms/step - loss: 0.6365 - accuracy: 0.6352 - val_loss: 0.5000 - val_accuracy: 0.7717\n",
            "Epoch 2/20\n",
            "160/160 [==============================] - 0s 3ms/step - loss: 0.5278 - accuracy: 0.7500 - val_loss: 0.4771 - val_accuracy: 0.7805\n",
            "Epoch 3/20\n",
            "160/160 [==============================] - 0s 3ms/step - loss: 0.5072 - accuracy: 0.7625 - val_loss: 0.4704 - val_accuracy: 0.7857\n",
            "Epoch 4/20\n",
            "160/160 [==============================] - 0s 3ms/step - loss: 0.4948 - accuracy: 0.7702 - val_loss: 0.4650 - val_accuracy: 0.7871\n",
            "Epoch 5/20\n",
            "160/160 [==============================] - 0s 3ms/step - loss: 0.4877 - accuracy: 0.7722 - val_loss: 0.4603 - val_accuracy: 0.7903\n",
            "Epoch 6/20\n",
            "160/160 [==============================] - 0s 3ms/step - loss: 0.4848 - accuracy: 0.7751 - val_loss: 0.4606 - val_accuracy: 0.7880\n",
            "Epoch 7/20\n",
            "160/160 [==============================] - 0s 3ms/step - loss: 0.4797 - accuracy: 0.7799 - val_loss: 0.4570 - val_accuracy: 0.7866\n",
            "Epoch 8/20\n",
            "160/160 [==============================] - 0s 3ms/step - loss: 0.4723 - accuracy: 0.7805 - val_loss: 0.4550 - val_accuracy: 0.7874\n",
            "Epoch 9/20\n",
            "160/160 [==============================] - 0s 3ms/step - loss: 0.4720 - accuracy: 0.7819 - val_loss: 0.4579 - val_accuracy: 0.7856\n",
            "Epoch 10/20\n",
            "160/160 [==============================] - 0s 3ms/step - loss: 0.4691 - accuracy: 0.7841 - val_loss: 0.4561 - val_accuracy: 0.7871\n",
            "Epoch 11/20\n",
            "160/160 [==============================] - 0s 3ms/step - loss: 0.4657 - accuracy: 0.7853 - val_loss: 0.4499 - val_accuracy: 0.7914\n",
            "Epoch 12/20\n",
            "160/160 [==============================] - 0s 3ms/step - loss: 0.4601 - accuracy: 0.7881 - val_loss: 0.4502 - val_accuracy: 0.7890\n",
            "Epoch 13/20\n",
            "160/160 [==============================] - 0s 3ms/step - loss: 0.4590 - accuracy: 0.7914 - val_loss: 0.4492 - val_accuracy: 0.7893\n",
            "Epoch 14/20\n",
            "160/160 [==============================] - 0s 3ms/step - loss: 0.4573 - accuracy: 0.7899 - val_loss: 0.4497 - val_accuracy: 0.7893\n",
            "Epoch 15/20\n",
            "160/160 [==============================] - 0s 3ms/step - loss: 0.4569 - accuracy: 0.7906 - val_loss: 0.4484 - val_accuracy: 0.7906\n",
            "Epoch 16/20\n",
            "160/160 [==============================] - 0s 3ms/step - loss: 0.4533 - accuracy: 0.7928 - val_loss: 0.4476 - val_accuracy: 0.7920\n",
            "Epoch 17/20\n",
            "160/160 [==============================] - 0s 3ms/step - loss: 0.4507 - accuracy: 0.7940 - val_loss: 0.4459 - val_accuracy: 0.7920\n",
            "Epoch 18/20\n",
            "160/160 [==============================] - 0s 3ms/step - loss: 0.4464 - accuracy: 0.7944 - val_loss: 0.4469 - val_accuracy: 0.7920\n",
            "Epoch 19/20\n",
            "160/160 [==============================] - 0s 3ms/step - loss: 0.4470 - accuracy: 0.7961 - val_loss: 0.4454 - val_accuracy: 0.7940\n",
            "Epoch 20/20\n",
            "160/160 [==============================] - 0s 3ms/step - loss: 0.4446 - accuracy: 0.7968 - val_loss: 0.4456 - val_accuracy: 0.7920\n"
          ],
          "name": "stdout"
        }
      ]
    },
    {
      "cell_type": "code",
      "metadata": {
        "colab": {
          "base_uri": "https://localhost:8080/",
          "height": 265
        },
        "id": "cZGySaCvCI1P",
        "outputId": "7273aa53-9f7c-451a-a1be-79405993c580"
      },
      "source": [
        "plot_train_metrics(history1)"
      ],
      "execution_count": null,
      "outputs": [
        {
          "output_type": "display_data",
          "data": {
            "image/png": "[encoded data removed]",
            "text/plain": [
              "<Figure size 432x288 with 1 Axes>"
            ]
          },
          "metadata": {
            "tags": [],
            "needs_background": "light"
          }
        }
      ]
    },
    {
      "cell_type": "markdown",
      "metadata": {
        "id": "j02dyv5FC3G2"
      },
      "source": [
        "#### Evaluar el modelo"
      ]
    },
    {
      "cell_type": "code",
      "metadata": {
        "colab": {
          "base_uri": "https://localhost:8080/",
          "height": 349
        },
        "id": "2Qc-DZPXGUfi",
        "outputId": "08c5b664-4dde-4408-c98f-52df389d439a"
      },
      "source": [
        "evaluar_modelo(model1, X_test, y_test)"
      ],
      "execution_count": null,
      "outputs": [
        {
          "output_type": "stream",
          "text": [
            "313/313 [==============================] - 0s 1ms/step - loss: 0.4463 - accuracy: 0.7899\n",
            "Accuracy: 0.789900004863739\n",
            "auc_keras 0.7899956433349404\n"
          ],
          "name": "stdout"
        },
        {
          "output_type": "display_data",
          "data": {
            "image/png": "[encoded data removed]",
            "text/plain": [
              "<Figure size 432x288 with 1 Axes>"
            ]
          },
          "metadata": {
            "tags": [],
            "needs_background": "light"
          }
        }
      ]
    },
    {
      "cell_type": "markdown",
      "metadata": {
        "id": "m0PZep-jG5tN"
      },
      "source": [
        "## 1B - Tfid con scikit-learn"
      ]
    },
    {
      "cell_type": "code",
      "metadata": {
        "id": "afpu4NMYG9rn"
      },
      "source": [
        "# https://scikit-learn.org/stable/modules/generated/sklearn.feature_extraction.text.TfidfVectorizer.html\r\n",
        "from sklearn.feature_extraction.text import TfidfVectorizer\r\n",
        "vectorizer = TfidfVectorizer(max_features=2000, stop_words='english')\r\n",
        "X = vectorizer.fit_transform(sentences)"
      ],
      "execution_count": null,
      "outputs": []
    },
    {
      "cell_type": "code",
      "metadata": {
        "colab": {
          "base_uri": "https://localhost:8080/"
        },
        "id": "NrPY2CG0HMZO",
        "outputId": "36d977e6-adba-40de-ef4f-79beb3f0e1cc"
      },
      "source": [
        "X = X.toarray()\r\n",
        "X.shape"
      ],
      "execution_count": null,
      "outputs": [
        {
          "output_type": "execute_result",
          "data": {
            "text/plain": [
              "(50000, 2000)"
            ]
          },
          "metadata": {
            "tags": []
          },
          "execution_count": 24
        }
      ]
    },
    {
      "cell_type": "code",
      "metadata": {
        "id": "TbcTBTgFHWbu"
      },
      "source": [
        "# PCA\r\n",
        "from sklearn.decomposition import PCA\r\n",
        "X_pca = PCA(n_components=50).fit_transform(X)"
      ],
      "execution_count": null,
      "outputs": []
    },
    {
      "cell_type": "code",
      "metadata": {
        "id": "kElWWo5hHcUF"
      },
      "source": [
        "# Preparar los datos\r\n",
        "from sklearn.model_selection import train_test_split\r\n",
        "X_train, X_test, y_train, y_test = train_test_split(X_pca, y, test_size=0.2, random_state=42)"
      ],
      "execution_count": null,
      "outputs": []
    },
    {
      "cell_type": "code",
      "metadata": {
        "colab": {
          "base_uri": "https://localhost:8080/"
        },
        "id": "NIAf9sitHjF0",
        "outputId": "5b31b5a3-15eb-48bb-88c5-7b9556ab805b"
      },
      "source": [
        "# Entrenar el modelo\r\n",
        "in_shape = X_train.shape[1]\r\n",
        "out_shape = 1\r\n",
        "print(\"in_shape\", in_shape, \", out_shape\", out_shape)"
      ],
      "execution_count": null,
      "outputs": [
        {
          "output_type": "stream",
          "text": [
            "in_shape 50 , out_shape 1\n"
          ],
          "name": "stdout"
        }
      ]
    },
    {
      "cell_type": "code",
      "metadata": {
        "colab": {
          "base_uri": "https://localhost:8080/"
        },
        "id": "kIgnOtT8HuDO",
        "outputId": "13c449f7-62c4-4cf1-8c90-f2da4f2fd137"
      },
      "source": [
        "from keras.layers import Dense, Dropout\r\n",
        "model1b = Sequential()\r\n",
        "\r\n",
        "dropout_rate = 0.5\r\n",
        "\r\n",
        "model1b.add(Dense(units=128, activation='relu', input_shape=(in_shape,)))\r\n",
        "model1b.add(Dropout(rate=0.3))\r\n",
        "model1b.add(Dense(units=64, activation='relu'))\r\n",
        "model1b.add(Dropout(rate=dropout_rate))\r\n",
        "model1b.add(Dense(units=32, activation='relu'))\r\n",
        "model1b.add(Dropout(rate=dropout_rate))\r\n",
        "model1b.add(Dense(units=out_shape, activation='sigmoid'))\r\n",
        "\r\n",
        "model1b.compile(optimizer=\"Adam\",\r\n",
        "              loss='binary_crossentropy',\r\n",
        "              metrics=['accuracy'])\r\n",
        "\r\n",
        "model1b.summary()"
      ],
      "execution_count": null,
      "outputs": [
        {
          "output_type": "stream",
          "text": [
            "Model: \"sequential_1\"\n",
            "_________________________________________________________________\n",
            "Layer (type)                 Output Shape              Param #   \n",
            "=================================================================\n",
            "dense_4 (Dense)              (None, 128)               6528      \n",
            "_________________________________________________________________\n",
            "dropout_3 (Dropout)          (None, 128)               0         \n",
            "_________________________________________________________________\n",
            "dense_5 (Dense)              (None, 64)                8256      \n",
            "_________________________________________________________________\n",
            "dropout_4 (Dropout)          (None, 64)                0         \n",
            "_________________________________________________________________\n",
            "dense_6 (Dense)              (None, 32)                2080      \n",
            "_________________________________________________________________\n",
            "dropout_5 (Dropout)          (None, 32)                0         \n",
            "_________________________________________________________________\n",
            "dense_7 (Dense)              (None, 1)                 33        \n",
            "=================================================================\n",
            "Total params: 16,897\n",
            "Trainable params: 16,897\n",
            "Non-trainable params: 0\n",
            "_________________________________________________________________\n"
          ],
          "name": "stdout"
        }
      ]
    },
    {
      "cell_type": "code",
      "metadata": {
        "colab": {
          "base_uri": "https://localhost:8080/",
          "height": 992
        },
        "id": "2t-bZZeJHzmb",
        "outputId": "1b0b79f5-b998-4bc3-dccf-0617255bddb9"
      },
      "source": [
        "history1b = model1b.fit(X_train, y_train, validation_split=0.2 , epochs=20, batch_size=200)\r\n",
        "plot_train_metrics(history1b)"
      ],
      "execution_count": null,
      "outputs": [
        {
          "output_type": "stream",
          "text": [
            "Epoch 1/20\n",
            "160/160 [==============================] - 1s 4ms/step - loss: 0.5266 - accuracy: 0.7436 - val_loss: 0.3719 - val_accuracy: 0.8363\n",
            "Epoch 2/20\n",
            "160/160 [==============================] - 0s 3ms/step - loss: 0.4001 - accuracy: 0.8304 - val_loss: 0.3665 - val_accuracy: 0.8357\n",
            "Epoch 3/20\n",
            "160/160 [==============================] - 0s 3ms/step - loss: 0.3869 - accuracy: 0.8343 - val_loss: 0.3628 - val_accuracy: 0.8369\n",
            "Epoch 4/20\n",
            "160/160 [==============================] - 0s 3ms/step - loss: 0.3811 - accuracy: 0.8369 - val_loss: 0.3610 - val_accuracy: 0.8390\n",
            "Epoch 5/20\n",
            "160/160 [==============================] - 0s 3ms/step - loss: 0.3744 - accuracy: 0.8390 - val_loss: 0.3615 - val_accuracy: 0.8349\n",
            "Epoch 6/20\n",
            "160/160 [==============================] - 0s 3ms/step - loss: 0.3711 - accuracy: 0.8411 - val_loss: 0.3581 - val_accuracy: 0.8380\n",
            "Epoch 7/20\n",
            "160/160 [==============================] - 0s 3ms/step - loss: 0.3692 - accuracy: 0.8428 - val_loss: 0.3570 - val_accuracy: 0.8395\n",
            "Epoch 8/20\n",
            "160/160 [==============================] - 0s 3ms/step - loss: 0.3680 - accuracy: 0.8434 - val_loss: 0.3559 - val_accuracy: 0.8419\n",
            "Epoch 9/20\n",
            "160/160 [==============================] - 0s 3ms/step - loss: 0.3622 - accuracy: 0.8475 - val_loss: 0.3555 - val_accuracy: 0.8406\n",
            "Epoch 10/20\n",
            "160/160 [==============================] - 0s 3ms/step - loss: 0.3609 - accuracy: 0.8475 - val_loss: 0.3545 - val_accuracy: 0.8429\n",
            "Epoch 11/20\n",
            "160/160 [==============================] - 0s 3ms/step - loss: 0.3596 - accuracy: 0.8486 - val_loss: 0.3549 - val_accuracy: 0.8407\n",
            "Epoch 12/20\n",
            "160/160 [==============================] - 0s 3ms/step - loss: 0.3561 - accuracy: 0.8500 - val_loss: 0.3547 - val_accuracy: 0.8462\n",
            "Epoch 13/20\n",
            "160/160 [==============================] - 0s 3ms/step - loss: 0.3548 - accuracy: 0.8509 - val_loss: 0.3542 - val_accuracy: 0.8418\n",
            "Epoch 14/20\n",
            "160/160 [==============================] - 0s 3ms/step - loss: 0.3503 - accuracy: 0.8527 - val_loss: 0.3514 - val_accuracy: 0.8460\n",
            "Epoch 15/20\n",
            "160/160 [==============================] - 0s 3ms/step - loss: 0.3510 - accuracy: 0.8547 - val_loss: 0.3530 - val_accuracy: 0.8446\n",
            "Epoch 16/20\n",
            "160/160 [==============================] - 0s 3ms/step - loss: 0.3458 - accuracy: 0.8530 - val_loss: 0.3581 - val_accuracy: 0.8391\n",
            "Epoch 17/20\n",
            "160/160 [==============================] - 0s 3ms/step - loss: 0.3463 - accuracy: 0.8558 - val_loss: 0.3531 - val_accuracy: 0.8462\n",
            "Epoch 18/20\n",
            "160/160 [==============================] - 0s 3ms/step - loss: 0.3437 - accuracy: 0.8561 - val_loss: 0.3533 - val_accuracy: 0.8428\n",
            "Epoch 19/20\n",
            "160/160 [==============================] - 0s 3ms/step - loss: 0.3416 - accuracy: 0.8570 - val_loss: 0.3531 - val_accuracy: 0.8470\n",
            "Epoch 20/20\n",
            "160/160 [==============================] - 0s 3ms/step - loss: 0.3403 - accuracy: 0.8568 - val_loss: 0.3522 - val_accuracy: 0.8478\n"
          ],
          "name": "stdout"
        },
        {
          "output_type": "display_data",
          "data": {
            "image/png": "[encoded data removed]",
            "text/plain": [
              "<Figure size 432x288 with 1 Axes>"
            ]
          },
          "metadata": {
            "tags": [],
            "needs_background": "light"
          }
        }
      ]
    },
    {
      "cell_type": "code",
      "metadata": {
        "colab": {
          "base_uri": "https://localhost:8080/",
          "height": 349
        },
        "id": "f7XGHK10H3yE",
        "outputId": "937d5861-c1da-4376-dca6-dafe56ea5441"
      },
      "source": [
        "evaluar_modelo(model1b, X_test, y_test)"
      ],
      "execution_count": null,
      "outputs": [
        {
          "output_type": "stream",
          "text": [
            "313/313 [==============================] - 0s 2ms/step - loss: 0.3450 - accuracy: 0.8467\n",
            "Accuracy: 0.8467000126838684\n",
            "auc_keras 0.846471479324802\n"
          ],
          "name": "stdout"
        },
        {
          "output_type": "display_data",
          "data": {
            "image/png": "[encoded data removed]",
            "text/plain": [
              "<Figure size 432x288 with 1 Axes>"
            ]
          },
          "metadata": {
            "tags": [],
            "needs_background": "light"
          }
        }
      ]
    },
    {
      "cell_type": "markdown",
      "metadata": {
        "id": "54znr5cSIrEh"
      },
      "source": [
        "## 2 - Embedding de oraciones con Glove"
      ]
    },
    {
      "cell_type": "code",
      "metadata": {
        "id": "lKLcAaNCvy81"
      },
      "source": [
        "glove_model = GloveEmbeddings()"
      ],
      "execution_count": null,
      "outputs": []
    },
    {
      "cell_type": "code",
      "metadata": {
        "id": "U3R1rvhnLnBv"
      },
      "source": [
        "from nltk.tokenize import RegexpTokenizer\r\n",
        "tokenizer = RegexpTokenizer(r'\\w+')\r\n",
        "\r\n",
        "for i in range(len(sentences)):\r\n",
        "    # Tokenizar la sentencia, quitar los signos de puntuacion y dejar todo en minisculas\r\n",
        "    bow = tokenizer.tokenize(str.lower(sentences.loc[i]))\r\n",
        "    word_embeddings = glove_model.get_words_embeddings(bow)\r\n",
        "    \r\n",
        "    sentence_embedding = word_embeddings.mean(axis=0).reshape(1, 50)\r\n",
        "    if i == 0:\r\n",
        "        X = sentence_embedding\r\n",
        "    else:\r\n",
        "        X = np.append(X, sentence_embedding, axis=0)\r\n",
        "    # print(bow)\r\n",
        "    # print(len(bow))\r\n",
        "    # print(word_embeddings[0])\r\n",
        "    # print(word_embeddings.shape)\r\n",
        "    #print(sentence_embedding.shape)"
      ],
      "execution_count": null,
      "outputs": []
    },
    {
      "cell_type": "code",
      "metadata": {
        "colab": {
          "base_uri": "https://localhost:8080/"
        },
        "id": "s3_C1u9DNus1",
        "outputId": "81ae82ef-51dd-4a63-ffa1-172b615be8bb"
      },
      "source": [
        "X.shape"
      ],
      "execution_count": null,
      "outputs": [
        {
          "output_type": "execute_result",
          "data": {
            "text/plain": [
              "(50000, 50)"
            ]
          },
          "metadata": {
            "tags": []
          },
          "execution_count": 32
        }
      ]
    },
    {
      "cell_type": "code",
      "metadata": {
        "id": "DCoyBNb1P0wU"
      },
      "source": [
        "# Preparar los datos\r\n",
        "from sklearn.model_selection import train_test_split\r\n",
        "X_train, X_test, y_train, y_test = train_test_split(X, y, test_size=0.2, random_state=42)"
      ],
      "execution_count": null,
      "outputs": []
    },
    {
      "cell_type": "code",
      "metadata": {
        "colab": {
          "base_uri": "https://localhost:8080/"
        },
        "id": "hoqeR3UNP36C",
        "outputId": "c3c66697-a832-492a-d920-ab9212e60296"
      },
      "source": [
        "# Entrenar el modelo\r\n",
        "in_shape = X_train.shape[1]\r\n",
        "out_shape = 1\r\n",
        "print(\"in_shape\", in_shape, \", out_shape\", out_shape)"
      ],
      "execution_count": null,
      "outputs": [
        {
          "output_type": "stream",
          "text": [
            "in_shape 50 , out_shape 1\n"
          ],
          "name": "stdout"
        }
      ]
    },
    {
      "cell_type": "code",
      "metadata": {
        "colab": {
          "base_uri": "https://localhost:8080/"
        },
        "id": "lS5Zv-ajP5_I",
        "outputId": "f9a427b3-0cf7-4202-86c5-08afd394b11d"
      },
      "source": [
        "from keras.layers import Dense, Dropout\r\n",
        "model2 = Sequential()\r\n",
        "\r\n",
        "dropout_rate = 0.5\r\n",
        "\r\n",
        "model2.add(Dense(units=128, activation='relu', input_shape=(in_shape,)))\r\n",
        "model2.add(Dropout(rate=0.3))\r\n",
        "model2.add(Dense(units=64, activation='relu'))\r\n",
        "model2.add(Dropout(rate=dropout_rate))\r\n",
        "model2.add(Dense(units=32, activation='relu'))\r\n",
        "model2.add(Dropout(rate=dropout_rate))\r\n",
        "model2.add(Dense(units=out_shape, activation='sigmoid'))\r\n",
        "\r\n",
        "model2.compile(optimizer=\"Adam\",\r\n",
        "              loss='binary_crossentropy',\r\n",
        "              metrics=['accuracy'])\r\n",
        "\r\n",
        "model2.summary()"
      ],
      "execution_count": null,
      "outputs": [
        {
          "output_type": "stream",
          "text": [
            "Model: \"sequential_2\"\n",
            "_________________________________________________________________\n",
            "Layer (type)                 Output Shape              Param #   \n",
            "=================================================================\n",
            "dense_8 (Dense)              (None, 128)               6528      \n",
            "_________________________________________________________________\n",
            "dropout_6 (Dropout)          (None, 128)               0         \n",
            "_________________________________________________________________\n",
            "dense_9 (Dense)              (None, 64)                8256      \n",
            "_________________________________________________________________\n",
            "dropout_7 (Dropout)          (None, 64)                0         \n",
            "_________________________________________________________________\n",
            "dense_10 (Dense)             (None, 32)                2080      \n",
            "_________________________________________________________________\n",
            "dropout_8 (Dropout)          (None, 32)                0         \n",
            "_________________________________________________________________\n",
            "dense_11 (Dense)             (None, 1)                 33        \n",
            "=================================================================\n",
            "Total params: 16,897\n",
            "Trainable params: 16,897\n",
            "Non-trainable params: 0\n",
            "_________________________________________________________________\n"
          ],
          "name": "stdout"
        }
      ]
    },
    {
      "cell_type": "code",
      "metadata": {
        "colab": {
          "base_uri": "https://localhost:8080/",
          "height": 992
        },
        "id": "4nxAnSjbQB8T",
        "outputId": "1e9f6a35-39b5-48cb-965f-d663970919f9"
      },
      "source": [
        "history2 = model2.fit(X_train, y_train, validation_split=0.2 , epochs=20, batch_size=200)\r\n",
        "plot_train_metrics(history2)"
      ],
      "execution_count": null,
      "outputs": [
        {
          "output_type": "stream",
          "text": [
            "Epoch 1/20\n",
            "160/160 [==============================] - 1s 4ms/step - loss: 0.6809 - accuracy: 0.5590 - val_loss: 0.5992 - val_accuracy: 0.7106\n",
            "Epoch 2/20\n",
            "160/160 [==============================] - 0s 3ms/step - loss: 0.5620 - accuracy: 0.7227 - val_loss: 0.4925 - val_accuracy: 0.7661\n",
            "Epoch 3/20\n",
            "160/160 [==============================] - 0s 3ms/step - loss: 0.5080 - accuracy: 0.7653 - val_loss: 0.4713 - val_accuracy: 0.7790\n",
            "Epoch 4/20\n",
            "160/160 [==============================] - 0s 3ms/step - loss: 0.4963 - accuracy: 0.7726 - val_loss: 0.4717 - val_accuracy: 0.7740\n",
            "Epoch 5/20\n",
            "160/160 [==============================] - 0s 3ms/step - loss: 0.4886 - accuracy: 0.7763 - val_loss: 0.4617 - val_accuracy: 0.7878\n",
            "Epoch 6/20\n",
            "160/160 [==============================] - 0s 3ms/step - loss: 0.4857 - accuracy: 0.7783 - val_loss: 0.4549 - val_accuracy: 0.7880\n",
            "Epoch 7/20\n",
            "160/160 [==============================] - 0s 3ms/step - loss: 0.4804 - accuracy: 0.7803 - val_loss: 0.4529 - val_accuracy: 0.7889\n",
            "Epoch 8/20\n",
            "160/160 [==============================] - 0s 3ms/step - loss: 0.4782 - accuracy: 0.7810 - val_loss: 0.4528 - val_accuracy: 0.7872\n",
            "Epoch 9/20\n",
            "160/160 [==============================] - 0s 3ms/step - loss: 0.4755 - accuracy: 0.7833 - val_loss: 0.4486 - val_accuracy: 0.7901\n",
            "Epoch 10/20\n",
            "160/160 [==============================] - 0s 3ms/step - loss: 0.4728 - accuracy: 0.7853 - val_loss: 0.4476 - val_accuracy: 0.7915\n",
            "Epoch 11/20\n",
            "160/160 [==============================] - 0s 3ms/step - loss: 0.4740 - accuracy: 0.7845 - val_loss: 0.4521 - val_accuracy: 0.7879\n",
            "Epoch 12/20\n",
            "160/160 [==============================] - 0s 3ms/step - loss: 0.4707 - accuracy: 0.7840 - val_loss: 0.4464 - val_accuracy: 0.7922\n",
            "Epoch 13/20\n",
            "160/160 [==============================] - 0s 3ms/step - loss: 0.4680 - accuracy: 0.7862 - val_loss: 0.4448 - val_accuracy: 0.7903\n",
            "Epoch 14/20\n",
            "160/160 [==============================] - 0s 3ms/step - loss: 0.4691 - accuracy: 0.7854 - val_loss: 0.4448 - val_accuracy: 0.7928\n",
            "Epoch 15/20\n",
            "160/160 [==============================] - 0s 3ms/step - loss: 0.4687 - accuracy: 0.7844 - val_loss: 0.4435 - val_accuracy: 0.7924\n",
            "Epoch 16/20\n",
            "160/160 [==============================] - 1s 3ms/step - loss: 0.4654 - accuracy: 0.7875 - val_loss: 0.4431 - val_accuracy: 0.7916\n",
            "Epoch 17/20\n",
            "160/160 [==============================] - 0s 3ms/step - loss: 0.4643 - accuracy: 0.7889 - val_loss: 0.4423 - val_accuracy: 0.7937\n",
            "Epoch 18/20\n",
            "160/160 [==============================] - 0s 3ms/step - loss: 0.4633 - accuracy: 0.7895 - val_loss: 0.4437 - val_accuracy: 0.7908\n",
            "Epoch 19/20\n",
            "160/160 [==============================] - 0s 3ms/step - loss: 0.4623 - accuracy: 0.7895 - val_loss: 0.4457 - val_accuracy: 0.7896\n",
            "Epoch 20/20\n",
            "160/160 [==============================] - 0s 3ms/step - loss: 0.4630 - accuracy: 0.7878 - val_loss: 0.4443 - val_accuracy: 0.7875\n"
          ],
          "name": "stdout"
        },
        {
          "output_type": "display_data",
          "data": {
            "image/png": "[encoded data removed]",
            "text/plain": [
              "<Figure size 432x288 with 1 Axes>"
            ]
          },
          "metadata": {
            "tags": [],
            "needs_background": "light"
          }
        }
      ]
    },
    {
      "cell_type": "code",
      "metadata": {
        "colab": {
          "base_uri": "https://localhost:8080/",
          "height": 349
        },
        "id": "6fKg8VMgQGSr",
        "outputId": "643f5708-e026-4c9a-f512-4d6521f8dfbb"
      },
      "source": [
        "evaluar_modelo(model2, X_test, y_test)"
      ],
      "execution_count": null,
      "outputs": [
        {
          "output_type": "stream",
          "text": [
            "313/313 [==============================] - 0s 1ms/step - loss: 0.4489 - accuracy: 0.7891\n",
            "Accuracy: 0.7890999913215637\n",
            "auc_keras 0.789426488707573\n"
          ],
          "name": "stdout"
        },
        {
          "output_type": "display_data",
          "data": {
            "image/png": "[encoded data removed]",
            "text/plain": [
              "<Figure size 432x288 with 1 Axes>"
            ]
          },
          "metadata": {
            "tags": [],
            "needs_background": "light"
          }
        }
      ]
    },
    {
      "cell_type": "markdown",
      "metadata": {
        "id": "Ous9eMVdsZ08"
      },
      "source": [
        "## 2B - Embedding de oraciones con Fasttext"
      ]
    },
    {
      "cell_type": "code",
      "metadata": {
        "id": "UHeMnQWYv3xL"
      },
      "source": [
        "fasttext_model = FasttextEmbeddings()"
      ],
      "execution_count": null,
      "outputs": []
    },
    {
      "cell_type": "code",
      "metadata": {
        "id": "CVNAgwgHsXQw"
      },
      "source": [
        "from nltk.tokenize import RegexpTokenizer\r\n",
        "tokenizer = RegexpTokenizer(r'\\w+')\r\n",
        "\r\n",
        "for i in range(len(sentences)):\r\n",
        "    # Tokenizar la sentencia, quitar los signos de puntuacion y dejar todo en minisculas\r\n",
        "    bow = tokenizer.tokenize(str.lower(sentences.loc[i]))\r\n",
        "    word_embeddings = fasttext_model.get_words_embeddings(bow)\r\n",
        "    sentence_embedding = word_embeddings.mean(axis=0).reshape(1, 300)\r\n",
        "    if i == 0:\r\n",
        "        X = sentence_embedding\r\n",
        "    else:\r\n",
        "        X = np.append(X, sentence_embedding, axis=0)"
      ],
      "execution_count": null,
      "outputs": []
    },
    {
      "cell_type": "code",
      "metadata": {
        "colab": {
          "base_uri": "https://localhost:8080/"
        },
        "id": "tqg0LDu6sY8m",
        "outputId": "90654bcf-c3e3-49b4-effe-c7b9459e9f10"
      },
      "source": [
        "X.shape"
      ],
      "execution_count": null,
      "outputs": [
        {
          "output_type": "execute_result",
          "data": {
            "text/plain": [
              "(50000, 300)"
            ]
          },
          "metadata": {
            "tags": []
          },
          "execution_count": 19
        }
      ]
    },
    {
      "cell_type": "code",
      "metadata": {
        "colab": {
          "base_uri": "https://localhost:8080/"
        },
        "id": "rydcoSmnttKj",
        "outputId": "86671f1f-48ff-4514-df50-a66e6f32d3eb"
      },
      "source": [
        "# Preparar los datos\r\n",
        "from sklearn.model_selection import train_test_split\r\n",
        "X_train, X_test, y_train, y_test = train_test_split(X, y, test_size=0.2, random_state=42)\r\n",
        "\r\n",
        "in_shape = X_train.shape[1]\r\n",
        "out_shape = 1\r\n",
        "print(\"in_shape\", in_shape, \", out_shape\", out_shape)"
      ],
      "execution_count": null,
      "outputs": [
        {
          "output_type": "stream",
          "text": [
            "in_shape 300 , out_shape 1\n"
          ],
          "name": "stdout"
        }
      ]
    },
    {
      "cell_type": "code",
      "metadata": {
        "colab": {
          "base_uri": "https://localhost:8080/"
        },
        "id": "4Jh3GDqht0M9",
        "outputId": "ca2966e7-eb04-4837-cb3b-1546c631feed"
      },
      "source": [
        "from keras.layers import Dense, Dropout\r\n",
        "model2b = Sequential()\r\n",
        "\r\n",
        "dropout_rate = 0.5\r\n",
        "\r\n",
        "model2b.add(Dense(units=128, activation='relu', input_shape=(in_shape,)))\r\n",
        "model2b.add(Dropout(rate=0.3))\r\n",
        "model2b.add(Dense(units=64, activation='relu'))\r\n",
        "model2b.add(Dropout(rate=dropout_rate))\r\n",
        "model2b.add(Dense(units=32, activation='relu'))\r\n",
        "model2b.add(Dropout(rate=dropout_rate))\r\n",
        "model2b.add(Dense(units=out_shape, activation='sigmoid'))\r\n",
        "\r\n",
        "model2b.compile(optimizer=\"Adam\",\r\n",
        "              loss='binary_crossentropy',\r\n",
        "              metrics=['accuracy'])\r\n",
        "\r\n",
        "model2b.summary()"
      ],
      "execution_count": null,
      "outputs": [
        {
          "output_type": "stream",
          "text": [
            "Model: \"sequential\"\n",
            "_________________________________________________________________\n",
            "Layer (type)                 Output Shape              Param #   \n",
            "=================================================================\n",
            "dense (Dense)                (None, 128)               38528     \n",
            "_________________________________________________________________\n",
            "dropout (Dropout)            (None, 128)               0         \n",
            "_________________________________________________________________\n",
            "dense_1 (Dense)              (None, 64)                8256      \n",
            "_________________________________________________________________\n",
            "dropout_1 (Dropout)          (None, 64)                0         \n",
            "_________________________________________________________________\n",
            "dense_2 (Dense)              (None, 32)                2080      \n",
            "_________________________________________________________________\n",
            "dropout_2 (Dropout)          (None, 32)                0         \n",
            "_________________________________________________________________\n",
            "dense_3 (Dense)              (None, 1)                 33        \n",
            "=================================================================\n",
            "Total params: 48,897\n",
            "Trainable params: 48,897\n",
            "Non-trainable params: 0\n",
            "_________________________________________________________________\n"
          ],
          "name": "stdout"
        }
      ]
    },
    {
      "cell_type": "code",
      "metadata": {
        "colab": {
          "base_uri": "https://localhost:8080/",
          "height": 992
        },
        "id": "jopdyJrqt4xb",
        "outputId": "a8662658-72e6-45e9-9c1e-ba024db498c2"
      },
      "source": [
        "history2b = model2b.fit(X_train, y_train, validation_split=0.2 , epochs=20, batch_size=200)\r\n",
        "plot_train_metrics(history2b)"
      ],
      "execution_count": null,
      "outputs": [
        {
          "output_type": "stream",
          "text": [
            "Epoch 1/20\n",
            "160/160 [==============================] - 4s 13ms/step - loss: 0.6699 - accuracy: 0.5754 - val_loss: 0.4954 - val_accuracy: 0.7759\n",
            "Epoch 2/20\n",
            "160/160 [==============================] - 0s 3ms/step - loss: 0.5016 - accuracy: 0.7727 - val_loss: 0.4317 - val_accuracy: 0.8051\n",
            "Epoch 3/20\n",
            "160/160 [==============================] - 0s 3ms/step - loss: 0.4452 - accuracy: 0.8031 - val_loss: 0.4121 - val_accuracy: 0.8150\n",
            "Epoch 4/20\n",
            "160/160 [==============================] - 0s 3ms/step - loss: 0.4248 - accuracy: 0.8196 - val_loss: 0.3957 - val_accuracy: 0.8242\n",
            "Epoch 5/20\n",
            "160/160 [==============================] - 0s 3ms/step - loss: 0.4179 - accuracy: 0.8205 - val_loss: 0.3947 - val_accuracy: 0.8254\n",
            "Epoch 6/20\n",
            "160/160 [==============================] - 0s 3ms/step - loss: 0.3997 - accuracy: 0.8307 - val_loss: 0.3832 - val_accuracy: 0.8301\n",
            "Epoch 7/20\n",
            "160/160 [==============================] - 0s 3ms/step - loss: 0.3920 - accuracy: 0.8334 - val_loss: 0.3666 - val_accuracy: 0.8370\n",
            "Epoch 8/20\n",
            "160/160 [==============================] - 0s 3ms/step - loss: 0.3875 - accuracy: 0.8353 - val_loss: 0.3674 - val_accuracy: 0.8397\n",
            "Epoch 9/20\n",
            "160/160 [==============================] - 0s 3ms/step - loss: 0.3803 - accuracy: 0.8388 - val_loss: 0.3649 - val_accuracy: 0.8418\n",
            "Epoch 10/20\n",
            "160/160 [==============================] - 0s 3ms/step - loss: 0.3820 - accuracy: 0.8381 - val_loss: 0.3581 - val_accuracy: 0.8434\n",
            "Epoch 11/20\n",
            "160/160 [==============================] - 0s 3ms/step - loss: 0.3806 - accuracy: 0.8401 - val_loss: 0.3682 - val_accuracy: 0.8388\n",
            "Epoch 12/20\n",
            "160/160 [==============================] - 0s 3ms/step - loss: 0.3794 - accuracy: 0.8402 - val_loss: 0.3553 - val_accuracy: 0.8454\n",
            "Epoch 13/20\n",
            "160/160 [==============================] - 0s 3ms/step - loss: 0.3763 - accuracy: 0.8399 - val_loss: 0.3834 - val_accuracy: 0.8260\n",
            "Epoch 14/20\n",
            "160/160 [==============================] - 0s 3ms/step - loss: 0.3896 - accuracy: 0.8317 - val_loss: 0.3566 - val_accuracy: 0.8420\n",
            "Epoch 15/20\n",
            "160/160 [==============================] - 0s 3ms/step - loss: 0.3725 - accuracy: 0.8420 - val_loss: 0.3805 - val_accuracy: 0.8266\n",
            "Epoch 16/20\n",
            "160/160 [==============================] - 0s 3ms/step - loss: 0.3782 - accuracy: 0.8388 - val_loss: 0.3542 - val_accuracy: 0.8441\n",
            "Epoch 17/20\n",
            "160/160 [==============================] - 0s 3ms/step - loss: 0.3771 - accuracy: 0.8405 - val_loss: 0.3530 - val_accuracy: 0.8491\n",
            "Epoch 18/20\n",
            "160/160 [==============================] - 0s 3ms/step - loss: 0.3674 - accuracy: 0.8423 - val_loss: 0.3589 - val_accuracy: 0.8386\n",
            "Epoch 19/20\n",
            "160/160 [==============================] - 0s 3ms/step - loss: 0.3693 - accuracy: 0.8436 - val_loss: 0.3538 - val_accuracy: 0.8455\n",
            "Epoch 20/20\n",
            "160/160 [==============================] - 0s 3ms/step - loss: 0.3672 - accuracy: 0.8469 - val_loss: 0.3517 - val_accuracy: 0.8466\n"
          ],
          "name": "stdout"
        },
        {
          "output_type": "display_data",
          "data": {
            "image/png": "[encoded data removed]",
            "text/plain": [
              "<Figure size 432x288 with 1 Axes>"
            ]
          },
          "metadata": {
            "tags": [],
            "needs_background": "light"
          }
        }
      ]
    },
    {
      "cell_type": "code",
      "metadata": {
        "colab": {
          "base_uri": "https://localhost:8080/",
          "height": 349
        },
        "id": "-fFPALwst6YA",
        "outputId": "f62db891-81c6-4012-ce20-9d534a0380ee"
      },
      "source": [
        "evaluar_modelo(model2b, X_test, y_test)"
      ],
      "execution_count": null,
      "outputs": [
        {
          "output_type": "stream",
          "text": [
            "313/313 [==============================] - 1s 2ms/step - loss: 0.3539 - accuracy: 0.8440\n",
            "Accuracy: 0.843999981880188\n",
            "auc_keras 0.8437627345247685\n"
          ],
          "name": "stdout"
        },
        {
          "output_type": "display_data",
          "data": {
            "image/png": "[encoded data removed]",
            "text/plain": [
              "<Figure size 432x288 with 1 Axes>"
            ]
          },
          "metadata": {
            "tags": [],
            "needs_background": "light"
          }
        }
      ]
    },
    {
      "cell_type": "markdown",
      "metadata": {
        "id": "ZA349k1palEv"
      },
      "source": [
        "## 3 - Embedding + LTSM"
      ]
    },
    {
      "cell_type": "code",
      "metadata": {
        "id": "6xUIyJpqOtOM"
      },
      "source": [
        "# Ejemplos en el uso de las libreria de keras\n",
        "# https://www.onceupondata.com/2019/01/21/keras-text-part1/"
      ],
      "execution_count": null,
      "outputs": []
    },
    {
      "cell_type": "code",
      "metadata": {
        "colab": {
          "base_uri": "https://localhost:8080/"
        },
        "id": "B9HVtg_dJ1wY",
        "outputId": "0ffaf296-4250-46e2-c6aa-024e7dfe67c5"
      },
      "source": [
        "# Conctenar todas las sentencias\r\n",
        "corpus = ' '.join(sentences.values)\r\n",
        "len(corpus)"
      ],
      "execution_count": null,
      "outputs": [
        {
          "output_type": "execute_result",
          "data": {
            "text/plain": [
              "64309862"
            ]
          },
          "metadata": {
            "tags": []
          },
          "execution_count": 13
        }
      ]
    },
    {
      "cell_type": "code",
      "metadata": {
        "id": "G6f3bwgaDh2c"
      },
      "source": [
        "# Separar las palabras por coma, quitar los signos de puntuacion y pasar a lowercase\r\n",
        "from keras.preprocessing.text import text_to_word_sequence\r\n",
        "tokens = text_to_word_sequence(corpus)"
      ],
      "execution_count": null,
      "outputs": []
    },
    {
      "cell_type": "code",
      "metadata": {
        "id": "RyuKdWUlFST6",
        "colab": {
          "base_uri": "https://localhost:8080/"
        },
        "outputId": "0767c5e2-0cbc-4d5d-a1cc-1a23a10c0a88"
      },
      "source": [
        "# Cantidad de palabras en el curpus (sin signos de puntuacion)\r\n",
        "len(tokens)"
      ],
      "execution_count": null,
      "outputs": [
        {
          "output_type": "execute_result",
          "data": {
            "text/plain": [
              "11546955"
            ]
          },
          "metadata": {
            "tags": []
          },
          "execution_count": 15
        }
      ]
    },
    {
      "cell_type": "code",
      "metadata": {
        "id": "_IeXEKidDKhG"
      },
      "source": [
        "# Tokenizamos las palabras\r\n",
        "from keras.preprocessing.text import Tokenizer\r\n",
        "num_words = 2000\r\n",
        "tok = Tokenizer(num_words=2000) \r\n",
        "tok.fit_on_texts(tokens) "
      ],
      "execution_count": null,
      "outputs": []
    },
    {
      "cell_type": "code",
      "metadata": {
        "id": "mNHD0jkuFQBL",
        "colab": {
          "base_uri": "https://localhost:8080/"
        },
        "outputId": "746c9d51-53a7-423e-d8fb-4dd23969fe74"
      },
      "source": [
        "vocab_size = len(tok.word_counts)\r\n",
        "vocab_size"
      ],
      "execution_count": null,
      "outputs": [
        {
          "output_type": "execute_result",
          "data": {
            "text/plain": [
              "126512"
            ]
          },
          "metadata": {
            "tags": []
          },
          "execution_count": 17
        }
      ]
    },
    {
      "cell_type": "code",
      "metadata": {
        "colab": {
          "base_uri": "https://localhost:8080/"
        },
        "id": "1ISJSsBPFQUd",
        "outputId": "e62c0f33-cf77-4152-dfcf-1cee10a4700d"
      },
      "source": [
        "vocab_size = num_words\r\n",
        "vocab_size"
      ],
      "execution_count": null,
      "outputs": [
        {
          "output_type": "execute_result",
          "data": {
            "text/plain": [
              "2000"
            ]
          },
          "metadata": {
            "tags": []
          },
          "execution_count": 18
        }
      ]
    },
    {
      "cell_type": "code",
      "metadata": {
        "colab": {
          "base_uri": "https://localhost:8080/"
        },
        "id": "527hUD7hPdVA",
        "outputId": "d65b0cd7-a26e-42e4-efa4-1c7abddec676"
      },
      "source": [
        "# convertimos las palabras a números\n",
        "max_word_vect_size = 0\n",
        "word_vect_corpus = []\n",
        "for sequence in sentences.values:\n",
        "    word_sequence = text_to_word_sequence(sequence)\n",
        "    list_word_vect_indx = tok.texts_to_sequences(word_sequence)\n",
        "    word_vect_indx = [x[0] for x in list_word_vect_indx if x]\n",
        "    if len(word_vect_indx) > max_word_vect_size:\n",
        "        max_word_vect_size = len(word_vect_indx)\n",
        "    word_vect_corpus.append(word_vect_indx)\n",
        "print(\"Oracion vectorizada más larga:\", max_word_vect_size)"
      ],
      "execution_count": null,
      "outputs": [
        {
          "output_type": "stream",
          "text": [
            "Oracion vectorizada más larga: 1853\n"
          ],
          "name": "stdout"
        }
      ]
    },
    {
      "cell_type": "code",
      "metadata": {
        "id": "guanKAozWQqw"
      },
      "source": [
        "# Padding de las sentencias al mismo tamaño\n",
        "maxlen = 200 # None --> padding al amx\n",
        "from keras.preprocessing.sequence import pad_sequences\n",
        "pad_word_vect_corpus = pad_sequences(word_vect_corpus, padding='post', maxlen=maxlen)"
      ],
      "execution_count": null,
      "outputs": []
    },
    {
      "cell_type": "code",
      "metadata": {
        "colab": {
          "base_uri": "https://localhost:8080/"
        },
        "id": "KoarIjVPWiX3",
        "outputId": "8240d642-28fe-46f7-8120-2763647fed74"
      },
      "source": [
        "pad_word_vect_corpus.shape"
      ],
      "execution_count": null,
      "outputs": [
        {
          "output_type": "execute_result",
          "data": {
            "text/plain": [
              "(50000, 200)"
            ]
          },
          "metadata": {
            "tags": []
          },
          "execution_count": 21
        }
      ]
    },
    {
      "cell_type": "code",
      "metadata": {
        "id": "Cz9t1HZ8F4bK"
      },
      "source": [
        "# Preparar los datos\r\n",
        "from sklearn.model_selection import train_test_split\r\n",
        "X_train, X_test, y_train, y_test = train_test_split(pad_word_vect_corpus, y, test_size=0.2, random_state=42)"
      ],
      "execution_count": null,
      "outputs": []
    },
    {
      "cell_type": "code",
      "metadata": {
        "colab": {
          "base_uri": "https://localhost:8080/"
        },
        "id": "4DgzBHaAF90W",
        "outputId": "95069897-1feb-4793-b3d5-f81d4f152772"
      },
      "source": [
        "in_shape = X_train.shape[1]\r\n",
        "out_shape = 1\r\n",
        "print(\"in_shape\", in_shape, \", out_shape\", out_shape)"
      ],
      "execution_count": null,
      "outputs": [
        {
          "output_type": "stream",
          "text": [
            "in_shape 200 , out_shape 1\n"
          ],
          "name": "stdout"
        }
      ]
    },
    {
      "cell_type": "code",
      "metadata": {
        "colab": {
          "base_uri": "https://localhost:8080/"
        },
        "id": "NSbSV84IEydj",
        "outputId": "99bcb1e3-cc5e-4301-9849-d891b738b24b"
      },
      "source": [
        "from keras.layers import LSTM\r\n",
        "from keras.layers import Embedding\r\n",
        "from keras.layers import Dropout\r\n",
        "from keras.layers import LeakyReLU\r\n",
        "\r\n",
        "model3 = Sequential()\r\n",
        "# input_seq_len = 3 --> ingreso 3 palabras\r\n",
        "# input_dim = vocab_size --> 1628 palabras distintas\r\n",
        "# output_dim = 3 --> crear embeddings de tamaño 3\r\n",
        "model3.add(Embedding(input_dim=vocab_size+1, output_dim=50, input_length=in_shape))\r\n",
        "model3.add(LSTM(units=64, return_sequences=True))\r\n",
        "model3.add(Dropout(0.2))\r\n",
        "model3.add(LSTM(units=64)) # La última capa LSTM no lleva return_sequences\r\n",
        "\r\n",
        "# model3.add(Dense(units=128, activation='relu'))\r\n",
        "# model3.add(Dropout(rate=0.3))\r\n",
        "# model3.add(Dense(units=64, activation='relu'))\r\n",
        "# model3.add(Dropout(rate=0.5))\r\n",
        "# model3.add(Dense(units=32, activation='relu'))\r\n",
        "# model3.add(Dropout(rate=0.5))\r\n",
        "# model3.add(Dense(units=out_shape, activation='sigmoid'))\r\n",
        "\r\n",
        "model3.add(Dense(units=128, activation='relu'))\r\n",
        "model3.add(Dropout(rate=0.2))\r\n",
        "model3.add(Dense(units=out_shape, activation='sigmoid'))\r\n",
        "\r\n",
        "model3.compile(optimizer=\"adam\",\r\n",
        "              loss='binary_crossentropy',\r\n",
        "              metrics=['accuracy'])\r\n",
        "\r\n",
        "model3.summary()"
      ],
      "execution_count": null,
      "outputs": [
        {
          "output_type": "stream",
          "text": [
            "Model: \"sequential_2\"\n",
            "_________________________________________________________________\n",
            "Layer (type)                 Output Shape              Param #   \n",
            "=================================================================\n",
            "embedding_2 (Embedding)      (None, 200, 50)           100050    \n",
            "_________________________________________________________________\n",
            "lstm_4 (LSTM)                (None, 200, 64)           29440     \n",
            "_________________________________________________________________\n",
            "dropout_5 (Dropout)          (None, 200, 64)           0         \n",
            "_________________________________________________________________\n",
            "lstm_5 (LSTM)                (None, 64)                33024     \n",
            "_________________________________________________________________\n",
            "dense_6 (Dense)              (None, 128)               8320      \n",
            "_________________________________________________________________\n",
            "dropout_6 (Dropout)          (None, 128)               0         \n",
            "_________________________________________________________________\n",
            "dense_7 (Dense)              (None, 1)                 129       \n",
            "=================================================================\n",
            "Total params: 170,963\n",
            "Trainable params: 170,963\n",
            "Non-trainable params: 0\n",
            "_________________________________________________________________\n"
          ],
          "name": "stdout"
        }
      ]
    },
    {
      "cell_type": "code",
      "metadata": {
        "colab": {
          "base_uri": "https://localhost:8080/",
          "height": 432
        },
        "id": "YouFfWeNGdVB",
        "outputId": "15fd1512-3fc2-42f9-86c1-74ec27fda7c8"
      },
      "source": [
        "history3 = model3.fit(X_train, y_train, validation_split=0.2 , epochs=5, batch_size=10)\r\n",
        "plot_train_metrics(history3)"
      ],
      "execution_count": null,
      "outputs": [
        {
          "output_type": "stream",
          "text": [
            "Epoch 1/5\n",
            "3200/3200 [==============================] - 61s 18ms/step - loss: 0.6950 - accuracy: 0.5018 - val_loss: 0.6922 - val_accuracy: 0.5019\n",
            "Epoch 2/5\n",
            "3200/3200 [==============================] - 59s 18ms/step - loss: 0.6923 - accuracy: 0.5071 - val_loss: 0.6905 - val_accuracy: 0.5058\n",
            "Epoch 3/5\n",
            "3200/3200 [==============================] - 59s 18ms/step - loss: 0.6871 - accuracy: 0.5172 - val_loss: 0.6235 - val_accuracy: 0.6557\n",
            "Epoch 4/5\n",
            "3200/3200 [==============================] - 57s 18ms/step - loss: 0.5931 - accuracy: 0.6785 - val_loss: 0.3431 - val_accuracy: 0.8569\n",
            "Epoch 5/5\n",
            "3200/3200 [==============================] - 57s 18ms/step - loss: 0.3306 - accuracy: 0.8632 - val_loss: 0.3113 - val_accuracy: 0.8696\n"
          ],
          "name": "stdout"
        },
        {
          "output_type": "display_data",
          "data": {
            "image/png": "[encoded data removed]",
            "text/plain": [
              "<Figure size 432x288 with 1 Axes>"
            ]
          },
          "metadata": {
            "tags": [],
            "needs_background": "light"
          }
        }
      ]
    },
    {
      "cell_type": "code",
      "metadata": {
        "colab": {
          "base_uri": "https://localhost:8080/",
          "height": 345
        },
        "id": "vrUC31bYGmT9",
        "outputId": "44de8350-62b0-48cb-d2aa-7758d13b896f"
      },
      "source": [
        "evaluar_modelo(model3, X_test, y_test)"
      ],
      "execution_count": null,
      "outputs": [
        {
          "output_type": "stream",
          "text": [
            "313/313 [==============================] - 3s 9ms/step - loss: 0.2981 - accuracy: 0.8763\n",
            "Accuracy: 0.8762999773025513\n",
            "auc_keras 0.8759859149830675\n"
          ],
          "name": "stdout"
        },
        {
          "output_type": "display_data",
          "data": {
            "image/png": "[encoded data removed]",
            "text/plain": [
              "<Figure size 432x288 with 1 Axes>"
            ]
          },
          "metadata": {
            "tags": [],
            "needs_background": "light"
          }
        }
      ]
    },
    {
      "cell_type": "markdown",
      "metadata": {
        "id": "qvoZ8YlK0vOQ"
      },
      "source": [
        "## 4 - BERT"
      ]
    },
    {
      "cell_type": "code",
      "metadata": {
        "colab": {
          "base_uri": "https://localhost:8080/"
        },
        "id": "9vQGeFm0pdn1",
        "outputId": "d1a98f6c-4103-44bb-8260-08c3c005043d"
      },
      "source": [
        "!pip install transformers"
      ],
      "execution_count": null,
      "outputs": [
        {
          "output_type": "stream",
          "text": [
            "Collecting transformers\n",
            "\u001b[?25l  Downloading https://files.pythonhosted.org/packages/50/0c/7d5950fcd80b029be0a8891727ba21e0cd27692c407c51261c3c921f6da3/transformers-4.1.1-py3-none-any.whl (1.5MB)\n",
            "\r\u001b[K     |▏                               | 10kB 23.0MB/s eta 0:00:01\r\u001b[K     |▍                               | 20kB 14.0MB/s eta 0:00:01\r\u001b[K     |▋                               | 30kB 12.7MB/s eta 0:00:01\r\u001b[K     |▉                               | 40kB 12.1MB/s eta 0:00:01\r\u001b[K     |█                               | 51kB 8.2MB/s eta 0:00:01\r\u001b[K     |█▎                              | 61kB 7.6MB/s eta 0:00:01\r\u001b[K     |█▌                              | 71kB 8.5MB/s eta 0:00:01\r\u001b[K     |█▊                              | 81kB 9.5MB/s eta 0:00:01\r\u001b[K     |██                              | 92kB 8.9MB/s eta 0:00:01\r\u001b[K     |██▏                             | 102kB 8.0MB/s eta 0:00:01\r\u001b[K     |██▍                             | 112kB 8.0MB/s eta 0:00:01\r\u001b[K     |██▋                             | 122kB 8.0MB/s eta 0:00:01\r\u001b[K     |██▉                             | 133kB 8.0MB/s eta 0:00:01\r\u001b[K     |███                             | 143kB 8.0MB/s eta 0:00:01\r\u001b[K     |███▎                            | 153kB 8.0MB/s eta 0:00:01\r\u001b[K     |███▌                            | 163kB 8.0MB/s eta 0:00:01\r\u001b[K     |███▊                            | 174kB 8.0MB/s eta 0:00:01\r\u001b[K     |████                            | 184kB 8.0MB/s eta 0:00:01\r\u001b[K     |████▏                           | 194kB 8.0MB/s eta 0:00:01\r\u001b[K     |████▎                           | 204kB 8.0MB/s eta 0:00:01\r\u001b[K     |████▌                           | 215kB 8.0MB/s eta 0:00:01\r\u001b[K     |████▊                           | 225kB 8.0MB/s eta 0:00:01\r\u001b[K     |█████                           | 235kB 8.0MB/s eta 0:00:01\r\u001b[K     |█████▏                          | 245kB 8.0MB/s eta 0:00:01\r\u001b[K     |█████▍                          | 256kB 8.0MB/s eta 0:00:01\r\u001b[K     |█████▋                          | 266kB 8.0MB/s eta 0:00:01\r\u001b[K     |█████▉                          | 276kB 8.0MB/s eta 0:00:01\r\u001b[K     |██████                          | 286kB 8.0MB/s eta 0:00:01\r\u001b[K     |██████▎                         | 296kB 8.0MB/s eta 0:00:01\r\u001b[K     |██████▌                         | 307kB 8.0MB/s eta 0:00:01\r\u001b[K     |██████▊                         | 317kB 8.0MB/s eta 0:00:01\r\u001b[K     |███████                         | 327kB 8.0MB/s eta 0:00:01\r\u001b[K     |███████▏                        | 337kB 8.0MB/s eta 0:00:01\r\u001b[K     |███████▍                        | 348kB 8.0MB/s eta 0:00:01\r\u001b[K     |███████▋                        | 358kB 8.0MB/s eta 0:00:01\r\u001b[K     |███████▉                        | 368kB 8.0MB/s eta 0:00:01\r\u001b[K     |████████                        | 378kB 8.0MB/s eta 0:00:01\r\u001b[K     |████████▎                       | 389kB 8.0MB/s eta 0:00:01\r\u001b[K     |████████▌                       | 399kB 8.0MB/s eta 0:00:01\r\u001b[K     |████████▋                       | 409kB 8.0MB/s eta 0:00:01\r\u001b[K     |████████▉                       | 419kB 8.0MB/s eta 0:00:01\r\u001b[K     |█████████                       | 430kB 8.0MB/s eta 0:00:01\r\u001b[K     |█████████▎                      | 440kB 8.0MB/s eta 0:00:01\r\u001b[K     |█████████▌                      | 450kB 8.0MB/s eta 0:00:01\r\u001b[K     |█████████▊                      | 460kB 8.0MB/s eta 0:00:01\r\u001b[K     |██████████                      | 471kB 8.0MB/s eta 0:00:01\r\u001b[K     |██████████▏                     | 481kB 8.0MB/s eta 0:00:01\r\u001b[K     |██████████▍                     | 491kB 8.0MB/s eta 0:00:01\r\u001b[K     |██████████▋                     | 501kB 8.0MB/s eta 0:00:01\r\u001b[K     |██████████▉                     | 512kB 8.0MB/s eta 0:00:01\r\u001b[K     |███████████                     | 522kB 8.0MB/s eta 0:00:01\r\u001b[K     |███████████▎                    | 532kB 8.0MB/s eta 0:00:01\r\u001b[K     |███████████▌                    | 542kB 8.0MB/s eta 0:00:01\r\u001b[K     |███████████▊                    | 552kB 8.0MB/s eta 0:00:01\r\u001b[K     |████████████                    | 563kB 8.0MB/s eta 0:00:01\r\u001b[K     |████████████▏                   | 573kB 8.0MB/s eta 0:00:01\r\u001b[K     |████████████▍                   | 583kB 8.0MB/s eta 0:00:01\r\u001b[K     |████████████▋                   | 593kB 8.0MB/s eta 0:00:01\r\u001b[K     |████████████▉                   | 604kB 8.0MB/s eta 0:00:01\r\u001b[K     |█████████████                   | 614kB 8.0MB/s eta 0:00:01\r\u001b[K     |█████████████▏                  | 624kB 8.0MB/s eta 0:00:01\r\u001b[K     |█████████████▍                  | 634kB 8.0MB/s eta 0:00:01\r\u001b[K     |█████████████▋                  | 645kB 8.0MB/s eta 0:00:01\r\u001b[K     |█████████████▉                  | 655kB 8.0MB/s eta 0:00:01\r\u001b[K     |██████████████                  | 665kB 8.0MB/s eta 0:00:01\r\u001b[K     |██████████████▎                 | 675kB 8.0MB/s eta 0:00:01\r\u001b[K     |██████████████▌                 | 686kB 8.0MB/s eta 0:00:01\r\u001b[K     |██████████████▊                 | 696kB 8.0MB/s eta 0:00:01\r\u001b[K     |███████████████                 | 706kB 8.0MB/s eta 0:00:01\r\u001b[K     |███████████████▏                | 716kB 8.0MB/s eta 0:00:01\r\u001b[K     |███████████████▍                | 727kB 8.0MB/s eta 0:00:01\r\u001b[K     |███████████████▋                | 737kB 8.0MB/s eta 0:00:01\r\u001b[K     |███████████████▉                | 747kB 8.0MB/s eta 0:00:01\r\u001b[K     |████████████████                | 757kB 8.0MB/s eta 0:00:01\r\u001b[K     |████████████████▎               | 768kB 8.0MB/s eta 0:00:01\r\u001b[K     |████████████████▌               | 778kB 8.0MB/s eta 0:00:01\r\u001b[K     |████████████████▊               | 788kB 8.0MB/s eta 0:00:01\r\u001b[K     |█████████████████               | 798kB 8.0MB/s eta 0:00:01\r\u001b[K     |█████████████████               | 808kB 8.0MB/s eta 0:00:01\r\u001b[K     |█████████████████▎              | 819kB 8.0MB/s eta 0:00:01\r\u001b[K     |█████████████████▌              | 829kB 8.0MB/s eta 0:00:01\r\u001b[K     |█████████████████▊              | 839kB 8.0MB/s eta 0:00:01\r\u001b[K     |██████████████████              | 849kB 8.0MB/s eta 0:00:01\r\u001b[K     |██████████████████▏             | 860kB 8.0MB/s eta 0:00:01\r\u001b[K     |██████████████████▍             | 870kB 8.0MB/s eta 0:00:01\r\u001b[K     |██████████████████▋             | 880kB 8.0MB/s eta 0:00:01\r\u001b[K     |██████████████████▉             | 890kB 8.0MB/s eta 0:00:01\r\u001b[K     |███████████████████             | 901kB 8.0MB/s eta 0:00:01\r\u001b[K     |███████████████████▎            | 911kB 8.0MB/s eta 0:00:01\r\u001b[K     |███████████████████▌            | 921kB 8.0MB/s eta 0:00:01\r\u001b[K     |███████████████████▊            | 931kB 8.0MB/s eta 0:00:01\r\u001b[K     |████████████████████            | 942kB 8.0MB/s eta 0:00:01\r\u001b[K     |████████████████████▏           | 952kB 8.0MB/s eta 0:00:01\r\u001b[K     |████████████████████▍           | 962kB 8.0MB/s eta 0:00:01\r\u001b[K     |████████████████████▋           | 972kB 8.0MB/s eta 0:00:01\r\u001b[K     |████████████████████▉           | 983kB 8.0MB/s eta 0:00:01\r\u001b[K     |█████████████████████           | 993kB 8.0MB/s eta 0:00:01\r\u001b[K     |█████████████████████▎          | 1.0MB 8.0MB/s eta 0:00:01\r\u001b[K     |█████████████████████▍          | 1.0MB 8.0MB/s eta 0:00:01\r\u001b[K     |█████████████████████▋          | 1.0MB 8.0MB/s eta 0:00:01\r\u001b[K     |█████████████████████▉          | 1.0MB 8.0MB/s eta 0:00:01\r\u001b[K     |██████████████████████          | 1.0MB 8.0MB/s eta 0:00:01\r\u001b[K     |██████████████████████▎         | 1.1MB 8.0MB/s eta 0:00:01\r\u001b[K     |██████████████████████▌         | 1.1MB 8.0MB/s eta 0:00:01\r\u001b[K     |██████████████████████▊         | 1.1MB 8.0MB/s eta 0:00:01\r\u001b[K     |███████████████████████         | 1.1MB 8.0MB/s eta 0:00:01\r\u001b[K     |███████████████████████▏        | 1.1MB 8.0MB/s eta 0:00:01\r\u001b[K     |███████████████████████▍        | 1.1MB 8.0MB/s eta 0:00:01\r\u001b[K     |███████████████████████▋        | 1.1MB 8.0MB/s eta 0:00:01\r\u001b[K     |███████████████████████▉        | 1.1MB 8.0MB/s eta 0:00:01\r\u001b[K     |████████████████████████        | 1.1MB 8.0MB/s eta 0:00:01\r\u001b[K     |████████████████████████▎       | 1.1MB 8.0MB/s eta 0:00:01\r\u001b[K     |████████████████████████▌       | 1.2MB 8.0MB/s eta 0:00:01\r\u001b[K     |████████████████████████▊       | 1.2MB 8.0MB/s eta 0:00:01\r\u001b[K     |█████████████████████████       | 1.2MB 8.0MB/s eta 0:00:01\r\u001b[K     |█████████████████████████▏      | 1.2MB 8.0MB/s eta 0:00:01\r\u001b[K     |█████████████████████████▍      | 1.2MB 8.0MB/s eta 0:00:01\r\u001b[K     |█████████████████████████▋      | 1.2MB 8.0MB/s eta 0:00:01\r\u001b[K     |█████████████████████████▊      | 1.2MB 8.0MB/s eta 0:00:01\r\u001b[K     |██████████████████████████      | 1.2MB 8.0MB/s eta 0:00:01\r\u001b[K     |██████████████████████████▏     | 1.2MB 8.0MB/s eta 0:00:01\r\u001b[K     |██████████████████████████▍     | 1.2MB 8.0MB/s eta 0:00:01\r\u001b[K     |██████████████████████████▋     | 1.3MB 8.0MB/s eta 0:00:01\r\u001b[K     |██████████████████████████▉     | 1.3MB 8.0MB/s eta 0:00:01\r\u001b[K     |███████████████████████████     | 1.3MB 8.0MB/s eta 0:00:01\r\u001b[K     |███████████████████████████▎    | 1.3MB 8.0MB/s eta 0:00:01\r\u001b[K     |███████████████████████████▌    | 1.3MB 8.0MB/s eta 0:00:01\r\u001b[K     |███████████████████████████▊    | 1.3MB 8.0MB/s eta 0:00:01\r\u001b[K     |████████████████████████████    | 1.3MB 8.0MB/s eta 0:00:01\r\u001b[K     |████████████████████████████▏   | 1.3MB 8.0MB/s eta 0:00:01\r\u001b[K     |████████████████████████████▍   | 1.3MB 8.0MB/s eta 0:00:01\r\u001b[K     |████████████████████████████▋   | 1.4MB 8.0MB/s eta 0:00:01\r\u001b[K     |████████████████████████████▉   | 1.4MB 8.0MB/s eta 0:00:01\r\u001b[K     |█████████████████████████████   | 1.4MB 8.0MB/s eta 0:00:01\r\u001b[K     |█████████████████████████████▎  | 1.4MB 8.0MB/s eta 0:00:01\r\u001b[K     |█████████████████████████████▌  | 1.4MB 8.0MB/s eta 0:00:01\r\u001b[K     |█████████████████████████████▊  | 1.4MB 8.0MB/s eta 0:00:01\r\u001b[K     |█████████████████████████████▉  | 1.4MB 8.0MB/s eta 0:00:01\r\u001b[K     |██████████████████████████████  | 1.4MB 8.0MB/s eta 0:00:01\r\u001b[K     |██████████████████████████████▎ | 1.4MB 8.0MB/s eta 0:00:01\r\u001b[K     |██████████████████████████████▌ | 1.4MB 8.0MB/s eta 0:00:01\r\u001b[K     |██████████████████████████████▊ | 1.5MB 8.0MB/s eta 0:00:01\r\u001b[K     |███████████████████████████████ | 1.5MB 8.0MB/s eta 0:00:01\r\u001b[K     |███████████████████████████████▏| 1.5MB 8.0MB/s eta 0:00:01\r\u001b[K     |███████████████████████████████▍| 1.5MB 8.0MB/s eta 0:00:01\r\u001b[K     |███████████████████████████████▋| 1.5MB 8.0MB/s eta 0:00:01\r\u001b[K     |███████████████████████████████▉| 1.5MB 8.0MB/s eta 0:00:01\r\u001b[K     |████████████████████████████████| 1.5MB 8.0MB/s \n",
            "\u001b[?25hRequirement already satisfied: requests in /usr/local/lib/python3.6/dist-packages (from transformers) (2.23.0)\n",
            "Requirement already satisfied: regex!=2019.12.17 in /usr/local/lib/python3.6/dist-packages (from transformers) (2019.12.20)\n",
            "Requirement already satisfied: dataclasses; python_version < \"3.7\" in /usr/local/lib/python3.6/dist-packages (from transformers) (0.8)\n",
            "Requirement already satisfied: tqdm>=4.27 in /usr/local/lib/python3.6/dist-packages (from transformers) (4.41.1)\n",
            "Requirement already satisfied: packaging in /usr/local/lib/python3.6/dist-packages (from transformers) (20.8)\n",
            "Collecting sacremoses\n",
            "\u001b[?25l  Downloading https://files.pythonhosted.org/packages/7d/34/09d19aff26edcc8eb2a01bed8e98f13a1537005d31e95233fd48216eed10/sacremoses-0.0.43.tar.gz (883kB)\n",
            "\u001b[K     |████████████████████████████████| 890kB 37.4MB/s \n",
            "\u001b[?25hRequirement already satisfied: numpy in /usr/local/lib/python3.6/dist-packages (from transformers) (1.19.4)\n",
            "Collecting tokenizers==0.9.4\n",
            "\u001b[?25l  Downloading https://files.pythonhosted.org/packages/0f/1c/e789a8b12e28be5bc1ce2156cf87cb522b379be9cadc7ad8091a4cc107c4/tokenizers-0.9.4-cp36-cp36m-manylinux2010_x86_64.whl (2.9MB)\n",
            "\u001b[K     |████████████████████████████████| 2.9MB 49.3MB/s \n",
            "\u001b[?25hRequirement already satisfied: filelock in /usr/local/lib/python3.6/dist-packages (from transformers) (3.0.12)\n",
            "Requirement already satisfied: certifi>=2017.4.17 in /usr/local/lib/python3.6/dist-packages (from requests->transformers) (2020.12.5)\n",
            "Requirement already satisfied: urllib3!=1.25.0,!=1.25.1,<1.26,>=1.21.1 in /usr/local/lib/python3.6/dist-packages (from requests->transformers) (1.24.3)\n",
            "Requirement already satisfied: idna<3,>=2.5 in /usr/local/lib/python3.6/dist-packages (from requests->transformers) (2.10)\n",
            "Requirement already satisfied: chardet<4,>=3.0.2 in /usr/local/lib/python3.6/dist-packages (from requests->transformers) (3.0.4)\n",
            "Requirement already satisfied: pyparsing>=2.0.2 in /usr/local/lib/python3.6/dist-packages (from packaging->transformers) (2.4.7)\n",
            "Requirement already satisfied: six in /usr/local/lib/python3.6/dist-packages (from sacremoses->transformers) (1.15.0)\n",
            "Requirement already satisfied: click in /usr/local/lib/python3.6/dist-packages (from sacremoses->transformers) (7.1.2)\n",
            "Requirement already satisfied: joblib in /usr/local/lib/python3.6/dist-packages (from sacremoses->transformers) (1.0.0)\n",
            "Building wheels for collected packages: sacremoses\n",
            "  Building wheel for sacremoses (setup.py) ... \u001b[?25l\u001b[?25hdone\n",
            "  Created wheel for sacremoses: filename=sacremoses-0.0.43-cp36-none-any.whl size=893261 sha256=6098b672d08dd28883169a3816b8bbb316f8ce1aa86282c36279039b68bacf77\n",
            "  Stored in directory: /root/.cache/pip/wheels/29/3c/fd/7ce5c3f0666dab31a50123635e6fb5e19ceb42ce38d4e58f45\n",
            "Successfully built sacremoses\n",
            "Installing collected packages: sacremoses, tokenizers, transformers\n",
            "Successfully installed sacremoses-0.0.43 tokenizers-0.9.4 transformers-4.1.1\n"
          ],
          "name": "stdout"
        }
      ]
    },
    {
      "cell_type": "code",
      "metadata": {
        "colab": {
          "base_uri": "https://localhost:8080/",
          "height": 240,
          "referenced_widgets": [
            "995b9a113f6b40ac8cf3233fb132c949",
            "0e99e5a51a4348419610aadde5c13c2c",
            "fbbb4c7c247f4c078de91ab9f1ce3ca9",
            "eb332e7b1f974290bb2b0ea4971309d3",
            "2dfcacb9192d450da79ba1ea769279b5",
            "bb48887f18ee49b0945c6fccb2dfb5a0",
            "618719fb036b4656b386bcc0ab66c87a",
            "717ac62e4c2548bb83a21e96d24e3ce3",
            "110f1225b6c14908985298c0c5b95925",
            "7a3ff25bab554a0bb274944bb9acdf4f",
            "1542e5acb9d94f59b509558267b51906",
            "e11d5fe8fee44443b3f39d7886e50b3c",
            "c9e5017441c846268632d48b70c6456c",
            "58d0f23c22be45c7b17010b773010c46",
            "3db1cff74b5b46f6b6ce5da5d93798b5",
            "4e100771679d47cda0fd835d4a170700",
            "26a59f2a08eb442eb3865d8dc5f5de5f",
            "0cf5b6c36ecc4c898233d27d250c7014",
            "64b82af7da7840b9b2ef369ae974120b",
            "8f05592cd0ef404b9e24a80531c83524",
            "279c4db8935649ac94dcc39c9f36bd13",
            "934f308896154c91bb465987199e4087",
            "73a2a3a6b47545f18c0192c4449bf666",
            "c4546fe8206c4111bbd1c72c44714490"
          ]
        },
        "id": "FJHhebCnnvnn",
        "outputId": "16f1f2ed-b3a6-4de8-a7a4-10f1ab940327"
      },
      "source": [
        "from tokenizers import BertWordPieceTokenizer\r\n",
        "from transformers import BertTokenizer, TFBertModel, BertConfig, TFBertForSequenceClassification\r\n",
        "from transformers import InputExample, InputFeatures\r\n",
        "\r\n",
        "bert_model = TFBertForSequenceClassification.from_pretrained(\"bert-base-uncased\")\r\n",
        "bert_tokenizer = BertTokenizer.from_pretrained(\"bert-base-uncased\")"
      ],
      "execution_count": null,
      "outputs": [
        {
          "output_type": "display_data",
          "data": {
            "application/vnd.jupyter.widget-view+json": {
              "model_id": "995b9a113f6b40ac8cf3233fb132c949",
              "version_minor": 0,
              "version_major": 2
            },
            "text/plain": [
              "HBox(children=(FloatProgress(value=0.0, description='Downloading', max=433.0, style=ProgressStyle(description_…"
            ]
          },
          "metadata": {
            "tags": []
          }
        },
        {
          "output_type": "stream",
          "text": [
            "\n"
          ],
          "name": "stdout"
        },
        {
          "output_type": "display_data",
          "data": {
            "application/vnd.jupyter.widget-view+json": {
              "model_id": "110f1225b6c14908985298c0c5b95925",
              "version_minor": 0,
              "version_major": 2
            },
            "text/plain": [
              "HBox(children=(FloatProgress(value=0.0, description='Downloading', max=536063208.0, style=ProgressStyle(descri…"
            ]
          },
          "metadata": {
            "tags": []
          }
        },
        {
          "output_type": "stream",
          "text": [
            "\n"
          ],
          "name": "stdout"
        },
        {
          "output_type": "stream",
          "text": [
            "All model checkpoint layers were used when initializing TFBertForSequenceClassification.\n",
            "\n",
            "Some layers of TFBertForSequenceClassification were not initialized from the model checkpoint at bert-base-uncased and are newly initialized: ['classifier']\n",
            "You should probably TRAIN this model on a down-stream task to be able to use it for predictions and inference.\n"
          ],
          "name": "stderr"
        },
        {
          "output_type": "display_data",
          "data": {
            "application/vnd.jupyter.widget-view+json": {
              "model_id": "26a59f2a08eb442eb3865d8dc5f5de5f",
              "version_minor": 0,
              "version_major": 2
            },
            "text/plain": [
              "HBox(children=(FloatProgress(value=0.0, description='Downloading', max=231508.0, style=ProgressStyle(descripti…"
            ]
          },
          "metadata": {
            "tags": []
          }
        },
        {
          "output_type": "stream",
          "text": [
            "\n"
          ],
          "name": "stdout"
        }
      ]
    },
    {
      "cell_type": "code",
      "metadata": {
        "colab": {
          "base_uri": "https://localhost:8080/"
        },
        "id": "9YdeJajh0gCz",
        "outputId": "acf74c00-23c7-4dfc-fd14-f3a664510201"
      },
      "source": [
        "bert_model.summary()"
      ],
      "execution_count": null,
      "outputs": [
        {
          "output_type": "stream",
          "text": [
            "Model: \"tf_bert_for_sequence_classification\"\n",
            "_________________________________________________________________\n",
            "Layer (type)                 Output Shape              Param #   \n",
            "=================================================================\n",
            "bert (TFBertMainLayer)       multiple                  109482240 \n",
            "_________________________________________________________________\n",
            "dropout_37 (Dropout)         multiple                  0         \n",
            "_________________________________________________________________\n",
            "classifier (Dense)           multiple                  1538      \n",
            "=================================================================\n",
            "Total params: 109,483,778\n",
            "Trainable params: 109,483,778\n",
            "Non-trainable params: 0\n",
            "_________________________________________________________________\n"
          ],
          "name": "stdout"
        }
      ]
    },
    {
      "cell_type": "code",
      "metadata": {
        "id": "rYnD8msegnSI"
      },
      "source": [
        "from sklearn.model_selection import train_test_split\r\n",
        "bert_max_length = 200\r\n",
        "indices = np.arange(len(sentences))\r\n",
        "idx_train_val, idx_test = train_test_split(indices, test_size=0.2, random_state=42)\r\n",
        "idx_train, idx_val = train_test_split(idx_train_val, test_size=0.2, random_state=42)"
      ],
      "execution_count": null,
      "outputs": []
    },
    {
      "cell_type": "code",
      "metadata": {
        "colab": {
          "base_uri": "https://localhost:8080/"
        },
        "id": "5Hm0jGD-j32e",
        "outputId": "b175b20c-cea9-4260-bc63-48d5c4b913d5"
      },
      "source": [
        "print(idx_train.shape[0], idx_val.shape[0], idx_test.shape[0])"
      ],
      "execution_count": null,
      "outputs": [
        {
          "output_type": "stream",
          "text": [
            "32000 8000 10000\n"
          ],
          "name": "stdout"
        }
      ]
    },
    {
      "cell_type": "code",
      "metadata": {
        "id": "MMfyhfKqfs6G"
      },
      "source": [
        "import tensorflow as tf\r\n",
        "def convert_data_to_examples(text, labels, idx_train, idx_val): \r\n",
        "    train_InputExamples = [InputExample(guid=None, # Globally unique ID for bookkeeping, unused in this case\r\n",
        "                                                          text_a = text.iloc[i], \r\n",
        "                                                          text_b = None,\r\n",
        "                                                          label = labels[i]) for i in idx_train]\r\n",
        "\r\n",
        "    validation_InputExamples = [InputExample(guid=None, # Globally unique ID for bookkeeping, unused in this case\r\n",
        "                                                          text_a = text.iloc[i],\r\n",
        "                                                          text_b = None,\r\n",
        "                                                          label = labels[i]) for i in idx_val]\r\n",
        "  \r\n",
        "    return train_InputExamples, validation_InputExamples\r\n",
        "\r\n",
        " \r\n",
        "def convert_examples_to_tf_dataset(examples, tokenizer, max_length=200):\r\n",
        "    features = [] # -> will hold InputFeatures to be converted later\r\n",
        "\r\n",
        "    for e in examples:\r\n",
        "        # Documentation is really strong for this method, so please take a look at it\r\n",
        "        input_dict = bert_tokenizer.encode_plus(\r\n",
        "            e.text_a,\r\n",
        "            add_special_tokens=True,\r\n",
        "            max_length=max_length, # truncates if len(s) > max_length\r\n",
        "            return_token_type_ids=True,\r\n",
        "            return_attention_mask=True,\r\n",
        "            pad_to_max_length=True, # pads to the right by default # CHECK THIS for pad_to_max_length\r\n",
        "            truncation=True\r\n",
        "        )\r\n",
        "\r\n",
        "        input_ids, token_type_ids, attention_mask = (input_dict[\"input_ids\"],\r\n",
        "            input_dict[\"token_type_ids\"], input_dict['attention_mask'])\r\n",
        "\r\n",
        "        features.append(\r\n",
        "            InputFeatures(\r\n",
        "                input_ids=input_ids, attention_mask=attention_mask, token_type_ids=token_type_ids, label=e.label\r\n",
        "            )\r\n",
        "        )\r\n",
        "\r\n",
        "    def gen():\r\n",
        "        for f in features:\r\n",
        "            yield (\r\n",
        "                {\r\n",
        "                    \"input_ids\": f.input_ids,\r\n",
        "                    \"attention_mask\": f.attention_mask,\r\n",
        "                    \"token_type_ids\": f.token_type_ids,\r\n",
        "                },\r\n",
        "                f.label,\r\n",
        "            )\r\n",
        "\r\n",
        "    return tf.data.Dataset.from_generator(\r\n",
        "        gen,\r\n",
        "        ({\"input_ids\": tf.int32, \"attention_mask\": tf.int32, \"token_type_ids\": tf.int32}, tf.int64),\r\n",
        "        (\r\n",
        "            {\r\n",
        "                \"input_ids\": tf.TensorShape([None]),\r\n",
        "                \"attention_mask\": tf.TensorShape([None]),\r\n",
        "                \"token_type_ids\": tf.TensorShape([None]),\r\n",
        "            },\r\n",
        "            tf.TensorShape([]),\r\n",
        "        ),\r\n",
        "    )"
      ],
      "execution_count": null,
      "outputs": []
    },
    {
      "cell_type": "code",
      "metadata": {
        "colab": {
          "base_uri": "https://localhost:8080/"
        },
        "id": "VXrlV-xPiebq",
        "outputId": "dda6fae6-3078-4e2d-ca68-1107dd80bfae"
      },
      "source": [
        "train_InputExamples, validation_InputExamples = convert_data_to_examples(sentences, y, idx_train, idx_val)\r\n",
        "\r\n",
        "train_data = convert_examples_to_tf_dataset(list(train_InputExamples), bert_tokenizer, max_length=bert_max_length)\r\n",
        "train_data = train_data.shuffle(100).batch(32).repeat(2)\r\n",
        "\r\n",
        "validation_data = convert_examples_to_tf_dataset(list(validation_InputExamples), bert_tokenizer, max_length=bert_max_length)\r\n",
        "validation_data = validation_data.batch(32)"
      ],
      "execution_count": null,
      "outputs": [
        {
          "output_type": "stream",
          "text": [
            "/usr/local/lib/python3.6/dist-packages/transformers/tokenization_utils_base.py:2179: FutureWarning: The `pad_to_max_length` argument is deprecated and will be removed in a future version, use `padding=True` or `padding='longest'` to pad to the longest sequence in the batch, or use `padding='max_length'` to pad to a max length. In this case, you can give a specific length with `max_length` (e.g. `max_length=45`) or leave max_length to None to pad to the maximal input size of the model (e.g. 512 for Bert).\n",
            "  FutureWarning,\n"
          ],
          "name": "stderr"
        }
      ]
    },
    {
      "cell_type": "code",
      "metadata": {
        "id": "aQV1WrdKFJnF"
      },
      "source": [
        "pred_sentences = sentences.loc[idx_test].values\r\n",
        "tf_batch = bert_tokenizer(pred_sentences.tolist(), max_length=bert_max_length, padding=True, truncation=True, return_tensors='tf')"
      ],
      "execution_count": null,
      "outputs": []
    },
    {
      "cell_type": "code",
      "metadata": {
        "id": "ZUBLlpH0GAVE"
      },
      "source": [
        "test_inputs = [tf_batch['input_ids'], \r\n",
        "          tf_batch['token_type_ids'], \r\n",
        "          tf_batch['attention_mask']]"
      ],
      "execution_count": null,
      "outputs": []
    },
    {
      "cell_type": "code",
      "metadata": {
        "id": "3E-z51xls0lH"
      },
      "source": [
        "y_test = y[idx_test]"
      ],
      "execution_count": null,
      "outputs": []
    },
    {
      "cell_type": "markdown",
      "metadata": {
        "id": "kNinUuS6nqRJ"
      },
      "source": [
        "## 4a - BERT sin Fine tuning"
      ]
    },
    {
      "cell_type": "code",
      "metadata": {
        "colab": {
          "base_uri": "https://localhost:8080/"
        },
        "id": "2ZE1GmvL02Bn",
        "outputId": "6f877168-3340-4b5d-d2bf-661cd1fd3489"
      },
      "source": [
        "model_bert_1 = bert_model\r\n",
        "model_bert_1.bert.trainable = False\r\n",
        "model_bert_1.summary()"
      ],
      "execution_count": null,
      "outputs": [
        {
          "output_type": "stream",
          "text": [
            "Model: \"tf_bert_for_sequence_classification\"\n",
            "_________________________________________________________________\n",
            "Layer (type)                 Output Shape              Param #   \n",
            "=================================================================\n",
            "bert (TFBertMainLayer)       multiple                  109482240 \n",
            "_________________________________________________________________\n",
            "dropout_37 (Dropout)         multiple                  0         \n",
            "_________________________________________________________________\n",
            "classifier (Dense)           multiple                  1538      \n",
            "=================================================================\n",
            "Total params: 109,483,778\n",
            "Trainable params: 1,538\n",
            "Non-trainable params: 109,482,240\n",
            "_________________________________________________________________\n"
          ],
          "name": "stdout"
        }
      ]
    },
    {
      "cell_type": "code",
      "metadata": {
        "colab": {
          "base_uri": "https://localhost:8080/"
        },
        "id": "IQfTxx4fcR1L",
        "outputId": "e6493336-2e29-4c33-956c-23f5b4c739b6"
      },
      "source": [
        "model_bert_1.compile(tf.keras.optimizers.Adam(learning_rate=2e-5, epsilon=1e-08), \r\n",
        "              loss=tf.keras.losses.SparseCategoricalCrossentropy(from_logits=True), \r\n",
        "              metrics=[tf.keras.metrics.SparseCategoricalAccuracy('accuracy')])\r\n",
        "\r\n",
        "history_bert4a = model_bert_1.fit(train_data, epochs=3, validation_data=validation_data)"
      ],
      "execution_count": null,
      "outputs": [
        {
          "output_type": "stream",
          "text": [
            "Epoch 1/3\n",
            "WARNING:tensorflow:AutoGraph could not transform <bound method Socket.send of <zmq.sugar.socket.Socket object at 0x7efdd97755f8>> and will run it as-is.\n",
            "Please report this to the TensorFlow team. When filing the bug, set the verbosity to 10 (on Linux, `export AUTOGRAPH_VERBOSITY=10`) and attach the full output.\n",
            "Cause: <cyfunction Socket.send at 0x7efdf0fbce58> is not a module, class, method, function, traceback, frame, or code object\n",
            "To silence this warning, decorate the function with @tf.autograph.experimental.do_not_convert\n",
            "WARNING: AutoGraph could not transform <bound method Socket.send of <zmq.sugar.socket.Socket object at 0x7efdd97755f8>> and will run it as-is.\n",
            "Please report this to the TensorFlow team. When filing the bug, set the verbosity to 10 (on Linux, `export AUTOGRAPH_VERBOSITY=10`) and attach the full output.\n",
            "Cause: <cyfunction Socket.send at 0x7efdf0fbce58> is not a module, class, method, function, traceback, frame, or code object\n",
            "To silence this warning, decorate the function with @tf.autograph.experimental.do_not_convert\n"
          ],
          "name": "stdout"
        },
        {
          "output_type": "stream",
          "text": [
            "The parameters `output_attentions`, `output_hidden_states` and `use_cache` cannot be updated when calling a model.They have to be set to True/False in the config object (i.e.: `config=XConfig.from_pretrained('name', output_attentions=True)`).\n"
          ],
          "name": "stderr"
        },
        {
          "output_type": "stream",
          "text": [
            "WARNING:tensorflow:AutoGraph could not transform <function wrap at 0x7efdee9508c8> and will run it as-is.\n",
            "Cause: while/else statement not yet supported\n",
            "To silence this warning, decorate the function with @tf.autograph.experimental.do_not_convert\n"
          ],
          "name": "stdout"
        },
        {
          "output_type": "stream",
          "text": [
            "The parameter `return_dict` cannot be set in graph mode and will always be set to `True`.\n"
          ],
          "name": "stderr"
        },
        {
          "output_type": "stream",
          "text": [
            "WARNING: AutoGraph could not transform <function wrap at 0x7efdee9508c8> and will run it as-is.\n",
            "Cause: while/else statement not yet supported\n",
            "To silence this warning, decorate the function with @tf.autograph.experimental.do_not_convert\n"
          ],
          "name": "stdout"
        },
        {
          "output_type": "stream",
          "text": [
            "The parameters `output_attentions`, `output_hidden_states` and `use_cache` cannot be updated when calling a model.They have to be set to True/False in the config object (i.e.: `config=XConfig.from_pretrained('name', output_attentions=True)`).\n",
            "The parameter `return_dict` cannot be set in graph mode and will always be set to `True`.\n"
          ],
          "name": "stderr"
        },
        {
          "output_type": "stream",
          "text": [
            "   2000/Unknown - 1080s 523ms/step - loss: 0.6907 - accuracy: 0.5279"
          ],
          "name": "stdout"
        },
        {
          "output_type": "stream",
          "text": [
            "The parameters `output_attentions`, `output_hidden_states` and `use_cache` cannot be updated when calling a model.They have to be set to True/False in the config object (i.e.: `config=XConfig.from_pretrained('name', output_attentions=True)`).\n",
            "The parameter `return_dict` cannot be set in graph mode and will always be set to `True`.\n"
          ],
          "name": "stderr"
        },
        {
          "output_type": "stream",
          "text": [
            "\b\b\b\b\b\b\b\b\b\b\b\b\b\b\b\b\b\b\b\b\b\b\b\b\b\b\b\b\b\b\b\b\b\b\b\b\b\b\b\b\b\b\b\b\b\b\b\b\b\b\b\b\b\b\b\b\b\b\b\b\b\b\b\b\b\b\b\b\r2000/2000 [==============================] - 1204s 585ms/step - loss: 0.6907 - accuracy: 0.5279 - val_loss: 0.6567 - val_accuracy: 0.6447\n",
            "Epoch 2/3\n",
            "2000/2000 [==============================] - 1171s 585ms/step - loss: 0.6532 - accuracy: 0.6471 - val_loss: 0.6285 - val_accuracy: 0.6806\n",
            "Epoch 3/3\n",
            "2000/2000 [==============================] - 1170s 585ms/step - loss: 0.6291 - accuracy: 0.6753 - val_loss: 0.6095 - val_accuracy: 0.6929\n"
          ],
          "name": "stdout"
        }
      ]
    },
    {
      "cell_type": "code",
      "metadata": {
        "colab": {
          "base_uri": "https://localhost:8080/"
        },
        "id": "vzgQfhHicU4P",
        "outputId": "e0b7c6b6-060d-4d6c-a2dd-d6132f4c0abe"
      },
      "source": [
        "tf_outputs = model_bert_1.predict(test_inputs)\r\n",
        "y_hat_prob = tf.nn.softmax(tf_outputs[0], axis=-1)\r\n",
        "y_hat_prob_sigmoid = y_hat_prob[:, 1]"
      ],
      "execution_count": null,
      "outputs": [
        {
          "output_type": "stream",
          "text": [
            "The parameters `output_attentions`, `output_hidden_states` and `use_cache` cannot be updated when calling a model.They have to be set to True/False in the config object (i.e.: `config=XConfig.from_pretrained('name', output_attentions=True)`).\n",
            "The parameter `return_dict` cannot be set in graph mode and will always be set to `True`.\n"
          ],
          "name": "stderr"
        }
      ]
    },
    {
      "cell_type": "code",
      "metadata": {
        "colab": {
          "base_uri": "https://localhost:8080/",
          "height": 312
        },
        "id": "tvYS5SDict-I",
        "outputId": "bee8d04a-8a56-434c-fa84-2c4bdb15a70e"
      },
      "source": [
        "fpr, tpr, thresholds = roc_curve(y_test, y_hat_prob_sigmoid)\r\n",
        "auc_keras = auc(fpr, tpr)\r\n",
        "print('auc_keras', auc_keras)\r\n",
        "\r\n",
        "plt.figure(1)\r\n",
        "plt.plot([0, 1], [0, 1], 'k--')\r\n",
        "plt.plot(fpr, tpr, label='Keras (area = {:.3f})'.format(auc_keras))\r\n",
        "plt.xlabel('False positive rate')\r\n",
        "plt.ylabel('True positive rate')\r\n",
        "plt.title('Curva ROC test')\r\n",
        "plt.legend(loc='best')\r\n",
        "plt.show()"
      ],
      "execution_count": null,
      "outputs": [
        {
          "output_type": "stream",
          "text": [
            "auc_keras 0.7062840303204045\n"
          ],
          "name": "stdout"
        },
        {
          "output_type": "display_data",
          "data": {
            "image/png": "[encoded data removed]",
            "text/plain": [
              "<Figure size 432x288 with 1 Axes>"
            ]
          },
          "metadata": {
            "tags": [],
            "needs_background": "light"
          }
        }
      ]
    },
    {
      "cell_type": "markdown",
      "metadata": {
        "id": "0ugxcD9s9o8l"
      },
      "source": [
        "## 4b - BERT con Fine tuning"
      ]
    },
    {
      "cell_type": "code",
      "metadata": {
        "colab": {
          "base_uri": "https://localhost:8080/"
        },
        "id": "SPOeOoCuk96K",
        "outputId": "1217a566-ad96-423c-d27f-a413b8f844a8"
      },
      "source": [
        "model_bert_2 = TFBertForSequenceClassification.from_pretrained(\"bert-base-uncased\")\r\n",
        "\r\n",
        "model_bert_2.compile(tf.keras.optimizers.Adam(learning_rate=2e-5, epsilon=1e-08), \r\n",
        "              loss=tf.keras.losses.SparseCategoricalCrossentropy(from_logits=True), \r\n",
        "              metrics=[tf.keras.metrics.SparseCategoricalAccuracy('accuracy')])\r\n",
        "\r\n",
        "history_bert4b = model_bert_2.fit(train_data, epochs=1, validation_data=validation_data)"
      ],
      "execution_count": null,
      "outputs": [
        {
          "output_type": "stream",
          "text": [
            "All model checkpoint layers were used when initializing TFBertForSequenceClassification.\n",
            "\n",
            "Some layers of TFBertForSequenceClassification were not initialized from the model checkpoint at bert-base-uncased and are newly initialized: ['classifier']\n",
            "You should probably TRAIN this model on a down-stream task to be able to use it for predictions and inference.\n",
            "The parameters `output_attentions`, `output_hidden_states` and `use_cache` cannot be updated when calling a model.They have to be set to True/False in the config object (i.e.: `config=XConfig.from_pretrained('name', output_attentions=True)`).\n",
            "The parameter `return_dict` cannot be set in graph mode and will always be set to `True`.\n",
            "The parameters `output_attentions`, `output_hidden_states` and `use_cache` cannot be updated when calling a model.They have to be set to True/False in the config object (i.e.: `config=XConfig.from_pretrained('name', output_attentions=True)`).\n",
            "The parameter `return_dict` cannot be set in graph mode and will always be set to `True`.\n"
          ],
          "name": "stderr"
        },
        {
          "output_type": "stream",
          "text": [
            "   2000/Unknown - 2711s 1s/step - loss: 0.2896 - accuracy: 0.8759"
          ],
          "name": "stdout"
        },
        {
          "output_type": "stream",
          "text": [
            "The parameters `output_attentions`, `output_hidden_states` and `use_cache` cannot be updated when calling a model.They have to be set to True/False in the config object (i.e.: `config=XConfig.from_pretrained('name', output_attentions=True)`).\n",
            "The parameter `return_dict` cannot be set in graph mode and will always be set to `True`.\n"
          ],
          "name": "stderr"
        },
        {
          "output_type": "stream",
          "text": [
            "\b\b\b\b\b\b\b\b\b\b\b\b\b\b\b\b\b\b\b\b\b\b\b\b\b\b\b\b\b\b\b\b\b\b\b\b\b\b\b\b\b\b\b\b\b\b\b\b\b\b\b\b\b\b\b\b\b\b\b\b\b\b\b\b\b\r2000/2000 [==============================] - 2826s 1s/step - loss: 0.2896 - accuracy: 0.8759 - val_loss: 0.2540 - val_accuracy: 0.9134\n"
          ],
          "name": "stdout"
        }
      ]
    },
    {
      "cell_type": "code",
      "metadata": {
        "id": "S099fbrL_8yI"
      },
      "source": [
        "tf_outputs = model_bert_2.predict(test_inputs)\r\n",
        "y_hat_prob = tf.nn.softmax(tf_outputs[0], axis=-1)\r\n",
        "y_hat_prob_sigmoid = y_hat_prob[:, 1]"
      ],
      "execution_count": null,
      "outputs": []
    },
    {
      "cell_type": "code",
      "metadata": {
        "colab": {
          "base_uri": "https://localhost:8080/",
          "height": 349
        },
        "id": "JGGAvyD043BJ",
        "outputId": "5f1344cf-0eef-40f3-cc43-64db33a7d8f8"
      },
      "source": [
        "fpr, tpr, thresholds = roc_curve(y_test, y_hat_prob_sigmoid)\r\n",
        "auc_keras = auc(fpr, tpr)\r\n",
        "print('auc_keras', auc_keras)\r\n",
        "\r\n",
        "plt.figure(1)\r\n",
        "plt.plot([0, 1], [0, 1], 'k--')\r\n",
        "plt.plot(fpr, tpr, label='Keras (area = {:.3f})'.format(auc_keras))\r\n",
        "plt.xlabel('False positive rate')\r\n",
        "plt.ylabel('True positive rate')\r\n",
        "plt.title('Curva ROC test')\r\n",
        "plt.legend(loc='best')\r\n",
        "plt.show()"
      ],
      "execution_count": null,
      "outputs": [
        {
          "output_type": "stream",
          "text": [
            "(10000, 2)\n",
            "(10000, 2)\n",
            "auc_keras 0.9704147000303498\n"
          ],
          "name": "stdout"
        },
        {
          "output_type": "display_data",
          "data": {
            "image/png": "[encoded data removed]",
            "text/plain": [
              "<Figure size 432x288 with 1 Axes>"
            ]
          },
          "metadata": {
            "tags": [],
            "needs_background": "light"
          }
        }
      ]
    },
    {
      "cell_type": "markdown",
      "metadata": {
        "id": "IXu1W7-5LkPL"
      },
      "source": [
        "## Resultados y conclusiones\r\n",
        "Tabla de resultados:"
      ]
    },
    {
      "cell_type": "markdown",
      "metadata": {
        "id": "5PI8ICVIMjxV"
      },
      "source": [
        "| Algorithm                 | RUC Accuracy|\r\n",
        "|---------------------------|-------------|\r\n",
        "| 1a) BOW (OneHotEncoding)  | 0.789  |\r\n",
        "| 1b) BOW (TFIDF)           | 0.844  |\r\n",
        "| 2a) Embeddings (Glove)    | 0.789  |\r\n",
        "| 2b) Embeddings (Fastttext)| 0.843  |\r\n",
        "| 3) LSTM                   | 0.875  |\r\n",
        "| 4a) BERT                   | 0.706  |\r\n",
        "| 4b) BERT + Fine-Tuning     | 0.970  |"
      ]
    },
    {
      "cell_type": "markdown",
      "metadata": {
        "id": "3NuAxjtcPhoa"
      },
      "source": [
        "Se puede apreciar que a medida que se utilizaron tecnologías \"más mordernas\" para la resolución del problema el accuracy fue mejorando. \r\n",
        "- En el caso de los embeddings pre enternados (GLobe y Fasttext) no dió un resultado superador respecto a BOW tradicional debido a que se realizó una promediado de los embeddings para su uso en la red.\r\n",
        "- En el caso de LSTM costó bastante poder entrenar la red, hubo que probar bastantes combinaciones hasta dar con la acertada y el resultado se refleja en su accuracy, superando los otros métodos.\r\n",
        "- BERT, como era de esperarse, fue superador ampliamente en el proceso de Fine-Tuning. El proceso normal (sin Fine-Tuning) no alcanzó un accuracy sobresaliente, pero tampoco se realizaron demasaidos épocas para ver como podría evolucionar el accuracy (parece que aún podría seguir aprendiendo con más épocas)."
      ]
    }
  ]
}