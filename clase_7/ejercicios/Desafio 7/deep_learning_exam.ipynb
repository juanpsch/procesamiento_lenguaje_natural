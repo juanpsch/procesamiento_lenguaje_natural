{
  "nbformat": 4,
  "nbformat_minor": 0,
  "metadata": {
    "colab": {
      "name": "Copia de Deep Learning - Clase 8 (Contigiani).ipynb",
      "provenance": [],
      "collapsed_sections": []
    },
    "kernelspec": {
      "name": "python3",
      "display_name": "Python 3"
    },
    "accelerator": "TPU"
  },
  "cells": [
    {
      "cell_type": "markdown",
      "metadata": {
        "id": "ftXnmgdtOuZs"
      },
      "source": [
        "# Universidad de Buenos Aires\n",
        "# Deep Learning - Examen\n",
        "\n",
        "Descargar el dataset del siguiente link: https://drive.google.com/file/d/1X8_G5BpQMi-Nnbtms2RL8lcWSxzD8ixd/view?usp=sharing\n",
        "\n",
        "El dataset son compras de productos que diferentes clientes realizaron durante el black sales.\n",
        "\n",
        "El dataset contiene información sobre las transacciones y el objetivo es poder utilizar el dataset para crear diferentes modelos que puedan predecir cuanto un cliente está dispuesto a gastar en un producto en el futuro. Particularmente, vamos a tratar este problema como una clasificación binaria donde queremos averiguar si el cliente va a gatar mucha plata (más de 9000) o poca plata (menos de 9000).\n",
        "\n",
        "Vamos a construir 4 modelos:\n",
        "\n",
        "* Un modeo que siempre predice que los clientes gastan mucha plata en todos los productos.\n",
        "* Un modelo del tipo de Regresión Logīstica. \n",
        "* Un modelo del tipo Random Forest.\n",
        "* Un modelo del tipo Deep Learning sin embeddings.\n",
        "* Un modelo del tipo Deep Learning con embeddings."
      ]
    },
    {
      "cell_type": "code",
      "metadata": {
        "id": "RLYjGp03v1W_",
        "colab": {
          "base_uri": "https://localhost:8080/"
        },
        "outputId": "44ed6882-8d60-4c52-ae2c-640f942fd467"
      },
      "source": [
        "from google.colab import drive\n",
        "drive.mount('/content/drive')"
      ],
      "execution_count": null,
      "outputs": [
        {
          "output_type": "stream",
          "text": [
            "Drive already mounted at /content/drive; to attempt to forcibly remount, call drive.mount(\"/content/drive\", force_remount=True).\n"
          ],
          "name": "stdout"
        }
      ]
    },
    {
      "cell_type": "code",
      "metadata": {
        "id": "ZF4Nw7wgJxuj"
      },
      "source": [
        "import os\n",
        "os.chdir('/content/drive/My Drive/UBA IA 2020/4-DL1/examen')"
      ],
      "execution_count": null,
      "outputs": []
    },
    {
      "cell_type": "code",
      "metadata": {
        "id": "BsjcxoOJvjLO"
      },
      "source": [
        "import pandas as pd\n",
        "import numpy as np\n",
        "from scipy import stats\n",
        "import matplotlib.pyplot as plt\n",
        "\n",
        "import seaborn as sns\n",
        "sns.set(style=\"ticks\", color_codes=True, font_scale=1.5)\n",
        "\n",
        "from sklearn import preprocessing\n",
        "from sklearn.linear_model import LogisticRegression\n",
        "from sklearn import metrics\n",
        "from sklearn.ensemble import RandomForestClassifier\n",
        "\n",
        "import tensorflow as tf\n",
        "from tensorflow import keras\n",
        "\n",
        "from keras.models import Sequential\n",
        "from keras.layers import Dense\n",
        "from keras.layers import Dropout\n",
        "from keras.utils.vis_utils import plot_model"
      ],
      "execution_count": null,
      "outputs": []
    },
    {
      "cell_type": "code",
      "metadata": {
        "id": "eMSF5nsQJ08y"
      },
      "source": [
        "dataset = pd.read_csv('black_sales.csv')"
      ],
      "execution_count": null,
      "outputs": []
    },
    {
      "cell_type": "markdown",
      "metadata": {
        "id": "8rJppFfPy_Wf"
      },
      "source": [
        "# Análisis de datos\n",
        "\n",
        "1. Imprimir las 5 primeros filas del dataset. \n",
        "2. Imprimir los tipos de cada columna del dataset.\n",
        "3. Imprimir las estadísticas básicas de cada columnas. \n",
        "4. Hacer un histograma de la variable Purchase.\n",
        "5. Que columnas son categóricas y cuales son numéricas?\n",
        "6. Para las columnas categóricas, cuántas clases únicas tienen cada una?"
      ]
    },
    {
      "cell_type": "code",
      "metadata": {
        "id": "t1O4vt45vzZw",
        "colab": {
          "base_uri": "https://localhost:8080/",
          "height": 198
        },
        "outputId": "bc9abdfc-6f36-44ab-c48b-2d0e291bf798"
      },
      "source": [
        "# 1 - Golpe de vista del dataset\n",
        "dataset.head()"
      ],
      "execution_count": null,
      "outputs": [
        {
          "output_type": "execute_result",
          "data": {
            "text/html": [
              "<div>\n",
              "<style scoped>\n",
              "    .dataframe tbody tr th:only-of-type {\n",
              "        vertical-align: middle;\n",
              "    }\n",
              "\n",
              "    .dataframe tbody tr th {\n",
              "        vertical-align: top;\n",
              "    }\n",
              "\n",
              "    .dataframe thead th {\n",
              "        text-align: right;\n",
              "    }\n",
              "</style>\n",
              "<table border=\"1\" class=\"dataframe\">\n",
              "  <thead>\n",
              "    <tr style=\"text-align: right;\">\n",
              "      <th></th>\n",
              "      <th>User_ID</th>\n",
              "      <th>Product_ID</th>\n",
              "      <th>Gender</th>\n",
              "      <th>Age</th>\n",
              "      <th>Occupation</th>\n",
              "      <th>City_Category</th>\n",
              "      <th>Stay_In_Current_City_Years</th>\n",
              "      <th>Marital_Status</th>\n",
              "      <th>Product_Category_1</th>\n",
              "      <th>Product_Category_2</th>\n",
              "      <th>Product_Category_3</th>\n",
              "      <th>Purchase</th>\n",
              "    </tr>\n",
              "  </thead>\n",
              "  <tbody>\n",
              "    <tr>\n",
              "      <th>0</th>\n",
              "      <td>1000001</td>\n",
              "      <td>P00069042</td>\n",
              "      <td>F</td>\n",
              "      <td>0-17</td>\n",
              "      <td>10</td>\n",
              "      <td>A</td>\n",
              "      <td>2</td>\n",
              "      <td>0</td>\n",
              "      <td>3</td>\n",
              "      <td>NaN</td>\n",
              "      <td>NaN</td>\n",
              "      <td>8370</td>\n",
              "    </tr>\n",
              "    <tr>\n",
              "      <th>1</th>\n",
              "      <td>1000001</td>\n",
              "      <td>P00248942</td>\n",
              "      <td>F</td>\n",
              "      <td>0-17</td>\n",
              "      <td>10</td>\n",
              "      <td>A</td>\n",
              "      <td>2</td>\n",
              "      <td>0</td>\n",
              "      <td>1</td>\n",
              "      <td>6.0</td>\n",
              "      <td>14.0</td>\n",
              "      <td>15200</td>\n",
              "    </tr>\n",
              "    <tr>\n",
              "      <th>2</th>\n",
              "      <td>1000001</td>\n",
              "      <td>P00087842</td>\n",
              "      <td>F</td>\n",
              "      <td>0-17</td>\n",
              "      <td>10</td>\n",
              "      <td>A</td>\n",
              "      <td>2</td>\n",
              "      <td>0</td>\n",
              "      <td>12</td>\n",
              "      <td>NaN</td>\n",
              "      <td>NaN</td>\n",
              "      <td>1422</td>\n",
              "    </tr>\n",
              "    <tr>\n",
              "      <th>3</th>\n",
              "      <td>1000001</td>\n",
              "      <td>P00085442</td>\n",
              "      <td>F</td>\n",
              "      <td>0-17</td>\n",
              "      <td>10</td>\n",
              "      <td>A</td>\n",
              "      <td>2</td>\n",
              "      <td>0</td>\n",
              "      <td>12</td>\n",
              "      <td>14.0</td>\n",
              "      <td>NaN</td>\n",
              "      <td>1057</td>\n",
              "    </tr>\n",
              "    <tr>\n",
              "      <th>4</th>\n",
              "      <td>1000002</td>\n",
              "      <td>P00285442</td>\n",
              "      <td>M</td>\n",
              "      <td>55+</td>\n",
              "      <td>16</td>\n",
              "      <td>C</td>\n",
              "      <td>4+</td>\n",
              "      <td>0</td>\n",
              "      <td>8</td>\n",
              "      <td>NaN</td>\n",
              "      <td>NaN</td>\n",
              "      <td>7969</td>\n",
              "    </tr>\n",
              "  </tbody>\n",
              "</table>\n",
              "</div>"
            ],
            "text/plain": [
              "   User_ID Product_ID Gender  ... Product_Category_2  Product_Category_3 Purchase\n",
              "0  1000001  P00069042      F  ...                NaN                 NaN     8370\n",
              "1  1000001  P00248942      F  ...                6.0                14.0    15200\n",
              "2  1000001  P00087842      F  ...                NaN                 NaN     1422\n",
              "3  1000001  P00085442      F  ...               14.0                 NaN     1057\n",
              "4  1000002  P00285442      M  ...                NaN                 NaN     7969\n",
              "\n",
              "[5 rows x 12 columns]"
            ]
          },
          "metadata": {
            "tags": []
          },
          "execution_count": 6
        }
      ]
    },
    {
      "cell_type": "code",
      "metadata": {
        "id": "ToDmzUaQK4I9",
        "colab": {
          "base_uri": "https://localhost:8080/"
        },
        "outputId": "7cba5a69-7439-4d9e-c447-de844069d4cb"
      },
      "source": [
        "# 2 - Info del dataset\n",
        "dataset.info()"
      ],
      "execution_count": null,
      "outputs": [
        {
          "output_type": "stream",
          "text": [
            "<class 'pandas.core.frame.DataFrame'>\n",
            "RangeIndex: 550068 entries, 0 to 550067\n",
            "Data columns (total 12 columns):\n",
            " #   Column                      Non-Null Count   Dtype  \n",
            "---  ------                      --------------   -----  \n",
            " 0   User_ID                     550068 non-null  int64  \n",
            " 1   Product_ID                  550068 non-null  object \n",
            " 2   Gender                      550068 non-null  object \n",
            " 3   Age                         550068 non-null  object \n",
            " 4   Occupation                  550068 non-null  int64  \n",
            " 5   City_Category               550068 non-null  object \n",
            " 6   Stay_In_Current_City_Years  550068 non-null  object \n",
            " 7   Marital_Status              550068 non-null  int64  \n",
            " 8   Product_Category_1          550068 non-null  int64  \n",
            " 9   Product_Category_2          376430 non-null  float64\n",
            " 10  Product_Category_3          166821 non-null  float64\n",
            " 11  Purchase                    550068 non-null  int64  \n",
            "dtypes: float64(2), int64(5), object(5)\n",
            "memory usage: 50.4+ MB\n"
          ],
          "name": "stdout"
        }
      ]
    },
    {
      "cell_type": "code",
      "metadata": {
        "id": "MOnBlc98LDBP",
        "colab": {
          "base_uri": "https://localhost:8080/",
          "height": 288
        },
        "outputId": "addbd0f7-82ae-4e35-9bbb-cacb5242c236"
      },
      "source": [
        "# 3 - Estadiística\n",
        "dataset.describe()"
      ],
      "execution_count": null,
      "outputs": [
        {
          "output_type": "execute_result",
          "data": {
            "text/html": [
              "<div>\n",
              "<style scoped>\n",
              "    .dataframe tbody tr th:only-of-type {\n",
              "        vertical-align: middle;\n",
              "    }\n",
              "\n",
              "    .dataframe tbody tr th {\n",
              "        vertical-align: top;\n",
              "    }\n",
              "\n",
              "    .dataframe thead th {\n",
              "        text-align: right;\n",
              "    }\n",
              "</style>\n",
              "<table border=\"1\" class=\"dataframe\">\n",
              "  <thead>\n",
              "    <tr style=\"text-align: right;\">\n",
              "      <th></th>\n",
              "      <th>User_ID</th>\n",
              "      <th>Occupation</th>\n",
              "      <th>Marital_Status</th>\n",
              "      <th>Product_Category_1</th>\n",
              "      <th>Product_Category_2</th>\n",
              "      <th>Product_Category_3</th>\n",
              "      <th>Purchase</th>\n",
              "    </tr>\n",
              "  </thead>\n",
              "  <tbody>\n",
              "    <tr>\n",
              "      <th>count</th>\n",
              "      <td>5.500680e+05</td>\n",
              "      <td>550068.000000</td>\n",
              "      <td>550068.000000</td>\n",
              "      <td>550068.000000</td>\n",
              "      <td>376430.000000</td>\n",
              "      <td>166821.000000</td>\n",
              "      <td>550068.000000</td>\n",
              "    </tr>\n",
              "    <tr>\n",
              "      <th>mean</th>\n",
              "      <td>1.003029e+06</td>\n",
              "      <td>8.076707</td>\n",
              "      <td>0.409653</td>\n",
              "      <td>5.404270</td>\n",
              "      <td>9.842329</td>\n",
              "      <td>12.668243</td>\n",
              "      <td>9263.968713</td>\n",
              "    </tr>\n",
              "    <tr>\n",
              "      <th>std</th>\n",
              "      <td>1.727592e+03</td>\n",
              "      <td>6.522660</td>\n",
              "      <td>0.491770</td>\n",
              "      <td>3.936211</td>\n",
              "      <td>5.086590</td>\n",
              "      <td>4.125338</td>\n",
              "      <td>5023.065394</td>\n",
              "    </tr>\n",
              "    <tr>\n",
              "      <th>min</th>\n",
              "      <td>1.000001e+06</td>\n",
              "      <td>0.000000</td>\n",
              "      <td>0.000000</td>\n",
              "      <td>1.000000</td>\n",
              "      <td>2.000000</td>\n",
              "      <td>3.000000</td>\n",
              "      <td>12.000000</td>\n",
              "    </tr>\n",
              "    <tr>\n",
              "      <th>25%</th>\n",
              "      <td>1.001516e+06</td>\n",
              "      <td>2.000000</td>\n",
              "      <td>0.000000</td>\n",
              "      <td>1.000000</td>\n",
              "      <td>5.000000</td>\n",
              "      <td>9.000000</td>\n",
              "      <td>5823.000000</td>\n",
              "    </tr>\n",
              "    <tr>\n",
              "      <th>50%</th>\n",
              "      <td>1.003077e+06</td>\n",
              "      <td>7.000000</td>\n",
              "      <td>0.000000</td>\n",
              "      <td>5.000000</td>\n",
              "      <td>9.000000</td>\n",
              "      <td>14.000000</td>\n",
              "      <td>8047.000000</td>\n",
              "    </tr>\n",
              "    <tr>\n",
              "      <th>75%</th>\n",
              "      <td>1.004478e+06</td>\n",
              "      <td>14.000000</td>\n",
              "      <td>1.000000</td>\n",
              "      <td>8.000000</td>\n",
              "      <td>15.000000</td>\n",
              "      <td>16.000000</td>\n",
              "      <td>12054.000000</td>\n",
              "    </tr>\n",
              "    <tr>\n",
              "      <th>max</th>\n",
              "      <td>1.006040e+06</td>\n",
              "      <td>20.000000</td>\n",
              "      <td>1.000000</td>\n",
              "      <td>20.000000</td>\n",
              "      <td>18.000000</td>\n",
              "      <td>18.000000</td>\n",
              "      <td>23961.000000</td>\n",
              "    </tr>\n",
              "  </tbody>\n",
              "</table>\n",
              "</div>"
            ],
            "text/plain": [
              "            User_ID     Occupation  ...  Product_Category_3       Purchase\n",
              "count  5.500680e+05  550068.000000  ...       166821.000000  550068.000000\n",
              "mean   1.003029e+06       8.076707  ...           12.668243    9263.968713\n",
              "std    1.727592e+03       6.522660  ...            4.125338    5023.065394\n",
              "min    1.000001e+06       0.000000  ...            3.000000      12.000000\n",
              "25%    1.001516e+06       2.000000  ...            9.000000    5823.000000\n",
              "50%    1.003077e+06       7.000000  ...           14.000000    8047.000000\n",
              "75%    1.004478e+06      14.000000  ...           16.000000   12054.000000\n",
              "max    1.006040e+06      20.000000  ...           18.000000   23961.000000\n",
              "\n",
              "[8 rows x 7 columns]"
            ]
          },
          "metadata": {
            "tags": []
          },
          "execution_count": 8
        }
      ]
    },
    {
      "cell_type": "code",
      "metadata": {
        "id": "i_DRS4vULQn6",
        "colab": {
          "base_uri": "https://localhost:8080/",
          "height": 295
        },
        "outputId": "d9a18efc-1458-4ccf-9845-d655dd2798fb"
      },
      "source": [
        "# 4 - Histograma de purchase\n",
        "dataset['Purchase'].hist()"
      ],
      "execution_count": null,
      "outputs": [
        {
          "output_type": "execute_result",
          "data": {
            "text/plain": [
              "<matplotlib.axes._subplots.AxesSubplot at 0x7f8100fa6470>"
            ]
          },
          "metadata": {
            "tags": []
          },
          "execution_count": 9
        },
        {
          "output_type": "display_data",
          "data": {
            "image/png": "[encoded data removed]",
            "text/plain": [
              "<Figure size 432x288 with 1 Axes>"
            ]
          },
          "metadata": {
            "tags": []
          }
        }
      ]
    },
    {
      "cell_type": "markdown",
      "metadata": {
        "id": "y12Vzpy8Ljyz"
      },
      "source": [
        "5 - Variables categóricas y numércias\n",
        "Categóricas:\n",
        "- User_ID --> Representan los IDs de los usuarios\n",
        "- Product_id --> Representa los IDs de los productos\n",
        "- Gender --> (F) o (M)\n",
        "- Age --> Rango de edades\n",
        "- Occupation --> Representan los ids de tipo de ocupación\n",
        "- City_Category --> Categoría de la ciudad\n",
        "- Stay_In_Current_City_Years --> Rango de tiempo en la ciudad\n",
        "- Marital_Status --> Representan el estado marital (0 o 1)\n",
        "- Product_Category_1/2/3 --> Repesentan categórias de productos, pero están en formato Ids\n",
        "\n",
        "Numéricas:\n",
        "- Purchase --> Monto gastado en la compra\n"
      ]
    },
    {
      "cell_type": "code",
      "metadata": {
        "id": "RMJiMQzzOGNx",
        "colab": {
          "base_uri": "https://localhost:8080/"
        },
        "outputId": "9f4cf154-f00b-46dd-9da9-45f6aa7ac575"
      },
      "source": [
        "# 6 - Cantidad de clases\n",
        "print('Cantidad de clases:', dataset['User_ID'].nunique())\n",
        "dataset['User_ID'].value_counts()"
      ],
      "execution_count": null,
      "outputs": [
        {
          "output_type": "stream",
          "text": [
            "Cantidad de clases: 5891\n"
          ],
          "name": "stdout"
        },
        {
          "output_type": "execute_result",
          "data": {
            "text/plain": [
              "1001680    1026\n",
              "1004277     979\n",
              "1001941     898\n",
              "1001181     862\n",
              "1000889     823\n",
              "           ... \n",
              "1000094       7\n",
              "1002111       7\n",
              "1004991       7\n",
              "1005608       7\n",
              "1000708       6\n",
              "Name: User_ID, Length: 5891, dtype: int64"
            ]
          },
          "metadata": {
            "tags": []
          },
          "execution_count": 10
        }
      ]
    },
    {
      "cell_type": "code",
      "metadata": {
        "id": "I7FK0sCqPhlI",
        "colab": {
          "base_uri": "https://localhost:8080/"
        },
        "outputId": "6e2299fc-a6d4-42ac-a224-502bea854840"
      },
      "source": [
        "print('Cantidad de clases:', dataset['Product_ID'].nunique())\n",
        "dataset['Product_ID'].value_counts()"
      ],
      "execution_count": null,
      "outputs": [
        {
          "output_type": "stream",
          "text": [
            "Cantidad de clases: 3631\n"
          ],
          "name": "stdout"
        },
        {
          "output_type": "execute_result",
          "data": {
            "text/plain": [
              "P00265242    1880\n",
              "P00025442    1615\n",
              "P00110742    1612\n",
              "P00112142    1562\n",
              "P00057642    1470\n",
              "             ... \n",
              "P00013442       1\n",
              "P00241842       1\n",
              "P00106342       1\n",
              "P00208642       1\n",
              "P00315242       1\n",
              "Name: Product_ID, Length: 3631, dtype: int64"
            ]
          },
          "metadata": {
            "tags": []
          },
          "execution_count": 11
        }
      ]
    },
    {
      "cell_type": "code",
      "metadata": {
        "id": "7AYwnnhtPb-v",
        "colab": {
          "base_uri": "https://localhost:8080/"
        },
        "outputId": "e2a900f2-d35c-445b-c580-baecdcf69b78"
      },
      "source": [
        "print('Cantidad de clases:', dataset['Gender'].nunique())\n",
        "dataset['Gender'].value_counts()"
      ],
      "execution_count": null,
      "outputs": [
        {
          "output_type": "stream",
          "text": [
            "Cantidad de clases: 2\n"
          ],
          "name": "stdout"
        },
        {
          "output_type": "execute_result",
          "data": {
            "text/plain": [
              "M    414259\n",
              "F    135809\n",
              "Name: Gender, dtype: int64"
            ]
          },
          "metadata": {
            "tags": []
          },
          "execution_count": 12
        }
      ]
    },
    {
      "cell_type": "code",
      "metadata": {
        "id": "Lo1SU7oMONRH",
        "colab": {
          "base_uri": "https://localhost:8080/"
        },
        "outputId": "7b435d5e-5ca9-44a5-db22-06a2a7ab76a5"
      },
      "source": [
        "print('Cantidad de clases:', dataset['Age'].nunique())\n",
        "dataset['Age'].value_counts()"
      ],
      "execution_count": null,
      "outputs": [
        {
          "output_type": "stream",
          "text": [
            "Cantidad de clases: 7\n"
          ],
          "name": "stdout"
        },
        {
          "output_type": "execute_result",
          "data": {
            "text/plain": [
              "26-35    219587\n",
              "36-45    110013\n",
              "18-25     99660\n",
              "46-50     45701\n",
              "51-55     38501\n",
              "55+       21504\n",
              "0-17      15102\n",
              "Name: Age, dtype: int64"
            ]
          },
          "metadata": {
            "tags": []
          },
          "execution_count": 13
        }
      ]
    },
    {
      "cell_type": "code",
      "metadata": {
        "id": "5nQYcXdfORnB",
        "colab": {
          "base_uri": "https://localhost:8080/"
        },
        "outputId": "87a7bbc3-d521-47e0-8247-e4554a133299"
      },
      "source": [
        "print('Cantidad de clases:', dataset['City_Category'].nunique())\n",
        "dataset['City_Category'].value_counts()"
      ],
      "execution_count": null,
      "outputs": [
        {
          "output_type": "stream",
          "text": [
            "Cantidad de clases: 3\n"
          ],
          "name": "stdout"
        },
        {
          "output_type": "execute_result",
          "data": {
            "text/plain": [
              "B    231173\n",
              "C    171175\n",
              "A    147720\n",
              "Name: City_Category, dtype: int64"
            ]
          },
          "metadata": {
            "tags": []
          },
          "execution_count": 14
        }
      ]
    },
    {
      "cell_type": "code",
      "metadata": {
        "id": "qZlSkXpwOXvy",
        "colab": {
          "base_uri": "https://localhost:8080/"
        },
        "outputId": "10e9bcd7-2f5c-4341-81ae-d22633db68cf"
      },
      "source": [
        "print('Cantidad de clases:', dataset['Stay_In_Current_City_Years'].nunique())\n",
        "dataset['Stay_In_Current_City_Years'].value_counts()"
      ],
      "execution_count": null,
      "outputs": [
        {
          "output_type": "stream",
          "text": [
            "Cantidad de clases: 5\n"
          ],
          "name": "stdout"
        },
        {
          "output_type": "execute_result",
          "data": {
            "text/plain": [
              "1     193821\n",
              "2     101838\n",
              "3      95285\n",
              "4+     84726\n",
              "0      74398\n",
              "Name: Stay_In_Current_City_Years, dtype: int64"
            ]
          },
          "metadata": {
            "tags": []
          },
          "execution_count": 15
        }
      ]
    },
    {
      "cell_type": "code",
      "metadata": {
        "id": "HIxvprqbOd54",
        "colab": {
          "base_uri": "https://localhost:8080/"
        },
        "outputId": "0f019843-e5f1-4629-9cad-92f5a42ce112"
      },
      "source": [
        "print('Cantidad de clases:', dataset['Occupation'].nunique())\n",
        "dataset['Occupation'].value_counts()\n"
      ],
      "execution_count": null,
      "outputs": [
        {
          "output_type": "stream",
          "text": [
            "Cantidad de clases: 21\n"
          ],
          "name": "stdout"
        },
        {
          "output_type": "execute_result",
          "data": {
            "text/plain": [
              "4     72308\n",
              "0     69638\n",
              "7     59133\n",
              "1     47426\n",
              "17    40043\n",
              "20    33562\n",
              "12    31179\n",
              "14    27309\n",
              "2     26588\n",
              "16    25371\n",
              "6     20355\n",
              "3     17650\n",
              "10    12930\n",
              "5     12177\n",
              "15    12165\n",
              "11    11586\n",
              "19     8461\n",
              "13     7728\n",
              "18     6622\n",
              "9      6291\n",
              "8      1546\n",
              "Name: Occupation, dtype: int64"
            ]
          },
          "metadata": {
            "tags": []
          },
          "execution_count": 16
        }
      ]
    },
    {
      "cell_type": "code",
      "metadata": {
        "id": "lM1baLtYOlrE",
        "colab": {
          "base_uri": "https://localhost:8080/"
        },
        "outputId": "17476667-a913-44c0-c46e-57828df19c07"
      },
      "source": [
        "print('Cantidad de clases:', dataset['Marital_Status'].nunique())\n",
        "dataset['Marital_Status'].value_counts()"
      ],
      "execution_count": null,
      "outputs": [
        {
          "output_type": "stream",
          "text": [
            "Cantidad de clases: 2\n"
          ],
          "name": "stdout"
        },
        {
          "output_type": "execute_result",
          "data": {
            "text/plain": [
              "0    324731\n",
              "1    225337\n",
              "Name: Marital_Status, dtype: int64"
            ]
          },
          "metadata": {
            "tags": []
          },
          "execution_count": 17
        }
      ]
    },
    {
      "cell_type": "code",
      "metadata": {
        "id": "Pftu3_E1PKbk",
        "colab": {
          "base_uri": "https://localhost:8080/"
        },
        "outputId": "2f57585c-5061-4e40-fe9e-4a2936ccd516"
      },
      "source": [
        "print('Cantidad de clases:', dataset['Product_Category_1'].nunique())\n",
        "dataset['Product_Category_1'].value_counts()"
      ],
      "execution_count": null,
      "outputs": [
        {
          "output_type": "stream",
          "text": [
            "Cantidad de clases: 20\n"
          ],
          "name": "stdout"
        },
        {
          "output_type": "execute_result",
          "data": {
            "text/plain": [
              "5     150933\n",
              "1     140378\n",
              "8     113925\n",
              "11     24287\n",
              "2      23864\n",
              "6      20466\n",
              "3      20213\n",
              "4      11753\n",
              "16      9828\n",
              "15      6290\n",
              "13      5549\n",
              "10      5125\n",
              "12      3947\n",
              "7       3721\n",
              "18      3125\n",
              "20      2550\n",
              "19      1603\n",
              "14      1523\n",
              "17       578\n",
              "9        410\n",
              "Name: Product_Category_1, dtype: int64"
            ]
          },
          "metadata": {
            "tags": []
          },
          "execution_count": 18
        }
      ]
    },
    {
      "cell_type": "code",
      "metadata": {
        "id": "rV6OzOhGPPZL",
        "colab": {
          "base_uri": "https://localhost:8080/"
        },
        "outputId": "e8af4f8d-c0fe-4041-f6e9-62b975317319"
      },
      "source": [
        "print('Cantidad de clases:', dataset['Product_Category_2'].nunique())\n",
        "dataset['Product_Category_1'].value_counts()"
      ],
      "execution_count": null,
      "outputs": [
        {
          "output_type": "stream",
          "text": [
            "Cantidad de clases: 17\n"
          ],
          "name": "stdout"
        },
        {
          "output_type": "execute_result",
          "data": {
            "text/plain": [
              "5     150933\n",
              "1     140378\n",
              "8     113925\n",
              "11     24287\n",
              "2      23864\n",
              "6      20466\n",
              "3      20213\n",
              "4      11753\n",
              "16      9828\n",
              "15      6290\n",
              "13      5549\n",
              "10      5125\n",
              "12      3947\n",
              "7       3721\n",
              "18      3125\n",
              "20      2550\n",
              "19      1603\n",
              "14      1523\n",
              "17       578\n",
              "9        410\n",
              "Name: Product_Category_1, dtype: int64"
            ]
          },
          "metadata": {
            "tags": []
          },
          "execution_count": 19
        }
      ]
    },
    {
      "cell_type": "code",
      "metadata": {
        "id": "7yYGHFSCPP2x",
        "colab": {
          "base_uri": "https://localhost:8080/"
        },
        "outputId": "b4b293db-a377-48da-8cc3-7278055384b4"
      },
      "source": [
        "print('Cantidad de clases:', dataset['Product_Category_3'].nunique())\n",
        "dataset['Product_Category_1'].value_counts()"
      ],
      "execution_count": null,
      "outputs": [
        {
          "output_type": "stream",
          "text": [
            "Cantidad de clases: 15\n"
          ],
          "name": "stdout"
        },
        {
          "output_type": "execute_result",
          "data": {
            "text/plain": [
              "5     150933\n",
              "1     140378\n",
              "8     113925\n",
              "11     24287\n",
              "2      23864\n",
              "6      20466\n",
              "3      20213\n",
              "4      11753\n",
              "16      9828\n",
              "15      6290\n",
              "13      5549\n",
              "10      5125\n",
              "12      3947\n",
              "7       3721\n",
              "18      3125\n",
              "20      2550\n",
              "19      1603\n",
              "14      1523\n",
              "17       578\n",
              "9        410\n",
              "Name: Product_Category_1, dtype: int64"
            ]
          },
          "metadata": {
            "tags": []
          },
          "execution_count": 20
        }
      ]
    },
    {
      "cell_type": "markdown",
      "metadata": {
        "id": "L4BRHI9azEfL"
      },
      "source": [
        "# Limpieza de datos\n",
        "\n",
        "1. Que columnas tienen NaNs?\n",
        "2. Si la cantidad de filas afectas por NaNs es grande, se propone reemplazar los NaNs por una nueva clase, por ejemplo el valor 999. \n"
      ]
    },
    {
      "cell_type": "code",
      "metadata": {
        "id": "ugQyKyUczHMY",
        "colab": {
          "base_uri": "https://localhost:8080/",
          "height": 348
        },
        "outputId": "a9103005-f6f9-44b5-97ad-16dbb1a31e7b"
      },
      "source": [
        "# 1 - Que columnas tienen NaNs\n",
        "des = dataset.describe()\n",
        "des.loc['Nan'] = dataset.isna().sum()\n",
        "des.loc['%Nan'] = (dataset.isna().mean())*100\n",
        "des"
      ],
      "execution_count": null,
      "outputs": [
        {
          "output_type": "execute_result",
          "data": {
            "text/html": [
              "<div>\n",
              "<style scoped>\n",
              "    .dataframe tbody tr th:only-of-type {\n",
              "        vertical-align: middle;\n",
              "    }\n",
              "\n",
              "    .dataframe tbody tr th {\n",
              "        vertical-align: top;\n",
              "    }\n",
              "\n",
              "    .dataframe thead th {\n",
              "        text-align: right;\n",
              "    }\n",
              "</style>\n",
              "<table border=\"1\" class=\"dataframe\">\n",
              "  <thead>\n",
              "    <tr style=\"text-align: right;\">\n",
              "      <th></th>\n",
              "      <th>User_ID</th>\n",
              "      <th>Occupation</th>\n",
              "      <th>Marital_Status</th>\n",
              "      <th>Product_Category_1</th>\n",
              "      <th>Product_Category_2</th>\n",
              "      <th>Product_Category_3</th>\n",
              "      <th>Purchase</th>\n",
              "    </tr>\n",
              "  </thead>\n",
              "  <tbody>\n",
              "    <tr>\n",
              "      <th>count</th>\n",
              "      <td>5.500680e+05</td>\n",
              "      <td>550068.000000</td>\n",
              "      <td>550068.000000</td>\n",
              "      <td>550068.000000</td>\n",
              "      <td>376430.000000</td>\n",
              "      <td>166821.000000</td>\n",
              "      <td>550068.000000</td>\n",
              "    </tr>\n",
              "    <tr>\n",
              "      <th>mean</th>\n",
              "      <td>1.003029e+06</td>\n",
              "      <td>8.076707</td>\n",
              "      <td>0.409653</td>\n",
              "      <td>5.404270</td>\n",
              "      <td>9.842329</td>\n",
              "      <td>12.668243</td>\n",
              "      <td>9263.968713</td>\n",
              "    </tr>\n",
              "    <tr>\n",
              "      <th>std</th>\n",
              "      <td>1.727592e+03</td>\n",
              "      <td>6.522660</td>\n",
              "      <td>0.491770</td>\n",
              "      <td>3.936211</td>\n",
              "      <td>5.086590</td>\n",
              "      <td>4.125338</td>\n",
              "      <td>5023.065394</td>\n",
              "    </tr>\n",
              "    <tr>\n",
              "      <th>min</th>\n",
              "      <td>1.000001e+06</td>\n",
              "      <td>0.000000</td>\n",
              "      <td>0.000000</td>\n",
              "      <td>1.000000</td>\n",
              "      <td>2.000000</td>\n",
              "      <td>3.000000</td>\n",
              "      <td>12.000000</td>\n",
              "    </tr>\n",
              "    <tr>\n",
              "      <th>25%</th>\n",
              "      <td>1.001516e+06</td>\n",
              "      <td>2.000000</td>\n",
              "      <td>0.000000</td>\n",
              "      <td>1.000000</td>\n",
              "      <td>5.000000</td>\n",
              "      <td>9.000000</td>\n",
              "      <td>5823.000000</td>\n",
              "    </tr>\n",
              "    <tr>\n",
              "      <th>50%</th>\n",
              "      <td>1.003077e+06</td>\n",
              "      <td>7.000000</td>\n",
              "      <td>0.000000</td>\n",
              "      <td>5.000000</td>\n",
              "      <td>9.000000</td>\n",
              "      <td>14.000000</td>\n",
              "      <td>8047.000000</td>\n",
              "    </tr>\n",
              "    <tr>\n",
              "      <th>75%</th>\n",
              "      <td>1.004478e+06</td>\n",
              "      <td>14.000000</td>\n",
              "      <td>1.000000</td>\n",
              "      <td>8.000000</td>\n",
              "      <td>15.000000</td>\n",
              "      <td>16.000000</td>\n",
              "      <td>12054.000000</td>\n",
              "    </tr>\n",
              "    <tr>\n",
              "      <th>max</th>\n",
              "      <td>1.006040e+06</td>\n",
              "      <td>20.000000</td>\n",
              "      <td>1.000000</td>\n",
              "      <td>20.000000</td>\n",
              "      <td>18.000000</td>\n",
              "      <td>18.000000</td>\n",
              "      <td>23961.000000</td>\n",
              "    </tr>\n",
              "    <tr>\n",
              "      <th>Nan</th>\n",
              "      <td>0.000000e+00</td>\n",
              "      <td>0.000000</td>\n",
              "      <td>0.000000</td>\n",
              "      <td>0.000000</td>\n",
              "      <td>173638.000000</td>\n",
              "      <td>383247.000000</td>\n",
              "      <td>0.000000</td>\n",
              "    </tr>\n",
              "    <tr>\n",
              "      <th>%Nan</th>\n",
              "      <td>0.000000e+00</td>\n",
              "      <td>0.000000</td>\n",
              "      <td>0.000000</td>\n",
              "      <td>0.000000</td>\n",
              "      <td>31.566643</td>\n",
              "      <td>69.672659</td>\n",
              "      <td>0.000000</td>\n",
              "    </tr>\n",
              "  </tbody>\n",
              "</table>\n",
              "</div>"
            ],
            "text/plain": [
              "            User_ID     Occupation  ...  Product_Category_3       Purchase\n",
              "count  5.500680e+05  550068.000000  ...       166821.000000  550068.000000\n",
              "mean   1.003029e+06       8.076707  ...           12.668243    9263.968713\n",
              "std    1.727592e+03       6.522660  ...            4.125338    5023.065394\n",
              "min    1.000001e+06       0.000000  ...            3.000000      12.000000\n",
              "25%    1.001516e+06       2.000000  ...            9.000000    5823.000000\n",
              "50%    1.003077e+06       7.000000  ...           14.000000    8047.000000\n",
              "75%    1.004478e+06      14.000000  ...           16.000000   12054.000000\n",
              "max    1.006040e+06      20.000000  ...           18.000000   23961.000000\n",
              "Nan    0.000000e+00       0.000000  ...       383247.000000       0.000000\n",
              "%Nan   0.000000e+00       0.000000  ...           69.672659       0.000000\n",
              "\n",
              "[10 rows x 7 columns]"
            ]
          },
          "metadata": {
            "tags": []
          },
          "execution_count": 21
        }
      ]
    },
    {
      "cell_type": "markdown",
      "metadata": {
        "id": "zJISRKM7NBhT"
      },
      "source": [
        "Se puede observar que tanto Product_Category_2 como Product_Category_3 poseen NaNs en una gran proporcioón (31% y 69% respectivamente. No es posible descartar tantas filas, hay que reemplazar.\n"
      ]
    },
    {
      "cell_type": "code",
      "metadata": {
        "id": "2ByAKqA1NNug",
        "colab": {
          "base_uri": "https://localhost:8080/",
          "height": 348
        },
        "outputId": "4ea30344-1246-4f32-990b-04ab013924e9"
      },
      "source": [
        "# 2 - Completar los NaN con la categoría 999\n",
        "df = dataset.copy()\n",
        "df.loc[:, ['Product_Category_2', 'Product_Category_3']] = df[['Product_Category_2', 'Product_Category_3']].fillna(999)\n",
        "des = df.describe()\n",
        "des.loc['Nan'] = df.isna().sum()\n",
        "des.loc['%Nan'] = (df.isna().mean())*100\n",
        "des"
      ],
      "execution_count": null,
      "outputs": [
        {
          "output_type": "execute_result",
          "data": {
            "text/html": [
              "<div>\n",
              "<style scoped>\n",
              "    .dataframe tbody tr th:only-of-type {\n",
              "        vertical-align: middle;\n",
              "    }\n",
              "\n",
              "    .dataframe tbody tr th {\n",
              "        vertical-align: top;\n",
              "    }\n",
              "\n",
              "    .dataframe thead th {\n",
              "        text-align: right;\n",
              "    }\n",
              "</style>\n",
              "<table border=\"1\" class=\"dataframe\">\n",
              "  <thead>\n",
              "    <tr style=\"text-align: right;\">\n",
              "      <th></th>\n",
              "      <th>User_ID</th>\n",
              "      <th>Occupation</th>\n",
              "      <th>Marital_Status</th>\n",
              "      <th>Product_Category_1</th>\n",
              "      <th>Product_Category_2</th>\n",
              "      <th>Product_Category_3</th>\n",
              "      <th>Purchase</th>\n",
              "    </tr>\n",
              "  </thead>\n",
              "  <tbody>\n",
              "    <tr>\n",
              "      <th>count</th>\n",
              "      <td>5.500680e+05</td>\n",
              "      <td>550068.000000</td>\n",
              "      <td>550068.000000</td>\n",
              "      <td>550068.000000</td>\n",
              "      <td>550068.000000</td>\n",
              "      <td>550068.000000</td>\n",
              "      <td>550068.000000</td>\n",
              "    </tr>\n",
              "    <tr>\n",
              "      <th>mean</th>\n",
              "      <td>1.003029e+06</td>\n",
              "      <td>8.076707</td>\n",
              "      <td>0.409653</td>\n",
              "      <td>5.404270</td>\n",
              "      <td>322.086197</td>\n",
              "      <td>699.871801</td>\n",
              "      <td>9263.968713</td>\n",
              "    </tr>\n",
              "    <tr>\n",
              "      <th>std</th>\n",
              "      <td>1.727592e+03</td>\n",
              "      <td>6.522660</td>\n",
              "      <td>0.491770</td>\n",
              "      <td>3.936211</td>\n",
              "      <td>459.761105</td>\n",
              "      <td>453.395520</td>\n",
              "      <td>5023.065394</td>\n",
              "    </tr>\n",
              "    <tr>\n",
              "      <th>min</th>\n",
              "      <td>1.000001e+06</td>\n",
              "      <td>0.000000</td>\n",
              "      <td>0.000000</td>\n",
              "      <td>1.000000</td>\n",
              "      <td>2.000000</td>\n",
              "      <td>3.000000</td>\n",
              "      <td>12.000000</td>\n",
              "    </tr>\n",
              "    <tr>\n",
              "      <th>25%</th>\n",
              "      <td>1.001516e+06</td>\n",
              "      <td>2.000000</td>\n",
              "      <td>0.000000</td>\n",
              "      <td>1.000000</td>\n",
              "      <td>8.000000</td>\n",
              "      <td>16.000000</td>\n",
              "      <td>5823.000000</td>\n",
              "    </tr>\n",
              "    <tr>\n",
              "      <th>50%</th>\n",
              "      <td>1.003077e+06</td>\n",
              "      <td>7.000000</td>\n",
              "      <td>0.000000</td>\n",
              "      <td>5.000000</td>\n",
              "      <td>14.000000</td>\n",
              "      <td>999.000000</td>\n",
              "      <td>8047.000000</td>\n",
              "    </tr>\n",
              "    <tr>\n",
              "      <th>75%</th>\n",
              "      <td>1.004478e+06</td>\n",
              "      <td>14.000000</td>\n",
              "      <td>1.000000</td>\n",
              "      <td>8.000000</td>\n",
              "      <td>999.000000</td>\n",
              "      <td>999.000000</td>\n",
              "      <td>12054.000000</td>\n",
              "    </tr>\n",
              "    <tr>\n",
              "      <th>max</th>\n",
              "      <td>1.006040e+06</td>\n",
              "      <td>20.000000</td>\n",
              "      <td>1.000000</td>\n",
              "      <td>20.000000</td>\n",
              "      <td>999.000000</td>\n",
              "      <td>999.000000</td>\n",
              "      <td>23961.000000</td>\n",
              "    </tr>\n",
              "    <tr>\n",
              "      <th>Nan</th>\n",
              "      <td>0.000000e+00</td>\n",
              "      <td>0.000000</td>\n",
              "      <td>0.000000</td>\n",
              "      <td>0.000000</td>\n",
              "      <td>0.000000</td>\n",
              "      <td>0.000000</td>\n",
              "      <td>0.000000</td>\n",
              "    </tr>\n",
              "    <tr>\n",
              "      <th>%Nan</th>\n",
              "      <td>0.000000e+00</td>\n",
              "      <td>0.000000</td>\n",
              "      <td>0.000000</td>\n",
              "      <td>0.000000</td>\n",
              "      <td>0.000000</td>\n",
              "      <td>0.000000</td>\n",
              "      <td>0.000000</td>\n",
              "    </tr>\n",
              "  </tbody>\n",
              "</table>\n",
              "</div>"
            ],
            "text/plain": [
              "            User_ID     Occupation  ...  Product_Category_3       Purchase\n",
              "count  5.500680e+05  550068.000000  ...       550068.000000  550068.000000\n",
              "mean   1.003029e+06       8.076707  ...          699.871801    9263.968713\n",
              "std    1.727592e+03       6.522660  ...          453.395520    5023.065394\n",
              "min    1.000001e+06       0.000000  ...            3.000000      12.000000\n",
              "25%    1.001516e+06       2.000000  ...           16.000000    5823.000000\n",
              "50%    1.003077e+06       7.000000  ...          999.000000    8047.000000\n",
              "75%    1.004478e+06      14.000000  ...          999.000000   12054.000000\n",
              "max    1.006040e+06      20.000000  ...          999.000000   23961.000000\n",
              "Nan    0.000000e+00       0.000000  ...            0.000000       0.000000\n",
              "%Nan   0.000000e+00       0.000000  ...            0.000000       0.000000\n",
              "\n",
              "[10 rows x 7 columns]"
            ]
          },
          "metadata": {
            "tags": []
          },
          "execution_count": 22
        }
      ]
    },
    {
      "cell_type": "markdown",
      "metadata": {
        "id": "kFOEkF06zHpP"
      },
      "source": [
        "# Ingeniería de features\n",
        "\n",
        "1. Transformar todas las variables categoricas (expecto User_Id y Prdoct_Id) en one-hot-encoding. \n",
        "2. Crear un index para User_Id y Product_id, para poder entrenar un modelo de Deep Learning con embeddings.\n",
        "3. Porque es importante crear un index para entrenar el modelo de Deep Learning con embeddings?\n",
        "4. Porque es importante guardar el mapping de id a index?\n",
        "5. Transformar la variable Purchase en una variable purchase_binary, tal que todos los valores mayores a 9000 hagan un mapping a 1 y todos los valores menores o iguales a 9000 hagan un mapping a 0.\n",
        "6. Normalizar todos los valores entre 0 y 1.\n",
        "7. Hacer un split del dataset en training (70%), validation (20%) y testing (10%). Para crear el dataset de training se recomienda separar User_id y Product_id de la matriz x_train, x_valid y x_test. Pero también obtener user_idx_train, user_idx_valid y user_idex_test de tal manera que sea correspondientes con las matrices x. Lo mismo para el Product_Id. "
      ]
    },
    {
      "cell_type": "code",
      "metadata": {
        "id": "atxZG4c8zJZk",
        "colab": {
          "base_uri": "https://localhost:8080/",
          "height": 283
        },
        "outputId": "4a41da2e-4199-4028-acb3-b5b98f1daeb9"
      },
      "source": [
        "# 1 - OneHotEncoding\n",
        "df_coded = df[['User_ID', 'Product_ID', 'Purchase']]\n",
        "\n",
        "df_coded = pd.concat([df_coded, pd.get_dummies(df['Gender'], prefix='Gender')], axis=1)\n",
        "df_coded = pd.concat([df_coded, pd.get_dummies(df['Age'], prefix='Age')], axis=1)\n",
        "df_coded = pd.concat([df_coded, pd.get_dummies(df['Occupation'], prefix='Occupation')], axis=1)\n",
        "df_coded = pd.concat([df_coded, pd.get_dummies(df['City_Category'], prefix='City_Category')], axis=1)\n",
        "df_coded = pd.concat([df_coded, pd.get_dummies(df['Stay_In_Current_City_Years'], prefix='Stay_In_Current_City_Years')], axis=1)\n",
        "df_coded = pd.concat([df_coded, pd.get_dummies(df['Marital_Status'], prefix='Marital_Status')], axis=1)\n",
        "df_coded = pd.concat([df_coded, pd.get_dummies(df['Product_Category_1'], prefix='Product_Category_1')], axis=1)\n",
        "df_coded = pd.concat([df_coded, pd.get_dummies(df['Product_Category_2'], prefix='Product_Category_2')], axis=1)\n",
        "df_coded = pd.concat([df_coded, pd.get_dummies(df['Product_Category_3'], prefix='Product_Category_3')], axis=1)\n",
        "\n",
        "print('Cantidad de coulmnas:', df_coded.shape[1])\n",
        "df_coded.head()"
      ],
      "execution_count": null,
      "outputs": [
        {
          "output_type": "stream",
          "text": [
            "Cantidad de coulmnas: 97\n"
          ],
          "name": "stdout"
        },
        {
          "output_type": "execute_result",
          "data": {
            "text/html": [
              "<div>\n",
              "<style scoped>\n",
              "    .dataframe tbody tr th:only-of-type {\n",
              "        vertical-align: middle;\n",
              "    }\n",
              "\n",
              "    .dataframe tbody tr th {\n",
              "        vertical-align: top;\n",
              "    }\n",
              "\n",
              "    .dataframe thead th {\n",
              "        text-align: right;\n",
              "    }\n",
              "</style>\n",
              "<table border=\"1\" class=\"dataframe\">\n",
              "  <thead>\n",
              "    <tr style=\"text-align: right;\">\n",
              "      <th></th>\n",
              "      <th>User_ID</th>\n",
              "      <th>Product_ID</th>\n",
              "      <th>Purchase</th>\n",
              "      <th>Gender_F</th>\n",
              "      <th>Gender_M</th>\n",
              "      <th>Age_0-17</th>\n",
              "      <th>Age_18-25</th>\n",
              "      <th>Age_26-35</th>\n",
              "      <th>Age_36-45</th>\n",
              "      <th>Age_46-50</th>\n",
              "      <th>Age_51-55</th>\n",
              "      <th>Age_55+</th>\n",
              "      <th>Occupation_0</th>\n",
              "      <th>Occupation_1</th>\n",
              "      <th>Occupation_2</th>\n",
              "      <th>Occupation_3</th>\n",
              "      <th>Occupation_4</th>\n",
              "      <th>Occupation_5</th>\n",
              "      <th>Occupation_6</th>\n",
              "      <th>Occupation_7</th>\n",
              "      <th>Occupation_8</th>\n",
              "      <th>Occupation_9</th>\n",
              "      <th>Occupation_10</th>\n",
              "      <th>Occupation_11</th>\n",
              "      <th>Occupation_12</th>\n",
              "      <th>Occupation_13</th>\n",
              "      <th>Occupation_14</th>\n",
              "      <th>Occupation_15</th>\n",
              "      <th>Occupation_16</th>\n",
              "      <th>Occupation_17</th>\n",
              "      <th>Occupation_18</th>\n",
              "      <th>Occupation_19</th>\n",
              "      <th>Occupation_20</th>\n",
              "      <th>City_Category_A</th>\n",
              "      <th>City_Category_B</th>\n",
              "      <th>City_Category_C</th>\n",
              "      <th>Stay_In_Current_City_Years_0</th>\n",
              "      <th>Stay_In_Current_City_Years_1</th>\n",
              "      <th>Stay_In_Current_City_Years_2</th>\n",
              "      <th>Stay_In_Current_City_Years_3</th>\n",
              "      <th>...</th>\n",
              "      <th>Product_Category_1_15</th>\n",
              "      <th>Product_Category_1_16</th>\n",
              "      <th>Product_Category_1_17</th>\n",
              "      <th>Product_Category_1_18</th>\n",
              "      <th>Product_Category_1_19</th>\n",
              "      <th>Product_Category_1_20</th>\n",
              "      <th>Product_Category_2_2.0</th>\n",
              "      <th>Product_Category_2_3.0</th>\n",
              "      <th>Product_Category_2_4.0</th>\n",
              "      <th>Product_Category_2_5.0</th>\n",
              "      <th>Product_Category_2_6.0</th>\n",
              "      <th>Product_Category_2_7.0</th>\n",
              "      <th>Product_Category_2_8.0</th>\n",
              "      <th>Product_Category_2_9.0</th>\n",
              "      <th>Product_Category_2_10.0</th>\n",
              "      <th>Product_Category_2_11.0</th>\n",
              "      <th>Product_Category_2_12.0</th>\n",
              "      <th>Product_Category_2_13.0</th>\n",
              "      <th>Product_Category_2_14.0</th>\n",
              "      <th>Product_Category_2_15.0</th>\n",
              "      <th>Product_Category_2_16.0</th>\n",
              "      <th>Product_Category_2_17.0</th>\n",
              "      <th>Product_Category_2_18.0</th>\n",
              "      <th>Product_Category_2_999.0</th>\n",
              "      <th>Product_Category_3_3.0</th>\n",
              "      <th>Product_Category_3_4.0</th>\n",
              "      <th>Product_Category_3_5.0</th>\n",
              "      <th>Product_Category_3_6.0</th>\n",
              "      <th>Product_Category_3_8.0</th>\n",
              "      <th>Product_Category_3_9.0</th>\n",
              "      <th>Product_Category_3_10.0</th>\n",
              "      <th>Product_Category_3_11.0</th>\n",
              "      <th>Product_Category_3_12.0</th>\n",
              "      <th>Product_Category_3_13.0</th>\n",
              "      <th>Product_Category_3_14.0</th>\n",
              "      <th>Product_Category_3_15.0</th>\n",
              "      <th>Product_Category_3_16.0</th>\n",
              "      <th>Product_Category_3_17.0</th>\n",
              "      <th>Product_Category_3_18.0</th>\n",
              "      <th>Product_Category_3_999.0</th>\n",
              "    </tr>\n",
              "  </thead>\n",
              "  <tbody>\n",
              "    <tr>\n",
              "      <th>0</th>\n",
              "      <td>1000001</td>\n",
              "      <td>P00069042</td>\n",
              "      <td>8370</td>\n",
              "      <td>1</td>\n",
              "      <td>0</td>\n",
              "      <td>1</td>\n",
              "      <td>0</td>\n",
              "      <td>0</td>\n",
              "      <td>0</td>\n",
              "      <td>0</td>\n",
              "      <td>0</td>\n",
              "      <td>0</td>\n",
              "      <td>0</td>\n",
              "      <td>0</td>\n",
              "      <td>0</td>\n",
              "      <td>0</td>\n",
              "      <td>0</td>\n",
              "      <td>0</td>\n",
              "      <td>0</td>\n",
              "      <td>0</td>\n",
              "      <td>0</td>\n",
              "      <td>0</td>\n",
              "      <td>1</td>\n",
              "      <td>0</td>\n",
              "      <td>0</td>\n",
              "      <td>0</td>\n",
              "      <td>0</td>\n",
              "      <td>0</td>\n",
              "      <td>0</td>\n",
              "      <td>0</td>\n",
              "      <td>0</td>\n",
              "      <td>0</td>\n",
              "      <td>0</td>\n",
              "      <td>1</td>\n",
              "      <td>0</td>\n",
              "      <td>0</td>\n",
              "      <td>0</td>\n",
              "      <td>0</td>\n",
              "      <td>1</td>\n",
              "      <td>0</td>\n",
              "      <td>...</td>\n",
              "      <td>0</td>\n",
              "      <td>0</td>\n",
              "      <td>0</td>\n",
              "      <td>0</td>\n",
              "      <td>0</td>\n",
              "      <td>0</td>\n",
              "      <td>0</td>\n",
              "      <td>0</td>\n",
              "      <td>0</td>\n",
              "      <td>0</td>\n",
              "      <td>0</td>\n",
              "      <td>0</td>\n",
              "      <td>0</td>\n",
              "      <td>0</td>\n",
              "      <td>0</td>\n",
              "      <td>0</td>\n",
              "      <td>0</td>\n",
              "      <td>0</td>\n",
              "      <td>0</td>\n",
              "      <td>0</td>\n",
              "      <td>0</td>\n",
              "      <td>0</td>\n",
              "      <td>0</td>\n",
              "      <td>1</td>\n",
              "      <td>0</td>\n",
              "      <td>0</td>\n",
              "      <td>0</td>\n",
              "      <td>0</td>\n",
              "      <td>0</td>\n",
              "      <td>0</td>\n",
              "      <td>0</td>\n",
              "      <td>0</td>\n",
              "      <td>0</td>\n",
              "      <td>0</td>\n",
              "      <td>0</td>\n",
              "      <td>0</td>\n",
              "      <td>0</td>\n",
              "      <td>0</td>\n",
              "      <td>0</td>\n",
              "      <td>1</td>\n",
              "    </tr>\n",
              "    <tr>\n",
              "      <th>1</th>\n",
              "      <td>1000001</td>\n",
              "      <td>P00248942</td>\n",
              "      <td>15200</td>\n",
              "      <td>1</td>\n",
              "      <td>0</td>\n",
              "      <td>1</td>\n",
              "      <td>0</td>\n",
              "      <td>0</td>\n",
              "      <td>0</td>\n",
              "      <td>0</td>\n",
              "      <td>0</td>\n",
              "      <td>0</td>\n",
              "      <td>0</td>\n",
              "      <td>0</td>\n",
              "      <td>0</td>\n",
              "      <td>0</td>\n",
              "      <td>0</td>\n",
              "      <td>0</td>\n",
              "      <td>0</td>\n",
              "      <td>0</td>\n",
              "      <td>0</td>\n",
              "      <td>0</td>\n",
              "      <td>1</td>\n",
              "      <td>0</td>\n",
              "      <td>0</td>\n",
              "      <td>0</td>\n",
              "      <td>0</td>\n",
              "      <td>0</td>\n",
              "      <td>0</td>\n",
              "      <td>0</td>\n",
              "      <td>0</td>\n",
              "      <td>0</td>\n",
              "      <td>0</td>\n",
              "      <td>1</td>\n",
              "      <td>0</td>\n",
              "      <td>0</td>\n",
              "      <td>0</td>\n",
              "      <td>0</td>\n",
              "      <td>1</td>\n",
              "      <td>0</td>\n",
              "      <td>...</td>\n",
              "      <td>0</td>\n",
              "      <td>0</td>\n",
              "      <td>0</td>\n",
              "      <td>0</td>\n",
              "      <td>0</td>\n",
              "      <td>0</td>\n",
              "      <td>0</td>\n",
              "      <td>0</td>\n",
              "      <td>0</td>\n",
              "      <td>0</td>\n",
              "      <td>1</td>\n",
              "      <td>0</td>\n",
              "      <td>0</td>\n",
              "      <td>0</td>\n",
              "      <td>0</td>\n",
              "      <td>0</td>\n",
              "      <td>0</td>\n",
              "      <td>0</td>\n",
              "      <td>0</td>\n",
              "      <td>0</td>\n",
              "      <td>0</td>\n",
              "      <td>0</td>\n",
              "      <td>0</td>\n",
              "      <td>0</td>\n",
              "      <td>0</td>\n",
              "      <td>0</td>\n",
              "      <td>0</td>\n",
              "      <td>0</td>\n",
              "      <td>0</td>\n",
              "      <td>0</td>\n",
              "      <td>0</td>\n",
              "      <td>0</td>\n",
              "      <td>0</td>\n",
              "      <td>0</td>\n",
              "      <td>1</td>\n",
              "      <td>0</td>\n",
              "      <td>0</td>\n",
              "      <td>0</td>\n",
              "      <td>0</td>\n",
              "      <td>0</td>\n",
              "    </tr>\n",
              "    <tr>\n",
              "      <th>2</th>\n",
              "      <td>1000001</td>\n",
              "      <td>P00087842</td>\n",
              "      <td>1422</td>\n",
              "      <td>1</td>\n",
              "      <td>0</td>\n",
              "      <td>1</td>\n",
              "      <td>0</td>\n",
              "      <td>0</td>\n",
              "      <td>0</td>\n",
              "      <td>0</td>\n",
              "      <td>0</td>\n",
              "      <td>0</td>\n",
              "      <td>0</td>\n",
              "      <td>0</td>\n",
              "      <td>0</td>\n",
              "      <td>0</td>\n",
              "      <td>0</td>\n",
              "      <td>0</td>\n",
              "      <td>0</td>\n",
              "      <td>0</td>\n",
              "      <td>0</td>\n",
              "      <td>0</td>\n",
              "      <td>1</td>\n",
              "      <td>0</td>\n",
              "      <td>0</td>\n",
              "      <td>0</td>\n",
              "      <td>0</td>\n",
              "      <td>0</td>\n",
              "      <td>0</td>\n",
              "      <td>0</td>\n",
              "      <td>0</td>\n",
              "      <td>0</td>\n",
              "      <td>0</td>\n",
              "      <td>1</td>\n",
              "      <td>0</td>\n",
              "      <td>0</td>\n",
              "      <td>0</td>\n",
              "      <td>0</td>\n",
              "      <td>1</td>\n",
              "      <td>0</td>\n",
              "      <td>...</td>\n",
              "      <td>0</td>\n",
              "      <td>0</td>\n",
              "      <td>0</td>\n",
              "      <td>0</td>\n",
              "      <td>0</td>\n",
              "      <td>0</td>\n",
              "      <td>0</td>\n",
              "      <td>0</td>\n",
              "      <td>0</td>\n",
              "      <td>0</td>\n",
              "      <td>0</td>\n",
              "      <td>0</td>\n",
              "      <td>0</td>\n",
              "      <td>0</td>\n",
              "      <td>0</td>\n",
              "      <td>0</td>\n",
              "      <td>0</td>\n",
              "      <td>0</td>\n",
              "      <td>0</td>\n",
              "      <td>0</td>\n",
              "      <td>0</td>\n",
              "      <td>0</td>\n",
              "      <td>0</td>\n",
              "      <td>1</td>\n",
              "      <td>0</td>\n",
              "      <td>0</td>\n",
              "      <td>0</td>\n",
              "      <td>0</td>\n",
              "      <td>0</td>\n",
              "      <td>0</td>\n",
              "      <td>0</td>\n",
              "      <td>0</td>\n",
              "      <td>0</td>\n",
              "      <td>0</td>\n",
              "      <td>0</td>\n",
              "      <td>0</td>\n",
              "      <td>0</td>\n",
              "      <td>0</td>\n",
              "      <td>0</td>\n",
              "      <td>1</td>\n",
              "    </tr>\n",
              "    <tr>\n",
              "      <th>3</th>\n",
              "      <td>1000001</td>\n",
              "      <td>P00085442</td>\n",
              "      <td>1057</td>\n",
              "      <td>1</td>\n",
              "      <td>0</td>\n",
              "      <td>1</td>\n",
              "      <td>0</td>\n",
              "      <td>0</td>\n",
              "      <td>0</td>\n",
              "      <td>0</td>\n",
              "      <td>0</td>\n",
              "      <td>0</td>\n",
              "      <td>0</td>\n",
              "      <td>0</td>\n",
              "      <td>0</td>\n",
              "      <td>0</td>\n",
              "      <td>0</td>\n",
              "      <td>0</td>\n",
              "      <td>0</td>\n",
              "      <td>0</td>\n",
              "      <td>0</td>\n",
              "      <td>0</td>\n",
              "      <td>1</td>\n",
              "      <td>0</td>\n",
              "      <td>0</td>\n",
              "      <td>0</td>\n",
              "      <td>0</td>\n",
              "      <td>0</td>\n",
              "      <td>0</td>\n",
              "      <td>0</td>\n",
              "      <td>0</td>\n",
              "      <td>0</td>\n",
              "      <td>0</td>\n",
              "      <td>1</td>\n",
              "      <td>0</td>\n",
              "      <td>0</td>\n",
              "      <td>0</td>\n",
              "      <td>0</td>\n",
              "      <td>1</td>\n",
              "      <td>0</td>\n",
              "      <td>...</td>\n",
              "      <td>0</td>\n",
              "      <td>0</td>\n",
              "      <td>0</td>\n",
              "      <td>0</td>\n",
              "      <td>0</td>\n",
              "      <td>0</td>\n",
              "      <td>0</td>\n",
              "      <td>0</td>\n",
              "      <td>0</td>\n",
              "      <td>0</td>\n",
              "      <td>0</td>\n",
              "      <td>0</td>\n",
              "      <td>0</td>\n",
              "      <td>0</td>\n",
              "      <td>0</td>\n",
              "      <td>0</td>\n",
              "      <td>0</td>\n",
              "      <td>0</td>\n",
              "      <td>1</td>\n",
              "      <td>0</td>\n",
              "      <td>0</td>\n",
              "      <td>0</td>\n",
              "      <td>0</td>\n",
              "      <td>0</td>\n",
              "      <td>0</td>\n",
              "      <td>0</td>\n",
              "      <td>0</td>\n",
              "      <td>0</td>\n",
              "      <td>0</td>\n",
              "      <td>0</td>\n",
              "      <td>0</td>\n",
              "      <td>0</td>\n",
              "      <td>0</td>\n",
              "      <td>0</td>\n",
              "      <td>0</td>\n",
              "      <td>0</td>\n",
              "      <td>0</td>\n",
              "      <td>0</td>\n",
              "      <td>0</td>\n",
              "      <td>1</td>\n",
              "    </tr>\n",
              "    <tr>\n",
              "      <th>4</th>\n",
              "      <td>1000002</td>\n",
              "      <td>P00285442</td>\n",
              "      <td>7969</td>\n",
              "      <td>0</td>\n",
              "      <td>1</td>\n",
              "      <td>0</td>\n",
              "      <td>0</td>\n",
              "      <td>0</td>\n",
              "      <td>0</td>\n",
              "      <td>0</td>\n",
              "      <td>0</td>\n",
              "      <td>1</td>\n",
              "      <td>0</td>\n",
              "      <td>0</td>\n",
              "      <td>0</td>\n",
              "      <td>0</td>\n",
              "      <td>0</td>\n",
              "      <td>0</td>\n",
              "      <td>0</td>\n",
              "      <td>0</td>\n",
              "      <td>0</td>\n",
              "      <td>0</td>\n",
              "      <td>0</td>\n",
              "      <td>0</td>\n",
              "      <td>0</td>\n",
              "      <td>0</td>\n",
              "      <td>0</td>\n",
              "      <td>0</td>\n",
              "      <td>1</td>\n",
              "      <td>0</td>\n",
              "      <td>0</td>\n",
              "      <td>0</td>\n",
              "      <td>0</td>\n",
              "      <td>0</td>\n",
              "      <td>0</td>\n",
              "      <td>1</td>\n",
              "      <td>0</td>\n",
              "      <td>0</td>\n",
              "      <td>0</td>\n",
              "      <td>0</td>\n",
              "      <td>...</td>\n",
              "      <td>0</td>\n",
              "      <td>0</td>\n",
              "      <td>0</td>\n",
              "      <td>0</td>\n",
              "      <td>0</td>\n",
              "      <td>0</td>\n",
              "      <td>0</td>\n",
              "      <td>0</td>\n",
              "      <td>0</td>\n",
              "      <td>0</td>\n",
              "      <td>0</td>\n",
              "      <td>0</td>\n",
              "      <td>0</td>\n",
              "      <td>0</td>\n",
              "      <td>0</td>\n",
              "      <td>0</td>\n",
              "      <td>0</td>\n",
              "      <td>0</td>\n",
              "      <td>0</td>\n",
              "      <td>0</td>\n",
              "      <td>0</td>\n",
              "      <td>0</td>\n",
              "      <td>0</td>\n",
              "      <td>1</td>\n",
              "      <td>0</td>\n",
              "      <td>0</td>\n",
              "      <td>0</td>\n",
              "      <td>0</td>\n",
              "      <td>0</td>\n",
              "      <td>0</td>\n",
              "      <td>0</td>\n",
              "      <td>0</td>\n",
              "      <td>0</td>\n",
              "      <td>0</td>\n",
              "      <td>0</td>\n",
              "      <td>0</td>\n",
              "      <td>0</td>\n",
              "      <td>0</td>\n",
              "      <td>0</td>\n",
              "      <td>1</td>\n",
              "    </tr>\n",
              "  </tbody>\n",
              "</table>\n",
              "<p>5 rows × 97 columns</p>\n",
              "</div>"
            ],
            "text/plain": [
              "   User_ID Product_ID  ...  Product_Category_3_18.0  Product_Category_3_999.0\n",
              "0  1000001  P00069042  ...                        0                         1\n",
              "1  1000001  P00248942  ...                        0                         0\n",
              "2  1000001  P00087842  ...                        0                         1\n",
              "3  1000001  P00085442  ...                        0                         1\n",
              "4  1000002  P00285442  ...                        0                         1\n",
              "\n",
              "[5 rows x 97 columns]"
            ]
          },
          "metadata": {
            "tags": []
          },
          "execution_count": 23
        }
      ]
    },
    {
      "cell_type": "code",
      "metadata": {
        "id": "7mz14wxASZDe",
        "colab": {
          "base_uri": "https://localhost:8080/"
        },
        "outputId": "ef78ddfc-bd91-4186-c60a-73767fe8709a"
      },
      "source": [
        "# 2 - Codificar User_Id\n",
        "print('Cantidad de clases:', df_coded['User_ID'].nunique(), ', cuyo máximo era:', df_coded['User_ID'].max())\n",
        "user_id = df_coded['User_ID'].to_numpy()\n",
        "_, user_idx = np.unique(user_id, return_inverse=True)\n",
        "print('Nuevo map:', user_idx.max())\n",
        "\n",
        "# Generar un diccionario para traducir\n",
        "user_id2idx = {id:idx for id,idx in zip(user_id, user_idx)}\n",
        "print('Dirccionario para traducir futuros valores de ID a idx para embeddings')\n",
        "print(user_id2idx)\n",
        "\n",
        "df_coded_2 = df_coded.copy()\n",
        "df_coded_2['user_idx'] = user_idx"
      ],
      "execution_count": null,
      "outputs": [
        {
          "output_type": "stream",
          "text": [
            "Cantidad de clases: 5891 , cuyo máximo era: 1006040\n",
            "Nuevo map: 5890\n",
            "Dirccionario para traducir futuros valores de ID a idx para embeddings\n",
            "{1000001: 0, 1000002: 1, 1000003: 2, 1000004: 3, 1000005: 4, 1000006: 5, 1000007: 6, 1000008: 7, 1000009: 8, 1000010: 9, 1000011: 10, 1000012: 11, 1000013: 12, 1000014: 13, 1000015: 14, 1000016: 15, 1000017: 16, 1000018: 17, 1000019: 18, 1000021: 20, 1000022: 21, 1000023: 22, 1000024: 23, 1000025: 24, 1000026: 25, 1000027: 26, 1000028: 27, 1000029: 28, 1000030: 29, 1000031: 30, 1000032: 31, 1000033: 32, 1000034: 33, 1000035: 34, 1000036: 35, 1000037: 36, 1000039: 37, 1000041: 38, 1000042: 39, 1000043: 40, 1000044: 41, 1000045: 42, 1000046: 43, 1000047: 44, 1000048: 45, 1000049: 46, 1000050: 47, 1000051: 48, 1000052: 49, 1000053: 50, 1000054: 51, 1000056: 53, 1000057: 54, 1000058: 55, 1000059: 56, 1000060: 57, 1000061: 58, 1000062: 59, 1000063: 60, 1000064: 61, 1000065: 62, 1000066: 63, 1000067: 64, 1000068: 65, 1000069: 66, 1000070: 67, 1000071: 68, 1000072: 69, 1000073: 70, 1000074: 71, 1000075: 72, 1000076: 73, 1000077: 74, 1000078: 75, 1000079: 76, 1000080: 77, 1000081: 78, 1000082: 79, 1000083: 80, 1000084: 81, 1000085: 82, 1000086: 83, 1000087: 84, 1000088: 85, 1000089: 86, 1000090: 87, 1000091: 88, 1000092: 89, 1000093: 90, 1000094: 91, 1000095: 92, 1000096: 93, 1000097: 94, 1000099: 96, 1000100: 97, 1000101: 98, 1000102: 99, 1000103: 100, 1000105: 102, 1000106: 103, 1000107: 104, 1000108: 105, 1000109: 106, 1000110: 107, 1000111: 108, 1000112: 109, 1000113: 110, 1000114: 111, 1000116: 112, 1000117: 113, 1000118: 114, 1000119: 115, 1000120: 116, 1000121: 117, 1000122: 118, 1000123: 119, 1000124: 120, 1000125: 121, 1000126: 122, 1000127: 123, 1000128: 124, 1000129: 125, 1000130: 126, 1000131: 127, 1000132: 128, 1000133: 129, 1000134: 130, 1000135: 131, 1000136: 132, 1000137: 133, 1000138: 134, 1000139: 135, 1000140: 136, 1000142: 138, 1000143: 139, 1000145: 141, 1000146: 142, 1000147: 143, 1000148: 144, 1000149: 145, 1000150: 146, 1000151: 147, 1000152: 148, 1000153: 149, 1000154: 150, 1000155: 151, 1000156: 152, 1000157: 153, 1000158: 154, 1000159: 155, 1000160: 156, 1000161: 157, 1000162: 158, 1000163: 159, 1000165: 161, 1000166: 162, 1000169: 165, 1000170: 166, 1000171: 167, 1000172: 168, 1000173: 169, 1000174: 170, 1000175: 171, 1000176: 172, 1000177: 173, 1000178: 174, 1000179: 175, 1000180: 176, 1000181: 177, 1000182: 178, 1000183: 179, 1000184: 180, 1000185: 181, 1000186: 182, 1000187: 183, 1000188: 184, 1000190: 186, 1000191: 187, 1000192: 188, 1000193: 189, 1000194: 190, 1000195: 191, 1000196: 192, 1000197: 193, 1000198: 194, 1000199: 195, 1000200: 196, 1000201: 197, 1000202: 198, 1000203: 199, 1000204: 200, 1000205: 201, 1000206: 202, 1000208: 204, 1000209: 205, 1000210: 206, 1000211: 207, 1000212: 208, 1000214: 210, 1000215: 211, 1000216: 212, 1000217: 213, 1000218: 214, 1000219: 215, 1000220: 216, 1000221: 217, 1000222: 218, 1000223: 219, 1000225: 220, 1000227: 222, 1000228: 223, 1000229: 224, 1000230: 225, 1000231: 226, 1000232: 227, 1000233: 228, 1000234: 229, 1000235: 230, 1000236: 231, 1000237: 232, 1000238: 233, 1000239: 234, 1000240: 235, 1000242: 237, 1000243: 238, 1000244: 239, 1000245: 240, 1000246: 241, 1000249: 244, 1000250: 245, 1000251: 246, 1000252: 247, 1000253: 248, 1000254: 249, 1000255: 250, 1000256: 251, 1000257: 252, 1000258: 253, 1000259: 254, 1000260: 255, 1000261: 256, 1000262: 257, 1000263: 258, 1000264: 259, 1000265: 260, 1000266: 261, 1000267: 262, 1000268: 263, 1000269: 264, 1000270: 265, 1000271: 266, 1000272: 267, 1000273: 268, 1000274: 269, 1000275: 270, 1000276: 271, 1000278: 273, 1000279: 274, 1000280: 275, 1000281: 276, 1000282: 277, 1000284: 279, 1000285: 280, 1000287: 282, 1000289: 283, 1000291: 285, 1000292: 286, 1000293: 287, 1000295: 289, 1000296: 290, 1000297: 291, 1000298: 292, 1000299: 293, 1000300: 294, 1000301: 295, 1000302: 296, 1000303: 297, 1000304: 298, 1000305: 299, 1000306: 300, 1000307: 301, 1000308: 302, 1000309: 303, 1000310: 304, 1000311: 305, 1000312: 306, 1000313: 307, 1000314: 308, 1000315: 309, 1000316: 310, 1000318: 312, 1000319: 313, 1000320: 314, 1000321: 315, 1000322: 316, 1000323: 317, 1000324: 318, 1000325: 319, 1000326: 320, 1000327: 321, 1000328: 322, 1000329: 323, 1000330: 324, 1000331: 325, 1000332: 326, 1000333: 327, 1000334: 328, 1000335: 329, 1000336: 330, 1000337: 331, 1000338: 332, 1000339: 333, 1000340: 334, 1000342: 336, 1000343: 337, 1000344: 338, 1000345: 339, 1000346: 340, 1000347: 341, 1000348: 342, 1000349: 343, 1000350: 344, 1000351: 345, 1000352: 346, 1000353: 347, 1000354: 348, 1000355: 349, 1000356: 350, 1000357: 351, 1000359: 352, 1000360: 353, 1000362: 355, 1000363: 356, 1000365: 358, 1000366: 359, 1000368: 360, 1000369: 361, 1000370: 362, 1000371: 363, 1000372: 364, 1000374: 366, 1000375: 367, 1000376: 368, 1000377: 369, 1000379: 371, 1000380: 372, 1000381: 373, 1000382: 374, 1000383: 375, 1000384: 376, 1000385: 377, 1000386: 378, 1000387: 379, 1000388: 380, 1000389: 381, 1000390: 382, 1000391: 383, 1000392: 384, 1000393: 385, 1000394: 386, 1000396: 388, 1000397: 389, 1000398: 390, 1000399: 391, 1000400: 392, 1000401: 393, 1000402: 394, 1000403: 395, 1000405: 397, 1000406: 398, 1000408: 400, 1000409: 401, 1000410: 402, 1000411: 403, 1000412: 404, 1000413: 405, 1000414: 406, 1000415: 407, 1000416: 408, 1000417: 409, 1000418: 410, 1000419: 411, 1000420: 412, 1000421: 413, 1000422: 414, 1000423: 415, 1000424: 416, 1000425: 417, 1000426: 418, 1000429: 420, 1000430: 421, 1000431: 422, 1000433: 424, 1000434: 425, 1000435: 426, 1000436: 427, 1000437: 428, 1000438: 429, 1000439: 430, 1000442: 433, 1000443: 434, 1000444: 435, 1000445: 436, 1000446: 437, 1000447: 438, 1000448: 439, 1000449: 440, 1000450: 441, 1000451: 442, 1000452: 443, 1000453: 444, 1000454: 445, 1000456: 447, 1000457: 448, 1000458: 449, 1000459: 450, 1000460: 451, 1000461: 452, 1000462: 453, 1000463: 454, 1000464: 455, 1000465: 456, 1000466: 457, 1000467: 458, 1000468: 459, 1000469: 460, 1000470: 461, 1000471: 462, 1000473: 463, 1000474: 464, 1000476: 465, 1000477: 466, 1000478: 467, 1000479: 468, 1000480: 469, 1000481: 470, 1000482: 471, 1000483: 472, 1000484: 473, 1000486: 475, 1000487: 476, 1000490: 479, 1000492: 481, 1000493: 482, 1000496: 484, 1000498: 486, 1000499: 487, 1000500: 488, 1000501: 489, 1000502: 490, 1000503: 491, 1000504: 492, 1000505: 493, 1000506: 494, 1000507: 495, 1000508: 496, 1000509: 497, 1000510: 498, 1000511: 499, 1000513: 501, 1000514: 502, 1000515: 503, 1000516: 504, 1000517: 505, 1000518: 506, 1000519: 507, 1000520: 508, 1000522: 510, 1000523: 511, 1000524: 512, 1000525: 513, 1000526: 514, 1000529: 516, 1000530: 517, 1000531: 518, 1000532: 519, 1000533: 520, 1000534: 521, 1000535: 522, 1000536: 523, 1000539: 525, 1000540: 526, 1000541: 527, 1000543: 528, 1000544: 529, 1000545: 530, 1000546: 531, 1000547: 532, 1000548: 533, 1000549: 534, 1000550: 535, 1000551: 536, 1000552: 537, 1000553: 538, 1000554: 539, 1000555: 540, 1000556: 541, 1000557: 542, 1000560: 544, 1000563: 547, 1000564: 548, 1000565: 549, 1000566: 550, 1000567: 551, 1000568: 552, 1000569: 553, 1000570: 554, 1000571: 555, 1000573: 557, 1000574: 558, 1000575: 559, 1000576: 560, 1000577: 561, 1000579: 563, 1000580: 564, 1000581: 565, 1000582: 566, 1000583: 567, 1000584: 568, 1000585: 569, 1000586: 570, 1000587: 571, 1000588: 572, 1000589: 573, 1000590: 574, 1000591: 575, 1000592: 576, 1000593: 577, 1000594: 578, 1000595: 579, 1000596: 580, 1000597: 581, 1000598: 582, 1000599: 583, 1000600: 584, 1000601: 585, 1000602: 586, 1000603: 587, 1000604: 588, 1000605: 589, 1000606: 590, 1000608: 592, 1000609: 593, 1000610: 594, 1000611: 595, 1000612: 596, 1000613: 597, 1000615: 598, 1000616: 599, 1000617: 600, 1000618: 601, 1000619: 602, 1000620: 603, 1000622: 604, 1000623: 605, 1000624: 606, 1000625: 607, 1000626: 608, 1000627: 609, 1000628: 610, 1000629: 611, 1000630: 612, 1000631: 613, 1000632: 614, 1000633: 615, 1000634: 616, 1000635: 617, 1000636: 618, 1000637: 619, 1000638: 620, 1000639: 621, 1000641: 623, 1000643: 625, 1000644: 626, 1000645: 627, 1000646: 628, 1000647: 629, 1000648: 630, 1000649: 631, 1000650: 632, 1000651: 633, 1000652: 634, 1000654: 636, 1000655: 637, 1000656: 638, 1000657: 639, 1000658: 640, 1000659: 641, 1000661: 642, 1000662: 643, 1000663: 644, 1000664: 645, 1000666: 647, 1000667: 648, 1000668: 649, 1000669: 650, 1000670: 651, 1000671: 652, 1000673: 654, 1000674: 655, 1000675: 656, 1000676: 657, 1000677: 658, 1000678: 659, 1000679: 660, 1000680: 661, 1000681: 662, 1000682: 663, 1000683: 664, 1000685: 665, 1000686: 666, 1000687: 667, 1000688: 668, 1000689: 669, 1000690: 670, 1000691: 671, 1000692: 672, 1000694: 674, 1000695: 675, 1000698: 677, 1000700: 678, 1000701: 679, 1000702: 680, 1000704: 682, 1000705: 683, 1000706: 684, 1000707: 685, 1000708: 686, 1000709: 687, 1000710: 688, 1000711: 689, 1000712: 690, 1000713: 691, 1000714: 692, 1000715: 693, 1000717: 694, 1000718: 695, 1000719: 696, 1000720: 697, 1000721: 698, 1000722: 699, 1000723: 700, 1000724: 701, 1000725: 702, 1000726: 703, 1000727: 704, 1000728: 705, 1000729: 706, 1000730: 707, 1000731: 708, 1000732: 709, 1000733: 710, 1000734: 711, 1000735: 712, 1000736: 713, 1000737: 714, 1000738: 715, 1000739: 716, 1000740: 717, 1000741: 718, 1000742: 719, 1000743: 720, 1000744: 721, 1000746: 723, 1000748: 725, 1000749: 726, 1000750: 727, 1000751: 728, 1000752: 729, 1000753: 730, 1000754: 731, 1000755: 732, 1000756: 733, 1000757: 734, 1000758: 735, 1000759: 736, 1000760: 737, 1000761: 738, 1000762: 739, 1000764: 741, 1000765: 742, 1000766: 743, 1000767: 744, 1000769: 746, 1000770: 747, 1000771: 748, 1000772: 749, 1000773: 750, 1000774: 751, 1000775: 752, 1000776: 753, 1000777: 754, 1000778: 755, 1000779: 756, 1000780: 757, 1000783: 759, 1000785: 761, 1000786: 762, 1000787: 763, 1000788: 764, 1000789: 765, 1000791: 767, 1000792: 768, 1000793: 769, 1000794: 770, 1000795: 771, 1000796: 772, 1000797: 773, 1000798: 774, 1000799: 775, 1000801: 776, 1000802: 777, 1000803: 778, 1000804: 779, 1000805: 780, 1000806: 781, 1000807: 782, 1000808: 783, 1000809: 784, 1000810: 785, 1000811: 786, 1000812: 787, 1000813: 788, 1000814: 789, 1000816: 790, 1000817: 791, 1000818: 792, 1000819: 793, 1000820: 794, 1000821: 795, 1000822: 796, 1000823: 797, 1000824: 798, 1000825: 799, 1000826: 800, 1000827: 801, 1000828: 802, 1000829: 803, 1000830: 804, 1000832: 806, 1000833: 807, 1000834: 808, 1000835: 809, 1000836: 810, 1000837: 811, 1000838: 812, 1000839: 813, 1000840: 814, 1000842: 816, 1000843: 817, 1000844: 818, 1000845: 819, 1000846: 820, 1000847: 821, 1000848: 822, 1000849: 823, 1000850: 824, 1000851: 825, 1000852: 826, 1000853: 827, 1000854: 828, 1000855: 829, 1000856: 830, 1000857: 831, 1000858: 832, 1000859: 833, 1000860: 834, 1000861: 835, 1000862: 836, 1000863: 837, 1000864: 838, 1000867: 841, 1000868: 842, 1000869: 843, 1000870: 844, 1000871: 845, 1000872: 846, 1000873: 847, 1000875: 849, 1000877: 851, 1000878: 852, 1000880: 854, 1000881: 855, 1000882: 856, 1000883: 857, 1000884: 858, 1000885: 859, 1000886: 860, 1000887: 861, 1000888: 862, 1000889: 863, 1000890: 864, 1000891: 865, 1000892: 866, 1000894: 867, 1000895: 868, 1000896: 869, 1000897: 870, 1000898: 871, 1000899: 872, 1000900: 873, 1000901: 874, 1000903: 876, 1000904: 877, 1000905: 878, 1000906: 879, 1000908: 881, 1000909: 882, 1000910: 883, 1000911: 884, 1000912: 885, 1000913: 886, 1000914: 887, 1000915: 888, 1000917: 890, 1000918: 891, 1000919: 892, 1000920: 893, 1000921: 894, 1000922: 895, 1000923: 896, 1000924: 897, 1000925: 898, 1000926: 899, 1000927: 900, 1000928: 901, 1000929: 902, 1000930: 903, 1000931: 904, 1000932: 905, 1000933: 906, 1000934: 907, 1000936: 908, 1000937: 909, 1000939: 910, 1000940: 911, 1000943: 914, 1000944: 915, 1000945: 916, 1000949: 919, 1000950: 920, 1000951: 921, 1000952: 922, 1000953: 923, 1000954: 924, 1000955: 925, 1000956: 926, 1000957: 927, 1000958: 928, 1000959: 929, 1000960: 930, 1000961: 931, 1000963: 933, 1000964: 934, 1000966: 936, 1000967: 937, 1000968: 938, 1000969: 939, 1000970: 940, 1000971: 941, 1000972: 942, 1000973: 943, 1000974: 944, 1000975: 945, 1000976: 946, 1000977: 947, 1000978: 948, 1000979: 949, 1000980: 950, 1000981: 951, 1000982: 952, 1000983: 953, 1000984: 954, 1000985: 955, 1000986: 956, 1000987: 957, 1000988: 958, 1000989: 959, 1000990: 960, 1000991: 961, 1000992: 962, 1000993: 963, 1000995: 964, 1000996: 965, 1000997: 966, 1000998: 967, 1000999: 968, 1001000: 969, 1001002: 970, 1001003: 971, 1001004: 972, 1001005: 973, 1001006: 974, 1001008: 975, 1001009: 976, 1001010: 977, 1001011: 978, 1001012: 979, 1001013: 980, 1001015: 981, 1001016: 982, 1001017: 983, 1001018: 984, 1001019: 985, 1001021: 986, 1001022: 987, 1001023: 988, 1001024: 989, 1001025: 990, 1001026: 991, 1001027: 992, 1001028: 993, 1001029: 994, 1001030: 995, 1001031: 996, 1001032: 997, 1001033: 998, 1001035: 999, 1001036: 1000, 1001037: 1001, 1001038: 1002, 1001039: 1003, 1001040: 1004, 1001041: 1005, 1001042: 1006, 1001043: 1007, 1001044: 1008, 1001045: 1009, 1001047: 1011, 1001048: 1012, 1001049: 1013, 1001050: 1014, 1001051: 1015, 1001052: 1016, 1001053: 1017, 1001054: 1018, 1001055: 1019, 1001056: 1020, 1001057: 1021, 1001058: 1022, 1001059: 1023, 1001060: 1024, 1001061: 1025, 1001062: 1026, 1001063: 1027, 1001064: 1028, 1001065: 1029, 1001066: 1030, 1001067: 1031, 1001068: 1032, 1001069: 1033, 1001071: 1035, 1001072: 1036, 1001073: 1037, 1001074: 1038, 1001075: 1039, 1001076: 1040, 1001077: 1041, 1001078: 1042, 1001079: 1043, 1001081: 1045, 1001083: 1046, 1001084: 1047, 1001086: 1049, 1001087: 1050, 1001088: 1051, 1001089: 1052, 1001090: 1053, 1001091: 1054, 1001092: 1055, 1001093: 1056, 1001094: 1057, 1001096: 1059, 1001097: 1060, 1001098: 1061, 1001099: 1062, 1001100: 1063, 1001101: 1064, 1001102: 1065, 1001103: 1066, 1001104: 1067, 1001106: 1068, 1001107: 1069, 1001108: 1070, 1001109: 1071, 1001110: 1072, 1001111: 1073, 1001112: 1074, 1001113: 1075, 1001114: 1076, 1001116: 1078, 1001117: 1079, 1001118: 1080, 1001119: 1081, 1001120: 1082, 1001121: 1083, 1001122: 1084, 1001124: 1085, 1001125: 1086, 1001126: 1087, 1001127: 1088, 1001128: 1089, 1001129: 1090, 1001130: 1091, 1001131: 1092, 1001132: 1093, 1001133: 1094, 1001134: 1095, 1001135: 1096, 1001136: 1097, 1001137: 1098, 1001138: 1099, 1001139: 1100, 1001140: 1101, 1001141: 1102, 1001142: 1103, 1001143: 1104, 1001145: 1106, 1001146: 1107, 1001147: 1108, 1001148: 1109, 1001149: 1110, 1001150: 1111, 1001151: 1112, 1001152: 1113, 1001153: 1114, 1001155: 1116, 1001156: 1117, 1001158: 1119, 1001159: 1120, 1001160: 1121, 1001161: 1122, 1001162: 1123, 1001163: 1124, 1001164: 1125, 1001165: 1126, 1001166: 1127, 1001168: 1129, 1001169: 1130, 1001170: 1131, 1001172: 1133, 1001173: 1134, 1001174: 1135, 1001175: 1136, 1001176: 1137, 1001177: 1138, 1001178: 1139, 1001179: 1140, 1001180: 1141, 1001181: 1142, 1001182: 1143, 1001183: 1144, 1001184: 1145, 1001185: 1146, 1001186: 1147, 1001187: 1148, 1001188: 1149, 1001189: 1150, 1001190: 1151, 1001191: 1152, 1001193: 1154, 1001194: 1155, 1001195: 1156, 1001196: 1157, 1001198: 1159, 1001199: 1160, 1001201: 1162, 1001202: 1163, 1001203: 1164, 1001204: 1165, 1001205: 1166, 1001206: 1167, 1001208: 1168, 1001209: 1169, 1001210: 1170, 1001211: 1171, 1001212: 1172, 1001214: 1174, 1001215: 1175, 1001216: 1176, 1001217: 1177, 1001218: 1178, 1001219: 1179, 1001220: 1180, 1001221: 1181, 1001222: 1182, 1001223: 1183, 1001224: 1184, 1001225: 1185, 1001226: 1186, 1001227: 1187, 1001228: 1188, 1001230: 1190, 1001231: 1191, 1001232: 1192, 1001233: 1193, 1001234: 1194, 1001235: 1195, 1001236: 1196, 1001237: 1197, 1001238: 1198, 1001239: 1199, 1001241: 1201, 1001242: 1202, 1001243: 1203, 1001244: 1204, 1001246: 1205, 1001247: 1206, 1001248: 1207, 1001249: 1208, 1001250: 1209, 1001251: 1210, 1001252: 1211, 1001253: 1212, 1001254: 1213, 1001255: 1214, 1001256: 1215, 1001257: 1216, 1001258: 1217, 1001259: 1218, 1001260: 1219, 1001261: 1220, 1001262: 1221, 1001263: 1222, 1001264: 1223, 1001265: 1224, 1001266: 1225, 1001267: 1226, 1001268: 1227, 1001269: 1228, 1001270: 1229, 1001271: 1230, 1001272: 1231, 1001273: 1232, 1001274: 1233, 1001275: 1234, 1001276: 1235, 1001277: 1236, 1001278: 1237, 1001279: 1238, 1001280: 1239, 1001281: 1240, 1001283: 1242, 1001284: 1243, 1001285: 1244, 1001286: 1245, 1001287: 1246, 1001288: 1247, 1001289: 1248, 1001291: 1250, 1001292: 1251, 1001293: 1252, 1001294: 1253, 1001295: 1254, 1001296: 1255, 1001297: 1256, 1001298: 1257, 1001299: 1258, 1001300: 1259, 1001301: 1260, 1001302: 1261, 1001303: 1262, 1001304: 1263, 1001305: 1264, 1001306: 1265, 1001307: 1266, 1001311: 1269, 1001312: 1270, 1001313: 1271, 1001314: 1272, 1001315: 1273, 1001316: 1274, 1001317: 1275, 1001319: 1277, 1001320: 1278, 1001321: 1279, 1001322: 1280, 1001323: 1281, 1001324: 1282, 1001325: 1283, 1001326: 1284, 1001327: 1285, 1001328: 1286, 1001329: 1287, 1001331: 1289, 1001332: 1290, 1001333: 1291, 1001334: 1292, 1001335: 1293, 1001336: 1294, 1001337: 1295, 1001338: 1296, 1001339: 1297, 1001340: 1298, 1001341: 1299, 1001342: 1300, 1001343: 1301, 1001344: 1302, 1001345: 1303, 1001346: 1304, 1001347: 1305, 1001348: 1306, 1001349: 1307, 1001350: 1308, 1001351: 1309, 1001352: 1310, 1001353: 1311, 1001354: 1312, 1001355: 1313, 1001356: 1314, 1001357: 1315, 1001358: 1316, 1001359: 1317, 1001360: 1318, 1001361: 1319, 1001362: 1320, 1001364: 1322, 1001365: 1323, 1001366: 1324, 1001367: 1325, 1001369: 1327, 1001370: 1328, 1001371: 1329, 1001372: 1330, 1001373: 1331, 1001374: 1332, 1001375: 1333, 1001376: 1334, 1001377: 1335, 1001378: 1336, 1001380: 1338, 1001381: 1339, 1001383: 1341, 1001384: 1342, 1001385: 1343, 1001386: 1344, 1001387: 1345, 1001388: 1346, 1001389: 1347, 1001390: 1348, 1001391: 1349, 1001392: 1350, 1001393: 1351, 1001395: 1353, 1001396: 1354, 1001397: 1355, 1001398: 1356, 1001399: 1357, 1001400: 1358, 1001401: 1359, 1001402: 1360, 1001403: 1361, 1001404: 1362, 1001405: 1363, 1001406: 1364, 1001407: 1365, 1001408: 1366, 1001409: 1367, 1001410: 1368, 1001411: 1369, 1001412: 1370, 1001413: 1371, 1001414: 1372, 1001415: 1373, 1001417: 1375, 1001418: 1376, 1001420: 1377, 1001421: 1378, 1001422: 1379, 1001423: 1380, 1001424: 1381, 1001425: 1382, 1001426: 1383, 1001427: 1384, 1001428: 1385, 1001429: 1386, 1001430: 1387, 1001432: 1389, 1001433: 1390, 1001434: 1391, 1001436: 1393, 1001437: 1394, 1001438: 1395, 1001439: 1396, 1001440: 1397, 1001441: 1398, 1001442: 1399, 1001443: 1400, 1001444: 1401, 1001446: 1403, 1001447: 1404, 1001448: 1405, 1001449: 1406, 1001450: 1407, 1001451: 1408, 1001454: 1410, 1001455: 1411, 1001457: 1413, 1001458: 1414, 1001459: 1415, 1001460: 1416, 1001461: 1417, 1001463: 1419, 1001464: 1420, 1001465: 1421, 1001466: 1422, 1001467: 1423, 1001468: 1424, 1001469: 1425, 1001470: 1426, 1001472: 1428, 1001473: 1429, 1001474: 1430, 1001475: 1431, 1001476: 1432, 1001478: 1434, 1001479: 1435, 1001480: 1436, 1001481: 1437, 1001482: 1438, 1001483: 1439, 1001484: 1440, 1001485: 1441, 1001486: 1442, 1001487: 1443, 1001489: 1445, 1001490: 1446, 1001491: 1447, 1001492: 1448, 1001494: 1449, 1001495: 1450, 1001496: 1451, 1001497: 1452, 1001498: 1453, 1001499: 1454, 1001500: 1455, 1001501: 1456, 1001502: 1457, 1001503: 1458, 1001504: 1459, 1001505: 1460, 1001506: 1461, 1001507: 1462, 1001509: 1464, 1001510: 1465, 1001511: 1466, 1001512: 1467, 1001513: 1468, 1001514: 1469, 1001515: 1470, 1001516: 1471, 1001517: 1472, 1001519: 1474, 1001520: 1475, 1001521: 1476, 1001523: 1478, 1001524: 1479, 1001525: 1480, 1001526: 1481, 1001527: 1482, 1001528: 1483, 1001530: 1485, 1001532: 1487, 1001533: 1488, 1001535: 1490, 1001536: 1491, 1001538: 1493, 1001540: 1495, 1001541: 1496, 1001542: 1497, 1001543: 1498, 1001544: 1499, 1001545: 1500, 1001546: 1501, 1001547: 1502, 1001548: 1503, 1001550: 1505, 1001551: 1506, 1001552: 1507, 1001553: 1508, 1001554: 1509, 1001555: 1510, 1001556: 1511, 1001557: 1512, 1001560: 1515, 1001561: 1516, 1001562: 1517, 1001563: 1518, 1001564: 1519, 1001565: 1520, 1001567: 1522, 1001569: 1524, 1001570: 1525, 1001571: 1526, 1001572: 1527, 1001574: 1529, 1001575: 1530, 1001576: 1531, 1001577: 1532, 1001578: 1533, 1001579: 1534, 1001581: 1536, 1001582: 1537, 1001583: 1538, 1001584: 1539, 1001585: 1540, 1001586: 1541, 1001587: 1542, 1001588: 1543, 1001589: 1544, 1001590: 1545, 1001591: 1546, 1001592: 1547, 1001593: 1548, 1001594: 1549, 1001595: 1550, 1001597: 1552, 1001598: 1553, 1001599: 1554, 1001600: 1555, 1001601: 1556, 1001602: 1557, 1001603: 1558, 1001605: 1560, 1001606: 1561, 1001607: 1562, 1001608: 1563, 1001609: 1564, 1001610: 1565, 1001611: 1566, 1001612: 1567, 1001613: 1568, 1001614: 1569, 1001616: 1571, 1001617: 1572, 1001618: 1573, 1001619: 1574, 1001620: 1575, 1001622: 1577, 1001623: 1578, 1001624: 1579, 1001625: 1580, 1001626: 1581, 1001627: 1582, 1001628: 1583, 1001629: 1584, 1001630: 1585, 1001631: 1586, 1001632: 1587, 1001634: 1589, 1001635: 1590, 1001636: 1591, 1001637: 1592, 1001639: 1594, 1001640: 1595, 1001641: 1596, 1001642: 1597, 1001643: 1598, 1001644: 1599, 1001645: 1600, 1001646: 1601, 1001647: 1602, 1001648: 1603, 1001649: 1604, 1001650: 1605, 1001651: 1606, 1001654: 1609, 1001655: 1610, 1001656: 1611, 1001657: 1612, 1001658: 1613, 1001659: 1614, 1001660: 1615, 1001663: 1618, 1001665: 1619, 1001666: 1620, 1001667: 1621, 1001668: 1622, 1001669: 1623, 1001670: 1624, 1001671: 1625, 1001672: 1626, 1001673: 1627, 1001675: 1629, 1001676: 1630, 1001677: 1631, 1001678: 1632, 1001679: 1633, 1001680: 1634, 1001681: 1635, 1001682: 1636, 1001683: 1637, 1001684: 1638, 1001685: 1639, 1001686: 1640, 1001687: 1641, 1001688: 1642, 1001691: 1643, 1001692: 1644, 1001693: 1645, 1001694: 1646, 1001695: 1647, 1001696: 1648, 1001697: 1649, 1001699: 1650, 1001700: 1651, 1001701: 1652, 1001702: 1653, 1001703: 1654, 1001704: 1655, 1001705: 1656, 1001706: 1657, 1001707: 1658, 1001709: 1660, 1001710: 1661, 1001711: 1662, 1001712: 1663, 1001713: 1664, 1001714: 1665, 1001715: 1666, 1001716: 1667, 1001717: 1668, 1001718: 1669, 1001719: 1670, 1001720: 1671, 1001721: 1672, 1001722: 1673, 1001723: 1674, 1001724: 1675, 1001726: 1677, 1001727: 1678, 1001728: 1679, 1001729: 1680, 1001731: 1682, 1001732: 1683, 1001733: 1684, 1001734: 1685, 1001735: 1686, 1001736: 1687, 1001737: 1688, 1001738: 1689, 1001739: 1690, 1001740: 1691, 1001741: 1692, 1001742: 1693, 1001743: 1694, 1001744: 1695, 1001745: 1696, 1001746: 1697, 1001747: 1698, 1001748: 1699, 1001749: 1700, 1001750: 1701, 1001751: 1702, 1001752: 1703, 1001753: 1704, 1001754: 1705, 1001755: 1706, 1001756: 1707, 1001757: 1708, 1001758: 1709, 1001759: 1710, 1001760: 1711, 1001761: 1712, 1001762: 1713, 1001763: 1714, 1001764: 1715, 1001765: 1716, 1001766: 1717, 1001767: 1718, 1001768: 1719, 1001769: 1720, 1001770: 1721, 1001771: 1722, 1001774: 1725, 1001775: 1726, 1001776: 1727, 1001777: 1728, 1001778: 1729, 1001779: 1730, 1001780: 1731, 1001781: 1732, 1001782: 1733, 1001784: 1734, 1001785: 1735, 1001786: 1736, 1001787: 1737, 1001788: 1738, 1001789: 1739, 1001790: 1740, 1001791: 1741, 1001792: 1742, 1001793: 1743, 1001794: 1744, 1001795: 1745, 1001796: 1746, 1001797: 1747, 1001798: 1748, 1001799: 1749, 1001801: 1750, 1001802: 1751, 1001803: 1752, 1001804: 1753, 1001805: 1754, 1001806: 1755, 1001807: 1756, 1001808: 1757, 1001809: 1758, 1001810: 1759, 1001812: 1760, 1001813: 1761, 1001815: 1762, 1001816: 1763, 1001817: 1764, 1001818: 1765, 1001819: 1766, 1001820: 1767, 1001822: 1769, 1001823: 1770, 1001824: 1771, 1001825: 1772, 1001826: 1773, 1001827: 1774, 1001828: 1775, 1001830: 1777, 1001831: 1778, 1001832: 1779, 1001833: 1780, 1001834: 1781, 1001835: 1782, 1001836: 1783, 1001837: 1784, 1001838: 1785, 1001839: 1786, 1001841: 1788, 1001842: 1789, 1001843: 1790, 1001845: 1792, 1001847: 1794, 1001849: 1796, 1001850: 1797, 1001851: 1798, 1001852: 1799, 1001853: 1800, 1001854: 1801, 1001855: 1802, 1001856: 1803, 1001858: 1805, 1001859: 1806, 1001860: 1807, 1001861: 1808, 1001862: 1809, 1001863: 1810, 1001865: 1812, 1001866: 1813, 1001867: 1814, 1001868: 1815, 1001870: 1817, 1001871: 1818, 1001873: 1820, 1001874: 1821, 1001875: 1822, 1001876: 1823, 1001877: 1824, 1001878: 1825, 1001879: 1826, 1001880: 1827, 1001882: 1829, 1001883: 1830, 1001884: 1831, 1001885: 1832, 1001886: 1833, 1001887: 1834, 1001888: 1835, 1001889: 1836, 1001891: 1837, 1001892: 1838, 1001893: 1839, 1001894: 1840, 1001895: 1841, 1001896: 1842, 1001897: 1843, 1001899: 1845, 1001901: 1847, 1001902: 1848, 1001903: 1849, 1001904: 1850, 1001905: 1851, 1001907: 1853, 1001908: 1854, 1001909: 1855, 1001910: 1856, 1001911: 1857, 1001912: 1858, 1001914: 1859, 1001916: 1861, 1001917: 1862, 1001918: 1863, 1001920: 1865, 1001921: 1866, 1001922: 1867, 1001923: 1868, 1001925: 1869, 1001926: 1870, 1001927: 1871, 1001928: 1872, 1001929: 1873, 1001930: 1874, 1001931: 1875, 1001932: 1876, 1001933: 1877, 1001934: 1878, 1001937: 1881, 1001938: 1882, 1001939: 1883, 1001940: 1884, 1001941: 1885, 1001942: 1886, 1001943: 1887, 1001944: 1888, 1001945: 1889, 1001946: 1890, 1001947: 1891, 1001948: 1892, 1001949: 1893, 1001950: 1894, 1001951: 1895, 1001952: 1896, 1001953: 1897, 1001954: 1898, 1001955: 1899, 1001956: 1900, 1001957: 1901, 1001958: 1902, 1001960: 1904, 1001961: 1905, 1001962: 1906, 1001963: 1907, 1001964: 1908, 1001965: 1909, 1001966: 1910, 1001967: 1911, 1001968: 1912, 1001969: 1913, 1001970: 1914, 1001971: 1915, 1001972: 1916, 1001973: 1917, 1001974: 1918, 1001976: 1919, 1001977: 1920, 1001978: 1921, 1001979: 1922, 1001980: 1923, 1001981: 1924, 1001982: 1925, 1001983: 1926, 1001984: 1927, 1001985: 1928, 1001986: 1929, 1001988: 1931, 1001989: 1932, 1001990: 1933, 1001992: 1935, 1001993: 1936, 1001994: 1937, 1001995: 1938, 1001996: 1939, 1001997: 1940, 1001998: 1941, 1001999: 1942, 1002000: 1943, 1002001: 1944, 1002002: 1945, 1002003: 1946, 1002004: 1947, 1002005: 1948, 1002006: 1949, 1002007: 1950, 1002008: 1951, 1002009: 1952, 1002010: 1953, 1002011: 1954, 1002012: 1955, 1002013: 1956, 1002014: 1957, 1002015: 1958, 1002016: 1959, 1002017: 1960, 1002018: 1961, 1002020: 1963, 1002021: 1964, 1002022: 1965, 1002023: 1966, 1002024: 1967, 1002025: 1968, 1002026: 1969, 1002027: 1970, 1002028: 1971, 1002029: 1972, 1002030: 1973, 1002031: 1974, 1002032: 1975, 1002033: 1976, 1002034: 1977, 1002035: 1978, 1002036: 1979, 1002037: 1980, 1002038: 1981, 1002039: 1982, 1002041: 1984, 1002042: 1985, 1002043: 1986, 1002044: 1987, 1002046: 1989, 1002047: 1990, 1002048: 1991, 1002049: 1992, 1002050: 1993, 1002051: 1994, 1002052: 1995, 1002053: 1996, 1002054: 1997, 1002055: 1998, 1002056: 1999, 1002057: 2000, 1002058: 2001, 1002059: 2002, 1002060: 2003, 1002062: 2005, 1002063: 2006, 1002064: 2007, 1002065: 2008, 1002066: 2009, 1002067: 2010, 1002068: 2011, 1002069: 2012, 1002070: 2013, 1002071: 2014, 1002072: 2015, 1002073: 2016, 1002074: 2017, 1002075: 2018, 1002076: 2019, 1002078: 2020, 1002079: 2021, 1002081: 2023, 1002083: 2024, 1002084: 2025, 1002085: 2026, 1002086: 2027, 1002087: 2028, 1002088: 2029, 1002089: 2030, 1002090: 2031, 1002091: 2032, 1002092: 2033, 1002093: 2034, 1002094: 2035, 1002095: 2036, 1002096: 2037, 1002097: 2038, 1002098: 2039, 1002099: 2040, 1002100: 2041, 1002101: 2042, 1002102: 2043, 1002103: 2044, 1002104: 2045, 1002105: 2046, 1002106: 2047, 1002108: 2049, 1002109: 2050, 1002110: 2051, 1002111: 2052, 1002112: 2053, 1002113: 2054, 1002114: 2055, 1002115: 2056, 1002116: 2057, 1002117: 2058, 1002119: 2060, 1002121: 2061, 1002122: 2062, 1002123: 2063, 1002124: 2064, 1002125: 2065, 1002126: 2066, 1002127: 2067, 1002129: 2069, 1002130: 2070, 1002131: 2071, 1002132: 2072, 1002134: 2074, 1002136: 2076, 1002137: 2077, 1002138: 2078, 1002139: 2079, 1002140: 2080, 1002141: 2081, 1002143: 2083, 1002144: 2084, 1002145: 2085, 1002146: 2086, 1002147: 2087, 1002148: 2088, 1002149: 2089, 1002150: 2090, 1002151: 2091, 1002152: 2092, 1002153: 2093, 1002154: 2094, 1002155: 2095, 1002156: 2096, 1002157: 2097, 1002158: 2098, 1002159: 2099, 1002160: 2100, 1002161: 2101, 1002162: 2102, 1002163: 2103, 1002164: 2104, 1002165: 2105, 1002166: 2106, 1002167: 2107, 1002168: 2108, 1002169: 2109, 1002170: 2110, 1002171: 2111, 1002172: 2112, 1002173: 2113, 1002174: 2114, 1002175: 2115, 1002176: 2116, 1002177: 2117, 1002178: 2118, 1002179: 2119, 1002180: 2120, 1002181: 2121, 1002183: 2123, 1002184: 2124, 1002185: 2125, 1002186: 2126, 1002187: 2127, 1002188: 2128, 1002189: 2129, 1002190: 2130, 1002192: 2132, 1002193: 2133, 1002194: 2134, 1002195: 2135, 1002196: 2136, 1002197: 2137, 1002198: 2138, 1002199: 2139, 1002200: 2140, 1002201: 2141, 1002202: 2142, 1002203: 2143, 1002204: 2144, 1002205: 2145, 1002206: 2146, 1002207: 2147, 1002208: 2148, 1002209: 2149, 1002210: 2150, 1002211: 2151, 1002212: 2152, 1002213: 2153, 1002214: 2154, 1002215: 2155, 1002216: 2156, 1002217: 2157, 1002218: 2158, 1002219: 2159, 1002220: 2160, 1002221: 2161, 1002222: 2162, 1002223: 2163, 1002224: 2164, 1002225: 2165, 1002228: 2168, 1002230: 2170, 1002231: 2171, 1002232: 2172, 1002233: 2173, 1002234: 2174, 1002235: 2175, 1002236: 2176, 1002237: 2177, 1002238: 2178, 1002239: 2179, 1002240: 2180, 1002241: 2181, 1002242: 2182, 1002243: 2183, 1002245: 2184, 1002247: 2185, 1002248: 2186, 1002249: 2187, 1002250: 2188, 1002251: 2189, 1002252: 2190, 1002253: 2191, 1002254: 2192, 1002255: 2193, 1002256: 2194, 1002257: 2195, 1002258: 2196, 1002259: 2197, 1002260: 2198, 1002261: 2199, 1002262: 2200, 1002263: 2201, 1002264: 2202, 1002265: 2203, 1002266: 2204, 1002267: 2205, 1002268: 2206, 1002270: 2208, 1002271: 2209, 1002272: 2210, 1002273: 2211, 1002274: 2212, 1002275: 2213, 1002276: 2214, 1002278: 2215, 1002279: 2216, 1002280: 2217, 1002281: 2218, 1002283: 2219, 1002284: 2220, 1002285: 2221, 1002286: 2222, 1002287: 2223, 1002288: 2224, 1002289: 2225, 1002291: 2226, 1002292: 2227, 1002293: 2228, 1002294: 2229, 1002296: 2231, 1002297: 2232, 1002298: 2233, 1002299: 2234, 1002300: 2235, 1002302: 2236, 1002303: 2237, 1002304: 2238, 1002305: 2239, 1002306: 2240, 1002307: 2241, 1002308: 2242, 1002309: 2243, 1002310: 2244, 1002311: 2245, 1002313: 2247, 1002314: 2248, 1002316: 2250, 1002318: 2251, 1002319: 2252, 1002320: 2253, 1002321: 2254, 1002322: 2255, 1002323: 2256, 1002324: 2257, 1002325: 2258, 1002327: 2260, 1002329: 2262, 1002330: 2263, 1002331: 2264, 1002332: 2265, 1002334: 2267, 1002335: 2268, 1002336: 2269, 1002338: 2271, 1002339: 2272, 1002340: 2273, 1002341: 2274, 1002342: 2275, 1002343: 2276, 1002344: 2277, 1002346: 2278, 1002347: 2279, 1002348: 2280, 1002349: 2281, 1002350: 2282, 1002351: 2283, 1002352: 2284, 1002353: 2285, 1002354: 2286, 1002355: 2287, 1002357: 2289, 1002359: 2291, 1002361: 2293, 1002362: 2294, 1002364: 2296, 1002365: 2297, 1002366: 2298, 1002367: 2299, 1002368: 2300, 1002369: 2301, 1002370: 2302, 1002371: 2303, 1002372: 2304, 1002374: 2305, 1002376: 2307, 1002378: 2309, 1002379: 2310, 1002380: 2311, 1002381: 2312, 1002382: 2313, 1002383: 2314, 1002386: 2317, 1002387: 2318, 1002389: 2320, 1002390: 2321, 1002391: 2322, 1002392: 2323, 1002393: 2324, 1002394: 2325, 1002395: 2326, 1002396: 2327, 1002397: 2328, 1002398: 2329, 1002399: 2330, 1002401: 2331, 1002402: 2332, 1002404: 2333, 1002405: 2334, 1002406: 2335, 1002407: 2336, 1002408: 2337, 1002409: 2338, 1002410: 2339, 1002411: 2340, 1002414: 2343, 1002415: 2344, 1002416: 2345, 1002418: 2347, 1002419: 2348, 1002420: 2349, 1002421: 2350, 1002423: 2352, 1002424: 2353, 1002425: 2354, 1002426: 2355, 1002427: 2356, 1002428: 2357, 1002429: 2358, 1002430: 2359, 1002434: 2363, 1002435: 2364, 1002436: 2365, 1002437: 2366, 1002438: 2367, 1002439: 2368, 1002440: 2369, 1002441: 2370, 1002442: 2371, 1002444: 2373, 1002445: 2374, 1002446: 2375, 1002447: 2376, 1002449: 2377, 1002451: 2379, 1002452: 2380, 1002453: 2381, 1002454: 2382, 1002455: 2383, 1002456: 2384, 1002457: 2385, 1002458: 2386, 1002459: 2387, 1002460: 2388, 1002461: 2389, 1002462: 2390, 1002463: 2391, 1002464: 2392, 1002465: 2393, 1002466: 2394, 1002467: 2395, 1002468: 2396, 1002469: 2397, 1002472: 2400, 1002473: 2401, 1002474: 2402, 1002475: 2403, 1002476: 2404, 1002477: 2405, 1002478: 2406, 1002479: 2407, 1002480: 2408, 1002481: 2409, 1002482: 2410, 1002483: 2411, 1002484: 2412, 1002485: 2413, 1002486: 2414, 1002489: 2417, 1002490: 2418, 1002491: 2419, 1002492: 2420, 1002493: 2421, 1002494: 2422, 1002496: 2424, 1002497: 2425, 1002498: 2426, 1002499: 2427, 1002500: 2428, 1002501: 2429, 1002502: 2430, 1002503: 2431, 1002504: 2432, 1002505: 2433, 1002506: 2434, 1002507: 2435, 1002508: 2436, 1002509: 2437, 1002510: 2438, 1002511: 2439, 1002512: 2440, 1002513: 2441, 1002514: 2442, 1002516: 2444, 1002517: 2445, 1002518: 2446, 1002519: 2447, 1002520: 2448, 1002521: 2449, 1002522: 2450, 1002523: 2451, 1002525: 2453, 1002526: 2454, 1002528: 2456, 1002529: 2457, 1002530: 2458, 1002532: 2460, 1002533: 2461, 1002535: 2463, 1002536: 2464, 1002537: 2465, 1002538: 2466, 1002539: 2467, 1002540: 2468, 1002541: 2469, 1002544: 2472, 1002546: 2474, 1002547: 2475, 1002548: 2476, 1002550: 2478, 1002551: 2479, 1002552: 2480, 1002554: 2482, 1002555: 2483, 1002556: 2484, 1002557: 2485, 1002558: 2486, 1002559: 2487, 1002560: 2488, 1002561: 2489, 1002564: 2491, 1002565: 2492, 1002566: 2493, 1002567: 2494, 1002568: 2495, 1002569: 2496, 1002570: 2497, 1002571: 2498, 1002572: 2499, 1002573: 2500, 1002574: 2501, 1002575: 2502, 1002576: 2503, 1002577: 2504, 1002578: 2505, 1002579: 2506, 1002580: 2507, 1002581: 2508, 1002583: 2510, 1002585: 2512, 1002586: 2513, 1002587: 2514, 1002588: 2515, 1002589: 2516, 1002590: 2517, 1002592: 2519, 1002593: 2520, 1002594: 2521, 1002595: 2522, 1002596: 2523, 1002597: 2524, 1002599: 2526, 1002600: 2527, 1002602: 2529, 1002603: 2530, 1002604: 2531, 1002605: 2532, 1002606: 2533, 1002607: 2534, 1002608: 2535, 1002610: 2536, 1002611: 2537, 1002613: 2539, 1002614: 2540, 1002617: 2543, 1002620: 2546, 1002621: 2547, 1002622: 2548, 1002624: 2550, 1002625: 2551, 1002627: 2553, 1002628: 2554, 1002629: 2555, 1002630: 2556, 1002631: 2557, 1002632: 2558, 1002634: 2560, 1002636: 2561, 1002637: 2562, 1002638: 2563, 1002639: 2564, 1002641: 2566, 1002642: 2567, 1002643: 2568, 1002644: 2569, 1002645: 2570, 1002646: 2571, 1002647: 2572, 1002648: 2573, 1002649: 2574, 1002650: 2575, 1002651: 2576, 1002653: 2578, 1002654: 2579, 1002655: 2580, 1002656: 2581, 1002657: 2582, 1002659: 2584, 1002660: 2585, 1002661: 2586, 1002663: 2588, 1002664: 2589, 1002665: 2590, 1002666: 2591, 1002668: 2593, 1002669: 2594, 1002670: 2595, 1002671: 2596, 1002672: 2597, 1002673: 2598, 1002674: 2599, 1002675: 2600, 1002676: 2601, 1002678: 2603, 1002679: 2604, 1002680: 2605, 1002681: 2606, 1002682: 2607, 1002683: 2608, 1002684: 2609, 1002685: 2610, 1002686: 2611, 1002687: 2612, 1002688: 2613, 1002689: 2614, 1002691: 2616, 1002692: 2617, 1002693: 2618, 1002694: 2619, 1002695: 2620, 1002696: 2621, 1002697: 2622, 1002699: 2624, 1002700: 2625, 1002701: 2626, 1002703: 2627, 1002704: 2628, 1002705: 2629, 1002706: 2630, 1002707: 2631, 1002710: 2634, 1002711: 2635, 1002712: 2636, 1002713: 2637, 1002714: 2638, 1002715: 2639, 1002717: 2641, 1002718: 2642, 1002719: 2643, 1002720: 2644, 1002724: 2647, 1002725: 2648, 1002726: 2649, 1002727: 2650, 1002728: 2651, 1002729: 2652, 1002730: 2653, 1002731: 2654, 1002732: 2655, 1002733: 2656, 1002734: 2657, 1002735: 2658, 1002736: 2659, 1002737: 2660, 1002738: 2661, 1002740: 2663, 1002741: 2664, 1002742: 2665, 1002743: 2666, 1002744: 2667, 1002745: 2668, 1002747: 2670, 1002748: 2671, 1002749: 2672, 1002750: 2673, 1002751: 2674, 1002752: 2675, 1002753: 2676, 1002754: 2677, 1002755: 2678, 1002756: 2679, 1002757: 2680, 1002760: 2683, 1002761: 2684, 1002762: 2685, 1002763: 2686, 1002764: 2687, 1002765: 2688, 1002766: 2689, 1002767: 2690, 1002768: 2691, 1002769: 2692, 1002770: 2693, 1002771: 2694, 1002772: 2695, 1002773: 2696, 1002774: 2697, 1002775: 2698, 1002776: 2699, 1002777: 2700, 1002778: 2701, 1002779: 2702, 1002780: 2703, 1002781: 2704, 1002782: 2705, 1002783: 2706, 1002784: 2707, 1002785: 2708, 1002786: 2709, 1002787: 2710, 1002788: 2711, 1002789: 2712, 1002790: 2713, 1002792: 2715, 1002793: 2716, 1002794: 2717, 1002795: 2718, 1002796: 2719, 1002797: 2720, 1002798: 2721, 1002799: 2722, 1002800: 2723, 1002801: 2724, 1002802: 2725, 1002803: 2726, 1002804: 2727, 1002806: 2729, 1002807: 2730, 1002808: 2731, 1002809: 2732, 1002810: 2733, 1002811: 2734, 1002812: 2735, 1002813: 2736, 1002814: 2737, 1002817: 2740, 1002818: 2741, 1002819: 2742, 1002820: 2743, 1002822: 2745, 1002823: 2746, 1002824: 2747, 1002825: 2748, 1002826: 2749, 1002828: 2751, 1002830: 2752, 1002831: 2753, 1002832: 2754, 1002833: 2755, 1002834: 2756, 1002835: 2757, 1002837: 2759, 1002838: 2760, 1002839: 2761, 1002840: 2762, 1002841: 2763, 1002842: 2764, 1002844: 2766, 1002845: 2767, 1002846: 2768, 1002847: 2769, 1002848: 2770, 1002849: 2771, 1002852: 2774, 1002853: 2775, 1002854: 2776, 1002855: 2777, 1002856: 2778, 1002857: 2779, 1002858: 2780, 1002859: 2781, 1002860: 2782, 1002861: 2783, 1002862: 2784, 1002863: 2785, 1002864: 2786, 1002865: 2787, 1002866: 2788, 1002868: 2790, 1002869: 2791, 1002870: 2792, 1002872: 2794, 1002873: 2795, 1002874: 2796, 1002876: 2798, 1002877: 2799, 1002878: 2800, 1002879: 2801, 1002880: 2802, 1002881: 2803, 1002882: 2804, 1002883: 2805, 1002884: 2806, 1002885: 2807, 1002886: 2808, 1002887: 2809, 1002888: 2810, 1002889: 2811, 1002890: 2812, 1002891: 2813, 1002892: 2814, 1002894: 2816, 1002895: 2817, 1002896: 2818, 1002897: 2819, 1002899: 2821, 1002900: 2822, 1002901: 2823, 1002903: 2825, 1002904: 2826, 1002905: 2827, 1002906: 2828, 1002907: 2829, 1002908: 2830, 1002909: 2831, 1002910: 2832, 1002911: 2833, 1002913: 2835, 1002914: 2836, 1002915: 2837, 1002916: 2838, 1002917: 2839, 1002918: 2840, 1002919: 2841, 1002920: 2842, 1002921: 2843, 1002922: 2844, 1002926: 2847, 1002927: 2848, 1002928: 2849, 1002929: 2850, 1002930: 2851, 1002931: 2852, 1002933: 2854, 1002934: 2855, 1002935: 2856, 1002937: 2858, 1002938: 2859, 1002939: 2860, 1002941: 2862, 1002942: 2863, 1002943: 2864, 1002945: 2865, 1002946: 2866, 1002947: 2867, 1002948: 2868, 1002949: 2869, 1002950: 2870, 1002951: 2871, 1002952: 2872, 1002953: 2873, 1002954: 2874, 1002955: 2875, 1002956: 2876, 1002957: 2877, 1002958: 2878, 1002959: 2879, 1002960: 2880, 1002961: 2881, 1002962: 2882, 1002963: 2883, 1002966: 2886, 1002967: 2887, 1002968: 2888, 1002969: 2889, 1002970: 2890, 1002971: 2891, 1002972: 2892, 1002973: 2893, 1002974: 2894, 1002975: 2895, 1002977: 2896, 1002978: 2897, 1002980: 2899, 1002981: 2900, 1002982: 2901, 1002983: 2902, 1002984: 2903, 1002985: 2904, 1002986: 2905, 1002987: 2906, 1002988: 2907, 1002989: 2908, 1002990: 2909, 1002991: 2910, 1002992: 2911, 1002993: 2912, 1002994: 2913, 1002995: 2914, 1002996: 2915, 1002997: 2916, 1002998: 2917, 1002999: 2918, 1003000: 2919, 1003001: 2920, 1003002: 2921, 1003003: 2922, 1003004: 2923, 1003005: 2924, 1003006: 2925, 1003007: 2926, 1003008: 2927, 1003010: 2929, 1003011: 2930, 1003012: 2931, 1003013: 2932, 1003014: 2933, 1003015: 2934, 1003017: 2936, 1003018: 2937, 1003019: 2938, 1003020: 2939, 1003022: 2941, 1003023: 2942, 1003024: 2943, 1003025: 2944, 1003026: 2945, 1003027: 2946, 1003028: 2947, 1003029: 2948, 1003030: 2949, 1003031: 2950, 1003032: 2951, 1003033: 2952, 1003034: 2953, 1003035: 2954, 1003036: 2955, 1003037: 2956, 1003038: 2957, 1003039: 2958, 1003040: 2959, 1003041: 2960, 1003042: 2961, 1003043: 2962, 1003044: 2963, 1003045: 2964, 1003046: 2965, 1003047: 2966, 1003048: 2967, 1003049: 2968, 1003050: 2969, 1003051: 2970, 1003052: 2971, 1003053: 2972, 1003054: 2973, 1003055: 2974, 1003056: 2975, 1003057: 2976, 1003058: 2977, 1003059: 2978, 1003060: 2979, 1003061: 2980, 1003062: 2981, 1003063: 2982, 1003064: 2983, 1003065: 2984, 1003066: 2985, 1003067: 2986, 1003069: 2988, 1003070: 2989, 1003071: 2990, 1003072: 2991, 1003073: 2992, 1003074: 2993, 1003075: 2994, 1003077: 2995, 1003078: 2996, 1003079: 2997, 1003080: 2998, 1003081: 2999, 1003082: 3000, 1003083: 3001, 1003084: 3002, 1003085: 3003, 1003086: 3004, 1003087: 3005, 1003089: 3007, 1003090: 3008, 1003091: 3009, 1003092: 3010, 1003093: 3011, 1003094: 3012, 1003095: 3013, 1003096: 3014, 1003097: 3015, 1003098: 3016, 1003099: 3017, 1003100: 3018, 1003101: 3019, 1003102: 3020, 1003104: 3022, 1003105: 3023, 1003106: 3024, 1003108: 3025, 1003109: 3026, 1003110: 3027, 1003111: 3028, 1003112: 3029, 1003113: 3030, 1003114: 3031, 1003115: 3032, 1003116: 3033, 1003118: 3035, 1003119: 3036, 1003121: 3038, 1003122: 3039, 1003123: 3040, 1003124: 3041, 1003125: 3042, 1003126: 3043, 1003127: 3044, 1003128: 3045, 1003129: 3046, 1003130: 3047, 1003131: 3048, 1003132: 3049, 1003134: 3051, 1003135: 3052, 1003136: 3053, 1003138: 3054, 1003140: 3055, 1003141: 3056, 1003142: 3057, 1003143: 3058, 1003144: 3059, 1003145: 3060, 1003146: 3061, 1003147: 3062, 1003148: 3063, 1003149: 3064, 1003150: 3065, 1003151: 3066, 1003152: 3067, 1003153: 3068, 1003154: 3069, 1003155: 3070, 1003156: 3071, 1003157: 3072, 1003158: 3073, 1003159: 3074, 1003160: 3075, 1003161: 3076, 1003164: 3077, 1003165: 3078, 1003166: 3079, 1003167: 3080, 1003168: 3081, 1003169: 3082, 1003170: 3083, 1003171: 3084, 1003172: 3085, 1003173: 3086, 1003174: 3087, 1003175: 3088, 1003177: 3090, 1003178: 3091, 1003180: 3092, 1003182: 3094, 1003183: 3095, 1003184: 3096, 1003185: 3097, 1003187: 3099, 1003189: 3101, 1003190: 3102, 1003191: 3103, 1003192: 3104, 1003193: 3105, 1003194: 3106, 1003195: 3107, 1003196: 3108, 1003197: 3109, 1003198: 3110, 1003199: 3111, 1003200: 3112, 1003201: 3113, 1003202: 3114, 1003203: 3115, 1003204: 3116, 1003205: 3117, 1003206: 3118, 1003207: 3119, 1003208: 3120, 1003209: 3121, 1003211: 3122, 1003212: 3123, 1003213: 3124, 1003215: 3126, 1003216: 3127, 1003217: 3128, 1003218: 3129, 1003219: 3130, 1003220: 3131, 1003222: 3133, 1003223: 3134, 1003224: 3135, 1003225: 3136, 1003226: 3137, 1003227: 3138, 1003229: 3139, 1003230: 3140, 1003231: 3141, 1003232: 3142, 1003233: 3143, 1003234: 3144, 1003237: 3146, 1003238: 3147, 1003239: 3148, 1003240: 3149, 1003241: 3150, 1003242: 3151, 1003243: 3152, 1003245: 3154, 1003246: 3155, 1003248: 3157, 1003249: 3158, 1003250: 3159, 1003251: 3160, 1003253: 3162, 1003254: 3163, 1003256: 3165, 1003257: 3166, 1003258: 3167, 1003259: 3168, 1003260: 3169, 1003261: 3170, 1003262: 3171, 1003263: 3172, 1003264: 3173, 1003265: 3174, 1003266: 3175, 1003267: 3176, 1003268: 3177, 1003269: 3178, 1003270: 3179, 1003272: 3180, 1003274: 3182, 1003277: 3185, 1003278: 3186, 1003279: 3187, 1003280: 3188, 1003281: 3189, 1003282: 3190, 1003283: 3191, 1003285: 3193, 1003286: 3194, 1003288: 3196, 1003290: 3198, 1003291: 3199, 1003292: 3200, 1003294: 3202, 1003295: 3203, 1003296: 3204, 1003297: 3205, 1003299: 3207, 1003300: 3208, 1003301: 3209, 1003302: 3210, 1003303: 3211, 1003304: 3212, 1003305: 3213, 1003306: 3214, 1003308: 3216, 1003309: 3217, 1003311: 3219, 1003312: 3220, 1003313: 3221, 1003314: 3222, 1003315: 3223, 1003316: 3224, 1003317: 3225, 1003318: 3226, 1003319: 3227, 1003320: 3228, 1003321: 3229, 1003322: 3230, 1003323: 3231, 1003324: 3232, 1003326: 3234, 1003327: 3235, 1003328: 3236, 1003329: 3237, 1003331: 3239, 1003332: 3240, 1003333: 3241, 1003334: 3242, 1003335: 3243, 1003336: 3244, 1003337: 3245, 1003338: 3246, 1003339: 3247, 1003340: 3248, 1003341: 3249, 1003342: 3250, 1003343: 3251, 1003345: 3253, 1003346: 3254, 1003347: 3255, 1003348: 3256, 1003349: 3257, 1003351: 3258, 1003352: 3259, 1003353: 3260, 1003354: 3261, 1003355: 3262, 1003356: 3263, 1003357: 3264, 1003358: 3265, 1003359: 3266, 1003360: 3267, 1003361: 3268, 1003362: 3269, 1003363: 3270, 1003364: 3271, 1003365: 3272, 1003366: 3273, 1003367: 3274, 1003368: 3275, 1003370: 3276, 1003371: 3277, 1003372: 3278, 1003373: 3279, 1003374: 3280, 1003377: 3283, 1003378: 3284, 1003379: 3285, 1003380: 3286, 1003381: 3287, 1003382: 3288, 1003383: 3289, 1003384: 3290, 1003385: 3291, 1003386: 3292, 1003387: 3293, 1003389: 3295, 1003390: 3296, 1003391: 3297, 1003392: 3298, 1003393: 3299, 1003394: 3300, 1003395: 3301, 1003396: 3302, 1003397: 3303, 1003398: 3304, 1003399: 3305, 1003400: 3306, 1003401: 3307, 1003402: 3308, 1003403: 3309, 1003404: 3310, 1003405: 3311, 1003408: 3314, 1003410: 3316, 1003411: 3317, 1003412: 3318, 1003413: 3319, 1003414: 3320, 1003415: 3321, 1003416: 3322, 1003417: 3323, 1003418: 3324, 1003419: 3325, 1003420: 3326, 1003422: 3328, 1003423: 3329, 1003424: 3330, 1003425: 3331, 1003426: 3332, 1003427: 3333, 1003428: 3334, 1003429: 3335, 1003430: 3336, 1003431: 3337, 1003432: 3338, 1003433: 3339, 1003434: 3340, 1003435: 3341, 1003436: 3342, 1003438: 3344, 1003439: 3345, 1003440: 3346, 1003441: 3347, 1003442: 3348, 1003444: 3350, 1003445: 3351, 1003447: 3353, 1003449: 3355, 1003450: 3356, 1003451: 3357, 1003453: 3359, 1003454: 3360, 1003456: 3362, 1003457: 3363, 1003458: 3364, 1003460: 3366, 1003461: 3367, 1003462: 3368, 1003463: 3369, 1003464: 3370, 1003465: 3371, 1003466: 3372, 1003467: 3373, 1003468: 3374, 1003469: 3375, 1003470: 3376, 1003471: 3377, 1003472: 3378, 1003473: 3379, 1003474: 3380, 1003475: 3381, 1003476: 3382, 1003477: 3383, 1003478: 3384, 1003479: 3385, 1003480: 3386, 1003481: 3387, 1003482: 3388, 1003483: 3389, 1003484: 3390, 1003485: 3391, 1003486: 3392, 1003487: 3393, 1003488: 3394, 1003489: 3395, 1003490: 3396, 1003491: 3397, 1003492: 3398, 1003493: 3399, 1003494: 3400, 1003496: 3402, 1003497: 3403, 1003498: 3404, 1003499: 3405, 1003500: 3406, 1003501: 3407, 1003503: 3409, 1003504: 3410, 1003505: 3411, 1003506: 3412, 1003507: 3413, 1003508: 3414, 1003509: 3415, 1003510: 3416, 1003511: 3417, 1003512: 3418, 1003513: 3419, 1003514: 3420, 1003515: 3421, 1003516: 3422, 1003517: 3423, 1003518: 3424, 1003519: 3425, 1003521: 3426, 1003522: 3427, 1003523: 3428, 1003524: 3429, 1003525: 3430, 1003526: 3431, 1003527: 3432, 1003528: 3433, 1003529: 3434, 1003530: 3435, 1003531: 3436, 1003532: 3437, 1003533: 3438, 1003535: 3439, 1003536: 3440, 1003537: 3441, 1003538: 3442, 1003539: 3443, 1003540: 3444, 1003541: 3445, 1003543: 3447, 1003544: 3448, 1003545: 3449, 1003546: 3450, 1003547: 3451, 1003549: 3453, 1003550: 3454, 1003551: 3455, 1003552: 3456, 1003553: 3457, 1003554: 3458, 1003555: 3459, 1003556: 3460, 1003557: 3461, 1003558: 3462, 1003559: 3463, 1003560: 3464, 1003562: 3465, 1003563: 3466, 1003564: 3467, 1003565: 3468, 1003567: 3470, 1003568: 3471, 1003569: 3472, 1003571: 3473, 1003572: 3474, 1003573: 3475, 1003574: 3476, 1003575: 3477, 1003576: 3478, 1003577: 3479, 1003578: 3480, 1003579: 3481, 1003580: 3482, 1003581: 3483, 1003582: 3484, 1003583: 3485, 1003585: 3487, 1003586: 3488, 1003588: 3490, 1003589: 3491, 1003590: 3492, 1003591: 3493, 1003592: 3494, 1003593: 3495, 1003594: 3496, 1003595: 3497, 1003596: 3498, 1003597: 3499, 1003598: 3500, 1003599: 3501, 1003600: 3502, 1003601: 3503, 1003603: 3505, 1003604: 3506, 1003605: 3507, 1003606: 3508, 1003607: 3509, 1003608: 3510, 1003609: 3511, 1003610: 3512, 1003611: 3513, 1003612: 3514, 1003613: 3515, 1003614: 3516, 1003615: 3517, 1003616: 3518, 1003618: 3520, 1003619: 3521, 1003620: 3522, 1003621: 3523, 1003622: 3524, 1003624: 3526, 1003625: 3527, 1003626: 3528, 1003628: 3530, 1003629: 3531, 1003630: 3532, 1003633: 3535, 1003634: 3536, 1003635: 3537, 1003637: 3539, 1003638: 3540, 1003639: 3541, 1003640: 3542, 1003641: 3543, 1003642: 3544, 1003643: 3545, 1003644: 3546, 1003645: 3547, 1003646: 3548, 1003647: 3549, 1003648: 3550, 1003649: 3551, 1003650: 3552, 1003651: 3553, 1003652: 3554, 1003653: 3555, 1003654: 3556, 1003655: 3557, 1003656: 3558, 1003657: 3559, 1003658: 3560, 1003659: 3561, 1003660: 3562, 1003661: 3563, 1003662: 3564, 1003663: 3565, 1003664: 3566, 1003665: 3567, 1003667: 3568, 1003669: 3570, 1003670: 3571, 1003671: 3572, 1003672: 3573, 1003673: 3574, 1003675: 3575, 1003676: 3576, 1003677: 3577, 1003678: 3578, 1003679: 3579, 1003680: 3580, 1003681: 3581, 1003682: 3582, 1003683: 3583, 1003684: 3584, 1003685: 3585, 1003686: 3586, 1003687: 3587, 1003688: 3588, 1003689: 3589, 1003690: 3590, 1003691: 3591, 1003692: 3592, 1003693: 3593, 1003694: 3594, 1003695: 3595, 1003696: 3596, 1003697: 3597, 1003698: 3598, 1003699: 3599, 1003700: 3600, 1003701: 3601, 1003702: 3602, 1003703: 3603, 1003704: 3604, 1003705: 3605, 1003706: 3606, 1003707: 3607, 1003708: 3608, 1003709: 3609, 1003710: 3610, 1003711: 3611, 1003712: 3612, 1003713: 3613, 1003714: 3614, 1003715: 3615, 1003716: 3616, 1003717: 3617, 1003718: 3618, 1003719: 3619, 1003720: 3620, 1003721: 3621, 1003723: 3623, 1003724: 3624, 1003725: 3625, 1003726: 3626, 1003727: 3627, 1003728: 3628, 1003729: 3629, 1003730: 3630, 1003731: 3631, 1003732: 3632, 1003733: 3633, 1003735: 3635, 1003736: 3636, 1003737: 3637, 1003739: 3639, 1003740: 3640, 1003741: 3641, 1003742: 3642, 1003743: 3643, 1003744: 3644, 1003745: 3645, 1003746: 3646, 1003747: 3647, 1003748: 3648, 1003749: 3649, 1003750: 3650, 1003751: 3651, 1003752: 3652, 1003753: 3653, 1003754: 3654, 1003755: 3655, 1003756: 3656, 1003757: 3657, 1003758: 3658, 1003759: 3659, 1003760: 3660, 1003761: 3661, 1003762: 3662, 1003763: 3663, 1003764: 3664, 1003766: 3666, 1003767: 3667, 1003768: 3668, 1003769: 3669, 1003770: 3670, 1003771: 3671, 1003772: 3672, 1003773: 3673, 1003774: 3674, 1003775: 3675, 1003776: 3676, 1003777: 3677, 1003778: 3678, 1003779: 3679, 1003780: 3680, 1003781: 3681, 1003782: 3682, 1003784: 3684, 1003785: 3685, 1003787: 3687, 1003788: 3688, 1003789: 3689, 1003790: 3690, 1003791: 3691, 1003792: 3692, 1003793: 3693, 1003794: 3694, 1003795: 3695, 1003796: 3696, 1003797: 3697, 1003798: 3698, 1003799: 3699, 1003800: 3700, 1003801: 3701, 1003802: 3702, 1003804: 3704, 1003805: 3705, 1003806: 3706, 1003807: 3707, 1003808: 3708, 1003810: 3710, 1003811: 3711, 1003812: 3712, 1003814: 3714, 1003815: 3715, 1003816: 3716, 1003817: 3717, 1003819: 3719, 1003820: 3720, 1003821: 3721, 1003822: 3722, 1003823: 3723, 1003824: 3724, 1003825: 3725, 1003827: 3727, 1003828: 3728, 1003829: 3729, 1003830: 3730, 1003831: 3731, 1003832: 3732, 1003833: 3733, 1003834: 3734, 1003835: 3735, 1003836: 3736, 1003837: 3737, 1003838: 3738, 1003839: 3739, 1003840: 3740, 1003841: 3741, 1003842: 3742, 1003843: 3743, 1003844: 3744, 1003845: 3745, 1003846: 3746, 1003847: 3747, 1003848: 3748, 1003849: 3749, 1003850: 3750, 1003852: 3752, 1003853: 3753, 1003854: 3754, 1003855: 3755, 1003856: 3756, 1003857: 3757, 1003858: 3758, 1003859: 3759, 1003860: 3760, 1003861: 3761, 1003862: 3762, 1003864: 3764, 1003865: 3765, 1003866: 3766, 1003868: 3767, 1003869: 3768, 1003871: 3770, 1003872: 3771, 1003873: 3772, 1003874: 3773, 1003875: 3774, 1003876: 3775, 1003878: 3777, 1003879: 3778, 1003880: 3779, 1003881: 3780, 1003882: 3781, 1003884: 3783, 1003885: 3784, 1003886: 3785, 1003887: 3786, 1003888: 3787, 1003889: 3788, 1003890: 3789, 1003891: 3790, 1003892: 3791, 1003893: 3792, 1003894: 3793, 1003895: 3794, 1003896: 3795, 1003897: 3796, 1003898: 3797, 1003900: 3799, 1003901: 3800, 1003902: 3801, 1003903: 3802, 1003904: 3803, 1003905: 3804, 1003906: 3805, 1003907: 3806, 1003908: 3807, 1003909: 3808, 1003910: 3809, 1003912: 3811, 1003913: 3812, 1003914: 3813, 1003916: 3815, 1003917: 3816, 1003918: 3817, 1003919: 3818, 1003920: 3819, 1003921: 3820, 1003922: 3821, 1003923: 3822, 1003924: 3823, 1003925: 3824, 1003927: 3825, 1003928: 3826, 1003929: 3827, 1003930: 3828, 1003931: 3829, 1003932: 3830, 1003934: 3832, 1003935: 3833, 1003937: 3835, 1003938: 3836, 1003939: 3837, 1003940: 3838, 1003941: 3839, 1003942: 3840, 1003943: 3841, 1003944: 3842, 1003945: 3843, 1003946: 3844, 1003947: 3845, 1003948: 3846, 1003949: 3847, 1003950: 3848, 1003951: 3849, 1003952: 3850, 1003953: 3851, 1003954: 3852, 1003955: 3853, 1003956: 3854, 1003957: 3855, 1003958: 3856, 1003960: 3858, 1003961: 3859, 1003962: 3860, 1003963: 3861, 1003964: 3862, 1003965: 3863, 1003966: 3864, 1003967: 3865, 1003968: 3866, 1003970: 3868, 1003971: 3869, 1003972: 3870, 1003973: 3871, 1003974: 3872, 1003975: 3873, 1003976: 3874, 1003977: 3875, 1003978: 3876, 1003979: 3877, 1003980: 3878, 1003981: 3879, 1003982: 3880, 1003983: 3881, 1003984: 3882, 1003985: 3883, 1003987: 3885, 1003988: 3886, 1003989: 3887, 1003990: 3888, 1003991: 3889, 1003992: 3890, 1003993: 3891, 1003994: 3892, 1003995: 3893, 1003996: 3894, 1003997: 3895, 1003998: 3896, 1003999: 3897, 1004000: 3898, 1004001: 3899, 1004002: 3900, 1004004: 3902, 1004005: 3903, 1004006: 3904, 1004007: 3905, 1004008: 3906, 1004009: 3907, 1004010: 3908, 1004011: 3909, 1004012: 3910, 1004013: 3911, 1004014: 3912, 1004015: 3913, 1004016: 3914, 1004017: 3915, 1004018: 3916, 1004019: 3917, 1004020: 3918, 1004021: 3919, 1004022: 3920, 1004023: 3921, 1004024: 3922, 1004025: 3923, 1004026: 3924, 1004027: 3925, 1004028: 3926, 1004029: 3927, 1004030: 3928, 1004031: 3929, 1004032: 3930, 1004033: 3931, 1004034: 3932, 1004035: 3933, 1004036: 3934, 1004037: 3935, 1004038: 3936, 1004039: 3937, 1004040: 3938, 1004041: 3939, 1004042: 3940, 1004043: 3941, 1004044: 3942, 1004045: 3943, 1004046: 3944, 1004047: 3945, 1004048: 3946, 1004049: 3947, 1004050: 3948, 1004051: 3949, 1004052: 3950, 1004053: 3951, 1004054: 3952, 1004055: 3953, 1004056: 3954, 1004057: 3955, 1004058: 3956, 1004059: 3957, 1004060: 3958, 1004061: 3959, 1004062: 3960, 1004063: 3961, 1004064: 3962, 1004066: 3964, 1004067: 3965, 1004068: 3966, 1004069: 3967, 1004070: 3968, 1004071: 3969, 1004072: 3970, 1004075: 3972, 1004076: 3973, 1004077: 3974, 1004078: 3975, 1004079: 3976, 1004080: 3977, 1004081: 3978, 1004082: 3979, 1004083: 3980, 1004084: 3981, 1004085: 3982, 1004086: 3983, 1004088: 3985, 1004089: 3986, 1004090: 3987, 1004091: 3988, 1004092: 3989, 1004093: 3990, 1004094: 3991, 1004097: 3992, 1004098: 3993, 1004099: 3994, 1004101: 3996, 1004102: 3997, 1004103: 3998, 1004104: 3999, 1004105: 4000, 1004106: 4001, 1004107: 4002, 1004108: 4003, 1004109: 4004, 1004110: 4005, 1004111: 4006, 1004112: 4007, 1004114: 4009, 1004115: 4010, 1004116: 4011, 1004117: 4012, 1004118: 4013, 1004119: 4014, 1004120: 4015, 1004121: 4016, 1004122: 4017, 1004123: 4018, 1004124: 4019, 1004126: 4021, 1004127: 4022, 1004128: 4023, 1004129: 4024, 1004130: 4025, 1004131: 4026, 1004132: 4027, 1004133: 4028, 1004134: 4029, 1004135: 4030, 1004136: 4031, 1004137: 4032, 1004138: 4033, 1004139: 4034, 1004140: 4035, 1004141: 4036, 1004142: 4037, 1004144: 4039, 1004145: 4040, 1004147: 4042, 1004148: 4043, 1004149: 4044, 1004150: 4045, 1004152: 4046, 1004153: 4047, 1004155: 4049, 1004156: 4050, 1004157: 4051, 1004158: 4052, 1004159: 4053, 1004160: 4054, 1004161: 4055, 1004162: 4056, 1004163: 4057, 1004164: 4058, 1004165: 4059, 1004166: 4060, 1004167: 4061, 1004168: 4062, 1004170: 4063, 1004171: 4064, 1004172: 4065, 1004173: 4066, 1004174: 4067, 1004175: 4068, 1004176: 4069, 1004177: 4070, 1004179: 4072, 1004180: 4073, 1004181: 4074, 1004183: 4076, 1004184: 4077, 1004185: 4078, 1004186: 4079, 1004187: 4080, 1004188: 4081, 1004189: 4082, 1004190: 4083, 1004193: 4086, 1004194: 4087, 1004196: 4088, 1004197: 4089, 1004198: 4090, 1004199: 4091, 1004200: 4092, 1004203: 4094, 1004204: 4095, 1004206: 4097, 1004207: 4098, 1004208: 4099, 1004209: 4100, 1004210: 4101, 1004213: 4103, 1004215: 4105, 1004216: 4106, 1004217: 4107, 1004218: 4108, 1004220: 4109, 1004221: 4110, 1004222: 4111, 1004223: 4112, 1004224: 4113, 1004225: 4114, 1004226: 4115, 1004227: 4116, 1004228: 4117, 1004229: 4118, 1004231: 4120, 1004232: 4121, 1004233: 4122, 1004234: 4123, 1004235: 4124, 1004236: 4125, 1004237: 4126, 1004238: 4127, 1004239: 4128, 1004240: 4129, 1004241: 4130, 1004242: 4131, 1004243: 4132, 1004245: 4134, 1004246: 4135, 1004247: 4136, 1004248: 4137, 1004249: 4138, 1004250: 4139, 1004251: 4140, 1004252: 4141, 1004253: 4142, 1004254: 4143, 1004255: 4144, 1004257: 4146, 1004258: 4147, 1004259: 4148, 1004260: 4149, 1004261: 4150, 1004262: 4151, 1004263: 4152, 1004264: 4153, 1004265: 4154, 1004266: 4155, 1004268: 4157, 1004269: 4158, 1004270: 4159, 1004271: 4160, 1004272: 4161, 1004274: 4163, 1004275: 4164, 1004276: 4165, 1004277: 4166, 1004279: 4168, 1004280: 4169, 1004281: 4170, 1004282: 4171, 1004284: 4173, 1004285: 4174, 1004286: 4175, 1004287: 4176, 1004288: 4177, 1004289: 4178, 1004290: 4179, 1004291: 4180, 1004292: 4181, 1004294: 4183, 1004295: 4184, 1004296: 4185, 1004297: 4186, 1004298: 4187, 1004302: 4190, 1004303: 4191, 1004304: 4192, 1004305: 4193, 1004306: 4194, 1004307: 4195, 1004308: 4196, 1004309: 4197, 1004310: 4198, 1004311: 4199, 1004312: 4200, 1004313: 4201, 1004315: 4203, 1004316: 4204, 1004317: 4205, 1004318: 4206, 1004319: 4207, 1004320: 4208, 1004321: 4209, 1004322: 4210, 1004323: 4211, 1004324: 4212, 1004326: 4214, 1004327: 4215, 1004328: 4216, 1004329: 4217, 1004330: 4218, 1004331: 4219, 1004332: 4220, 1004333: 4221, 1004334: 4222, 1004335: 4223, 1004336: 4224, 1004337: 4225, 1004338: 4226, 1004339: 4227, 1004340: 4228, 1004341: 4229, 1004342: 4230, 1004343: 4231, 1004344: 4232, 1004345: 4233, 1004346: 4234, 1004347: 4235, 1004348: 4236, 1004349: 4237, 1004350: 4238, 1004351: 4239, 1004352: 4240, 1004353: 4241, 1004354: 4242, 1004355: 4243, 1004356: 4244, 1004357: 4245, 1004358: 4246, 1004359: 4247, 1004360: 4248, 1004361: 4249, 1004362: 4250, 1004363: 4251, 1004366: 4253, 1004367: 4254, 1004368: 4255, 1004369: 4256, 1004370: 4257, 1004371: 4258, 1004373: 4260, 1004374: 4261, 1004375: 4262, 1004376: 4263, 1004377: 4264, 1004378: 4265, 1004379: 4266, 1004380: 4267, 1004381: 4268, 1004382: 4269, 1004384: 4271, 1004386: 4273, 1004387: 4274, 1004388: 4275, 1004389: 4276, 1004390: 4277, 1004393: 4280, 1004395: 4282, 1004397: 4284, 1004399: 4286, 1004400: 4287, 1004401: 4288, 1004402: 4289, 1004403: 4290, 1004404: 4291, 1004405: 4292, 1004406: 4293, 1004407: 4294, 1004408: 4295, 1004409: 4296, 1004410: 4297, 1004411: 4298, 1004413: 4300, 1004414: 4301, 1004415: 4302, 1004416: 4303, 1004417: 4304, 1004418: 4305, 1004419: 4306, 1004420: 4307, 1004422: 4309, 1004423: 4310, 1004425: 4312, 1004426: 4313, 1004427: 4314, 1004428: 4315, 1004429: 4316, 1004430: 4317, 1004431: 4318, 1004432: 4319, 1004433: 4320, 1004434: 4321, 1004435: 4322, 1004436: 4323, 1004437: 4324, 1004438: 4325, 1004439: 4326, 1004440: 4327, 1004442: 4329, 1004443: 4330, 1004444: 4331, 1004445: 4332, 1004446: 4333, 1004447: 4334, 1004448: 4335, 1004449: 4336, 1004450: 4337, 1004451: 4338, 1004452: 4339, 1004453: 4340, 1004454: 4341, 1004455: 4342, 1004456: 4343, 1004457: 4344, 1004458: 4345, 1004459: 4346, 1004460: 4347, 1004461: 4348, 1004462: 4349, 1004463: 4350, 1004465: 4352, 1004466: 4353, 1004467: 4354, 1004468: 4355, 1004469: 4356, 1004470: 4357, 1004471: 4358, 1004472: 4359, 1004473: 4360, 1004474: 4361, 1004475: 4362, 1004476: 4363, 1004477: 4364, 1004478: 4365, 1004479: 4366, 1004480: 4367, 1004481: 4368, 1004482: 4369, 1004483: 4370, 1004484: 4371, 1004485: 4372, 1004486: 4373, 1004487: 4374, 1004488: 4375, 1004489: 4376, 1004490: 4377, 1004491: 4378, 1004492: 4379, 1004493: 4380, 1004494: 4381, 1004495: 4382, 1004496: 4383, 1004497: 4384, 1004498: 4385, 1004499: 4386, 1004500: 4387, 1004501: 4388, 1004502: 4389, 1004503: 4390, 1004504: 4391, 1004505: 4392, 1004506: 4393, 1004507: 4394, 1004508: 4395, 1004509: 4396, 1004510: 4397, 1004511: 4398, 1004512: 4399, 1004513: 4400, 1004514: 4401, 1004515: 4402, 1004516: 4403, 1004517: 4404, 1004518: 4405, 1004519: 4406, 1004520: 4407, 1004521: 4408, 1004522: 4409, 1004524: 4410, 1004526: 4412, 1004528: 4414, 1004529: 4415, 1004530: 4416, 1004531: 4417, 1004532: 4418, 1004533: 4419, 1004534: 4420, 1004535: 4421, 1004536: 4422, 1004537: 4423, 1004538: 4424, 1004539: 4425, 1004540: 4426, 1004541: 4427, 1004542: 4428, 1004543: 4429, 1004544: 4430, 1004546: 4432, 1004551: 4437, 1004552: 4438, 1004553: 4439, 1004555: 4441, 1004556: 4442, 1004557: 4443, 1004558: 4444, 1004560: 4446, 1004561: 4447, 1004562: 4448, 1004563: 4449, 1004565: 4451, 1004566: 4452, 1004567: 4453, 1004568: 4454, 1004569: 4455, 1004571: 4457, 1004572: 4458, 1004573: 4459, 1004574: 4460, 1004575: 4461, 1004576: 4462, 1004577: 4463, 1004578: 4464, 1004579: 4465, 1004580: 4466, 1004581: 4467, 1004582: 4468, 1004583: 4469, 1004584: 4470, 1004585: 4471, 1004586: 4472, 1004587: 4473, 1004589: 4475, 1004590: 4476, 1004591: 4477, 1004592: 4478, 1004593: 4479, 1004594: 4480, 1004595: 4481, 1004596: 4482, 1004597: 4483, 1004598: 4484, 1004599: 4485, 1004600: 4486, 1004601: 4487, 1004602: 4488, 1004603: 4489, 1004604: 4490, 1004606: 4491, 1004607: 4492, 1004608: 4493, 1004609: 4494, 1004610: 4495, 1004611: 4496, 1004613: 4498, 1004615: 4500, 1004617: 4502, 1004618: 4503, 1004619: 4504, 1004620: 4505, 1004621: 4506, 1004622: 4507, 1004623: 4508, 1004624: 4509, 1004625: 4510, 1004626: 4511, 1004627: 4512, 1004629: 4514, 1004630: 4515, 1004631: 4516, 1004632: 4517, 1004633: 4518, 1004634: 4519, 1004635: 4520, 1004636: 4521, 1004637: 4522, 1004638: 4523, 1004639: 4524, 1004640: 4525, 1004641: 4526, 1004643: 4528, 1004644: 4529, 1004645: 4530, 1004646: 4531, 1004647: 4532, 1004648: 4533, 1004649: 4534, 1004650: 4535, 1004651: 4536, 1004652: 4537, 1004653: 4538, 1004654: 4539, 1004655: 4540, 1004656: 4541, 1004658: 4543, 1004659: 4544, 1004660: 4545, 1004661: 4546, 1004662: 4547, 1004663: 4548, 1004665: 4550, 1004666: 4551, 1004667: 4552, 1004668: 4553, 1004669: 4554, 1004670: 4555, 1004671: 4556, 1004672: 4557, 1004673: 4558, 1004674: 4559, 1004675: 4560, 1004676: 4561, 1004677: 4562, 1004678: 4563, 1004679: 4564, 1004680: 4565, 1004681: 4566, 1004682: 4567, 1004683: 4568, 1004685: 4569, 1004686: 4570, 1004687: 4571, 1004688: 4572, 1004689: 4573, 1004690: 4574, 1004691: 4575, 1004692: 4576, 1004693: 4577, 1004694: 4578, 1004695: 4579, 1004697: 4581, 1004698: 4582, 1004699: 4583, 1004701: 4584, 1004702: 4585, 1004704: 4587, 1004705: 4588, 1004706: 4589, 1004707: 4590, 1004708: 4591, 1004709: 4592, 1004710: 4593, 1004711: 4594, 1004713: 4596, 1004714: 4597, 1004715: 4598, 1004717: 4599, 1004718: 4600, 1004719: 4601, 1004721: 4603, 1004722: 4604, 1004724: 4606, 1004725: 4607, 1004726: 4608, 1004727: 4609, 1004728: 4610, 1004729: 4611, 1004730: 4612, 1004731: 4613, 1004732: 4614, 1004733: 4615, 1004734: 4616, 1004735: 4617, 1004736: 4618, 1004737: 4619, 1004738: 4620, 1004739: 4621, 1004740: 4622, 1004742: 4624, 1004743: 4625, 1004744: 4626, 1004745: 4627, 1004746: 4628, 1004747: 4629, 1004748: 4630, 1004749: 4631, 1004750: 4632, 1004751: 4633, 1004753: 4635, 1004755: 4636, 1004756: 4637, 1004757: 4638, 1004759: 4640, 1004760: 4641, 1004761: 4642, 1004762: 4643, 1004763: 4644, 1004764: 4645, 1004765: 4646, 1004766: 4647, 1004768: 4649, 1004769: 4650, 1004770: 4651, 1004771: 4652, 1004772: 4653, 1004773: 4654, 1004774: 4655, 1004776: 4657, 1004778: 4659, 1004779: 4660, 1004780: 4661, 1004781: 4662, 1004782: 4663, 1004783: 4664, 1004784: 4665, 1004785: 4666, 1004786: 4667, 1004787: 4668, 1004788: 4669, 1004789: 4670, 1004790: 4671, 1004791: 4672, 1004792: 4673, 1004793: 4674, 1004794: 4675, 1004795: 4676, 1004796: 4677, 1004797: 4678, 1004798: 4679, 1004799: 4680, 1004800: 4681, 1004801: 4682, 1004802: 4683, 1004803: 4684, 1004804: 4685, 1004806: 4686, 1004807: 4687, 1004808: 4688, 1004809: 4689, 1004810: 4690, 1004811: 4691, 1004812: 4692, 1004813: 4693, 1004814: 4694, 1004815: 4695, 1004817: 4696, 1004819: 4698, 1004820: 4699, 1004821: 4700, 1004822: 4701, 1004823: 4702, 1004824: 4703, 1004826: 4705, 1004827: 4706, 1004828: 4707, 1004829: 4708, 1004830: 4709, 1004831: 4710, 1004832: 4711, 1004833: 4712, 1004834: 4713, 1004836: 4714, 1004837: 4715, 1004838: 4716, 1004840: 4718, 1004841: 4719, 1004842: 4720, 1004843: 4721, 1004845: 4723, 1004846: 4724, 1004847: 4725, 1004848: 4726, 1004849: 4727, 1004852: 4730, 1004853: 4731, 1004854: 4732, 1004855: 4733, 1004856: 4734, 1004857: 4735, 1004858: 4736, 1004859: 4737, 1004860: 4738, 1004861: 4739, 1004862: 4740, 1004863: 4741, 1004865: 4743, 1004866: 4744, 1004867: 4745, 1004868: 4746, 1004869: 4747, 1004870: 4748, 1004873: 4751, 1004874: 4752, 1004875: 4753, 1004877: 4755, 1004878: 4756, 1004879: 4757, 1004880: 4758, 1004881: 4759, 1004882: 4760, 1004883: 4761, 1004884: 4762, 1004886: 4764, 1004887: 4765, 1004888: 4766, 1004889: 4767, 1004890: 4768, 1004891: 4769, 1004892: 4770, 1004893: 4771, 1004894: 4772, 1004895: 4773, 1004896: 4774, 1004897: 4775, 1004898: 4776, 1004899: 4777, 1004901: 4779, 1004902: 4780, 1004903: 4781, 1004904: 4782, 1004905: 4783, 1004906: 4784, 1004907: 4785, 1004908: 4786, 1004909: 4787, 1004911: 4789, 1004912: 4790, 1004913: 4791, 1004914: 4792, 1004915: 4793, 1004916: 4794, 1004917: 4795, 1004918: 4796, 1004920: 4798, 1004921: 4799, 1004922: 4800, 1004923: 4801, 1004924: 4802, 1004926: 4804, 1004927: 4805, 1004928: 4806, 1004929: 4807, 1004930: 4808, 1004931: 4809, 1004933: 4810, 1004934: 4811, 1004935: 4812, 1004937: 4814, 1004939: 4816, 1004940: 4817, 1004942: 4819, 1004943: 4820, 1004944: 4821, 1004945: 4822, 1004946: 4823, 1004947: 4824, 1004948: 4825, 1004949: 4826, 1004950: 4827, 1004951: 4828, 1004952: 4829, 1004953: 4830, 1004954: 4831, 1004956: 4833, 1004957: 4834, 1004958: 4835, 1004960: 4836, 1004961: 4837, 1004962: 4838, 1004964: 4840, 1004965: 4841, 1004966: 4842, 1004968: 4844, 1004969: 4845, 1004970: 4846, 1004972: 4848, 1004973: 4849, 1004975: 4851, 1004976: 4852, 1004977: 4853, 1004978: 4854, 1004979: 4855, 1004980: 4856, 1004982: 4857, 1004983: 4858, 1004984: 4859, 1004985: 4860, 1004986: 4861, 1004987: 4862, 1004989: 4864, 1004990: 4865, 1004991: 4866, 1004993: 4868, 1004994: 4869, 1004995: 4870, 1004996: 4871, 1004997: 4872, 1004998: 4873, 1004999: 4874, 1005000: 4875, 1005001: 4876, 1005002: 4877, 1005003: 4878, 1005004: 4879, 1005005: 4880, 1005008: 4883, 1005009: 4884, 1005010: 4885, 1005011: 4886, 1005012: 4887, 1005013: 4888, 1005014: 4889, 1005015: 4890, 1005016: 4891, 1005017: 4892, 1005018: 4893, 1005019: 4894, 1005020: 4895, 1005021: 4896, 1005023: 4897, 1005024: 4898, 1005025: 4899, 1005026: 4900, 1005029: 4903, 1005030: 4904, 1005031: 4905, 1005032: 4906, 1005033: 4907, 1005034: 4908, 1005035: 4909, 1005036: 4910, 1005037: 4911, 1005038: 4912, 1005039: 4913, 1005040: 4914, 1005041: 4915, 1005042: 4916, 1005043: 4917, 1005044: 4918, 1005045: 4919, 1005046: 4920, 1005047: 4921, 1005048: 4922, 1005049: 4923, 1005050: 4924, 1005051: 4925, 1005052: 4926, 1005053: 4927, 1005054: 4928, 1005055: 4929, 1005056: 4930, 1005057: 4931, 1005058: 4932, 1005059: 4933, 1005060: 4934, 1005061: 4935, 1005063: 4937, 1005064: 4938, 1005065: 4939, 1005066: 4940, 1005067: 4941, 1005068: 4942, 1005069: 4943, 1005070: 4944, 1005071: 4945, 1005074: 4947, 1005075: 4948, 1005076: 4949, 1005077: 4950, 1005078: 4951, 1005079: 4952, 1005080: 4953, 1005081: 4954, 1005082: 4955, 1005083: 4956, 1005084: 4957, 1005085: 4958, 1005086: 4959, 1005087: 4960, 1005088: 4961, 1005089: 4962, 1005090: 4963, 1005091: 4964, 1005092: 4965, 1005095: 4967, 1005096: 4968, 1005097: 4969, 1005098: 4970, 1005099: 4971, 1005100: 4972, 1005101: 4973, 1005102: 4974, 1005103: 4975, 1005104: 4976, 1005105: 4977, 1005106: 4978, 1005107: 4979, 1005108: 4980, 1005109: 4981, 1005111: 4983, 1005112: 4984, 1005113: 4985, 1005114: 4986, 1005115: 4987, 1005116: 4988, 1005117: 4989, 1005118: 4990, 1005119: 4991, 1005120: 4992, 1005121: 4993, 1005122: 4994, 1005123: 4995, 1005124: 4996, 1005126: 4998, 1005127: 4999, 1005128: 5000, 1005129: 5001, 1005131: 5002, 1005132: 5003, 1005133: 5004, 1005134: 5005, 1005135: 5006, 1005136: 5007, 1005137: 5008, 1005138: 5009, 1005139: 5010, 1005140: 5011, 1005141: 5012, 1005142: 5013, 1005143: 5014, 1005144: 5015, 1005145: 5016, 1005146: 5017, 1005147: 5018, 1005148: 5019, 1005149: 5020, 1005150: 5021, 1005151: 5022, 1005153: 5024, 1005154: 5025, 1005155: 5026, 1005156: 5027, 1005157: 5028, 1005158: 5029, 1005159: 5030, 1005161: 5032, 1005162: 5033, 1005163: 5034, 1005164: 5035, 1005165: 5036, 1005166: 5037, 1005167: 5038, 1005169: 5040, 1005170: 5041, 1005172: 5043, 1005173: 5044, 1005174: 5045, 1005175: 5046, 1005177: 5048, 1005178: 5049, 1005180: 5051, 1005181: 5052, 1005182: 5053, 1005183: 5054, 1005184: 5055, 1005185: 5056, 1005186: 5057, 1005187: 5058, 1005191: 5060, 1005192: 5061, 1005193: 5062, 1005194: 5063, 1005195: 5064, 1005196: 5065, 1005197: 5066, 1005198: 5067, 1005199: 5068, 1005200: 5069, 1005201: 5070, 1005203: 5072, 1005204: 5073, 1005205: 5074, 1005206: 5075, 1005207: 5076, 1005208: 5077, 1005209: 5078, 1005210: 5079, 1005212: 5080, 1005213: 5081, 1005215: 5083, 1005217: 5085, 1005218: 5086, 1005219: 5087, 1005220: 5088, 1005222: 5090, 1005223: 5091, 1005224: 5092, 1005225: 5093, 1005226: 5094, 1005228: 5095, 1005229: 5096, 1005230: 5097, 1005232: 5099, 1005233: 5100, 1005234: 5101, 1005235: 5102, 1005236: 5103, 1005237: 5104, 1005239: 5106, 1005240: 5107, 1005241: 5108, 1005242: 5109, 1005243: 5110, 1005246: 5113, 1005247: 5114, 1005248: 5115, 1005249: 5116, 1005250: 5117, 1005251: 5118, 1005252: 5119, 1005253: 5120, 1005254: 5121, 1005255: 5122, 1005256: 5123, 1005257: 5124, 1005258: 5125, 1005260: 5127, 1005261: 5128, 1005262: 5129, 1005263: 5130, 1005264: 5131, 1005265: 5132, 1005266: 5133, 1005267: 5134, 1005269: 5135, 1005270: 5136, 1005271: 5137, 1005272: 5138, 1005273: 5139, 1005275: 5141, 1005276: 5142, 1005277: 5143, 1005278: 5144, 1005279: 5145, 1005280: 5146, 1005281: 5147, 1005282: 5148, 1005283: 5149, 1005284: 5150, 1005285: 5151, 1005286: 5152, 1005287: 5153, 1005290: 5155, 1005291: 5156, 1005292: 5157, 1005293: 5158, 1005294: 5159, 1005296: 5161, 1005297: 5162, 1005298: 5163, 1005299: 5164, 1005300: 5165, 1005301: 5166, 1005302: 5167, 1005303: 5168, 1005304: 5169, 1005305: 5170, 1005306: 5171, 1005307: 5172, 1005308: 5173, 1005310: 5175, 1005311: 5176, 1005312: 5177, 1005313: 5178, 1005314: 5179, 1005315: 5180, 1005316: 5181, 1005317: 5182, 1005318: 5183, 1005319: 5184, 1005321: 5186, 1005322: 5187, 1005323: 5188, 1005324: 5189, 1005325: 5190, 1005326: 5191, 1005327: 5192, 1005328: 5193, 1005329: 5194, 1005330: 5195, 1005332: 5196, 1005333: 5197, 1005334: 5198, 1005335: 5199, 1005336: 5200, 1005337: 5201, 1005338: 5202, 1005339: 5203, 1005340: 5204, 1005341: 5205, 1005342: 5206, 1005343: 5207, 1005344: 5208, 1005345: 5209, 1005346: 5210, 1005347: 5211, 1005348: 5212, 1005349: 5213, 1005350: 5214, 1005351: 5215, 1005352: 5216, 1005353: 5217, 1005355: 5218, 1005357: 5219, 1005359: 5221, 1005360: 5222, 1005361: 5223, 1005362: 5224, 1005363: 5225, 1005364: 5226, 1005365: 5227, 1005366: 5228, 1005367: 5229, 1005368: 5230, 1005369: 5231, 1005371: 5233, 1005373: 5235, 1005374: 5236, 1005376: 5238, 1005377: 5239, 1005378: 5240, 1005382: 5244, 1005383: 5245, 1005384: 5246, 1005385: 5247, 1005386: 5248, 1005387: 5249, 1005388: 5250, 1005389: 5251, 1005390: 5252, 1005392: 5254, 1005393: 5255, 1005394: 5256, 1005395: 5257, 1005396: 5258, 1005397: 5259, 1005398: 5260, 1005399: 5261, 1005400: 5262, 1005401: 5263, 1005402: 5264, 1005403: 5265, 1005404: 5266, 1005406: 5267, 1005408: 5269, 1005410: 5271, 1005412: 5273, 1005413: 5274, 1005414: 5275, 1005415: 5276, 1005416: 5277, 1005417: 5278, 1005418: 5279, 1005419: 5280, 1005420: 5281, 1005421: 5282, 1005422: 5283, 1005423: 5284, 1005424: 5285, 1005425: 5286, 1005426: 5287, 1005427: 5288, 1005428: 5289, 1005429: 5290, 1005430: 5291, 1005431: 5292, 1005432: 5293, 1005433: 5294, 1005434: 5295, 1005435: 5296, 1005436: 5297, 1005437: 5298, 1005438: 5299, 1005441: 5302, 1005443: 5304, 1005444: 5305, 1005445: 5306, 1005446: 5307, 1005447: 5308, 1005448: 5309, 1005449: 5310, 1005450: 5311, 1005451: 5312, 1005452: 5313, 1005453: 5314, 1005454: 5315, 1005455: 5316, 1005456: 5317, 1005457: 5318, 1005458: 5319, 1005459: 5320, 1005460: 5321, 1005461: 5322, 1005462: 5323, 1005463: 5324, 1005464: 5325, 1005465: 5326, 1005466: 5327, 1005467: 5328, 1005468: 5329, 1005469: 5330, 1005470: 5331, 1005472: 5333, 1005473: 5334, 1005475: 5336, 1005477: 5338, 1005478: 5339, 1005479: 5340, 1005480: 5341, 1005481: 5342, 1005482: 5343, 1005483: 5344, 1005484: 5345, 1005485: 5346, 1005486: 5347, 1005488: 5349, 1005490: 5351, 1005491: 5352, 1005492: 5353, 1005493: 5354, 1005494: 5355, 1005495: 5356, 1005497: 5358, 1005498: 5359, 1005499: 5360, 1005500: 5361, 1005501: 5362, 1005502: 5363, 1005503: 5364, 1005504: 5365, 1005505: 5366, 1005506: 5367, 1005507: 5368, 1005508: 5369, 1005509: 5370, 1005511: 5372, 1005512: 5373, 1005513: 5374, 1005514: 5375, 1005515: 5376, 1005516: 5377, 1005517: 5378, 1005518: 5379, 1005519: 5380, 1005520: 5381, 1005522: 5383, 1005523: 5384, 1005524: 5385, 1005525: 5386, 1005526: 5387, 1005527: 5388, 1005528: 5389, 1005529: 5390, 1005530: 5391, 1005531: 5392, 1005532: 5393, 1005533: 5394, 1005534: 5395, 1005535: 5396, 1005536: 5397, 1005537: 5398, 1005538: 5399, 1005539: 5400, 1005540: 5401, 1005541: 5402, 1005543: 5404, 1005544: 5405, 1005545: 5406, 1005546: 5407, 1005547: 5408, 1005548: 5409, 1005549: 5410, 1005550: 5411, 1005551: 5412, 1005552: 5413, 1005553: 5414, 1005554: 5415, 1005555: 5416, 1005556: 5417, 1005557: 5418, 1005558: 5419, 1005559: 5420, 1005560: 5421, 1005561: 5422, 1005562: 5423, 1005563: 5424, 1005564: 5425, 1005565: 5426, 1005566: 5427, 1005567: 5428, 1005568: 5429, 1005570: 5430, 1005571: 5431, 1005572: 5432, 1005573: 5433, 1005574: 5434, 1005575: 5435, 1005576: 5436, 1005578: 5438, 1005580: 5440, 1005581: 5441, 1005582: 5442, 1005583: 5443, 1005584: 5444, 1005585: 5445, 1005586: 5446, 1005587: 5447, 1005588: 5448, 1005589: 5449, 1005590: 5450, 1005591: 5451, 1005592: 5452, 1005593: 5453, 1005594: 5454, 1005595: 5455, 1005596: 5456, 1005597: 5457, 1005598: 5458, 1005599: 5459, 1005600: 5460, 1005602: 5462, 1005604: 5463, 1005605: 5464, 1005606: 5465, 1005607: 5466, 1005609: 5468, 1005610: 5469, 1005611: 5470, 1005612: 5471, 1005613: 5472, 1005615: 5473, 1005616: 5474, 1005617: 5475, 1005618: 5476, 1005619: 5477, 1005620: 5478, 1005621: 5479, 1005622: 5480, 1005623: 5481, 1005624: 5482, 1005625: 5483, 1005626: 5484, 1005627: 5485, 1005628: 5486, 1005629: 5487, 1005630: 5488, 1005631: 5489, 1005632: 5490, 1005633: 5491, 1005634: 5492, 1005635: 5493, 1005636: 5494, 1005637: 5495, 1005638: 5496, 1005639: 5497, 1005640: 5498, 1005641: 5499, 1005642: 5500, 1005643: 5501, 1005644: 5502, 1005645: 5503, 1005646: 5504, 1005647: 5505, 1005648: 5506, 1005649: 5507, 1005650: 5508, 1005651: 5509, 1005652: 5510, 1005653: 5511, 1005654: 5512, 1005655: 5513, 1005657: 5515, 1005658: 5516, 1005659: 5517, 1005660: 5518, 1005661: 5519, 1005662: 5520, 1005663: 5521, 1005664: 5522, 1005665: 5523, 1005667: 5524, 1005668: 5525, 1005669: 5526, 1005670: 5527, 1005671: 5528, 1005672: 5529, 1005673: 5530, 1005674: 5531, 1005675: 5532, 1005676: 5533, 1005677: 5534, 1005678: 5535, 1005679: 5536, 1005680: 5537, 1005682: 5539, 1005683: 5540, 1005684: 5541, 1005685: 5542, 1005686: 5543, 1005687: 5544, 1005688: 5545, 1005689: 5546, 1005690: 5547, 1005691: 5548, 1005692: 5549, 1005693: 5550, 1005694: 5551, 1005695: 5552, 1005696: 5553, 1005697: 5554, 1005698: 5555, 1005699: 5556, 1005700: 5557, 1005701: 5558, 1005702: 5559, 1005703: 5560, 1005704: 5561, 1005705: 5562, 1005708: 5563, 1005709: 5564, 1005710: 5565, 1005711: 5566, 1005712: 5567, 1005714: 5569, 1005716: 5570, 1005717: 5571, 1005718: 5572, 1005719: 5573, 1005720: 5574, 1005721: 5575, 1005722: 5576, 1005724: 5577, 1005725: 5578, 1005726: 5579, 1005727: 5580, 1005728: 5581, 1005729: 5582, 1005730: 5583, 1005731: 5584, 1005732: 5585, 1005733: 5586, 1005734: 5587, 1005736: 5589, 1005737: 5590, 1005738: 5591, 1005739: 5592, 1005740: 5593, 1005741: 5594, 1005743: 5596, 1005744: 5597, 1005745: 5598, 1005746: 5599, 1005747: 5600, 1005748: 5601, 1005749: 5602, 1005750: 5603, 1005751: 5604, 1005752: 5605, 1005753: 5606, 1005754: 5607, 1005755: 5608, 1005756: 5609, 1005757: 5610, 1005758: 5611, 1005759: 5612, 1005760: 5613, 1005761: 5614, 1005762: 5615, 1005763: 5616, 1005765: 5618, 1005766: 5619, 1005767: 5620, 1005768: 5621, 1005769: 5622, 1005770: 5623, 1005771: 5624, 1005773: 5626, 1005774: 5627, 1005775: 5628, 1005776: 5629, 1005777: 5630, 1005778: 5631, 1005779: 5632, 1005780: 5633, 1005782: 5635, 1005783: 5636, 1005785: 5638, 1005786: 5639, 1005787: 5640, 1005788: 5641, 1005789: 5642, 1005790: 5643, 1005792: 5644, 1005793: 5645, 1005794: 5646, 1005795: 5647, 1005796: 5648, 1005797: 5649, 1005798: 5650, 1005801: 5653, 1005802: 5654, 1005803: 5655, 1005804: 5656, 1005805: 5657, 1005806: 5658, 1005807: 5659, 1005808: 5660, 1005809: 5661, 1005810: 5662, 1005811: 5663, 1005812: 5664, 1005813: 5665, 1005815: 5667, 1005816: 5668, 1005817: 5669, 1005818: 5670, 1005819: 5671, 1005822: 5674, 1005823: 5675, 1005824: 5676, 1005825: 5677, 1005826: 5678, 1005827: 5679, 1005829: 5681, 1005830: 5682, 1005831: 5683, 1005832: 5684, 1005833: 5685, 1005834: 5686, 1005835: 5687, 1005836: 5688, 1005837: 5689, 1005838: 5690, 1005840: 5692, 1005841: 5693, 1005842: 5694, 1005843: 5695, 1005844: 5696, 1005846: 5697, 1005847: 5698, 1005848: 5699, 1005849: 5700, 1005850: 5701, 1005851: 5702, 1005852: 5703, 1005853: 5704, 1005854: 5705, 1005855: 5706, 1005856: 5707, 1005857: 5708, 1005858: 5709, 1005859: 5710, 1005860: 5711, 1005861: 5712, 1005862: 5713, 1005863: 5714, 1005865: 5716, 1005866: 5717, 1005867: 5718, 1005868: 5719, 1005869: 5720, 1005871: 5721, 1005872: 5722, 1005873: 5723, 1005874: 5724, 1005875: 5725, 1005877: 5727, 1005878: 5728, 1005879: 5729, 1005880: 5730, 1005881: 5731, 1005882: 5732, 1005883: 5733, 1005884: 5734, 1005885: 5735, 1005886: 5736, 1005887: 5737, 1005888: 5738, 1005889: 5739, 1005890: 5740, 1005892: 5742, 1005893: 5743, 1005894: 5744, 1005895: 5745, 1005896: 5746, 1005897: 5747, 1005899: 5749, 1005900: 5750, 1005901: 5751, 1005902: 5752, 1005904: 5754, 1005905: 5755, 1005906: 5756, 1005907: 5757, 1005908: 5758, 1005910: 5760, 1005911: 5761, 1005912: 5762, 1005913: 5763, 1005914: 5764, 1005915: 5765, 1005916: 5766, 1005917: 5767, 1005918: 5768, 1005919: 5769, 1005920: 5770, 1005921: 5771, 1005922: 5772, 1005923: 5773, 1005924: 5774, 1005925: 5775, 1005926: 5776, 1005927: 5777, 1005928: 5778, 1005929: 5779, 1005930: 5780, 1005931: 5781, 1005932: 5782, 1005933: 5783, 1005934: 5784, 1005935: 5785, 1005936: 5786, 1005937: 5787, 1005938: 5788, 1005939: 5789, 1005940: 5790, 1005941: 5791, 1005942: 5792, 1005943: 5793, 1005944: 5794, 1005946: 5796, 1005947: 5797, 1005948: 5798, 1005949: 5799, 1005950: 5800, 1005951: 5801, 1005952: 5802, 1005953: 5803, 1005954: 5804, 1005955: 5805, 1005956: 5806, 1005957: 5807, 1005958: 5808, 1005959: 5809, 1005960: 5810, 1005961: 5811, 1005963: 5813, 1005964: 5814, 1005965: 5815, 1005966: 5816, 1005969: 5819, 1005970: 5820, 1005971: 5821, 1005972: 5822, 1005973: 5823, 1005974: 5824, 1005975: 5825, 1005976: 5826, 1005977: 5827, 1005978: 5828, 1005979: 5829, 1005980: 5830, 1005981: 5831, 1005982: 5832, 1005983: 5833, 1005985: 5835, 1005986: 5836, 1005988: 5838, 1005989: 5839, 1005990: 5840, 1005991: 5841, 1005992: 5842, 1005994: 5844, 1005995: 5845, 1005996: 5846, 1005997: 5847, 1005998: 5848, 1005999: 5849, 1006000: 5850, 1006001: 5851, 1006002: 5852, 1006003: 5853, 1006004: 5854, 1006005: 5855, 1006006: 5856, 1006007: 5857, 1006008: 5858, 1006009: 5859, 1006010: 5860, 1006011: 5861, 1006012: 5862, 1006013: 5863, 1006014: 5864, 1006015: 5865, 1006016: 5866, 1006017: 5867, 1006018: 5868, 1006019: 5869, 1006020: 5870, 1006021: 5871, 1006022: 5872, 1006023: 5873, 1006024: 5874, 1006025: 5875, 1006026: 5876, 1006027: 5877, 1006030: 5880, 1006031: 5881, 1006032: 5882, 1006033: 5883, 1006034: 5884, 1006035: 5885, 1006036: 5886, 1006037: 5887, 1006039: 5889, 1006040: 5890, 1000020: 19, 1000055: 52, 1000098: 95, 1000104: 101, 1000141: 137, 1000164: 160, 1000189: 185, 1000207: 203, 1000241: 236, 1000247: 242, 1000277: 272, 1000283: 278, 1000294: 288, 1000317: 311, 1000364: 357, 1000373: 365, 1000378: 370, 1000404: 396, 1000407: 399, 1000427: 419, 1000432: 423, 1000440: 431, 1000441: 432, 1000485: 474, 1000489: 478, 1000495: 483, 1000497: 485, 1000512: 500, 1000521: 509, 1000538: 524, 1000562: 546, 1000572: 556, 1000607: 591, 1000642: 624, 1000665: 646, 1000672: 653, 1000693: 673, 1000697: 676, 1000745: 722, 1000747: 724, 1000768: 745, 1000782: 758, 1000784: 760, 1000831: 805, 1000865: 839, 1000874: 848, 1000876: 850, 1000879: 853, 1000902: 875, 1000907: 880, 1000941: 912, 1000942: 913, 1000962: 932, 1000965: 935, 1001046: 1010, 1001070: 1034, 1001080: 1044, 1001085: 1048, 1001095: 1058, 1001144: 1105, 1001157: 1118, 1001167: 1128, 1001171: 1132, 1001197: 1158, 1001200: 1161, 1001229: 1189, 1001290: 1249, 1001310: 1268, 1001318: 1276, 1001363: 1321, 1001368: 1326, 1001379: 1337, 1001394: 1352, 1001416: 1374, 1001435: 1392, 1001445: 1402, 1001462: 1418, 1001518: 1473, 1001522: 1477, 1001531: 1486, 1001534: 1489, 1001537: 1492, 1001539: 1494, 1001549: 1504, 1001558: 1513, 1001559: 1514, 1001568: 1523, 1001573: 1528, 1001604: 1559, 1001621: 1576, 1001633: 1588, 1001638: 1593, 1001653: 1608, 1001661: 1616, 1001708: 1659, 1001725: 1676, 1001730: 1681, 1001772: 1723, 1001773: 1724, 1001821: 1768, 1001829: 1776, 1001840: 1787, 1001844: 1791, 1001846: 1793, 1001848: 1795, 1001857: 1804, 1001864: 1811, 1001869: 1816, 1001872: 1819, 1001900: 1846, 1001919: 1864, 1001935: 1879, 1001936: 1880, 1001959: 1903, 1001987: 1930, 1002019: 1962, 1002080: 2022, 1002107: 2048, 1002118: 2059, 1002133: 2073, 1002135: 2075, 1002142: 2082, 1002182: 2122, 1002191: 2131, 1002226: 2166, 1002227: 2167, 1002229: 2169, 1002295: 2230, 1002315: 2249, 1002326: 2259, 1002328: 2261, 1002333: 2266, 1002337: 2270, 1002358: 2290, 1002360: 2292, 1002363: 2295, 1002375: 2306, 1002377: 2308, 1002384: 2315, 1002385: 2316, 1002412: 2341, 1002413: 2342, 1002431: 2360, 1002433: 2362, 1002450: 2378, 1002471: 2399, 1002488: 2416, 1002495: 2423, 1002524: 2452, 1002527: 2455, 1002534: 2462, 1002545: 2473, 1002549: 2477, 1002553: 2481, 1002563: 2490, 1002591: 2518, 1002612: 2538, 1002615: 2541, 1002619: 2545, 1002623: 2549, 1002626: 2552, 1002633: 2559, 1002652: 2577, 1002658: 2583, 1002662: 2587, 1002667: 2592, 1002677: 2602, 1002690: 2615, 1002698: 2623, 1002708: 2632, 1002709: 2633, 1002716: 2640, 1002739: 2662, 1002746: 2669, 1002758: 2681, 1002791: 2714, 1002805: 2728, 1002815: 2738, 1002816: 2739, 1002821: 2744, 1002843: 2765, 1002850: 2772, 1002851: 2773, 1002867: 2789, 1002871: 2793, 1002893: 2815, 1002898: 2820, 1002902: 2824, 1002924: 2845, 1002925: 2846, 1002932: 2853, 1002964: 2884, 1002979: 2898, 1003009: 2928, 1003021: 2940, 1003068: 2987, 1003088: 3006, 1003103: 3021, 1003117: 3034, 1003120: 3037, 1003133: 3050, 1003176: 3089, 1003186: 3098, 1003188: 3100, 1003214: 3125, 1003221: 3132, 1003247: 3156, 1003255: 3164, 1003276: 3184, 1003287: 3195, 1003289: 3197, 1003293: 3201, 1003307: 3215, 1003310: 3218, 1003325: 3233, 1003344: 3252, 1003375: 3281, 1003406: 3312, 1003407: 3313, 1003409: 3315, 1003421: 3327, 1003437: 3343, 1003446: 3352, 1003448: 3354, 1003452: 3358, 1003455: 3361, 1003459: 3365, 1003495: 3401, 1003502: 3408, 1003566: 3469, 1003584: 3486, 1003587: 3489, 1003602: 3504, 1003623: 3525, 1003627: 3529, 1003631: 3533, 1003632: 3534, 1003636: 3538, 1003668: 3569, 1003722: 3622, 1003734: 3634, 1003738: 3638, 1003783: 3683, 1003786: 3686, 1003809: 3709, 1003813: 3713, 1003818: 3718, 1003851: 3751, 1003863: 3763, 1003870: 3769, 1003883: 3782, 1003899: 3798, 1003915: 3814, 1003933: 3831, 1003936: 3834, 1003959: 3857, 1003969: 3867, 1003986: 3884, 1004003: 3901, 1004065: 3963, 1004074: 3971, 1004087: 3984, 1004125: 4020, 1004143: 4038, 1004146: 4041, 1004154: 4048, 1004182: 4075, 1004201: 4093, 1004205: 4096, 1004211: 4102, 1004244: 4133, 1004256: 4145, 1004267: 4156, 1004273: 4162, 1004278: 4167, 1004283: 4172, 1004300: 4188, 1004301: 4189, 1004314: 4202, 1004325: 4213, 1004365: 4252, 1004372: 4259, 1004383: 4270, 1004394: 4281, 1004396: 4283, 1004398: 4285, 1004412: 4299, 1004421: 4308, 1004424: 4311, 1004441: 4328, 1004525: 4411, 1004545: 4431, 1004547: 4433, 1004548: 4434, 1004549: 4435, 1004550: 4436, 1004554: 4440, 1004559: 4445, 1004564: 4450, 1004642: 4527, 1004657: 4542, 1004664: 4549, 1004712: 4595, 1004723: 4605, 1004752: 4634, 1004775: 4656, 1004777: 4658, 1004818: 4697, 1004825: 4704, 1004839: 4717, 1004844: 4722, 1004850: 4728, 1004851: 4729, 1004864: 4742, 1004872: 4750, 1004876: 4754, 1004900: 4778, 1004910: 4788, 1004925: 4803, 1004936: 4813, 1004938: 4815, 1004941: 4818, 1004963: 4839, 1004967: 4843, 1004971: 4847, 1004992: 4867, 1005006: 4881, 1005027: 4901, 1005028: 4902, 1005072: 4946, 1005094: 4966, 1005125: 4997, 1005152: 5023, 1005168: 5039, 1005171: 5042, 1005176: 5047, 1005214: 5082, 1005216: 5084, 1005221: 5089, 1005231: 5098, 1005245: 5112, 1005259: 5126, 1005274: 5140, 1005288: 5154, 1005358: 5220, 1005372: 5234, 1005375: 5237, 1005380: 5242, 1005381: 5243, 1005411: 5272, 1005440: 5301, 1005442: 5303, 1005471: 5332, 1005474: 5335, 1005476: 5337, 1005487: 5348, 1005489: 5350, 1005496: 5357, 1005510: 5371, 1005542: 5403, 1005577: 5437, 1005579: 5439, 1005601: 5461, 1005681: 5538, 1005713: 5568, 1005735: 5588, 1005742: 5595, 1005764: 5617, 1005772: 5625, 1005781: 5634, 1005784: 5637, 1005799: 5651, 1005814: 5666, 1005820: 5672, 1005821: 5673, 1005839: 5691, 1005876: 5726, 1005891: 5741, 1005898: 5748, 1005903: 5753, 1005945: 5795, 1005962: 5812, 1005967: 5817, 1005968: 5818, 1005984: 5834, 1005987: 5837, 1005993: 5843, 1006028: 5878, 1006029: 5879, 1000144: 140, 1000167: 163, 1000213: 209, 1000248: 243, 1000286: 281, 1000290: 284, 1000488: 477, 1000491: 480, 1000561: 545, 1000578: 562, 1000653: 635, 1000790: 766, 1000841: 815, 1000866: 840, 1000916: 889, 1000946: 917, 1001115: 1077, 1001154: 1115, 1001192: 1153, 1001213: 1173, 1001309: 1267, 1001330: 1288, 1001382: 1340, 1001431: 1388, 1001452: 1409, 1001456: 1412, 1001471: 1427, 1001477: 1433, 1001488: 1444, 1001508: 1463, 1001566: 1521, 1001580: 1535, 1001596: 1551, 1001615: 1570, 1001652: 1607, 1001662: 1617, 1001881: 1828, 1001898: 1844, 1001915: 1860, 1002040: 1983, 1002061: 2004, 1002128: 2068, 1002269: 2207, 1002312: 2246, 1002356: 2288, 1002388: 2319, 1002417: 2346, 1002432: 2361, 1002443: 2372, 1002470: 2398, 1002487: 2415, 1002515: 2443, 1002531: 2459, 1002582: 2509, 1002598: 2525, 1002616: 2542, 1002721: 2645, 1002722: 2646, 1002759: 2682, 1002827: 2750, 1002836: 2758, 1002875: 2797, 1002912: 2834, 1002936: 2857, 1002940: 2861, 1002965: 2885, 1003016: 2935, 1003235: 3145, 1003244: 3153, 1003252: 3161, 1003273: 3181, 1003275: 3183, 1003284: 3192, 1003298: 3206, 1003376: 3282, 1003388: 3294, 1003443: 3349, 1003542: 3446, 1003548: 3452, 1003617: 3519, 1003765: 3665, 1003826: 3726, 1003877: 3776, 1003911: 3810, 1004178: 4071, 1004191: 4084, 1004192: 4085, 1004214: 4104, 1004230: 4119, 1004391: 4278, 1004392: 4279, 1004464: 4351, 1004570: 4456, 1004614: 4499, 1004616: 4501, 1004628: 4513, 1004696: 4580, 1004703: 4586, 1004720: 4602, 1004741: 4623, 1004758: 4639, 1004767: 4648, 1004885: 4763, 1004919: 4797, 1004974: 4850, 1004988: 4863, 1005062: 4936, 1005179: 5050, 1005190: 5059, 1005202: 5071, 1005238: 5105, 1005244: 5111, 1005370: 5232, 1005379: 5241, 1005407: 5268, 1005439: 5300, 1005521: 5382, 1005656: 5514, 1005800: 5652, 1005828: 5680, 1005864: 5715, 1005909: 5759, 1000168: 164, 1000226: 221, 1000341: 335, 1000361: 354, 1000395: 387, 1000559: 543, 1000763: 740, 1000947: 918, 1001240: 1200, 1001906: 1852, 1001991: 1934, 1002045: 1988, 1002422: 2351, 1002542: 2470, 1002543: 2471, 1002584: 2511, 1002601: 2528, 1002618: 2544, 1002640: 2565, 1003181: 3093, 1003330: 3238, 1003803: 3703, 1004100: 3995, 1004385: 4272, 1004527: 4413, 1004612: 4497, 1004955: 4832, 1005007: 4882, 1005110: 4982, 1005160: 5031, 1005295: 5160, 1005309: 5174, 1005320: 5185, 1005409: 5270, 1005608: 5467, 1006038: 5888, 1000455: 446, 1000527: 515, 1000640: 622, 1000703: 681, 1001282: 1241, 1001674: 1628, 1004293: 4182, 1004588: 4474, 1004871: 4749, 1004113: 4008, 1005391: 5253, 1001529: 1484}\n"
          ],
          "name": "stdout"
        }
      ]
    },
    {
      "cell_type": "code",
      "metadata": {
        "id": "477P3J40TLjY",
        "colab": {
          "base_uri": "https://localhost:8080/"
        },
        "outputId": "d9e2675d-598f-4d3a-ce09-6913bba0449a"
      },
      "source": [
        "# 2 - Codificar User_Id\n",
        "print('Cantidad de clases:', df_coded['Product_ID'].nunique(), ', cuyo máximo era:', df_coded['Product_ID'].max())\n",
        "product_id = df_coded['Product_ID'].to_numpy()\n",
        "_, product_idx = np.unique(product_id, return_inverse=True)\n",
        "print('Nuevo map:', product_idx.max())\n",
        "\n",
        "# Generar un diccionario para traducir\n",
        "product_id2idx = {id:idx for id,idx in zip(product_id, product_idx)}\n",
        "print('Dirccionario para traducir futuros valores de ID a idx para embeddings')\n",
        "print(product_id2idx)\n",
        "\n",
        "df_coded_3 = df_coded_2.copy()\n",
        "df_coded_3['product_idx'] = product_idx"
      ],
      "execution_count": null,
      "outputs": [
        {
          "output_type": "stream",
          "text": [
            "Cantidad de clases: 3631 , cuyo máximo era: P0099942\n",
            "Nuevo map: 3630\n",
            "Dirccionario para traducir futuros valores de ID a idx para embeddings\n",
            "{'P00069042': 672, 'P00248942': 2376, 'P00087842': 852, 'P00085442': 828, 'P00285442': 2734, 'P00193542': 1831, 'P00184942': 1745, 'P00346142': 3320, 'P0097242': 3604, 'P00274942': 2631, 'P00251242': 2398, 'P00014542': 140, 'P00031342': 307, 'P00145042': 1355, 'P00231342': 2203, 'P00190242': 1798, 'P0096642': 3598, 'P00058442': 573, 'P00036842': 362, 'P00249542': 2382, 'P00220442': 2096, 'P00156442': 1469, 'P00213742': 2029, 'P00214442': 2036, 'P00303442': 2909, 'P00135742': 1264, 'P00039942': 391, 'P00161442': 1517, 'P00078742': 765, 'P00085942': 833, 'P00118742': 1096, 'P00297942': 2857, 'P00266842': 2552, 'P00058342': 572, 'P00032442': 318, 'P00105942': 969, 'P00182642': 1722, 'P00186942': 1765, 'P00155442': 1459, 'P00221342': 2105, 'P00087242': 846, 'P00111142': 1020, 'P00259342': 2478, 'P0094542': 3577, 'P00148642': 1391, 'P00312142': 2991, 'P00113242': 1041, 'P00192642': 1822, 'P00110842': 1017, 'P00189642': 1792, 'P00304242': 2917, 'P00365242': 3509, 'P00129542': 1202, 'P00140742': 1313, 'P00182342': 1719, 'P00276642': 2648, 'P00334242': 3203, 'P00247542': 2362, 'P00338442': 3244, 'P00275142': 2633, 'P00333042': 3191, 'P00166242': 1562, 'P00161942': 1522, 'P00348242': 3341, 'P00042142': 413, 'P00244242': 2329, 'P00217742': 2069, 'P00019342': 188, 'P00100642': 917, 'P00073842': 719, 'P00366542': 3522, 'P00190742': 1803, 'P00151842': 1423, 'P00112642': 1035, 'P00118442': 1093, 'P00034442': 338, 'P00222242': 2114, 'P00118342': 1092, 'P00324742': 3111, 'P00190042': 1796, 'P0094142': 3573, 'P00138542': 1292, 'P00158542': 1488, 'P00157542': 1479, 'P00044142': 432, 'P00112542': 1034, 'P00339542': 3255, 'P00127842': 1186, 'P00125942': 1167, 'P00251342': 2399, 'P00249642': 2383, 'P00124842': 1156, 'P00250642': 2392, 'P00058142': 570, 'P00117442': 1083, 'P00251642': 2402, 'P00244842': 2335, 'P00220242': 2094, 'P00351142': 3370, 'P00213242': 2024, 'P00195942': 1855, 'P00115642': 1065, 'P0098242': 3614, 'P00262242': 2507, 'P00258742': 2472, 'P00218242': 2074, 'P00021742': 212, 'P00313042': 2999, 'P00133742': 1244, 'P00077042': 749, 'P00280542': 2686, 'P00225842': 2150, 'P00278942': 2671, 'P00004742': 46, 'P00198042': 1876, 'P00177442': 1670, 'P00000642': 5, 'P00288942': 2769, 'P00270942': 2591, 'P00345842': 3317, 'P00032042': 314, 'P00112342': 1032, 'P00031842': 312, 'P00346642': 3325, 'P00205642': 1949, 'P00206442': 1957, 'P00046742': 458, 'P00120042': 1109, 'P00043242': 423, 'P00057242': 561, 'P00022842': 223, 'P00252042': 2406, 'P00042242': 414, 'P00059542': 583, 'P00021242': 207, 'P00023042': 225, 'P00144242': 1347, 'P00101342': 924, 'P00289342': 2773, 'P00281742': 2698, 'P00266642': 2550, 'P00323742': 3101, 'P00116342': 1072, 'P00117142': 1080, 'P00084442': 818, 'P00331542': 3176, 'P00178942': 1685, 'P00026042': 255, 'P00233542': 2225, 'P00127242': 1180, 'P00349942': 3358, 'P00303342': 2908, 'P00051442': 505, 'P00275642': 2638, 'P00278642': 2668, 'P00322042': 3086, 'P00216342': 2055, 'P00329342': 3155, 'P00332342': 3184, 'P00111742': 1026, 'P00293742': 2816, 'P00032842': 322, 'P00216142': 2053, 'P00001642': 15, 'P00351842': 3377, 'P00145442': 1359, 'P00344242': 3302, 'P00327242': 3135, 'P00241142': 2298, 'P00219242': 2084, 'P00057342': 562, 'P00165742': 1557, 'P00154642': 1451, 'P00192942': 1825, 'P00247042': 2357, 'P00150542': 1410, 'P00347142': 3330, 'P00326742': 3130, 'P00330442': 3166, 'P00327842': 3141, 'P00218342': 2075, 'P00259042': 2475, 'P00102542': 936, 'P00121142': 1120, 'P00228242': 2173, 'P00309542': 2967, 'P00106742': 976, 'P00102642': 937, 'P00127442': 1182, 'P00345642': 3315, 'P00357842': 3437, 'P00115342': 1062, 'P00174442': 1640, 'P00282642': 2707, 'P00037142': 365, 'P00192042': 1816, 'P00197542': 1871, 'P00048742': 478, 'P00110142': 1010, 'P00120842': 1117, 'P00267742': 2561, 'P00086442': 838, 'P00331842': 3179, 'P00288642': 2766, 'P00318742': 3053, 'P00028442': 279, 'P00208342': 1976, 'P00277442': 2656, 'P00085242': 826, 'P00279442': 2675, 'P00235242': 2242, 'P00251542': 2401, 'P00003242': 31, 'P00221542': 2107, 'P00142142': 1326, 'P00044442': 435, 'P00147742': 1382, 'P00030942': 303, 'P00288042': 2760, 'P00313142': 3000, 'P00195442': 1850, 'P00255842': 2443, 'P00112142': 1030, 'P00120342': 1112, 'P00110542': 1014, 'P00279942': 2680, 'P00303742': 2912, 'P00316742': 3034, 'P00115242': 1061, 'P00302842': 2903, 'P00066442': 647, 'P00273442': 2616, 'P00210142': 1994, 'P00212542': 2017, 'P00321742': 3083, 'P00020042': 195, 'P00051942': 510, 'P00303542': 2910, 'P00228142': 2172, 'P00123142': 1139, 'P00079542': 772, 'P00103142': 942, 'P00305542': 2930, 'P00031042': 304, 'P00260042': 2485, 'P00055642': 547, 'P00312742': 2996, 'P00010742': 104, 'P00223242': 2124, 'P00114942': 1058, 'P00183242': 1728, 'P00030842': 302, 'P00220142': 2093, 'P00130442': 1211, 'P00323042': 3094, 'P00344742': 3306, 'P00182442': 1720, 'P00015342': 148, 'P00103042': 941, 'P00187842': 1774, 'P00162442': 1527, 'P00078542': 763, 'P00324442': 3108, 'P00041642': 408, 'P00050542': 496, 'P00006442': 63, 'P00350942': 3368, 'P00000142': 0, 'P00034042': 334, 'P00143142': 1336, 'P00317942': 3046, 'P00335542': 3216, 'P00361842': 3476, 'P00147942': 1384, 'P00028042': 275, 'P00117542': 1084, 'P00130742': 1214, 'P00024142': 236, 'P00209742': 1990, 'P00160042': 1503, 'P00042342': 415, 'P00016542': 160, 'P00016742': 162, 'P00227642': 2167, 'P00146142': 1366, 'P00070542': 687, 'P00129842': 1205, 'P00243942': 2326, 'P00246742': 2354, 'P00310142': 2972, 'P00244142': 2328, 'P00190142': 1797, 'P00109242': 1001, 'P00089342': 867, 'P00288542': 2765, 'P00212242': 2014, 'P00319342': 3059, 'P00302942': 2904, 'P00145942': 1364, 'P00026342': 258, 'P00148842': 1393, 'P00299842': 2875, 'P00313342': 3002, 'P00102442': 935, 'P00237542': 2263, 'P0099342': 3625, 'P00171542': 1613, 'P00350342': 3362, 'P00110742': 1016, 'P00117642': 1085, 'P00114142': 1050, 'P00119142': 1100, 'P00280742': 2688, 'P00271142': 2593, 'P00003942': 38, 'P00151742': 1422, 'P00050642': 497, 'P00114742': 1056, 'P00113942': 1048, 'P00120942': 1118, 'P00083842': 812, 'P00317842': 3045, 'P00030642': 300, 'P00273642': 2618, 'P00002542': 24, 'P00331642': 3177, 'P00331242': 3173, 'P0096442': 3596, 'P00050242': 493, 'P00131942': 1226, 'P00132042': 1227, 'P00013742': 132, 'P00119342': 1102, 'P00182142': 1717, 'P00188942': 1785, 'P00203142': 1927, 'P00320442': 3070, 'P00121642': 1125, 'P00289542': 2775, 'P00329742': 3159, 'P00326642': 3129, 'P00336142': 3222, 'P00111442': 1023, 'P00234742': 2237, 'P00090842': 882, 'P00214542': 2037, 'P00110942': 1018, 'P00289942': 2779, 'P00104842': 959, 'P00113142': 1040, 'P00177942': 1675, 'P00265242': 2536, 'P00118142': 1090, 'P00003642': 35, 'P00178342': 1679, 'P00289742': 2777, 'P00085042': 824, 'P00041542': 407, 'P00249142': 2378, 'P00284042': 2721, 'P00165442': 1555, 'P00115942': 1068, 'P00074442': 725, 'P00047242': 463, 'P00199042': 1886, 'P00192542': 1821, 'P00350042': 3359, 'P00248442': 2371, 'P00172842': 1626, 'P00198142': 1877, 'P00282142': 2702, 'P00166942': 1568, 'P00187742': 1773, 'P00003442': 33, 'P00060242': 590, 'P00137642': 1283, 'P00126142': 1169, 'P00219842': 2090, 'P00046142': 452, 'P00328142': 3144, 'P00255542': 2440, 'P00250842': 2394, 'P00260142': 2486, 'P0097142': 3603, 'P00209842': 1991, 'P00212942': 2021, 'P00283942': 2720, 'P00303242': 2907, 'P00170442': 1602, 'P00045842': 449, 'P00040442': 396, 'P00195842': 1854, 'P00293242': 2812, 'P00064042': 623, 'P00015542': 150, 'P00105142': 962, 'P00183442': 1730, 'P00199442': 1890, 'P00054542': 536, 'P00034742': 341, 'P00163142': 1534, 'P00027142': 266, 'P00053942': 530, 'P00173342': 1630, 'P00233342': 2223, 'P00010842': 105, 'P00120242': 1111, 'P00223942': 2131, 'P00362342': 3481, 'P00027542': 270, 'P00234842': 2238, 'P00029242': 287, 'P0097842': 3610, 'P00160942': 1512, 'P00136542': 1272, 'P00127942': 1187, 'P00248542': 2372, 'P00145842': 1363, 'P00214342': 2035, 'P00161542': 1518, 'P00001942': 18, 'P00328042': 3143, 'P00370242': 3559, 'P00340642': 3266, 'P00358242': 3441, 'P0096542': 3597, 'P0096942': 3601, 'P00074142': 722, 'P00270042': 2583, 'P00223842': 2130, 'P00014842': 143, 'P00274342': 2625, 'P00208742': 1980, 'P00304442': 2919, 'P00014042': 135, 'P00133442': 1241, 'P00159842': 1501, 'P00019942': 194, 'P00117042': 1079, 'P00141942': 1324, 'P00117942': 1088, 'P00001742': 16, 'P00315442': 3021, 'P00297642': 2854, 'P00088542': 859, 'P00089042': 864, 'P00175742': 1653, 'P00035542': 349, 'P00057942': 568, 'P00059442': 582, 'P00278042': 2662, 'P00154042': 1445, 'P00337942': 3239, 'P00229342': 2183, 'P00274242': 2624, 'P00084642': 820, 'P00071242': 694, 'P00050442': 495, 'P0097342': 3605, 'P00269542': 2578, 'P00045542': 446, 'P00139742': 1303, 'P00332242': 3183, 'P00205442': 1947, 'P00085542': 829, 'P00183142': 1727, 'P00298242': 2860, 'P00300942': 2884, 'P00013942': 134, 'P00087042': 844, 'P00087342': 847, 'P00195642': 1852, 'P00035842': 352, 'P00147342': 1378, 'P00176842': 1664, 'P00275842': 2640, 'P00351342': 3372, 'P00184142': 1737, 'P00317342': 3040, 'P00217242': 2064, 'P00335442': 3215, 'P0098342': 3615, 'P00079742': 774, 'P00143642': 1341, 'P00232342': 2213, 'P00179042': 1686, 'P00180942': 1705, 'P00265742': 2541, 'P00194542': 1841, 'P00127642': 1184, 'P00355142': 3410, 'P00144642': 1351, 'P00201342': 1909, 'P00251942': 2405, 'P00009342': 92, 'P00191442': 1810, 'P00330642': 3168, 'P00238542': 2273, 'P0094942': 3581, 'P00068042': 662, 'P00005042': 49, 'P00102042': 931, 'P00059742': 585, 'P00248142': 2368, 'P00279342': 2674, 'P00267542': 2559, 'P00163342': 1536, 'P00116842': 1077, 'P00348742': 3346, 'P00061142': 599, 'P00015942': 154, 'P00346542': 3324, 'P00188742': 1783, 'P00346942': 3328, 'P00007042': 69, 'P00240242': 2289, 'P00291042': 2790, 'P00244642': 2333, 'P00090542': 879, 'P00274142': 2623, 'P00270542': 2587, 'P00057442': 563, 'P00078142': 759, 'P00245642': 2343, 'P00037542': 369, 'P00049842': 489, 'P00022942': 224, 'P00350442': 3363, 'P00119542': 1104, 'P00025442': 249, 'P00080342': 780, 'P00338542': 3245, 'P00246142': 2348, 'P00317642': 3043, 'P00170642': 1604, 'P00115442': 1063, 'P00212742': 2019, 'P00150742': 1412, 'P00109342': 1002, 'P00162642': 1529, 'P00017042': 165, 'P00100842': 919, 'P00329442': 3156, 'P00303842': 2913, 'P00250242': 2388, 'P00012542': 122, 'P00152442': 1429, 'P00248342': 2370, 'P00218642': 2078, 'P00241542': 2302, 'P00346442': 3323, 'P00295942': 2837, 'P00270142': 2584, 'P0099042': 3622, 'P00367142': 3528, 'P00118842': 1097, 'P00034842': 342, 'P00001142': 10, 'P00008842': 87, 'P00222142': 2113, 'P00189842': 1794, 'P00198742': 1883, 'P00004242': 41, 'P00173942': 1635, 'P00124642': 1154, 'P00081142': 787, 'P00329542': 3157, 'P00020142': 196, 'P00121342': 1122, 'P00159542': 1498, 'P00115142': 1060, 'P00227542': 2166, 'P00241642': 2303, 'P00226742': 2159, 'P00062842': 613, 'P00028842': 283, 'P00284642': 2726, 'P00250342': 2389, 'P00214142': 2033, 'P00188542': 1781, 'P00088242': 856, 'P00121042': 1119, 'P00116742': 1076, 'P00289642': 2776, 'P00227742': 2168, 'P00127542': 1183, 'P00323942': 3103, 'P00101142': 922, 'P00129642': 1203, 'P00178642': 1682, 'P00288442': 2764, 'P00274042': 2622, 'P00091842': 892, 'P00016042': 155, 'P00214242': 2034, 'P00008542': 84, 'P00352142': 3380, 'P00150942': 1414, 'P00317442': 3041, 'P00063342': 617, 'P00114542': 1054, 'P00156742': 1472, 'P00119242': 1101, 'P00193042': 1826, 'P00036542': 359, 'P00181842': 1714, 'P00304742': 2922, 'P00163842': 1541, 'P00028242': 277, 'P00028542': 280, 'P00184442': 1740, 'P00137542': 1282, 'P00150342': 1408, 'P00369742': 3554, 'P00277942': 2661, 'P00207042': 1963, 'P00294542': 2824, 'P00033642': 330, 'P00086042': 834, 'P00057742': 566, 'P00101942': 930, 'P00113342': 1042, 'P00052642': 517, 'P00021642': 211, 'P00007342': 72, 'P00154742': 1452, 'P00016342': 158, 'P00141842': 1323, 'P00197442': 1870, 'P00048642': 477, 'P00358742': 3446, 'P00370342': 3561, 'P00031442': 308, 'P00128242': 1190, 'P00211142': 2004, 'P00152742': 1432, 'P00211042': 2003, 'P00148342': 1388, 'P00134342': 1250, 'P00159942': 1502, 'P00031642': 310, 'P00307342': 2946, 'P00022542': 220, 'P00323842': 3102, 'P00252442': 2410, 'P00304842': 2923, 'P00240142': 2288, 'P00140042': 1306, 'P00289042': 2770, 'P00141442': 1319, 'P00345742': 3316, 'P00065342': 636, 'P00298142': 2859, 'P00111542': 1024, 'P00347242': 3331, 'P00277642': 2658, 'P00024042': 235, 'P00064942': 632, 'P00112442': 1033, 'P00312942': 2998, 'P00125742': 1165, 'P00285742': 2737, 'P00004842': 47, 'P00010242': 99, 'P00014742': 142, 'P00079442': 771, 'P00208942': 1982, 'P00322342': 3089, 'P00309142': 2963, 'P00305142': 2926, 'P00128042': 1188, 'P00229742': 2187, 'P00194642': 1842, 'P00149542': 1400, 'P00138242': 1289, 'P00035242': 346, 'P00135842': 1265, 'P00035742': 351, 'P00019142': 186, 'P00188442': 1780, 'P00346342': 3322, 'P00111042': 1019, 'P00238442': 2272, 'P00270242': 2585, 'P00197342': 1869, 'P00318142': 3048, 'P00049642': 487, 'P00303642': 2911, 'P00071442': 696, 'P00226442': 2156, 'P0098542': 3617, 'P00231142': 2201, 'P00031542': 309, 'P00053842': 529, 'P00176042': 1656, 'P00116142': 1070, 'P00089442': 868, 'P00128942': 1196, 'P00139942': 1305, 'P00194442': 1840, 'P00178442': 1680, 'P00119742': 1106, 'P00279642': 2677, 'P00048142': 472, 'P00042942': 420, 'P00241242': 2299, 'P00250542': 2391, 'P00100442': 915, 'P00279142': 2672, 'P00256542': 2450, 'P00272042': 2602, 'P00057642': 565, 'P00348542': 3344, 'P00310242': 2973, 'P00350542': 3364, 'P00318942': 3055, 'P00150142': 1406, 'P00062742': 612, 'P00367042': 3527, 'P00070042': 682, 'P00211942': 2011, 'P00252842': 2414, 'P00341342': 3273, 'P00117342': 1082, 'P00044342': 434, 'P00090942': 883, 'P00302742': 2902, 'P00286842': 2748, 'P00102342': 934, 'P00104542': 956, 'P00360042': 3458, 'P00307642': 2949, 'P00052842': 519, 'P00057542': 564, 'P00282842': 2709, 'P00281542': 2696, 'P00367542': 3532, 'P00253042': 2416, 'P00221942': 2111, 'P00288342': 2763, 'P00115542': 1064, 'P00321942': 3085, 'P00100142': 913, 'P00313542': 3004, 'P00120142': 1110, 'P00129742': 1204, 'P00182742': 1723, 'P00020342': 198, 'P00158142': 1484, 'P00002142': 20, 'P00247742': 2364, 'P00092642': 900, 'P00051142': 502, 'P00005642': 55, 'P00102242': 933, 'P00283242': 2713, 'P00017742': 172, 'P00247642': 2363, 'P0009942': 911, 'P00155742': 1462, 'P00023642': 231, 'P00307542': 2948, 'P00125342': 1161, 'P00367242': 3529, 'P0095142': 3583, 'P00023142': 226, 'P00127342': 1181, 'P00153742': 1442, 'P00117742': 1086, 'P00143342': 1338, 'P00277542': 2657, 'P00324942': 3113, 'P00092242': 896, 'P00355942': 3418, 'P00013342': 128, 'P00089542': 869, 'P00107642': 985, 'P00267142': 2555, 'P00021842': 213, 'P00182242': 1718, 'P00050342': 494, 'P0099742': 3628, 'P00212342': 2015, 'P00153642': 1441, 'P00244042': 2327, 'P00049442': 485, 'P00068942': 671, 'P00029842': 293, 'P00089242': 866, 'P00322742': 3092, 'P00168742': 1585, 'P00136442': 1271, 'P00256642': 2451, 'P00158242': 1485, 'P00357942': 3438, 'P00042842': 419, 'P00330042': 3162, 'P00038342': 377, 'P00287542': 2755, 'P00196142': 1857, 'P00187442': 1770, 'P00303142': 2906, 'P00277842': 2660, 'P0095342': 3585, 'P00048442': 475, 'P00128342': 1191, 'P00021342': 208, 'P00226142': 2153, 'P00164342': 1546, 'P00041142': 403, 'P00222942': 2121, 'P00041042': 402, 'P00354342': 3402, 'P00223642': 2128, 'P00179642': 1692, 'P00093642': 909, 'P00272242': 2604, 'P00075742': 737, 'P00224142': 2133, 'P00027642': 271, 'P00265542': 2539, 'P00041742': 409, 'P00053542': 526, 'P00227842': 2169, 'P00137242': 1279, 'P00207242': 1965, 'P00328342': 3146, 'P00055142': 542, 'P00297042': 2848, 'P00289242': 2772, 'P00230842': 2198, 'P00193242': 1828, 'P00326842': 3131, 'P00050742': 498, 'P00266542': 2549, 'P00352842': 3387, 'P00242742': 2314, 'P00015642': 151, 'P00114042': 1049, 'P00357242': 3431, 'P00118542': 1094, 'P00313442': 3003, 'P00285842': 2738, 'P00161142': 1514, 'P00200642': 1902, 'P00343042': 3290, 'P00326242': 3125, 'P00196742': 1863, 'P00129342': 1200, 'P00025542': 250, 'P00128742': 1195, 'P00087442': 848, 'P00335242': 3213, 'P00161242': 1515, 'P00033342': 327, 'P00101242': 923, 'P00205242': 1945, 'P00302042': 2895, 'P00362442': 3482, 'P00206642': 1959, 'P00045342': 444, 'P00214742': 2039, 'P00344842': 3307, 'P00119642': 1105, 'P00362542': 3483, 'P00246942': 2356, 'P00191742': 1813, 'P00303042': 2905, 'P00281942': 2700, 'P00295242': 2830, 'P00295842': 2836, 'P00178042': 1676, 'P00114342': 1052, 'P00249042': 2377, 'P00136342': 1270, 'P00331942': 3180, 'P00218842': 2080, 'P00102942': 940, 'P00058042': 569, 'P00022642': 221, 'P00268442': 2568, 'P00114642': 1055, 'P00255742': 2442, 'P00106942': 978, 'P00111842': 1027, 'P00304142': 2916, 'P00249842': 2385, 'P00323442': 3098, 'P00129442': 1201, 'P00021042': 205, 'P00363742': 3494, 'P00225042': 2142, 'P00002642': 25, 'P00234542': 2235, 'P00173842': 1634, 'P00205942': 1952, 'P00327342': 3136, 'P00089142': 865, 'P00024742': 242, 'P00053642': 527, 'P00101842': 929, 'P00011342': 110, 'P00002942': 28, 'P00258442': 2469, 'P00246342': 2350, 'P00331342': 3174, 'P00360742': 3465, 'P00120442': 1113, 'P00196042': 1856, 'P00276142': 2643, 'P00176942': 1665, 'P00216542': 2057, 'P00295542': 2833, 'P00091142': 885, 'P00026542': 260, 'P00242042': 2307, 'P00184342': 1739, 'P00049542': 486, 'P00155642': 1461, 'P00347342': 3332, 'P00007142': 70, 'P00221442': 2106, 'P00167942': 1578, 'P00201442': 1910, 'P00014642': 141, 'P00285642': 2736, 'P00246042': 2347, 'P00204342': 1937, 'P00025042': 245, 'P00066542': 648, 'P00177342': 1669, 'P00322942': 3093, 'P00266042': 2544, 'P00177642': 1672, 'P00281642': 2697, 'P00282442': 2705, 'P00042742': 418, 'P00001242': 11, 'P00339942': 3259, 'P00029542': 290, 'P00244342': 2330, 'P00280642': 2687, 'P00244442': 2331, 'P00105442': 965, 'P00194142': 1837, 'P00313942': 3008, 'P00084342': 817, 'P00198642': 1882, 'P00115842': 1067, 'P00128142': 1189, 'P00021142': 206, 'P00043542': 426, 'P00102842': 939, 'P00041842': 410, 'P00242642': 2313, 'P00231942': 2209, 'P00174142': 1637, 'P00260442': 2489, 'P00016842': 163, 'P00255942': 2444, 'P00268342': 2567, 'P00223542': 2127, 'P00122442': 1132, 'P00298942': 2866, 'P00042542': 417, 'P00078842': 766, 'P00084842': 822, 'P00216742': 2059, 'P00006142': 60, 'P00233442': 2224, 'P00024342': 238, 'P00024242': 237, 'P00093342': 906, 'P00333642': 3197, 'P00364442': 3501, 'P00346042': 3319, 'P00282242': 2703, 'P00180342': 1699, 'P00113642': 1045, 'P00001042': 9, 'P00083942': 813, 'P00117842': 1087, 'P00148042': 1385, 'P00053042': 521, 'P00004642': 45, 'P00158042': 1483, 'P00259142': 2476, 'P00282042': 2701, 'P00047942': 470, 'P00131542': 1222, 'P00264242': 2526, 'P00343442': 3294, 'P00254642': 2431, 'P00320842': 3074, 'P00074242': 723, 'P00018142': 176, 'P00229942': 2189, 'P00355642': 3415, 'P00142942': 1334, 'P00035342': 347, 'P00017542': 170, 'P00217942': 2071, 'P00072542': 707, 'P00178242': 1678, 'P00352642': 3385, 'P00145642': 1361, 'P00100942': 920, 'P00105042': 961, 'P00305042': 2925, 'P00181542': 1711, 'P00014942': 144, 'P00125142': 1159, 'P00368242': 3539, 'P00243542': 2322, 'P00342042': 3280, 'P00179242': 1688, 'P00129142': 1198, 'P00359242': 3451, 'P00308342': 2956, 'P00216042': 2052, 'P00220342': 2095, 'P00171342': 1611, 'P0095842': 3590, 'P00256042': 2445, 'P00124242': 1150, 'P00236542': 2254, 'P00353542': 3394, 'P00319242': 3058, 'P00311942': 2989, 'P00197142': 1867, 'P00065242': 635, 'P00194342': 1839, 'P00180142': 1697, 'P00168342': 1581, 'P00265342': 2537, 'P00319042': 3056, 'P00093242': 905, 'P00051642': 507, 'P00293342': 2813, 'P00153842': 1443, 'P00130842': 1215, 'P00155842': 1463, 'P00211242': 2005, 'P00221042': 2102, 'P00008142': 80, 'P00079942': 776, 'P00320942': 3075, 'P00319442': 3060, 'P00235142': 2241, 'P00280442': 2685, 'P00173242': 1629, 'P0095542': 3587, 'P00265142': 2535, 'P00074342': 724, 'P00135342': 1260, 'P00316642': 3033, 'P00264642': 2530, 'P00157642': 1480, 'P00070342': 685, 'P00073642': 717, 'P00268542': 2569, 'P00136742': 1274, 'P00001542': 14, 'P00154242': 1447, 'P00050142': 492, 'P00130642': 1213, 'P00024642': 241, 'P00329942': 3161, 'P00192742': 1823, 'P00138842': 1295, 'P00185842': 1754, 'P00115042': 1059, 'P00120642': 1115, 'P00005742': 56, 'P00048042': 471, 'P00273342': 2615, 'P00180042': 1696, 'P00365342': 3510, 'P00146742': 1372, 'P00335742': 3218, 'P00114842': 1057, 'P00366442': 3521, 'P00348942': 3348, 'P00270842': 2590, 'P00339342': 3253, 'P00358442': 3443, 'P00031142': 305, 'P00118042': 1089, 'P00331142': 3172, 'P00156542': 1470, 'P00033442': 328, 'P00154442': 1449, 'P00274642': 2628, 'P00313242': 3001, 'P00279542': 2676, 'P00203742': 1931, 'P00354442': 3403, 'P00178142': 1677, 'P00092142': 895, 'P00318342': 3049, 'P00210942': 2002, 'P00215442': 2046, 'P00309242': 2964, 'P00109942': 1008, 'P00208042': 1973, 'P00029742': 292, 'P00240442': 2291, 'P00304642': 2921, 'P00067942': 661, 'P00361942': 3477, 'P00083242': 806, 'P00366942': 3526, 'P00149142': 1396, 'P00214642': 2038, 'P00181942': 1715, 'P00296042': 2838, 'P00189042': 1786, 'P00134942': 1256, 'P00359042': 3449, 'P00088842': 862, 'P00159442': 1497, 'P00341242': 3272, 'P00122542': 1133, 'P00295342': 2831, 'P00323642': 3100, 'P00101542': 926, 'P00307942': 2952, 'P00297542': 2853, 'P00287642': 2756, 'P00115742': 1066, 'P00120542': 1114, 'P00330342': 3165, 'P00296942': 2847, 'P00332142': 3182, 'P00370042': 3557, 'P00130242': 1209, 'P00320742': 3073, 'P00101042': 921, 'P00169742': 1595, 'P00352242': 3381, 'P00181742': 1713, 'P00078242': 760, 'P00059842': 586, 'P00072842': 709, 'P00198242': 1878, 'P00335842': 3219, 'P00174842': 1644, 'P00214842': 2040, 'P00248742': 2374, 'P00052242': 513, 'P00047742': 468, 'P00155142': 1456, 'P0009842': 910, 'P00052742': 518, 'P00036242': 356, 'P00025342': 248, 'P00271042': 2592, 'P00312842': 2997, 'P00370642': 3564, 'P00309342': 2965, 'P00109842': 1007, 'P00287342': 2753, 'P00192242': 1818, 'P00025942': 254, 'P00084242': 816, 'P00107242': 981, 'P00128542': 1193, 'P00260642': 2491, 'P00082242': 797, 'P00249742': 2384, 'P00129042': 1197, 'P00288242': 2762, 'P00184242': 1738, 'P00302642': 2901, 'P00126042': 1168, 'P00349442': 3353, 'P00169642': 1594, 'P00010542': 102, 'P00222042': 2112, 'P0096342': 3595, 'P00356742': 3426, 'P00155242': 1457, 'P00041942': 411, 'P00358342': 3442, 'P00127742': 1185, 'P00066942': 652, 'P00085842': 832, 'P00284742': 2727, 'P00254242': 2427, 'P00210542': 1998, 'P00086342': 837, 'P00315642': 3023, 'P0099442': 3626, 'P00108542': 994, 'P00337142': 3231, 'P00111242': 1021, 'P00263542': 2520, 'P00250942': 2395, 'P00265442': 2538, 'P00006842': 67, 'P00156842': 1473, 'P00075442': 734, 'P00217342': 2065, 'P00195042': 1846, 'P00253542': 2421, 'P00324642': 3110, 'P00228342': 2174, 'P0098742': 3619, 'P00026642': 261, 'P00296242': 2840, 'P00144042': 1345, 'P00040942': 401, 'P00043842': 429, 'P00032142': 315, 'P00000542': 4, 'P00035642': 350, 'P00291242': 2792, 'P00198842': 1884, 'P00256342': 2448, 'P00298442': 2862, 'P00191942': 1815, 'P00230942': 2199, 'P00305342': 2928, 'P00157142': 1475, 'P00256842': 2453, 'P00002042': 19, 'P00294242': 2821, 'P00193642': 1832, 'P00109542': 1004, 'P00169442': 1592, 'P00022142': 216, 'P00231242': 2202, 'P00299142': 2868, 'P00337542': 3235, 'P00065042': 633, 'P00148442': 1389, 'P00349242': 3351, 'P00289842': 2778, 'P00033942': 333, 'P00190542': 1801, 'P00207942': 1972, 'P00164842': 1550, 'P00266442': 2548, 'P00346242': 3321, 'P00103242': 943, 'P00061542': 603, 'P00209142': 1984, 'P00052442': 515, 'P00116542': 1074, 'P00325742': 3121, 'P00340042': 3260, 'P00221742': 2109, 'P00241742': 2304, 'P00018842': 183, 'P00297742': 2855, 'P00168142': 1580, 'P00106042': 970, 'P00163442': 1537, 'P00237842': 2266, 'P00300042': 2877, 'P00196542': 1861, 'P00273942': 2621, 'P00272842': 2610, 'P00116042': 1069, 'P00012142': 118, 'P00104942': 960, 'P00117242': 1081, 'P00085642': 830, 'P00123842': 1146, 'P00300242': 2878, 'P00108642': 995, 'P00101742': 928, 'P00367942': 3536, 'P00209642': 1989, 'P00085342': 827, 'P00111942': 1028, 'P00283142': 2712, 'P00186642': 1762, 'P00177142': 1667, 'P00350142': 3360, 'P00123742': 1145, 'P00338842': 3248, 'P00368442': 3541, 'P00316842': 3035, 'P00320042': 3066, 'P0095642': 3588, 'P00206342': 1956, 'P00316442': 3031, 'P00218742': 2079, 'P00124942': 1157, 'P00267242': 2556, 'P00193942': 1835, 'P00180542': 1701, 'P00226842': 2160, 'P00204742': 1940, 'P00285242': 2732, 'P00232642': 2216, 'P00282342': 2704, 'P00257842': 2463, 'P00303942': 2914, 'P00212442': 2016, 'P00354842': 3407, 'P00223142': 2123, 'P00191342': 1809, 'P00015842': 153, 'P00330242': 3164, 'P00310342': 2974, 'P00006942': 68, 'P00296142': 2839, 'P00015742': 152, 'P00280842': 2689, 'P00253142': 2417, 'P00012242': 119, 'P0096842': 3600, 'P00145142': 1356, 'P00054342': 534, 'P00223742': 2129, 'P00150842': 1413, 'P00232042': 2210, 'P00177542': 1671, 'P00359742': 3456, 'P00210042': 1993, 'P00297342': 2851, 'P00206042': 1953, 'P00294842': 2827, 'P00059642': 584, 'P00368142': 3538, 'P00327642': 3139, 'P00126542': 1173, 'P00088442': 858, 'P00176142': 1657, 'P00040142': 393, 'P00321042': 3076, 'P00252742': 2413, 'P00056542': 556, 'P00022742': 222, 'P00120742': 1116, 'P00054242': 533, 'P00295742': 2835, 'P00336942': 3229, 'P00136842': 1275, 'P00304042': 2915, 'P00127042': 1178, 'P00166042': 1560, 'P00315842': 3025, 'P00271542': 2597, 'P00311342': 2983, 'P00088042': 854, 'P00256442': 2449, 'P00215042': 2042, 'P00353142': 3390, 'P00276242': 2644, 'P00031742': 311, 'P00176642': 1662, 'P00174042': 1636, 'P00029142': 286, 'P00070942': 691, 'P00211442': 2007, 'P0099242': 3624, 'P00034342': 337, 'P00024942': 244, 'P00246642': 2353, 'P00074642': 727, 'P00105342': 964, 'P00319142': 3057, 'P00329242': 3154, 'P0094342': 3575, 'P00280242': 2683, 'P00151042': 1415, 'P00000342': 2, 'P00211542': 2008, 'P00218942': 2081, 'P00278242': 2664, 'P00284842': 2728, 'P00102142': 932, 'P00175642': 1652, 'P00222842': 2120, 'P00054942': 540, 'P00002442': 23, 'P00026742': 262, 'P00018642': 181, 'P00054042': 531, 'P00228642': 2177, 'P0098442': 3616, 'P00106642': 975, 'P00114442': 1053, 'P00228042': 2171, 'P00053742': 528, 'P0094742': 3579, 'P00036442': 358, 'P00064142': 624, 'P00021942': 214, 'P00221242': 2104, 'P00113842': 1047, 'P00133842': 1245, 'P00067142': 654, 'P00191242': 1808, 'P00253242': 2418, 'P00197042': 1866, 'P00196642': 1862, 'P00195542': 1851, 'P00236942': 2257, 'P00190442': 1800, 'P00294442': 2823, 'P00179842': 1694, 'P00237642': 2264, 'P00302342': 2898, 'P00221842': 2110, 'P00174242': 1638, 'P00226342': 2155, 'P00119842': 1107, 'P00230342': 2193, 'P00224342': 2135, 'P00037342': 367, 'P00184642': 1742, 'P00138342': 1290, 'P00188242': 1778, 'P00137142': 1278, 'P00238742': 2275, 'P00220742': 2099, 'P00022442': 219, 'P00183342': 1729, 'P00189242': 1788, 'P00232842': 2218, 'P00026242': 257, 'P00075542': 735, 'P00224242': 2134, 'P00368642': 3543, 'P00186542': 1761, 'P00317142': 3038, 'P00309942': 2970, 'P00184042': 1736, 'P00029442': 289, 'P00226942': 2161, 'P00050842': 499, 'P00334042': 3201, 'P00081842': 794, 'P00157342': 1477, 'P00215642': 2048, 'P00002242': 21, 'P00041342': 405, 'P00039742': 389, 'P00139542': 1301, 'P00216442': 2056, 'P00266942': 2553, 'P00040342': 395, 'P00074042': 721, 'P00049242': 483, 'P00140442': 1310, 'P00269242': 2575, 'P00155342': 1458, 'P00252942': 2415, 'P00190342': 1799, 'P00187942': 1775, 'P00020242': 197, 'P00212142': 2013, 'P00195742': 1853, 'P00261842': 2503, 'P00221142': 2103, 'P00059142': 579, 'P00280142': 2682, 'P00023342': 228, 'P00184742': 1743, 'P00259842': 2483, 'P00157942': 1482, 'P00299442': 2871, 'P00013642': 131, 'P00217442': 2066, 'P00000442': 3, 'P0094442': 3576, 'P00331042': 3171, 'P0096142': 3593, 'P00368042': 3537, 'P00113442': 1043, 'P00069342': 675, 'P00188042': 1776, 'P00360542': 3463, 'P00200242': 1898, 'P00334642': 3207, 'P00086142': 835, 'P00209942': 1992, 'P00226542': 2157, 'P00316942': 3036, 'P00233042': 2220, 'P00142342': 1328, 'P00362842': 3486, 'P00199342': 1889, 'P00044942': 440, 'P00191042': 1806, 'P00004542': 44, 'P00126842': 1176, 'P00044542': 436, 'P00025642': 251, 'P00052542': 516, 'P00212042': 2012, 'P00264042': 2524, 'P00185542': 1751, 'P00124042': 1148, 'P00173042': 1627, 'P00233742': 2227, 'P00178842': 1684, 'P00235842': 2248, 'P00233642': 2226, 'P00363342': 3491, 'P00224042': 2132, 'P00337842': 3238, 'P00261542': 2500, 'P00235542': 2245, 'P00207442': 1967, 'P00210342': 1996, 'P00044242': 433, 'P00302442': 2899, 'P00005342': 52, 'P00220042': 2092, 'P00170242': 1600, 'P00201042': 1906, 'P00020442': 199, 'P00010942': 106, 'P00192842': 1824, 'P00222442': 2116, 'P00189542': 1791, 'P00228442': 2175, 'P00247142': 2358, 'P00351042': 3369, 'P00100742': 918, 'P00357042': 3429, 'P00113042': 1039, 'P00030442': 298, 'P00315542': 3022, 'P00086742': 841, 'P00022342': 218, 'P00116942': 1078, 'P00172142': 1619, 'P00110042': 1009, 'P00142042': 1325, 'P00158742': 1490, 'P00332942': 3190, 'P00332042': 3181, 'P00018542': 180, 'P00007942': 78, 'P00149442': 1399, 'P00029942': 294, 'P00208542': 1978, 'P00257042': 2455, 'P00176742': 1663, 'P00344442': 3304, 'P00083342': 807, 'P00189142': 1787, 'P00164942': 1551, 'P00343942': 3299, 'P00163242': 1535, 'P00185442': 1750, 'P00046042': 451, 'P00070742': 689, 'P00080642': 783, 'P00328742': 3149, 'P00079642': 773, 'P00065442': 637, 'P00058242': 571, 'P00078642': 764, 'P00215742': 2049, 'P00189342': 1789, 'P00116242': 1071, 'P00101442': 925, 'P00230642': 2196, 'P00177242': 1668, 'P00336042': 3221, 'P00233942': 2229, 'P00032342': 317, 'P00124342': 1151, 'P00078442': 762, 'P00302142': 2896, 'P00175242': 1648, 'P00177742': 1673, 'P00344342': 3303, 'P00298542': 2863, 'P00191642': 1812, 'P00257542': 2460, 'P00108842': 997, 'P00354142': 3400, 'P00360942': 3467, 'P00286342': 2743, 'P00299542': 2872, 'P00066242': 645, 'P00271442': 2596, 'P00081542': 791, 'P00086642': 840, 'P00046842': 459, 'P00358142': 3440, 'P00124742': 1155, 'P00177842': 1674, 'P00354942': 3408, 'P00335942': 3220, 'P00314942': 3017, 'P00347042': 3329, 'P00328642': 3148, 'P00239342': 2281, 'P00195342': 1849, 'P00342742': 3287, 'P00004342': 42, 'P00258842': 2473, 'P00258942': 2474, 'P00225642': 2148, 'P00252142': 2407, 'P00118642': 1095, 'P00108442': 993, 'P00251842': 2404, 'P00089942': 873, 'P00175442': 1650, 'P00256942': 2454, 'P00118942': 1098, 'P00108942': 998, 'P00237942': 2267, 'P00183542': 1731, 'P00080042': 777, 'P00040042': 392, 'P00008742': 86, 'P00009242': 91, 'P00027442': 269, 'P00324842': 3112, 'P00046442': 455, 'P00186842': 1764, 'P00193742': 1833, 'P00321842': 3084, 'P00283542': 2716, 'P00265642': 2540, 'P00179342': 1689, 'P00265842': 2542, 'P00039542': 387, 'P00052042': 511, 'P00346842': 3327, 'P00017442': 169, 'P00350642': 3365, 'P00348342': 3342, 'P00125642': 1164, 'P0097742': 3609, 'P00034142': 335, 'P00165642': 1556, 'P00075342': 733, 'P00358942': 3448, 'P00219142': 2083, 'P00219042': 2082, 'P00247942': 2366, 'P00064242': 625, 'P0096742': 3599, 'P00187342': 1769, 'P00310842': 2979, 'P00362642': 3484, 'P00261242': 2497, 'P0095742': 3589, 'P00133642': 1243, 'P00267642': 2560, 'P00150042': 1405, 'P00274542': 2627, 'P00025142': 246, 'P00200342': 1899, 'P00286742': 2747, 'P00150442': 1409, 'P00286642': 2746, 'P00324542': 3109, 'P00045142': 442, 'P00183642': 1732, 'P00262442': 2509, 'P00020542': 200, 'P00035142': 345, 'P00273542': 2617, 'P00234642': 2236, 'P00006042': 59, 'P00028342': 278, 'P00207342': 1966, 'P00278442': 2666, 'P00034242': 336, 'P00254942': 2434, 'P00158842': 1491, 'P00036742': 361, 'P00156042': 1465, 'P00283342': 2714, 'P00220642': 2098, 'P00254342': 2428, 'P00086842': 842, 'P00038142': 375, 'P00036142': 355, 'P00269642': 2579, 'P00269742': 2580, 'P00285342': 2733, 'P00149342': 1398, 'P00202242': 1918, 'P00170542': 1603, 'P00017242': 167, 'P00088742': 861, 'P00364142': 3498, 'P00294142': 2820, 'P00053342': 524, 'P00151242': 1417, 'P00259942': 2484, 'P00356442': 3423, 'P00024842': 243, 'P00103342': 944, 'P00035042': 344, 'P00184542': 1741, 'P00290042': 2780, 'P00086242': 836, 'P00316242': 3029, 'P00294042': 2819, 'P00092942': 902, 'P00322142': 3087, 'P00017642': 171, 'P00033542': 329, 'P00273742': 2619, 'P00259242': 2477, 'P00109742': 1006, 'P00287242': 2752, 'P00002342': 22, 'P00121242': 1121, 'P00068142': 663, 'P00146042': 1365, 'P00182542': 1721, 'P00251442': 2400, 'P00169142': 1589, 'P00233142': 2221, 'P00190942': 1805, 'P00297842': 2856, 'P00004442': 43, 'P00077842': 756, 'P00263442': 2519, 'P00170942': 1607, 'P00146842': 1373, 'P00281042': 2691, 'P00308242': 2955, 'P00196442': 1860, 'P00051842': 509, 'P00202142': 1917, 'P00292042': 2800, 'P00190842': 1804, 'P00113742': 1046, 'P00180242': 1698, 'P00149642': 1401, 'P00084142': 815, 'P00240042': 2287, 'P00145742': 1362, 'P00084542': 819, 'P00346742': 3326, 'P00269442': 2577, 'P00151942': 1424, 'P00342442': 3284, 'P00240542': 2292, 'P00332842': 3189, 'P00183842': 1734, 'P00152242': 1427, 'P00076042': 740, 'P00204242': 1936, 'P0095242': 3584, 'P00185642': 1752, 'P00082742': 801, 'P00327542': 3138, 'P00319842': 3064, 'P00171642': 1614, 'P00198942': 1885, 'P00367742': 3534, 'P00322542': 3091, 'P00225142': 2143, 'P00043642': 427, 'P00046942': 460, 'P00210642': 1999, 'P00272142': 2603, 'P00170142': 1599, 'P00213142': 2023, 'P00240342': 2290, 'P00347742': 3336, 'P00218042': 2072, 'P00119442': 1103, 'P00043142': 422, 'P00155942': 1464, 'P00049042': 481, 'P00079842': 775, 'P0097042': 3602, 'P00199642': 1892, 'P00231442': 2204, 'P00357742': 3436, 'P00187042': 1766, 'P00146342': 1368, 'P00009042': 89, 'P00005142': 50, 'P00017142': 166, 'P00084042': 814, 'P00344542': 3305, 'P00059042': 578, 'P00208142': 1974, 'P00284942': 2729, 'P00287442': 2754, 'P00235342': 2243, 'P00018042': 175, 'P00226242': 2154, 'P00105242': 963, 'P00364842': 3505, 'P00242542': 2312, 'P00159142': 1494, 'P00342142': 3281, 'P00365642': 3513, 'P00007542': 74, 'P00181442': 1710, 'P00281142': 2692, 'P00236342': 2252, 'P00268242': 2566, 'P00043742': 428, 'P00033742': 331, 'P00236042': 2250, 'P00351242': 3371, 'P00065742': 640, 'P00267342': 2557, 'P00183942': 1735, 'P00359642': 3455, 'P00067842': 660, 'P00170842': 1606, 'P00061842': 605, 'P00158442': 1487, 'P00162242': 1525, 'P00138442': 1291, 'P00007242': 71, 'P00220942': 2101, 'P00070442': 686, 'P00084942': 823, 'P00112842': 1037, 'P00369142': 3548, 'P00041442': 406, 'P00183042': 1726, 'P00233242': 2222, 'P00333742': 3198, 'P00333842': 3199, 'P00249342': 2380, 'P00354542': 3404, 'P00122342': 1131, 'P00035942': 353, 'P00324342': 3107, 'P0098142': 3613, 'P00276842': 2650, 'P00320542': 3071, 'P00135042': 1257, 'P00083742': 811, 'P00134442': 1251, 'P00032742': 321, 'P00296542': 2843, 'P00083642': 810, 'P00033842': 332, 'P00011742': 114, 'P00046342': 454, 'P00232242': 2212, 'P00216242': 2054, 'P00151142': 1416, 'P00321542': 3081, 'P00350242': 3361, 'P00015042': 145, 'P00165842': 1558, 'P00295042': 2828, 'P00227342': 2164, 'P00186442': 1760, 'P00355742': 3416, 'P00177042': 1666, 'P00220542': 2097, 'P00327142': 3134, 'P0094842': 3580, 'P00147842': 1383, 'P00227142': 2163, 'P00092442': 898, 'P00339842': 3258, 'P00129242': 1199, 'P00176542': 1661, 'P00338942': 3249, 'P00226642': 2158, 'P00232442': 2214, 'P00015242': 147, 'P00271242': 2594, 'P00041242': 404, 'P00134542': 1252, 'P00180742': 1703, 'P00205142': 1944, 'P00039442': 386, 'P00170342': 1601, 'P00291342': 2793, 'P00134142': 1248, 'P00176242': 1658, 'P00347642': 3335, 'P00291442': 2794, 'P00240842': 2295, 'P00357642': 3435, 'P00167742': 1576, 'P00357142': 3430, 'P00132642': 1233, 'P00069542': 677, 'P00148542': 1390, 'P00030742': 301, 'P00361642': 3474, 'P00285042': 2730, 'P00257442': 2459, 'P00356042': 3419, 'P00045442': 445, 'P00193842': 1834, 'P00262342': 2508, 'P00112242': 1031, 'P00055242': 543, 'P00037442': 368, 'P00088342': 857, 'P00313742': 3006, 'P00369042': 3547, 'P00367642': 3533, 'P00287942': 2759, 'P00242342': 2310, 'P00224742': 2139, 'P00057042': 560, 'P00001442': 13, 'P00212842': 2020, 'P00293842': 2817, 'P00337442': 3234, 'P00306042': 2935, 'P00053142': 522, 'P00213542': 2027, 'P00061342': 601, 'P00215242': 2044, 'P00006542': 64, 'P00000942': 8, 'P00229642': 2186, 'P00174542': 1641, 'P00137442': 1281, 'P00271342': 2595, 'P00271942': 2601, 'P00121542': 1124, 'P00046242': 453, 'P00016642': 161, 'P00329642': 3158, 'P00036042': 354, 'P00125442': 1162, 'P00037742': 371, 'P00206142': 1954, 'P00368942': 3546, 'P00348642': 3345, 'P00341742': 3277, 'P00304342': 2918, 'P00257642': 2461, 'P00243242': 2319, 'P00368342': 3540, 'P00288742': 2767, 'P00004142': 40, 'P00026942': 264, 'P00126942': 1177, 'P00107742': 986, 'P0099642': 3627, 'P00347942': 3338, 'P00244742': 2334, 'P00266142': 2545, 'P00193442': 1830, 'P00042042': 412, 'P00036342': 357, 'P00225942': 2151, 'P00345242': 3311, 'P00262542': 2510, 'P00302542': 2900, 'P00079142': 769, 'P00135142': 1258, 'P00278542': 2667, 'P00366642': 3523, 'P00104742': 958, 'P00056842': 559, 'P00255342': 2438, 'P00251042': 2396, 'P00352942': 3388, 'P00230242': 2192, 'P00174742': 1643, 'P00218442': 2076, 'P00277742': 2659, 'P00339042': 3250, 'P00020842': 203, 'P00200442': 1900, 'P00033042': 324, 'P00003842': 37, 'P00229842': 2188, 'P00316142': 3028, 'P00365042': 3507, 'P00068842': 670, 'P00005842': 57, 'P00141242': 1317, 'P00067042': 653, 'P00149242': 1397, 'P00248042': 2367, 'P00139142': 1298, 'P00157842': 1481, 'P00055442': 545, 'P00266742': 2551, 'P00138142': 1288, 'P00204542': 1939, 'P00153342': 1438, 'P00109142': 1000, 'P00068442': 666, 'P00219942': 2091, 'P00147042': 1375, 'P00237242': 2260, 'P00145242': 1357, 'P00200142': 1897, 'P00134042': 1247, 'P00014242': 137, 'P00000842': 7, 'P00010042': 97, 'P00131242': 1219, 'P00163042': 1533, 'P00045642': 447, 'P00155042': 1455, 'P00176342': 1659, 'P00274442': 2626, 'P00047142': 462, 'P00049742': 488, 'P00126242': 1170, 'P00040642': 398, 'P00066642': 649, 'P00238642': 2274, 'P00132842': 1235, 'P00242142': 2308, 'P00152942': 1434, 'P00016142': 156, 'P00160542': 1508, 'P00233842': 2228, 'P00069242': 674, 'P00092542': 899, 'P00293142': 2811, 'P00230442': 2194, 'P00141542': 1320, 'P00011942': 116, 'P00163742': 1540, 'P00052142': 512, 'P00156142': 1466, 'P00040742': 399, 'P00105642': 967, 'P00258342': 2468, 'P00049942': 490, 'P00337642': 3236, 'P00037042': 364, 'P00224542': 2137, 'P00317042': 3037, 'P00356842': 3427, 'P00362042': 3478, 'P00261342': 2498, 'P00260342': 2488, 'P00176442': 1660, 'P00181242': 1708, 'P00180642': 1702, 'P00305642': 2931, 'P00283842': 2719, 'P00365842': 3515, 'P00269942': 2582, 'P00245242': 2339, 'P00340242': 3262, 'P00079042': 768, 'P00331742': 3178, 'P00326042': 3124, 'P00116642': 1075, 'P00131042': 1217, 'P00344042': 3300, 'P00173442': 1631, 'P00197942': 1875, 'P00181642': 1712, 'P00045042': 441, 'P00277242': 2654, 'P00132542': 1232, 'P00160442': 1507, 'P00301242': 2887, 'P00327742': 3140, 'P00087142': 845, 'P00219742': 2089, 'P00018942': 184, 'P00049342': 484, 'P00072942': 710, 'P00043942': 430, 'P00050942': 500, 'P00047542': 466, 'P00056142': 552, 'P00023942': 234, 'P00256142': 2446, 'P00088642': 860, 'P00276342': 2645, 'P00175842': 1654, 'P00360242': 3460, 'P0095442': 3586, 'P00121442': 1123, 'P00216942': 2061, 'P00080742': 784, 'P00152642': 1431, 'P00070242': 684, 'P00142842': 1333, 'P00213042': 2022, 'P00131742': 1224, 'P00290242': 2782, 'P00301542': 2890, 'P00246542': 2352, 'P00307442': 2947, 'P00241042': 2297, 'P00020642': 201, 'P00197742': 1873, 'P00173542': 1632, 'P00109042': 999, 'P00230542': 2195, 'P00232542': 2215, 'P00085142': 825, 'P00130942': 1216, 'P00027042': 265, 'P00160642': 1509, 'P00253742': 2423, 'P00344142': 3301, 'P00093442': 907, 'P00224842': 2140, 'P00200042': 1896, 'P00349342': 3352, 'P00325942': 3123, 'P00258542': 2470, 'P00305242': 2927, 'P00109642': 1005, 'P00139842': 1304, 'P00000742': 6, 'P00294642': 2825, 'P00361342': 3471, 'P00250742': 2393, 'P00032942': 323, 'P00082342': 798, 'P00327442': 3137, 'P00172542': 1623, 'P00313842': 3007, 'P00010342': 100, 'P00215842': 2050, 'P00013142': 126, 'P00011842': 115, 'P00008242': 81, 'P00173742': 1633, 'P00307142': 2944, 'P00214942': 2041, 'P00309442': 2966, 'P00365742': 3514, 'P00250442': 2390, 'P00061442': 602, 'P00286542': 2745, 'P00032542': 319, 'P00003742': 36, 'P00234442': 2234, 'P00075842': 738, 'P00010442': 101, 'P00338142': 3241, 'P00204942': 1942, 'P00234142': 2231, 'P00075942': 739, 'P00330542': 3167, 'P00355242': 3411, 'P00105542': 966, 'P00033242': 326, 'P00202742': 1923, 'P00295442': 2832, 'P00165142': 1553, 'P00219342': 2085, 'P00018342': 178, 'P00161842': 1521, 'P00146442': 1369, 'P00056442': 555, 'P00354642': 3405, 'P00083042': 804, 'P00272542': 2607, 'P00356942': 3428, 'P00331442': 3175, 'P00005942': 58, 'P00272942': 2611, 'P00315042': 3018, 'P00239742': 2284, 'P00037242': 366, 'P00073942': 720, 'P00165942': 1559, 'P00142242': 1327, 'P00280342': 2684, 'P00194242': 1838, 'P00008442': 83, 'P00328942': 3151, 'P00217842': 2070, 'P00179542': 1691, 'P00179742': 1693, 'P00123642': 1144, 'P00232942': 2219, 'P00254142': 2426, 'P00048342': 474, 'P00015142': 146, 'P00283042': 2711, 'P00081242': 788, 'P00296642': 2844, 'P00199742': 1893, 'P00186342': 1759, 'P00125042': 1158, 'P00304942': 2924, 'P00182042': 1716, 'P00200842': 1904, 'P00125542': 1163, 'P00260242': 2487, 'P00237142': 2259, 'P00199142': 1887, 'P00340942': 3269, 'P0094642': 3578, 'P00292342': 2803, 'P00318642': 3052, 'P00305942': 2934, 'P00362742': 3485, 'P00282542': 2706, 'P00084742': 821, 'P00355342': 3412, 'P00349642': 3355, 'P00286442': 2744, 'P00239642': 2283, 'P00300442': 2880, 'P00349742': 3356, 'P00326542': 3128, 'P00119042': 1099, 'P00252642': 2412, 'P00202542': 1921, 'P00292742': 2807, 'P00001842': 17, 'P00369442': 3551, 'P00194042': 1836, 'P00354242': 3401, 'P00185042': 1746, 'P00336742': 3228, 'P00160342': 1506, 'P00370142': 3558, 'P00213942': 2031, 'P00162042': 1523, 'P00238942': 2277, 'P00223042': 2122, 'P00087542': 849, 'P00193142': 1827, 'P00227942': 2170, 'P00137742': 1284, 'P00019842': 193, 'P00040242': 394, 'P00327042': 3133, 'P00029642': 291, 'P00178542': 1681, 'P00116442': 1073, 'P00265042': 2534, 'P00039242': 384, 'P00112942': 1038, 'P00296742': 2845, 'P00088942': 863, 'P00038442': 378, 'P00222642': 2118, 'P00072442': 706, 'P00370442': 3562, 'P00306242': 2937, 'P00297442': 2852, 'P00181342': 1709, 'P00252542': 2411, 'P00216842': 2060, 'P00287842': 2758, 'P00207642': 1969, 'P00044642': 437, 'P00169042': 1588, 'P00045942': 450, 'P00220842': 2100, 'P00366242': 3519, 'P00273142': 2613, 'P00119942': 1108, 'P0099842': 3629, 'P00076442': 744, 'P00108342': 992, 'P00174342': 1639, 'P00009142': 90, 'P00184842': 1744, 'P00267842': 2562, 'P00263142': 2516, 'P00003142': 30, 'P00123542': 1143, 'P00239242': 2280, 'P00352742': 3386, 'P00110642': 1015, 'P00308642': 2959, 'P00246842': 2355, 'P00314042': 3009, 'P00340342': 3263, 'P00342342': 3283, 'P00328442': 3147, 'P00009742': 96, 'P00029342': 288, 'P00238042': 2268, 'P00168542': 1583, 'P00289442': 2774, 'P00321342': 3079, 'P00275542': 2637, 'P00256742': 2452, 'P00135642': 1263, 'P00239842': 2285, 'P00021442': 209, 'P00075642': 736, 'P00341942': 3279, 'P00123942': 1147, 'P00253642': 2422, 'P00056242': 553, 'P00016442': 159, 'P00102742': 938, 'P00314242': 3011, 'P00345942': 3318, 'P00003042': 29, 'P00306142': 2936, 'P00163542': 1538, 'P00182842': 1724, 'P00293542': 2815, 'P00126442': 1172, 'P00042442': 416, 'P0096042': 3592, 'P00186142': 1757, 'P00059242': 580, 'P00195242': 1848, 'P00205842': 1951, 'P00230142': 2191, 'P00039642': 388, 'P00319742': 3063, 'P00156242': 1467, 'P00179142': 1687, 'P00034642': 340, 'P00320242': 3068, 'P00213342': 2025, 'P00235742': 2247, 'P00192142': 1817, 'P00166642': 1565, 'P00210442': 1997, 'P00037842': 372, 'P00111642': 1025, 'P00049142': 482, 'P00273242': 2614, 'P00225542': 2147, 'P00103642': 947, 'P00324242': 3106, 'P00217142': 2063, 'P00348442': 3343, 'P00263842': 2523, 'P00339742': 3257, 'P00179942': 1695, 'P00108042': 989, 'P00008642': 85, 'P00047642': 467, 'P00076542': 745, 'P00243342': 2320, 'P00035442': 348, 'P00052342': 514, 'P00213842': 2030, 'P00292242': 2802, 'P00174942': 1645, 'P00213642': 2028, 'P00274842': 2630, 'P00348842': 3347, 'P00347542': 3334, 'P00217542': 2067, 'P00320142': 3067, 'P00326942': 3132, 'P00336542': 3226, 'P00203442': 1929, 'P00367342': 3530, 'P00359542': 3454, 'P00193342': 1829, 'P00245942': 2346, 'P00196342': 1859, 'P00122842': 1136, 'P00284142': 2722, 'P00365142': 3508, 'P00351642': 3375, 'P00186242': 1758, 'P00263042': 2515, 'P00043342': 424, 'P00123342': 1141, 'P00180442': 1700, 'P00359342': 3452, 'P00217642': 2068, 'P00122942': 1137, 'P00122742': 1135, 'P00131442': 1221, 'P00017842': 173, 'P00023842': 233, 'P00198342': 1879, 'P00347442': 3333, 'P00036942': 363, 'P00167642': 1575, 'P00218142': 2073, 'P00225742': 2149, 'P00110442': 1013, 'P00082542': 800, 'P00003542': 34, 'P00147542': 1380, 'P00175042': 1646, 'P00113542': 1044, 'P00000242': 1, 'P00164742': 1549, 'P00110242': 1011, 'P00085742': 831, 'P00307742': 2950, 'P00191842': 1814, 'P00033142': 325, 'P00023742': 232, 'P00147242': 1377, 'P00343542': 3295, 'P00245342': 2340, 'P00206742': 1960, 'P00132942': 1236, 'P00082842': 802, 'P00352542': 3384, 'P00245842': 2345, 'P00028142': 276, 'P00366842': 3525, 'P00238342': 2271, 'P00189742': 1793, 'P00020742': 202, 'P00031942': 313, 'P00197242': 1868, 'P00245742': 2344, 'P00131142': 1218, 'P00263642': 2521, 'P00185142': 1747, 'P00290542': 2785, 'P00054442': 535, 'P00310542': 2976, 'P00240942': 2296, 'P00308542': 2958, 'P00343842': 3298, 'P00225442': 2146, 'P00267942': 2563, 'P00064442': 627, 'P00037942': 373, 'P00360842': 3466, 'P00032642': 320, 'P00054742': 538, 'P00235942': 2249, 'P00185342': 1749, 'P00142742': 1332, 'P00219542': 2087, 'P00294342': 2822, 'P00369942': 3556, 'P00323542': 3099, 'P00291942': 2799, 'P00288842': 2768, 'P00187142': 1767, 'P00218542': 2077, 'P00196942': 1865, 'P00061042': 598, 'P00171042': 1608, 'P00047842': 469, 'P00300642': 2882, 'P00194842': 1844, 'P00370542': 3563, 'P00333442': 3195, 'P00222542': 2117, 'P00283642': 2717, 'P00058642': 575, 'P00319542': 3061, 'P00015442': 149, 'P00008042': 79, 'P00352342': 3382, 'P00256242': 2447, 'P00205042': 1943, 'P00349842': 3357, 'P0095942': 3591, 'P00090442': 878, 'P0093942': 3571, 'P00363242': 3490, 'P00248242': 2369, 'P00279842': 2679, 'P00328242': 3145, 'P00356542': 3424, 'P00124442': 1152, 'P00001342': 12, 'P00202442': 1920, 'P00286042': 2740, 'P00258142': 2466, 'P00243642': 2323, 'P00314642': 3014, 'P00166742': 1566, 'P00356142': 3420, 'P00201542': 1911, 'P00153142': 1436, 'P00276542': 2647, 'P00019042': 185, 'P00168442': 1582, 'P00006342': 62, 'P00006242': 61, 'P00093542': 908, 'P00029042': 285, 'P00131342': 1220, 'P00136642': 1273, 'P00299242': 2869, 'P00170042': 1598, 'P00148242': 1387, 'P00269342': 2576, 'P00260542': 2490, 'P00316542': 3032, 'P00275442': 2636, 'P00008342': 82, 'P00175942': 1655, 'P00325242': 3116, 'P00168642': 1584, 'P00235442': 2244, 'P00107542': 984, 'P00124142': 1149, 'P00245542': 2342, 'P00368542': 3542, 'P00338042': 3240, 'P00146942': 1374, 'P00147442': 1379, 'P00221642': 2108, 'P00335042': 3211, 'P00112042': 1029, 'P00301042': 2885, 'P00003342': 32, 'P00320642': 3072, 'P00363942': 3496, 'P00090242': 876, 'P00311542': 2985, 'P00347842': 3337, 'P00275942': 2641, 'P00172342': 1621, 'P00236642': 2255, 'P00259742': 2482, 'P00286142': 2741, 'P00264542': 2529, 'P00332442': 3185, 'P00182942': 1725, 'P00276442': 2646, 'P00241342': 2300, 'P00060542': 593, 'P00208242': 1975, 'P00243842': 2325, 'P00004042': 39, 'P00239942': 2286, 'P00354742': 3406, 'P00339442': 3254, 'P00091642': 890, 'P00051542': 506, 'P00166142': 1561, 'P00261142': 2496, 'P00255142': 2436, 'P00198542': 1881, 'P00023242': 227, 'P00026142': 256, 'P00073742': 718, 'P00359442': 3453, 'P00019542': 190, 'P00337742': 3237, 'P00149942': 1404, 'P00137042': 1277, 'P00158942': 1492, 'P0097942': 3611, 'P00175542': 1651, 'P00122642': 1134, 'P00126642': 1174, 'P00196842': 1864, 'P00154542': 1450, 'P00007442': 73, 'P00305742': 2932, 'P00130142': 1208, 'P00051042': 501, 'P00138042': 1287, 'P00083442': 808, 'P00275242': 2634, 'P00091342': 887, 'P00224442': 2136, 'P00147142': 1376, 'P00361542': 3473, 'P00024442': 239, 'P00310442': 2975, 'P00164042': 1543, 'P00063042': 615, 'P00343742': 3297, 'P00087642': 850, 'P00183742': 1733, 'P00310642': 2977, 'P00268042': 2564, 'P00290942': 2789, 'P00047042': 461, 'P00027342': 268, 'P00367442': 3531, 'P00310042': 2971, 'P00317542': 3042, 'P00282942': 2710, 'P00065642': 639, 'P00259542': 2480, 'P00319942': 3065, 'P00024542': 240, 'P00239142': 2279, 'P00141042': 1315, 'P00360142': 3459, 'P00282742': 2708, 'P00311642': 2986, 'P00025242': 247, 'P00005442': 53, 'P00254542': 2430, 'P00131642': 1223, 'P00196242': 1858, 'P00066742': 650, 'P00231742': 2207, 'P00040842': 400, 'P00343342': 3293, 'P0094042': 3572, 'P00223342': 2125, 'P00053442': 525, 'P00254742': 2432, 'P00100042': 912, 'P00275742': 2639, 'P00352442': 3383, 'P00048542': 476, 'P00162342': 1526, 'P00188642': 1782, 'P00253442': 2420, 'P00044842': 439, 'P00146242': 1367, 'P00143542': 1340, 'P00301842': 2893, 'P00073142': 712, 'P00006742': 66, 'P00288142': 2761, 'P00339242': 3252, 'P00306442': 2939, 'P00148742': 1392, 'P00334742': 3208, 'P00237442': 2262, 'P00162542': 1528, 'P00155542': 1460, 'P00018242': 177, 'P00011042': 107, 'P00313642': 3005, 'P00090042': 874, 'P00308942': 2961, 'P00322242': 3088, 'P00135242': 1259, 'P00016942': 164, 'P00188342': 1779, 'P00055742': 548, 'P00212642': 2018, 'P00322442': 3090, 'P00010142': 98, 'P00229042': 2181, 'P00321642': 3082, 'P00298842': 2865, 'P00296342': 2841, 'P00052942': 520, 'P00259442': 2479, 'P00207542': 1968, 'P00293042': 2810, 'P00130042': 1207, 'P00304542': 2920, 'P00285542': 2735, 'P00207742': 1970, 'P00139042': 1297, 'P00359142': 3450, 'P00194942': 1845, 'P00276042': 2642, 'P00207842': 1971, 'P00072742': 708, 'P00055542': 546, 'P00342242': 3282, 'P00019642': 191, 'P00234242': 2232, 'P00178742': 1683, 'P00165242': 1554, 'P00187242': 1768, 'P00268742': 2571, 'P00219442': 2086, 'P00159242': 1495, 'P00007842': 77, 'P0098842': 3620, 'P00208842': 1981, 'P00202942': 1925, 'P00169542': 1593, 'P00138742': 1294, 'P00208442': 1977, 'P00171242': 1610, 'P00059942': 587, 'P00072242': 704, 'P00089842': 872, 'P00124542': 1153, 'P00252342': 2409, 'P00044042': 431, 'P00268842': 2572, 'P00222342': 2115, 'P00128442': 1192, 'P00011442': 111, 'P00258042': 2465, 'P00171742': 1615, 'P00134642': 1253, 'P0098642': 3618, 'P0099942': 3630, 'P00107142': 980, 'P00276942': 2651, 'P00209242': 1985, 'P00353242': 3391, 'P00334442': 3205, 'P00253942': 2424, 'P00228942': 2180, 'P00237342': 2261, 'P00334342': 3204, 'P00231842': 2208, 'P00168042': 1579, 'P00030142': 296, 'P00215942': 2051, 'P00132242': 1229, 'P00325142': 3115, 'P00342842': 3288, 'P00312342': 2993, 'P00071142': 693, 'P00144542': 1350, 'P00031242': 306, 'P00199842': 1894, 'P00062642': 611, 'P00321442': 3080, 'P00206842': 1961, 'P00173142': 1628, 'P00162942': 1532, 'P00062142': 608, 'P00284242': 2723, 'P00118242': 1091, 'P00258242': 2467, 'P00136242': 1269, 'P00080542': 782, 'P00077942': 757, 'P00281842': 2699, 'P00002742': 26, 'P00134242': 1249, 'P00186042': 1756, 'P00048942': 480, 'P00232142': 2211, 'P00248842': 2375, 'P00348042': 3339, 'P00067642': 658, 'P00345442': 3313, 'P00201642': 1912, 'P00200742': 1903, 'P00058942': 577, 'P00247242': 2359, 'P00152542': 1430, 'P00077742': 755, 'P00062042': 607, 'P00002842': 27, 'P00343142': 3291, 'P00292642': 2806, 'P00166342': 1563, 'P00236442': 2253, 'P0094242': 3574, 'P00270642': 2588, 'P00110342': 1012, 'P00363042': 3488, 'P00125242': 1160, 'P00361242': 3470, 'P00086942': 843, 'P00298742': 2864, 'P00258642': 2471, 'P00171442': 1612, 'P00344942': 3308, 'P00064742': 630, 'P00199942': 1895, 'P00351942': 3378, 'P00047442': 465, 'P00151342': 1418, 'P00145542': 1360, 'P00093042': 903, 'P00230742': 2197, 'P00148942': 1394, 'P00301742': 2892, 'P00320342': 3069, 'P00237042': 2258, 'P00185242': 1748, 'P00067542': 657, 'P00251742': 2403, 'P00030042': 295, 'P00213442': 2026, 'P00317242': 3039, 'P00279242': 2673, 'P00071342': 695, 'P00055942': 550, 'P00245142': 2338, 'P00230042': 2190, 'P00209442': 1987, 'P00150642': 1411, 'P00142642': 1331, 'P00123442': 1142, 'P00226042': 2152, 'P00081742': 793, 'P00009542': 94, 'P00046642': 457, 'P00167542': 1574, 'P00271742': 2599, 'P00217042': 2062, 'P00246442': 2351, 'P00358842': 3447, 'P00209542': 1988, 'P00101642': 927, 'P00363442': 3492, 'P00179442': 1690, 'P00089742': 871, 'P00203942': 1933, 'P00290342': 2783, 'P00242842': 2315, 'P00146542': 1370, 'P00165042': 1552, 'P00232742': 2217, 'P00312442': 2994, 'P00180842': 1704, 'P00245442': 2341, 'P00076742': 747, 'P00144442': 1349, 'P00356642': 3425, 'P00366342': 3520, 'P00241442': 2301, 'P00349142': 3350, 'P00257742': 2462, 'P00160242': 1505, 'P00012842': 124, 'P00227042': 2162, 'P00319642': 3062, 'P00045242': 443, 'P00200942': 1905, 'P00315742': 3024, 'P00355042': 3409, 'P00164642': 1548, 'P00333542': 3196, 'P00354042': 3399, 'P00229142': 2182, 'P00359942': 3457, 'P00034942': 343, 'P00301642': 2891, 'P00158342': 1486, 'P00140242': 1308, 'P00171842': 1616, 'P00357342': 3432, 'P00147642': 1381, 'P00191142': 1807, 'P00350842': 3367, 'P00292442': 2804, 'P00121942': 1128, 'P00361142': 3469, 'P00340842': 3268, 'P00073042': 711, 'P00026442': 259, 'P00334142': 3202, 'P00140542': 1311, 'P00103442': 945, 'P00246242': 2349, 'P00091042': 884, 'P00191542': 1811, 'P00291542': 2795, 'P00356342': 3422, 'P00356242': 3421, 'P00188842': 1784, 'P00189942': 1795, 'P00034542': 339, 'P00326442': 3127, 'P00335142': 3212, 'P00060942': 597, 'P00141742': 1322, 'P00361442': 3472, 'P00351742': 3376, 'P00353342': 3392, 'P00267442': 2558, 'P00360642': 3464, 'P00243742': 2324, 'P00243442': 2321, 'P00103542': 946, 'P00103942': 950, 'P00286242': 2742, 'P00140642': 1312, 'P00315942': 3026, 'P00259642': 2481, 'P00070642': 688, 'P00076142': 741, 'P00299942': 2876, 'P00133342': 1240, 'P00107042': 979, 'P00012042': 117, 'P00009642': 95, 'P00138642': 1293, 'P00316342': 3030, 'P00087742': 851, 'P00143942': 1344, 'P00088142': 855, 'P00244542': 2332, 'P00245042': 2337, 'P00137942': 1286, 'P00134842': 1255, 'P00187642': 1772, 'P00340542': 3265, 'P00195142': 1847, 'P00287142': 2751, 'P00235642': 2246, 'P00048842': 479, 'P00273042': 2612, 'P00269042': 2573, 'P00255242': 2437, 'P00090742': 881, 'P00121742': 1126, 'P00254442': 2429, 'P00244942': 2336, 'P00071742': 699, 'P00112742': 1036, 'P00353442': 3393, 'P00290742': 2787, 'P00080942': 786, 'P00048242': 473, 'P00242442': 2311, 'P00215542': 2047, 'P00154842': 1453, 'P00254842': 2433, 'P00143842': 1343, 'P00276742': 2649, 'P00338342': 3243, 'P00267042': 2554, 'P00149842': 1403, 'P00228842': 2179, 'P00157242': 1476, 'P00278742': 2669, 'P00043442': 425, 'P00325842': 3122, 'P00012442': 121, 'P00166842': 1567, 'P00252242': 2408, 'P00069942': 681, 'P00021542': 210, 'P00160142': 1504, 'P00019442': 189, 'P00333242': 3193, 'P00343642': 3296, 'P00318042': 3047, 'P00054842': 539, 'P00260942': 2494, 'P00055842': 549, 'P00264342': 2527, 'P00061942': 606, 'P00153442': 1439, 'P00336342': 3224, 'P00056742': 558, 'P00264842': 2532, 'P00353842': 3397, 'P00078042': 758, 'P00071642': 698, 'P00204142': 1935, 'P00067342': 655, 'P00100542': 916, 'P00300542': 2881, 'P00156342': 1468, 'P00353642': 3395, 'P00285942': 2739, 'P00209342': 1986, 'P00038242': 376, 'P00275042': 2632, 'P00324142': 3105, 'P00345042': 3309, 'P00197842': 1874, 'P00081442': 790, 'P00311442': 2984, 'P00159742': 1500, 'P00011542': 112, 'P00298042': 2858, 'P00160842': 1511, 'P00238142': 2269, 'P00064842': 631, 'P00342642': 3286, 'P00251142': 2397, 'P00146642': 1371, 'P00361042': 3468, 'P00161042': 1513, 'P0095042': 3582, 'P00337342': 3233, 'P00345142': 3310, 'P00168842': 1586, 'P00046542': 456, 'P00060142': 589, 'P00254042': 2425, 'P00071842': 700, 'P00151442': 1419, 'P00133242': 1239, 'P00082442': 799, 'P00072342': 705, 'P00240642': 2293, 'P00314142': 3010, 'P00132342': 1230, 'P00343242': 3292, 'P00261442': 2499, 'P00296842': 2846, 'P0093742': 3569, 'P00289142': 2771, 'P00266242': 2546, 'P00338742': 3247, 'P00132442': 1231, 'P00222742': 2119, 'P00172742': 1625, 'P00060442': 592, 'P00181142': 1707, 'P00040542': 397, 'P00068542': 667, 'P00325642': 3120, 'P00328842': 3150, 'P00018442': 179, 'P00201142': 1907, 'P00205342': 1946, 'P00205742': 1950, 'P00139442': 1300, 'P00004942': 48, 'P00061742': 604, 'P00092842': 901, 'P00030542': 299, 'P00202342': 1919, 'P0097442': 3606, 'P00250042': 2386, 'P00129942': 1206, 'P00186742': 1763, 'P00063842': 622, 'P00323242': 3096, 'P00341442': 3274, 'P00023442': 229, 'P00077542': 754, 'P00369342': 3550, 'P00327942': 3142, 'P00163942': 1542, 'P00332642': 3187, 'P00068242': 664, 'P00108242': 991, 'P00228542': 2176, 'P00325542': 3119, 'P00368842': 3545, 'P00255042': 2435, 'P00122042': 1129, 'P00014342': 138, 'P00334942': 3210, 'P00198442': 1880, 'P00076642': 746, 'P00050042': 491, 'P00249442': 2381, 'P00089642': 870, 'P00266342': 2547, 'P00229442': 2184, 'P00255642': 2441, 'P00123042': 1138, 'P00358642': 3445, 'P00103842': 949, 'P00260842': 2493, 'P00237742': 2265, 'P00153042': 1435, 'P00114242': 1051, 'P00144742': 1352, 'P00066142': 644, 'P00283442': 2715, 'P00133542': 1242, 'P00308442': 2957, 'P00278342': 2665, 'P00013242': 127, 'P00011242': 109, 'P00333342': 3194, 'P00144842': 1353, 'P00204842': 1941, 'P00161742': 1520, 'P00072142': 703, 'P00062942': 614, 'P00060342': 591, 'P00065842': 641, 'P00290142': 2781, 'P00159342': 1496, 'P00076242': 742, 'P00264142': 2525, 'P00264942': 2533, 'P00287742': 2757, 'P00224942': 2141, 'P00104642': 957, 'P00158642': 1489, 'P00019242': 187, 'P00167142': 1570, 'P00143742': 1342, 'P00080842': 785, 'P00255442': 2439, 'P00351442': 3373, 'P00367842': 3535, 'P00306742': 2941, 'P00136942': 1276, 'P00167842': 1577, 'P00123242': 1140, 'P00028642': 281, 'P00045742': 448, 'P00297242': 2850, 'P00277342': 2655, 'P00228742': 2178, 'P00076342': 743, 'P00135542': 1262, 'P00044742': 438, 'P00157042': 1474, 'P00340442': 3264, 'P00309742': 2969, 'P00280042': 2681, 'P00277142': 2653, 'P00340142': 3261, 'P00284542': 2725, 'P00358542': 3444, 'P00363542': 3493, 'P00201742': 1913, 'P00262042': 2505, 'P00211642': 2009, 'P00366742': 3524, 'P00144342': 1348, 'P00345542': 3314, 'P00210742': 2000, 'P00078942': 767, 'P00010642': 103, 'P00007742': 76, 'P00153242': 1437, 'P00210242': 1995, 'P00063542': 619, 'P00279742': 2678, 'P00174642': 1642, 'P00365542': 3512, 'P00330742': 3169, 'P00161342': 1516, 'P00305442': 2929, 'P00135442': 1261, 'P00111342': 1022, 'P00175342': 1649, 'P00358042': 3439, 'P00362942': 3487, 'P00054142': 532, 'P00142442': 1329, 'P00137842': 1285, 'P00090142': 875, 'P00291642': 2796, 'P00293942': 2818, 'P00090342': 877, 'P00017942': 174, 'P00345342': 3312, 'P00125842': 1166, 'P00307242': 2945, 'P00005542': 54, 'P0098042': 3612, 'P00164142': 1544, 'P00318542': 3051, 'P00316042': 3027, 'P00311742': 2987, 'P0099142': 3623, 'P00215142': 2043, 'P00154142': 1446, 'P00247442': 2361, 'P00308142': 2954, 'P00215342': 2045, 'P00364042': 3497, 'P00069142': 673, 'P00007642': 75, 'P00027942': 274, 'P00014442': 139, 'P00038542': 379, 'P00341842': 3278, 'P00240742': 2294, 'P00189442': 1790, 'P00339642': 3256, 'P00075142': 731, 'P00081942': 795, 'P00263742': 2522, 'P00292542': 2805, 'P00154342': 1448, 'P00364942': 3506, 'P00283742': 2718, 'P00241942': 2306, 'P00338642': 3246, 'P00077442': 753, 'P00261642': 2501, 'P00334842': 3209, 'P00265942': 2543, 'P00235042': 2240, 'P00253342': 2419, 'P00207142': 1964, 'P00364742': 3504, 'P00257942': 2464, 'P00284342': 2724, 'P00296442': 2842, 'P00181042': 1706, 'P00271642': 2598, 'P00064642': 629, 'P00202042': 1916, 'P00337242': 3232, 'P00107442': 983, 'P00014142': 136, 'P00225342': 2145, 'P00169942': 1597, 'P00353942': 3398, 'P00185742': 1753, 'P00292942': 2809, 'P00136142': 1268, 'P00300342': 2879, 'P00323342': 3097, 'P00336642': 3227, 'P00277042': 2652, 'P00077142': 750, 'P00064342': 626, 'P00201942': 1915, 'P00103742': 948, 'P00311842': 2988, 'P00351542': 3374, 'P00321142': 3077, 'P00299642': 2873, 'P00071542': 697, 'P00192442': 1820, 'P00329142': 3153, 'P00269842': 2581, 'P00131842': 1225, 'P00257242': 2457, 'P00306542': 2940, 'P00342942': 3289, 'P00275342': 2635, 'P00248642': 2373, 'P00051242': 503, 'P00291742': 2797, 'P00286942': 2749, 'P00011142': 108, 'P00264742': 2531, 'P00342542': 3285, 'P00314342': 3012, 'P00310942': 2980, 'P00060642': 594, 'P00127142': 1179, 'P00349542': 3354, 'P00104442': 955, 'P00307842': 2951, 'P00271842': 2600, 'P00242942': 2316, 'P00086542': 839, 'P00055342': 544, 'P00270442': 2586, 'P00145342': 1358, 'P0098942': 3621, 'P00262742': 2512, 'P00091442': 888, 'P00036642': 360, 'P00280942': 2690, 'P00262942': 2514, 'P00141142': 1316, 'P00167442': 1573, 'P00231042': 2200, 'P00171942': 1617, 'P00278142': 2663, 'P00054642': 537, 'P00022242': 217, 'P00311042': 2981, 'P00192342': 1819, 'P00121842': 1127, 'P00369242': 3549, 'P00171142': 1609, 'P00130342': 1210, 'P00330842': 3170, 'P00068742': 669, 'P00262642': 2511, 'P0093842': 3570, 'P00107842': 987, 'P00087942': 853, 'P00151542': 1420, 'P00219642': 2088, 'P00073242': 713, 'P00139242': 1299, 'P00364642': 3503, 'P00027242': 267, 'P00130542': 1212, 'P0097642': 3608, 'P00037642': 370, 'P00028742': 282, 'P00162842': 1531, 'P00273842': 2620, 'P00043042': 421, 'P00214042': 2032, 'P00137342': 1280, 'P00269142': 2574, 'P00369542': 3552, 'P00149042': 1395, 'P00018742': 182, 'P00361742': 3475, 'P00227442': 2165, 'P00238242': 2270, 'P00262142': 2506, 'P00108142': 990, 'P00159042': 1493, 'P00355542': 3414, 'P00369642': 3553, 'P00167342': 1572, 'P00333942': 3200, 'P00204442': 1938, 'P00047342': 464, 'P00349042': 3349, 'P00106842': 977, 'P00027742': 272, 'P00236742': 2256, 'P00295142': 2829, 'P00234042': 2230, 'P00211342': 2006, 'P00069842': 680, 'P00148142': 1386, 'P00190642': 1802, 'P00066042': 643, 'P00187542': 1771, 'P00066342': 646, 'P00152342': 1428, 'P00355442': 3413, 'P00257142': 2456, 'P00272442': 2606, 'P00250142': 2387, 'P00234342': 2233, 'P00333142': 3192, 'P00202642': 1922, 'P00090642': 880, 'P00368742': 3544, 'P00281342': 2694, 'P00366142': 3518, 'P00162142': 1524, 'P00039842': 390, 'P00135942': 1266, 'P00172442': 1622, 'P00067442': 656, 'P00293442': 2814, 'P00058742': 576, 'P00060042': 588, 'P00239042': 2278, 'P00301942': 2894, 'P00081642': 792, 'P00056042': 551, 'P00272642': 2608, 'P00141342': 1318, 'P00324042': 3104, 'P00134742': 1254, 'P00140942': 1314, 'P00167242': 1571, 'P00223442': 2126, 'P00107342': 982, 'P00318442': 3050, 'P00268642': 2570, 'P00225242': 2144, 'P00104142': 952, 'P00143242': 1337, 'P00310742': 2978, 'P00360442': 3462, 'P00229542': 2185, 'P00109442': 1003, 'P00012942': 125, 'P00059342': 581, 'P00312242': 2992, 'P00309042': 2962, 'P00272342': 2605, 'P00028942': 284, 'P00366042': 3517, 'P00055042': 541, 'P00152142': 1426, 'P00281242': 2693, 'P00202842': 1924, 'P00243142': 2318, 'P00128642': 1194, 'P00247342': 2360, 'P00100342': 914, 'P00012342': 120, 'P00009442': 93, 'P00268142': 2565, 'P00203042': 1926, 'P00159642': 1499, 'P00231542': 2205, 'P00325442': 3118, 'P00013442': 129, 'P00071042': 692, 'P00291842': 2798, 'P00157442': 1478, 'P00363842': 3495, 'P00172042': 1618, 'P00020942': 204, 'P00017342': 168, 'P00360342': 3461, 'P00069742': 679, 'P00140342': 1309, 'P00082942': 803, 'P00025742': 252, 'P00153542': 1440, 'P00142542': 1330, 'P00019742': 192, 'P00314542': 3013, 'P00338242': 3242, 'P00083542': 809, 'P00299342': 2870, 'P00133942': 1246, 'P00264442': 2528, 'P00261042': 2495, 'P00311242': 2982, 'P00152042': 1425, 'P00292842': 2808, 'P00231642': 2206, 'P00364542': 3502, 'P00332542': 3186, 'P00067742': 659, 'P00091242': 886, 'P00199242': 1888, 'P00104242': 953, 'P00318842': 3054, 'P00068642': 668, 'P00023542': 230, 'P00058542': 574, 'P00154942': 1454, 'P00082042': 796, 'P00357442': 3433, 'P00069642': 678, 'P00151642': 1421, 'P00243042': 2317, 'P00308042': 2953, 'P00200542': 1901, 'P00336442': 3225, 'P00163642': 1539, 'P00106442': 973, 'P00150242': 1407, 'P00153942': 1444, 'P00140142': 1307, 'P00005242': 51, 'P00308842': 2960, 'P00126742': 1175, 'P00080242': 779, 'P00079342': 770, 'P00326342': 3126, 'P00270742': 2589, 'P00108742': 996, 'P00106542': 974, 'P00197642': 1872, 'P00051342': 504, 'P00290842': 2788, 'P00201842': 1914, 'P00247842': 2365, 'P00216642': 2058, 'P00257342': 2458, 'P00209042': 1983, 'P00362142': 3479, 'P00126342': 1171, 'P00263342': 2518, 'P00302242': 2897, 'P00107942': 988, 'P00069442': 676, 'P00263242': 2517, 'P00278842': 2670, 'P00334542': 3206, 'P00032242': 316, 'P00138942': 1296, 'P00169342': 1591, 'P00073542': 716, 'P00122142': 1130, 'P00106142': 971, 'P00080442': 781, 'P00104342': 954, 'P00132142': 1228, 'P00063242': 616, 'P00204042': 1934, 'P00290642': 2786, 'P00164442': 1547, 'P00074542': 726, 'P00357542': 3434, 'P00170742': 1605, 'P00332742': 3188, 'P00337042': 3230, 'P00285142': 2731, 'P00194742': 1843, 'P00076942': 748, 'P00363142': 3489, 'P00012742': 123, 'P00281442': 2695, 'P00105842': 968, 'P00143042': 1335, 'P00133042': 1237, 'P00006642': 65, 'P00026842': 263, 'P00136042': 1267, 'P00362242': 3480, 'P00093142': 904, 'P00162742': 1530, 'P00039342': 385, 'P00038742': 381, 'P00261942': 2504, 'P00169242': 1590, 'P00203842': 1932, 'P00075242': 732, 'P00160742': 1510, 'P00239442': 2282, 'P00013542': 130, 'P00199542': 1891, 'P00011642': 113, 'P00167042': 1569, 'P00203242': 1928, 'P00323142': 3095, 'P00242242': 2309, 'P00301342': 2888, 'P00301142': 2886, 'P00038042': 374, 'P00341142': 3271, 'P00203642': 1930, 'P00364342': 3500, 'P00051742': 508, 'P00039142': 383, 'P00224642': 2138, 'P00016242': 157, 'P00297142': 2849, 'P00290442': 2784, 'P00141642': 1321, 'P00249242': 2379, 'P00325042': 3114, 'P00152842': 1433, 'P00238842': 2276, 'P00071942': 701, 'P00070142': 683, 'P00314842': 3016, 'P00306342': 2938, 'P00210842': 2001, 'P00294742': 2826, 'P00061242': 600, 'P00321242': 3078, 'P00314742': 3015, 'P00236242': 2251, 'P00175142': 1647, 'P00312042': 2990, 'P00091542': 889, 'P00080142': 778, 'P00139642': 1302, 'P00329842': 3160, 'P00077342': 752, 'P00305842': 2933, 'P00161642': 1519, 'P00144942': 1354, 'P00340742': 3267, 'P00369842': 3555, 'P00092342': 897, 'P00306942': 2942, 'P00364242': 3499, 'P00144142': 1346, 'P00169842': 1596, 'P00262842': 2513, 'P00065542': 638, 'P0097542': 3607, 'P00355842': 3417, 'P00341042': 3270, 'P00287042': 2750, 'P00166442': 1564, 'P00092042': 894, 'P00060742': 595, 'P00274742': 2629, 'P00299742': 2874, 'P00353742': 3396, 'P00188142': 1777, 'P00339142': 3251, 'P00106342': 972, 'P00072042': 702, 'P00205542': 1948, 'P00156642': 1471, 'P00133142': 1238, 'P00168942': 1587, 'P00027842': 273, 'P00261742': 2502, 'P00056342': 554, 'P00206242': 1955, 'P00030242': 297, 'P00291142': 2791, 'P00241842': 2305, 'P00143442': 1339, 'P00309642': 2968, 'P00206542': 1958, 'P00307042': 2943, 'P00185942': 1755, 'P00335342': 3214, 'P00073442': 715, 'P00074742': 728, 'P00315242': 3020, 'P00081342': 789, 'P00066842': 651, 'P00022042': 215, 'P00260742': 2492, 'P00025842': 253, 'P00070842': 690, 'P00206942': 1962, 'P00234942': 2239, 'P00317742': 3044, 'P00272742': 2609, 'P00341642': 3276, 'P00348142': 3340, 'P00064542': 628, 'P00365442': 3511, 'P00292142': 2801, 'P00063642': 620, 'P00062342': 609, 'P00063442': 618, 'P00325342': 3117, 'P00312542': 2995, 'P00008942': 88, 'P00300742': 2883, 'P00330142': 3163, 'P0096242': 3594, 'P00335642': 3217, 'P00341542': 3275, 'P00077242': 751, 'P00063742': 621, 'P00053242': 523, 'P00068342': 665, 'P00336242': 3223, 'P00013842': 133, 'P00065142': 634, 'P00149742': 1402, 'P00164242': 1545, 'P00091942': 893, 'P00078342': 761, 'P00083142': 805, 'P00172242': 1620, 'P00353042': 3389, 'P00172642': 1624, 'P00038642': 380, 'P00211742': 2010, 'P00073342': 714, 'P00299042': 2867, 'P00201242': 1908, 'P00062442': 610, 'P00074842': 729, 'P00132742': 1234, 'P00301442': 2889, 'P00298342': 2861, 'P00352042': 3379, 'P00075042': 730, 'P00315142': 3019, 'P00365942': 3516, 'P00056642': 557, 'P00104042': 951, 'P00208642': 1979, 'P00065942': 642, 'P00329042': 3152, 'P00038842': 382, 'P00295642': 2834, 'P00091742': 891, 'P00350742': 3366, 'P00060842': 596, 'P00057842': 567, 'P00375436': 3568, 'P00372445': 3567, 'P00370293': 3560, 'P00371644': 3566, 'P00370853': 3565}\n"
          ],
          "name": "stdout"
        }
      ]
    },
    {
      "cell_type": "markdown",
      "metadata": {
        "id": "peISrPZ2VHZd"
      },
      "source": [
        "3 - index para embedding\n",
        "Es importate la codificación de ID a index para crear embedding, ya que para aprovechar todo el espacio de valores continuos es neceario transformar los N elementos de una clase en una lista de numeros de 0 a N-1"
      ]
    },
    {
      "cell_type": "markdown",
      "metadata": {
        "id": "zyiKdL_3VUHr"
      },
      "source": [
        "4 - Guardar el codificador ID a IDX\n",
        "Es importante para poder utilizar a futuro el modelo contra nuevos IDs ingresados y poder transformarlo a la entrada para el cual el modelo fue entrenado, su idx correspondiente "
      ]
    },
    {
      "cell_type": "code",
      "metadata": {
        "id": "CMoGaHm4VnTW",
        "colab": {
          "base_uri": "https://localhost:8080/",
          "height": 326
        },
        "outputId": "e6287b5d-cc49-4d24-cc24-969da6a6c0d5"
      },
      "source": [
        "# 5 - Purchase binaria\n",
        "df_coded4 = df_coded.copy()\n",
        "df_coded4['binary_purchase'] = dataset['Purchase'].apply(lambda x: 0 if x <= 9000 else 1)\n",
        "df_coded4['binary_purchase'].hist()\n",
        "df_coded4['binary_purchase'].value_counts()"
      ],
      "execution_count": null,
      "outputs": [
        {
          "output_type": "execute_result",
          "data": {
            "text/plain": [
              "0    330871\n",
              "1    219197\n",
              "Name: binary_purchase, dtype: int64"
            ]
          },
          "metadata": {
            "tags": []
          },
          "execution_count": 26
        },
        {
          "output_type": "display_data",
          "data": {
            "image/png": "[encoded data removed]",
            "text/plain": [
              "<Figure size 432x288 with 1 Axes>"
            ]
          },
          "metadata": {
            "tags": []
          }
        }
      ]
    },
    {
      "cell_type": "markdown",
      "metadata": {
        "id": "SToAwyu-WDvz"
      },
      "source": [
        "Se puede ver está bastante balanceada la salida"
      ]
    },
    {
      "cell_type": "code",
      "metadata": {
        "id": "fbwWeoNcWsDq",
        "colab": {
          "base_uri": "https://localhost:8080/"
        },
        "outputId": "108b76cb-aa05-481e-c847-a4ea8965cf26"
      },
      "source": [
        "X = df_coded4.drop(['User_ID', 'Product_ID', 'Purchase', 'binary_purchase'], axis=1)\n",
        "y = df_coded4['binary_purchase']\n",
        "total = X.shape[0]\n",
        "X_reducido = X[:int(total*0.25)]\n",
        "print(X_reducido.shape)\n",
        "\n",
        "y_reducido = y[:int(total*0.25)]\n",
        "print(y_reducido.shape)"
      ],
      "execution_count": null,
      "outputs": [
        {
          "output_type": "stream",
          "text": [
            "(137517, 94)\n",
            "(137517,)\n"
          ],
          "name": "stdout"
        }
      ]
    },
    {
      "cell_type": "code",
      "metadata": {
        "colab": {
          "base_uri": "https://localhost:8080/",
          "height": 405
        },
        "id": "_me_mvNIeF9N",
        "outputId": "cd18506c-8ca8-4038-9f99-8aa18c133794"
      },
      "source": [
        "# Graficar con PCA los features X reducido a 2 dimensiones\n",
        "from sklearn.decomposition import PCA\n",
        "X_pca = PCA(n_components=2).fit_transform(X)\n",
        "\n",
        "sns.scatterplot(X_pca[:,0], X_pca[:,1], hue=y)"
      ],
      "execution_count": null,
      "outputs": [
        {
          "output_type": "stream",
          "text": [
            "/usr/local/lib/python3.6/dist-packages/seaborn/_decorators.py:43: FutureWarning: Pass the following variables as keyword args: x, y. From version 0.12, the only valid positional argument will be `data`, and passing other arguments without an explicit keyword will result in an error or misinterpretation.\n",
            "  FutureWarning\n"
          ],
          "name": "stderr"
        },
        {
          "output_type": "execute_result",
          "data": {
            "text/plain": [
              "<matplotlib.axes._subplots.AxesSubplot at 0x7f55b4253940>"
            ]
          },
          "metadata": {
            "tags": []
          },
          "execution_count": 27
        },
        {
          "output_type": "stream",
          "text": [
            "/usr/local/lib/python3.6/dist-packages/google/colab/_event_manager.py:28: UserWarning: Creating legend with loc=\"best\" can be slow with large amounts of data.\n",
            "  func(*args, **kwargs)\n",
            "/usr/local/lib/python3.6/dist-packages/IPython/core/pylabtools.py:125: UserWarning: Creating legend with loc=\"best\" can be slow with large amounts of data.\n",
            "  fig.canvas.print_figure(bytes_io, **kw)\n"
          ],
          "name": "stderr"
        },
        {
          "output_type": "display_data",
          "data": {
            "image/png": "[encoded data removed]",
            "text/plain": [
              "<Figure size 432x288 with 1 Axes>"
            ]
          },
          "metadata": {
            "tags": []
          }
        }
      ]
    },
    {
      "cell_type": "code",
      "metadata": {
        "id": "7kDEF5MdfPQN",
        "colab": {
          "base_uri": "https://localhost:8080/"
        },
        "outputId": "1eea09c6-476e-4bc2-d348-a53fadc5fb52"
      },
      "source": [
        "import umap\n",
        "reducer = umap.UMAP()\n",
        "\n",
        "X_umap = reducer.fit_transform(X_reducido)\n",
        "X_umap.shape"
      ],
      "execution_count": null,
      "outputs": [
        {
          "output_type": "execute_result",
          "data": {
            "text/plain": [
              "(137517, 2)"
            ]
          },
          "metadata": {
            "tags": []
          },
          "execution_count": 33
        }
      ]
    },
    {
      "cell_type": "code",
      "metadata": {
        "colab": {
          "base_uri": "https://localhost:8080/",
          "height": 346
        },
        "id": "Hiv56GpAaBHt",
        "outputId": "63524708-0c8e-4aa3-8b81-36b5a75b34f6"
      },
      "source": [
        "sns.scatterplot(X_umap[:,0], X_umap[:,1], hue=y_reducido)"
      ],
      "execution_count": null,
      "outputs": [
        {
          "output_type": "stream",
          "text": [
            "/usr/local/lib/python3.6/dist-packages/seaborn/_decorators.py:43: FutureWarning: Pass the following variables as keyword args: x, y. From version 0.12, the only valid positional argument will be `data`, and passing other arguments without an explicit keyword will result in an error or misinterpretation.\n",
            "  FutureWarning\n"
          ],
          "name": "stderr"
        },
        {
          "output_type": "execute_result",
          "data": {
            "text/plain": [
              "<matplotlib.axes._subplots.AxesSubplot at 0x7f80f14711d0>"
            ]
          },
          "metadata": {
            "tags": []
          },
          "execution_count": 35
        },
        {
          "output_type": "display_data",
          "data": {
            "image/png": "[encoded data removed]",
            "text/plain": [
              "<Figure size 432x288 with 1 Axes>"
            ]
          },
          "metadata": {
            "tags": []
          }
        }
      ]
    },
    {
      "cell_type": "code",
      "metadata": {
        "id": "-GC4NenbYU87",
        "colab": {
          "base_uri": "https://localhost:8080/",
          "height": 34
        },
        "outputId": "61366b42-8b11-466c-a79e-ee3ff7812950"
      },
      "source": [
        "# 7 - Separar el dataset en train (70%), val(20%) y test(10%)\n",
        "n_samples = df_coded_4.shape[0]\n",
        "\n",
        "indexes = np.random.permutation(np.arange(0, n_samples))\n",
        "\n",
        "train_idx = indexes[0:int(0.7*n_samples)]\n",
        "validation_idx = indexes[int(0.7*n_samples): int(0.9*n_samples)]\n",
        "test_idx = indexes[int(0.9*n_samples):]\n",
        "assert n_samples == train_idx.size + validation_idx.size + test_idx.size\n",
        "\n",
        "# Train\n",
        "x_train = X.iloc[train_idx,:]\n",
        "y_train = y.iloc[train_idx].to_numpy()\n",
        "user_idx_train = user_idx[train_idx]\n",
        "product_idx_train = product_idx[train_idx]\n",
        "\n",
        "# Validation\n",
        "x_validation = X.iloc[validation_idx,:]\n",
        "y_validation = y.iloc[validation_idx].to_numpy()\n",
        "user_idx_validation = user_idx[validation_idx]\n",
        "product_idx_validation = product_idx[validation_idx]\n",
        "\n",
        "# Test\n",
        "x_test = X.iloc[test_idx, :]\n",
        "y_test = y.iloc[test_idx].to_numpy()\n",
        "user_idx_test = user_idx[test_idx]\n",
        "product_idx_test = product_idx[test_idx]\n",
        "\n",
        "print(x_train.shape[0], x_validation.shape[0], x_test.shape[0])"
      ],
      "execution_count": null,
      "outputs": [
        {
          "output_type": "stream",
          "text": [
            "385047 110014 55007\n"
          ],
          "name": "stdout"
        }
      ]
    },
    {
      "cell_type": "code",
      "metadata": {
        "id": "UvbciV7kXa2a"
      },
      "source": [
        "# 6 - Normalizar los datos\n",
        "# --> Este paso en realidad no sería necesario ya que los valores encuentran normalizados entre 0 y 1 por utilizar\n",
        "# en todas las columnas OneHotEncoding\n",
        "min_max_scaler = preprocessing.MinMaxScaler()\n",
        "\n",
        "x_train_norm = min_max_scaler.fit_transform(x_train)\n",
        "x_validation_norm = min_max_scaler.fit_transform(x_validation)\n",
        "x_test_norm = min_max_scaler.fit_transform(x_test)"
      ],
      "execution_count": null,
      "outputs": []
    },
    {
      "cell_type": "markdown",
      "metadata": {
        "id": "l2ZmJic-zJ00"
      },
      "source": [
        "#Modelo base\n",
        "\n",
        "1. Entrenar un modelo base que siempre de como predicción que el purchase del cliente es de valor elevado.\n",
        "2. Calcular el AUC de este modelo.\n",
        "3. Porque es importante siempre definir un modelo base?"
      ]
    },
    {
      "cell_type": "code",
      "metadata": {
        "id": "W3V9S_FpzMvh"
      },
      "source": [
        "class BaseModel(object):\n",
        "    def fit(self,X, y):\n",
        "        return None\n",
        "    def predict(self,X):\n",
        "        return np.ones(X.shape[0])"
      ],
      "execution_count": null,
      "outputs": []
    },
    {
      "cell_type": "code",
      "metadata": {
        "id": "mVn7TG-KawXc"
      },
      "source": [
        "# 1 - Entrenar el modelo\n",
        "base_model = BaseModel()\n",
        "base_model.fit(x_train_norm, y_train)\n",
        "base_predictions = base_model.predict(x_validation_norm)"
      ],
      "execution_count": null,
      "outputs": []
    },
    {
      "cell_type": "code",
      "metadata": {
        "id": "g4-40bRRa9Wi",
        "colab": {
          "base_uri": "https://localhost:8080/",
          "height": 34
        },
        "outputId": "3d53efa0-4aa3-4699-ed3d-629dd8c46638"
      },
      "source": [
        "# Calcular AUC (esperado que de 0.5, ya que predice siempre el mismo valor)\n",
        "fpr, tpr, threshold = metrics.roc_curve(y_validation, base_predictions)\n",
        "print(\"AUC:\", metrics.auc(fpr,tpr))"
      ],
      "execution_count": null,
      "outputs": [
        {
          "output_type": "stream",
          "text": [
            "AUC: 0.5\n"
          ],
          "name": "stdout"
        }
      ]
    },
    {
      "cell_type": "markdown",
      "metadata": {
        "id": "Ow0y-ODVbJfh"
      },
      "source": [
        "3 - Definir un modelo base\n",
        "Es importante siempre tener un modelo base para comparar nuestros modelos de IA, a fin de tener una noción de si tuve sentido el trabajo realizado en crear el modelo de IA y tener contra que contrastarlo"
      ]
    },
    {
      "cell_type": "markdown",
      "metadata": {
        "id": "ZtmrDLMBzOzv"
      },
      "source": [
        "# Regresión logísica\n",
        "\n",
        "1. Entrenar un modelo de regresión logística que sea mejor que el modelo base (no usar User_Id y Product_Id). \n",
        "2. Porque es importante normalizar los datos antes de entrenar el modelo de regresión logística?\n",
        "3. Porque es importante utilizar una metrica como AUC en un problema de clasificación binaria?"
      ]
    },
    {
      "cell_type": "code",
      "metadata": {
        "id": "2gFdeMUOzQyG"
      },
      "source": [
        "lr_model = LogisticRegression(C=1, solver='sag', max_iter=100)\n",
        "lr_model.fit(x_train_norm, y_train)\n",
        "lr_predictions = lr_model.predict(x_validation_norm)"
      ],
      "execution_count": null,
      "outputs": []
    },
    {
      "cell_type": "code",
      "metadata": {
        "id": "vPA5cOXUb3Nq",
        "colab": {
          "base_uri": "https://localhost:8080/",
          "height": 34
        },
        "outputId": "766b361e-810f-4d8e-9490-803e8225df77"
      },
      "source": [
        "# Calcular AUC del modelo\n",
        "fpr, tpr, threshold = metrics.roc_curve(y_validation, lr_predictions)\n",
        "print(\"AUC:\", metrics.auc(fpr,tpr))"
      ],
      "execution_count": null,
      "outputs": [
        {
          "output_type": "stream",
          "text": [
            "AUC: 0.8649871613205101\n"
          ],
          "name": "stdout"
        }
      ]
    },
    {
      "cell_type": "markdown",
      "metadata": {
        "id": "ybt2LxCDc1VA"
      },
      "source": [
        "Es importante normalizar ya que el la regresión logística se entrena mediente el gradiente descendente, para que no diverga el gradiente durante el entrenamiento los valores de entrada deben estar normalizados entre 0 y 1"
      ]
    },
    {
      "cell_type": "markdown",
      "metadata": {
        "id": "lJtPEyt-zRKS"
      },
      "source": [
        "# Random forest\n",
        "\n",
        "1. Entrenar un modelo de Random Forest que sea mejor que el modelo base (no usar User_Id y Product_Id)."
      ]
    },
    {
      "cell_type": "code",
      "metadata": {
        "id": "fYtHyWVZzSX4"
      },
      "source": [
        "rf_model = RandomForestClassifier(n_estimators=100, max_depth=40, random_state=0)\n",
        "rf_model.fit(x_train_norm, y_train)\n",
        "rf_valid_pred = rf_model.predict(x_validation_norm)"
      ],
      "execution_count": null,
      "outputs": []
    },
    {
      "cell_type": "code",
      "metadata": {
        "id": "gqFIiQigdhHZ",
        "colab": {
          "base_uri": "https://localhost:8080/",
          "height": 34
        },
        "outputId": "02ef0e4a-d11e-42e8-d28e-7a054c3b8a17"
      },
      "source": [
        "# Calcular AUC del modelo\n",
        "fpr, tpr, threshold = metrics.roc_curve(y_validation, rf_valid_pred)\n",
        "print(\"AUC:\", metrics.auc(fpr,tpr))"
      ],
      "execution_count": null,
      "outputs": [
        {
          "output_type": "stream",
          "text": [
            "AUC: 0.8509937206065876\n"
          ],
          "name": "stdout"
        }
      ]
    },
    {
      "cell_type": "markdown",
      "metadata": {
        "id": "k6ZCMF7ZzTcI"
      },
      "source": [
        "# Deep learning sin embeddings\n",
        "\n",
        "1. Entrenar un modelo de Deep Learning que no utilice embeddings (no usar User_Id y Product_Id)."
      ]
    },
    {
      "cell_type": "code",
      "metadata": {
        "id": "rEzKEVPld92n"
      },
      "source": [
        "metrics_keras = [\n",
        "    tf.keras.metrics.AUC()\n",
        "]"
      ],
      "execution_count": null,
      "outputs": []
    },
    {
      "cell_type": "code",
      "metadata": {
        "id": "MMl0QMwYzVJe"
      },
      "source": [
        "# Crear modelo sequencial\n",
        "model = tf.keras.models.Sequential()\n",
        "\n",
        "model.add(tf.keras.layers.Dense(128))\n",
        "model.add(tf.keras.layers.Activation('relu'))\n",
        "model.add(tf.keras.layers.Dense(1))\n",
        "model.add(tf.keras.layers.Activation('sigmoid'))\n",
        "\n",
        "model.compile(\n",
        "    optimizer=tf.keras.optimizers.Adam(learning_rate=0.01),\n",
        "    loss='binary_crossentropy',\n",
        "    metrics=metrics_keras\n",
        ")"
      ],
      "execution_count": null,
      "outputs": []
    },
    {
      "cell_type": "code",
      "metadata": {
        "id": "mhaRUbDLeGW7",
        "colab": {
          "base_uri": "https://localhost:8080/",
          "height": 374
        },
        "outputId": "587df85b-2f0c-4e8b-dc7f-93e1158ff7f1"
      },
      "source": [
        "model.fit(\n",
        "    x_train_norm.astype(np.float32), \n",
        "    y_train.astype(np.float32),\n",
        "    epochs=10,\n",
        "    batch_size=512,\n",
        "    validation_data=(x_validation_norm, y_validation),\n",
        ")"
      ],
      "execution_count": null,
      "outputs": [
        {
          "output_type": "stream",
          "text": [
            "Epoch 1/10\n",
            "753/753 [==============================] - 3s 4ms/step - loss: 0.3172 - auc_1: 0.9267 - val_loss: 0.3073 - val_auc_1: 0.9317\n",
            "Epoch 2/10\n",
            "753/753 [==============================] - 2s 3ms/step - loss: 0.3074 - auc_1: 0.9316 - val_loss: 0.3056 - val_auc_1: 0.9331\n",
            "Epoch 3/10\n",
            "753/753 [==============================] - 3s 3ms/step - loss: 0.3047 - auc_1: 0.9334 - val_loss: 0.3048 - val_auc_1: 0.9337\n",
            "Epoch 4/10\n",
            "753/753 [==============================] - 3s 3ms/step - loss: 0.3030 - auc_1: 0.9345 - val_loss: 0.3042 - val_auc_1: 0.9338\n",
            "Epoch 5/10\n",
            "753/753 [==============================] - 3s 3ms/step - loss: 0.3012 - auc_1: 0.9356 - val_loss: 0.3036 - val_auc_1: 0.9343\n",
            "Epoch 6/10\n",
            "753/753 [==============================] - 2s 3ms/step - loss: 0.2999 - auc_1: 0.9363 - val_loss: 0.3030 - val_auc_1: 0.9348\n",
            "Epoch 7/10\n",
            "753/753 [==============================] - 3s 4ms/step - loss: 0.2988 - auc_1: 0.9370 - val_loss: 0.3038 - val_auc_1: 0.9346\n",
            "Epoch 8/10\n",
            "753/753 [==============================] - 3s 3ms/step - loss: 0.2976 - auc_1: 0.9376 - val_loss: 0.3033 - val_auc_1: 0.9350\n",
            "Epoch 9/10\n",
            "753/753 [==============================] - 2s 3ms/step - loss: 0.2966 - auc_1: 0.9382 - val_loss: 0.3038 - val_auc_1: 0.9350\n",
            "Epoch 10/10\n",
            "753/753 [==============================] - 3s 3ms/step - loss: 0.2957 - auc_1: 0.9386 - val_loss: 0.3034 - val_auc_1: 0.9351\n"
          ],
          "name": "stdout"
        },
        {
          "output_type": "execute_result",
          "data": {
            "text/plain": [
              "<tensorflow.python.keras.callbacks.History at 0x7f8a149ce6d8>"
            ]
          },
          "metadata": {
            "tags": []
          },
          "execution_count": 154
        }
      ]
    },
    {
      "cell_type": "markdown",
      "metadata": {
        "id": "rpZwd3PTzVbl"
      },
      "source": [
        "# Deep learning con embeddings\n",
        "\n",
        "1. Entrenar un model de Deep Learning que utilice embeddings de los usuarios y los productos."
      ]
    },
    {
      "cell_type": "code",
      "metadata": {
        "id": "WukVo1Rze6XK",
        "colab": {
          "base_uri": "https://localhost:8080/",
          "height": 34
        },
        "outputId": "dcd5ea6f-8a6e-4d8f-a01d-38ef86d1d24f"
      },
      "source": [
        "x_input_shape = x_train.shape[1]\n",
        "print('Columnas de entrada de x:', x_input_shape)"
      ],
      "execution_count": null,
      "outputs": [
        {
          "output_type": "stream",
          "text": [
            "Columnas de entrada de x: 94\n"
          ],
          "name": "stdout"
        }
      ]
    },
    {
      "cell_type": "code",
      "metadata": {
        "id": "192PA4nYfyoi",
        "colab": {
          "base_uri": "https://localhost:8080/",
          "height": 34
        },
        "outputId": "0106c44d-5f67-4ebc-eba0-037cbb41b2c6"
      },
      "source": [
        "user_dim = user_idx.max()+1\n",
        "print('Cantidad de usuarios registrados:', user_dim)"
      ],
      "execution_count": null,
      "outputs": [
        {
          "output_type": "stream",
          "text": [
            "Cantidad de usuarios registrados: 5891\n"
          ],
          "name": "stdout"
        }
      ]
    },
    {
      "cell_type": "code",
      "metadata": {
        "id": "SC-BULeLf-5u",
        "colab": {
          "base_uri": "https://localhost:8080/",
          "height": 34
        },
        "outputId": "14e64a27-e94e-44d8-c356-0b612c6f8dcf"
      },
      "source": [
        "product_dim = product_idx.max()+1\n",
        "print('Cantidad de usuarios registrados:', product_dim)"
      ],
      "execution_count": null,
      "outputs": [
        {
          "output_type": "stream",
          "text": [
            "Cantidad de usuarios registrados: 3631\n"
          ],
          "name": "stdout"
        }
      ]
    },
    {
      "cell_type": "code",
      "metadata": {
        "id": "XLPqGmr0zYPu"
      },
      "source": [
        "# Crear modelo funcional\n",
        "\n",
        "# Embeddings\n",
        "user_input = tf.keras.Input(shape=(1,), name='user_input')\n",
        "user_emb = keras.layers.Embedding(user_dim, 8, input_length=1, name='user_emb')(user_input)\n",
        "user_flatten = keras.layers.Flatten()(user_emb)\n",
        "\n",
        "product_input = tf.keras.Input(shape=(1,), name='product_input')\n",
        "product_emb = keras.layers.Embedding(product_dim, 8, input_length=1, name='product_emb')(product_input)\n",
        "product_flatten = keras.layers.Flatten()(product_emb)\n",
        "\n",
        "input = tf.keras.Input(shape=x_input_shape, name='input')\n",
        "\n",
        "# Concatenar los embeddins y la entrada\n",
        "concatenated = keras.layers.Concatenate()([user_flatten, product_flatten, input])\n",
        "\n",
        "\n",
        "out = tf.keras.layers.Dense(128)(concatenated)\n",
        "out = tf.keras.layers.Activation('relu')(out)\n",
        "out = tf.keras.layers.Dense(1)(out)\n",
        "out = tf.keras.layers.Activation('sigmoid')(out)\n",
        "\n",
        "model2 = tf.keras.Model(\n",
        "    inputs = [user_input, product_input, input],\n",
        "    outputs = out,\n",
        ")\n",
        "\n",
        "model2.compile(\n",
        "    optimizer=tf.keras.optimizers.Adam(learning_rate=0.01),\n",
        "    loss='binary_crossentropy',\n",
        "    metrics=metrics_keras\n",
        ")\n"
      ],
      "execution_count": null,
      "outputs": []
    },
    {
      "cell_type": "code",
      "metadata": {
        "id": "Z7KxRRiAewaw",
        "colab": {
          "base_uri": "https://localhost:8080/",
          "height": 865
        },
        "outputId": "ba511b3d-84c8-4716-ab1b-facd0f4235a1"
      },
      "source": [
        "plot_model(model2, to_file='model_plot.png', show_shapes=True, show_layer_names=True)"
      ],
      "execution_count": null,
      "outputs": [
        {
          "output_type": "execute_result",
          "data": {
            "image/png": "[encoded data removed]",
            "text/plain": [
              "<IPython.core.display.Image object>"
            ]
          },
          "metadata": {
            "tags": []
          },
          "execution_count": 159
        }
      ]
    },
    {
      "cell_type": "code",
      "metadata": {
        "id": "znjpJoGqlR5U",
        "colab": {
          "base_uri": "https://localhost:8080/",
          "height": 357
        },
        "outputId": "31bf478f-d60a-4252-8cfc-fc998c2230f3"
      },
      "source": [
        "history3 = model2.fit(\n",
        "    [user_idx_train.astype(np.float32), product_idx_train.astype(np.float32), x_train_norm.astype(np.float32)],\n",
        "    y_train.astype(np.float32),\n",
        "    epochs=10,\n",
        "    batch_size=512,\n",
        "    validation_data=([user_idx_validation, product_idx_validation, x_validation_norm], y_validation)\n",
        "    )"
      ],
      "execution_count": null,
      "outputs": [
        {
          "output_type": "stream",
          "text": [
            "Epoch 1/10\n",
            "753/753 [==============================] - 4s 6ms/step - loss: 0.2753 - auc_1: 0.9462 - val_loss: 0.2600 - val_auc_1: 0.9549\n",
            "Epoch 2/10\n",
            "753/753 [==============================] - 4s 5ms/step - loss: 0.2494 - auc_1: 0.9585 - val_loss: 0.2573 - val_auc_1: 0.9559\n",
            "Epoch 3/10\n",
            "753/753 [==============================] - 4s 5ms/step - loss: 0.2402 - auc_1: 0.9615 - val_loss: 0.2573 - val_auc_1: 0.9561\n",
            "Epoch 4/10\n",
            "753/753 [==============================] - 4s 5ms/step - loss: 0.2324 - auc_1: 0.9641 - val_loss: 0.2593 - val_auc_1: 0.9556\n",
            "Epoch 5/10\n",
            "753/753 [==============================] - 4s 5ms/step - loss: 0.2254 - auc_1: 0.9662 - val_loss: 0.2655 - val_auc_1: 0.9555\n",
            "Epoch 6/10\n",
            "753/753 [==============================] - 4s 5ms/step - loss: 0.2189 - auc_1: 0.9681 - val_loss: 0.2688 - val_auc_1: 0.9538\n",
            "Epoch 7/10\n",
            "753/753 [==============================] - 4s 6ms/step - loss: 0.2121 - auc_1: 0.9702 - val_loss: 0.2782 - val_auc_1: 0.9531\n",
            "Epoch 8/10\n",
            "753/753 [==============================] - 4s 5ms/step - loss: 0.2053 - auc_1: 0.9721 - val_loss: 0.2797 - val_auc_1: 0.9526\n",
            "Epoch 9/10\n",
            "753/753 [==============================] - 5s 6ms/step - loss: 0.1989 - auc_1: 0.9738 - val_loss: 0.2957 - val_auc_1: 0.9506\n",
            "Epoch 10/10\n",
            "753/753 [==============================] - 5s 6ms/step - loss: 0.1929 - auc_1: 0.9753 - val_loss: 0.3038 - val_auc_1: 0.9496\n"
          ],
          "name": "stdout"
        }
      ]
    },
    {
      "cell_type": "markdown",
      "metadata": {
        "id": "fJT7cQ9nzYmj"
      },
      "source": [
        "# Comparación de los modelos\n",
        "\n",
        "1. Comparar los resultados obtenidos.\n",
        "2. Hacer el gráfico de la región de decison para cada modelo."
      ]
    },
    {
      "cell_type": "markdown",
      "metadata": {
        "id": "zT4iFqP1maZU"
      },
      "source": [
        "#### 1 - Comparar resultados de los modelos\n",
        "- Se puede observar que los modelos de DL mejorar el AUC respecto a los modelos tradicionales de ML, demorando practicamente el mismo tiempo de entrenamiento.\n",
        "- El hecho de utilizar embeddings mejoró bastante el AUC respecto al modelo de DL básico\n",
        "- La regresión logístca sacó mejor AUC que el RandomForest, es muy probable que eso se deba al max_depth y la cantidad de árboles que se limitaron para no demorar demasiado el tiempo de entrenamiento\n",
        "\n",
        "__Conclusión__: Como era de esperarse el premio del día de lo lleva el modelo de DL con embeddings"
      ]
    },
    {
      "cell_type": "markdown",
      "metadata": {
        "id": "JEcc-cwnnQmo"
      },
      "source": [
        "¿Cómo podrían usar este clasificador que armaron para hacer un ranking de que productos recomendar a cada usuario? <br>\n",
        "¿Podrían armar el ranking de productos a recomendar para cada user id?"
      ]
    },
    {
      "cell_type": "markdown",
      "metadata": {
        "id": "Hf9MNdjmoY24"
      },
      "source": [
        "Cuando se ingrese un usuario al clasificador, se puede variar los datos de entrada de las categorías de producto. Para ese usuario se podría evaluar si gastaría mucho o poco en ese producto (valor de probabilidad de 0 a 1 de cuanto gastaría, donde 1 es mucho)<br>\n",
        "Se puede ingresar diversas categórias de productos por cada usuario y hacer un ranking en cada uno de con cuanta probaiblidad gastaría mucho en ese producto."
      ]
    },
    {
      "cell_type": "markdown",
      "metadata": {
        "id": "F9mAzK0gn-Y4"
      },
      "source": [
        "#### 2 - Hacer un gráfico de la región de decisión para cada modelo"
      ]
    },
    {
      "cell_type": "code",
      "metadata": {
        "id": "7T1Ilu08zayP"
      },
      "source": [
        "from sklearn.decomposition import PCA\n",
        "X_pca = PCA(n_components=2).fit_transform(X)\n"
      ],
      "execution_count": null,
      "outputs": []
    },
    {
      "cell_type": "code",
      "metadata": {
        "id": "j2cHjK_bq44Q",
        "colab": {
          "base_uri": "https://localhost:8080/",
          "height": 344
        },
        "outputId": "a9cfecf4-a6e8-4e56-86c6-c8f551e7e959"
      },
      "source": [
        "# Regresion logistica\n",
        "\n",
        "lr_model = LogisticRegression(C=1, solver='sag', max_iter=100)\n",
        "lr_model.fit(X_pca, y)\n",
        "#lr_predictions = lr_model.predict(x_validation_norm)\n",
        "\n",
        "# Plot the decision boundary\n",
        "n_classes = 2\n",
        "plot_colors = \"bry\"\n",
        "plot_step = 0.02\n",
        "\n",
        "\n",
        "plt.subplot()\n",
        "\n",
        "x_min, x_max = X_pca[:, 0].min() - 1, X_pca[:, 0].max() + 1\n",
        "y_min, y_max = X_pca[:, 1].min() - 1, X_pca[:, 1].max() + 1\n",
        "xx, yy = np.meshgrid(np.arange(x_min, x_max, plot_step),\n",
        "                        np.arange(y_min, y_max, plot_step))\n",
        "\n",
        "Z = lr_model.predict(np.c_[xx.ravel(), yy.ravel()])\n",
        "Z = Z.reshape(xx.shape)\n",
        "cs = plt.contourf(xx, yy, Z, cmap=plt.cm.Paired)\n",
        "\n",
        "plt.axis(\"tight\")\n",
        "\n",
        "# Plot the training points\n",
        "\n",
        "\n",
        "# for i, color in zip(range(n_classes), plot_colors):\n",
        "#     idx = np.where(y == i)\n",
        "#     plt.scatter(X_pca[idx, 0], X_pca[idx, 1], c=color, cmap=plt.cm.Paired)\n",
        "#plt.axis(\"tight\")"
      ],
      "execution_count": null,
      "outputs": [
        {
          "output_type": "execute_result",
          "data": {
            "text/plain": [
              "(-2.2252746444484908,\n",
              " 2.3347253555515133,\n",
              " -2.3042725908045947,\n",
              " 2.6757274091954093)"
            ]
          },
          "metadata": {
            "tags": []
          },
          "execution_count": 174
        },
        {
          "output_type": "display_data",
          "data": {
            "image/png": "[encoded data removed]",
            "text/plain": [
              "<Figure size 432x288 with 1 Axes>"
            ]
          },
          "metadata": {
            "tags": []
          }
        }
      ]
    },
    {
      "cell_type": "code",
      "metadata": {
        "id": "Tmq_EWATu8J8",
        "colab": {
          "base_uri": "https://localhost:8080/",
          "height": 136
        },
        "outputId": "7b2ce92a-5ea2-4540-9495-913533af6c43"
      },
      "source": [
        "from keras.utils import to_categorical \n",
        "y_cat =to_categorical(y, num_classes=2)\n",
        "y_cat"
      ],
      "execution_count": null,
      "outputs": [
        {
          "output_type": "execute_result",
          "data": {
            "text/plain": [
              "array([[1., 0.],\n",
              "       [0., 1.],\n",
              "       [1., 0.],\n",
              "       ...,\n",
              "       [1., 0.],\n",
              "       [1., 0.],\n",
              "       [1., 0.]], dtype=float32)"
            ]
          },
          "metadata": {
            "tags": []
          },
          "execution_count": 195
        }
      ]
    },
    {
      "cell_type": "code",
      "metadata": {
        "id": "KZBLndeTsnKF"
      },
      "source": [
        "# Crear modelo sequencial\n",
        "model3 = tf.keras.models.Sequential()\n",
        "\n",
        "model3.add(tf.keras.layers.Dense(128))\n",
        "model3.add(tf.keras.layers.Activation('relu'))\n",
        "model3.add(tf.keras.layers.Dense(2))\n",
        "model3.add(tf.keras.layers.Activation('softmax'))\n",
        "\n",
        "model3.compile(\n",
        "    optimizer=tf.keras.optimizers.Adam(learning_rate=0.01),\n",
        "    loss='binary_crossentropy',\n",
        "    metrics=metrics_keras\n",
        ")"
      ],
      "execution_count": null,
      "outputs": []
    },
    {
      "cell_type": "code",
      "metadata": {
        "id": "E8W35wF8s2xJ",
        "colab": {
          "base_uri": "https://localhost:8080/",
          "height": 374
        },
        "outputId": "20c5e509-fdf2-4590-ac46-d440c8f3bf9c"
      },
      "source": [
        "model3.fit(\n",
        "    X_pca.astype(np.float32), \n",
        "    y_cat.astype(np.float32),\n",
        "    epochs=10,\n",
        "    batch_size=512\n",
        ")"
      ],
      "execution_count": null,
      "outputs": [
        {
          "output_type": "stream",
          "text": [
            "Epoch 1/10\n",
            "1075/1075 [==============================] - 4s 3ms/step - loss: 0.5298 - auc_1: 0.8103\n",
            "Epoch 2/10\n",
            "1075/1075 [==============================] - 4s 3ms/step - loss: 0.5278 - auc_1: 0.8118\n",
            "Epoch 3/10\n",
            "1075/1075 [==============================] - 4s 3ms/step - loss: 0.5266 - auc_1: 0.8120\n",
            "Epoch 4/10\n",
            "1075/1075 [==============================] - 4s 3ms/step - loss: 0.5242 - auc_1: 0.8135\n",
            "Epoch 5/10\n",
            "1075/1075 [==============================] - 4s 3ms/step - loss: 0.5220 - auc_1: 0.8159\n",
            "Epoch 6/10\n",
            "1075/1075 [==============================] - 4s 3ms/step - loss: 0.5211 - auc_1: 0.8169\n",
            "Epoch 7/10\n",
            "1075/1075 [==============================] - 4s 4ms/step - loss: 0.5201 - auc_1: 0.8180\n",
            "Epoch 8/10\n",
            "1075/1075 [==============================] - 4s 3ms/step - loss: 0.5194 - auc_1: 0.8187\n",
            "Epoch 9/10\n",
            "1075/1075 [==============================] - 4s 3ms/step - loss: 0.5183 - auc_1: 0.8199\n",
            "Epoch 10/10\n",
            "1075/1075 [==============================] - 4s 3ms/step - loss: 0.5180 - auc_1: 0.8204\n"
          ],
          "name": "stdout"
        },
        {
          "output_type": "execute_result",
          "data": {
            "text/plain": [
              "<tensorflow.python.keras.callbacks.History at 0x7f8a0eb4bcf8>"
            ]
          },
          "metadata": {
            "tags": []
          },
          "execution_count": 197
        }
      ]
    },
    {
      "cell_type": "code",
      "metadata": {
        "id": "d8ULPInstRXv",
        "colab": {
          "base_uri": "https://localhost:8080/",
          "height": 344
        },
        "outputId": "37a04e96-3ae5-4d3d-ad70-184f7e097f56"
      },
      "source": [
        "# Plot the decision boundary\n",
        "n_classes = 2\n",
        "plot_colors = \"bry\"\n",
        "plot_step = 0.02\n",
        "\n",
        "\n",
        "plt.subplot()\n",
        "\n",
        "x_min, x_max = X_pca[:, 0].min() - 1, X_pca[:, 0].max() + 1\n",
        "y_min, y_max = X_pca[:, 1].min() - 1, X_pca[:, 1].max() + 1\n",
        "xx, yy = np.meshgrid(np.arange(x_min, x_max, plot_step),\n",
        "                        np.arange(y_min, y_max, plot_step))\n",
        "\n",
        "Z_cat = model3.predict(np.c_[xx.ravel(), yy.ravel()])\n",
        "Z = np.argmax(Z_cat, axis=1)\n",
        "Z = Z.reshape(xx.shape)\n",
        "cs = plt.contourf(xx, yy, Z, cmap=plt.cm.Paired)\n",
        "\n",
        "plt.axis(\"tight\")\n",
        "\n",
        "# Plot the training points\n",
        "# for i, color in zip(range(n_classes), plot_colors):\n",
        "#     idx = np.where(y == i)\n",
        "#     plt.scatter(X_pca[idx, 0], X_pca[idx, 1], c=color, cmap=plt.cm.Paired)\n",
        "#plt.axis(\"tight\")"
      ],
      "execution_count": null,
      "outputs": [
        {
          "output_type": "execute_result",
          "data": {
            "text/plain": [
              "(-2.2252746444484908,\n",
              " 2.3347253555515133,\n",
              " -2.3042725908045947,\n",
              " 2.6757274091954093)"
            ]
          },
          "metadata": {
            "tags": []
          },
          "execution_count": 204
        },
        {
          "output_type": "display_data",
          "data": {
            "image/png": "[encoded data removed]",
            "text/plain": [
              "<Figure size 432x288 with 1 Axes>"
            ]
          },
          "metadata": {
            "tags": []
          }
        }
      ]
    }
  ]
}