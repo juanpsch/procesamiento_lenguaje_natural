{
  "nbformat": 4,
  "nbformat_minor": 0,
  "metadata": {
    "colab": {
      "name": "CNN_v5.ipynb",
      "provenance": [],
      "collapsed_sections": [],
      "toc_visible": true
    },
    "kernelspec": {
      "name": "python3",
      "display_name": "Python 3"
    },
    "accelerator": "GPU"
  },
  "cells": [
    {
      "cell_type": "markdown",
      "metadata": {
        "id": "hs_QoM2luy6Z"
      },
      "source": [
        "# Universidad de Buenos Aires\r\n",
        "# Computer Vision - Examen\r\n",
        "Análisis de cultivos en imagenes satelitales\r\n",
        "\r\n"
      ]
    },
    {
      "cell_type": "code",
      "metadata": {
        "id": "L8yMzUEED4X3"
      },
      "source": [
        "import numpy as np\n",
        "import matplotlib.pyplot as plt\n",
        "import tensorflow.keras as k\n",
        "import tensorflow.keras.models as models\n",
        "import tensorflow.keras.layers as layers\n",
        "import tensorflow.keras.optimizers as optimizers\n",
        "from skimage.io import imread\n",
        "import numpy as np\n",
        "from random import sample\n",
        "from keras.utils import to_categorical\n",
        "import os\n",
        "from glob import glob\n",
        "from google.colab import drive\n",
        "import pandas as pd"
      ],
      "execution_count": null,
      "outputs": []
    },
    {
      "cell_type": "code",
      "metadata": {
        "colab": {
          "base_uri": "https://localhost:8080/"
        },
        "id": "tv5wicWlFWDT",
        "outputId": "42086b02-8d9e-46fb-af7d-072c6db2f664"
      },
      "source": [
        "drive.mount(\"/content/drive\")"
      ],
      "execution_count": null,
      "outputs": [
        {
          "output_type": "stream",
          "text": [
            "Mounted at /content/drive\n"
          ],
          "name": "stdout"
        }
      ]
    },
    {
      "cell_type": "code",
      "metadata": {
        "id": "pl9qfQX6CkEk"
      },
      "source": [
        "os.chdir(\"/content/drive/MyDrive/UBA IA 2020/8-VPC2/TP\")"
      ],
      "execution_count": null,
      "outputs": []
    },
    {
      "cell_type": "markdown",
      "metadata": {
        "id": "MoNYf2X-DgCL"
      },
      "source": [
        "## Funciones Helpers"
      ]
    },
    {
      "cell_type": "code",
      "metadata": {
        "id": "IyJ7QUzzfLjA"
      },
      "source": [
        "def preprocessing_image_ms(x, mean, std):\n",
        "    # loop over image channels\n",
        "    for idx, mean_value in enumerate(mean):\n",
        "        x[..., idx] -= mean_value\n",
        "        x[..., idx] /= std[idx]\n",
        "    return x\n",
        "\n",
        "\n",
        "def categorical_label_from_full_file_name(files, class_indices):\n",
        "  \n",
        "    # file basename without extension\n",
        "    base_name = [os.path.splitext(os.path.basename(i))[0] for i in files]\n",
        "    # class label from filename\n",
        "    base_name = [i.split(\"_\")[0] for i in base_name]\n",
        "    # label to indices\n",
        "    image_class = [class_indices[i] for i in base_name]\n",
        "    # class indices to one-hot-label\n",
        "    return to_categorical(image_class, num_classes=len(class_indices))\n",
        "\n",
        "def hyperspectral_image_generator(files, class_indices, batch_size=32, image_mean=None,\n",
        "                           rotation_range=0, shear_range=0, scale_range=1,\n",
        "                           transform_range=0, horizontal_flip=False,\n",
        "                           vertical_flip=False, crop=False, crop_size=None, filling_mode='edge',\n",
        "                           speckle_noise=None):\n",
        "    \n",
        "\n",
        "    while True:\n",
        "        # select batch_size number of samples without replacement\n",
        "        batch_files = sample(files, batch_size)\n",
        "        # get one_hot_label\n",
        "        batch_Y = categorical_label_from_full_file_name(batch_files,\n",
        "                                                        class_indices)\n",
        "        # array for images\n",
        "        batch_X = []\n",
        "        # loop over images of the current batch\n",
        "        for idx, input_path in enumerate(batch_files):\n",
        "            normalization_factor =  0.0001\n",
        "            image = np.array(imread(input_path), dtype=np.int16)\n",
        "            image = image * normalization_factor\n",
        "            \n",
        "            # Imprime las imagenes que esta analizando\n",
        "            # print(input_path, image.shape, image.max())\n",
        "            \n",
        "            if image_mean is not None:\n",
        "                mean_std_data = np.loadtxt(image_mean, delimiter=',')\n",
        "                image = preprocessing_image_ms(image, mean_std_data[0], mean_std_data[1])\n",
        "            # process image\n",
        "           \n",
        "            # put all together\n",
        "            batch_X += [image]\n",
        "        # convert lists to np.array\n",
        "        X = np.array(batch_X)\n",
        "        Y = np.array(batch_Y)\n",
        "       \n",
        "        yield(X, Y)\n",
        "\n"
      ],
      "execution_count": null,
      "outputs": []
    },
    {
      "cell_type": "markdown",
      "metadata": {
        "id": "WUjrqHIHDk0Z"
      },
      "source": [
        "## CNN"
      ]
    },
    {
      "cell_type": "code",
      "metadata": {
        "id": "uPWJYb-ii3zE"
      },
      "source": [
        "class2dir = {\n",
        "            'M':'/content/drive/MyDrive/UBA IA 2020/8-VPC2/TP/imagenes_tp_h' ,\n",
        "            'S':'/content/drive/MyDrive/UBA IA 2020/8-VPC2/TP/imagenes_tp_h' ,\n",
        "            's':'/content/drive/MyDrive/UBA IA 2020/8-VPC2/TP/imagenes_tp_h' ,\n",
        "            'N':'/content/drive/MyDrive/UBA IA 2020/8-VPC2/TP/imagenes_tp_h' ,\n",
        "            'P':'/content/drive/MyDrive/UBA IA 2020/8-VPC2/TP/imagenes_tp_h' ,\n",
        "            'A':'/content/drive/MyDrive/UBA IA 2020/8-VPC2/TP/imagenes_tp_v5_h' ,\n",
        "            'B':'/content/drive/MyDrive/UBA IA 2020/8-VPC2/TP/imagenes_tp_v5_h' ,\n",
        "            'm':'/content/drive/MyDrive/UBA IA 2020/8-VPC2/TP/imagenes_tp_v5_h' ,\n",
        "            'U':'/content/drive/MyDrive/UBA IA 2020/8-VPC2/TP/imagenes_tp_v5_h' ,\n",
        "            'T':'/content/drive/MyDrive/UBA IA 2020/8-VPC2/TP/imagenes_tp_v5_h' ,\n",
        "            'G':'/content/drive/MyDrive/UBA IA 2020/8-VPC2/TP/imagenes_tp_v5_h' ,\n",
        "            'aa':'/content/drive/MyDrive/UBA IA 2020/8-VPC2/TP/imagenes_tp_v5_h' ,\n",
        "            'R':'/content/drive/MyDrive/UBA IA 2020/8-VPC2/TP/imagenes_tp_v5_h'\n",
        "}"
      ],
      "execution_count": null,
      "outputs": []
    },
    {
      "cell_type": "code",
      "metadata": {
        "colab": {
          "base_uri": "https://localhost:8080/"
        },
        "id": "K1ViJRSmja91",
        "outputId": "9847c1fa-4cb8-4112-ff86-b69bc41b728e"
      },
      "source": [
        "classes_files = {}\n",
        "for k, v in class2dir.items():\n",
        "    classes_files[k] = [glob(v + f\"/{k}/*.tif\"), 0, 0]\n",
        "    print(\"clase\", k, \",cantidad:\", len(classes_files[k][0]))"
      ],
      "execution_count": null,
      "outputs": [
        {
          "output_type": "stream",
          "text": [
            "clase M ,cantidad: 208\n",
            "clase S ,cantidad: 340\n",
            "clase s ,cantidad: 87\n",
            "clase N ,cantidad: 66\n",
            "clase P ,cantidad: 54\n",
            "clase A ,cantidad: 70\n",
            "clase B ,cantidad: 104\n",
            "clase m ,cantidad: 86\n",
            "clase U ,cantidad: 49\n",
            "clase T ,cantidad: 100\n",
            "clase G ,cantidad: 40\n",
            "clase aa ,cantidad: 24\n",
            "clase R ,cantidad: 92\n"
          ],
          "name": "stdout"
        }
      ]
    },
    {
      "cell_type": "code",
      "metadata": {
        "colab": {
          "base_uri": "https://localhost:8080/"
        },
        "id": "OfTkiPQwoJUZ",
        "outputId": "ef941147-010f-4038-819d-cc1c7916de17"
      },
      "source": [
        "# Aumentar datos\n",
        "folder_imagenes_rotadas = '/content/drive/MyDrive/UBA IA 2020/8-VPC2/TP/imagenes_rotadas'\n",
        "for k, v in class2dir.items():\n",
        "    archivos_originales = classes_files[k][0]\n",
        "    archivos_rotados = glob(folder_imagenes_rotadas + f\"/{k}/*.tif\")\n",
        "    classes_files[k][0] = archivos_originales + archivos_rotados\n",
        "    print(\"clase\", k, \",cantidad:\", len(classes_files[k][0]))"
      ],
      "execution_count": null,
      "outputs": [
        {
          "output_type": "stream",
          "text": [
            "clase M ,cantidad: 832\n",
            "clase S ,cantidad: 1360\n",
            "clase s ,cantidad: 348\n",
            "clase N ,cantidad: 264\n",
            "clase P ,cantidad: 216\n",
            "clase A ,cantidad: 280\n",
            "clase B ,cantidad: 416\n",
            "clase m ,cantidad: 344\n",
            "clase U ,cantidad: 196\n",
            "clase T ,cantidad: 400\n",
            "clase G ,cantidad: 160\n",
            "clase aa ,cantidad: 96\n",
            "clase R ,cantidad: 368\n"
          ],
          "name": "stdout"
        }
      ]
    },
    {
      "cell_type": "code",
      "metadata": {
        "colab": {
          "base_uri": "https://localhost:8080/"
        },
        "id": "0tQ0PHHztCy3",
        "outputId": "36c840e9-0d39-42af-f814-275405095053"
      },
      "source": [
        "# Acotar la cantidad de samples por clase\n",
        "max_sample = 400\n",
        "for k, v in class2dir.items():\n",
        "    classes_files[k][0] = classes_files[k][0][:(max_sample)]\n",
        "    print(\"clase\", k, \",cantidad:\", len(classes_files[k][0]))"
      ],
      "execution_count": null,
      "outputs": [
        {
          "output_type": "stream",
          "text": [
            "clase M ,cantidad: 400\n",
            "clase S ,cantidad: 400\n",
            "clase s ,cantidad: 348\n",
            "clase N ,cantidad: 264\n",
            "clase P ,cantidad: 216\n",
            "clase A ,cantidad: 280\n",
            "clase B ,cantidad: 400\n",
            "clase m ,cantidad: 344\n",
            "clase U ,cantidad: 196\n",
            "clase T ,cantidad: 400\n",
            "clase G ,cantidad: 160\n",
            "clase aa ,cantidad: 96\n",
            "clase R ,cantidad: 368\n"
          ],
          "name": "stdout"
        }
      ]
    },
    {
      "cell_type": "code",
      "metadata": {
        "id": "shTd8Ko1uQPq"
      },
      "source": [
        "def files_train_validation_split(files, validation_size=0.2):\n",
        "    n_samples = len(files)\n",
        "    indexes = np.random.permutation(np.arange(0, n_samples))\n",
        "    train_idx = indexes[0:int((1-validation_size)*n_samples)]\n",
        "    validation_idx = indexes[int((1-validation_size)*n_samples):]\n",
        "    assert n_samples == train_idx.size + validation_idx.size\n",
        "\n",
        "    # Train\n",
        "    train_files = [files[i] for i in train_idx]\n",
        "\n",
        "    # Validation\n",
        "    validation_files = [files[i] for i in validation_idx]\n",
        "    return train_files, validation_files"
      ],
      "execution_count": null,
      "outputs": []
    },
    {
      "cell_type": "code",
      "metadata": {
        "colab": {
          "base_uri": "https://localhost:8080/"
        },
        "id": "gyTNNEMKvN29",
        "outputId": "d9bb1260-86bc-4da2-a948-009b4436bab0"
      },
      "source": [
        "for k, v in classes_files.items():\n",
        "    train, valid = files_train_validation_split(v[0], validation_size=0.1)\n",
        "    classes_files[k][1] = train\n",
        "    classes_files[k][2] = valid\n",
        "    print(\"clase\", k, \",cantidad:\", len(classes_files[k][0]), \"train:\",len(classes_files[k][1]), \"valid:\",len(classes_files[k][2]))"
      ],
      "execution_count": null,
      "outputs": [
        {
          "output_type": "stream",
          "text": [
            "clase M ,cantidad: 400 train: 360 valid: 40\n",
            "clase S ,cantidad: 400 train: 360 valid: 40\n",
            "clase s ,cantidad: 348 train: 313 valid: 35\n",
            "clase N ,cantidad: 264 train: 237 valid: 27\n",
            "clase P ,cantidad: 216 train: 194 valid: 22\n",
            "clase A ,cantidad: 280 train: 252 valid: 28\n",
            "clase B ,cantidad: 400 train: 360 valid: 40\n",
            "clase m ,cantidad: 344 train: 309 valid: 35\n",
            "clase U ,cantidad: 196 train: 176 valid: 20\n",
            "clase T ,cantidad: 400 train: 360 valid: 40\n",
            "clase G ,cantidad: 160 train: 144 valid: 16\n",
            "clase aa ,cantidad: 96 train: 86 valid: 10\n",
            "clase R ,cantidad: 368 train: 331 valid: 37\n"
          ],
          "name": "stdout"
        }
      ]
    },
    {
      "cell_type": "code",
      "metadata": {
        "colab": {
          "base_uri": "https://localhost:8080/"
        },
        "id": "1ehcAPIgwkmp",
        "outputId": "bcef8da3-a830-4334-d3e2-df58f1550e59"
      },
      "source": [
        "files_train = []\n",
        "files_val = []\n",
        "for k, v in classes_files.items():\n",
        "    files_train = files_train + v[1]\n",
        "    files_val = files_val + v[2]\n",
        "print(\"train size:\", len(files_train), \"valid size:\", len(files_val))"
      ],
      "execution_count": null,
      "outputs": [
        {
          "output_type": "stream",
          "text": [
            "train size: 3482 valid size: 390\n"
          ],
          "name": "stdout"
        }
      ]
    },
    {
      "cell_type": "code",
      "metadata": {
        "id": "Z3O83WSyfWhj",
        "colab": {
          "base_uri": "https://localhost:8080/"
        },
        "outputId": "e3b4304e-7b52-4689-992e-b7388153cc60"
      },
      "source": [
        "# # Carpeta del drive donde estan las imagenes\n",
        "# folderPath1 = '/content/drive/MyDrive/UBA IA 2020/8-VPC2/TP/imagenes_tp_h'\n",
        "# folderPath2 = '/content/drive/MyDrive/UBA IA 2020/8-VPC2/TP/imagenes_tp_v5_h'\n",
        "\n",
        "# files1 = np.random.permutation(glob(folderPath1 + \"/**/*.tif\"))\n",
        "# files2 = np.random.permutation(glob(folderPath2 + \"/**/*.tif\"))\n",
        "\n",
        "# files = np.concatenate((files1, files2), axis=0)\n",
        "\n",
        "\n",
        "# train_validation_split_index = np.ceil((len(files) * 0.7)).astype(int)\n",
        "\n",
        "# files_train = files[0: train_validation_split_index]\n",
        "# files_val = files[train_validation_split_index:]\n",
        "\n",
        "print(\"cantidad de muestras:\", len(files_train)+len(files_val))\n",
        "\n",
        "BATCH_SIZE = 60\n",
        "FILES_AMOUNT = len(files_train)\n",
        "\n",
        "BATCH_SIZE_VALID = 39\n",
        "FILES_AMOUNT_VALID = len(files_val)\n",
        "\n",
        "\n",
        "image_class = [f.split('/')[-1].split(\"_\")[0] for f in files_train]\n",
        "classes = {}\n",
        "weight_clases = {}\n",
        "num2classes = {}\n",
        "for i,c in enumerate(np.unique(image_class)):\n",
        "  classes[c]=i\n",
        "  num2classes[i] = c\n",
        "  weight_clases[c]= np.sum(1 if (\"/\" + c + '/') in f else 0 for f in files_train)\n",
        "\n",
        "\n",
        "\n",
        "train_generator = hyperspectral_image_generator(\n",
        "    files_train,\n",
        "    class_indices = classes,\n",
        "    batch_size=BATCH_SIZE\n",
        ")\n",
        "\n",
        "\n",
        "val_generator = hyperspectral_image_generator(\n",
        "    files_val,\n",
        "    class_indices = classes,\n",
        "    batch_size=BATCH_SIZE_VALID\n",
        ")\n",
        "\n",
        "\n",
        "CLASSES_COUNT = len(classes)\n",
        "\n",
        "weight_clases\n"
      ],
      "execution_count": null,
      "outputs": [
        {
          "output_type": "stream",
          "text": [
            "cantidad de muestras: 3872\n"
          ],
          "name": "stdout"
        },
        {
          "output_type": "stream",
          "text": [
            "/usr/local/lib/python3.6/dist-packages/ipykernel_launcher.py:32: DeprecationWarning: Calling np.sum(generator) is deprecated, and in the future will give a different result. Use np.sum(np.fromiter(generator)) or the python sum builtin instead.\n"
          ],
          "name": "stderr"
        },
        {
          "output_type": "execute_result",
          "data": {
            "text/plain": [
              "{'A': 252,\n",
              " 'B': 360,\n",
              " 'G': 144,\n",
              " 'M': 360,\n",
              " 'N': 237,\n",
              " 'P': 194,\n",
              " 'R': 331,\n",
              " 'S': 360,\n",
              " 'T': 360,\n",
              " 'U': 176,\n",
              " 'aa': 86,\n",
              " 'm': 309,\n",
              " 's': 313}"
            ]
          },
          "metadata": {
            "tags": []
          },
          "execution_count": 24
        }
      ]
    },
    {
      "cell_type": "code",
      "metadata": {
        "colab": {
          "base_uri": "https://localhost:8080/"
        },
        "id": "Qaej6Tk5EY6B",
        "outputId": "18404ae7-5271-4dae-90a6-c1e1e454ba58"
      },
      "source": [
        "from tensorflow.keras.metrics import CategoricalAccuracy\n",
        "model = models.Sequential()\n",
        "\n",
        "model.add(layers.Conv2D(64, (3,3), activation='relu', padding ='same',input_shape=(16,16,13)))\n",
        "model.add(layers.MaxPooling2D((2,2)))\n",
        "model.add(layers.Conv2D(128, (3,3),  padding ='same', activation='relu'))\n",
        "model.add(layers.MaxPooling2D((2,2)))\n",
        "model.add(layers.Conv2D(256, (3,3),  padding ='same', activation='relu'))\n",
        "model.add(layers.MaxPooling2D((2,2)))\n",
        "model.add(layers.Flatten())\n",
        "model.add(layers.Dense(128, activation='relu'))\n",
        "model.add(layers.Dropout(0.2))\n",
        "model.add(layers.Dense(CLASSES_COUNT, activation='softmax'))\n",
        "\n",
        "model.compile(loss='categorical_crossentropy',\n",
        "              optimizer=optimizers.Adam(lr=1e-4),\n",
        "              metrics=[ CategoricalAccuracy(name=\"accuracy\")] )\n",
        "\n",
        "model.summary()\n"
      ],
      "execution_count": null,
      "outputs": [
        {
          "output_type": "stream",
          "text": [
            "Model: \"sequential_2\"\n",
            "_________________________________________________________________\n",
            "Layer (type)                 Output Shape              Param #   \n",
            "=================================================================\n",
            "conv2d_6 (Conv2D)            (None, 16, 16, 64)        7552      \n",
            "_________________________________________________________________\n",
            "max_pooling2d_6 (MaxPooling2 (None, 8, 8, 64)          0         \n",
            "_________________________________________________________________\n",
            "conv2d_7 (Conv2D)            (None, 8, 8, 128)         73856     \n",
            "_________________________________________________________________\n",
            "max_pooling2d_7 (MaxPooling2 (None, 4, 4, 128)         0         \n",
            "_________________________________________________________________\n",
            "conv2d_8 (Conv2D)            (None, 4, 4, 256)         295168    \n",
            "_________________________________________________________________\n",
            "max_pooling2d_8 (MaxPooling2 (None, 2, 2, 256)         0         \n",
            "_________________________________________________________________\n",
            "flatten_2 (Flatten)          (None, 1024)              0         \n",
            "_________________________________________________________________\n",
            "dense_4 (Dense)              (None, 128)               131200    \n",
            "_________________________________________________________________\n",
            "dropout (Dropout)            (None, 128)               0         \n",
            "_________________________________________________________________\n",
            "dense_5 (Dense)              (None, 13)                1677      \n",
            "=================================================================\n",
            "Total params: 509,453\n",
            "Trainable params: 509,453\n",
            "Non-trainable params: 0\n",
            "_________________________________________________________________\n"
          ],
          "name": "stdout"
        }
      ]
    },
    {
      "cell_type": "code",
      "metadata": {
        "colab": {
          "base_uri": "https://localhost:8080/"
        },
        "id": "3BWfajUJEhZK",
        "outputId": "a68187f1-a893-49cb-fd02-3c3bab75e44a"
      },
      "source": [
        "history = model.fit_generator(\n",
        "            train_generator,\n",
        "            epochs=200,\n",
        "            steps_per_epoch=FILES_AMOUNT/BATCH_SIZE,\n",
        "            validation_data=val_generator,\n",
        "            validation_steps=FILES_AMOUNT_VALID/BATCH_SIZE_VALID\n",
        "          )"
      ],
      "execution_count": null,
      "outputs": [
        {
          "output_type": "stream",
          "text": [
            "Epoch 1/100\n",
            "59/58 [==============================] - 10s 173ms/step - loss: 0.3765 - accuracy: 0.8650 - val_loss: 0.3487 - val_accuracy: 0.8897\n",
            "Epoch 2/100\n",
            "59/58 [==============================] - 10s 172ms/step - loss: 0.3550 - accuracy: 0.8667 - val_loss: 0.3650 - val_accuracy: 0.8513\n",
            "Epoch 3/100\n",
            "59/58 [==============================] - 10s 170ms/step - loss: 0.3781 - accuracy: 0.8636 - val_loss: 0.4303 - val_accuracy: 0.8231\n",
            "Epoch 4/100\n",
            "59/58 [==============================] - 10s 170ms/step - loss: 0.3667 - accuracy: 0.8613 - val_loss: 0.3973 - val_accuracy: 0.8769\n",
            "Epoch 5/100\n",
            "59/58 [==============================] - 10s 169ms/step - loss: 0.3558 - accuracy: 0.8723 - val_loss: 0.3817 - val_accuracy: 0.8974\n",
            "Epoch 6/100\n",
            "59/58 [==============================] - 10s 170ms/step - loss: 0.3769 - accuracy: 0.8689 - val_loss: 0.3785 - val_accuracy: 0.8795\n",
            "Epoch 7/100\n",
            "59/58 [==============================] - 10s 170ms/step - loss: 0.3723 - accuracy: 0.8653 - val_loss: 0.4356 - val_accuracy: 0.8641\n",
            "Epoch 8/100\n",
            "59/58 [==============================] - 10s 170ms/step - loss: 0.3364 - accuracy: 0.8839 - val_loss: 0.3612 - val_accuracy: 0.8769\n",
            "Epoch 9/100\n",
            "59/58 [==============================] - 10s 168ms/step - loss: 0.3731 - accuracy: 0.8672 - val_loss: 0.3507 - val_accuracy: 0.8846\n",
            "Epoch 10/100\n",
            "59/58 [==============================] - 10s 167ms/step - loss: 0.3216 - accuracy: 0.8870 - val_loss: 0.3741 - val_accuracy: 0.8641\n",
            "Epoch 11/100\n",
            "59/58 [==============================] - 10s 166ms/step - loss: 0.3403 - accuracy: 0.8814 - val_loss: 0.3433 - val_accuracy: 0.8821\n",
            "Epoch 12/100\n",
            "59/58 [==============================] - 10s 166ms/step - loss: 0.3289 - accuracy: 0.8828 - val_loss: 0.3342 - val_accuracy: 0.8872\n",
            "Epoch 13/100\n",
            "59/58 [==============================] - 10s 165ms/step - loss: 0.3355 - accuracy: 0.8850 - val_loss: 0.3722 - val_accuracy: 0.8821\n",
            "Epoch 14/100\n",
            "59/58 [==============================] - 10s 165ms/step - loss: 0.3200 - accuracy: 0.8893 - val_loss: 0.3500 - val_accuracy: 0.9103\n",
            "Epoch 15/100\n",
            "59/58 [==============================] - 10s 166ms/step - loss: 0.3338 - accuracy: 0.8780 - val_loss: 0.4682 - val_accuracy: 0.8051\n",
            "Epoch 16/100\n",
            "59/58 [==============================] - 10s 165ms/step - loss: 0.3403 - accuracy: 0.8734 - val_loss: 0.4568 - val_accuracy: 0.8487\n",
            "Epoch 17/100\n",
            "59/58 [==============================] - 10s 165ms/step - loss: 0.3239 - accuracy: 0.8932 - val_loss: 0.3115 - val_accuracy: 0.8974\n",
            "Epoch 18/100\n",
            "59/58 [==============================] - 10s 166ms/step - loss: 0.3339 - accuracy: 0.8805 - val_loss: 0.3978 - val_accuracy: 0.8590\n",
            "Epoch 19/100\n",
            "59/58 [==============================] - 11s 179ms/step - loss: 0.3147 - accuracy: 0.8946 - val_loss: 0.3423 - val_accuracy: 0.8821\n",
            "Epoch 20/100\n",
            "59/58 [==============================] - 10s 165ms/step - loss: 0.3313 - accuracy: 0.8828 - val_loss: 0.3692 - val_accuracy: 0.8538\n",
            "Epoch 21/100\n",
            "59/58 [==============================] - 10s 168ms/step - loss: 0.3269 - accuracy: 0.8856 - val_loss: 0.3452 - val_accuracy: 0.8641\n",
            "Epoch 22/100\n",
            "59/58 [==============================] - 10s 163ms/step - loss: 0.3370 - accuracy: 0.8822 - val_loss: 0.3269 - val_accuracy: 0.9026\n",
            "Epoch 23/100\n",
            "59/58 [==============================] - 9s 161ms/step - loss: 0.3199 - accuracy: 0.8955 - val_loss: 0.3405 - val_accuracy: 0.8795\n",
            "Epoch 24/100\n",
            "59/58 [==============================] - 10s 162ms/step - loss: 0.3138 - accuracy: 0.8901 - val_loss: 0.2794 - val_accuracy: 0.9179\n",
            "Epoch 25/100\n",
            "59/58 [==============================] - 9s 158ms/step - loss: 0.3136 - accuracy: 0.8918 - val_loss: 0.4037 - val_accuracy: 0.8487\n",
            "Epoch 26/100\n",
            "59/58 [==============================] - 9s 158ms/step - loss: 0.3222 - accuracy: 0.8955 - val_loss: 0.3529 - val_accuracy: 0.8846\n",
            "Epoch 27/100\n",
            "59/58 [==============================] - 10s 165ms/step - loss: 0.2962 - accuracy: 0.8992 - val_loss: 0.3297 - val_accuracy: 0.8872\n",
            "Epoch 28/100\n",
            "59/58 [==============================] - 9s 157ms/step - loss: 0.3191 - accuracy: 0.8876 - val_loss: 0.2655 - val_accuracy: 0.9154\n",
            "Epoch 29/100\n",
            "59/58 [==============================] - 9s 157ms/step - loss: 0.3206 - accuracy: 0.8853 - val_loss: 0.4232 - val_accuracy: 0.8564\n",
            "Epoch 30/100\n",
            "59/58 [==============================] - 9s 160ms/step - loss: 0.3066 - accuracy: 0.8949 - val_loss: 0.3267 - val_accuracy: 0.9154\n",
            "Epoch 31/100\n",
            "59/58 [==============================] - 9s 160ms/step - loss: 0.2987 - accuracy: 0.8986 - val_loss: 0.2949 - val_accuracy: 0.9154\n",
            "Epoch 32/100\n",
            "59/58 [==============================] - 9s 160ms/step - loss: 0.3235 - accuracy: 0.8884 - val_loss: 0.3454 - val_accuracy: 0.9051\n",
            "Epoch 33/100\n",
            "59/58 [==============================] - 10s 161ms/step - loss: 0.2798 - accuracy: 0.9031 - val_loss: 0.3567 - val_accuracy: 0.8795\n",
            "Epoch 34/100\n",
            "59/58 [==============================] - 9s 160ms/step - loss: 0.2751 - accuracy: 0.9090 - val_loss: 0.3278 - val_accuracy: 0.8821\n",
            "Epoch 35/100\n",
            "59/58 [==============================] - 9s 158ms/step - loss: 0.2834 - accuracy: 0.9003 - val_loss: 0.2669 - val_accuracy: 0.9308\n",
            "Epoch 36/100\n",
            "59/58 [==============================] - 9s 158ms/step - loss: 0.2862 - accuracy: 0.9017 - val_loss: 0.3853 - val_accuracy: 0.8667\n",
            "Epoch 37/100\n",
            "59/58 [==============================] - 9s 158ms/step - loss: 0.3012 - accuracy: 0.8955 - val_loss: 0.3199 - val_accuracy: 0.8821\n",
            "Epoch 38/100\n",
            "59/58 [==============================] - 9s 156ms/step - loss: 0.2789 - accuracy: 0.9073 - val_loss: 0.3400 - val_accuracy: 0.9051\n",
            "Epoch 39/100\n",
            "59/58 [==============================] - 9s 154ms/step - loss: 0.2749 - accuracy: 0.9062 - val_loss: 0.3364 - val_accuracy: 0.9077\n",
            "Epoch 40/100\n",
            "59/58 [==============================] - 9s 155ms/step - loss: 0.2818 - accuracy: 0.9006 - val_loss: 0.2763 - val_accuracy: 0.9154\n",
            "Epoch 41/100\n",
            "59/58 [==============================] - 9s 153ms/step - loss: 0.3022 - accuracy: 0.8927 - val_loss: 0.2788 - val_accuracy: 0.9179\n",
            "Epoch 42/100\n",
            "59/58 [==============================] - 9s 154ms/step - loss: 0.2996 - accuracy: 0.9006 - val_loss: 0.3225 - val_accuracy: 0.9154\n",
            "Epoch 43/100\n",
            "59/58 [==============================] - 9s 156ms/step - loss: 0.2739 - accuracy: 0.9065 - val_loss: 0.3189 - val_accuracy: 0.9051\n",
            "Epoch 44/100\n",
            "59/58 [==============================] - 10s 162ms/step - loss: 0.2737 - accuracy: 0.9023 - val_loss: 0.3193 - val_accuracy: 0.9000\n",
            "Epoch 45/100\n",
            "59/58 [==============================] - 9s 159ms/step - loss: 0.2772 - accuracy: 0.9034 - val_loss: 0.2997 - val_accuracy: 0.9000\n",
            "Epoch 46/100\n",
            "59/58 [==============================] - 9s 158ms/step - loss: 0.2835 - accuracy: 0.9071 - val_loss: 0.3420 - val_accuracy: 0.9103\n",
            "Epoch 47/100\n",
            "59/58 [==============================] - 9s 158ms/step - loss: 0.2756 - accuracy: 0.9071 - val_loss: 0.3085 - val_accuracy: 0.9154\n",
            "Epoch 48/100\n",
            "59/58 [==============================] - 9s 156ms/step - loss: 0.2557 - accuracy: 0.9150 - val_loss: 0.3283 - val_accuracy: 0.8744\n",
            "Epoch 49/100\n",
            "59/58 [==============================] - 9s 155ms/step - loss: 0.2476 - accuracy: 0.9153 - val_loss: 0.3131 - val_accuracy: 0.9051\n",
            "Epoch 50/100\n",
            "59/58 [==============================] - 9s 153ms/step - loss: 0.2607 - accuracy: 0.9121 - val_loss: 0.3349 - val_accuracy: 0.8692\n",
            "Epoch 51/100\n",
            "59/58 [==============================] - 9s 153ms/step - loss: 0.2582 - accuracy: 0.9141 - val_loss: 0.2714 - val_accuracy: 0.9154\n",
            "Epoch 52/100\n",
            "59/58 [==============================] - 10s 167ms/step - loss: 0.2531 - accuracy: 0.9169 - val_loss: 0.3007 - val_accuracy: 0.8795\n",
            "Epoch 53/100\n",
            "59/58 [==============================] - 9s 161ms/step - loss: 0.2475 - accuracy: 0.9133 - val_loss: 0.2522 - val_accuracy: 0.9282\n",
            "Epoch 54/100\n",
            "59/58 [==============================] - 9s 156ms/step - loss: 0.2451 - accuracy: 0.9206 - val_loss: 0.3340 - val_accuracy: 0.8923\n",
            "Epoch 55/100\n",
            "59/58 [==============================] - 9s 152ms/step - loss: 0.2351 - accuracy: 0.9206 - val_loss: 0.3832 - val_accuracy: 0.8692\n",
            "Epoch 56/100\n",
            "59/58 [==============================] - 9s 151ms/step - loss: 0.2354 - accuracy: 0.9198 - val_loss: 0.2859 - val_accuracy: 0.9026\n",
            "Epoch 57/100\n",
            "59/58 [==============================] - 9s 153ms/step - loss: 0.2855 - accuracy: 0.9014 - val_loss: 0.2436 - val_accuracy: 0.9205\n",
            "Epoch 58/100\n",
            "59/58 [==============================] - 9s 156ms/step - loss: 0.2439 - accuracy: 0.9189 - val_loss: 0.2531 - val_accuracy: 0.9179\n",
            "Epoch 59/100\n",
            "59/58 [==============================] - 9s 154ms/step - loss: 0.2538 - accuracy: 0.9147 - val_loss: 0.3041 - val_accuracy: 0.8974\n",
            "Epoch 60/100\n",
            "59/58 [==============================] - 9s 152ms/step - loss: 0.2395 - accuracy: 0.9220 - val_loss: 0.2573 - val_accuracy: 0.9205\n",
            "Epoch 61/100\n",
            "59/58 [==============================] - 9s 153ms/step - loss: 0.2489 - accuracy: 0.9172 - val_loss: 0.3134 - val_accuracy: 0.8872\n",
            "Epoch 62/100\n",
            "59/58 [==============================] - 9s 155ms/step - loss: 0.2444 - accuracy: 0.9201 - val_loss: 0.2524 - val_accuracy: 0.9179\n",
            "Epoch 63/100\n",
            "59/58 [==============================] - 9s 153ms/step - loss: 0.2621 - accuracy: 0.9138 - val_loss: 0.2953 - val_accuracy: 0.9128\n",
            "Epoch 64/100\n",
            "59/58 [==============================] - 9s 157ms/step - loss: 0.2432 - accuracy: 0.9161 - val_loss: 0.3664 - val_accuracy: 0.8923\n",
            "Epoch 65/100\n",
            "59/58 [==============================] - 10s 165ms/step - loss: 0.2443 - accuracy: 0.9206 - val_loss: 0.2935 - val_accuracy: 0.8897\n",
            "Epoch 66/100\n",
            "59/58 [==============================] - 10s 165ms/step - loss: 0.2354 - accuracy: 0.9212 - val_loss: 0.2857 - val_accuracy: 0.9077\n",
            "Epoch 67/100\n",
            "59/58 [==============================] - 10s 165ms/step - loss: 0.2325 - accuracy: 0.9220 - val_loss: 0.2140 - val_accuracy: 0.9359\n",
            "Epoch 68/100\n",
            "59/58 [==============================] - 10s 169ms/step - loss: 0.2248 - accuracy: 0.9308 - val_loss: 0.3095 - val_accuracy: 0.9000\n",
            "Epoch 69/100\n",
            "59/58 [==============================] - 10s 168ms/step - loss: 0.2339 - accuracy: 0.9237 - val_loss: 0.2529 - val_accuracy: 0.9179\n",
            "Epoch 70/100\n",
            "59/58 [==============================] - 10s 166ms/step - loss: 0.2270 - accuracy: 0.9251 - val_loss: 0.3016 - val_accuracy: 0.8974\n",
            "Epoch 71/100\n",
            "59/58 [==============================] - 10s 166ms/step - loss: 0.2560 - accuracy: 0.9153 - val_loss: 0.3357 - val_accuracy: 0.9077\n",
            "Epoch 72/100\n",
            "59/58 [==============================] - 10s 166ms/step - loss: 0.2470 - accuracy: 0.9155 - val_loss: 0.3135 - val_accuracy: 0.9026\n",
            "Epoch 73/100\n",
            "59/58 [==============================] - 10s 165ms/step - loss: 0.2321 - accuracy: 0.9203 - val_loss: 0.2418 - val_accuracy: 0.9231\n",
            "Epoch 74/100\n",
            "59/58 [==============================] - 10s 168ms/step - loss: 0.2283 - accuracy: 0.9184 - val_loss: 0.2466 - val_accuracy: 0.9179\n",
            "Epoch 75/100\n",
            "59/58 [==============================] - 10s 167ms/step - loss: 0.2246 - accuracy: 0.9226 - val_loss: 0.2591 - val_accuracy: 0.9205\n",
            "Epoch 76/100\n",
            "59/58 [==============================] - 10s 166ms/step - loss: 0.2206 - accuracy: 0.9271 - val_loss: 0.2477 - val_accuracy: 0.9077\n",
            "Epoch 77/100\n",
            "59/58 [==============================] - 10s 162ms/step - loss: 0.2456 - accuracy: 0.9169 - val_loss: 0.2684 - val_accuracy: 0.9000\n",
            "Epoch 78/100\n",
            "59/58 [==============================] - 10s 164ms/step - loss: 0.2253 - accuracy: 0.9232 - val_loss: 0.2259 - val_accuracy: 0.9154\n",
            "Epoch 79/100\n",
            "59/58 [==============================] - 9s 160ms/step - loss: 0.2190 - accuracy: 0.9249 - val_loss: 0.2168 - val_accuracy: 0.9462\n",
            "Epoch 80/100\n",
            "59/58 [==============================] - 9s 158ms/step - loss: 0.2189 - accuracy: 0.9263 - val_loss: 0.2556 - val_accuracy: 0.9103\n",
            "Epoch 81/100\n",
            "59/58 [==============================] - 9s 158ms/step - loss: 0.2195 - accuracy: 0.9277 - val_loss: 0.2327 - val_accuracy: 0.9282\n",
            "Epoch 82/100\n",
            "59/58 [==============================] - 9s 158ms/step - loss: 0.2021 - accuracy: 0.9299 - val_loss: 0.2642 - val_accuracy: 0.9103\n",
            "Epoch 83/100\n",
            "59/58 [==============================] - 9s 158ms/step - loss: 0.2359 - accuracy: 0.9215 - val_loss: 0.2706 - val_accuracy: 0.9308\n",
            "Epoch 84/100\n",
            "59/58 [==============================] - 10s 163ms/step - loss: 0.2233 - accuracy: 0.9311 - val_loss: 0.2583 - val_accuracy: 0.8949\n",
            "Epoch 85/100\n",
            "59/58 [==============================] - 10s 172ms/step - loss: 0.1959 - accuracy: 0.9339 - val_loss: 0.2619 - val_accuracy: 0.9179\n",
            "Epoch 86/100\n",
            "59/58 [==============================] - 10s 163ms/step - loss: 0.2232 - accuracy: 0.9280 - val_loss: 0.2460 - val_accuracy: 0.9103\n",
            "Epoch 87/100\n",
            "59/58 [==============================] - 10s 162ms/step - loss: 0.2632 - accuracy: 0.9006 - val_loss: 0.2708 - val_accuracy: 0.9128\n",
            "Epoch 88/100\n",
            "59/58 [==============================] - 9s 159ms/step - loss: 0.2088 - accuracy: 0.9280 - val_loss: 0.3376 - val_accuracy: 0.8821\n",
            "Epoch 89/100\n",
            "59/58 [==============================] - 9s 158ms/step - loss: 0.2210 - accuracy: 0.9198 - val_loss: 0.2441 - val_accuracy: 0.9231\n",
            "Epoch 90/100\n",
            "59/58 [==============================] - 9s 159ms/step - loss: 0.1997 - accuracy: 0.9316 - val_loss: 0.2296 - val_accuracy: 0.9333\n",
            "Epoch 91/100\n",
            "59/58 [==============================] - 10s 161ms/step - loss: 0.2119 - accuracy: 0.9319 - val_loss: 0.2270 - val_accuracy: 0.9436\n",
            "Epoch 92/100\n",
            "59/58 [==============================] - 9s 157ms/step - loss: 0.2185 - accuracy: 0.9240 - val_loss: 0.2662 - val_accuracy: 0.9154\n",
            "Epoch 93/100\n",
            "59/58 [==============================] - 9s 156ms/step - loss: 0.2273 - accuracy: 0.9212 - val_loss: 0.2950 - val_accuracy: 0.8974\n",
            "Epoch 94/100\n",
            "59/58 [==============================] - 9s 158ms/step - loss: 0.2138 - accuracy: 0.9237 - val_loss: 0.2529 - val_accuracy: 0.9231\n",
            "Epoch 95/100\n",
            "59/58 [==============================] - 9s 158ms/step - loss: 0.2116 - accuracy: 0.9314 - val_loss: 0.1959 - val_accuracy: 0.9385\n",
            "Epoch 96/100\n",
            "59/58 [==============================] - 9s 158ms/step - loss: 0.1961 - accuracy: 0.9339 - val_loss: 0.2478 - val_accuracy: 0.9077\n",
            "Epoch 97/100\n",
            "59/58 [==============================] - 9s 160ms/step - loss: 0.2060 - accuracy: 0.9331 - val_loss: 0.2755 - val_accuracy: 0.9077\n",
            "Epoch 98/100\n",
            "59/58 [==============================] - 9s 156ms/step - loss: 0.1893 - accuracy: 0.9311 - val_loss: 0.2360 - val_accuracy: 0.9128\n",
            "Epoch 99/100\n",
            "59/58 [==============================] - 9s 156ms/step - loss: 0.2182 - accuracy: 0.9282 - val_loss: 0.3317 - val_accuracy: 0.8923\n",
            "Epoch 100/100\n",
            "59/58 [==============================] - 9s 154ms/step - loss: 0.2147 - accuracy: 0.9232 - val_loss: 0.2674 - val_accuracy: 0.9154\n"
          ],
          "name": "stdout"
        }
      ]
    },
    {
      "cell_type": "code",
      "metadata": {
        "colab": {
          "base_uri": "https://localhost:8080/",
          "height": 265
        },
        "id": "6z9V1Fy1z-E1",
        "outputId": "168abccd-66e6-4d2c-8155-a86054ad8dee"
      },
      "source": [
        "import seaborn as sns\n",
        "epoch_count = range(1, len(history.history['accuracy']) + 1)\n",
        "sns.lineplot(x=epoch_count,  y=history.history['accuracy'], label='train')\n",
        "sns.lineplot(x=epoch_count,  y=history.history['val_accuracy'], label='valid')\n",
        "plt.show()"
      ],
      "execution_count": null,
      "outputs": [
        {
          "output_type": "display_data",
          "data": {
            "image/png": "[encoded data removed]",
            "text/plain": [
              "<Figure size 432x288 with 1 Axes>"
            ]
          },
          "metadata": {
            "tags": [],
            "needs_background": "light"
          }
        }
      ]
    },
    {
      "cell_type": "code",
      "metadata": {
        "id": "_h9Y8b6a3RKN"
      },
      "source": [
        "test_generator = hyperspectral_image_generator(\n",
        "    files_val,\n",
        "    class_indices = classes,\n",
        "    batch_size=1\n",
        ")"
      ],
      "execution_count": null,
      "outputs": []
    },
    {
      "cell_type": "code",
      "metadata": {
        "id": "0I-3eKgY2jYB"
      },
      "source": [
        "y_predict = model.predict_generator(test_generator,steps=len(files_val))\n",
        "\n",
        "y_true = categorical_label_from_full_file_name(files_val,classes)\n",
        "\n"
      ],
      "execution_count": null,
      "outputs": []
    },
    {
      "cell_type": "code",
      "metadata": {
        "colab": {
          "base_uri": "https://localhost:8080/"
        },
        "id": "kPhgaPMMBkKH",
        "outputId": "4193e73e-8934-4ef0-99bc-a604eca873ce"
      },
      "source": [
        "y_true_index = [ i.argmax() for i in y_true]\n",
        "y_predict_index = [ i.argmax() for i in y_predict]\n",
        "\n",
        "from sklearn.metrics import accuracy_score, balanced_accuracy_score\n",
        "\n",
        "\n",
        "score = balanced_accuracy_score(y_true_index, y_predict_index)\n",
        "\n",
        "b = (( np.array(y_true_index) - np.array(y_predict_index)))\n",
        "c =(b == 0).sum() /len(y_true_index)\n",
        "print(c,score)"
      ],
      "execution_count": null,
      "outputs": [
        {
          "output_type": "stream",
          "text": [
            "0.09487179487179487 0.089504077004077\n"
          ],
          "name": "stdout"
        }
      ]
    },
    {
      "cell_type": "code",
      "metadata": {
        "colab": {
          "base_uri": "https://localhost:8080/",
          "height": 644
        },
        "id": "V-1ODVzWvqXZ",
        "outputId": "6583086e-1d6e-4b41-ee70-a63d8dbb56f0"
      },
      "source": [
        "from sklearn.metrics import confusion_matrix\n",
        "import seaborn as sns\n",
        "import matplotlib.pyplot as plt  \n",
        "\n",
        "print(\"Accuracy\", accuracy_score(y_true_index, y_predict_index))\n",
        "print(\"Balanced Accuracy\", balanced_accuracy_score(y_true_index, y_predict_index))\n",
        "cm =confusion_matrix(y_true_index,y_predict_index)\n",
        "   \n",
        "f,ax= plt.subplots(1,figsize=(10,10))\n",
        "sns.heatmap(\n",
        "    cm, \n",
        "    annot=True,#annot=True to annotate cells\n",
        "    ax = ax,\n",
        "    cmap=\"YlGnBu\",\n",
        "    xticklabels=classes.keys(), \n",
        "    yticklabels=classes.keys(),\n",
        "    fmt=\"4\"); \n",
        "\n",
        "ax.set_xlabel('Predicted labels');\n",
        "ax.set_ylabel('True labels'); "
      ],
      "execution_count": null,
      "outputs": [
        {
          "output_type": "stream",
          "text": [
            "Accuracy 0.09487179487179487\n",
            "Balanced Accuracy 0.089504077004077\n"
          ],
          "name": "stdout"
        },
        {
          "output_type": "display_data",
          "data": {
            "image/png": "[encoded data removed]",
            "text/plain": [
              "<Figure size 720x720 with 2 Axes>"
            ]
          },
          "metadata": {
            "tags": [],
            "needs_background": "light"
          }
        }
      ]
    },
    {
      "cell_type": "code",
      "metadata": {
        "id": "DDpTbdlOB8DF"
      },
      "source": [
        "model.save(\"model_v5.h5\")"
      ],
      "execution_count": null,
      "outputs": []
    },
    {
      "cell_type": "markdown",
      "metadata": {
        "id": "G1B_8QqZBV-X"
      },
      "source": [
        "## Predict test"
      ]
    },
    {
      "cell_type": "code",
      "metadata": {
        "id": "ipS_n9TvBdKM",
        "colab": {
          "base_uri": "https://localhost:8080/"
        },
        "outputId": "f1972eb1-f711-490b-b0ab-c67b60e8c3d9"
      },
      "source": [
        "import csv\n",
        "import pandas as pd\n",
        "testPath = '/content/drive/MyDrive/UBA IA 2020/8-VPC2/TP/imagenes_tp_test'\n",
        "\n",
        "if os.access('Etiquetas.csv', os.F_OK) is False:\n",
        "    !wget https://raw.githubusercontent.com/hernancontigiani/desafiosAgTech2020/main/Etiquetas.csv Etiquetas.csv\n",
        "else:\n",
        "    print(\"archivo ya descargado\")\n",
        "etiquetas = pd.read_csv(\"Etiquetas.csv\")\n",
        "\n",
        "files = glob(testPath + \"/**/*.tif\")\n",
        "\n",
        "global_id = os.path.basename(files[0]).split(\"_\")[1].split(\".\")[0]\n",
        "\n",
        "resultados = []\n",
        "\n",
        "for file in files:\n",
        "    normalization_factor =  0.0001\n",
        "    image = np.array(imread(file), dtype=np.int16)\n",
        "    image = image * normalization_factor\n",
        "    test_img = np.array([image])\n",
        "\n",
        "    image_classes = model.predict(test_img).argmax()\n",
        "    cultivo = num2classes[image_classes]\n",
        "    cultivo_id = etiquetas.loc[etiquetas[\"Cultivo\"] == cultivo, 'CultivoId'].item()\n",
        "\n",
        "    global_id = os.path.basename(file).split(\"_\")[1].split(\".\")[0]\n",
        "    resultados.append({\"GlobalId\": global_id, \"CultivoId\": cultivo_id})\n",
        "\n",
        "with open(\"submit_5c.csv\", \"w\") as csvfile:\n",
        "    header = ['GlobalId', 'CultivoId']\n",
        "    # Crear el objeto para escribir las lineas de archivo\n",
        "    # basado en los nombres de las columnas\n",
        "    writer = csv.DictWriter(csvfile, fieldnames=header)\n",
        "    \n",
        "    for resultado in resultados:\n",
        "        writer.writerow(resultado)"
      ],
      "execution_count": null,
      "outputs": [
        {
          "output_type": "stream",
          "text": [
            "archivo ya descargado\n"
          ],
          "name": "stdout"
        }
      ]
    }
  ]
}