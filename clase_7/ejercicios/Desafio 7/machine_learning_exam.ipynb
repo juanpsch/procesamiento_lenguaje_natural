{
  "nbformat": 4,
  "nbformat_minor": 0,
  "metadata": {
    "colab": {
      "name": "Hernan Contigiani (heart) - ML2",
      "provenance": [],
      "collapsed_sections": [],
      "toc_visible": true
    },
    "kernelspec": {
      "name": "python3",
      "display_name": "Python 3"
    },
    "accelerator": "GPU"
  },
  "cells": [
    {
      "cell_type": "markdown",
      "metadata": {
        "id": "aSTHBEvvdRQp"
      },
      "source": [
        "# Universidad de Buenos Aires\n",
        "# Examen Machine Learning\n",
        "Como propuesta para el proyecto de ML2 se tomará el dataset utilizado en ML1 y el mejor modelo logrado en esa ocación (Randon Forest).\\\n",
        "El objetivo es comparar el accuracy obtenido con el Random Forest entrenado con los conocimientos de ML1, ahora comparando utilizando:\n",
        "- GridSearch y RandomizedSearchCV (tuneo de hiperparámetros)\n",
        "- AutoML (modelos logrados con plataformas cloud como Azure y GCP)\n",
        "\n",
        "El dataset se compone de:\n",
        "\n",
        "- age --> edad en años\n",
        "- sex --> (1 = masculino; 0 = femenino)\n",
        "- cp --> tipo de ataque al corazón\n",
        "- trestbps --> presión arterial en reposo (mm Hg)\n",
        "- chol --> colesterol (mg/dl)\n",
        "- fbs --> fbs - glucemia en ayunas, fbsr > 120 mg/dl = 1(true), sino 0(false)\n",
        "- restecg --> electrocardiográfico en reposo (1=true, 0=false)\n",
        "- thalach --> máxima frecuencia cardíaca alcanzada\n",
        "- exang --> ejercicio indujo angina (1=true, 0=false)\n",
        "- oldpeak --> densenso del ST inducido por el ejercicio\n",
        "- slope --> pico de la pendiente del ST durante el ejercicio\n",
        "- ca --> número de vasos principales (0-3) coloreados por la floración\n",
        "- thal --> transtorno talasemia (3=normal, 6=fixed defect, 7=reversable defect)\n",
        "- target --> tiene enfermedad cardíaca (1=true, 0=false)\n",
        "\n"
      ]
    },
    {
      "cell_type": "code",
      "metadata": {
        "id": "sbuaVx5WhieT"
      },
      "source": [
        "import os\n",
        "import platform\n",
        "\n",
        "import numpy as np\n",
        "import matplotlib.pyplot as plt\n",
        "import seaborn as sns\n",
        "import pandas as pd\n",
        "\n"
      ],
      "execution_count": null,
      "outputs": []
    },
    {
      "cell_type": "markdown",
      "metadata": {
        "id": "DHiydJS6hd68"
      },
      "source": [
        "## 1 - Recolectar los datos"
      ]
    },
    {
      "cell_type": "code",
      "metadata": {
        "id": "CCPcMvX1dD0R",
        "colab": {
          "base_uri": "https://localhost:8080/"
        },
        "outputId": "7100f75b-4083-4ff1-dd11-71fbb8e67c08"
      },
      "source": [
        "if os.access('heart.csv', os.F_OK) is False:\n",
        "    if platform.system() == 'Windows':\n",
        "        !curl https://raw.githubusercontent.com/hernancontigiani/ceia_intro_ia/master/machine_learning_1/proyecto/heart.csv > heart.csv\n",
        "    else:\n",
        "        !wget geart.csv https://raw.githubusercontent.com/hernancontigiani/ceia_intro_ia/master/machine_learning_1/proyecto/heart.csv"
      ],
      "execution_count": null,
      "outputs": [
        {
          "output_type": "stream",
          "text": [
            "--2020-12-21 01:16:41--  http://geart.csv/\n",
            "Resolving geart.csv (geart.csv)... failed: Name or service not known.\n",
            "wget: unable to resolve host address ‘geart.csv’\n",
            "--2020-12-21 01:16:41--  https://raw.githubusercontent.com/hernancontigiani/ceia_intro_ia/master/machine_learning_1/proyecto/heart.csv\n",
            "Resolving raw.githubusercontent.com (raw.githubusercontent.com)... 151.101.0.133, 151.101.64.133, 151.101.128.133, ...\n",
            "Connecting to raw.githubusercontent.com (raw.githubusercontent.com)|151.101.0.133|:443... connected.\n",
            "HTTP request sent, awaiting response... 200 OK\n",
            "Length: 11024 (11K) [text/plain]\n",
            "Saving to: ‘heart.csv’\n",
            "\n",
            "\rheart.csv             0%[                    ]       0  --.-KB/s               \rheart.csv           100%[===================>]  10.77K  --.-KB/s    in 0s      \n",
            "\n",
            "2020-12-21 01:16:41 (129 MB/s) - ‘heart.csv’ saved [11024/11024]\n",
            "\n",
            "FINISHED --2020-12-21 01:16:41--\n",
            "Total wall clock time: 0.2s\n",
            "Downloaded: 1 files, 11K in 0s (129 MB/s)\n"
          ],
          "name": "stdout"
        }
      ]
    },
    {
      "cell_type": "code",
      "metadata": {
        "id": "nDdPwzp3kBzJ"
      },
      "source": [
        "df = pd.read_csv('heart.csv')"
      ],
      "execution_count": null,
      "outputs": []
    },
    {
      "cell_type": "markdown",
      "metadata": {
        "id": "B1i1AwC2dQWe"
      },
      "source": [
        "### 2 - Explorar datos"
      ]
    },
    {
      "cell_type": "code",
      "metadata": {
        "id": "EfsCiiLpkMfw",
        "colab": {
          "base_uri": "https://localhost:8080/",
          "height": 348
        },
        "outputId": "70b8a665-22d9-47e4-d6ce-7db8aa2fe670"
      },
      "source": [
        "des = df.describe()\n",
        "des.loc['Nan'] = df.isna().sum()\n",
        "des.loc['%Nan'] = (df.isna().mean())*100\n",
        "des"
      ],
      "execution_count": null,
      "outputs": [
        {
          "output_type": "execute_result",
          "data": {
            "text/html": [
              "<div>\n",
              "<style scoped>\n",
              "    .dataframe tbody tr th:only-of-type {\n",
              "        vertical-align: middle;\n",
              "    }\n",
              "\n",
              "    .dataframe tbody tr th {\n",
              "        vertical-align: top;\n",
              "    }\n",
              "\n",
              "    .dataframe thead th {\n",
              "        text-align: right;\n",
              "    }\n",
              "</style>\n",
              "<table border=\"1\" class=\"dataframe\">\n",
              "  <thead>\n",
              "    <tr style=\"text-align: right;\">\n",
              "      <th></th>\n",
              "      <th>age</th>\n",
              "      <th>sex</th>\n",
              "      <th>cp</th>\n",
              "      <th>trestbps</th>\n",
              "      <th>chol</th>\n",
              "      <th>fbs</th>\n",
              "      <th>restecg</th>\n",
              "      <th>thalach</th>\n",
              "      <th>exang</th>\n",
              "      <th>oldpeak</th>\n",
              "      <th>slope</th>\n",
              "      <th>ca</th>\n",
              "      <th>thal</th>\n",
              "      <th>target</th>\n",
              "    </tr>\n",
              "  </thead>\n",
              "  <tbody>\n",
              "    <tr>\n",
              "      <th>count</th>\n",
              "      <td>303.000000</td>\n",
              "      <td>303.000000</td>\n",
              "      <td>303.000000</td>\n",
              "      <td>303.000000</td>\n",
              "      <td>303.000000</td>\n",
              "      <td>303.000000</td>\n",
              "      <td>303.000000</td>\n",
              "      <td>303.000000</td>\n",
              "      <td>303.000000</td>\n",
              "      <td>303.000000</td>\n",
              "      <td>303.000000</td>\n",
              "      <td>303.000000</td>\n",
              "      <td>303.000000</td>\n",
              "      <td>303.000000</td>\n",
              "    </tr>\n",
              "    <tr>\n",
              "      <th>mean</th>\n",
              "      <td>54.366337</td>\n",
              "      <td>0.683168</td>\n",
              "      <td>0.966997</td>\n",
              "      <td>131.623762</td>\n",
              "      <td>246.264026</td>\n",
              "      <td>0.148515</td>\n",
              "      <td>0.528053</td>\n",
              "      <td>149.646865</td>\n",
              "      <td>0.326733</td>\n",
              "      <td>1.039604</td>\n",
              "      <td>1.399340</td>\n",
              "      <td>0.729373</td>\n",
              "      <td>2.313531</td>\n",
              "      <td>0.544554</td>\n",
              "    </tr>\n",
              "    <tr>\n",
              "      <th>std</th>\n",
              "      <td>9.082101</td>\n",
              "      <td>0.466011</td>\n",
              "      <td>1.032052</td>\n",
              "      <td>17.538143</td>\n",
              "      <td>51.830751</td>\n",
              "      <td>0.356198</td>\n",
              "      <td>0.525860</td>\n",
              "      <td>22.905161</td>\n",
              "      <td>0.469794</td>\n",
              "      <td>1.161075</td>\n",
              "      <td>0.616226</td>\n",
              "      <td>1.022606</td>\n",
              "      <td>0.612277</td>\n",
              "      <td>0.498835</td>\n",
              "    </tr>\n",
              "    <tr>\n",
              "      <th>min</th>\n",
              "      <td>29.000000</td>\n",
              "      <td>0.000000</td>\n",
              "      <td>0.000000</td>\n",
              "      <td>94.000000</td>\n",
              "      <td>126.000000</td>\n",
              "      <td>0.000000</td>\n",
              "      <td>0.000000</td>\n",
              "      <td>71.000000</td>\n",
              "      <td>0.000000</td>\n",
              "      <td>0.000000</td>\n",
              "      <td>0.000000</td>\n",
              "      <td>0.000000</td>\n",
              "      <td>0.000000</td>\n",
              "      <td>0.000000</td>\n",
              "    </tr>\n",
              "    <tr>\n",
              "      <th>25%</th>\n",
              "      <td>47.500000</td>\n",
              "      <td>0.000000</td>\n",
              "      <td>0.000000</td>\n",
              "      <td>120.000000</td>\n",
              "      <td>211.000000</td>\n",
              "      <td>0.000000</td>\n",
              "      <td>0.000000</td>\n",
              "      <td>133.500000</td>\n",
              "      <td>0.000000</td>\n",
              "      <td>0.000000</td>\n",
              "      <td>1.000000</td>\n",
              "      <td>0.000000</td>\n",
              "      <td>2.000000</td>\n",
              "      <td>0.000000</td>\n",
              "    </tr>\n",
              "    <tr>\n",
              "      <th>50%</th>\n",
              "      <td>55.000000</td>\n",
              "      <td>1.000000</td>\n",
              "      <td>1.000000</td>\n",
              "      <td>130.000000</td>\n",
              "      <td>240.000000</td>\n",
              "      <td>0.000000</td>\n",
              "      <td>1.000000</td>\n",
              "      <td>153.000000</td>\n",
              "      <td>0.000000</td>\n",
              "      <td>0.800000</td>\n",
              "      <td>1.000000</td>\n",
              "      <td>0.000000</td>\n",
              "      <td>2.000000</td>\n",
              "      <td>1.000000</td>\n",
              "    </tr>\n",
              "    <tr>\n",
              "      <th>75%</th>\n",
              "      <td>61.000000</td>\n",
              "      <td>1.000000</td>\n",
              "      <td>2.000000</td>\n",
              "      <td>140.000000</td>\n",
              "      <td>274.500000</td>\n",
              "      <td>0.000000</td>\n",
              "      <td>1.000000</td>\n",
              "      <td>166.000000</td>\n",
              "      <td>1.000000</td>\n",
              "      <td>1.600000</td>\n",
              "      <td>2.000000</td>\n",
              "      <td>1.000000</td>\n",
              "      <td>3.000000</td>\n",
              "      <td>1.000000</td>\n",
              "    </tr>\n",
              "    <tr>\n",
              "      <th>max</th>\n",
              "      <td>77.000000</td>\n",
              "      <td>1.000000</td>\n",
              "      <td>3.000000</td>\n",
              "      <td>200.000000</td>\n",
              "      <td>564.000000</td>\n",
              "      <td>1.000000</td>\n",
              "      <td>2.000000</td>\n",
              "      <td>202.000000</td>\n",
              "      <td>1.000000</td>\n",
              "      <td>6.200000</td>\n",
              "      <td>2.000000</td>\n",
              "      <td>4.000000</td>\n",
              "      <td>3.000000</td>\n",
              "      <td>1.000000</td>\n",
              "    </tr>\n",
              "    <tr>\n",
              "      <th>Nan</th>\n",
              "      <td>0.000000</td>\n",
              "      <td>0.000000</td>\n",
              "      <td>0.000000</td>\n",
              "      <td>0.000000</td>\n",
              "      <td>0.000000</td>\n",
              "      <td>0.000000</td>\n",
              "      <td>0.000000</td>\n",
              "      <td>0.000000</td>\n",
              "      <td>0.000000</td>\n",
              "      <td>0.000000</td>\n",
              "      <td>0.000000</td>\n",
              "      <td>0.000000</td>\n",
              "      <td>0.000000</td>\n",
              "      <td>0.000000</td>\n",
              "    </tr>\n",
              "    <tr>\n",
              "      <th>%Nan</th>\n",
              "      <td>0.000000</td>\n",
              "      <td>0.000000</td>\n",
              "      <td>0.000000</td>\n",
              "      <td>0.000000</td>\n",
              "      <td>0.000000</td>\n",
              "      <td>0.000000</td>\n",
              "      <td>0.000000</td>\n",
              "      <td>0.000000</td>\n",
              "      <td>0.000000</td>\n",
              "      <td>0.000000</td>\n",
              "      <td>0.000000</td>\n",
              "      <td>0.000000</td>\n",
              "      <td>0.000000</td>\n",
              "      <td>0.000000</td>\n",
              "    </tr>\n",
              "  </tbody>\n",
              "</table>\n",
              "</div>"
            ],
            "text/plain": [
              "              age         sex          cp  ...          ca        thal      target\n",
              "count  303.000000  303.000000  303.000000  ...  303.000000  303.000000  303.000000\n",
              "mean    54.366337    0.683168    0.966997  ...    0.729373    2.313531    0.544554\n",
              "std      9.082101    0.466011    1.032052  ...    1.022606    0.612277    0.498835\n",
              "min     29.000000    0.000000    0.000000  ...    0.000000    0.000000    0.000000\n",
              "25%     47.500000    0.000000    0.000000  ...    0.000000    2.000000    0.000000\n",
              "50%     55.000000    1.000000    1.000000  ...    0.000000    2.000000    1.000000\n",
              "75%     61.000000    1.000000    2.000000  ...    1.000000    3.000000    1.000000\n",
              "max     77.000000    1.000000    3.000000  ...    4.000000    3.000000    1.000000\n",
              "Nan      0.000000    0.000000    0.000000  ...    0.000000    0.000000    0.000000\n",
              "%Nan     0.000000    0.000000    0.000000  ...    0.000000    0.000000    0.000000\n",
              "\n",
              "[10 rows x 14 columns]"
            ]
          },
          "metadata": {
            "tags": []
          },
          "execution_count": 5
        }
      ]
    },
    {
      "cell_type": "markdown",
      "metadata": {
        "id": "GwmUvsPKqKW7"
      },
      "source": [
        "Se puede ver que no hay elementos faltantes (NaN) como tampoco hay variables categóricas texto."
      ]
    },
    {
      "cell_type": "code",
      "metadata": {
        "id": "d5HjKun4qoOX",
        "colab": {
          "base_uri": "https://localhost:8080/"
        },
        "outputId": "0b367ebb-e312-4e48-c328-bcb401785235"
      },
      "source": [
        "# Cantidad de filas a analizar\n",
        "print('Cantidad de filas del dataset:', df.shape[0])"
      ],
      "execution_count": null,
      "outputs": [
        {
          "output_type": "stream",
          "text": [
            "Cantidad de filas del dataset: 303\n"
          ],
          "name": "stdout"
        }
      ]
    },
    {
      "cell_type": "code",
      "metadata": {
        "id": "sWfDrm51qSUy",
        "colab": {
          "base_uri": "https://localhost:8080/"
        },
        "outputId": "8928637d-981d-4f19-d37b-7f92eafe9311"
      },
      "source": [
        "# Analizar que tan balanceado esta el dataset respecto a taget\n",
        "df['target'].value_counts()"
      ],
      "execution_count": null,
      "outputs": [
        {
          "output_type": "execute_result",
          "data": {
            "text/plain": [
              "1    165\n",
              "0    138\n",
              "Name: target, dtype: int64"
            ]
          },
          "metadata": {
            "tags": []
          },
          "execution_count": 7
        }
      ]
    },
    {
      "cell_type": "markdown",
      "metadata": {
        "id": "I_tbm-BSq293"
      },
      "source": [
        "Se puede ver que el dataset está bastante balanceado, hay más casos con enfemedad cardíaca."
      ]
    },
    {
      "cell_type": "code",
      "metadata": {
        "id": "yUhOpWJ-j__R",
        "colab": {
          "base_uri": "https://localhost:8080/",
          "height": 198
        },
        "outputId": "5cc06a18-2788-4958-f98c-f73b18dad8a2"
      },
      "source": [
        "df.head()"
      ],
      "execution_count": null,
      "outputs": [
        {
          "output_type": "execute_result",
          "data": {
            "text/html": [
              "<div>\n",
              "<style scoped>\n",
              "    .dataframe tbody tr th:only-of-type {\n",
              "        vertical-align: middle;\n",
              "    }\n",
              "\n",
              "    .dataframe tbody tr th {\n",
              "        vertical-align: top;\n",
              "    }\n",
              "\n",
              "    .dataframe thead th {\n",
              "        text-align: right;\n",
              "    }\n",
              "</style>\n",
              "<table border=\"1\" class=\"dataframe\">\n",
              "  <thead>\n",
              "    <tr style=\"text-align: right;\">\n",
              "      <th></th>\n",
              "      <th>age</th>\n",
              "      <th>sex</th>\n",
              "      <th>cp</th>\n",
              "      <th>trestbps</th>\n",
              "      <th>chol</th>\n",
              "      <th>fbs</th>\n",
              "      <th>restecg</th>\n",
              "      <th>thalach</th>\n",
              "      <th>exang</th>\n",
              "      <th>oldpeak</th>\n",
              "      <th>slope</th>\n",
              "      <th>ca</th>\n",
              "      <th>thal</th>\n",
              "      <th>target</th>\n",
              "    </tr>\n",
              "  </thead>\n",
              "  <tbody>\n",
              "    <tr>\n",
              "      <th>0</th>\n",
              "      <td>63</td>\n",
              "      <td>1</td>\n",
              "      <td>3</td>\n",
              "      <td>145</td>\n",
              "      <td>233</td>\n",
              "      <td>1</td>\n",
              "      <td>0</td>\n",
              "      <td>150</td>\n",
              "      <td>0</td>\n",
              "      <td>2.3</td>\n",
              "      <td>0</td>\n",
              "      <td>0</td>\n",
              "      <td>1</td>\n",
              "      <td>1</td>\n",
              "    </tr>\n",
              "    <tr>\n",
              "      <th>1</th>\n",
              "      <td>37</td>\n",
              "      <td>1</td>\n",
              "      <td>2</td>\n",
              "      <td>130</td>\n",
              "      <td>250</td>\n",
              "      <td>0</td>\n",
              "      <td>1</td>\n",
              "      <td>187</td>\n",
              "      <td>0</td>\n",
              "      <td>3.5</td>\n",
              "      <td>0</td>\n",
              "      <td>0</td>\n",
              "      <td>2</td>\n",
              "      <td>1</td>\n",
              "    </tr>\n",
              "    <tr>\n",
              "      <th>2</th>\n",
              "      <td>41</td>\n",
              "      <td>0</td>\n",
              "      <td>1</td>\n",
              "      <td>130</td>\n",
              "      <td>204</td>\n",
              "      <td>0</td>\n",
              "      <td>0</td>\n",
              "      <td>172</td>\n",
              "      <td>0</td>\n",
              "      <td>1.4</td>\n",
              "      <td>2</td>\n",
              "      <td>0</td>\n",
              "      <td>2</td>\n",
              "      <td>1</td>\n",
              "    </tr>\n",
              "    <tr>\n",
              "      <th>3</th>\n",
              "      <td>56</td>\n",
              "      <td>1</td>\n",
              "      <td>1</td>\n",
              "      <td>120</td>\n",
              "      <td>236</td>\n",
              "      <td>0</td>\n",
              "      <td>1</td>\n",
              "      <td>178</td>\n",
              "      <td>0</td>\n",
              "      <td>0.8</td>\n",
              "      <td>2</td>\n",
              "      <td>0</td>\n",
              "      <td>2</td>\n",
              "      <td>1</td>\n",
              "    </tr>\n",
              "    <tr>\n",
              "      <th>4</th>\n",
              "      <td>57</td>\n",
              "      <td>0</td>\n",
              "      <td>0</td>\n",
              "      <td>120</td>\n",
              "      <td>354</td>\n",
              "      <td>0</td>\n",
              "      <td>1</td>\n",
              "      <td>163</td>\n",
              "      <td>1</td>\n",
              "      <td>0.6</td>\n",
              "      <td>2</td>\n",
              "      <td>0</td>\n",
              "      <td>2</td>\n",
              "      <td>1</td>\n",
              "    </tr>\n",
              "  </tbody>\n",
              "</table>\n",
              "</div>"
            ],
            "text/plain": [
              "   age  sex  cp  trestbps  chol  fbs  ...  exang  oldpeak  slope  ca  thal  target\n",
              "0   63    1   3       145   233    1  ...      0      2.3      0   0     1       1\n",
              "1   37    1   2       130   250    0  ...      0      3.5      0   0     2       1\n",
              "2   41    0   1       130   204    0  ...      0      1.4      2   0     2       1\n",
              "3   56    1   1       120   236    0  ...      0      0.8      2   0     2       1\n",
              "4   57    0   0       120   354    0  ...      1      0.6      2   0     2       1\n",
              "\n",
              "[5 rows x 14 columns]"
            ]
          },
          "metadata": {
            "tags": []
          },
          "execution_count": 8
        }
      ]
    },
    {
      "cell_type": "markdown",
      "metadata": {
        "id": "WBSNQS-mrq94"
      },
      "source": [
        "## 3 - Procesamiento de los datos\n",
        "Hay datos que corresponden a multiclase, para mejorar su tratamiento por el modelo realizaremos OneHotEncoding para separar las clases en columnas. Clases para codigicar:\n",
        "- cp\n",
        "- slope\n",
        "- thal\n",
        "\n",
        "Otros tipos de datos entre las columnas:\n",
        "\n",
        "- Hay otras columnas (como sex, restecg) que son clases binarias por lo que no es necesario una transformación\n",
        "- Hay otras columnas (como age, ca) que representan una \"cantidad\" por lo que no es necesario codigicar pero sin normalizar."
      ]
    },
    {
      "cell_type": "code",
      "metadata": {
        "id": "xAztxKcOrtur",
        "colab": {
          "base_uri": "https://localhost:8080/"
        },
        "outputId": "caeeb862-43bc-4cf3-9097-34671b245304"
      },
      "source": [
        "df['cp'].value_counts()"
      ],
      "execution_count": null,
      "outputs": [
        {
          "output_type": "execute_result",
          "data": {
            "text/plain": [
              "0    143\n",
              "2     87\n",
              "1     50\n",
              "3     23\n",
              "Name: cp, dtype: int64"
            ]
          },
          "metadata": {
            "tags": []
          },
          "execution_count": 9
        }
      ]
    },
    {
      "cell_type": "code",
      "metadata": {
        "id": "3Ho2RZ_wuFBg",
        "colab": {
          "base_uri": "https://localhost:8080/",
          "height": 198
        },
        "outputId": "c4b7386c-f277-4e85-ae56-228b155e2426"
      },
      "source": [
        "cp = pd.get_dummies(df['cp'], prefix = \"cp\")\n",
        "cp.head()"
      ],
      "execution_count": null,
      "outputs": [
        {
          "output_type": "execute_result",
          "data": {
            "text/html": [
              "<div>\n",
              "<style scoped>\n",
              "    .dataframe tbody tr th:only-of-type {\n",
              "        vertical-align: middle;\n",
              "    }\n",
              "\n",
              "    .dataframe tbody tr th {\n",
              "        vertical-align: top;\n",
              "    }\n",
              "\n",
              "    .dataframe thead th {\n",
              "        text-align: right;\n",
              "    }\n",
              "</style>\n",
              "<table border=\"1\" class=\"dataframe\">\n",
              "  <thead>\n",
              "    <tr style=\"text-align: right;\">\n",
              "      <th></th>\n",
              "      <th>cp_0</th>\n",
              "      <th>cp_1</th>\n",
              "      <th>cp_2</th>\n",
              "      <th>cp_3</th>\n",
              "    </tr>\n",
              "  </thead>\n",
              "  <tbody>\n",
              "    <tr>\n",
              "      <th>0</th>\n",
              "      <td>0</td>\n",
              "      <td>0</td>\n",
              "      <td>0</td>\n",
              "      <td>1</td>\n",
              "    </tr>\n",
              "    <tr>\n",
              "      <th>1</th>\n",
              "      <td>0</td>\n",
              "      <td>0</td>\n",
              "      <td>1</td>\n",
              "      <td>0</td>\n",
              "    </tr>\n",
              "    <tr>\n",
              "      <th>2</th>\n",
              "      <td>0</td>\n",
              "      <td>1</td>\n",
              "      <td>0</td>\n",
              "      <td>0</td>\n",
              "    </tr>\n",
              "    <tr>\n",
              "      <th>3</th>\n",
              "      <td>0</td>\n",
              "      <td>1</td>\n",
              "      <td>0</td>\n",
              "      <td>0</td>\n",
              "    </tr>\n",
              "    <tr>\n",
              "      <th>4</th>\n",
              "      <td>1</td>\n",
              "      <td>0</td>\n",
              "      <td>0</td>\n",
              "      <td>0</td>\n",
              "    </tr>\n",
              "  </tbody>\n",
              "</table>\n",
              "</div>"
            ],
            "text/plain": [
              "   cp_0  cp_1  cp_2  cp_3\n",
              "0     0     0     0     1\n",
              "1     0     0     1     0\n",
              "2     0     1     0     0\n",
              "3     0     1     0     0\n",
              "4     1     0     0     0"
            ]
          },
          "metadata": {
            "tags": []
          },
          "execution_count": 10
        }
      ]
    },
    {
      "cell_type": "markdown",
      "metadata": {
        "id": "6GeotPtBu-PB"
      },
      "source": [
        "Este mismo trabajo se realiza con el resto de las columnas multiclase"
      ]
    },
    {
      "cell_type": "code",
      "metadata": {
        "id": "fmA-7CA6rB0U",
        "colab": {
          "base_uri": "https://localhost:8080/",
          "height": 198
        },
        "outputId": "b99820f1-6f0b-46b6-caaa-7ebb85b1a260"
      },
      "source": [
        "slope = pd.get_dummies(df['slope'], prefix = \"slope\")\n",
        "slope.head()"
      ],
      "execution_count": null,
      "outputs": [
        {
          "output_type": "execute_result",
          "data": {
            "text/html": [
              "<div>\n",
              "<style scoped>\n",
              "    .dataframe tbody tr th:only-of-type {\n",
              "        vertical-align: middle;\n",
              "    }\n",
              "\n",
              "    .dataframe tbody tr th {\n",
              "        vertical-align: top;\n",
              "    }\n",
              "\n",
              "    .dataframe thead th {\n",
              "        text-align: right;\n",
              "    }\n",
              "</style>\n",
              "<table border=\"1\" class=\"dataframe\">\n",
              "  <thead>\n",
              "    <tr style=\"text-align: right;\">\n",
              "      <th></th>\n",
              "      <th>slope_0</th>\n",
              "      <th>slope_1</th>\n",
              "      <th>slope_2</th>\n",
              "    </tr>\n",
              "  </thead>\n",
              "  <tbody>\n",
              "    <tr>\n",
              "      <th>0</th>\n",
              "      <td>1</td>\n",
              "      <td>0</td>\n",
              "      <td>0</td>\n",
              "    </tr>\n",
              "    <tr>\n",
              "      <th>1</th>\n",
              "      <td>1</td>\n",
              "      <td>0</td>\n",
              "      <td>0</td>\n",
              "    </tr>\n",
              "    <tr>\n",
              "      <th>2</th>\n",
              "      <td>0</td>\n",
              "      <td>0</td>\n",
              "      <td>1</td>\n",
              "    </tr>\n",
              "    <tr>\n",
              "      <th>3</th>\n",
              "      <td>0</td>\n",
              "      <td>0</td>\n",
              "      <td>1</td>\n",
              "    </tr>\n",
              "    <tr>\n",
              "      <th>4</th>\n",
              "      <td>0</td>\n",
              "      <td>0</td>\n",
              "      <td>1</td>\n",
              "    </tr>\n",
              "  </tbody>\n",
              "</table>\n",
              "</div>"
            ],
            "text/plain": [
              "   slope_0  slope_1  slope_2\n",
              "0        1        0        0\n",
              "1        1        0        0\n",
              "2        0        0        1\n",
              "3        0        0        1\n",
              "4        0        0        1"
            ]
          },
          "metadata": {
            "tags": []
          },
          "execution_count": 11
        }
      ]
    },
    {
      "cell_type": "code",
      "metadata": {
        "id": "J6oB7hc_wGKu",
        "colab": {
          "base_uri": "https://localhost:8080/",
          "height": 198
        },
        "outputId": "359c2fcd-61e9-4184-dd0b-db3c21ae0285"
      },
      "source": [
        "thal = pd.get_dummies(df['thal'], prefix = \"thal\")\n",
        "thal.head()"
      ],
      "execution_count": null,
      "outputs": [
        {
          "output_type": "execute_result",
          "data": {
            "text/html": [
              "<div>\n",
              "<style scoped>\n",
              "    .dataframe tbody tr th:only-of-type {\n",
              "        vertical-align: middle;\n",
              "    }\n",
              "\n",
              "    .dataframe tbody tr th {\n",
              "        vertical-align: top;\n",
              "    }\n",
              "\n",
              "    .dataframe thead th {\n",
              "        text-align: right;\n",
              "    }\n",
              "</style>\n",
              "<table border=\"1\" class=\"dataframe\">\n",
              "  <thead>\n",
              "    <tr style=\"text-align: right;\">\n",
              "      <th></th>\n",
              "      <th>thal_0</th>\n",
              "      <th>thal_1</th>\n",
              "      <th>thal_2</th>\n",
              "      <th>thal_3</th>\n",
              "    </tr>\n",
              "  </thead>\n",
              "  <tbody>\n",
              "    <tr>\n",
              "      <th>0</th>\n",
              "      <td>0</td>\n",
              "      <td>1</td>\n",
              "      <td>0</td>\n",
              "      <td>0</td>\n",
              "    </tr>\n",
              "    <tr>\n",
              "      <th>1</th>\n",
              "      <td>0</td>\n",
              "      <td>0</td>\n",
              "      <td>1</td>\n",
              "      <td>0</td>\n",
              "    </tr>\n",
              "    <tr>\n",
              "      <th>2</th>\n",
              "      <td>0</td>\n",
              "      <td>0</td>\n",
              "      <td>1</td>\n",
              "      <td>0</td>\n",
              "    </tr>\n",
              "    <tr>\n",
              "      <th>3</th>\n",
              "      <td>0</td>\n",
              "      <td>0</td>\n",
              "      <td>1</td>\n",
              "      <td>0</td>\n",
              "    </tr>\n",
              "    <tr>\n",
              "      <th>4</th>\n",
              "      <td>0</td>\n",
              "      <td>0</td>\n",
              "      <td>1</td>\n",
              "      <td>0</td>\n",
              "    </tr>\n",
              "  </tbody>\n",
              "</table>\n",
              "</div>"
            ],
            "text/plain": [
              "   thal_0  thal_1  thal_2  thal_3\n",
              "0       0       1       0       0\n",
              "1       0       0       1       0\n",
              "2       0       0       1       0\n",
              "3       0       0       1       0\n",
              "4       0       0       1       0"
            ]
          },
          "metadata": {
            "tags": []
          },
          "execution_count": 12
        }
      ]
    },
    {
      "cell_type": "code",
      "metadata": {
        "id": "HK_20kroymZU"
      },
      "source": [
        "# Descartar las viejas coulmnas de estos datos:\n",
        "df2 = df.drop(['cp', 'slope', 'thal'], axis=1)"
      ],
      "execution_count": null,
      "outputs": []
    },
    {
      "cell_type": "code",
      "metadata": {
        "id": "4Ay-yIyozN03",
        "colab": {
          "base_uri": "https://localhost:8080/",
          "height": 407
        },
        "outputId": "d1191f4a-6b34-439c-e984-6b947535ff22"
      },
      "source": [
        "# Agregar las nuevas columnas codigicada como OneHoyEncoding\n",
        "df2 = df2.join([cp, slope, thal])\n",
        "df2"
      ],
      "execution_count": null,
      "outputs": [
        {
          "output_type": "execute_result",
          "data": {
            "text/html": [
              "<div>\n",
              "<style scoped>\n",
              "    .dataframe tbody tr th:only-of-type {\n",
              "        vertical-align: middle;\n",
              "    }\n",
              "\n",
              "    .dataframe tbody tr th {\n",
              "        vertical-align: top;\n",
              "    }\n",
              "\n",
              "    .dataframe thead th {\n",
              "        text-align: right;\n",
              "    }\n",
              "</style>\n",
              "<table border=\"1\" class=\"dataframe\">\n",
              "  <thead>\n",
              "    <tr style=\"text-align: right;\">\n",
              "      <th></th>\n",
              "      <th>age</th>\n",
              "      <th>sex</th>\n",
              "      <th>trestbps</th>\n",
              "      <th>chol</th>\n",
              "      <th>fbs</th>\n",
              "      <th>restecg</th>\n",
              "      <th>thalach</th>\n",
              "      <th>exang</th>\n",
              "      <th>oldpeak</th>\n",
              "      <th>ca</th>\n",
              "      <th>target</th>\n",
              "      <th>cp_0</th>\n",
              "      <th>cp_1</th>\n",
              "      <th>cp_2</th>\n",
              "      <th>cp_3</th>\n",
              "      <th>slope_0</th>\n",
              "      <th>slope_1</th>\n",
              "      <th>slope_2</th>\n",
              "      <th>thal_0</th>\n",
              "      <th>thal_1</th>\n",
              "      <th>thal_2</th>\n",
              "      <th>thal_3</th>\n",
              "    </tr>\n",
              "  </thead>\n",
              "  <tbody>\n",
              "    <tr>\n",
              "      <th>0</th>\n",
              "      <td>63</td>\n",
              "      <td>1</td>\n",
              "      <td>145</td>\n",
              "      <td>233</td>\n",
              "      <td>1</td>\n",
              "      <td>0</td>\n",
              "      <td>150</td>\n",
              "      <td>0</td>\n",
              "      <td>2.3</td>\n",
              "      <td>0</td>\n",
              "      <td>1</td>\n",
              "      <td>0</td>\n",
              "      <td>0</td>\n",
              "      <td>0</td>\n",
              "      <td>1</td>\n",
              "      <td>1</td>\n",
              "      <td>0</td>\n",
              "      <td>0</td>\n",
              "      <td>0</td>\n",
              "      <td>1</td>\n",
              "      <td>0</td>\n",
              "      <td>0</td>\n",
              "    </tr>\n",
              "    <tr>\n",
              "      <th>1</th>\n",
              "      <td>37</td>\n",
              "      <td>1</td>\n",
              "      <td>130</td>\n",
              "      <td>250</td>\n",
              "      <td>0</td>\n",
              "      <td>1</td>\n",
              "      <td>187</td>\n",
              "      <td>0</td>\n",
              "      <td>3.5</td>\n",
              "      <td>0</td>\n",
              "      <td>1</td>\n",
              "      <td>0</td>\n",
              "      <td>0</td>\n",
              "      <td>1</td>\n",
              "      <td>0</td>\n",
              "      <td>1</td>\n",
              "      <td>0</td>\n",
              "      <td>0</td>\n",
              "      <td>0</td>\n",
              "      <td>0</td>\n",
              "      <td>1</td>\n",
              "      <td>0</td>\n",
              "    </tr>\n",
              "    <tr>\n",
              "      <th>2</th>\n",
              "      <td>41</td>\n",
              "      <td>0</td>\n",
              "      <td>130</td>\n",
              "      <td>204</td>\n",
              "      <td>0</td>\n",
              "      <td>0</td>\n",
              "      <td>172</td>\n",
              "      <td>0</td>\n",
              "      <td>1.4</td>\n",
              "      <td>0</td>\n",
              "      <td>1</td>\n",
              "      <td>0</td>\n",
              "      <td>1</td>\n",
              "      <td>0</td>\n",
              "      <td>0</td>\n",
              "      <td>0</td>\n",
              "      <td>0</td>\n",
              "      <td>1</td>\n",
              "      <td>0</td>\n",
              "      <td>0</td>\n",
              "      <td>1</td>\n",
              "      <td>0</td>\n",
              "    </tr>\n",
              "    <tr>\n",
              "      <th>3</th>\n",
              "      <td>56</td>\n",
              "      <td>1</td>\n",
              "      <td>120</td>\n",
              "      <td>236</td>\n",
              "      <td>0</td>\n",
              "      <td>1</td>\n",
              "      <td>178</td>\n",
              "      <td>0</td>\n",
              "      <td>0.8</td>\n",
              "      <td>0</td>\n",
              "      <td>1</td>\n",
              "      <td>0</td>\n",
              "      <td>1</td>\n",
              "      <td>0</td>\n",
              "      <td>0</td>\n",
              "      <td>0</td>\n",
              "      <td>0</td>\n",
              "      <td>1</td>\n",
              "      <td>0</td>\n",
              "      <td>0</td>\n",
              "      <td>1</td>\n",
              "      <td>0</td>\n",
              "    </tr>\n",
              "    <tr>\n",
              "      <th>4</th>\n",
              "      <td>57</td>\n",
              "      <td>0</td>\n",
              "      <td>120</td>\n",
              "      <td>354</td>\n",
              "      <td>0</td>\n",
              "      <td>1</td>\n",
              "      <td>163</td>\n",
              "      <td>1</td>\n",
              "      <td>0.6</td>\n",
              "      <td>0</td>\n",
              "      <td>1</td>\n",
              "      <td>1</td>\n",
              "      <td>0</td>\n",
              "      <td>0</td>\n",
              "      <td>0</td>\n",
              "      <td>0</td>\n",
              "      <td>0</td>\n",
              "      <td>1</td>\n",
              "      <td>0</td>\n",
              "      <td>0</td>\n",
              "      <td>1</td>\n",
              "      <td>0</td>\n",
              "    </tr>\n",
              "    <tr>\n",
              "      <th>...</th>\n",
              "      <td>...</td>\n",
              "      <td>...</td>\n",
              "      <td>...</td>\n",
              "      <td>...</td>\n",
              "      <td>...</td>\n",
              "      <td>...</td>\n",
              "      <td>...</td>\n",
              "      <td>...</td>\n",
              "      <td>...</td>\n",
              "      <td>...</td>\n",
              "      <td>...</td>\n",
              "      <td>...</td>\n",
              "      <td>...</td>\n",
              "      <td>...</td>\n",
              "      <td>...</td>\n",
              "      <td>...</td>\n",
              "      <td>...</td>\n",
              "      <td>...</td>\n",
              "      <td>...</td>\n",
              "      <td>...</td>\n",
              "      <td>...</td>\n",
              "      <td>...</td>\n",
              "    </tr>\n",
              "    <tr>\n",
              "      <th>298</th>\n",
              "      <td>57</td>\n",
              "      <td>0</td>\n",
              "      <td>140</td>\n",
              "      <td>241</td>\n",
              "      <td>0</td>\n",
              "      <td>1</td>\n",
              "      <td>123</td>\n",
              "      <td>1</td>\n",
              "      <td>0.2</td>\n",
              "      <td>0</td>\n",
              "      <td>0</td>\n",
              "      <td>1</td>\n",
              "      <td>0</td>\n",
              "      <td>0</td>\n",
              "      <td>0</td>\n",
              "      <td>0</td>\n",
              "      <td>1</td>\n",
              "      <td>0</td>\n",
              "      <td>0</td>\n",
              "      <td>0</td>\n",
              "      <td>0</td>\n",
              "      <td>1</td>\n",
              "    </tr>\n",
              "    <tr>\n",
              "      <th>299</th>\n",
              "      <td>45</td>\n",
              "      <td>1</td>\n",
              "      <td>110</td>\n",
              "      <td>264</td>\n",
              "      <td>0</td>\n",
              "      <td>1</td>\n",
              "      <td>132</td>\n",
              "      <td>0</td>\n",
              "      <td>1.2</td>\n",
              "      <td>0</td>\n",
              "      <td>0</td>\n",
              "      <td>0</td>\n",
              "      <td>0</td>\n",
              "      <td>0</td>\n",
              "      <td>1</td>\n",
              "      <td>0</td>\n",
              "      <td>1</td>\n",
              "      <td>0</td>\n",
              "      <td>0</td>\n",
              "      <td>0</td>\n",
              "      <td>0</td>\n",
              "      <td>1</td>\n",
              "    </tr>\n",
              "    <tr>\n",
              "      <th>300</th>\n",
              "      <td>68</td>\n",
              "      <td>1</td>\n",
              "      <td>144</td>\n",
              "      <td>193</td>\n",
              "      <td>1</td>\n",
              "      <td>1</td>\n",
              "      <td>141</td>\n",
              "      <td>0</td>\n",
              "      <td>3.4</td>\n",
              "      <td>2</td>\n",
              "      <td>0</td>\n",
              "      <td>1</td>\n",
              "      <td>0</td>\n",
              "      <td>0</td>\n",
              "      <td>0</td>\n",
              "      <td>0</td>\n",
              "      <td>1</td>\n",
              "      <td>0</td>\n",
              "      <td>0</td>\n",
              "      <td>0</td>\n",
              "      <td>0</td>\n",
              "      <td>1</td>\n",
              "    </tr>\n",
              "    <tr>\n",
              "      <th>301</th>\n",
              "      <td>57</td>\n",
              "      <td>1</td>\n",
              "      <td>130</td>\n",
              "      <td>131</td>\n",
              "      <td>0</td>\n",
              "      <td>1</td>\n",
              "      <td>115</td>\n",
              "      <td>1</td>\n",
              "      <td>1.2</td>\n",
              "      <td>1</td>\n",
              "      <td>0</td>\n",
              "      <td>1</td>\n",
              "      <td>0</td>\n",
              "      <td>0</td>\n",
              "      <td>0</td>\n",
              "      <td>0</td>\n",
              "      <td>1</td>\n",
              "      <td>0</td>\n",
              "      <td>0</td>\n",
              "      <td>0</td>\n",
              "      <td>0</td>\n",
              "      <td>1</td>\n",
              "    </tr>\n",
              "    <tr>\n",
              "      <th>302</th>\n",
              "      <td>57</td>\n",
              "      <td>0</td>\n",
              "      <td>130</td>\n",
              "      <td>236</td>\n",
              "      <td>0</td>\n",
              "      <td>0</td>\n",
              "      <td>174</td>\n",
              "      <td>0</td>\n",
              "      <td>0.0</td>\n",
              "      <td>1</td>\n",
              "      <td>0</td>\n",
              "      <td>0</td>\n",
              "      <td>1</td>\n",
              "      <td>0</td>\n",
              "      <td>0</td>\n",
              "      <td>0</td>\n",
              "      <td>1</td>\n",
              "      <td>0</td>\n",
              "      <td>0</td>\n",
              "      <td>0</td>\n",
              "      <td>1</td>\n",
              "      <td>0</td>\n",
              "    </tr>\n",
              "  </tbody>\n",
              "</table>\n",
              "<p>303 rows × 22 columns</p>\n",
              "</div>"
            ],
            "text/plain": [
              "     age  sex  trestbps  chol  fbs  ...  slope_2  thal_0  thal_1  thal_2  thal_3\n",
              "0     63    1       145   233    1  ...        0       0       1       0       0\n",
              "1     37    1       130   250    0  ...        0       0       0       1       0\n",
              "2     41    0       130   204    0  ...        1       0       0       1       0\n",
              "3     56    1       120   236    0  ...        1       0       0       1       0\n",
              "4     57    0       120   354    0  ...        1       0       0       1       0\n",
              "..   ...  ...       ...   ...  ...  ...      ...     ...     ...     ...     ...\n",
              "298   57    0       140   241    0  ...        0       0       0       0       1\n",
              "299   45    1       110   264    0  ...        0       0       0       0       1\n",
              "300   68    1       144   193    1  ...        0       0       0       0       1\n",
              "301   57    1       130   131    0  ...        0       0       0       0       1\n",
              "302   57    0       130   236    0  ...        0       0       0       1       0\n",
              "\n",
              "[303 rows x 22 columns]"
            ]
          },
          "metadata": {
            "tags": []
          },
          "execution_count": 14
        }
      ]
    },
    {
      "cell_type": "code",
      "metadata": {
        "id": "CxtuHS8j2Hpc"
      },
      "source": [
        "# Separar los datos en entrada/feature (X) y salida/target (y)\n",
        "y = df2['target'].values\n",
        "X_data = df2.drop(['target'], axis=1)"
      ],
      "execution_count": null,
      "outputs": []
    },
    {
      "cell_type": "code",
      "metadata": {
        "id": "KV0DveK_0AIL",
        "colab": {
          "base_uri": "https://localhost:8080/"
        },
        "outputId": "013f058e-cfb9-4c3a-8053-7da77596cf42"
      },
      "source": [
        "# Por último, normalizamos la data de entrada\n",
        "from sklearn import preprocessing\n",
        "min_max_scaler = preprocessing.MinMaxScaler()\n",
        "\n",
        "X = min_max_scaler.fit_transform(X_data)\n",
        "print(X)"
      ],
      "execution_count": null,
      "outputs": [
        {
          "output_type": "stream",
          "text": [
            "[[0.70833333 1.         0.48113208 ... 1.         0.         0.        ]\n",
            " [0.16666667 1.         0.33962264 ... 0.         1.         0.        ]\n",
            " [0.25       0.         0.33962264 ... 0.         1.         0.        ]\n",
            " ...\n",
            " [0.8125     1.         0.47169811 ... 0.         0.         1.        ]\n",
            " [0.58333333 1.         0.33962264 ... 0.         0.         1.        ]\n",
            " [0.58333333 0.         0.33962264 ... 0.         1.         0.        ]]\n"
          ],
          "name": "stdout"
        }
      ]
    },
    {
      "cell_type": "markdown",
      "metadata": {
        "id": "5KaZ6wClz63V"
      },
      "source": [
        "## 4 - Preparar los datos de entrenamiento\n",
        "- Ahora que ya tenemos todos los datos, podemos compararlos en una matriz de correlación para ver el aporte de cada feature a la salida.\n",
        "- Luego separar los datos en datos de train y de test para probar contra \"N\" modelos.\n"
      ]
    },
    {
      "cell_type": "code",
      "metadata": {
        "id": "t9D-4Rs63Y_k",
        "colab": {
          "base_uri": "https://localhost:8080/",
          "height": 626
        },
        "outputId": "01e8b45c-6888-4862-c6b8-3dba76523854"
      },
      "source": [
        "corr = df2.corr()\n",
        "fig, ax1 = plt.subplots(1, figsize=(18, 10))\n",
        "sns.heatmap(corr, cmap=sns.diverging_palette(220, 10, as_cmap=True), annot=True, fmt=\".2f\")\n",
        "sns.set(font_scale=1.5)"
      ],
      "execution_count": null,
      "outputs": [
        {
          "output_type": "display_data",
          "data": {
            "image/png": "[encoded data removed]",
            "text/plain": [
              "<Figure size 1296x720 with 2 Axes>"
            ]
          },
          "metadata": {
            "tags": [],
            "needs_background": "light"
          }
        }
      ]
    },
    {
      "cell_type": "markdown",
      "metadata": {
        "id": "qcRsjcE95AjU"
      },
      "source": [
        "En general la mayoría de los features están muy relacionados con la salida, algunas clases como cp_0, cp_3, thal_0 están menos relacionadas (pero son parte de cp y thal)"
      ]
    },
    {
      "cell_type": "code",
      "metadata": {
        "id": "EdYvOLZw6FMX",
        "colab": {
          "base_uri": "https://localhost:8080/",
          "height": 593
        },
        "outputId": "db6b2a3f-01db-4c4b-a94a-1c6231cf6cbb"
      },
      "source": [
        "ct = pd.crosstab(df2['age'], df2['target'])\n",
        "ct.plot(kind=\"bar\",figsize=(16,9))\n",
        "plt.title('Edad vs Enfermedad cardíaca')\n",
        "plt.xlabel('Edad')\n",
        "plt.show()"
      ],
      "execution_count": null,
      "outputs": [
        {
          "output_type": "display_data",
          "data": {
            "image/png": "[encoded data removed]",
            "text/plain": [
              "<Figure size 1152x648 with 1 Axes>"
            ]
          },
          "metadata": {
            "tags": []
          }
        }
      ]
    },
    {
      "cell_type": "markdown",
      "metadata": {
        "id": "msrvfG_u9CjO"
      },
      "source": [
        "Según el análsis del gráfico anterior pareciera ser que las edades entre 40 y 50 años tiene mayor probabilidad de tener enfermedades cardíacas. ¿Será eso cierto? Por qué ya vimos que no había una alta correlación entre las edades y la salida.\n",
        "Analicemos la distribución de las edades \"puestas en observación\":"
      ]
    },
    {
      "cell_type": "code",
      "metadata": {
        "id": "NVtliTv38A9k",
        "colab": {
          "base_uri": "https://localhost:8080/",
          "height": 409
        },
        "outputId": "ff4a0dfc-0458-4d83-ec4d-e8212e110512"
      },
      "source": [
        "print(\"Promedio de las edades evaluadas:\", df2['age'].mean())\n",
        "\n",
        "ax = sns.distplot(df2['age'], kde=True, kde_kws={\"color\": \"red\", \"alpha\":0.6, \"linewidth\": 1, \"shade\":True })\n",
        "ax.set_title(\"Distribución de las edades en observación\", fontsize=16)\n",
        "ax.set_ylabel(\"Cantidad\", fontsize=12)\n",
        "ax.set_xlabel('Edad')"
      ],
      "execution_count": null,
      "outputs": [
        {
          "output_type": "stream",
          "text": [
            "Promedio de las edades evaluadas: 54.366336633663366\n"
          ],
          "name": "stdout"
        },
        {
          "output_type": "stream",
          "text": [
            "/usr/local/lib/python3.6/dist-packages/seaborn/distributions.py:2551: FutureWarning: `distplot` is a deprecated function and will be removed in a future version. Please adapt your code to use either `displot` (a figure-level function with similar flexibility) or `histplot` (an axes-level function for histograms).\n",
            "  warnings.warn(msg, FutureWarning)\n"
          ],
          "name": "stderr"
        },
        {
          "output_type": "execute_result",
          "data": {
            "text/plain": [
              "Text(0.5, 0, 'Edad')"
            ]
          },
          "metadata": {
            "tags": []
          },
          "execution_count": 19
        },
        {
          "output_type": "display_data",
          "data": {
            "image/png": "[encoded data removed]",
            "text/plain": [
              "<Figure size 432x288 with 1 Axes>"
            ]
          },
          "metadata": {
            "tags": []
          }
        }
      ]
    },
    {
      "cell_type": "markdown",
      "metadata": {
        "id": "CJ1cjf469mDI"
      },
      "source": [
        "Se puede ver que la mayoría de las personas puestas en observación son entre 50 y 60 años, no es una distribución uniforme. Es por esto que puede llegar a existir el sesgo en las edades que se alejan del promedio o mediana de esta distribución (hay que tener en cuenta que esto podría sesgar al algoritmo)."
      ]
    },
    {
      "cell_type": "markdown",
      "metadata": {
        "id": "gFbQkq59BMep"
      },
      "source": [
        "Mismo análisis pero ahora del sexo"
      ]
    },
    {
      "cell_type": "code",
      "metadata": {
        "id": "lAV4x9aVBQE-",
        "colab": {
          "base_uri": "https://localhost:8080/",
          "height": 384
        },
        "outputId": "f22fe42d-4c77-4fac-d3c8-3cda2af302cd"
      },
      "source": [
        "ct = pd.crosstab(df2['sex'].replace({0: 'femenino', 1: 'masculino'}), df2['target'])\n",
        "ct.plot(kind=\"bar\")\n",
        "plt.title('Sexo vs Enfermedad cardíaca')\n",
        "plt.xlabel('Sexo')\n",
        "plt.show()"
      ],
      "execution_count": null,
      "outputs": [
        {
          "output_type": "display_data",
          "data": {
            "image/png": "[encoded data removed]",
            "text/plain": [
              "<Figure size 432x288 with 1 Axes>"
            ]
          },
          "metadata": {
            "tags": []
          }
        }
      ]
    },
    {
      "cell_type": "markdown",
      "metadata": {
        "id": "UBsEUtQHBbKI"
      },
      "source": [
        "Pareciera ser que el sexo femenino tiene mayor tendencia a los ataques cardíacos, pero ¿están balanceadas las muestras respecto al sexo?"
      ]
    },
    {
      "cell_type": "code",
      "metadata": {
        "id": "NgpHESs2DPs3",
        "colab": {
          "base_uri": "https://localhost:8080/"
        },
        "outputId": "87edf808-07c2-4609-8fea-6056a84e1d9f"
      },
      "source": [
        "df2['sex'].replace({0: 'femenino', 1: 'masculino'}).value_counts()"
      ],
      "execution_count": null,
      "outputs": [
        {
          "output_type": "execute_result",
          "data": {
            "text/plain": [
              "masculino    207\n",
              "femenino      96\n",
              "Name: sex, dtype: int64"
            ]
          },
          "metadata": {
            "tags": []
          },
          "execution_count": 21
        }
      ]
    },
    {
      "cell_type": "markdown",
      "metadata": {
        "id": "iOV84oK4DZRb"
      },
      "source": [
        "Claramente no! Otro valor que podría sesgar al modelo."
      ]
    },
    {
      "cell_type": "markdown",
      "metadata": {
        "id": "Sw1iZdC9Dtd1"
      },
      "source": [
        "## 5 - Entrenar los modelos\n",
        "- Entrenar diferentes modelos y encontrar el mejor performante contra el dataset de test. Para eso se utilizarán los siguientes algoritmos de clasificación:\n",
        " - Decision Tree\n",
        " - Random Forest\n",
        " - Logistic Regresion\n",
        " - KNN\n",
        " - SVM Classifier\n",
        " - AdaBoost Classifier\n",
        " - XGBoost Classifier"
      ]
    },
    {
      "cell_type": "code",
      "metadata": {
        "id": "bPPq-_r1Fuxr"
      },
      "source": [
        "from sklearn import metrics\n",
        "from sklearn.tree import DecisionTreeClassifier\n",
        "from sklearn.ensemble  import RandomForestClassifier\n",
        "from sklearn.linear_model import LogisticRegression\n",
        "from sklearn.neighbors import KNeighborsClassifier\n",
        "from sklearn.svm import SVC\n",
        "from sklearn.ensemble  import AdaBoostClassifier\n",
        "import xgboost as xgb"
      ],
      "execution_count": null,
      "outputs": []
    },
    {
      "cell_type": "code",
      "metadata": {
        "id": "jkmTtJ3N_hdF"
      },
      "source": [
        "# Separar los datos de entrenamiento (train) y de prueba (test) 20%\n",
        "from sklearn.model_selection import train_test_split\n",
        "indices = np.arange(X.shape[0])\n",
        "X_train, X_test, y_train, y_test, index_train, index_test = train_test_split(X, y, indices, test_size=0.20, random_state=42)"
      ],
      "execution_count": null,
      "outputs": []
    },
    {
      "cell_type": "code",
      "metadata": {
        "colab": {
          "base_uri": "https://localhost:8080/"
        },
        "id": "Zo9TEPmvfUa-",
        "outputId": "43cb01ae-4b15-4e81-ffec-5ee0e00bf609"
      },
      "source": [
        "index_train[:10]"
      ],
      "execution_count": null,
      "outputs": [
        {
          "output_type": "execute_result",
          "data": {
            "text/plain": [
              "array([132, 202, 196,  75, 176,  59,  93,   6, 177,  30])"
            ]
          },
          "metadata": {
            "tags": []
          },
          "execution_count": 24
        }
      ]
    },
    {
      "cell_type": "code",
      "metadata": {
        "id": "vC2LQA_0g8G4"
      },
      "source": [
        "df_train = df2.loc[index_train, :]\r\n",
        "df_test =  df2.loc[index_test, :]\r\n",
        "\r\n",
        "df_train.to_csv(\"df_train.csv\", index = False)\r\n",
        "df_test.to_csv(\"df_test.csv\", index = False)"
      ],
      "execution_count": null,
      "outputs": []
    },
    {
      "cell_type": "code",
      "metadata": {
        "id": "O-5JAjxoAg3_"
      },
      "source": [
        "# Separar los datos de entrenamiento y valid para hyperparameter tunning\r\n",
        "X_train_tuning, X_valid_tuning, y_train_tuning, y_valid_tuning = train_test_split(X_train, y_train, test_size=0.20, random_state=42)"
      ],
      "execution_count": null,
      "outputs": []
    },
    {
      "cell_type": "code",
      "metadata": {
        "id": "PCp8X4DJAok2"
      },
      "source": [
        "classifier = []\r\n",
        "accuracy = []"
      ],
      "execution_count": null,
      "outputs": []
    },
    {
      "cell_type": "code",
      "metadata": {
        "id": "1mWX6RTEnHJi"
      },
      "source": [
        "class ModelCompare():\n",
        "    def __init__(self):\n",
        "        self.name = \"\"\n",
        "        self.model = None\n",
        "        self.accuracy = 0\n",
        "        self.f1_score = 0\n",
        "\n",
        "    def it2hp(self, it):\n",
        "        # itearation_to_hyperparameter\n",
        "        raise NotImplemented\n",
        "\n",
        "    def fit(self, X_train, y_train, hp):\n",
        "        raise NotImplemented\n",
        "    \n",
        "    def compare(self, X_train, y_train, X_test, y_test, iteration=100):\n",
        "        models = []\n",
        "\n",
        "        mean_acc = np.zeros((iteration))\n",
        "        std_acc = np.zeros((iteration))\n",
        "        f1_scores = np.zeros((iteration))\n",
        "\n",
        "        for it in range(iteration):\n",
        "            # Train de model\n",
        "            model = self.fit(X_train, y_train, self.it2hp(it+1))\n",
        "\n",
        "            # Predict\n",
        "            y_hat = model.predict(X_test)   \n",
        "\n",
        "            # Evaluar el modelo\n",
        "            mean_acc[it] = metrics.accuracy_score(y_test, y_hat)    \n",
        "            std_acc[it] = np.std(y_hat==y_test)/np.sqrt(y_hat.shape[0])\n",
        "            f1_scores[it] = metrics.f1_score(y_test, y_hat)\n",
        "            models.append(model)\n",
        "\n",
        "        plt.plot(range(1, iteration+1), mean_acc,'darkBlue')\n",
        "        plt.fill_between(range(1, iteration+1), mean_acc - 1 * std_acc, mean_acc + 1 * std_acc, alpha=0.10)\n",
        "        plt.legend(('Accuracy ', '+/- std'))\n",
        "        plt.ylabel('Accuracy ')\n",
        "        plt.xlabel('hp')\n",
        "        plt.tight_layout()\n",
        "        plt.show()\n",
        "\n",
        "        print(f\"La mejor exactitud se obtuvo con {mean_acc.max():.2f} con hp={self.it2hp(mean_acc.argmax()+1)}\")\n",
        "        print(f\"El mejor f1_score se obtuvo con {f1_scores.max():.2f} con hp={self.it2hp(mean_acc.argmax()+1)}\")\n",
        "        self.model = models[mean_acc.argmax()]\n",
        "        self.accuracy = mean_acc.max()\n",
        "        self.f1_score = f1_scores[mean_acc.argmax()]\n",
        "      \n",
        "\n",
        "class DecisionTreeCompare(ModelCompare):\n",
        "    def __init__(self):\n",
        "        super().__init__()\n",
        "        self.name = \"DecisionTreeClassifier\"\n",
        "    def it2hp(self, it):\n",
        "        # itearation_to_hyperparameter\n",
        "        return it\n",
        "\n",
        "    def fit(self, X_train, y_train, hp):\n",
        "        self.model = DecisionTreeClassifier(criterion=\"entropy\", max_depth = hp)\n",
        "        return self.model.fit(X_train,y_train)\n",
        "\n",
        "\n",
        "class RandomForestCompare(ModelCompare):\n",
        "    def __init__(self):\n",
        "        super().__init__()\n",
        "        self.name = \"RandomForestClassifier\"\n",
        "    def it2hp(self, it):\n",
        "        # itearation_to_hyperparameter\n",
        "        return it\n",
        "\n",
        "    def fit(self, X_train, y_train, hp):\n",
        "        self.model = RandomForestClassifier(n_estimators=hp, random_state=1, class_weight = 'balanced')\n",
        "        return self.model.fit(X_train,y_train)\n",
        "\n",
        "\n",
        "class LogisticRegresionCompare(ModelCompare):\n",
        "    def __init__(self):\n",
        "        super().__init__()\n",
        "        self.name = \"LogisticRegression\"\n",
        "    def it2hp(self, it):\n",
        "        # itearation_to_hyperparameter\n",
        "        return it / 100\n",
        "\n",
        "    def fit(self, X_train, y_train, hp):\n",
        "        self.model = LogisticRegression(C=hp, solver='sag')\n",
        "        return self.model.fit(X_train,y_train)\n",
        "\n",
        "\n",
        "class KNNCompare(ModelCompare):\n",
        "    def __init__(self):\n",
        "        super().__init__()\n",
        "        self.name = \"KNeighborsClassifier\"\n",
        "    def it2hp(self, it):\n",
        "        # itearation_to_hyperparameter\n",
        "        return it\n",
        "\n",
        "    def fit(self, X_train, y_train, hp):\n",
        "        self.model = KNeighborsClassifier(n_neighbors = hp)\n",
        "        return self.model.fit(X_train,y_train)\n",
        "\n",
        "\n",
        "class SVCCompare(ModelCompare):\n",
        "    def __init__(self):\n",
        "        super().__init__()\n",
        "        self.name = \"SupportVectorMachine\"\n",
        "    def it2hp(self, it):\n",
        "        # itearation_to_hyperparameter\n",
        "        return it\n",
        "\n",
        "    def fit(self, X_train, y_train, hp):\n",
        "        self.model = SVC()\n",
        "        return self.model.fit(X_train,y_train)\n",
        "\n",
        "class AdaBoostCompare(ModelCompare):\n",
        "    def __init__(self):\n",
        "        super().__init__()\n",
        "        self.name = \"AdaBoostClassifier\"\n",
        "    def it2hp(self, it):\n",
        "        # itearation_to_hyperparameter\n",
        "        return it\n",
        "\n",
        "    def fit(self, X_train, y_train, hp):\n",
        "        self.model = AdaBoostClassifier(n_estimators=hp)\n",
        "        return self.model.fit(X_train,y_train)\n",
        "\n",
        "class XGBoostCompare(ModelCompare):\n",
        "    def __init__(self):\n",
        "        super().__init__()\n",
        "        self.name = \"XGBClassifier\"\n",
        "    def it2hp(self, it):\n",
        "        # itearation_to_hyperparameter\n",
        "        return it\n",
        "\n",
        "    def fit(self, X_train, y_train, hp):\n",
        "        self.model = xgb.XGBClassifier(objective=\"binary:logistic\", n_estimators=hp, random_state=42)\n",
        "        return self.model.fit(X_train, y_train)"
      ],
      "execution_count": null,
      "outputs": []
    },
    {
      "cell_type": "code",
      "metadata": {
        "id": "k0CVvAq0WMwN",
        "colab": {
          "base_uri": "https://localhost:8080/",
          "height": 316
        },
        "outputId": "44abd136-3134-4b60-95c3-ce6653290227"
      },
      "source": [
        "model_compare = RandomForestCompare()\n",
        "model_compare.compare(X_train_tuning, y_train_tuning, X_valid_tuning, y_valid_tuning, 20)\n",
        "clf = model_compare.model"
      ],
      "execution_count": null,
      "outputs": [
        {
          "output_type": "display_data",
          "data": {
            "image/png": "[encoded data removed]",
            "text/plain": [
              "<Figure size 432x288 with 1 Axes>"
            ]
          },
          "metadata": {
            "tags": []
          }
        },
        {
          "output_type": "stream",
          "text": [
            "La mejor exactitud se obtuvo con 0.80 con hp=7\n",
            "El mejor f1_score se obtuvo con 0.80 con hp=7\n"
          ],
          "name": "stdout"
        }
      ]
    },
    {
      "cell_type": "markdown",
      "metadata": {
        "id": "QkN6PPhp3dEM"
      },
      "source": [
        "En la sección de conclusiones se compara este modelo con el resto"
      ]
    },
    {
      "cell_type": "markdown",
      "metadata": {
        "id": "voYx00cj-LEy"
      },
      "source": [
        "## 6 - Seleccionar de los hyperparámetros utilizando SearchCV"
      ]
    },
    {
      "cell_type": "markdown",
      "metadata": {
        "id": "ZUKzt3mQ260t"
      },
      "source": [
        "El objetivo es utiliza primero RandomizedSearchCV que lleva menos tiempo ejecutarlo. Con los parámetros obtenidos con RandomizedSearchCV se realizará una búsqueda más fina con GridSearchCV en torno a esos parámetros."
      ]
    },
    {
      "cell_type": "code",
      "metadata": {
        "id": "O5KNqDg2YcZy"
      },
      "source": [
        "from sklearn.model_selection import RandomizedSearchCV\n",
        "from sklearn.model_selection import cross_val_score\n",
        "from sklearn.model_selection import GridSearchCV\n",
        "import time\n",
        "\n",
        "parameters = {\n",
        "    'criterion': ['entropy', 'gini'],\n",
        "    'max_depth': list(range(5, 21, 3)) + [None],\n",
        "    'max_features': ['auto', 'sqrt', 'log2', None],\n",
        "    'min_samples_leaf': list(range(2, 11, 2)),\n",
        "    'min_samples_split': list(range(2, 11, 2)),\n",
        "    'n_estimators': list(range(10, 20))\n",
        "}"
      ],
      "execution_count": null,
      "outputs": []
    },
    {
      "cell_type": "code",
      "metadata": {
        "id": "0ndqSg12-_wi",
        "colab": {
          "base_uri": "https://localhost:8080/"
        },
        "outputId": "31f7b47f-3d59-470b-8cbb-d4f62245687e"
      },
      "source": [
        "start_time = time.time()\n",
        "clf_random = RandomizedSearchCV(estimator=RandomForestClassifier(), param_distributions=parameters, n_iter=100, random_state=0, n_jobs=-1, scoring=['accuracy'], refit='accuracy')\n",
        "clf_random.fit(X_train, y_train)\n",
        "print(\"seconds: \", (time.time() - start_time))\n",
        "clf_random.best_estimator_"
      ],
      "execution_count": null,
      "outputs": [
        {
          "output_type": "stream",
          "text": [
            "seconds:  9.082846879959106\n"
          ],
          "name": "stdout"
        },
        {
          "output_type": "execute_result",
          "data": {
            "text/plain": [
              "RandomForestClassifier(bootstrap=True, ccp_alpha=0.0, class_weight=None,\n",
              "                       criterion='gini', max_depth=5, max_features='sqrt',\n",
              "                       max_leaf_nodes=None, max_samples=None,\n",
              "                       min_impurity_decrease=0.0, min_impurity_split=None,\n",
              "                       min_samples_leaf=10, min_samples_split=2,\n",
              "                       min_weight_fraction_leaf=0.0, n_estimators=16,\n",
              "                       n_jobs=None, oob_score=False, random_state=None,\n",
              "                       verbose=0, warm_start=False)"
            ]
          },
          "metadata": {
            "tags": []
          },
          "execution_count": 53
        }
      ]
    },
    {
      "cell_type": "code",
      "metadata": {
        "id": "W_nd5KSb_uXH",
        "colab": {
          "base_uri": "https://localhost:8080/"
        },
        "outputId": "d180b2bf-0f62-44bb-d49e-452bc1405df6"
      },
      "source": [
        "clf_random.best_score_"
      ],
      "execution_count": null,
      "outputs": [
        {
          "output_type": "execute_result",
          "data": {
            "text/plain": [
              "0.8389455782312926"
            ]
          },
          "metadata": {
            "tags": []
          },
          "execution_count": 54
        }
      ]
    },
    {
      "cell_type": "markdown",
      "metadata": {
        "id": "Xt0lKrtY3OG6"
      },
      "source": [
        "Realizamos el análisis fino sobre el rango de parámetro que mejor resultado dio (un rango acotado) utilizando ahora GridSearchCV"
      ]
    },
    {
      "cell_type": "code",
      "metadata": {
        "id": "CvfwXaX0AYg4"
      },
      "source": [
        "reduce_parameters = {\n",
        "    'criterion': ['entropy'],\n",
        "    'max_depth': list(range(5, 11, 2)) + [None],\n",
        "    'max_features': ['sqrt'],\n",
        "    'min_samples_leaf': list(range(7, 13)),\n",
        "    'min_samples_split': list(range(6, 11)),\n",
        "    'n_estimators': list(range(10, 20))\n",
        "}"
      ],
      "execution_count": null,
      "outputs": []
    },
    {
      "cell_type": "code",
      "metadata": {
        "id": "vTt5pgCFYhLs",
        "colab": {
          "base_uri": "https://localhost:8080/"
        },
        "outputId": "1508cdff-7092-48a1-c594-98190f761a4c"
      },
      "source": [
        "start_time = time.time()\n",
        "clf_grid = GridSearchCV(estimator=RandomForestClassifier(), param_grid=reduce_parameters, n_jobs=-1, scoring=['accuracy'], refit='accuracy')\n",
        "clf_grid.fit(X_train, y_train)\n",
        "print(\"seconds:\", (time.time() - start_time))\n",
        "clf_grid.best_estimator_"
      ],
      "execution_count": null,
      "outputs": [
        {
          "output_type": "stream",
          "text": [
            "seconds: 93.87510561943054\n"
          ],
          "name": "stdout"
        },
        {
          "output_type": "execute_result",
          "data": {
            "text/plain": [
              "RandomForestClassifier(bootstrap=True, ccp_alpha=0.0, class_weight=None,\n",
              "                       criterion='entropy', max_depth=9, max_features='sqrt',\n",
              "                       max_leaf_nodes=None, max_samples=None,\n",
              "                       min_impurity_decrease=0.0, min_impurity_split=None,\n",
              "                       min_samples_leaf=8, min_samples_split=10,\n",
              "                       min_weight_fraction_leaf=0.0, n_estimators=18,\n",
              "                       n_jobs=None, oob_score=False, random_state=None,\n",
              "                       verbose=0, warm_start=False)"
            ]
          },
          "metadata": {
            "tags": []
          },
          "execution_count": 56
        }
      ]
    },
    {
      "cell_type": "code",
      "metadata": {
        "id": "RzkgmHwObplq",
        "colab": {
          "base_uri": "https://localhost:8080/"
        },
        "outputId": "5875cee0-4fae-4510-b79f-4df373017e3e"
      },
      "source": [
        "clf_grid.best_score_"
      ],
      "execution_count": null,
      "outputs": [
        {
          "output_type": "execute_result",
          "data": {
            "text/plain": [
              "0.8554421768707483"
            ]
          },
          "metadata": {
            "tags": []
          },
          "execution_count": 57
        }
      ]
    },
    {
      "cell_type": "markdown",
      "metadata": {
        "id": "KHP9Mkku3XAK"
      },
      "source": [
        "En la sección de conclusiones se compara este modelo con el resto"
      ]
    },
    {
      "cell_type": "markdown",
      "metadata": {
        "id": "vOjTBLeM9AJD"
      },
      "source": [
        "## 7 - Entrenar el modelo en Google Cloud Platform AutoML"
      ]
    },
    {
      "cell_type": "markdown",
      "metadata": {
        "id": "N4L2OlXj41Cz"
      },
      "source": [
        "Video tutorial de como se entrenó el modelo en la plataforma GCP\\\r\n",
        "https://drive.google.com/file/d/1UEy0VV1_2-ZCnrEKaBcYN8cgrWaLG4F5/view?usp=sharing"
      ]
    },
    {
      "cell_type": "code",
      "metadata": {
        "colab": {
          "base_uri": "https://localhost:8080/"
        },
        "id": "lq6sQxpV4Lry",
        "outputId": "a45c93f2-b93e-4a03-b445-f1d095ab3884"
      },
      "source": [
        "if os.access('google_predictions.csv', os.F_OK) is False:\r\n",
        "    if platform.system() == 'Windows':\r\n",
        "        !curl https://raw.githubusercontent.com/hernancontigiani/ceia_intro_ia/master/machine_learning_1/proyecto/google_predictions.csv > google_predictions.csv\r\n",
        "    else:\r\n",
        "        !wget google_predictions.csv https://raw.githubusercontent.com/hernancontigiani/ceia_intro_ia/master/machine_learning_1/proyecto/google_predictions.csv"
      ],
      "execution_count": null,
      "outputs": [
        {
          "output_type": "stream",
          "text": [
            "--2020-12-21 01:21:17--  http://google_predictions.csv/\n",
            "Resolving google_predictions.csv (google_predictions.csv)... failed: Name or service not known.\n",
            "wget: unable to resolve host address ‘google_predictions.csv’\n",
            "--2020-12-21 01:21:17--  https://raw.githubusercontent.com/hernancontigiani/ceia_intro_ia/master/machine_learning_1/proyecto/google_predictions.csv\n",
            "Resolving raw.githubusercontent.com (raw.githubusercontent.com)... 151.101.0.133, 151.101.64.133, 151.101.128.133, ...\n",
            "Connecting to raw.githubusercontent.com (raw.githubusercontent.com)|151.101.0.133|:443... connected.\n",
            "HTTP request sent, awaiting response... 200 OK\n",
            "Length: 5648 (5.5K) [text/plain]\n",
            "Saving to: ‘google_predictions.csv’\n",
            "\n",
            "\rgoogle_predictions.   0%[                    ]       0  --.-KB/s               \rgoogle_predictions. 100%[===================>]   5.52K  --.-KB/s    in 0s      \n",
            "\n",
            "2020-12-21 01:21:18 (86.6 MB/s) - ‘google_predictions.csv’ saved [5648/5648]\n",
            "\n",
            "FINISHED --2020-12-21 01:21:18--\n",
            "Total wall clock time: 0.1s\n",
            "Downloaded: 1 files, 5.5K in 0s (86.6 MB/s)\n"
          ],
          "name": "stdout"
        }
      ]
    },
    {
      "cell_type": "code",
      "metadata": {
        "id": "3-j8jH729AmE"
      },
      "source": [
        "# Predicciones descargadas del modelo entrenado en GCP\r\n",
        "google_result = pd.read_csv('google_predictions.csv')"
      ],
      "execution_count": null,
      "outputs": []
    },
    {
      "cell_type": "code",
      "metadata": {
        "colab": {
          "base_uri": "https://localhost:8080/",
          "height": 218
        },
        "id": "UutilVGuOcxy",
        "outputId": "d7b9d7cd-b7c4-449a-910d-242fbd927bbd"
      },
      "source": [
        "google_result.head()"
      ],
      "execution_count": null,
      "outputs": [
        {
          "output_type": "execute_result",
          "data": {
            "text/html": [
              "<div>\n",
              "<style scoped>\n",
              "    .dataframe tbody tr th:only-of-type {\n",
              "        vertical-align: middle;\n",
              "    }\n",
              "\n",
              "    .dataframe tbody tr th {\n",
              "        vertical-align: top;\n",
              "    }\n",
              "\n",
              "    .dataframe thead th {\n",
              "        text-align: right;\n",
              "    }\n",
              "</style>\n",
              "<table border=\"1\" class=\"dataframe\">\n",
              "  <thead>\n",
              "    <tr style=\"text-align: right;\">\n",
              "      <th></th>\n",
              "      <th>age</th>\n",
              "      <th>ca</th>\n",
              "      <th>chol</th>\n",
              "      <th>cp_0</th>\n",
              "      <th>cp_1</th>\n",
              "      <th>cp_2</th>\n",
              "      <th>cp_3</th>\n",
              "      <th>exang</th>\n",
              "      <th>fbs</th>\n",
              "      <th>oldpeak</th>\n",
              "      <th>restecg</th>\n",
              "      <th>sex</th>\n",
              "      <th>slope_0</th>\n",
              "      <th>slope_1</th>\n",
              "      <th>slope_2</th>\n",
              "      <th>thal_0</th>\n",
              "      <th>thal_1</th>\n",
              "      <th>thal_2</th>\n",
              "      <th>thal_3</th>\n",
              "      <th>thalach</th>\n",
              "      <th>trestbps</th>\n",
              "      <th>target_1_score</th>\n",
              "      <th>target_0_score</th>\n",
              "    </tr>\n",
              "  </thead>\n",
              "  <tbody>\n",
              "    <tr>\n",
              "      <th>0</th>\n",
              "      <td>44</td>\n",
              "      <td>0</td>\n",
              "      <td>263</td>\n",
              "      <td>0</td>\n",
              "      <td>1</td>\n",
              "      <td>0</td>\n",
              "      <td>0</td>\n",
              "      <td>0</td>\n",
              "      <td>0</td>\n",
              "      <td>0.0</td>\n",
              "      <td>1</td>\n",
              "      <td>1</td>\n",
              "      <td>0</td>\n",
              "      <td>0</td>\n",
              "      <td>1</td>\n",
              "      <td>0</td>\n",
              "      <td>0</td>\n",
              "      <td>0</td>\n",
              "      <td>1</td>\n",
              "      <td>173</td>\n",
              "      <td>120</td>\n",
              "      <td>0.794597</td>\n",
              "      <td>0.205403</td>\n",
              "    </tr>\n",
              "    <tr>\n",
              "      <th>1</th>\n",
              "      <td>58</td>\n",
              "      <td>2</td>\n",
              "      <td>225</td>\n",
              "      <td>1</td>\n",
              "      <td>0</td>\n",
              "      <td>0</td>\n",
              "      <td>0</td>\n",
              "      <td>1</td>\n",
              "      <td>1</td>\n",
              "      <td>2.8</td>\n",
              "      <td>0</td>\n",
              "      <td>0</td>\n",
              "      <td>0</td>\n",
              "      <td>1</td>\n",
              "      <td>0</td>\n",
              "      <td>0</td>\n",
              "      <td>1</td>\n",
              "      <td>0</td>\n",
              "      <td>0</td>\n",
              "      <td>146</td>\n",
              "      <td>170</td>\n",
              "      <td>0.062175</td>\n",
              "      <td>0.937825</td>\n",
              "    </tr>\n",
              "    <tr>\n",
              "      <th>2</th>\n",
              "      <td>54</td>\n",
              "      <td>2</td>\n",
              "      <td>286</td>\n",
              "      <td>1</td>\n",
              "      <td>0</td>\n",
              "      <td>0</td>\n",
              "      <td>0</td>\n",
              "      <td>1</td>\n",
              "      <td>0</td>\n",
              "      <td>3.2</td>\n",
              "      <td>0</td>\n",
              "      <td>1</td>\n",
              "      <td>0</td>\n",
              "      <td>1</td>\n",
              "      <td>0</td>\n",
              "      <td>0</td>\n",
              "      <td>0</td>\n",
              "      <td>1</td>\n",
              "      <td>0</td>\n",
              "      <td>116</td>\n",
              "      <td>122</td>\n",
              "      <td>0.039363</td>\n",
              "      <td>0.960637</td>\n",
              "    </tr>\n",
              "    <tr>\n",
              "      <th>3</th>\n",
              "      <td>46</td>\n",
              "      <td>0</td>\n",
              "      <td>204</td>\n",
              "      <td>0</td>\n",
              "      <td>1</td>\n",
              "      <td>0</td>\n",
              "      <td>0</td>\n",
              "      <td>0</td>\n",
              "      <td>0</td>\n",
              "      <td>0.0</td>\n",
              "      <td>1</td>\n",
              "      <td>0</td>\n",
              "      <td>0</td>\n",
              "      <td>0</td>\n",
              "      <td>1</td>\n",
              "      <td>0</td>\n",
              "      <td>0</td>\n",
              "      <td>1</td>\n",
              "      <td>0</td>\n",
              "      <td>172</td>\n",
              "      <td>105</td>\n",
              "      <td>0.979908</td>\n",
              "      <td>0.020092</td>\n",
              "    </tr>\n",
              "    <tr>\n",
              "      <th>4</th>\n",
              "      <td>40</td>\n",
              "      <td>0</td>\n",
              "      <td>167</td>\n",
              "      <td>1</td>\n",
              "      <td>0</td>\n",
              "      <td>0</td>\n",
              "      <td>0</td>\n",
              "      <td>1</td>\n",
              "      <td>0</td>\n",
              "      <td>2.0</td>\n",
              "      <td>0</td>\n",
              "      <td>1</td>\n",
              "      <td>0</td>\n",
              "      <td>1</td>\n",
              "      <td>0</td>\n",
              "      <td>0</td>\n",
              "      <td>0</td>\n",
              "      <td>0</td>\n",
              "      <td>1</td>\n",
              "      <td>114</td>\n",
              "      <td>110</td>\n",
              "      <td>0.094548</td>\n",
              "      <td>0.905452</td>\n",
              "    </tr>\n",
              "  </tbody>\n",
              "</table>\n",
              "</div>"
            ],
            "text/plain": [
              "   age  ca  chol  cp_0  ...  thalach  trestbps  target_1_score  target_0_score\n",
              "0   44   0   263     0  ...      173       120        0.794597        0.205403\n",
              "1   58   2   225     1  ...      146       170        0.062175        0.937825\n",
              "2   54   2   286     1  ...      116       122        0.039363        0.960637\n",
              "3   46   0   204     0  ...      172       105        0.979908        0.020092\n",
              "4   40   0   167     1  ...      114       110        0.094548        0.905452\n",
              "\n",
              "[5 rows x 23 columns]"
            ]
          },
          "metadata": {
            "tags": []
          },
          "execution_count": 33
        }
      ]
    },
    {
      "cell_type": "code",
      "metadata": {
        "id": "mAQEt9tDWj6h"
      },
      "source": [
        "# Unir con el dataset de test para obtener nuevamente la columna \"test\"\r\n",
        "cols = ['age','ca','chol','cp_0','cp_1','cp_2','cp_3','exang','fbs','oldpeak','restecg','sex','slope_0','slope_1','slope_2','thal_0','thal_1','thal_2','thal_3','thalach','trestbps']\r\n",
        "gcp_merged_inner = pd.merge(how='left',left=google_result, right=df_test, left_on=cols, right_on=cols)"
      ],
      "execution_count": null,
      "outputs": []
    },
    {
      "cell_type": "code",
      "metadata": {
        "colab": {
          "base_uri": "https://localhost:8080/",
          "height": 218
        },
        "id": "jaJajYAsXvWw",
        "outputId": "5c9d6cbd-5e53-46b6-ae81-ef8d9ded62d7"
      },
      "source": [
        "gcp_merged_inner.head()"
      ],
      "execution_count": null,
      "outputs": [
        {
          "output_type": "execute_result",
          "data": {
            "text/html": [
              "<div>\n",
              "<style scoped>\n",
              "    .dataframe tbody tr th:only-of-type {\n",
              "        vertical-align: middle;\n",
              "    }\n",
              "\n",
              "    .dataframe tbody tr th {\n",
              "        vertical-align: top;\n",
              "    }\n",
              "\n",
              "    .dataframe thead th {\n",
              "        text-align: right;\n",
              "    }\n",
              "</style>\n",
              "<table border=\"1\" class=\"dataframe\">\n",
              "  <thead>\n",
              "    <tr style=\"text-align: right;\">\n",
              "      <th></th>\n",
              "      <th>age</th>\n",
              "      <th>ca</th>\n",
              "      <th>chol</th>\n",
              "      <th>cp_0</th>\n",
              "      <th>cp_1</th>\n",
              "      <th>cp_2</th>\n",
              "      <th>cp_3</th>\n",
              "      <th>exang</th>\n",
              "      <th>fbs</th>\n",
              "      <th>oldpeak</th>\n",
              "      <th>restecg</th>\n",
              "      <th>sex</th>\n",
              "      <th>slope_0</th>\n",
              "      <th>slope_1</th>\n",
              "      <th>slope_2</th>\n",
              "      <th>thal_0</th>\n",
              "      <th>thal_1</th>\n",
              "      <th>thal_2</th>\n",
              "      <th>thal_3</th>\n",
              "      <th>thalach</th>\n",
              "      <th>trestbps</th>\n",
              "      <th>target_1_score</th>\n",
              "      <th>target_0_score</th>\n",
              "      <th>target</th>\n",
              "    </tr>\n",
              "  </thead>\n",
              "  <tbody>\n",
              "    <tr>\n",
              "      <th>0</th>\n",
              "      <td>44</td>\n",
              "      <td>0</td>\n",
              "      <td>263</td>\n",
              "      <td>0</td>\n",
              "      <td>1</td>\n",
              "      <td>0</td>\n",
              "      <td>0</td>\n",
              "      <td>0</td>\n",
              "      <td>0</td>\n",
              "      <td>0.0</td>\n",
              "      <td>1</td>\n",
              "      <td>1</td>\n",
              "      <td>0</td>\n",
              "      <td>0</td>\n",
              "      <td>1</td>\n",
              "      <td>0</td>\n",
              "      <td>0</td>\n",
              "      <td>0</td>\n",
              "      <td>1</td>\n",
              "      <td>173</td>\n",
              "      <td>120</td>\n",
              "      <td>0.794597</td>\n",
              "      <td>0.205403</td>\n",
              "      <td>1</td>\n",
              "    </tr>\n",
              "    <tr>\n",
              "      <th>1</th>\n",
              "      <td>58</td>\n",
              "      <td>2</td>\n",
              "      <td>225</td>\n",
              "      <td>1</td>\n",
              "      <td>0</td>\n",
              "      <td>0</td>\n",
              "      <td>0</td>\n",
              "      <td>1</td>\n",
              "      <td>1</td>\n",
              "      <td>2.8</td>\n",
              "      <td>0</td>\n",
              "      <td>0</td>\n",
              "      <td>0</td>\n",
              "      <td>1</td>\n",
              "      <td>0</td>\n",
              "      <td>0</td>\n",
              "      <td>1</td>\n",
              "      <td>0</td>\n",
              "      <td>0</td>\n",
              "      <td>146</td>\n",
              "      <td>170</td>\n",
              "      <td>0.062175</td>\n",
              "      <td>0.937825</td>\n",
              "      <td>0</td>\n",
              "    </tr>\n",
              "    <tr>\n",
              "      <th>2</th>\n",
              "      <td>54</td>\n",
              "      <td>2</td>\n",
              "      <td>286</td>\n",
              "      <td>1</td>\n",
              "      <td>0</td>\n",
              "      <td>0</td>\n",
              "      <td>0</td>\n",
              "      <td>1</td>\n",
              "      <td>0</td>\n",
              "      <td>3.2</td>\n",
              "      <td>0</td>\n",
              "      <td>1</td>\n",
              "      <td>0</td>\n",
              "      <td>1</td>\n",
              "      <td>0</td>\n",
              "      <td>0</td>\n",
              "      <td>0</td>\n",
              "      <td>1</td>\n",
              "      <td>0</td>\n",
              "      <td>116</td>\n",
              "      <td>122</td>\n",
              "      <td>0.039363</td>\n",
              "      <td>0.960637</td>\n",
              "      <td>0</td>\n",
              "    </tr>\n",
              "    <tr>\n",
              "      <th>3</th>\n",
              "      <td>46</td>\n",
              "      <td>0</td>\n",
              "      <td>204</td>\n",
              "      <td>0</td>\n",
              "      <td>1</td>\n",
              "      <td>0</td>\n",
              "      <td>0</td>\n",
              "      <td>0</td>\n",
              "      <td>0</td>\n",
              "      <td>0.0</td>\n",
              "      <td>1</td>\n",
              "      <td>0</td>\n",
              "      <td>0</td>\n",
              "      <td>0</td>\n",
              "      <td>1</td>\n",
              "      <td>0</td>\n",
              "      <td>0</td>\n",
              "      <td>1</td>\n",
              "      <td>0</td>\n",
              "      <td>172</td>\n",
              "      <td>105</td>\n",
              "      <td>0.979908</td>\n",
              "      <td>0.020092</td>\n",
              "      <td>1</td>\n",
              "    </tr>\n",
              "    <tr>\n",
              "      <th>4</th>\n",
              "      <td>40</td>\n",
              "      <td>0</td>\n",
              "      <td>167</td>\n",
              "      <td>1</td>\n",
              "      <td>0</td>\n",
              "      <td>0</td>\n",
              "      <td>0</td>\n",
              "      <td>1</td>\n",
              "      <td>0</td>\n",
              "      <td>2.0</td>\n",
              "      <td>0</td>\n",
              "      <td>1</td>\n",
              "      <td>0</td>\n",
              "      <td>1</td>\n",
              "      <td>0</td>\n",
              "      <td>0</td>\n",
              "      <td>0</td>\n",
              "      <td>0</td>\n",
              "      <td>1</td>\n",
              "      <td>114</td>\n",
              "      <td>110</td>\n",
              "      <td>0.094548</td>\n",
              "      <td>0.905452</td>\n",
              "      <td>0</td>\n",
              "    </tr>\n",
              "  </tbody>\n",
              "</table>\n",
              "</div>"
            ],
            "text/plain": [
              "   age  ca  chol  cp_0  ...  trestbps  target_1_score  target_0_score  target\n",
              "0   44   0   263     0  ...       120        0.794597        0.205403       1\n",
              "1   58   2   225     1  ...       170        0.062175        0.937825       0\n",
              "2   54   2   286     1  ...       122        0.039363        0.960637       0\n",
              "3   46   0   204     0  ...       105        0.979908        0.020092       1\n",
              "4   40   0   167     1  ...       110        0.094548        0.905452       0\n",
              "\n",
              "[5 rows x 24 columns]"
            ]
          },
          "metadata": {
            "tags": []
          },
          "execution_count": 35
        }
      ]
    },
    {
      "cell_type": "code",
      "metadata": {
        "id": "VJHVqAoHOgQn"
      },
      "source": [
        "# Obtene el valor real de referencia y la predicción para evaluar el accuracy\r\n",
        "y_test_gcp = gcp_merged_inner['target'].values\r\n",
        "gcp_results_prob = gcp_merged_inner[['target_0_score', 'target_1_score']].values\r\n",
        "y_hat_gcp = np.argmax(gcp_results_prob, axis=1)"
      ],
      "execution_count": null,
      "outputs": []
    },
    {
      "cell_type": "markdown",
      "metadata": {
        "id": "IGr0TXPm3fmO"
      },
      "source": [
        "En la sección de conclusiones se compara este modelo con el resto"
      ]
    },
    {
      "cell_type": "markdown",
      "metadata": {
        "id": "aHPV5JOy5Dtc"
      },
      "source": [
        "## 8 - Entrenar el modelo en Azure AutoML"
      ]
    },
    {
      "cell_type": "markdown",
      "metadata": {
        "id": "W-XStdbK4_YB"
      },
      "source": [
        "Video tutorial de como se entrenó el modelo en la plataforma Azure\\\r\n",
        "Parte 1:\\\r\n",
        "https://drive.google.com/file/d/1UbtKOAq71Wzjh-pqSykr2dAIAcCrRMeT/view?usp=sharing \\\r\n",
        "Parte 2:\\\r\n",
        "https://drive.google.com/file/d/1YEzN8mQZMeVQnUUYXZyMV44KQvknS9Yu/view?usp=sharing"
      ]
    },
    {
      "cell_type": "markdown",
      "metadata": {
        "id": "ZTinkLc56J_E"
      },
      "source": [
        "El modelo que mejor resultado obtuvo Azure fue con XGBoost con 0.847 de accuracy"
      ]
    },
    {
      "cell_type": "markdown",
      "metadata": {
        "id": "XhGIp-zW6qiN"
      },
      "source": [
        "<img src=\"https://github.com/hernancontigiani/ceia_intro_ia/raw/master/machine_learning_1/proyecto/azure_model.png\" width=\"1000\" align=\"center\">"
      ]
    },
    {
      "cell_type": "markdown",
      "metadata": {
        "id": "sIJlqZo97Psy"
      },
      "source": [
        "Métricas tomadas de la plataforma"
      ]
    },
    {
      "cell_type": "markdown",
      "metadata": {
        "id": "khy5Z3ym7SeR"
      },
      "source": [
        "<img src=\"https://github.com/hernancontigiani/ceia_intro_ia/raw/master/machine_learning_1/proyecto/azure_metrics.png\" width=\"1000\" align=\"center\">"
      ]
    },
    {
      "cell_type": "code",
      "metadata": {
        "id": "wlGxUF3j6S31"
      },
      "source": [
        "azure_accuracy = 0.847"
      ],
      "execution_count": null,
      "outputs": []
    },
    {
      "cell_type": "markdown",
      "metadata": {
        "id": "Gp1ERkSkEeoW"
      },
      "source": [
        "## 9 - Comparar los modelos generados"
      ]
    },
    {
      "cell_type": "code",
      "metadata": {
        "colab": {
          "base_uri": "https://localhost:8080/"
        },
        "id": "VRbrzYA1Eila",
        "outputId": "93c2cd4b-c2f5-4f20-f613-0ac8c4fdb9e1"
      },
      "source": [
        "# Métricas del tuneo de hyperparámetros a mano\r\n",
        "y_hat = clf.predict(X_test)\r\n",
        "print(\"Resultado de la selección básica de n_estimator:\", metrics.accuracy_score(y_test, y_hat))"
      ],
      "execution_count": null,
      "outputs": [
        {
          "output_type": "stream",
          "text": [
            "Resultado de la selección básica de n_estimator: 0.7868852459016393\n"
          ],
          "name": "stdout"
        }
      ]
    },
    {
      "cell_type": "code",
      "metadata": {
        "colab": {
          "base_uri": "https://localhost:8080/"
        },
        "id": "qr-yA6JrEnZh",
        "outputId": "d8394766-9116-49c7-af82-644b6c863f18"
      },
      "source": [
        "# Métricas del tuneo de hyperparámetros inteligente\r\n",
        "y_hat = clf_grid.predict(X_test)\r\n",
        "print(\"Resultado de la selección inteligente de los HP:\", metrics.accuracy_score(y_test, y_hat))"
      ],
      "execution_count": null,
      "outputs": [
        {
          "output_type": "stream",
          "text": [
            "Resultado de la selección inteligente de los HP: 0.8524590163934426\n"
          ],
          "name": "stdout"
        }
      ]
    },
    {
      "cell_type": "code",
      "metadata": {
        "colab": {
          "base_uri": "https://localhost:8080/"
        },
        "id": "dMASTgA4PXl9",
        "outputId": "14222074-24fa-40fc-d2f8-ba15d7905d38"
      },
      "source": [
        "# Métricas utilizando AutoML de GCP\r\n",
        "print(\"Resultado utilizando AutoML de GCP:\", metrics.accuracy_score(y_test_gcp, y_hat_gcp))"
      ],
      "execution_count": null,
      "outputs": [
        {
          "output_type": "stream",
          "text": [
            "Resultado utilizando AutoML de GCP: 0.8852459016393442\n"
          ],
          "name": "stdout"
        }
      ]
    },
    {
      "cell_type": "code",
      "metadata": {
        "colab": {
          "base_uri": "https://localhost:8080/"
        },
        "id": "WFmOw4066WKK",
        "outputId": "1ab3048e-0ca1-4f35-809c-e69e51c9420f"
      },
      "source": [
        "# Métricas utilizando AutoML de Azure\r\n",
        "print(\"Resultado utilizando AutoML de Azure:\", azure_accuracy)"
      ],
      "execution_count": null,
      "outputs": [
        {
          "output_type": "stream",
          "text": [
            "Resultado utilizando AutoML de Azure: 0.847\n"
          ],
          "name": "stdout"
        }
      ]
    },
    {
      "cell_type": "markdown",
      "metadata": {
        "id": "-snzWkIv9_xI"
      },
      "source": [
        "## 10 - Conclusiones\n",
        "En el desarrollo de este notebook se puede ver de la ventaja del tuneo de hiperparámetros. Se mejoró bastante el accuracy del modelo utilizando las técnicas de SearchCV que utilizamos en ML2.\\\n",
        "Por otro lado, otro salto de performance aparece al utilizar las herramientas cloud de AutoML, ya que estos servicios realizan un proceso exhaustivo de búsqueda (1 hora) del mejor modelo variando entre clasificadores y tuneo de hiperparámetros alcanzo un mejor resultado.\\\n",
        "De ahora en más utilizaré las técnicas vistas en la cursada para el tuneo de hiperparámetros."
      ]
    }
  ]
}